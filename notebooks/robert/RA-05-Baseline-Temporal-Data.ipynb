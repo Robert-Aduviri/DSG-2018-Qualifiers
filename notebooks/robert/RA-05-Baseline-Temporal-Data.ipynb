{
 "cells": [
  {
   "cell_type": "code",
   "execution_count": 1,
   "metadata": {},
   "outputs": [],
   "source": [
    "%load_ext autoreload\n",
    "%autoreload 2\n",
    "%matplotlib inline\n",
    "%config InlineBackend.figure_format = 'retina'\n",
    "\n",
    "import os, math\n",
    "import numpy as np, pandas as pd\n",
    "import matplotlib.pyplot as plt, seaborn as sns\n",
    "from pandas_summary import DataFrameSummary\n",
    "from tqdm import tqdm, tqdm_notebook\n",
    "from pathlib import Path\n",
    "pd.set_option('display.max_columns', 1000)\n",
    "pd.set_option('display.max_rows', 400)\n",
    "sns.set()\n",
    "\n",
    "os.chdir('../..')\n",
    "from src import utils"
   ]
  },
  {
   "cell_type": "code",
   "execution_count": 55,
   "metadata": {},
   "outputs": [],
   "source": [
    "DATA      = Path('data')\n",
    "RAW       = DATA/'raw'\n",
    "INTERIM   = DATA/'interim'\n",
    "PROCESSED = DATA/'processed'\n",
    "SUBMISSIONS = DATA/'submissions'"
   ]
  },
  {
   "cell_type": "code",
   "execution_count": 3,
   "metadata": {},
   "outputs": [],
   "source": [
    "challenge  = pd.read_csv(RAW/'Challenge_20180423.csv', low_memory=False)\n",
    "customer   = pd.read_csv(RAW/'Customer.csv', low_memory=False)\n",
    "isin       = pd.read_csv(RAW/'Isin.csv', low_memory=False)\n",
    "submission = pd.read_csv(RAW/'sample_submission.csv', low_memory=False)\n",
    "trade      = pd.read_csv(RAW/'Trade.csv', low_memory=False)"
   ]
  },
  {
   "cell_type": "code",
   "execution_count": 18,
   "metadata": {},
   "outputs": [],
   "source": [
    "train = pd.read_feather(PROCESSED/'thursday_datediffs.feather')\n",
    "val   = pd.read_feather(PROCESSED/'friday_datediffs.feather')\n",
    "test  = pd.read_feather(PROCESSED/'test_datediffs.feather')"
   ]
  },
  {
   "cell_type": "code",
   "execution_count": 8,
   "metadata": {},
   "outputs": [],
   "source": [
    "cat_cols = ['BuySell', 'Sector', 'Subsector', 'Region_x', 'Country', \n",
    "            'TickerIdx', 'Seniority', 'Currency', 'ActivityGroup', \n",
    "            'Region_y', 'Activity', 'RiskCaptain', 'Owner', 'CompositeRating', \n",
    "            'IndustrySector', 'IndustrySubgroup', 'MarketIssue', 'CouponType']"
   ]
  },
  {
   "cell_type": "code",
   "execution_count": 19,
   "metadata": {},
   "outputs": [],
   "source": [
    "from src.utils import preprocessing_pipeline\n",
    "test  = preprocessing_pipeline(test, customer, isin, trade)\n",
    "val   = preprocessing_pipeline(val, customer, isin, trade)\n",
    "train = preprocessing_pipeline(train, customer, isin, trade)"
   ]
  },
  {
   "cell_type": "code",
   "execution_count": 29,
   "metadata": {},
   "outputs": [],
   "source": [
    "id_cols = ['TradeDateKey', 'CustomerIdx', 'IsinIdx']\n",
    "target_col = 'CustomerInterest'\n",
    "pred_col = 'PredictionIdx'"
   ]
  },
  {
   "cell_type": "code",
   "execution_count": 28,
   "metadata": {},
   "outputs": [
    {
     "data": {
      "text/plain": [
       "((486338, 29), (487172, 29), (484758, 30))"
      ]
     },
     "execution_count": 28,
     "metadata": {},
     "output_type": "execute_result"
    }
   ],
   "source": [
    "train.shape, val.shape, test.shape"
   ]
  },
  {
   "cell_type": "code",
   "execution_count": 27,
   "metadata": {},
   "outputs": [],
   "source": [
    "val.drop('index', axis=1, inplace=True)\n",
    "test.drop('DateKey', axis=1, inplace=True)"
   ]
  },
  {
   "cell_type": "markdown",
   "metadata": {},
   "source": [
    "## Preprocessing"
   ]
  },
  {
   "cell_type": "code",
   "execution_count": 31,
   "metadata": {},
   "outputs": [],
   "source": [
    "from src.utils import apply_cats\n",
    "for col in cat_cols:\n",
    "    test[col] = test[col].astype('category').cat.as_ordered()\n",
    "apply_cats(train, test)\n",
    "apply_cats(val, test)"
   ]
  },
  {
   "cell_type": "code",
   "execution_count": 32,
   "metadata": {},
   "outputs": [],
   "source": [
    "for col in cat_cols:\n",
    "    train[col] = train[col].cat.codes\n",
    "    val[col] = val[col].cat.codes\n",
    "    test[col] = test[col].cat.codes"
   ]
  },
  {
   "cell_type": "markdown",
   "metadata": {},
   "source": [
    "## Model"
   ]
  },
  {
   "cell_type": "code",
   "execution_count": 33,
   "metadata": {},
   "outputs": [],
   "source": [
    "import time, pprint\n",
    "\n",
    "pp = pprint.PrettyPrinter(indent=3)"
   ]
  },
  {
   "cell_type": "code",
   "execution_count": 41,
   "metadata": {},
   "outputs": [],
   "source": [
    "from sklearn.metrics import roc_auc_score\n",
    "\n",
    "# globals: [cat_indices]\n",
    "def fit_model(model, model_name, X_trn, y_trn, X_val, y_val):\n",
    "    if model_name in ['XGBClassifier', 'LGBMClassifier']:\n",
    "        model.fit(X_trn, y_trn, \n",
    "                  eval_set=[(X_val, y_val)],\n",
    "                  early_stopping_rounds=30,\n",
    "                  eval_metric='auc')\n",
    "    elif model_name == 'CatBoostClassifier':\n",
    "        model.fit(X_trn, y_trn, \n",
    "                  eval_set=[(X_val, y_val)],\n",
    "                  use_best_model=True,\n",
    "                  cat_features=cat_indices)\n",
    "    else:\n",
    "        model.fit(X_trn, y_trn)\n",
    "        \n",
    "def calculate_metrics(model, metrics, X_trn, y_trn, X_val, y_val):\n",
    "    metric_function = {'auc': roc_auc_score}\n",
    "    dset = {'trn': {'X': X_trn, 'y': y_trn},\n",
    "            'val': {'X': X_val, 'y': y_val}}\n",
    "    \n",
    "    for d in dset:\n",
    "        y_pred = model.predict_proba(dset[d]['X'])[:,1]\n",
    "        for m in metrics:\n",
    "            metrics[m][d] += [metric_function[m](dset[d]['y'], y_pred)]\n",
    "                \n",
    "    pp.pprint(metrics)\n",
    "    print()"
   ]
  },
  {
   "cell_type": "code",
   "execution_count": 42,
   "metadata": {},
   "outputs": [],
   "source": [
    "# globals: [kfolds]\n",
    "def run_model(model, X_train, y_train, X_val, y_val, X_test, \n",
    "              metric_names, results=None, dataset_desc='', params_desc=''):\n",
    "    model_name = str(model.__class__).split('.')[-1].replace('>','').replace(\"'\",'')\n",
    "    print(model_name, '\\n')\n",
    "    if results is None: results = pd.DataFrame()\n",
    "    metrics = {metric: {'trn': [], 'val': []} for metric in metric_names}\n",
    "    y_test = np.zeros((len(X_test)))\n",
    "    start = time.time()\n",
    "    \n",
    "    fit_model(model, model_name, X_train, y_train, X_val, y_val)\n",
    "    calculate_metrics(model, metrics, X_train, y_train, X_val, y_val)\n",
    "    y_test = model.predict_proba(X_test)[:,1]\n",
    "            \n",
    "    end = time.time()\n",
    "    means = {f'{d}_{m}_mean': np.mean(metrics[m][d]) for m in metrics \\\n",
    "                                                     for d in metrics[m]}\n",
    "    stds  = {f'{d}_{m}_std': np.std(metrics[m][d]) for m in metrics \\\n",
    "                                                     for d in metrics[m]}\n",
    "    metadata = {'model': model_name, 'dataset': dataset_desc,\n",
    "                'params': params_desc, 'time': round(end - start, 2)}\n",
    "    pp.pprint(means)\n",
    "    results = results.append(pd.Series({**metadata, **means, **stds}), ignore_index=True)\n",
    "    return y_test, metrics, results"
   ]
  },
  {
   "cell_type": "code",
   "execution_count": 43,
   "metadata": {},
   "outputs": [],
   "source": [
    "from lightgbm import LGBMClassifier"
   ]
  },
  {
   "cell_type": "code",
   "execution_count": 44,
   "metadata": {},
   "outputs": [],
   "source": [
    "metric_names = ['auc']"
   ]
  },
  {
   "cell_type": "code",
   "execution_count": 45,
   "metadata": {},
   "outputs": [
    {
     "name": "stdout",
     "output_type": "stream",
     "text": [
      "LGBMClassifier \n",
      "\n",
      "[1]\tvalid_0's auc: 0.741553\n",
      "Training until validation scores don't improve for 30 rounds.\n",
      "[2]\tvalid_0's auc: 0.744723\n",
      "[3]\tvalid_0's auc: 0.744732\n",
      "[4]\tvalid_0's auc: 0.745221\n",
      "[5]\tvalid_0's auc: 0.744875\n",
      "[6]\tvalid_0's auc: 0.745217\n",
      "[7]\tvalid_0's auc: 0.745576\n",
      "[8]\tvalid_0's auc: 0.745646\n",
      "[9]\tvalid_0's auc: 0.745685\n",
      "[10]\tvalid_0's auc: 0.746635\n",
      "[11]\tvalid_0's auc: 0.746615\n",
      "[12]\tvalid_0's auc: 0.74715\n",
      "[13]\tvalid_0's auc: 0.747248\n",
      "[14]\tvalid_0's auc: 0.74723\n",
      "[15]\tvalid_0's auc: 0.74724\n",
      "[16]\tvalid_0's auc: 0.74967\n",
      "[17]\tvalid_0's auc: 0.749886\n",
      "[18]\tvalid_0's auc: 0.749753\n",
      "[19]\tvalid_0's auc: 0.749695\n",
      "[20]\tvalid_0's auc: 0.750647\n",
      "[21]\tvalid_0's auc: 0.751103\n",
      "[22]\tvalid_0's auc: 0.751521\n",
      "[23]\tvalid_0's auc: 0.75182\n",
      "[24]\tvalid_0's auc: 0.75224\n",
      "[25]\tvalid_0's auc: 0.752271\n",
      "[26]\tvalid_0's auc: 0.752359\n",
      "[27]\tvalid_0's auc: 0.7531\n",
      "[28]\tvalid_0's auc: 0.753542\n",
      "[29]\tvalid_0's auc: 0.753873\n",
      "[30]\tvalid_0's auc: 0.753999\n",
      "[31]\tvalid_0's auc: 0.754725\n",
      "[32]\tvalid_0's auc: 0.754648\n",
      "[33]\tvalid_0's auc: 0.754707\n",
      "[34]\tvalid_0's auc: 0.755103\n",
      "[35]\tvalid_0's auc: 0.755871\n",
      "[36]\tvalid_0's auc: 0.757007\n",
      "[37]\tvalid_0's auc: 0.757218\n",
      "[38]\tvalid_0's auc: 0.761619\n",
      "[39]\tvalid_0's auc: 0.763578\n",
      "[40]\tvalid_0's auc: 0.764027\n",
      "[41]\tvalid_0's auc: 0.764436\n",
      "[42]\tvalid_0's auc: 0.764583\n",
      "[43]\tvalid_0's auc: 0.7642\n",
      "[44]\tvalid_0's auc: 0.764622\n",
      "[45]\tvalid_0's auc: 0.764984\n",
      "[46]\tvalid_0's auc: 0.765375\n",
      "[47]\tvalid_0's auc: 0.765464\n",
      "[48]\tvalid_0's auc: 0.765744\n",
      "[49]\tvalid_0's auc: 0.765981\n",
      "[50]\tvalid_0's auc: 0.765905\n",
      "[51]\tvalid_0's auc: 0.766147\n",
      "[52]\tvalid_0's auc: 0.766034\n",
      "[53]\tvalid_0's auc: 0.767088\n",
      "[54]\tvalid_0's auc: 0.767238\n",
      "[55]\tvalid_0's auc: 0.767666\n",
      "[56]\tvalid_0's auc: 0.768155\n",
      "[57]\tvalid_0's auc: 0.768386\n",
      "[58]\tvalid_0's auc: 0.768148\n",
      "[59]\tvalid_0's auc: 0.76824\n",
      "[60]\tvalid_0's auc: 0.768555\n",
      "[61]\tvalid_0's auc: 0.768824\n",
      "[62]\tvalid_0's auc: 0.769043\n",
      "[63]\tvalid_0's auc: 0.769921\n",
      "[64]\tvalid_0's auc: 0.769787\n",
      "[65]\tvalid_0's auc: 0.770313\n",
      "[66]\tvalid_0's auc: 0.770295\n",
      "[67]\tvalid_0's auc: 0.770019\n",
      "[68]\tvalid_0's auc: 0.77022\n",
      "[69]\tvalid_0's auc: 0.769978\n",
      "[70]\tvalid_0's auc: 0.770077\n",
      "[71]\tvalid_0's auc: 0.769943\n",
      "[72]\tvalid_0's auc: 0.770083\n",
      "[73]\tvalid_0's auc: 0.770172\n",
      "[74]\tvalid_0's auc: 0.770204\n",
      "[75]\tvalid_0's auc: 0.770851\n",
      "[76]\tvalid_0's auc: 0.770927\n",
      "[77]\tvalid_0's auc: 0.771709\n",
      "[78]\tvalid_0's auc: 0.771971\n",
      "[79]\tvalid_0's auc: 0.771934\n",
      "[80]\tvalid_0's auc: 0.772496\n",
      "[81]\tvalid_0's auc: 0.772429\n",
      "[82]\tvalid_0's auc: 0.772485\n",
      "[83]\tvalid_0's auc: 0.772621\n",
      "[84]\tvalid_0's auc: 0.772454\n",
      "[85]\tvalid_0's auc: 0.772391\n",
      "[86]\tvalid_0's auc: 0.772672\n",
      "[87]\tvalid_0's auc: 0.773\n",
      "[88]\tvalid_0's auc: 0.772962\n",
      "[89]\tvalid_0's auc: 0.773907\n",
      "[90]\tvalid_0's auc: 0.773935\n",
      "[91]\tvalid_0's auc: 0.773849\n",
      "[92]\tvalid_0's auc: 0.773936\n",
      "[93]\tvalid_0's auc: 0.773852\n",
      "[94]\tvalid_0's auc: 0.77397\n",
      "[95]\tvalid_0's auc: 0.773903\n",
      "[96]\tvalid_0's auc: 0.773778\n",
      "[97]\tvalid_0's auc: 0.773883\n",
      "[98]\tvalid_0's auc: 0.77387\n",
      "[99]\tvalid_0's auc: 0.773868\n",
      "[100]\tvalid_0's auc: 0.773596\n",
      "[101]\tvalid_0's auc: 0.773736\n",
      "[102]\tvalid_0's auc: 0.773782\n",
      "[103]\tvalid_0's auc: 0.773714\n",
      "[104]\tvalid_0's auc: 0.773573\n",
      "[105]\tvalid_0's auc: 0.773567\n",
      "[106]\tvalid_0's auc: 0.773543\n",
      "[107]\tvalid_0's auc: 0.774095\n",
      "[108]\tvalid_0's auc: 0.773859\n",
      "[109]\tvalid_0's auc: 0.773688\n",
      "[110]\tvalid_0's auc: 0.773767\n",
      "[111]\tvalid_0's auc: 0.773903\n",
      "[112]\tvalid_0's auc: 0.773962\n",
      "[113]\tvalid_0's auc: 0.774043\n",
      "[114]\tvalid_0's auc: 0.774202\n",
      "[115]\tvalid_0's auc: 0.774168\n",
      "[116]\tvalid_0's auc: 0.774202\n",
      "[117]\tvalid_0's auc: 0.774281\n",
      "[118]\tvalid_0's auc: 0.774483\n",
      "[119]\tvalid_0's auc: 0.774603\n",
      "[120]\tvalid_0's auc: 0.774547\n",
      "[121]\tvalid_0's auc: 0.774551\n",
      "[122]\tvalid_0's auc: 0.774501\n",
      "[123]\tvalid_0's auc: 0.774441\n",
      "[124]\tvalid_0's auc: 0.774459\n",
      "[125]\tvalid_0's auc: 0.774553\n",
      "[126]\tvalid_0's auc: 0.774454\n",
      "[127]\tvalid_0's auc: 0.7744\n",
      "[128]\tvalid_0's auc: 0.774381\n",
      "[129]\tvalid_0's auc: 0.774401\n",
      "[130]\tvalid_0's auc: 0.774414\n",
      "[131]\tvalid_0's auc: 0.77455\n",
      "[132]\tvalid_0's auc: 0.774432\n",
      "[133]\tvalid_0's auc: 0.774141\n",
      "[134]\tvalid_0's auc: 0.774095\n",
      "[135]\tvalid_0's auc: 0.774128\n",
      "[136]\tvalid_0's auc: 0.774121\n",
      "[137]\tvalid_0's auc: 0.774256\n",
      "[138]\tvalid_0's auc: 0.77402\n",
      "[139]\tvalid_0's auc: 0.773974\n",
      "[140]\tvalid_0's auc: 0.77387\n",
      "[141]\tvalid_0's auc: 0.773963\n",
      "[142]\tvalid_0's auc: 0.774077\n",
      "[143]\tvalid_0's auc: 0.774264\n",
      "[144]\tvalid_0's auc: 0.774233\n",
      "[145]\tvalid_0's auc: 0.774249\n",
      "[146]\tvalid_0's auc: 0.774261\n",
      "[147]\tvalid_0's auc: 0.774311\n",
      "[148]\tvalid_0's auc: 0.774245\n",
      "[149]\tvalid_0's auc: 0.774327\n",
      "Early stopping, best iteration is:\n",
      "[119]\tvalid_0's auc: 0.774603\n",
      "{'auc': {'trn': [0.8985266844661665], 'val': [0.7746028872401467]}}\n",
      "\n",
      "{'trn_auc_mean': 0.8985266844661665, 'val_auc_mean': 0.7746028872401467}\n",
      "CPU times: user 34.2 s, sys: 488 ms, total: 34.7 s\n",
      "Wall time: 7.24 s\n"
     ]
    }
   ],
   "source": [
    "%%time\n",
    "y_test, metrics, results = run_model(\n",
    "            LGBMClassifier(n_estimators=1000),\n",
    "            train.drop(id_cols + [target_col], axis=1),\n",
    "            train[target_col],\n",
    "            val.drop(id_cols + [target_col], axis=1),\n",
    "            val[target_col],\n",
    "            test.drop(id_cols + [target_col, pred_col], axis=1),\n",
    "            metric_names, None, \n",
    "            params_desc='default',\n",
    "            dataset_desc='metadata-only')"
   ]
  },
  {
   "cell_type": "code",
   "execution_count": 47,
   "metadata": {},
   "outputs": [
    {
     "data": {
      "text/html": [
       "<div>\n",
       "<style scoped>\n",
       "    .dataframe tbody tr th:only-of-type {\n",
       "        vertical-align: middle;\n",
       "    }\n",
       "\n",
       "    .dataframe tbody tr th {\n",
       "        vertical-align: top;\n",
       "    }\n",
       "\n",
       "    .dataframe thead th {\n",
       "        text-align: right;\n",
       "    }\n",
       "</style>\n",
       "<table border=\"1\" class=\"dataframe\">\n",
       "  <thead>\n",
       "    <tr style=\"text-align: right;\">\n",
       "      <th></th>\n",
       "      <th>dataset</th>\n",
       "      <th>model</th>\n",
       "      <th>params</th>\n",
       "      <th>time</th>\n",
       "      <th>trn_auc_mean</th>\n",
       "      <th>trn_auc_std</th>\n",
       "      <th>val_auc_mean</th>\n",
       "      <th>val_auc_std</th>\n",
       "    </tr>\n",
       "  </thead>\n",
       "  <tbody>\n",
       "    <tr>\n",
       "      <th>0</th>\n",
       "      <td>metadata-only</td>\n",
       "      <td>LGBMClassifier</td>\n",
       "      <td>default</td>\n",
       "      <td>7.18</td>\n",
       "      <td>0.898527</td>\n",
       "      <td>0.0</td>\n",
       "      <td>0.774603</td>\n",
       "      <td>0.0</td>\n",
       "    </tr>\n",
       "  </tbody>\n",
       "</table>\n",
       "</div>"
      ],
      "text/plain": [
       "         dataset           model   params  time  trn_auc_mean  trn_auc_std  \\\n",
       "0  metadata-only  LGBMClassifier  default  7.18      0.898527          0.0   \n",
       "\n",
       "   val_auc_mean  val_auc_std  \n",
       "0      0.774603          0.0  "
      ]
     },
     "execution_count": 47,
     "metadata": {},
     "output_type": "execute_result"
    }
   ],
   "source": [
    "results"
   ]
  },
  {
   "cell_type": "code",
   "execution_count": 49,
   "metadata": {},
   "outputs": [],
   "source": [
    "test[target_col] = y_test"
   ]
  },
  {
   "cell_type": "markdown",
   "metadata": {},
   "source": [
    "## Submission"
   ]
  },
  {
   "cell_type": "code",
   "execution_count": 50,
   "metadata": {},
   "outputs": [],
   "source": [
    "submission = pd.read_csv(RAW/'sample_submission.csv', low_memory=False)\n",
    "submission = pd.merge(submission[['PredictionIdx']], test[['PredictionIdx', target_col]], how='left', on='PredictionIdx')"
   ]
  },
  {
   "cell_type": "code",
   "execution_count": 52,
   "metadata": {},
   "outputs": [
    {
     "data": {
      "text/plain": [
       "count    484758.000000\n",
       "mean          0.004684\n",
       "std           0.008822\n",
       "min           0.000173\n",
       "25%           0.000843\n",
       "50%           0.002007\n",
       "75%           0.006896\n",
       "max           0.740771\n",
       "Name: CustomerInterest, dtype: float64"
      ]
     },
     "execution_count": 52,
     "metadata": {},
     "output_type": "execute_result"
    }
   ],
   "source": [
    "submission[target_col].describe()"
   ]
  },
  {
   "cell_type": "code",
   "execution_count": 53,
   "metadata": {},
   "outputs": [
    {
     "data": {
      "text/html": [
       "<div>\n",
       "<style scoped>\n",
       "    .dataframe tbody tr th:only-of-type {\n",
       "        vertical-align: middle;\n",
       "    }\n",
       "\n",
       "    .dataframe tbody tr th {\n",
       "        vertical-align: top;\n",
       "    }\n",
       "\n",
       "    .dataframe thead th {\n",
       "        text-align: right;\n",
       "    }\n",
       "</style>\n",
       "<table border=\"1\" class=\"dataframe\">\n",
       "  <thead>\n",
       "    <tr style=\"text-align: right;\">\n",
       "      <th></th>\n",
       "      <th>PredictionIdx</th>\n",
       "      <th>CustomerInterest</th>\n",
       "    </tr>\n",
       "  </thead>\n",
       "  <tbody>\n",
       "    <tr>\n",
       "      <th>0</th>\n",
       "      <td>a1e0d80784</td>\n",
       "      <td>0.007894</td>\n",
       "    </tr>\n",
       "    <tr>\n",
       "      <th>1</th>\n",
       "      <td>c2cc6cc2a8</td>\n",
       "      <td>0.006900</td>\n",
       "    </tr>\n",
       "    <tr>\n",
       "      <th>2</th>\n",
       "      <td>a8e94f6344</td>\n",
       "      <td>0.006347</td>\n",
       "    </tr>\n",
       "    <tr>\n",
       "      <th>3</th>\n",
       "      <td>758bae1e35</td>\n",
       "      <td>0.009346</td>\n",
       "    </tr>\n",
       "    <tr>\n",
       "      <th>4</th>\n",
       "      <td>02ab378ee8</td>\n",
       "      <td>0.004371</td>\n",
       "    </tr>\n",
       "  </tbody>\n",
       "</table>\n",
       "</div>"
      ],
      "text/plain": [
       "  PredictionIdx  CustomerInterest\n",
       "0    a1e0d80784          0.007894\n",
       "1    c2cc6cc2a8          0.006900\n",
       "2    a8e94f6344          0.006347\n",
       "3    758bae1e35          0.009346\n",
       "4    02ab378ee8          0.004371"
      ]
     },
     "execution_count": 53,
     "metadata": {},
     "output_type": "execute_result"
    }
   ],
   "source": [
    "submission.head()"
   ]
  },
  {
   "cell_type": "code",
   "execution_count": 56,
   "metadata": {},
   "outputs": [],
   "source": [
    "submission.to_csv(SUBMISSIONS/'lgbm_datediffs.csv', index=False)"
   ]
  }
 ],
 "metadata": {
  "kernelspec": {
   "display_name": "Python 3",
   "language": "python",
   "name": "python3"
  },
  "language_info": {
   "codemirror_mode": {
    "name": "ipython",
    "version": 3
   },
   "file_extension": ".py",
   "mimetype": "text/x-python",
   "name": "python",
   "nbconvert_exporter": "python",
   "pygments_lexer": "ipython3",
   "version": "3.6.4"
  }
 },
 "nbformat": 4,
 "nbformat_minor": 2
}
