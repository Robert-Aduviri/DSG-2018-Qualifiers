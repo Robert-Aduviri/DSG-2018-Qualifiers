{
 "cells": [
  {
   "cell_type": "code",
   "execution_count": 1,
   "metadata": {},
   "outputs": [],
   "source": [
    "%load_ext autoreload\n",
    "%autoreload 2\n",
    "%matplotlib inline\n",
    "%config InlineBackend.figure_format = 'retina'\n",
    "\n",
    "import os, math\n",
    "import numpy as np, pandas as pd\n",
    "import matplotlib.pyplot as plt, seaborn as sns\n",
    "from pandas_summary import DataFrameSummary\n",
    "from tqdm import tqdm, tqdm_notebook\n",
    "from pathlib import Path\n",
    "pd.set_option('display.max_columns', 1000)\n",
    "pd.set_option('display.max_rows', 400)\n",
    "sns.set()\n",
    "\n",
    "os.chdir('../..')\n",
    "from src import utils"
   ]
  },
  {
   "cell_type": "code",
   "execution_count": 2,
   "metadata": {},
   "outputs": [],
   "source": [
    "DATA        = Path('data')\n",
    "RAW         = DATA/'raw'\n",
    "INTERIM     = DATA/'interim'\n",
    "PROCESSED   = DATA/'processed'\n",
    "SUBMISSIONS = DATA/'submissions'"
   ]
  },
  {
   "cell_type": "code",
   "execution_count": 3,
   "metadata": {},
   "outputs": [],
   "source": [
    "challenge  = pd.read_csv(RAW/'Challenge_20180423.csv', low_memory=False)\n",
    "customer   = pd.read_csv(RAW/'Customer.csv', low_memory=False)\n",
    "isin       = pd.read_csv(RAW/'Isin.csv', low_memory=False)\n",
    "submission = pd.read_csv(RAW/'sample_submission.csv', low_memory=False)\n",
    "trade      = pd.read_csv(RAW/'Trade.csv', low_memory=False)"
   ]
  },
  {
   "cell_type": "code",
   "execution_count": 4,
   "metadata": {},
   "outputs": [],
   "source": [
    "from src.utils import make_val_set"
   ]
  },
  {
   "cell_type": "code",
   "execution_count": 5,
   "metadata": {},
   "outputs": [
    {
     "name": "stdout",
     "output_type": "stream",
     "text": [
      "CPU times: user 31.1 s, sys: 136 ms, total: 31.3 s\n",
      "Wall time: 31.3 s\n"
     ]
    }
   ],
   "source": [
    "%%time\n",
    "week_0416 = make_val_set(trade[trade.TradeDateKey >= 20180416],\n",
    "                         challenge)"
   ]
  },
  {
   "cell_type": "code",
   "execution_count": 6,
   "metadata": {},
   "outputs": [
    {
     "data": {
      "text/plain": [
       "0.0    476311\n",
       "1.0     17279\n",
       "Name: CustomerInterest, dtype: int64"
      ]
     },
     "execution_count": 6,
     "metadata": {},
     "output_type": "execute_result"
    }
   ],
   "source": [
    "week_0416.CustomerInterest.value_counts()"
   ]
  },
  {
   "cell_type": "code",
   "execution_count": 7,
   "metadata": {},
   "outputs": [
    {
     "data": {
      "text/plain": [
       "0.03500678700946129"
      ]
     },
     "execution_count": 7,
     "metadata": {},
     "output_type": "execute_result"
    }
   ],
   "source": [
    "# 3.5 % of positive labels in val set\n",
    "17279 / len(week_0416)"
   ]
  },
  {
   "cell_type": "code",
   "execution_count": 8,
   "metadata": {},
   "outputs": [
    {
     "name": "stdout",
     "output_type": "stream",
     "text": [
      "CPU times: user 31.2 s, sys: 100 ms, total: 31.3 s\n",
      "Wall time: 31.3 s\n"
     ]
    }
   ],
   "source": [
    "%%time\n",
    "week_0409 = make_val_set(trade[(trade.TradeDateKey >= 20180409) &\n",
    "                               (trade.TradeDateKey <  20180416)],\n",
    "                         challenge)"
   ]
  },
  {
   "cell_type": "code",
   "execution_count": 9,
   "metadata": {},
   "outputs": [
    {
     "data": {
      "text/plain": [
       "0.0    475374\n",
       "1.0     17532\n",
       "Name: CustomerInterest, dtype: int64"
      ]
     },
     "execution_count": 9,
     "metadata": {},
     "output_type": "execute_result"
    }
   ],
   "source": [
    "week_0409.CustomerInterest.value_counts()"
   ]
  },
  {
   "cell_type": "code",
   "execution_count": 10,
   "metadata": {},
   "outputs": [
    {
     "data": {
      "text/plain": [
       "0.035568647977504836"
      ]
     },
     "execution_count": 10,
     "metadata": {},
     "output_type": "execute_result"
    }
   ],
   "source": [
    "# 3.55 % of positive labels in train set\n",
    "17532 / len(week_0409)"
   ]
  },
  {
   "cell_type": "code",
   "execution_count": 11,
   "metadata": {},
   "outputs": [],
   "source": [
    "cat_cols = ['BuySell', 'Sector', 'Subsector', 'Region_x', 'Country', \n",
    "            'TickerIdx', 'Seniority', 'Currency', 'ActivityGroup', \n",
    "            'Region_y', 'Activity', 'RiskCaptain', 'Owner', 'CompositeRating', \n",
    "            'IndustrySector', 'IndustrySubgroup', 'MarketIssue', 'CouponType']"
   ]
  },
  {
   "cell_type": "code",
   "execution_count": 12,
   "metadata": {},
   "outputs": [],
   "source": [
    "from src.utils import add_datediffs"
   ]
  },
  {
   "cell_type": "code",
   "execution_count": 13,
   "metadata": {},
   "outputs": [
    {
     "name": "stdout",
     "output_type": "stream",
     "text": [
      "CPU times: user 1min 23s, sys: 316 ms, total: 1min 24s\n",
      "Wall time: 1min 24s\n"
     ]
    }
   ],
   "source": [
    "%%time\n",
    "add_datediffs(week_0409, trade[trade.TradeDateKey > 20180000])\n",
    "add_datediffs(week_0416, trade[trade.TradeDateKey > 20180000])"
   ]
  },
  {
   "cell_type": "code",
   "execution_count": 14,
   "metadata": {},
   "outputs": [],
   "source": [
    "week_0409.reset_index().to_feather(PROCESSED/'week_0409_val.feather')\n",
    "week_0416.reset_index().to_feather(PROCESSED/'week_0416_val.feather')"
   ]
  },
  {
   "cell_type": "markdown",
   "metadata": {},
   "source": [
    "## Train/val/test"
   ]
  },
  {
   "cell_type": "code",
   "execution_count": 15,
   "metadata": {},
   "outputs": [],
   "source": [
    "train = week_0409\n",
    "val   = week_0416\n",
    "test  = pd.read_feather(PROCESSED/'test_datediffs.feather')"
   ]
  },
  {
   "cell_type": "code",
   "execution_count": 16,
   "metadata": {},
   "outputs": [],
   "source": [
    "from src.utils import preprocessing_pipeline\n",
    "test  = preprocessing_pipeline(test, customer, isin, trade)\n",
    "val   = preprocessing_pipeline(val, customer, isin, trade)\n",
    "train = preprocessing_pipeline(train, customer, isin, trade)"
   ]
  },
  {
   "cell_type": "code",
   "execution_count": 17,
   "metadata": {},
   "outputs": [],
   "source": [
    "id_cols = ['TradeDateKey', 'CustomerIdx', 'IsinIdx']\n",
    "target_col = 'CustomerInterest'\n",
    "pred_col = 'PredictionIdx'"
   ]
  },
  {
   "cell_type": "code",
   "execution_count": 18,
   "metadata": {},
   "outputs": [],
   "source": [
    "test.drop('DateKey', axis=1, inplace=True)"
   ]
  },
  {
   "cell_type": "code",
   "execution_count": 19,
   "metadata": {},
   "outputs": [
    {
     "data": {
      "text/plain": [
       "((492906, 29), (493590, 29), (484758, 30))"
      ]
     },
     "execution_count": 19,
     "metadata": {},
     "output_type": "execute_result"
    }
   ],
   "source": [
    "train.shape, val.shape, test.shape"
   ]
  },
  {
   "cell_type": "markdown",
   "metadata": {},
   "source": [
    "## Preprocessing"
   ]
  },
  {
   "cell_type": "code",
   "execution_count": 20,
   "metadata": {},
   "outputs": [],
   "source": [
    "from src.utils import apply_cats\n",
    "for col in cat_cols:\n",
    "    test[col] = test[col].astype('category').cat.as_ordered()\n",
    "apply_cats(train, test)\n",
    "apply_cats(val, test)"
   ]
  },
  {
   "cell_type": "code",
   "execution_count": 21,
   "metadata": {},
   "outputs": [],
   "source": [
    "for col in cat_cols:\n",
    "    train[col] = train[col].cat.codes\n",
    "    val[col] = val[col].cat.codes\n",
    "    test[col] = test[col].cat.codes"
   ]
  },
  {
   "cell_type": "markdown",
   "metadata": {},
   "source": [
    "## Model"
   ]
  },
  {
   "cell_type": "code",
   "execution_count": 22,
   "metadata": {},
   "outputs": [],
   "source": [
    "import time, pprint\n",
    "pp = pprint.PrettyPrinter(indent=3)"
   ]
  },
  {
   "cell_type": "code",
   "execution_count": 23,
   "metadata": {},
   "outputs": [],
   "source": [
    "from sklearn.metrics import roc_auc_score\n",
    "\n",
    "# globals: [cat_indices]\n",
    "def fit_model(model, model_name, X_trn, y_trn, X_val, y_val):\n",
    "    if model_name in ['XGBClassifier', 'LGBMClassifier']:\n",
    "        model.fit(X_trn, y_trn, \n",
    "                  eval_set=[(X_val, y_val)],\n",
    "                  early_stopping_rounds=30,\n",
    "                  eval_metric='auc')\n",
    "    elif model_name == 'CatBoostClassifier':\n",
    "        model.fit(X_trn, y_trn, \n",
    "                  eval_set=[(X_val, y_val)],\n",
    "                  use_best_model=True,\n",
    "                  cat_features=cat_indices)\n",
    "    else:\n",
    "        model.fit(X_trn, y_trn)\n",
    "        \n",
    "def calculate_metrics(model, metrics, X_trn, y_trn, X_val, y_val):\n",
    "    metric_function = {'auc': roc_auc_score}\n",
    "    dset = {'trn': {'X': X_trn, 'y': y_trn},\n",
    "            'val': {'X': X_val, 'y': y_val}}\n",
    "    \n",
    "    for d in dset:\n",
    "        y_pred = model.predict_proba(dset[d]['X'])[:,1]\n",
    "        for m in metrics:\n",
    "            metrics[m][d] += [metric_function[m](dset[d]['y'], y_pred)]\n",
    "                \n",
    "    pp.pprint(metrics)\n",
    "    print()"
   ]
  },
  {
   "cell_type": "code",
   "execution_count": 24,
   "metadata": {},
   "outputs": [],
   "source": [
    "def run_model(model, X_train, y_train, X_val, y_val, X_test, \n",
    "              metric_names, results=None, dataset_desc='', params_desc=''):\n",
    "    model_name = str(model.__class__).split('.')[-1].replace('>','').replace(\"'\",'')\n",
    "    print(model_name, '\\n')\n",
    "    if results is None: results = pd.DataFrame()\n",
    "    metrics = {metric: {'trn': [], 'val': []} for metric in metric_names}\n",
    "    y_test = np.zeros((len(X_test)))\n",
    "    start = time.time()\n",
    "    \n",
    "    fit_model(model, model_name, X_train, y_train, X_val, y_val)\n",
    "    calculate_metrics(model, metrics, X_train, y_train, X_val, y_val)\n",
    "    y_test = model.predict_proba(X_test)[:,1]\n",
    "            \n",
    "    end = time.time()\n",
    "    means = {f'{d}_{m}_mean': np.mean(metrics[m][d]) for m in metrics \\\n",
    "                                                     for d in metrics[m]}\n",
    "    stds  = {f'{d}_{m}_std': np.std(metrics[m][d]) for m in metrics \\\n",
    "                                                     for d in metrics[m]}\n",
    "    metadata = {'model': model_name, 'dataset': dataset_desc,\n",
    "                'params': params_desc, 'time': round(end - start, 2)}\n",
    "    pp.pprint(means)\n",
    "    results = results.append(pd.Series({**metadata, **means, **stds}), ignore_index=True)\n",
    "    return y_test, metrics, results, model"
   ]
  },
  {
   "cell_type": "code",
   "execution_count": 25,
   "metadata": {},
   "outputs": [],
   "source": [
    "from lightgbm import LGBMClassifier\n",
    "metric_names = ['auc']"
   ]
  },
  {
   "cell_type": "code",
   "execution_count": 30,
   "metadata": {},
   "outputs": [
    {
     "name": "stdout",
     "output_type": "stream",
     "text": [
      "LGBMClassifier \n",
      "\n",
      "[1]\tvalid_0's auc: 0.710341\n",
      "Training until validation scores don't improve for 30 rounds.\n",
      "[2]\tvalid_0's auc: 0.713879\n",
      "[3]\tvalid_0's auc: 0.715493\n",
      "[4]\tvalid_0's auc: 0.715745\n",
      "[5]\tvalid_0's auc: 0.716249\n",
      "[6]\tvalid_0's auc: 0.717218\n",
      "[7]\tvalid_0's auc: 0.716961\n",
      "[8]\tvalid_0's auc: 0.717076\n",
      "[9]\tvalid_0's auc: 0.717012\n",
      "[10]\tvalid_0's auc: 0.718282\n",
      "[11]\tvalid_0's auc: 0.722244\n",
      "[12]\tvalid_0's auc: 0.722388\n",
      "[13]\tvalid_0's auc: 0.723009\n",
      "[14]\tvalid_0's auc: 0.723447\n",
      "[15]\tvalid_0's auc: 0.723379\n",
      "[16]\tvalid_0's auc: 0.723424\n",
      "[17]\tvalid_0's auc: 0.723724\n",
      "[18]\tvalid_0's auc: 0.724602\n",
      "[19]\tvalid_0's auc: 0.724979\n",
      "[20]\tvalid_0's auc: 0.724764\n",
      "[21]\tvalid_0's auc: 0.725522\n",
      "[22]\tvalid_0's auc: 0.72634\n",
      "[23]\tvalid_0's auc: 0.726645\n",
      "[24]\tvalid_0's auc: 0.726865\n",
      "[25]\tvalid_0's auc: 0.727343\n",
      "[26]\tvalid_0's auc: 0.727477\n",
      "[27]\tvalid_0's auc: 0.72806\n",
      "[28]\tvalid_0's auc: 0.728749\n",
      "[29]\tvalid_0's auc: 0.728842\n",
      "[30]\tvalid_0's auc: 0.729482\n",
      "[31]\tvalid_0's auc: 0.729735\n",
      "[32]\tvalid_0's auc: 0.729898\n",
      "[33]\tvalid_0's auc: 0.730389\n",
      "[34]\tvalid_0's auc: 0.730897\n",
      "[35]\tvalid_0's auc: 0.73118\n",
      "[36]\tvalid_0's auc: 0.731727\n",
      "[37]\tvalid_0's auc: 0.732038\n",
      "[38]\tvalid_0's auc: 0.732256\n",
      "[39]\tvalid_0's auc: 0.732747\n",
      "[40]\tvalid_0's auc: 0.733004\n",
      "[41]\tvalid_0's auc: 0.733457\n",
      "[42]\tvalid_0's auc: 0.7347\n",
      "[43]\tvalid_0's auc: 0.735011\n",
      "[44]\tvalid_0's auc: 0.735201\n",
      "[45]\tvalid_0's auc: 0.735244\n",
      "[46]\tvalid_0's auc: 0.735206\n",
      "[47]\tvalid_0's auc: 0.735462\n",
      "[48]\tvalid_0's auc: 0.735623\n",
      "[49]\tvalid_0's auc: 0.735858\n",
      "[50]\tvalid_0's auc: 0.736211\n",
      "[51]\tvalid_0's auc: 0.736584\n",
      "[52]\tvalid_0's auc: 0.736638\n",
      "[53]\tvalid_0's auc: 0.736778\n",
      "[54]\tvalid_0's auc: 0.737142\n",
      "[55]\tvalid_0's auc: 0.737052\n",
      "[56]\tvalid_0's auc: 0.737188\n",
      "[57]\tvalid_0's auc: 0.737452\n",
      "[58]\tvalid_0's auc: 0.737408\n",
      "[59]\tvalid_0's auc: 0.73771\n",
      "[60]\tvalid_0's auc: 0.737818\n",
      "[61]\tvalid_0's auc: 0.737715\n",
      "[62]\tvalid_0's auc: 0.73805\n",
      "[63]\tvalid_0's auc: 0.738105\n",
      "[64]\tvalid_0's auc: 0.738197\n",
      "[65]\tvalid_0's auc: 0.738328\n",
      "[66]\tvalid_0's auc: 0.738724\n",
      "[67]\tvalid_0's auc: 0.738742\n",
      "[68]\tvalid_0's auc: 0.73883\n",
      "[69]\tvalid_0's auc: 0.738868\n",
      "[70]\tvalid_0's auc: 0.738912\n",
      "[71]\tvalid_0's auc: 0.739149\n",
      "[72]\tvalid_0's auc: 0.738986\n",
      "[73]\tvalid_0's auc: 0.739164\n",
      "[74]\tvalid_0's auc: 0.739705\n",
      "[75]\tvalid_0's auc: 0.739768\n",
      "[76]\tvalid_0's auc: 0.739805\n",
      "[77]\tvalid_0's auc: 0.739593\n",
      "[78]\tvalid_0's auc: 0.739798\n",
      "[79]\tvalid_0's auc: 0.739807\n",
      "[80]\tvalid_0's auc: 0.740663\n",
      "[81]\tvalid_0's auc: 0.740874\n",
      "[82]\tvalid_0's auc: 0.741014\n",
      "[83]\tvalid_0's auc: 0.741007\n",
      "[84]\tvalid_0's auc: 0.741057\n",
      "[85]\tvalid_0's auc: 0.741129\n",
      "[86]\tvalid_0's auc: 0.741319\n",
      "[87]\tvalid_0's auc: 0.74128\n",
      "[88]\tvalid_0's auc: 0.741372\n",
      "[89]\tvalid_0's auc: 0.741598\n",
      "[90]\tvalid_0's auc: 0.741598\n",
      "[91]\tvalid_0's auc: 0.741619\n",
      "[92]\tvalid_0's auc: 0.741677\n",
      "[93]\tvalid_0's auc: 0.741932\n",
      "[94]\tvalid_0's auc: 0.741909\n",
      "[95]\tvalid_0's auc: 0.741923\n",
      "[96]\tvalid_0's auc: 0.741912\n",
      "[97]\tvalid_0's auc: 0.74201\n",
      "[98]\tvalid_0's auc: 0.74207\n",
      "[99]\tvalid_0's auc: 0.742059\n",
      "[100]\tvalid_0's auc: 0.74203\n",
      "Did not meet early stopping. Best iteration is:\n",
      "[98]\tvalid_0's auc: 0.74207\n",
      "{'auc': {'trn': [0.8131102393324258], 'val': [0.7420696148134415]}}\n",
      "\n",
      "{'trn_auc_mean': 0.8131102393324258, 'val_auc_mean': 0.7420696148134415}\n",
      "CPU times: user 32.7 s, sys: 416 ms, total: 33.1 s\n",
      "Wall time: 7.12 s\n"
     ]
    }
   ],
   "source": [
    "%%time\n",
    "## previous week\n",
    "y_test_0416, metrics, results, model = run_model(\n",
    "            LGBMClassifier(n_estimators=100),\n",
    "            val.drop(id_cols + [target_col], axis=1),\n",
    "            val[target_col],\n",
    "            train.drop(id_cols + [target_col], axis=1),\n",
    "            train[target_col],\n",
    "            test.drop(id_cols + [target_col, pred_col], axis=1),\n",
    "            metric_names, results, \n",
    "            params_desc='n_estimators=100',\n",
    "            dataset_desc='week_datediffs_0416')"
   ]
  },
  {
   "cell_type": "code",
   "execution_count": 46,
   "metadata": {},
   "outputs": [
    {
     "name": "stdout",
     "output_type": "stream",
     "text": [
      "LGBMClassifier \n",
      "\n",
      "{'auc': {'trn': [0.9032930113614415], 'val': [0.8408082677203096]}}\n",
      "\n",
      "{'trn_auc_mean': 0.9032930113614415, 'val_auc_mean': 0.8408082677203096}\n",
      "CPU times: user 22.1 s, sys: 348 ms, total: 22.5 s\n",
      "Wall time: 5.84 s\n"
     ]
    }
   ],
   "source": [
    "%%time\n",
    "## previous week\n",
    "y_test_0416, metrics, results = run_model(\n",
    "            LGBMClassifier(n_estimators=100),\n",
    "            val.drop(id_cols + [target_col], axis=1),\n",
    "            val[target_col],\n",
    "            train.drop(id_cols + [target_col], axis=1),\n",
    "            train[target_col],\n",
    "            test.drop(id_cols + [target_col, pred_col], axis=1),\n",
    "            metric_names, results, \n",
    "            params_desc='n_estimators=100',\n",
    "            dataset_desc='week_datediffs_0416')"
   ]
  },
  {
   "cell_type": "code",
   "execution_count": 28,
   "metadata": {},
   "outputs": [
    {
     "name": "stdout",
     "output_type": "stream",
     "text": [
      "LGBMClassifier \n",
      "\n",
      "[1]\tvalid_0's auc: 0.713723\n",
      "Training until validation scores don't improve for 30 rounds.\n",
      "[2]\tvalid_0's auc: 0.714893\n",
      "[3]\tvalid_0's auc: 0.715392\n",
      "[4]\tvalid_0's auc: 0.714957\n",
      "[5]\tvalid_0's auc: 0.725616\n",
      "[6]\tvalid_0's auc: 0.728212\n",
      "[7]\tvalid_0's auc: 0.729469\n",
      "[8]\tvalid_0's auc: 0.733307\n",
      "[9]\tvalid_0's auc: 0.733677\n",
      "[10]\tvalid_0's auc: 0.734072\n",
      "[11]\tvalid_0's auc: 0.734414\n",
      "[12]\tvalid_0's auc: 0.736255\n",
      "[13]\tvalid_0's auc: 0.736838\n",
      "[14]\tvalid_0's auc: 0.737086\n",
      "[15]\tvalid_0's auc: 0.737444\n",
      "[16]\tvalid_0's auc: 0.738003\n",
      "[17]\tvalid_0's auc: 0.738066\n",
      "[18]\tvalid_0's auc: 0.738219\n",
      "[19]\tvalid_0's auc: 0.738565\n",
      "[20]\tvalid_0's auc: 0.742887\n",
      "[21]\tvalid_0's auc: 0.743422\n",
      "[22]\tvalid_0's auc: 0.743716\n",
      "[23]\tvalid_0's auc: 0.744063\n",
      "[24]\tvalid_0's auc: 0.74488\n",
      "[25]\tvalid_0's auc: 0.745247\n",
      "[26]\tvalid_0's auc: 0.745402\n",
      "[27]\tvalid_0's auc: 0.745709\n",
      "[28]\tvalid_0's auc: 0.745854\n",
      "[29]\tvalid_0's auc: 0.746797\n",
      "[30]\tvalid_0's auc: 0.746894\n",
      "[31]\tvalid_0's auc: 0.747145\n",
      "[32]\tvalid_0's auc: 0.747049\n",
      "[33]\tvalid_0's auc: 0.747491\n",
      "[34]\tvalid_0's auc: 0.747427\n",
      "[35]\tvalid_0's auc: 0.747389\n",
      "[36]\tvalid_0's auc: 0.747783\n",
      "[37]\tvalid_0's auc: 0.747872\n",
      "[38]\tvalid_0's auc: 0.748297\n",
      "[39]\tvalid_0's auc: 0.748946\n",
      "[40]\tvalid_0's auc: 0.749181\n",
      "[41]\tvalid_0's auc: 0.749592\n",
      "[42]\tvalid_0's auc: 0.749778\n",
      "[43]\tvalid_0's auc: 0.750112\n",
      "[44]\tvalid_0's auc: 0.750407\n",
      "[45]\tvalid_0's auc: 0.75076\n",
      "[46]\tvalid_0's auc: 0.751032\n",
      "[47]\tvalid_0's auc: 0.751337\n",
      "[48]\tvalid_0's auc: 0.751582\n",
      "[49]\tvalid_0's auc: 0.751822\n",
      "[50]\tvalid_0's auc: 0.751845\n",
      "[51]\tvalid_0's auc: 0.752054\n",
      "[52]\tvalid_0's auc: 0.752517\n",
      "[53]\tvalid_0's auc: 0.752684\n",
      "[54]\tvalid_0's auc: 0.752851\n",
      "[55]\tvalid_0's auc: 0.752622\n",
      "[56]\tvalid_0's auc: 0.752644\n",
      "[57]\tvalid_0's auc: 0.752758\n",
      "[58]\tvalid_0's auc: 0.753014\n",
      "[59]\tvalid_0's auc: 0.75327\n",
      "[60]\tvalid_0's auc: 0.753327\n",
      "[61]\tvalid_0's auc: 0.753405\n",
      "[62]\tvalid_0's auc: 0.753292\n",
      "[63]\tvalid_0's auc: 0.753241\n",
      "[64]\tvalid_0's auc: 0.753325\n",
      "[65]\tvalid_0's auc: 0.753392\n",
      "[66]\tvalid_0's auc: 0.753355\n",
      "[67]\tvalid_0's auc: 0.753475\n",
      "[68]\tvalid_0's auc: 0.753495\n",
      "[69]\tvalid_0's auc: 0.75347\n",
      "[70]\tvalid_0's auc: 0.753783\n",
      "[71]\tvalid_0's auc: 0.754025\n",
      "[72]\tvalid_0's auc: 0.754069\n",
      "[73]\tvalid_0's auc: 0.754062\n",
      "[74]\tvalid_0's auc: 0.754144\n",
      "[75]\tvalid_0's auc: 0.75427\n",
      "[76]\tvalid_0's auc: 0.754286\n",
      "[77]\tvalid_0's auc: 0.754241\n",
      "[78]\tvalid_0's auc: 0.754157\n",
      "[79]\tvalid_0's auc: 0.754236\n",
      "[80]\tvalid_0's auc: 0.754295\n",
      "[81]\tvalid_0's auc: 0.75415\n",
      "[82]\tvalid_0's auc: 0.754191\n",
      "[83]\tvalid_0's auc: 0.754251\n",
      "[84]\tvalid_0's auc: 0.75427\n",
      "[85]\tvalid_0's auc: 0.754463\n",
      "[86]\tvalid_0's auc: 0.75464\n",
      "[87]\tvalid_0's auc: 0.754663\n",
      "[88]\tvalid_0's auc: 0.754693\n",
      "[89]\tvalid_0's auc: 0.75459\n",
      "[90]\tvalid_0's auc: 0.754655\n",
      "[91]\tvalid_0's auc: 0.754695\n",
      "[92]\tvalid_0's auc: 0.754618\n",
      "[93]\tvalid_0's auc: 0.754458\n",
      "[94]\tvalid_0's auc: 0.75448\n",
      "[95]\tvalid_0's auc: 0.754443\n",
      "[96]\tvalid_0's auc: 0.75442\n",
      "[97]\tvalid_0's auc: 0.754573\n",
      "[98]\tvalid_0's auc: 0.754468\n",
      "[99]\tvalid_0's auc: 0.754236\n",
      "[100]\tvalid_0's auc: 0.754312\n",
      "[101]\tvalid_0's auc: 0.754333\n",
      "[102]\tvalid_0's auc: 0.754272\n",
      "[103]\tvalid_0's auc: 0.754176\n",
      "[104]\tvalid_0's auc: 0.754399\n",
      "[105]\tvalid_0's auc: 0.754401\n",
      "[106]\tvalid_0's auc: 0.754345\n",
      "[107]\tvalid_0's auc: 0.754293\n",
      "[108]\tvalid_0's auc: 0.754458\n",
      "[109]\tvalid_0's auc: 0.754437\n",
      "[110]\tvalid_0's auc: 0.754459\n",
      "[111]\tvalid_0's auc: 0.754478\n",
      "[112]\tvalid_0's auc: 0.754471\n",
      "[113]\tvalid_0's auc: 0.754522\n",
      "[114]\tvalid_0's auc: 0.754498\n",
      "[115]\tvalid_0's auc: 0.754603\n",
      "[116]\tvalid_0's auc: 0.754605\n",
      "[117]\tvalid_0's auc: 0.754511\n",
      "[118]\tvalid_0's auc: 0.754528\n",
      "[119]\tvalid_0's auc: 0.754544\n",
      "[120]\tvalid_0's auc: 0.754473\n",
      "[121]\tvalid_0's auc: 0.75448\n",
      "Early stopping, best iteration is:\n",
      "[91]\tvalid_0's auc: 0.754695\n",
      "{'auc': {'trn': [0.7948491996269342], 'val': [0.7546952385275992]}}\n",
      "\n",
      "{'trn_auc_mean': 0.7948491996269342, 'val_auc_mean': 0.7546952385275992}\n",
      "CPU times: user 36.4 s, sys: 532 ms, total: 36.9 s\n",
      "Wall time: 7.99 s\n"
     ]
    }
   ],
   "source": [
    "%%time\n",
    "y_test, metrics, results, model = run_model(\n",
    "            LGBMClassifier(n_estimators=1000),\n",
    "            train.drop(id_cols + [target_col], axis=1),\n",
    "            train[target_col],\n",
    "            val.drop(id_cols + [target_col], axis=1),\n",
    "            val[target_col],\n",
    "            test.drop(id_cols + [target_col, pred_col], axis=1),\n",
    "            metric_names, None, \n",
    "            params_desc='n_estimators=1000',\n",
    "            dataset_desc='week_datediffs')"
   ]
  },
  {
   "cell_type": "code",
   "execution_count": 36,
   "metadata": {},
   "outputs": [
    {
     "name": "stdout",
     "output_type": "stream",
     "text": [
      "LGBMClassifier \n",
      "\n",
      "[1]\tvalid_0's auc: 0.818243\n",
      "Training until validation scores don't improve for 30 rounds.\n",
      "[2]\tvalid_0's auc: 0.818344\n",
      "[3]\tvalid_0's auc: 0.818317\n",
      "[4]\tvalid_0's auc: 0.820228\n",
      "[5]\tvalid_0's auc: 0.820721\n",
      "[6]\tvalid_0's auc: 0.820625\n",
      "[7]\tvalid_0's auc: 0.83575\n",
      "[8]\tvalid_0's auc: 0.835687\n",
      "[9]\tvalid_0's auc: 0.837461\n",
      "[10]\tvalid_0's auc: 0.83852\n",
      "[11]\tvalid_0's auc: 0.838576\n",
      "[12]\tvalid_0's auc: 0.838712\n",
      "[13]\tvalid_0's auc: 0.839013\n",
      "[14]\tvalid_0's auc: 0.839285\n",
      "[15]\tvalid_0's auc: 0.839157\n",
      "[16]\tvalid_0's auc: 0.841013\n",
      "[17]\tvalid_0's auc: 0.841273\n",
      "[18]\tvalid_0's auc: 0.841472\n",
      "[19]\tvalid_0's auc: 0.841413\n",
      "[20]\tvalid_0's auc: 0.841734\n",
      "[21]\tvalid_0's auc: 0.841835\n",
      "[22]\tvalid_0's auc: 0.841731\n",
      "[23]\tvalid_0's auc: 0.841948\n",
      "[24]\tvalid_0's auc: 0.842023\n",
      "[25]\tvalid_0's auc: 0.842796\n",
      "[26]\tvalid_0's auc: 0.843562\n",
      "[27]\tvalid_0's auc: 0.844094\n",
      "[28]\tvalid_0's auc: 0.844029\n",
      "[29]\tvalid_0's auc: 0.844186\n",
      "[30]\tvalid_0's auc: 0.844152\n",
      "[31]\tvalid_0's auc: 0.845846\n",
      "[32]\tvalid_0's auc: 0.846581\n",
      "[33]\tvalid_0's auc: 0.846553\n",
      "[34]\tvalid_0's auc: 0.846504\n",
      "[35]\tvalid_0's auc: 0.846525\n",
      "[36]\tvalid_0's auc: 0.847915\n",
      "[37]\tvalid_0's auc: 0.848009\n",
      "[38]\tvalid_0's auc: 0.848098\n",
      "[39]\tvalid_0's auc: 0.848652\n",
      "[40]\tvalid_0's auc: 0.849542\n",
      "[41]\tvalid_0's auc: 0.849759\n",
      "[42]\tvalid_0's auc: 0.849943\n",
      "[43]\tvalid_0's auc: 0.849981\n",
      "[44]\tvalid_0's auc: 0.8507\n",
      "[45]\tvalid_0's auc: 0.851264\n",
      "[46]\tvalid_0's auc: 0.851325\n",
      "[47]\tvalid_0's auc: 0.851468\n",
      "[48]\tvalid_0's auc: 0.851874\n",
      "[49]\tvalid_0's auc: 0.852075\n",
      "[50]\tvalid_0's auc: 0.852466\n",
      "[51]\tvalid_0's auc: 0.852612\n",
      "[52]\tvalid_0's auc: 0.852875\n",
      "[53]\tvalid_0's auc: 0.85295\n",
      "[54]\tvalid_0's auc: 0.853214\n",
      "[55]\tvalid_0's auc: 0.853474\n",
      "[56]\tvalid_0's auc: 0.8538\n",
      "[57]\tvalid_0's auc: 0.853971\n",
      "[58]\tvalid_0's auc: 0.854333\n",
      "[59]\tvalid_0's auc: 0.854411\n",
      "[60]\tvalid_0's auc: 0.854383\n",
      "[61]\tvalid_0's auc: 0.854396\n",
      "[62]\tvalid_0's auc: 0.854292\n",
      "[63]\tvalid_0's auc: 0.854404\n",
      "[64]\tvalid_0's auc: 0.854448\n",
      "[65]\tvalid_0's auc: 0.854384\n",
      "[66]\tvalid_0's auc: 0.854498\n",
      "[67]\tvalid_0's auc: 0.854415\n",
      "[68]\tvalid_0's auc: 0.854149\n",
      "[69]\tvalid_0's auc: 0.854166\n",
      "[70]\tvalid_0's auc: 0.854099\n",
      "[71]\tvalid_0's auc: 0.85388\n",
      "[72]\tvalid_0's auc: 0.853768\n",
      "[73]\tvalid_0's auc: 0.853759\n",
      "[74]\tvalid_0's auc: 0.8538\n",
      "[75]\tvalid_0's auc: 0.853711\n",
      "[76]\tvalid_0's auc: 0.853716\n",
      "[77]\tvalid_0's auc: 0.853741\n",
      "[78]\tvalid_0's auc: 0.853007\n",
      "[79]\tvalid_0's auc: 0.852983\n",
      "[80]\tvalid_0's auc: 0.85289\n",
      "[81]\tvalid_0's auc: 0.852886\n",
      "[82]\tvalid_0's auc: 0.853056\n",
      "[83]\tvalid_0's auc: 0.852992\n",
      "[84]\tvalid_0's auc: 0.852878\n",
      "[85]\tvalid_0's auc: 0.852967\n",
      "[86]\tvalid_0's auc: 0.852917\n",
      "[87]\tvalid_0's auc: 0.853063\n",
      "[88]\tvalid_0's auc: 0.852581\n",
      "[89]\tvalid_0's auc: 0.852613\n",
      "[90]\tvalid_0's auc: 0.852621\n",
      "[91]\tvalid_0's auc: 0.852492\n",
      "[92]\tvalid_0's auc: 0.852488\n",
      "[93]\tvalid_0's auc: 0.852486\n",
      "[94]\tvalid_0's auc: 0.852535\n",
      "[95]\tvalid_0's auc: 0.85248\n",
      "[96]\tvalid_0's auc: 0.85252\n",
      "Early stopping, best iteration is:\n",
      "[66]\tvalid_0's auc: 0.854498\n",
      "{'auc': {'trn': [0.871635890624965], 'val': [0.8544983380540635]}}\n",
      "\n",
      "{'trn_auc_mean': 0.871635890624965, 'val_auc_mean': 0.8544983380540635}\n",
      "CPU times: user 25.5 s, sys: 564 ms, total: 26.1 s\n",
      "Wall time: 5.9 s\n"
     ]
    }
   ],
   "source": [
    "%%time\n",
    "y_test, metrics, results = run_model(\n",
    "            LGBMClassifier(n_estimators=1000),\n",
    "            train.drop(id_cols + [target_col], axis=1),\n",
    "            train[target_col],\n",
    "            val.drop(id_cols + [target_col], axis=1),\n",
    "            val[target_col],\n",
    "            test.drop(id_cols + [target_col, pred_col], axis=1),\n",
    "            metric_names, None, \n",
    "            params_desc='n_estimators=1000',\n",
    "            dataset_desc='week_datediffs')"
   ]
  },
  {
   "cell_type": "code",
   "execution_count": 47,
   "metadata": {},
   "outputs": [
    {
     "data": {
      "text/html": [
       "<div>\n",
       "<style scoped>\n",
       "    .dataframe tbody tr th:only-of-type {\n",
       "        vertical-align: middle;\n",
       "    }\n",
       "\n",
       "    .dataframe tbody tr th {\n",
       "        vertical-align: top;\n",
       "    }\n",
       "\n",
       "    .dataframe thead th {\n",
       "        text-align: right;\n",
       "    }\n",
       "</style>\n",
       "<table border=\"1\" class=\"dataframe\">\n",
       "  <thead>\n",
       "    <tr style=\"text-align: right;\">\n",
       "      <th></th>\n",
       "      <th>dataset</th>\n",
       "      <th>model</th>\n",
       "      <th>params</th>\n",
       "      <th>time</th>\n",
       "      <th>trn_auc_mean</th>\n",
       "      <th>trn_auc_std</th>\n",
       "      <th>val_auc_mean</th>\n",
       "      <th>val_auc_std</th>\n",
       "    </tr>\n",
       "  </thead>\n",
       "  <tbody>\n",
       "    <tr>\n",
       "      <th>0</th>\n",
       "      <td>week_datediffs</td>\n",
       "      <td>LGBMClassifier</td>\n",
       "      <td>n_estimators=1000</td>\n",
       "      <td>5.76</td>\n",
       "      <td>0.871636</td>\n",
       "      <td>0.0</td>\n",
       "      <td>0.854498</td>\n",
       "      <td>0.0</td>\n",
       "    </tr>\n",
       "    <tr>\n",
       "      <th>1</th>\n",
       "      <td>week_datediffs_0416</td>\n",
       "      <td>LGBMClassifier</td>\n",
       "      <td>n_estimators=100</td>\n",
       "      <td>5.23</td>\n",
       "      <td>0.903293</td>\n",
       "      <td>0.0</td>\n",
       "      <td>0.840808</td>\n",
       "      <td>0.0</td>\n",
       "    </tr>\n",
       "  </tbody>\n",
       "</table>\n",
       "</div>"
      ],
      "text/plain": [
       "               dataset           model             params  time  trn_auc_mean  \\\n",
       "0       week_datediffs  LGBMClassifier  n_estimators=1000  5.76      0.871636   \n",
       "1  week_datediffs_0416  LGBMClassifier   n_estimators=100  5.23      0.903293   \n",
       "\n",
       "   trn_auc_std  val_auc_mean  val_auc_std  \n",
       "0          0.0      0.854498          0.0  \n",
       "1          0.0      0.840808          0.0  "
      ]
     },
     "execution_count": 47,
     "metadata": {},
     "output_type": "execute_result"
    }
   ],
   "source": [
    "# all data\n",
    "results"
   ]
  },
  {
   "cell_type": "code",
   "execution_count": 31,
   "metadata": {},
   "outputs": [
    {
     "data": {
      "text/html": [
       "<div>\n",
       "<style scoped>\n",
       "    .dataframe tbody tr th:only-of-type {\n",
       "        vertical-align: middle;\n",
       "    }\n",
       "\n",
       "    .dataframe tbody tr th {\n",
       "        vertical-align: top;\n",
       "    }\n",
       "\n",
       "    .dataframe thead th {\n",
       "        text-align: right;\n",
       "    }\n",
       "</style>\n",
       "<table border=\"1\" class=\"dataframe\">\n",
       "  <thead>\n",
       "    <tr style=\"text-align: right;\">\n",
       "      <th></th>\n",
       "      <th>dataset</th>\n",
       "      <th>model</th>\n",
       "      <th>params</th>\n",
       "      <th>time</th>\n",
       "      <th>trn_auc_mean</th>\n",
       "      <th>trn_auc_std</th>\n",
       "      <th>val_auc_mean</th>\n",
       "      <th>val_auc_std</th>\n",
       "    </tr>\n",
       "  </thead>\n",
       "  <tbody>\n",
       "    <tr>\n",
       "      <th>0</th>\n",
       "      <td>week_datediffs</td>\n",
       "      <td>LGBMClassifier</td>\n",
       "      <td>n_estimators=1000</td>\n",
       "      <td>7.93</td>\n",
       "      <td>0.794849</td>\n",
       "      <td>0.0</td>\n",
       "      <td>0.754695</td>\n",
       "      <td>0.0</td>\n",
       "    </tr>\n",
       "    <tr>\n",
       "      <th>1</th>\n",
       "      <td>week_datediffs_0416</td>\n",
       "      <td>LGBMClassifier</td>\n",
       "      <td>n_estimators=100</td>\n",
       "      <td>7.07</td>\n",
       "      <td>0.813110</td>\n",
       "      <td>0.0</td>\n",
       "      <td>0.742070</td>\n",
       "      <td>0.0</td>\n",
       "    </tr>\n",
       "  </tbody>\n",
       "</table>\n",
       "</div>"
      ],
      "text/plain": [
       "               dataset           model             params  time  trn_auc_mean  \\\n",
       "0       week_datediffs  LGBMClassifier  n_estimators=1000  7.93      0.794849   \n",
       "1  week_datediffs_0416  LGBMClassifier   n_estimators=100  7.07      0.813110   \n",
       "\n",
       "   trn_auc_std  val_auc_mean  val_auc_std  \n",
       "0          0.0      0.754695          0.0  \n",
       "1          0.0      0.742070          0.0  "
      ]
     },
     "execution_count": 31,
     "metadata": {},
     "output_type": "execute_result"
    }
   ],
   "source": [
    "# 2018 data\n",
    "results"
   ]
  },
  {
   "cell_type": "code",
   "execution_count": 32,
   "metadata": {},
   "outputs": [],
   "source": [
    "y_test_0409 = y_test"
   ]
  },
  {
   "cell_type": "code",
   "execution_count": 33,
   "metadata": {},
   "outputs": [
    {
     "data": {
      "text/plain": [
       "array([0.05645612, 0.03291414, 0.03697125, 0.04721988, 0.03335506])"
      ]
     },
     "execution_count": 33,
     "metadata": {},
     "output_type": "execute_result"
    }
   ],
   "source": [
    "y_test_0416[:5]"
   ]
  },
  {
   "cell_type": "code",
   "execution_count": 35,
   "metadata": {},
   "outputs": [
    {
     "data": {
      "text/plain": [
       "array([0.04532538, 0.05524985, 0.0432417 , 0.04497969, 0.03397098])"
      ]
     },
     "execution_count": 35,
     "metadata": {},
     "output_type": "execute_result"
    }
   ],
   "source": [
    "y_test_0409[:5]"
   ]
  },
  {
   "cell_type": "code",
   "execution_count": 36,
   "metadata": {},
   "outputs": [
    {
     "data": {
      "text/plain": [
       "count    484758.000000\n",
       "mean          0.030018\n",
       "std           0.032947\n",
       "min           0.002193\n",
       "25%           0.011776\n",
       "50%           0.019497\n",
       "75%           0.042435\n",
       "max           0.893118\n",
       "dtype: float64"
      ]
     },
     "execution_count": 36,
     "metadata": {},
     "output_type": "execute_result"
    }
   ],
   "source": [
    "pd.Series(y_test_0409).describe()"
   ]
  },
  {
   "cell_type": "code",
   "execution_count": 37,
   "metadata": {},
   "outputs": [
    {
     "data": {
      "text/plain": [
       "count    484758.000000\n",
       "mean          0.029301\n",
       "std           0.030290\n",
       "min           0.001679\n",
       "25%           0.009946\n",
       "50%           0.019143\n",
       "75%           0.043250\n",
       "max           0.794302\n",
       "dtype: float64"
      ]
     },
     "execution_count": 37,
     "metadata": {},
     "output_type": "execute_result"
    }
   ],
   "source": [
    "pd.Series(y_test_0416).describe()"
   ]
  },
  {
   "cell_type": "code",
   "execution_count": 41,
   "metadata": {},
   "outputs": [
    {
     "data": {
      "text/plain": [
       "(484758,)"
      ]
     },
     "execution_count": 41,
     "metadata": {},
     "output_type": "execute_result"
    }
   ],
   "source": [
    "np.mean([y_test_0409, y_test_0416], axis=0).shape"
   ]
  },
  {
   "cell_type": "code",
   "execution_count": 42,
   "metadata": {},
   "outputs": [],
   "source": [
    "test[target_col] = np.mean([y_test_0409, y_test_0416], axis=0)"
   ]
  },
  {
   "cell_type": "markdown",
   "metadata": {},
   "source": [
    "## Submission"
   ]
  },
  {
   "cell_type": "code",
   "execution_count": 43,
   "metadata": {},
   "outputs": [],
   "source": [
    "submission = pd.read_csv(RAW/'sample_submission.csv', low_memory=False)\n",
    "submission = pd.merge(submission[['PredictionIdx']], test[['PredictionIdx', target_col]], how='left', on='PredictionIdx')"
   ]
  },
  {
   "cell_type": "code",
   "execution_count": 44,
   "metadata": {},
   "outputs": [
    {
     "data": {
      "text/plain": [
       "count    484758.000000\n",
       "mean          0.029660\n",
       "std           0.029503\n",
       "min           0.002250\n",
       "25%           0.011114\n",
       "50%           0.019534\n",
       "75%           0.043570\n",
       "max           0.815421\n",
       "Name: CustomerInterest, dtype: float64"
      ]
     },
     "execution_count": 44,
     "metadata": {},
     "output_type": "execute_result"
    }
   ],
   "source": [
    "submission[target_col].describe()"
   ]
  },
  {
   "cell_type": "code",
   "execution_count": 40,
   "metadata": {},
   "outputs": [
    {
     "data": {
      "text/plain": [
       "count    484758.000000\n",
       "mean          0.082337\n",
       "std           0.103445\n",
       "min           0.002977\n",
       "25%           0.011680\n",
       "50%           0.020786\n",
       "75%           0.198452\n",
       "max           0.824155\n",
       "Name: CustomerInterest, dtype: float64"
      ]
     },
     "execution_count": 40,
     "metadata": {},
     "output_type": "execute_result"
    }
   ],
   "source": [
    "submission[target_col].describe()"
   ]
  },
  {
   "cell_type": "code",
   "execution_count": 45,
   "metadata": {},
   "outputs": [
    {
     "data": {
      "text/html": [
       "<div>\n",
       "<style scoped>\n",
       "    .dataframe tbody tr th:only-of-type {\n",
       "        vertical-align: middle;\n",
       "    }\n",
       "\n",
       "    .dataframe tbody tr th {\n",
       "        vertical-align: top;\n",
       "    }\n",
       "\n",
       "    .dataframe thead th {\n",
       "        text-align: right;\n",
       "    }\n",
       "</style>\n",
       "<table border=\"1\" class=\"dataframe\">\n",
       "  <thead>\n",
       "    <tr style=\"text-align: right;\">\n",
       "      <th></th>\n",
       "      <th>PredictionIdx</th>\n",
       "      <th>CustomerInterest</th>\n",
       "    </tr>\n",
       "  </thead>\n",
       "  <tbody>\n",
       "    <tr>\n",
       "      <th>0</th>\n",
       "      <td>a1e0d80784</td>\n",
       "      <td>0.050891</td>\n",
       "    </tr>\n",
       "    <tr>\n",
       "      <th>1</th>\n",
       "      <td>c2cc6cc2a8</td>\n",
       "      <td>0.044082</td>\n",
       "    </tr>\n",
       "    <tr>\n",
       "      <th>2</th>\n",
       "      <td>a8e94f6344</td>\n",
       "      <td>0.040106</td>\n",
       "    </tr>\n",
       "    <tr>\n",
       "      <th>3</th>\n",
       "      <td>758bae1e35</td>\n",
       "      <td>0.046100</td>\n",
       "    </tr>\n",
       "    <tr>\n",
       "      <th>4</th>\n",
       "      <td>02ab378ee8</td>\n",
       "      <td>0.033663</td>\n",
       "    </tr>\n",
       "  </tbody>\n",
       "</table>\n",
       "</div>"
      ],
      "text/plain": [
       "  PredictionIdx  CustomerInterest\n",
       "0    a1e0d80784          0.050891\n",
       "1    c2cc6cc2a8          0.044082\n",
       "2    a8e94f6344          0.040106\n",
       "3    758bae1e35          0.046100\n",
       "4    02ab378ee8          0.033663"
      ]
     },
     "execution_count": 45,
     "metadata": {},
     "output_type": "execute_result"
    }
   ],
   "source": [
    "submission.head()"
   ]
  },
  {
   "cell_type": "code",
   "execution_count": 41,
   "metadata": {},
   "outputs": [
    {
     "data": {
      "text/html": [
       "<div>\n",
       "<style scoped>\n",
       "    .dataframe tbody tr th:only-of-type {\n",
       "        vertical-align: middle;\n",
       "    }\n",
       "\n",
       "    .dataframe tbody tr th {\n",
       "        vertical-align: top;\n",
       "    }\n",
       "\n",
       "    .dataframe thead th {\n",
       "        text-align: right;\n",
       "    }\n",
       "</style>\n",
       "<table border=\"1\" class=\"dataframe\">\n",
       "  <thead>\n",
       "    <tr style=\"text-align: right;\">\n",
       "      <th></th>\n",
       "      <th>PredictionIdx</th>\n",
       "      <th>CustomerInterest</th>\n",
       "    </tr>\n",
       "  </thead>\n",
       "  <tbody>\n",
       "    <tr>\n",
       "      <th>0</th>\n",
       "      <td>a1e0d80784</td>\n",
       "      <td>0.151956</td>\n",
       "    </tr>\n",
       "    <tr>\n",
       "      <th>1</th>\n",
       "      <td>c2cc6cc2a8</td>\n",
       "      <td>0.047319</td>\n",
       "    </tr>\n",
       "    <tr>\n",
       "      <th>2</th>\n",
       "      <td>a8e94f6344</td>\n",
       "      <td>0.190352</td>\n",
       "    </tr>\n",
       "    <tr>\n",
       "      <th>3</th>\n",
       "      <td>758bae1e35</td>\n",
       "      <td>0.252158</td>\n",
       "    </tr>\n",
       "    <tr>\n",
       "      <th>4</th>\n",
       "      <td>02ab378ee8</td>\n",
       "      <td>0.211535</td>\n",
       "    </tr>\n",
       "  </tbody>\n",
       "</table>\n",
       "</div>"
      ],
      "text/plain": [
       "  PredictionIdx  CustomerInterest\n",
       "0    a1e0d80784          0.151956\n",
       "1    c2cc6cc2a8          0.047319\n",
       "2    a8e94f6344          0.190352\n",
       "3    758bae1e35          0.252158\n",
       "4    02ab378ee8          0.211535"
      ]
     },
     "execution_count": 41,
     "metadata": {},
     "output_type": "execute_result"
    }
   ],
   "source": [
    "submission.head()"
   ]
  },
  {
   "cell_type": "code",
   "execution_count": 46,
   "metadata": {},
   "outputs": [],
   "source": [
    "submission.to_csv(SUBMISSIONS/'lgbm_week_datediffs_0416.csv', index=False)"
   ]
  },
  {
   "cell_type": "code",
   "execution_count": null,
   "metadata": {},
   "outputs": [],
   "source": []
  }
 ],
 "metadata": {
  "kernelspec": {
   "display_name": "Python 3",
   "language": "python",
   "name": "python3"
  },
  "language_info": {
   "codemirror_mode": {
    "name": "ipython",
    "version": 3
   },
   "file_extension": ".py",
   "mimetype": "text/x-python",
   "name": "python",
   "nbconvert_exporter": "python",
   "pygments_lexer": "ipython3",
   "version": "3.6.4"
  }
 },
 "nbformat": 4,
 "nbformat_minor": 2
}
