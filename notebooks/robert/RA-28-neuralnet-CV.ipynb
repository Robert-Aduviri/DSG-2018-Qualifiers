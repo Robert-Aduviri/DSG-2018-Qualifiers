{
 "cells": [
  {
   "cell_type": "code",
   "execution_count": 1,
   "metadata": {},
   "outputs": [],
   "source": [
    "%load_ext autoreload\n",
    "%autoreload 2\n",
    "%matplotlib inline\n",
    "%config InlineBackend.figure_format = 'retina'\n",
    "\n",
    "import os, math\n",
    "import numpy as np, pandas as pd\n",
    "import matplotlib.pyplot as plt, seaborn as sns\n",
    "from tqdm import tqdm, tqdm_notebook\n",
    "from pathlib import Path\n",
    "pd.set_option('display.max_columns', 1000)\n",
    "pd.set_option('display.max_rows', 400)\n",
    "sns.set()\n",
    "\n",
    "os.chdir('../..')\n",
    "from src import utils"
   ]
  },
  {
   "cell_type": "code",
   "execution_count": 2,
   "metadata": {},
   "outputs": [],
   "source": [
    "DATA        = Path('data')\n",
    "RAW         = DATA/'raw'\n",
    "INTERIM     = DATA/'interim'\n",
    "PROCESSED   = DATA/'processed'\n",
    "SUBMISSIONS = DATA/'submissions'"
   ]
  },
  {
   "cell_type": "code",
   "execution_count": 3,
   "metadata": {},
   "outputs": [],
   "source": [
    "from src.utils import get_weeks\n",
    "# week_labels = get_weeks(day_from=20160104, num_weeks=121)[52:]\n",
    "# week_labels = get_weeks(day_from=20160104, num_weeks=121)[96:]\n",
    "week_labels = get_weeks(day_from=20160104, num_weeks=121)[104:]"
   ]
  },
  {
   "cell_type": "code",
   "execution_count": 4,
   "metadata": {},
   "outputs": [
    {
     "name": "stdout",
     "output_type": "stream",
     "text": [
      "[20180101, 20180108, 20180115, 20180122, 20180129, 20180205, 20180212, 20180219, 20180226, 20180305, 20180312, 20180319, 20180326, 20180402, 20180409, 20180416, 20180423]\n"
     ]
    }
   ],
   "source": [
    "print(week_labels)"
   ]
  },
  {
   "cell_type": "code",
   "execution_count": 5,
   "metadata": {},
   "outputs": [
    {
     "name": "stdout",
     "output_type": "stream",
     "text": [
      "CPU times: user 1min 26s, sys: 45.7 s, total: 2min 12s\n",
      "Wall time: 2min 27s\n"
     ]
    }
   ],
   "source": [
    "%%time\n",
    "train = pd.DataFrame()\n",
    "for name in week_labels[:-2]:\n",
    "    train = pd.concat([train, pd.read_feather(PROCESSED/f'SVD_17-18_72f/week_{name}_SVD_diffscount.feather')])\n",
    "val = pd.read_feather(PROCESSED/f'SVD_17-18_72f/week_{week_labels[-2]}_SVD_diffscount.feather')\n",
    "test = pd.read_feather(PROCESSED/f'SVD_17-18_72f/week_{week_labels[-1]}_SVD_diffscount.feather')"
   ]
  },
  {
   "cell_type": "markdown",
   "metadata": {},
   "source": [
    "## Fill nan"
   ]
  },
  {
   "cell_type": "code",
   "execution_count": 6,
   "metadata": {},
   "outputs": [
    {
     "name": "stdout",
     "output_type": "stream",
     "text": [
      "CPU times: user 6.19 s, sys: 2.57 s, total: 8.76 s\n",
      "Wall time: 8.77 s\n"
     ]
    }
   ],
   "source": [
    "%%time\n",
    "nan_cols = ['Subsector', 'IndustrySector', 'IndustrySubgroup', 'MarketIssue']\n",
    "train.fillna({x: '-999' for x in nan_cols}, inplace=True)\n",
    "val.fillna({x: '-999' for x in nan_cols}, inplace=True)\n",
    "test.fillna({x: '-999' for x in nan_cols}, inplace=True)"
   ]
  },
  {
   "cell_type": "markdown",
   "metadata": {},
   "source": [
    "## Preprocessing"
   ]
  },
  {
   "cell_type": "code",
   "execution_count": 8,
   "metadata": {},
   "outputs": [],
   "source": [
    "cat_cols = ['BuySell', 'Sector', 'Subsector', 'Region_x', 'Country', \n",
    "            'TickerIdx', 'Seniority', 'Currency', 'ActivityGroup', \n",
    "            'Region_y', 'Activity', 'RiskCaptain', 'Owner', \n",
    "            'IndustrySector', 'IndustrySubgroup', 'MarketIssue', 'CouponType']\n",
    "id_cols = ['TradeDateKey', 'CustomerIdx', 'IsinIdx']\n",
    "target_col = 'CustomerInterest'\n",
    "pred_col = 'PredictionIdx'\n",
    "# with open(INTERIM/'num_cols.pkl', 'rb') as f:\n",
    "#     num_cols = pickle.load(f)\n",
    "num_cols = [c for c in train.columns \\\n",
    "              if c not in id_cols + cat_cols and c != target_col]"
   ]
  },
  {
   "cell_type": "markdown",
   "metadata": {},
   "source": [
    "### Label encode cat cols"
   ]
  },
  {
   "cell_type": "code",
   "execution_count": 9,
   "metadata": {},
   "outputs": [
    {
     "name": "stdout",
     "output_type": "stream",
     "text": [
      "CPU times: user 23.8 s, sys: 5.16 s, total: 28.9 s\n",
      "Wall time: 29 s\n"
     ]
    }
   ],
   "source": [
    "%%time\n",
    "# Label encode cats\n",
    "from src.utils import to_cat_codes, apply_cats\n",
    "to_cat_codes(train, cat_cols)\n",
    "apply_cats(val, train)\n",
    "apply_cats(test, train)\n",
    "\n",
    "for col in cat_cols:\n",
    "    train[col] = train[col].cat.codes\n",
    "    val[col] = val[col].cat.codes\n",
    "    test[col] = test[col].cat.codes"
   ]
  },
  {
   "cell_type": "code",
   "execution_count": 10,
   "metadata": {},
   "outputs": [],
   "source": [
    "# Val has 1 OOF \n",
    "train['TickerIdx'] = train.TickerIdx + 1\n",
    "val['TickerIdx'] = val.TickerIdx + 1\n",
    "test['TickerIdx'] = test.TickerIdx + 1"
   ]
  },
  {
   "cell_type": "markdown",
   "metadata": {},
   "source": [
    "### Scale num cols"
   ]
  },
  {
   "cell_type": "code",
   "execution_count": 11,
   "metadata": {},
   "outputs": [
    {
     "name": "stdout",
     "output_type": "stream",
     "text": [
      "CPU times: user 6.59 s, sys: 8.63 s, total: 15.2 s\n",
      "Wall time: 15.2 s\n"
     ]
    }
   ],
   "source": [
    "%%time\n",
    "# Scale conts\n",
    "from sklearn.preprocessing import StandardScaler\n",
    "scaler = StandardScaler().fit(pd.concat([train[num_cols], \n",
    "                                         val[num_cols], test[num_cols]]))"
   ]
  },
  {
   "cell_type": "code",
   "execution_count": 21,
   "metadata": {},
   "outputs": [],
   "source": [
    "import pickle\n",
    "with open(INTERIM/'scaler.pkl', 'wb') as f:\n",
    "    pickle.dump(scaler, f, pickle.HIGHEST_PROTOCOL)"
   ]
  },
  {
   "cell_type": "code",
   "execution_count": 12,
   "metadata": {},
   "outputs": [],
   "source": [
    "def scale_features(df, scaler, num_cols):\n",
    "    scaled = scaler.transform(df[num_cols])\n",
    "    for i, col in enumerate(num_cols):\n",
    "        df[col] = scaled[:,i]"
   ]
  },
  {
   "cell_type": "code",
   "execution_count": 13,
   "metadata": {},
   "outputs": [
    {
     "name": "stdout",
     "output_type": "stream",
     "text": [
      "CPU times: user 6.69 s, sys: 8.44 s, total: 15.1 s\n",
      "Wall time: 15.1 s\n"
     ]
    }
   ],
   "source": [
    "%%time\n",
    "scale_features(train, scaler, num_cols)\n",
    "scale_features(val, scaler, num_cols)\n",
    "scale_features(test, scaler, num_cols)"
   ]
  },
  {
   "cell_type": "code",
   "execution_count": 27,
   "metadata": {},
   "outputs": [
    {
     "name": "stdout",
     "output_type": "stream",
     "text": [
      "CPU times: user 4.91 s, sys: 6.05 s, total: 11 s\n",
      "Wall time: 8.66 s\n"
     ]
    }
   ],
   "source": [
    "%%time\n",
    "train.reset_index(drop=True).to_feather(INTERIM/'nn_train.feather')\n",
    "val.reset_index(drop=True).to_feather(INTERIM/'nn_val.feather')\n",
    "test.reset_index(drop=True).to_feather(INTERIM/'nn_test.feather')"
   ]
  },
  {
   "cell_type": "code",
   "execution_count": 24,
   "metadata": {},
   "outputs": [],
   "source": [
    "with open(INTERIM/'num_cols.pkl', 'wb') as f:\n",
    "    pickle.dump(num_cols, f, pickle.HIGHEST_PROTOCOL)"
   ]
  },
  {
   "cell_type": "code",
   "execution_count": 3,
   "metadata": {},
   "outputs": [],
   "source": [
    "%%time\n",
    "train = pd.read_feather(INTERIM/'nn_train.feather')\n",
    "val = pd.read_feather(INTERIM/'nn_val.feather')\n",
    "test = pd.read_feather(INTERIM/'nn_test.feather')"
   ]
  },
  {
   "cell_type": "markdown",
   "metadata": {},
   "source": [
    "## Model"
   ]
  },
  {
   "cell_type": "code",
   "execution_count": 14,
   "metadata": {},
   "outputs": [],
   "source": [
    "import torch\n",
    "import torch.utils.data\n",
    "import torch.nn as nn\n",
    "import torch.nn.functional as F\n",
    "from torch.autograd import Variable\n",
    "from torch import optim"
   ]
  },
  {
   "cell_type": "code",
   "execution_count": 15,
   "metadata": {},
   "outputs": [],
   "source": [
    "from src.neuralnet import TabularDataset\n",
    "from torch.utils.data import DataLoader"
   ]
  },
  {
   "cell_type": "code",
   "execution_count": 16,
   "metadata": {},
   "outputs": [
    {
     "name": "stdout",
     "output_type": "stream",
     "text": [
      "CPU times: user 2.45 s, sys: 3.83 s, total: 6.28 s\n",
      "Wall time: 6.28 s\n"
     ]
    }
   ],
   "source": [
    "%%time\n",
    "train_ds = DataLoader(TabularDataset(train, cat_cols, num_cols, target_col), batch_size=128, shuffle=True)\n",
    "val_ds = DataLoader(TabularDataset(val, cat_cols, num_cols, target_col), batch_size=128)\n",
    "test_ds = DataLoader(TabularDataset(test, cat_cols, num_cols), batch_size=128)"
   ]
  },
  {
   "cell_type": "code",
   "execution_count": 31,
   "metadata": {},
   "outputs": [
    {
     "name": "stdout",
     "output_type": "stream",
     "text": [
      "CPU times: user 1.19 s, sys: 3.54 s, total: 4.73 s\n",
      "Wall time: 4.95 s\n"
     ]
    }
   ],
   "source": [
    "%%time\n",
    "import pickle\n",
    "with open(INTERIM/'nn_train_ds.pkl', 'wb') as f:\n",
    "    pickle.dump(train_ds, f, pickle.HIGHEST_PROTOCOL)\n",
    "with open(INTERIM/'nn_val_ds.pkl', 'wb') as f:\n",
    "    pickle.dump(val_ds, f, pickle.HIGHEST_PROTOCOL)\n",
    "with open(INTERIM/'nn_test_ds.pkl', 'wb') as f:\n",
    "    pickle.dump(test_ds, f, pickle.HIGHEST_PROTOCOL)"
   ]
  },
  {
   "cell_type": "code",
   "execution_count": 17,
   "metadata": {},
   "outputs": [],
   "source": [
    "cat_szs = [int(train[col].max() + 1) for col in cat_cols]\n",
    "emb_szs = [(c, min(50, (c+1)//2)) for c in cat_szs]"
   ]
  },
  {
   "cell_type": "code",
   "execution_count": 18,
   "metadata": {},
   "outputs": [],
   "source": [
    "from src.neuralnet import NeuralNet, train_model"
   ]
  },
  {
   "cell_type": "code",
   "execution_count": 19,
   "metadata": {},
   "outputs": [],
   "source": [
    "USE_CUDA = True"
   ]
  },
  {
   "cell_type": "code",
   "execution_count": 20,
   "metadata": {},
   "outputs": [],
   "source": [
    "model = NeuralNet(emb_szs, n_cont=len(num_cols), emb_drop=0.04, \n",
    "                  szs=[1000, 500], drops=[0.001, 0.01], use_bn=True)"
   ]
  },
  {
   "cell_type": "code",
   "execution_count": 21,
   "metadata": {},
   "outputs": [],
   "source": [
    "optimizer = optim.Adam(model.parameters(), lr=1e-3)\n",
    "criterion = nn.BCEWithLogitsLoss()"
   ]
  },
  {
   "cell_type": "code",
   "execution_count": 23,
   "metadata": {},
   "outputs": [
    {
     "name": "stdout",
     "output_type": "stream",
     "text": [
      "Train Epoch: 1 [102400/8102750 (1%)]\tLoss: 0.166101\n",
      "Train Epoch: 1 [204800/8102750 (3%)]\tLoss: 0.131777\n",
      "Train Epoch: 1 [307200/8102750 (4%)]\tLoss: 0.131392\n",
      "Train Epoch: 1 [409600/8102750 (5%)]\tLoss: 0.131325\n",
      "Train Epoch: 1 [512000/8102750 (6%)]\tLoss: 0.133637\n",
      "Train Epoch: 1 [614400/8102750 (8%)]\tLoss: 0.130733\n",
      "Train Epoch: 1 [716800/8102750 (9%)]\tLoss: 0.131957\n",
      "Train Epoch: 1 [819200/8102750 (10%)]\tLoss: 0.128743\n",
      "Train Epoch: 1 [921600/8102750 (11%)]\tLoss: 0.128551\n",
      "Train Epoch: 1 [1024000/8102750 (13%)]\tLoss: 0.131090\n",
      "[0/493590 (0%)]\n",
      "[102400/493590 (21%)]\n",
      "[204800/493590 (41%)]\n",
      "[307200/493590 (62%)]\n",
      "[409600/493590 (83%)]\n",
      "ROC AUC Score: 0.814105\n",
      "Validation Loss: 0.134310\n",
      "Train Epoch: 1 [1126400/8102750 (14%)]\tLoss: 0.128691\n",
      "Train Epoch: 1 [1228800/8102750 (15%)]\tLoss: 0.128515\n",
      "Train Epoch: 1 [1331200/8102750 (16%)]\tLoss: 0.125471\n",
      "Train Epoch: 1 [1433600/8102750 (18%)]\tLoss: 0.128571\n",
      "Train Epoch: 1 [1536000/8102750 (19%)]\tLoss: 0.128719\n",
      "Train Epoch: 1 [1638400/8102750 (20%)]\tLoss: 0.128066\n",
      "Train Epoch: 1 [1740800/8102750 (21%)]\tLoss: 0.127641\n",
      "Train Epoch: 1 [1843200/8102750 (23%)]\tLoss: 0.127265\n",
      "Train Epoch: 1 [1945600/8102750 (24%)]\tLoss: 0.126248\n",
      "Train Epoch: 1 [2048000/8102750 (25%)]\tLoss: 0.127287\n",
      "[0/493590 (0%)]\n",
      "[102400/493590 (21%)]\n",
      "[204800/493590 (41%)]\n",
      "[307200/493590 (62%)]\n",
      "[409600/493590 (83%)]\n",
      "ROC AUC Score: 0.847727\n",
      "Validation Loss: 0.132486\n",
      "Train Epoch: 1 [2150400/8102750 (27%)]\tLoss: 0.125101\n",
      "Train Epoch: 1 [2252800/8102750 (28%)]\tLoss: 0.125576\n",
      "Train Epoch: 1 [2355200/8102750 (29%)]\tLoss: 0.123162\n",
      "Train Epoch: 1 [2457600/8102750 (30%)]\tLoss: 0.124586\n",
      "Train Epoch: 1 [2560000/8102750 (32%)]\tLoss: 0.126410\n",
      "Train Epoch: 1 [2662400/8102750 (33%)]\tLoss: 0.125111\n",
      "Train Epoch: 1 [2764800/8102750 (34%)]\tLoss: 0.127553\n",
      "Train Epoch: 1 [2867200/8102750 (35%)]\tLoss: 0.127143\n",
      "Train Epoch: 1 [2969600/8102750 (37%)]\tLoss: 0.125728\n",
      "Train Epoch: 1 [3072000/8102750 (38%)]\tLoss: 0.125989\n",
      "[0/493590 (0%)]\n",
      "[102400/493590 (21%)]\n",
      "[204800/493590 (41%)]\n",
      "[307200/493590 (62%)]\n",
      "[409600/493590 (83%)]\n",
      "ROC AUC Score: 0.857397\n",
      "Validation Loss: 0.130986\n",
      "Train Epoch: 1 [3174400/8102750 (39%)]\tLoss: 0.127415\n",
      "Train Epoch: 1 [3276800/8102750 (40%)]\tLoss: 0.125344\n",
      "Train Epoch: 1 [3379200/8102750 (42%)]\tLoss: 0.128319\n",
      "Train Epoch: 1 [3481600/8102750 (43%)]\tLoss: 0.123910\n",
      "Train Epoch: 1 [3584000/8102750 (44%)]\tLoss: 0.126843\n",
      "Train Epoch: 1 [3686400/8102750 (45%)]\tLoss: 0.128016\n",
      "Train Epoch: 1 [3788800/8102750 (47%)]\tLoss: 0.125460\n",
      "Train Epoch: 1 [3891200/8102750 (48%)]\tLoss: 0.129486\n",
      "Train Epoch: 1 [3993600/8102750 (49%)]\tLoss: 0.125793\n",
      "Train Epoch: 1 [4096000/8102750 (51%)]\tLoss: 0.125691\n",
      "[0/493590 (0%)]\n",
      "[102400/493590 (21%)]\n",
      "[204800/493590 (41%)]\n",
      "[307200/493590 (62%)]\n",
      "[409600/493590 (83%)]\n",
      "ROC AUC Score: 0.857537\n",
      "Validation Loss: 0.130549\n",
      "Train Epoch: 1 [4198400/8102750 (52%)]\tLoss: 0.124385\n",
      "Train Epoch: 1 [4300800/8102750 (53%)]\tLoss: 0.127336\n",
      "Train Epoch: 1 [4403200/8102750 (54%)]\tLoss: 0.125432\n",
      "Train Epoch: 1 [4505600/8102750 (56%)]\tLoss: 0.125811\n",
      "Train Epoch: 1 [4608000/8102750 (57%)]\tLoss: 0.127456\n",
      "Train Epoch: 1 [4710400/8102750 (58%)]\tLoss: 0.123850\n",
      "Train Epoch: 1 [4812800/8102750 (59%)]\tLoss: 0.124594\n",
      "Train Epoch: 1 [4915200/8102750 (61%)]\tLoss: 0.121976\n",
      "Train Epoch: 1 [5017600/8102750 (62%)]\tLoss: 0.124232\n",
      "Train Epoch: 1 [5120000/8102750 (63%)]\tLoss: 0.123411\n",
      "[0/493590 (0%)]\n",
      "[102400/493590 (21%)]\n",
      "[204800/493590 (41%)]\n",
      "[307200/493590 (62%)]\n",
      "[409600/493590 (83%)]\n",
      "ROC AUC Score: 0.864277\n",
      "Validation Loss: 0.133716\n",
      "Train Epoch: 1 [5222400/8102750 (64%)]\tLoss: 0.124521\n",
      "Train Epoch: 1 [5324800/8102750 (66%)]\tLoss: 0.125090\n",
      "Train Epoch: 1 [5427200/8102750 (67%)]\tLoss: 0.126625\n",
      "Train Epoch: 1 [5529600/8102750 (68%)]\tLoss: 0.124977\n",
      "Train Epoch: 1 [5632000/8102750 (70%)]\tLoss: 0.125244\n",
      "Train Epoch: 1 [5734400/8102750 (71%)]\tLoss: 0.123191\n",
      "Train Epoch: 1 [5836800/8102750 (72%)]\tLoss: 0.125446\n",
      "Train Epoch: 1 [5939200/8102750 (73%)]\tLoss: 0.126051\n",
      "Train Epoch: 1 [6041600/8102750 (75%)]\tLoss: 0.125833\n",
      "Train Epoch: 1 [6144000/8102750 (76%)]\tLoss: 0.124338\n",
      "[0/493590 (0%)]\n",
      "[102400/493590 (21%)]\n",
      "[204800/493590 (41%)]\n",
      "[307200/493590 (62%)]\n",
      "[409600/493590 (83%)]\n",
      "ROC AUC Score: 0.865773\n",
      "Validation Loss: 0.155366\n",
      "Train Epoch: 1 [6246400/8102750 (77%)]\tLoss: 0.123182\n",
      "Train Epoch: 1 [6348800/8102750 (78%)]\tLoss: 0.125838\n",
      "Train Epoch: 1 [6451200/8102750 (80%)]\tLoss: 0.123593\n",
      "Train Epoch: 1 [6553600/8102750 (81%)]\tLoss: 0.126154\n",
      "Train Epoch: 1 [6656000/8102750 (82%)]\tLoss: 0.122474\n",
      "Train Epoch: 1 [6758400/8102750 (83%)]\tLoss: 0.124927\n",
      "Train Epoch: 1 [6860800/8102750 (85%)]\tLoss: 0.122271\n",
      "Train Epoch: 1 [6963200/8102750 (86%)]\tLoss: 0.124590\n",
      "Train Epoch: 1 [7065600/8102750 (87%)]\tLoss: 0.125090\n",
      "Train Epoch: 1 [7168000/8102750 (88%)]\tLoss: 0.122998\n",
      "[0/493590 (0%)]\n",
      "[102400/493590 (21%)]\n",
      "[204800/493590 (41%)]\n",
      "[307200/493590 (62%)]\n",
      "[409600/493590 (83%)]\n",
      "ROC AUC Score: 0.867701\n",
      "Validation Loss: 0.157575\n",
      "Train Epoch: 1 [7270400/8102750 (90%)]\tLoss: 0.125922\n",
      "Train Epoch: 1 [7372800/8102750 (91%)]\tLoss: 0.126146\n",
      "Train Epoch: 1 [7475200/8102750 (92%)]\tLoss: 0.125070\n",
      "Train Epoch: 1 [7577600/8102750 (94%)]\tLoss: 0.124168\n",
      "Train Epoch: 1 [7680000/8102750 (95%)]\tLoss: 0.123440\n",
      "Train Epoch: 1 [7782400/8102750 (96%)]\tLoss: 0.125758\n",
      "Train Epoch: 1 [7884800/8102750 (97%)]\tLoss: 0.124366\n",
      "Train Epoch: 1 [7987200/8102750 (99%)]\tLoss: 0.125086\n",
      "Train Epoch: 1 [8089600/8102750 (100%)]\tLoss: 0.122885\n",
      "\n",
      "Train Epoch: 2 [102400/8102750 (1%)]\tLoss: 0.125853\n",
      "Train Epoch: 2 [204800/8102750 (3%)]\tLoss: 0.119806\n",
      "Train Epoch: 2 [307200/8102750 (4%)]\tLoss: 0.125035\n",
      "Train Epoch: 2 [409600/8102750 (5%)]\tLoss: 0.123106\n",
      "Train Epoch: 2 [512000/8102750 (6%)]\tLoss: 0.123286\n",
      "Train Epoch: 2 [614400/8102750 (8%)]\tLoss: 0.125737\n",
      "Train Epoch: 2 [716800/8102750 (9%)]\tLoss: 0.124648\n",
      "Train Epoch: 2 [819200/8102750 (10%)]\tLoss: 0.124972\n",
      "Train Epoch: 2 [921600/8102750 (11%)]\tLoss: 0.123967\n",
      "Train Epoch: 2 [1024000/8102750 (13%)]\tLoss: 0.123683\n",
      "[0/493590 (0%)]\n",
      "[102400/493590 (21%)]\n",
      "[204800/493590 (41%)]\n",
      "[307200/493590 (62%)]\n",
      "[409600/493590 (83%)]\n",
      "ROC AUC Score: 0.860710\n",
      "Validation Loss: 0.151979\n",
      "Train Epoch: 2 [1126400/8102750 (14%)]\tLoss: 0.122465\n",
      "Train Epoch: 2 [1228800/8102750 (15%)]\tLoss: 0.123625\n",
      "Train Epoch: 2 [1331200/8102750 (16%)]\tLoss: 0.122448\n",
      "Train Epoch: 2 [1433600/8102750 (18%)]\tLoss: 0.124041\n",
      "Train Epoch: 2 [1536000/8102750 (19%)]\tLoss: 0.122949\n",
      "Train Epoch: 2 [1638400/8102750 (20%)]\tLoss: 0.119678\n",
      "Train Epoch: 2 [1740800/8102750 (21%)]\tLoss: 0.121275\n",
      "Train Epoch: 2 [1843200/8102750 (23%)]\tLoss: 0.121825\n",
      "Train Epoch: 2 [1945600/8102750 (24%)]\tLoss: 0.124382\n",
      "Train Epoch: 2 [2048000/8102750 (25%)]\tLoss: 0.119009\n",
      "[0/493590 (0%)]\n",
      "[102400/493590 (21%)]\n",
      "[204800/493590 (41%)]\n",
      "[307200/493590 (62%)]\n",
      "[409600/493590 (83%)]\n",
      "ROC AUC Score: 0.862462\n",
      "Validation Loss: 0.155215\n",
      "Train Epoch: 2 [2150400/8102750 (27%)]\tLoss: 0.127025\n",
      "Train Epoch: 2 [2252800/8102750 (28%)]\tLoss: 0.123518\n",
      "Train Epoch: 2 [2355200/8102750 (29%)]\tLoss: 0.122302\n",
      "Train Epoch: 2 [2457600/8102750 (30%)]\tLoss: 0.123327\n",
      "Train Epoch: 2 [2560000/8102750 (32%)]\tLoss: 0.125321\n",
      "Train Epoch: 2 [2662400/8102750 (33%)]\tLoss: 0.124402\n",
      "Train Epoch: 2 [2764800/8102750 (34%)]\tLoss: 0.123794\n",
      "Train Epoch: 2 [2867200/8102750 (35%)]\tLoss: 0.122230\n",
      "Train Epoch: 2 [2969600/8102750 (37%)]\tLoss: 0.123064\n",
      "Train Epoch: 2 [3072000/8102750 (38%)]\tLoss: 0.122323\n",
      "[0/493590 (0%)]\n",
      "[102400/493590 (21%)]\n",
      "[204800/493590 (41%)]\n",
      "[307200/493590 (62%)]\n",
      "[409600/493590 (83%)]\n",
      "ROC AUC Score: 0.862503\n",
      "Validation Loss: 0.154583\n",
      "Train Epoch: 2 [3174400/8102750 (39%)]\tLoss: 0.120312\n",
      "Train Epoch: 2 [3276800/8102750 (40%)]\tLoss: 0.123997\n",
      "Train Epoch: 2 [3379200/8102750 (42%)]\tLoss: 0.120813\n",
      "Train Epoch: 2 [3481600/8102750 (43%)]\tLoss: 0.124499\n",
      "Train Epoch: 2 [3584000/8102750 (44%)]\tLoss: 0.122012\n",
      "Train Epoch: 2 [3686400/8102750 (45%)]\tLoss: 0.122501\n",
      "Train Epoch: 2 [3788800/8102750 (47%)]\tLoss: 0.122430\n",
      "Train Epoch: 2 [3891200/8102750 (48%)]\tLoss: 0.123290\n",
      "Train Epoch: 2 [3993600/8102750 (49%)]\tLoss: 0.118756\n",
      "Train Epoch: 2 [4096000/8102750 (51%)]\tLoss: 0.122739\n",
      "[0/493590 (0%)]\n",
      "[102400/493590 (21%)]\n",
      "[204800/493590 (41%)]\n",
      "[307200/493590 (62%)]\n",
      "[409600/493590 (83%)]\n",
      "ROC AUC Score: 0.871123\n",
      "Validation Loss: 0.156883\n",
      "Train Epoch: 2 [4198400/8102750 (52%)]\tLoss: 0.123138\n",
      "Train Epoch: 2 [4300800/8102750 (53%)]\tLoss: 0.126184\n",
      "Train Epoch: 2 [4403200/8102750 (54%)]\tLoss: 0.124132\n",
      "Train Epoch: 2 [4505600/8102750 (56%)]\tLoss: 0.122201\n",
      "Train Epoch: 2 [4608000/8102750 (57%)]\tLoss: 0.123098\n",
      "Train Epoch: 2 [4710400/8102750 (58%)]\tLoss: 0.123491\n",
      "Train Epoch: 2 [4812800/8102750 (59%)]\tLoss: 0.122319\n",
      "Train Epoch: 2 [4915200/8102750 (61%)]\tLoss: 0.123286\n",
      "Train Epoch: 2 [5017600/8102750 (62%)]\tLoss: 0.122002\n",
      "Train Epoch: 2 [5120000/8102750 (63%)]\tLoss: 0.121379\n",
      "[0/493590 (0%)]\n",
      "[102400/493590 (21%)]\n",
      "[204800/493590 (41%)]\n",
      "[307200/493590 (62%)]\n",
      "[409600/493590 (83%)]\n",
      "ROC AUC Score: 0.871296\n",
      "Validation Loss: 0.164867\n",
      "Train Epoch: 2 [5222400/8102750 (64%)]\tLoss: 0.124867\n",
      "Train Epoch: 2 [5324800/8102750 (66%)]\tLoss: 0.121483\n",
      "Train Epoch: 2 [5427200/8102750 (67%)]\tLoss: 0.122394\n",
      "Train Epoch: 2 [5529600/8102750 (68%)]\tLoss: 0.118495\n",
      "Train Epoch: 2 [5632000/8102750 (70%)]\tLoss: 0.122852\n",
      "Train Epoch: 2 [5734400/8102750 (71%)]\tLoss: 0.123894\n",
      "Train Epoch: 2 [5836800/8102750 (72%)]\tLoss: 0.125669\n",
      "Train Epoch: 2 [5939200/8102750 (73%)]\tLoss: 0.125341\n",
      "Train Epoch: 2 [6041600/8102750 (75%)]\tLoss: 0.121995\n",
      "Train Epoch: 2 [6144000/8102750 (76%)]\tLoss: 0.123229\n",
      "[0/493590 (0%)]\n",
      "[102400/493590 (21%)]\n",
      "[204800/493590 (41%)]\n",
      "[307200/493590 (62%)]\n",
      "[409600/493590 (83%)]\n",
      "ROC AUC Score: 0.862234\n",
      "Validation Loss: 0.172126\n",
      "Train Epoch: 2 [6246400/8102750 (77%)]\tLoss: 0.126390\n",
      "Train Epoch: 2 [6348800/8102750 (78%)]\tLoss: 0.122208\n",
      "Train Epoch: 2 [6451200/8102750 (80%)]\tLoss: 0.120830\n",
      "Train Epoch: 2 [6553600/8102750 (81%)]\tLoss: 0.122368\n",
      "Train Epoch: 2 [6656000/8102750 (82%)]\tLoss: 0.121778\n",
      "Train Epoch: 2 [6758400/8102750 (83%)]\tLoss: 0.117981\n",
      "Train Epoch: 2 [6860800/8102750 (85%)]\tLoss: 0.123978\n",
      "Train Epoch: 2 [6963200/8102750 (86%)]\tLoss: 0.123715\n",
      "Train Epoch: 2 [7065600/8102750 (87%)]\tLoss: 0.119993\n",
      "Train Epoch: 2 [7168000/8102750 (88%)]\tLoss: 0.123508\n",
      "[0/493590 (0%)]\n",
      "[102400/493590 (21%)]\n",
      "[204800/493590 (41%)]\n",
      "[307200/493590 (62%)]\n",
      "[409600/493590 (83%)]\n",
      "ROC AUC Score: 0.868207\n",
      "Validation Loss: 0.147262\n",
      "Train Epoch: 2 [7270400/8102750 (90%)]\tLoss: 0.121108\n",
      "Train Epoch: 2 [7372800/8102750 (91%)]\tLoss: 0.122113\n",
      "Train Epoch: 2 [7475200/8102750 (92%)]\tLoss: 0.124058\n",
      "Train Epoch: 2 [7577600/8102750 (94%)]\tLoss: 0.123787\n",
      "Train Epoch: 2 [7680000/8102750 (95%)]\tLoss: 0.122947\n",
      "Train Epoch: 2 [7782400/8102750 (96%)]\tLoss: 0.122435\n",
      "Train Epoch: 2 [7884800/8102750 (97%)]\tLoss: 0.120207\n",
      "Train Epoch: 2 [7987200/8102750 (99%)]\tLoss: 0.125278\n",
      "Train Epoch: 2 [8089600/8102750 (100%)]\tLoss: 0.123256\n",
      "\n",
      "CPU times: user 16min 38s, sys: 16.8 s, total: 16min 54s\n",
      "Wall time: 16min 59s\n"
     ]
    }
   ],
   "source": [
    "%%time\n",
    "model, train_losses, val_losses, val_aucs = train_model(model, optimizer, criterion, \n",
    "                                train_ds, val_ds, n_epochs=2, USE_CUDA=USE_CUDA,\n",
    "                                val_every=10)"
   ]
  },
  {
   "cell_type": "code",
   "execution_count": 24,
   "metadata": {},
   "outputs": [],
   "source": [
    "train_losses = pd.Series(train_losses)\n",
    "val_losses = pd.Series(val_losses)\n",
    "val_aucs = pd.Series(val_aucs)"
   ]
  },
  {
   "cell_type": "code",
   "execution_count": 25,
   "metadata": {},
   "outputs": [
    {
     "data": {
      "text/plain": [
       "<matplotlib.axes._subplots.AxesSubplot at 0x7f1d96644128>"
      ]
     },
     "execution_count": 25,
     "metadata": {},
     "output_type": "execute_result"
    },
    {
     "data": {
      "image/png": "[encoded data removed]",
      "text/plain": [
       "<matplotlib.figure.Figure at 0x7f2022aa0710>"
      ]
     },
     "metadata": {
      "image/png": {
       "height": 248,
       "width": 378
      }
     },
     "output_type": "display_data"
    }
   ],
   "source": [
    "train_losses.plot()"
   ]
  },
  {
   "cell_type": "code",
   "execution_count": 26,
   "metadata": {},
   "outputs": [
    {
     "data": {
      "text/plain": [
       "<matplotlib.axes._subplots.AxesSubplot at 0x7f1f6d8c1128>"
      ]
     },
     "execution_count": 26,
     "metadata": {},
     "output_type": "execute_result"
    },
    {
     "data": {
      "image/png": "[encoded data removed]",
      "text/plain": [
       "<matplotlib.figure.Figure at 0x7f1f0725bd68>"
      ]
     },
     "metadata": {
      "image/png": {
       "height": 248,
       "width": 378
      }
     },
     "output_type": "display_data"
    }
   ],
   "source": [
    "val_losses.plot()"
   ]
  },
  {
   "cell_type": "code",
   "execution_count": 27,
   "metadata": {},
   "outputs": [
    {
     "data": {
      "text/plain": [
       "<matplotlib.axes._subplots.AxesSubplot at 0x7f1de6d50198>"
      ]
     },
     "execution_count": 27,
     "metadata": {},
     "output_type": "execute_result"
    },
    {
     "data": {
      "image/png": "[encoded data removed]",
      "text/plain": [
       "<matplotlib.figure.Figure at 0x7f1f635935c0>"
      ]
     },
     "metadata": {
      "image/png": {
       "height": 248,
       "width": 378
      }
     },
     "output_type": "display_data"
    }
   ],
   "source": [
    "val_aucs.plot()"
   ]
  },
  {
   "cell_type": "code",
   "execution_count": 29,
   "metadata": {},
   "outputs": [],
   "source": [
    "torch.save(model.state_dict(), INTERIM/'27_model_weights.pkl')"
   ]
  },
  {
   "cell_type": "markdown",
   "metadata": {},
   "source": [
    "## All train"
   ]
  },
  {
   "cell_type": "code",
   "execution_count": 28,
   "metadata": {},
   "outputs": [
    {
     "name": "stdout",
     "output_type": "stream",
     "text": [
      "CPU times: user 3.8 s, sys: 5.4 s, total: 9.2 s\n",
      "Wall time: 9.19 s\n"
     ]
    }
   ],
   "source": [
    "%%time\n",
    "all_train_ds = DataLoader(TabularDataset(pd.concat([train, val]), cat_cols, num_cols, target_col), \n",
    "                                              batch_size=128, shuffle=True)\n",
    "test_ds = DataLoader(TabularDataset(test, cat_cols, num_cols), batch_size=128)"
   ]
  },
  {
   "cell_type": "code",
   "execution_count": 30,
   "metadata": {},
   "outputs": [],
   "source": [
    "model = NeuralNet(emb_szs, n_cont=len(num_cols), emb_drop=0.04, \n",
    "                  szs=[1000, 500, 500], drops=[0.001, 0.01, 0.01], \n",
    "                  use_bn=True)"
   ]
  },
  {
   "cell_type": "code",
   "execution_count": 31,
   "metadata": {},
   "outputs": [],
   "source": [
    "optimizer = optim.Adam(model.parameters(), lr=1e-3)\n",
    "criterion = nn.BCEWithLogitsLoss()"
   ]
  },
  {
   "cell_type": "code",
   "execution_count": 32,
   "metadata": {},
   "outputs": [
    {
     "name": "stdout",
     "output_type": "stream",
     "text": [
      "Train Epoch: 1 [102400/8596340 (1%)]\tLoss: 0.166195\n",
      "Train Epoch: 1 [204800/8596340 (2%)]\tLoss: 0.133631\n",
      "Train Epoch: 1 [307200/8596340 (4%)]\tLoss: 0.133768\n",
      "Train Epoch: 1 [409600/8596340 (5%)]\tLoss: 0.130278\n",
      "Train Epoch: 1 [512000/8596340 (6%)]\tLoss: 0.127651\n",
      "Train Epoch: 1 [614400/8596340 (7%)]\tLoss: 0.131835\n",
      "Train Epoch: 1 [716800/8596340 (8%)]\tLoss: 0.129264\n",
      "Train Epoch: 1 [819200/8596340 (10%)]\tLoss: 0.129838\n",
      "Train Epoch: 1 [921600/8596340 (11%)]\tLoss: 0.129037\n",
      "Train Epoch: 1 [1024000/8596340 (12%)]\tLoss: 0.128197\n",
      "Train Epoch: 1 [1126400/8596340 (13%)]\tLoss: 0.126020\n",
      "Train Epoch: 1 [1228800/8596340 (14%)]\tLoss: 0.127563\n",
      "Train Epoch: 1 [1331200/8596340 (15%)]\tLoss: 0.130429\n",
      "Train Epoch: 1 [1433600/8596340 (17%)]\tLoss: 0.127178\n",
      "Train Epoch: 1 [1536000/8596340 (18%)]\tLoss: 0.124723\n",
      "Train Epoch: 1 [1638400/8596340 (19%)]\tLoss: 0.129105\n",
      "Train Epoch: 1 [1740800/8596340 (20%)]\tLoss: 0.128726\n",
      "Train Epoch: 1 [1843200/8596340 (21%)]\tLoss: 0.126376\n",
      "Train Epoch: 1 [1945600/8596340 (23%)]\tLoss: 0.126274\n",
      "Train Epoch: 1 [2048000/8596340 (24%)]\tLoss: 0.128366\n",
      "Train Epoch: 1 [2150400/8596340 (25%)]\tLoss: 0.128380\n",
      "Train Epoch: 1 [2252800/8596340 (26%)]\tLoss: 0.122474\n",
      "Train Epoch: 1 [2355200/8596340 (27%)]\tLoss: 0.126732\n",
      "Train Epoch: 1 [2457600/8596340 (29%)]\tLoss: 0.127613\n",
      "Train Epoch: 1 [2560000/8596340 (30%)]\tLoss: 0.124718\n",
      "Train Epoch: 1 [2662400/8596340 (31%)]\tLoss: 0.126967\n",
      "Train Epoch: 1 [2764800/8596340 (32%)]\tLoss: 0.123131\n",
      "Train Epoch: 1 [2867200/8596340 (33%)]\tLoss: 0.124153\n",
      "Train Epoch: 1 [2969600/8596340 (35%)]\tLoss: 0.126833\n",
      "Train Epoch: 1 [3072000/8596340 (36%)]\tLoss: 0.124984\n",
      "Train Epoch: 1 [3174400/8596340 (37%)]\tLoss: 0.127873\n",
      "Train Epoch: 1 [3276800/8596340 (38%)]\tLoss: 0.126832\n",
      "Train Epoch: 1 [3379200/8596340 (39%)]\tLoss: 0.126425\n",
      "Train Epoch: 1 [3481600/8596340 (41%)]\tLoss: 0.125400\n",
      "Train Epoch: 1 [3584000/8596340 (42%)]\tLoss: 0.124643\n",
      "Train Epoch: 1 [3686400/8596340 (43%)]\tLoss: 0.127059\n",
      "Train Epoch: 1 [3788800/8596340 (44%)]\tLoss: 0.125003\n",
      "Train Epoch: 1 [3891200/8596340 (45%)]\tLoss: 0.123349\n",
      "Train Epoch: 1 [3993600/8596340 (46%)]\tLoss: 0.125685\n",
      "Train Epoch: 1 [4096000/8596340 (48%)]\tLoss: 0.125072\n",
      "Train Epoch: 1 [4198400/8596340 (49%)]\tLoss: 0.119431\n",
      "Train Epoch: 1 [4300800/8596340 (50%)]\tLoss: 0.123149\n",
      "Train Epoch: 1 [4403200/8596340 (51%)]\tLoss: 0.122224\n",
      "Train Epoch: 1 [4505600/8596340 (52%)]\tLoss: 0.124242\n",
      "Train Epoch: 1 [4608000/8596340 (54%)]\tLoss: 0.125052\n",
      "Train Epoch: 1 [4710400/8596340 (55%)]\tLoss: 0.123761\n",
      "Train Epoch: 1 [4812800/8596340 (56%)]\tLoss: 0.123682\n",
      "Train Epoch: 1 [4915200/8596340 (57%)]\tLoss: 0.123960\n",
      "Train Epoch: 1 [5017600/8596340 (58%)]\tLoss: 0.125898\n",
      "Train Epoch: 1 [5120000/8596340 (60%)]\tLoss: 0.124840\n",
      "Train Epoch: 1 [5222400/8596340 (61%)]\tLoss: 0.124645\n",
      "Train Epoch: 1 [5324800/8596340 (62%)]\tLoss: 0.122364\n",
      "Train Epoch: 1 [5427200/8596340 (63%)]\tLoss: 0.124310\n",
      "Train Epoch: 1 [5529600/8596340 (64%)]\tLoss: 0.126255\n",
      "Train Epoch: 1 [5632000/8596340 (66%)]\tLoss: 0.123343\n",
      "Train Epoch: 1 [5734400/8596340 (67%)]\tLoss: 0.127340\n",
      "Train Epoch: 1 [5836800/8596340 (68%)]\tLoss: 0.123266\n",
      "Train Epoch: 1 [5939200/8596340 (69%)]\tLoss: 0.124895\n",
      "Train Epoch: 1 [6041600/8596340 (70%)]\tLoss: 0.123332\n",
      "Train Epoch: 1 [6144000/8596340 (71%)]\tLoss: 0.123369\n",
      "Train Epoch: 1 [6246400/8596340 (73%)]\tLoss: 0.123299\n",
      "Train Epoch: 1 [6348800/8596340 (74%)]\tLoss: 0.126550\n",
      "Train Epoch: 1 [6451200/8596340 (75%)]\tLoss: 0.123007\n",
      "Train Epoch: 1 [6553600/8596340 (76%)]\tLoss: 0.125950\n",
      "Train Epoch: 1 [6656000/8596340 (77%)]\tLoss: 0.124418\n",
      "Train Epoch: 1 [6758400/8596340 (79%)]\tLoss: 0.124336\n",
      "Train Epoch: 1 [6860800/8596340 (80%)]\tLoss: 0.123853\n",
      "Train Epoch: 1 [6963200/8596340 (81%)]\tLoss: 0.122531\n",
      "Train Epoch: 1 [7065600/8596340 (82%)]\tLoss: 0.125109\n",
      "Train Epoch: 1 [7168000/8596340 (83%)]\tLoss: 0.122046\n",
      "Train Epoch: 1 [7270400/8596340 (85%)]\tLoss: 0.121705\n",
      "Train Epoch: 1 [7372800/8596340 (86%)]\tLoss: 0.122103\n",
      "Train Epoch: 1 [7475200/8596340 (87%)]\tLoss: 0.125170\n",
      "Train Epoch: 1 [7577600/8596340 (88%)]\tLoss: 0.122597\n",
      "Train Epoch: 1 [7680000/8596340 (89%)]\tLoss: 0.123388\n",
      "Train Epoch: 1 [7782400/8596340 (91%)]\tLoss: 0.118862\n",
      "Train Epoch: 1 [7884800/8596340 (92%)]\tLoss: 0.123548\n",
      "Train Epoch: 1 [7987200/8596340 (93%)]\tLoss: 0.125777\n",
      "Train Epoch: 1 [8089600/8596340 (94%)]\tLoss: 0.123979\n",
      "Train Epoch: 1 [8192000/8596340 (95%)]\tLoss: 0.121302\n",
      "Train Epoch: 1 [8294400/8596340 (96%)]\tLoss: 0.125086\n",
      "Train Epoch: 1 [8396800/8596340 (98%)]\tLoss: 0.125304\n",
      "Train Epoch: 1 [8499200/8596340 (99%)]\tLoss: 0.124579\n",
      "\n",
      "Train Epoch: 2 [102400/8596340 (1%)]\tLoss: 0.123410\n",
      "Train Epoch: 2 [204800/8596340 (2%)]\tLoss: 0.126781\n",
      "Train Epoch: 2 [307200/8596340 (4%)]\tLoss: 0.123262\n",
      "Train Epoch: 2 [409600/8596340 (5%)]\tLoss: 0.122889\n",
      "Train Epoch: 2 [512000/8596340 (6%)]\tLoss: 0.123346\n",
      "Train Epoch: 2 [614400/8596340 (7%)]\tLoss: 0.121566\n",
      "Train Epoch: 2 [716800/8596340 (8%)]\tLoss: 0.120110\n",
      "Train Epoch: 2 [819200/8596340 (10%)]\tLoss: 0.122265\n",
      "Train Epoch: 2 [921600/8596340 (11%)]\tLoss: 0.122752\n",
      "Train Epoch: 2 [1024000/8596340 (12%)]\tLoss: 0.125801\n",
      "Train Epoch: 2 [1126400/8596340 (13%)]\tLoss: 0.124456\n",
      "Train Epoch: 2 [1228800/8596340 (14%)]\tLoss: 0.122157\n",
      "Train Epoch: 2 [1331200/8596340 (15%)]\tLoss: 0.122523\n",
      "Train Epoch: 2 [1433600/8596340 (17%)]\tLoss: 0.124919\n",
      "Train Epoch: 2 [1536000/8596340 (18%)]\tLoss: 0.124423\n",
      "Train Epoch: 2 [1638400/8596340 (19%)]\tLoss: 0.119532\n",
      "Train Epoch: 2 [1740800/8596340 (20%)]\tLoss: 0.123358\n",
      "Train Epoch: 2 [1843200/8596340 (21%)]\tLoss: 0.120855\n",
      "Train Epoch: 2 [1945600/8596340 (23%)]\tLoss: 0.119838\n",
      "Train Epoch: 2 [2048000/8596340 (24%)]\tLoss: 0.122403\n",
      "Train Epoch: 2 [2150400/8596340 (25%)]\tLoss: 0.119095\n",
      "Train Epoch: 2 [2252800/8596340 (26%)]\tLoss: 0.123626\n",
      "Train Epoch: 2 [2355200/8596340 (27%)]\tLoss: 0.124158\n",
      "Train Epoch: 2 [2457600/8596340 (29%)]\tLoss: 0.120748\n",
      "Train Epoch: 2 [2560000/8596340 (30%)]\tLoss: 0.122203\n",
      "Train Epoch: 2 [2662400/8596340 (31%)]\tLoss: 0.122961\n",
      "Train Epoch: 2 [2764800/8596340 (32%)]\tLoss: 0.120809\n",
      "Train Epoch: 2 [2867200/8596340 (33%)]\tLoss: 0.119041\n",
      "Train Epoch: 2 [2969600/8596340 (35%)]\tLoss: 0.121679\n",
      "Train Epoch: 2 [3072000/8596340 (36%)]\tLoss: 0.122109\n",
      "Train Epoch: 2 [3174400/8596340 (37%)]\tLoss: 0.122793\n",
      "Train Epoch: 2 [3276800/8596340 (38%)]\tLoss: 0.123027\n",
      "Train Epoch: 2 [3379200/8596340 (39%)]\tLoss: 0.122614\n",
      "Train Epoch: 2 [3481600/8596340 (41%)]\tLoss: 0.121160\n",
      "Train Epoch: 2 [3584000/8596340 (42%)]\tLoss: 0.122020\n",
      "Train Epoch: 2 [3686400/8596340 (43%)]\tLoss: 0.121095\n",
      "Train Epoch: 2 [3788800/8596340 (44%)]\tLoss: 0.121739\n",
      "Train Epoch: 2 [3891200/8596340 (45%)]\tLoss: 0.122638\n",
      "Train Epoch: 2 [3993600/8596340 (46%)]\tLoss: 0.120642\n",
      "Train Epoch: 2 [4096000/8596340 (48%)]\tLoss: 0.123628\n",
      "Train Epoch: 2 [4198400/8596340 (49%)]\tLoss: 0.120137\n",
      "Train Epoch: 2 [4300800/8596340 (50%)]\tLoss: 0.122378\n",
      "Train Epoch: 2 [4403200/8596340 (51%)]\tLoss: 0.118396\n",
      "Train Epoch: 2 [4505600/8596340 (52%)]\tLoss: 0.120209\n",
      "Train Epoch: 2 [4608000/8596340 (54%)]\tLoss: 0.121245\n",
      "Train Epoch: 2 [4710400/8596340 (55%)]\tLoss: 0.120894\n",
      "Train Epoch: 2 [4812800/8596340 (56%)]\tLoss: 0.120666\n",
      "Train Epoch: 2 [4915200/8596340 (57%)]\tLoss: 0.123210\n",
      "Train Epoch: 2 [5017600/8596340 (58%)]\tLoss: 0.122633\n",
      "Train Epoch: 2 [5120000/8596340 (60%)]\tLoss: 0.123929\n",
      "Train Epoch: 2 [5222400/8596340 (61%)]\tLoss: 0.123914\n",
      "Train Epoch: 2 [5324800/8596340 (62%)]\tLoss: 0.121479\n",
      "Train Epoch: 2 [5427200/8596340 (63%)]\tLoss: 0.121687\n",
      "Train Epoch: 2 [5529600/8596340 (64%)]\tLoss: 0.122899\n",
      "Train Epoch: 2 [5632000/8596340 (66%)]\tLoss: 0.122162\n",
      "Train Epoch: 2 [5734400/8596340 (67%)]\tLoss: 0.124383\n",
      "Train Epoch: 2 [5836800/8596340 (68%)]\tLoss: 0.120451\n",
      "Train Epoch: 2 [5939200/8596340 (69%)]\tLoss: 0.116749\n",
      "Train Epoch: 2 [6041600/8596340 (70%)]\tLoss: 0.119743\n",
      "Train Epoch: 2 [6144000/8596340 (71%)]\tLoss: 0.120326\n",
      "Train Epoch: 2 [6246400/8596340 (73%)]\tLoss: 0.121895\n",
      "Train Epoch: 2 [6348800/8596340 (74%)]\tLoss: 0.120297\n",
      "Train Epoch: 2 [6451200/8596340 (75%)]\tLoss: 0.122564\n",
      "Train Epoch: 2 [6553600/8596340 (76%)]\tLoss: 0.121928\n",
      "Train Epoch: 2 [6656000/8596340 (77%)]\tLoss: 0.122682\n",
      "Train Epoch: 2 [6758400/8596340 (79%)]\tLoss: 0.118814\n",
      "Train Epoch: 2 [6860800/8596340 (80%)]\tLoss: 0.120674\n",
      "Train Epoch: 2 [6963200/8596340 (81%)]\tLoss: 0.121374\n",
      "Train Epoch: 2 [7065600/8596340 (82%)]\tLoss: 0.123340\n",
      "Train Epoch: 2 [7168000/8596340 (83%)]\tLoss: 0.120143\n",
      "Train Epoch: 2 [7270400/8596340 (85%)]\tLoss: 0.120311\n",
      "Train Epoch: 2 [7372800/8596340 (86%)]\tLoss: 0.119832\n",
      "Train Epoch: 2 [7475200/8596340 (87%)]\tLoss: 0.124068\n",
      "Train Epoch: 2 [7577600/8596340 (88%)]\tLoss: 0.122770\n",
      "Train Epoch: 2 [7680000/8596340 (89%)]\tLoss: 0.122406\n",
      "Train Epoch: 2 [7782400/8596340 (91%)]\tLoss: 0.120296\n",
      "Train Epoch: 2 [7884800/8596340 (92%)]\tLoss: 0.124865\n",
      "Train Epoch: 2 [7987200/8596340 (93%)]\tLoss: 0.119925\n",
      "Train Epoch: 2 [8089600/8596340 (94%)]\tLoss: 0.120948\n",
      "Train Epoch: 2 [8192000/8596340 (95%)]\tLoss: 0.120011\n",
      "Train Epoch: 2 [8294400/8596340 (96%)]\tLoss: 0.123371\n",
      "Train Epoch: 2 [8396800/8596340 (98%)]\tLoss: 0.120343\n",
      "Train Epoch: 2 [8499200/8596340 (99%)]\tLoss: 0.122272\n",
      "\n",
      "CPU times: user 16min 51s, sys: 13.3 s, total: 17min 5s\n",
      "Wall time: 17min 24s\n"
     ]
    }
   ],
   "source": [
    "%%time\n",
    "model, train_losses, _, _ = train_model(model, optimizer, criterion, \n",
    "                                all_train_ds, None, n_epochs=2, \n",
    "                                USE_CUDA=USE_CUDA, val_every=10)"
   ]
  },
  {
   "cell_type": "code",
   "execution_count": 42,
   "metadata": {},
   "outputs": [],
   "source": [
    "torch.save(model.state_dict(), INTERIM/'27_all_train_model_weights.pkl')"
   ]
  },
  {
   "cell_type": "code",
   "execution_count": 33,
   "metadata": {},
   "outputs": [],
   "source": [
    "from src.neuralnet import get_predictions"
   ]
  },
  {
   "cell_type": "code",
   "execution_count": 35,
   "metadata": {},
   "outputs": [
    {
     "name": "stdout",
     "output_type": "stream",
     "text": [
      "[0/484758 (0%)]\n",
      "[102400/484758 (21%)]\n",
      "[204800/484758 (42%)]\n",
      "[307200/484758 (63%)]\n",
      "[409600/484758 (84%)]\n"
     ]
    }
   ],
   "source": [
    "targets, preds = get_predictions(model, test_ds, USE_CUDA=True)"
   ]
  },
  {
   "cell_type": "code",
   "execution_count": 36,
   "metadata": {},
   "outputs": [],
   "source": [
    "test[target_col] = preds"
   ]
  },
  {
   "cell_type": "markdown",
   "metadata": {},
   "source": [
    "## Submission"
   ]
  },
  {
   "cell_type": "code",
   "execution_count": 37,
   "metadata": {},
   "outputs": [],
   "source": [
    "submission = pd.read_csv(RAW/'sample_submission.csv', low_memory=False)\n",
    "submission = pd.merge(submission[['PredictionIdx']], test[['PredictionIdx', target_col]], \n",
    "                      how='left', on='PredictionIdx')"
   ]
  },
  {
   "cell_type": "code",
   "execution_count": 38,
   "metadata": {},
   "outputs": [
    {
     "data": {
      "text/plain": [
       "count    484758.000000\n",
       "mean          0.015546\n",
       "std           0.027218\n",
       "min           0.000000\n",
       "25%           0.004143\n",
       "50%           0.009423\n",
       "75%           0.018268\n",
       "max           1.000000\n",
       "Name: CustomerInterest, dtype: float64"
      ]
     },
     "execution_count": 38,
     "metadata": {},
     "output_type": "execute_result"
    }
   ],
   "source": [
    "submission[target_col].describe()"
   ]
  },
  {
   "cell_type": "code",
   "execution_count": 39,
   "metadata": {},
   "outputs": [
    {
     "data": {
      "text/html": [
       "<div>\n",
       "<style scoped>\n",
       "    .dataframe tbody tr th:only-of-type {\n",
       "        vertical-align: middle;\n",
       "    }\n",
       "\n",
       "    .dataframe tbody tr th {\n",
       "        vertical-align: top;\n",
       "    }\n",
       "\n",
       "    .dataframe thead th {\n",
       "        text-align: right;\n",
       "    }\n",
       "</style>\n",
       "<table border=\"1\" class=\"dataframe\">\n",
       "  <thead>\n",
       "    <tr style=\"text-align: right;\">\n",
       "      <th></th>\n",
       "      <th>PredictionIdx</th>\n",
       "      <th>CustomerInterest</th>\n",
       "    </tr>\n",
       "  </thead>\n",
       "  <tbody>\n",
       "    <tr>\n",
       "      <th>0</th>\n",
       "      <td>a1e0d80784</td>\n",
       "      <td>0.005458</td>\n",
       "    </tr>\n",
       "    <tr>\n",
       "      <th>1</th>\n",
       "      <td>c2cc6cc2a8</td>\n",
       "      <td>0.025533</td>\n",
       "    </tr>\n",
       "    <tr>\n",
       "      <th>2</th>\n",
       "      <td>a8e94f6344</td>\n",
       "      <td>0.002645</td>\n",
       "    </tr>\n",
       "    <tr>\n",
       "      <th>3</th>\n",
       "      <td>758bae1e35</td>\n",
       "      <td>0.000140</td>\n",
       "    </tr>\n",
       "    <tr>\n",
       "      <th>4</th>\n",
       "      <td>02ab378ee8</td>\n",
       "      <td>0.000296</td>\n",
       "    </tr>\n",
       "  </tbody>\n",
       "</table>\n",
       "</div>"
      ],
      "text/plain": [
       "  PredictionIdx  CustomerInterest\n",
       "0    a1e0d80784          0.005458\n",
       "1    c2cc6cc2a8          0.025533\n",
       "2    a8e94f6344          0.002645\n",
       "3    758bae1e35          0.000140\n",
       "4    02ab378ee8          0.000296"
      ]
     },
     "execution_count": 39,
     "metadata": {},
     "output_type": "execute_result"
    }
   ],
   "source": [
    "submission.head()"
   ]
  },
  {
   "cell_type": "code",
   "execution_count": 40,
   "metadata": {},
   "outputs": [
    {
     "data": {
      "text/plain": [
       "<matplotlib.axes._subplots.AxesSubplot at 0x7f1f64c10da0>"
      ]
     },
     "execution_count": 40,
     "metadata": {},
     "output_type": "execute_result"
    },
    {
     "data": {
      "image/png": "[encoded data removed]",
      "text/plain": [
       "<matplotlib.figure.Figure at 0x7f1f64c107b8>"
      ]
     },
     "metadata": {
      "image/png": {
       "height": 248,
       "width": 394
      }
     },
     "output_type": "display_data"
    }
   ],
   "source": [
    "submission[target_col].hist(bins=50)"
   ]
  },
  {
   "cell_type": "code",
   "execution_count": 41,
   "metadata": {},
   "outputs": [],
   "source": [
    "submission.to_csv(SUBMISSIONS/'RA05-26-neuralnet_alltrain_2018_scaled_SVD_diffscounts.csv', index=False)"
   ]
  },
  {
   "cell_type": "code",
   "execution_count": null,
   "metadata": {},
   "outputs": [],
   "source": []
  }
 ],
 "metadata": {
  "kernelspec": {
   "display_name": "Python 3",
   "language": "python",
   "name": "python3"
  },
  "language_info": {
   "codemirror_mode": {
    "name": "ipython",
    "version": 3
   },
   "file_extension": ".py",
   "mimetype": "text/x-python",
   "name": "python",
   "nbconvert_exporter": "python",
   "pygments_lexer": "ipython3",
   "version": "3.6.4"
  }
 },
 "nbformat": 4,
 "nbformat_minor": 2
}
