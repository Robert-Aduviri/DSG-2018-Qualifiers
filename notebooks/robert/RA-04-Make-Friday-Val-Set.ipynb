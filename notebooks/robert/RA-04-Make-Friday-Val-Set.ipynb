{
 "cells": [
  {
   "cell_type": "code",
   "execution_count": 1,
   "metadata": {},
   "outputs": [],
   "source": [
    "%load_ext autoreload\n",
    "%autoreload 2\n",
    "%matplotlib inline\n",
    "%config InlineBackend.figure_format = 'retina'\n",
    "\n",
    "import os, math\n",
    "import numpy as np, pandas as pd\n",
    "import matplotlib.pyplot as plt, seaborn as sns\n",
    "from pandas_summary import DataFrameSummary\n",
    "from tqdm import tqdm, tqdm_notebook\n",
    "from pathlib import Path\n",
    "pd.set_option('display.max_columns', 1000)\n",
    "pd.set_option('display.max_rows', 400)\n",
    "sns.set()\n",
    "\n",
    "os.chdir('../..')\n",
    "from src import utils"
   ]
  },
  {
   "cell_type": "code",
   "execution_count": 2,
   "metadata": {},
   "outputs": [],
   "source": [
    "DATA      = Path('data')\n",
    "RAW       = DATA/'raw'\n",
    "INTERIM   = DATA/'interim'\n",
    "PROCESSED = DATA/'processed'"
   ]
  },
  {
   "cell_type": "code",
   "execution_count": 3,
   "metadata": {},
   "outputs": [],
   "source": [
    "challenge  = pd.read_csv(RAW/'Challenge_20180423.csv', low_memory=False)\n",
    "customer   = pd.read_csv(RAW/'Customer.csv', low_memory=False)\n",
    "isin       = pd.read_csv(RAW/'Isin.csv', low_memory=False)\n",
    "submission = pd.read_csv(RAW/'sample_submission.csv', low_memory=False)\n",
    "trade      = pd.read_csv(RAW/'Trade.csv', low_memory=False)"
   ]
  },
  {
   "cell_type": "code",
   "execution_count": 4,
   "metadata": {},
   "outputs": [],
   "source": [
    "val_friday = pd.read_feather(PROCESSED/'val_180420.feather')"
   ]
  },
  {
   "cell_type": "code",
   "execution_count": 15,
   "metadata": {},
   "outputs": [],
   "source": [
    "from src.utils import make_val_set\n",
    "val_thursday = make_val_set(trade[trade.TradeDateKey==20180419], challenge)"
   ]
  },
  {
   "cell_type": "code",
   "execution_count": 16,
   "metadata": {},
   "outputs": [
    {
     "data": {
      "text/plain": [
       "((487172, 6), (486338, 5))"
      ]
     },
     "execution_count": 16,
     "metadata": {},
     "output_type": "execute_result"
    }
   ],
   "source": [
    "val_friday.shape, val_thursday.shape"
   ]
  },
  {
   "cell_type": "code",
   "execution_count": 12,
   "metadata": {},
   "outputs": [],
   "source": [
    "trades_2018 = trade[trade.TradeDateKey>20180000]"
   ]
  },
  {
   "cell_type": "code",
   "execution_count": 14,
   "metadata": {},
   "outputs": [
    {
     "data": {
      "text/plain": [
       "(849110, 8)"
      ]
     },
     "execution_count": 14,
     "metadata": {},
     "output_type": "execute_result"
    }
   ],
   "source": [
    "trades_2018.shape"
   ]
  },
  {
   "cell_type": "code",
   "execution_count": 17,
   "metadata": {},
   "outputs": [],
   "source": [
    "train_friday = trades_2018[trades_2018.TradeDateKey<20180420]\n",
    "train_thursday = trades_2018[trades_2018.TradeDateKey<20180419]"
   ]
  },
  {
   "cell_type": "code",
   "execution_count": 21,
   "metadata": {},
   "outputs": [],
   "source": [
    "train_friday = train_friday[train_friday.CustomerInterest == 1]\n",
    "train_thursday = train_thursday[train_thursday.CustomerInterest == 1]"
   ]
  },
  {
   "cell_type": "code",
   "execution_count": 24,
   "metadata": {},
   "outputs": [
    {
     "data": {
      "text/html": [
       "<div>\n",
       "<style scoped>\n",
       "    .dataframe tbody tr th:only-of-type {\n",
       "        vertical-align: middle;\n",
       "    }\n",
       "\n",
       "    .dataframe tbody tr th {\n",
       "        vertical-align: top;\n",
       "    }\n",
       "\n",
       "    .dataframe thead th {\n",
       "        text-align: right;\n",
       "    }\n",
       "</style>\n",
       "<table border=\"1\" class=\"dataframe\">\n",
       "  <thead>\n",
       "    <tr style=\"text-align: right;\">\n",
       "      <th></th>\n",
       "      <th>TradeDateKey</th>\n",
       "      <th>CustomerIdx</th>\n",
       "      <th>IsinIdx</th>\n",
       "      <th>BuySell</th>\n",
       "      <th>NotionalEUR</th>\n",
       "      <th>Price</th>\n",
       "      <th>TradeStatus</th>\n",
       "      <th>CustomerInterest</th>\n",
       "    </tr>\n",
       "  </thead>\n",
       "  <tbody>\n",
       "    <tr>\n",
       "      <th>1527</th>\n",
       "      <td>20180201</td>\n",
       "      <td>2447</td>\n",
       "      <td>19665</td>\n",
       "      <td>Sell</td>\n",
       "      <td>748160.0</td>\n",
       "      <td>102.650</td>\n",
       "      <td>Done</td>\n",
       "      <td>1.0</td>\n",
       "    </tr>\n",
       "    <tr>\n",
       "      <th>1528</th>\n",
       "      <td>20180220</td>\n",
       "      <td>2447</td>\n",
       "      <td>18972</td>\n",
       "      <td>Sell</td>\n",
       "      <td>2959167.0</td>\n",
       "      <td>102.093</td>\n",
       "      <td>NotTraded</td>\n",
       "      <td>1.0</td>\n",
       "    </tr>\n",
       "    <tr>\n",
       "      <th>1529</th>\n",
       "      <td>20180108</td>\n",
       "      <td>2554</td>\n",
       "      <td>24873</td>\n",
       "      <td>Buy</td>\n",
       "      <td>2815003.0</td>\n",
       "      <td>103.877</td>\n",
       "      <td>Done</td>\n",
       "      <td>1.0</td>\n",
       "    </tr>\n",
       "    <tr>\n",
       "      <th>1530</th>\n",
       "      <td>20180108</td>\n",
       "      <td>2554</td>\n",
       "      <td>19072</td>\n",
       "      <td>Sell</td>\n",
       "      <td>2815003.0</td>\n",
       "      <td>121.963</td>\n",
       "      <td>Done</td>\n",
       "      <td>1.0</td>\n",
       "    </tr>\n",
       "    <tr>\n",
       "      <th>1538</th>\n",
       "      <td>20180116</td>\n",
       "      <td>1922</td>\n",
       "      <td>25986</td>\n",
       "      <td>Buy</td>\n",
       "      <td>601586.0</td>\n",
       "      <td>97.984</td>\n",
       "      <td>Done</td>\n",
       "      <td>1.0</td>\n",
       "    </tr>\n",
       "  </tbody>\n",
       "</table>\n",
       "</div>"
      ],
      "text/plain": [
       "      TradeDateKey  CustomerIdx  IsinIdx BuySell  NotionalEUR    Price  \\\n",
       "1527      20180201         2447    19665    Sell     748160.0  102.650   \n",
       "1528      20180220         2447    18972    Sell    2959167.0  102.093   \n",
       "1529      20180108         2554    24873     Buy    2815003.0  103.877   \n",
       "1530      20180108         2554    19072    Sell    2815003.0  121.963   \n",
       "1538      20180116         1922    25986     Buy     601586.0   97.984   \n",
       "\n",
       "     TradeStatus  CustomerInterest  \n",
       "1527        Done               1.0  \n",
       "1528   NotTraded               1.0  \n",
       "1529        Done               1.0  \n",
       "1530        Done               1.0  \n",
       "1538        Done               1.0  "
      ]
     },
     "execution_count": 24,
     "metadata": {},
     "output_type": "execute_result"
    }
   ],
   "source": [
    "train_friday.head()"
   ]
  },
  {
   "cell_type": "code",
   "execution_count": 22,
   "metadata": {},
   "outputs": [
    {
     "data": {
      "text/plain": [
       "((346533, 8), (341983, 8))"
      ]
     },
     "execution_count": 22,
     "metadata": {},
     "output_type": "execute_result"
    }
   ],
   "source": [
    "train_friday.shape, train_thursday.shape"
   ]
  },
  {
   "cell_type": "code",
   "execution_count": 33,
   "metadata": {},
   "outputs": [],
   "source": [
    "last_friday = pd.Series(train_friday.sort_values('TradeDateKey', ascending=False) \\\n",
    "                    .drop_duplicates(['CustomerIdx', 'IsinIdx', 'BuySell'], keep='first')\n",
    "                    .set_index(['CustomerIdx', 'IsinIdx', 'BuySell'])['TradeDateKey']) \\\n",
    "                 .to_dict()\n",
    "last_thursday = pd.Series(train_thursday.sort_values('TradeDateKey', ascending=False) \\\n",
    "                    .drop_duplicates(['CustomerIdx', 'IsinIdx', 'BuySell'], keep='first')\n",
    "                    .set_index(['CustomerIdx', 'IsinIdx', 'BuySell'])['TradeDateKey']) \\\n",
    "                 .to_dict()"
   ]
  },
  {
   "cell_type": "code",
   "execution_count": 52,
   "metadata": {},
   "outputs": [],
   "source": [
    "from datetime import date\n",
    "def date_diff(d1, d2):\n",
    "    return (date(d1 // 10000, (d1 // 100) % 100, d1 % 100) - \\\n",
    "            date(d2 // 10000, (d2 // 100) % 100, d2 % 100)).days"
   ]
  },
  {
   "cell_type": "code",
   "execution_count": 56,
   "metadata": {},
   "outputs": [],
   "source": [
    "val_friday['DaysSinceBuySell'] = val_friday.apply(lambda r: date_diff(r['TradeDateKey'],\n",
    "                                    last_friday.get((r['CustomerIdx'], r['IsinIdx'], r['BuySell']), \n",
    "                                    20170701)), axis=1)\n",
    "val_thursday['DaysSinceBuySell'] = val_thursday.apply(lambda r: date_diff(r['TradeDateKey'],\n",
    "                            last_thursday.get((r['CustomerIdx'], r['IsinIdx'], r['BuySell']), \n",
    "                                    20170701)), axis=1)"
   ]
  },
  {
   "cell_type": "code",
   "execution_count": 57,
   "metadata": {},
   "outputs": [
    {
     "data": {
      "text/html": [
       "<div>\n",
       "<style scoped>\n",
       "    .dataframe tbody tr th:only-of-type {\n",
       "        vertical-align: middle;\n",
       "    }\n",
       "\n",
       "    .dataframe tbody tr th {\n",
       "        vertical-align: top;\n",
       "    }\n",
       "\n",
       "    .dataframe thead th {\n",
       "        text-align: right;\n",
       "    }\n",
       "</style>\n",
       "<table border=\"1\" class=\"dataframe\">\n",
       "  <thead>\n",
       "    <tr style=\"text-align: right;\">\n",
       "      <th></th>\n",
       "      <th>index</th>\n",
       "      <th>TradeDateKey</th>\n",
       "      <th>CustomerIdx</th>\n",
       "      <th>IsinIdx</th>\n",
       "      <th>BuySell</th>\n",
       "      <th>CustomerInterest</th>\n",
       "      <th>DaysSinceBuySell</th>\n",
       "    </tr>\n",
       "  </thead>\n",
       "  <tbody>\n",
       "    <tr>\n",
       "      <th>0</th>\n",
       "      <td>0</td>\n",
       "      <td>20180420</td>\n",
       "      <td>0</td>\n",
       "      <td>21856</td>\n",
       "      <td>Buy</td>\n",
       "      <td>0.0</td>\n",
       "      <td>293</td>\n",
       "    </tr>\n",
       "    <tr>\n",
       "      <th>1</th>\n",
       "      <td>1</td>\n",
       "      <td>20180420</td>\n",
       "      <td>0</td>\n",
       "      <td>21856</td>\n",
       "      <td>Sell</td>\n",
       "      <td>0.0</td>\n",
       "      <td>293</td>\n",
       "    </tr>\n",
       "    <tr>\n",
       "      <th>2</th>\n",
       "      <td>2</td>\n",
       "      <td>20180420</td>\n",
       "      <td>0</td>\n",
       "      <td>24944</td>\n",
       "      <td>Buy</td>\n",
       "      <td>0.0</td>\n",
       "      <td>293</td>\n",
       "    </tr>\n",
       "    <tr>\n",
       "      <th>3</th>\n",
       "      <td>3</td>\n",
       "      <td>20180420</td>\n",
       "      <td>0</td>\n",
       "      <td>24944</td>\n",
       "      <td>Sell</td>\n",
       "      <td>0.0</td>\n",
       "      <td>39</td>\n",
       "    </tr>\n",
       "    <tr>\n",
       "      <th>4</th>\n",
       "      <td>4</td>\n",
       "      <td>20180420</td>\n",
       "      <td>0</td>\n",
       "      <td>25992</td>\n",
       "      <td>Buy</td>\n",
       "      <td>0.0</td>\n",
       "      <td>52</td>\n",
       "    </tr>\n",
       "  </tbody>\n",
       "</table>\n",
       "</div>"
      ],
      "text/plain": [
       "   index  TradeDateKey  CustomerIdx  IsinIdx BuySell  CustomerInterest  \\\n",
       "0      0      20180420            0    21856     Buy               0.0   \n",
       "1      1      20180420            0    21856    Sell               0.0   \n",
       "2      2      20180420            0    24944     Buy               0.0   \n",
       "3      3      20180420            0    24944    Sell               0.0   \n",
       "4      4      20180420            0    25992     Buy               0.0   \n",
       "\n",
       "   DaysSinceBuySell  \n",
       "0               293  \n",
       "1               293  \n",
       "2               293  \n",
       "3                39  \n",
       "4                52  "
      ]
     },
     "execution_count": 57,
     "metadata": {},
     "output_type": "execute_result"
    }
   ],
   "source": [
    "val_friday.head()"
   ]
  },
  {
   "cell_type": "code",
   "execution_count": 64,
   "metadata": {},
   "outputs": [
    {
     "data": {
      "text/plain": [
       "count    193071.000000\n",
       "mean         51.395880\n",
       "std          31.247081\n",
       "min           1.000000\n",
       "25%          24.000000\n",
       "50%          51.000000\n",
       "75%          78.000000\n",
       "max         108.000000\n",
       "Name: DaysSinceBuySell, dtype: float64"
      ]
     },
     "execution_count": 64,
     "metadata": {},
     "output_type": "execute_result"
    }
   ],
   "source": [
    "val_friday[(val_friday.CustomerInterest==0) & (val_friday.DaysSinceBuySell < 293)]['DaysSinceBuySell'].describe()"
   ]
  },
  {
   "cell_type": "code",
   "execution_count": 65,
   "metadata": {},
   "outputs": [
    {
     "data": {
      "text/plain": [
       "count    1422.000000\n",
       "mean       27.691983\n",
       "std        29.573976\n",
       "min         1.000000\n",
       "25%         2.000000\n",
       "50%        15.000000\n",
       "75%        46.000000\n",
       "max       108.000000\n",
       "Name: DaysSinceBuySell, dtype: float64"
      ]
     },
     "execution_count": 65,
     "metadata": {},
     "output_type": "execute_result"
    }
   ],
   "source": [
    "val_friday[(val_friday.CustomerInterest==1) & (val_friday.DaysSinceBuySell < 293)]['DaysSinceBuySell'].describe()"
   ]
  },
  {
   "cell_type": "code",
   "execution_count": 69,
   "metadata": {},
   "outputs": [],
   "source": [
    "%%time\n",
    "last_friday = pd.Series(train_friday.sort_values('TradeDateKey', ascending=False) \\\n",
    "                    .drop_duplicates(['CustomerIdx', 'IsinIdx'], keep='first')\n",
    "                    .set_index(['CustomerIdx', 'IsinIdx'])['TradeDateKey']) \\\n",
    "                 .to_dict()\n",
    "last_thursday = pd.Series(train_thursday.sort_values('TradeDateKey', ascending=False) \\\n",
    "                    .drop_duplicates(['CustomerIdx', 'IsinIdx'], keep='first')\n",
    "                    .set_index(['CustomerIdx', 'IsinIdx'])['TradeDateKey']) \\\n",
    "                 .to_dict()\n",
    "val_friday['DaysSinceTransaction'] = val_friday.apply(lambda r: date_diff(r['TradeDateKey'],\n",
    "                                    last_friday.get((r['CustomerIdx'], r['IsinIdx']), \n",
    "                                    20170701)), axis=1)\n",
    "val_thursday['DaysSinceTransaction'] = val_thursday.apply(lambda r: date_diff(r['TradeDateKey'],\n",
    "                                    last_thursday.get((r['CustomerIdx'], r['IsinIdx']), \n",
    "                                    20170701)), axis=1)"
   ]
  },
  {
   "cell_type": "code",
   "execution_count": 70,
   "metadata": {},
   "outputs": [
    {
     "name": "stdout",
     "output_type": "stream",
     "text": [
      "CPU times: user 16.2 s, sys: 92 ms, total: 16.2 s\n",
      "Wall time: 16.2 s\n"
     ]
    }
   ],
   "source": [
    "%%time\n",
    "last_friday = pd.Series(train_friday.sort_values('TradeDateKey', ascending=False) \\\n",
    "                    .drop_duplicates(['CustomerIdx'], keep='first')\n",
    "                    .set_index(['CustomerIdx'])['TradeDateKey']) \\\n",
    "                 .to_dict()\n",
    "last_thursday = pd.Series(train_thursday.sort_values('TradeDateKey', ascending=False) \\\n",
    "                    .drop_duplicates(['CustomerIdx'], keep='first')\n",
    "                    .set_index(['CustomerIdx'])['TradeDateKey']) \\\n",
    "                 .to_dict()\n",
    "val_friday['DaysSinceCustomerActivity'] = val_friday.apply(lambda r: date_diff(r['TradeDateKey'],\n",
    "                                    last_friday.get((r['CustomerIdx']), \n",
    "                                    20170701)), axis=1)\n",
    "val_thursday['DaysSinceCustomerActivity'] = val_thursday.apply(lambda r: date_diff(r['TradeDateKey'],\n",
    "                                    last_thursday.get((r['CustomerIdx']), \n",
    "                                    20170701)), axis=1)"
   ]
  },
  {
   "cell_type": "code",
   "execution_count": 72,
   "metadata": {},
   "outputs": [
    {
     "name": "stdout",
     "output_type": "stream",
     "text": [
      "CPU times: user 15.6 s, sys: 60 ms, total: 15.6 s\n",
      "Wall time: 15.6 s\n"
     ]
    }
   ],
   "source": [
    "%%time\n",
    "last_friday = pd.Series(train_friday.sort_values('TradeDateKey', ascending=False) \\\n",
    "                    .drop_duplicates(['IsinIdx'], keep='first')\n",
    "                    .set_index(['IsinIdx'])['TradeDateKey']) \\\n",
    "                 .to_dict()\n",
    "last_thursday = pd.Series(train_thursday.sort_values('TradeDateKey', ascending=False) \\\n",
    "                    .drop_duplicates(['IsinIdx'], keep='first')\n",
    "                    .set_index(['IsinIdx'])['TradeDateKey']) \\\n",
    "                 .to_dict()\n",
    "val_friday['DaysSinceBondActivity'] = val_friday.apply(lambda r: date_diff(r['TradeDateKey'],\n",
    "                                    last_friday.get((r['IsinIdx']), \n",
    "                                    20170701)), axis=1)\n",
    "val_thursday['DaysSinceBondActivity'] = val_thursday.apply(lambda r: date_diff(r['TradeDateKey'],\n",
    "                                    last_thursday.get((r['IsinIdx']), \n",
    "                                    20170701)), axis=1)"
   ]
  },
  {
   "cell_type": "code",
   "execution_count": 82,
   "metadata": {},
   "outputs": [
    {
     "data": {
      "text/html": [
       "<div>\n",
       "<style scoped>\n",
       "    .dataframe tbody tr th:only-of-type {\n",
       "        vertical-align: middle;\n",
       "    }\n",
       "\n",
       "    .dataframe tbody tr th {\n",
       "        vertical-align: top;\n",
       "    }\n",
       "\n",
       "    .dataframe thead th {\n",
       "        text-align: right;\n",
       "    }\n",
       "</style>\n",
       "<table border=\"1\" class=\"dataframe\">\n",
       "  <thead>\n",
       "    <tr style=\"text-align: right;\">\n",
       "      <th></th>\n",
       "      <th>DaysSinceBuySell</th>\n",
       "      <th>DaysSinceTransaction</th>\n",
       "      <th>DaysSinceCustomerActivity</th>\n",
       "      <th>DaysSinceBondActivity</th>\n",
       "    </tr>\n",
       "  </thead>\n",
       "  <tbody>\n",
       "    <tr>\n",
       "      <th>count</th>\n",
       "      <td>1422.000000</td>\n",
       "      <td>1648.000000</td>\n",
       "      <td>3184.000000</td>\n",
       "      <td>3121.000000</td>\n",
       "    </tr>\n",
       "    <tr>\n",
       "      <th>mean</th>\n",
       "      <td>27.691983</td>\n",
       "      <td>26.627427</td>\n",
       "      <td>1.528580</td>\n",
       "      <td>6.173021</td>\n",
       "    </tr>\n",
       "    <tr>\n",
       "      <th>std</th>\n",
       "      <td>29.573976</td>\n",
       "      <td>28.573271</td>\n",
       "      <td>4.191587</td>\n",
       "      <td>11.666006</td>\n",
       "    </tr>\n",
       "    <tr>\n",
       "      <th>min</th>\n",
       "      <td>1.000000</td>\n",
       "      <td>1.000000</td>\n",
       "      <td>1.000000</td>\n",
       "      <td>1.000000</td>\n",
       "    </tr>\n",
       "    <tr>\n",
       "      <th>25%</th>\n",
       "      <td>2.000000</td>\n",
       "      <td>2.000000</td>\n",
       "      <td>1.000000</td>\n",
       "      <td>1.000000</td>\n",
       "    </tr>\n",
       "    <tr>\n",
       "      <th>50%</th>\n",
       "      <td>15.000000</td>\n",
       "      <td>15.000000</td>\n",
       "      <td>1.000000</td>\n",
       "      <td>2.000000</td>\n",
       "    </tr>\n",
       "    <tr>\n",
       "      <th>75%</th>\n",
       "      <td>46.000000</td>\n",
       "      <td>46.000000</td>\n",
       "      <td>1.000000</td>\n",
       "      <td>7.000000</td>\n",
       "    </tr>\n",
       "    <tr>\n",
       "      <th>max</th>\n",
       "      <td>108.000000</td>\n",
       "      <td>108.000000</td>\n",
       "      <td>108.000000</td>\n",
       "      <td>106.000000</td>\n",
       "    </tr>\n",
       "  </tbody>\n",
       "</table>\n",
       "</div>"
      ],
      "text/plain": [
       "       DaysSinceBuySell  DaysSinceTransaction  DaysSinceCustomerActivity  \\\n",
       "count       1422.000000           1648.000000                3184.000000   \n",
       "mean          27.691983             26.627427                   1.528580   \n",
       "std           29.573976             28.573271                   4.191587   \n",
       "min            1.000000              1.000000                   1.000000   \n",
       "25%            2.000000              2.000000                   1.000000   \n",
       "50%           15.000000             15.000000                   1.000000   \n",
       "75%           46.000000             46.000000                   1.000000   \n",
       "max          108.000000            108.000000                 108.000000   \n",
       "\n",
       "       DaysSinceBondActivity  \n",
       "count            3121.000000  \n",
       "mean                6.173021  \n",
       "std                11.666006  \n",
       "min                 1.000000  \n",
       "25%                 1.000000  \n",
       "50%                 2.000000  \n",
       "75%                 7.000000  \n",
       "max               106.000000  "
      ]
     },
     "execution_count": 82,
     "metadata": {},
     "output_type": "execute_result"
    }
   ],
   "source": [
    "# maybe log for smoothness\n",
    "pd.concat([val_friday[(val_friday.CustomerInterest==1) & (val_friday.DaysSinceBuySell < 293)]['DaysSinceBuySell'].describe(),\n",
    "           val_friday[(val_friday.CustomerInterest==1) & (val_friday.DaysSinceTransaction < 293)]['DaysSinceTransaction'].describe(),\n",
    "           val_friday[(val_friday.CustomerInterest==1) & (val_friday.DaysSinceCustomerActivity < 293)]['DaysSinceCustomerActivity'].describe(),\n",
    "           val_friday[(val_friday.CustomerInterest==1) & (val_friday.DaysSinceBondActivity < 293)]['DaysSinceBondActivity'].describe()], axis=1)"
   ]
  },
  {
   "cell_type": "code",
   "execution_count": 83,
   "metadata": {},
   "outputs": [],
   "source": [
    "val_friday.to_feather(PROCESSED/'friday_datediffs.feather')\n",
    "val_thursday.to_feather(PROCESSED/'thursday_datediffs.feather')"
   ]
  },
  {
   "cell_type": "code",
   "execution_count": 85,
   "metadata": {},
   "outputs": [],
   "source": [
    "from src.utils import add_datediffs"
   ]
  },
  {
   "cell_type": "code",
   "execution_count": 86,
   "metadata": {},
   "outputs": [],
   "source": [
    "%%time\n",
    "df_test = make_val_set(trade[trade.TradeDateKey==20180420], challenge)"
   ]
  },
  {
   "cell_type": "code",
   "execution_count": 108,
   "metadata": {},
   "outputs": [
    {
     "name": "stdout",
     "output_type": "stream",
     "text": [
      "CPU times: user 38.9 s, sys: 172 ms, total: 39 s\n",
      "Wall time: 39.4 s\n"
     ]
    }
   ],
   "source": [
    "%%time\n",
    "add_datediffs(df_test, trade[trade.TradeDateKey>20180000])"
   ]
  },
  {
   "cell_type": "code",
   "execution_count": 106,
   "metadata": {},
   "outputs": [
    {
     "data": {
      "text/html": [
       "<div>\n",
       "<style scoped>\n",
       "    .dataframe tbody tr th:only-of-type {\n",
       "        vertical-align: middle;\n",
       "    }\n",
       "\n",
       "    .dataframe tbody tr th {\n",
       "        vertical-align: top;\n",
       "    }\n",
       "\n",
       "    .dataframe thead th {\n",
       "        text-align: right;\n",
       "    }\n",
       "</style>\n",
       "<table border=\"1\" class=\"dataframe\">\n",
       "  <thead>\n",
       "    <tr style=\"text-align: right;\">\n",
       "      <th></th>\n",
       "      <th>index</th>\n",
       "      <th>TradeDateKey</th>\n",
       "      <th>CustomerIdx</th>\n",
       "      <th>IsinIdx</th>\n",
       "      <th>BuySell</th>\n",
       "      <th>CustomerInterest</th>\n",
       "      <th>DaysSinceBuySell</th>\n",
       "      <th>DaysSinceTransaction</th>\n",
       "      <th>DaysSinceCustomerActivity</th>\n",
       "      <th>DaysSinceBondActivity</th>\n",
       "    </tr>\n",
       "  </thead>\n",
       "  <tbody>\n",
       "    <tr>\n",
       "      <th>0</th>\n",
       "      <td>0</td>\n",
       "      <td>20180420</td>\n",
       "      <td>0</td>\n",
       "      <td>21856</td>\n",
       "      <td>Buy</td>\n",
       "      <td>0.0</td>\n",
       "      <td>293</td>\n",
       "      <td>293</td>\n",
       "      <td>1</td>\n",
       "      <td>30</td>\n",
       "    </tr>\n",
       "    <tr>\n",
       "      <th>1</th>\n",
       "      <td>1</td>\n",
       "      <td>20180420</td>\n",
       "      <td>0</td>\n",
       "      <td>21856</td>\n",
       "      <td>Sell</td>\n",
       "      <td>0.0</td>\n",
       "      <td>293</td>\n",
       "      <td>293</td>\n",
       "      <td>1</td>\n",
       "      <td>30</td>\n",
       "    </tr>\n",
       "    <tr>\n",
       "      <th>2</th>\n",
       "      <td>2</td>\n",
       "      <td>20180420</td>\n",
       "      <td>0</td>\n",
       "      <td>24944</td>\n",
       "      <td>Buy</td>\n",
       "      <td>0.0</td>\n",
       "      <td>293</td>\n",
       "      <td>39</td>\n",
       "      <td>1</td>\n",
       "      <td>30</td>\n",
       "    </tr>\n",
       "    <tr>\n",
       "      <th>3</th>\n",
       "      <td>3</td>\n",
       "      <td>20180420</td>\n",
       "      <td>0</td>\n",
       "      <td>24944</td>\n",
       "      <td>Sell</td>\n",
       "      <td>0.0</td>\n",
       "      <td>39</td>\n",
       "      <td>39</td>\n",
       "      <td>1</td>\n",
       "      <td>30</td>\n",
       "    </tr>\n",
       "    <tr>\n",
       "      <th>4</th>\n",
       "      <td>4</td>\n",
       "      <td>20180420</td>\n",
       "      <td>0</td>\n",
       "      <td>25992</td>\n",
       "      <td>Buy</td>\n",
       "      <td>0.0</td>\n",
       "      <td>52</td>\n",
       "      <td>52</td>\n",
       "      <td>1</td>\n",
       "      <td>9</td>\n",
       "    </tr>\n",
       "  </tbody>\n",
       "</table>\n",
       "</div>"
      ],
      "text/plain": [
       "   index  TradeDateKey  CustomerIdx  IsinIdx BuySell  CustomerInterest  \\\n",
       "0      0      20180420            0    21856     Buy               0.0   \n",
       "1      1      20180420            0    21856    Sell               0.0   \n",
       "2      2      20180420            0    24944     Buy               0.0   \n",
       "3      3      20180420            0    24944    Sell               0.0   \n",
       "4      4      20180420            0    25992     Buy               0.0   \n",
       "\n",
       "   DaysSinceBuySell  DaysSinceTransaction  DaysSinceCustomerActivity  \\\n",
       "0               293                   293                          1   \n",
       "1               293                   293                          1   \n",
       "2               293                    39                          1   \n",
       "3                39                    39                          1   \n",
       "4                52                    52                          1   \n",
       "\n",
       "   DaysSinceBondActivity  \n",
       "0                     30  \n",
       "1                     30  \n",
       "2                     30  \n",
       "3                     30  \n",
       "4                      9  "
      ]
     },
     "execution_count": 106,
     "metadata": {},
     "output_type": "execute_result"
    }
   ],
   "source": [
    "val_friday.head()"
   ]
  },
  {
   "cell_type": "code",
   "execution_count": 115,
   "metadata": {},
   "outputs": [],
   "source": [
    "test = challenge.copy()\n",
    "test['TradeDateKey'] = test['DateKey']"
   ]
  },
  {
   "cell_type": "code",
   "execution_count": 116,
   "metadata": {},
   "outputs": [
    {
     "name": "stdout",
     "output_type": "stream",
     "text": [
      "CPU times: user 42 s, sys: 160 ms, total: 42.2 s\n",
      "Wall time: 42.2 s\n"
     ]
    }
   ],
   "source": [
    "%%time\n",
    "add_datediffs(test, trade[trade.TradeDateKey>20180000])"
   ]
  },
  {
   "cell_type": "code",
   "execution_count": 117,
   "metadata": {},
   "outputs": [
    {
     "data": {
      "text/html": [
       "<div>\n",
       "<style scoped>\n",
       "    .dataframe tbody tr th:only-of-type {\n",
       "        vertical-align: middle;\n",
       "    }\n",
       "\n",
       "    .dataframe tbody tr th {\n",
       "        vertical-align: top;\n",
       "    }\n",
       "\n",
       "    .dataframe thead th {\n",
       "        text-align: right;\n",
       "    }\n",
       "</style>\n",
       "<table border=\"1\" class=\"dataframe\">\n",
       "  <thead>\n",
       "    <tr style=\"text-align: right;\">\n",
       "      <th></th>\n",
       "      <th>PredictionIdx</th>\n",
       "      <th>DateKey</th>\n",
       "      <th>CustomerIdx</th>\n",
       "      <th>IsinIdx</th>\n",
       "      <th>BuySell</th>\n",
       "      <th>CustomerInterest</th>\n",
       "      <th>TradeDateKey</th>\n",
       "      <th>DaysSinceBuySell</th>\n",
       "      <th>DaysSinceTransaction</th>\n",
       "      <th>DaysSinceCustomerActivity</th>\n",
       "      <th>DaysSinceBondActivity</th>\n",
       "    </tr>\n",
       "  </thead>\n",
       "  <tbody>\n",
       "    <tr>\n",
       "      <th>0</th>\n",
       "      <td>a1e0d80784</td>\n",
       "      <td>20180423</td>\n",
       "      <td>1856</td>\n",
       "      <td>13323</td>\n",
       "      <td>Buy</td>\n",
       "      <td>NaN</td>\n",
       "      <td>20180423</td>\n",
       "      <td>296</td>\n",
       "      <td>296</td>\n",
       "      <td>3</td>\n",
       "      <td>3</td>\n",
       "    </tr>\n",
       "    <tr>\n",
       "      <th>1</th>\n",
       "      <td>c2cc6cc2a8</td>\n",
       "      <td>20180423</td>\n",
       "      <td>1856</td>\n",
       "      <td>9230</td>\n",
       "      <td>Buy</td>\n",
       "      <td>NaN</td>\n",
       "      <td>20180423</td>\n",
       "      <td>14</td>\n",
       "      <td>14</td>\n",
       "      <td>3</td>\n",
       "      <td>3</td>\n",
       "    </tr>\n",
       "    <tr>\n",
       "      <th>2</th>\n",
       "      <td>a8e94f6344</td>\n",
       "      <td>20180423</td>\n",
       "      <td>1780</td>\n",
       "      <td>9157</td>\n",
       "      <td>Buy</td>\n",
       "      <td>NaN</td>\n",
       "      <td>20180423</td>\n",
       "      <td>296</td>\n",
       "      <td>296</td>\n",
       "      <td>3</td>\n",
       "      <td>296</td>\n",
       "    </tr>\n",
       "    <tr>\n",
       "      <th>3</th>\n",
       "      <td>758bae1e35</td>\n",
       "      <td>20180423</td>\n",
       "      <td>2129</td>\n",
       "      <td>9131</td>\n",
       "      <td>Buy</td>\n",
       "      <td>NaN</td>\n",
       "      <td>20180423</td>\n",
       "      <td>296</td>\n",
       "      <td>296</td>\n",
       "      <td>3</td>\n",
       "      <td>11</td>\n",
       "    </tr>\n",
       "    <tr>\n",
       "      <th>4</th>\n",
       "      <td>02ab378ee8</td>\n",
       "      <td>20180423</td>\n",
       "      <td>1758</td>\n",
       "      <td>7151</td>\n",
       "      <td>Buy</td>\n",
       "      <td>NaN</td>\n",
       "      <td>20180423</td>\n",
       "      <td>296</td>\n",
       "      <td>296</td>\n",
       "      <td>3</td>\n",
       "      <td>33</td>\n",
       "    </tr>\n",
       "  </tbody>\n",
       "</table>\n",
       "</div>"
      ],
      "text/plain": [
       "  PredictionIdx   DateKey  CustomerIdx  IsinIdx BuySell  CustomerInterest  \\\n",
       "0    a1e0d80784  20180423         1856    13323     Buy               NaN   \n",
       "1    c2cc6cc2a8  20180423         1856     9230     Buy               NaN   \n",
       "2    a8e94f6344  20180423         1780     9157     Buy               NaN   \n",
       "3    758bae1e35  20180423         2129     9131     Buy               NaN   \n",
       "4    02ab378ee8  20180423         1758     7151     Buy               NaN   \n",
       "\n",
       "   TradeDateKey  DaysSinceBuySell  DaysSinceTransaction  \\\n",
       "0      20180423               296                   296   \n",
       "1      20180423                14                    14   \n",
       "2      20180423               296                   296   \n",
       "3      20180423               296                   296   \n",
       "4      20180423               296                   296   \n",
       "\n",
       "   DaysSinceCustomerActivity  DaysSinceBondActivity  \n",
       "0                          3                      3  \n",
       "1                          3                      3  \n",
       "2                          3                    296  \n",
       "3                          3                     11  \n",
       "4                          3                     33  "
      ]
     },
     "execution_count": 117,
     "metadata": {},
     "output_type": "execute_result"
    }
   ],
   "source": [
    "test.head()"
   ]
  },
  {
   "cell_type": "code",
   "execution_count": 118,
   "metadata": {},
   "outputs": [],
   "source": [
    "test.to_feather(PROCESSED/'test_datediffs.feather')"
   ]
  },
  {
   "cell_type": "code",
   "execution_count": null,
   "metadata": {},
   "outputs": [],
   "source": []
  }
 ],
 "metadata": {
  "kernelspec": {
   "display_name": "Python 3",
   "language": "python",
   "name": "python3"
  },
  "language_info": {
   "codemirror_mode": {
    "name": "ipython",
    "version": 3
   },
   "file_extension": ".py",
   "mimetype": "text/x-python",
   "name": "python",
   "nbconvert_exporter": "python",
   "pygments_lexer": "ipython3",
   "version": "3.6.4"
  }
 },
 "nbformat": 4,
 "nbformat_minor": 2
}
