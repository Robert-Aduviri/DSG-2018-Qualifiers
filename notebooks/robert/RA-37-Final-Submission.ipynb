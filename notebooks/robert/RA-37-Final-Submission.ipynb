{
 "cells": [
  {
   "cell_type": "code",
   "execution_count": 1,
   "metadata": {},
   "outputs": [],
   "source": [
    "%load_ext autoreload\n",
    "%autoreload 2\n",
    "%matplotlib inline\n",
    "%config InlineBackend.figure_format = 'retina'\n",
    "\n",
    "import os, math\n",
    "import numpy as np, pandas as pd\n",
    "import matplotlib.pyplot as plt, seaborn as sns\n",
    "from tqdm import tqdm, tqdm_notebook\n",
    "from pathlib import Path\n",
    "pd.set_option('display.max_columns', 1000)\n",
    "pd.set_option('display.max_rows', 400)\n",
    "sns.set()\n",
    "\n",
    "os.chdir('../..')\n",
    "from src import utils"
   ]
  },
  {
   "cell_type": "code",
   "execution_count": 2,
   "metadata": {},
   "outputs": [],
   "source": [
    "DATA        = Path('data')\n",
    "RAW         = DATA/'raw'\n",
    "INTERIM     = DATA/'interim'\n",
    "PROCESSED   = DATA/'processed'\n",
    "SUBMISSIONS = DATA/'submissions'"
   ]
  },
  {
   "cell_type": "code",
   "execution_count": 3,
   "metadata": {},
   "outputs": [],
   "source": [
    "from src.utils import get_weeks, week_num\n",
    "week_labels = get_weeks(day_from=20160104, num_weeks=121)[91:]"
   ]
  },
  {
   "cell_type": "code",
   "execution_count": 4,
   "metadata": {},
   "outputs": [
    {
     "name": "stdout",
     "output_type": "stream",
     "text": [
      "[20171002, 20171009, 20171016, 20171023, 20171030, 20171106, 20171113, 20171120, 20171127, 20171204, 20171211, 20171218, 20171225, 20180101, 20180108, 20180115, 20180122, 20180129, 20180205, 20180212, 20180219, 20180226, 20180305, 20180312, 20180319, 20180326, 20180402, 20180409, 20180416, 20180423]\n"
     ]
    }
   ],
   "source": [
    "print(week_labels)"
   ]
  },
  {
   "cell_type": "code",
   "execution_count": 5,
   "metadata": {},
   "outputs": [
    {
     "name": "stdout",
     "output_type": "stream",
     "text": [
      "CPU times: user 1min 26s, sys: 46.6 s, total: 2min 12s\n",
      "Wall time: 2min 23s\n"
     ]
    }
   ],
   "source": [
    "%%time\n",
    "train = pd.DataFrame()\n",
    "for name in week_labels[13:-2]:\n",
    "    train = pd.concat([train, pd.read_feather(PROCESSED/f'SVD_17-18_72f/week_{name}_SVD_diffscount.feather')])"
   ]
  },
  {
   "cell_type": "code",
   "execution_count": 6,
   "metadata": {},
   "outputs": [
    {
     "name": "stdout",
     "output_type": "stream",
     "text": [
      "CPU times: user 572 ms, sys: 380 ms, total: 952 ms\n",
      "Wall time: 951 ms\n"
     ]
    }
   ],
   "source": [
    "%%time\n",
    "val = pd.read_feather(PROCESSED/f'SVD_17-18_72f/week_{week_labels[-2]}_SVD_diffscount.feather')\n",
    "test = pd.read_feather(PROCESSED/f'SVD_17-18_72f/week_{week_labels[-1]}_SVD_diffscount.feather')"
   ]
  },
  {
   "cell_type": "markdown",
   "metadata": {},
   "source": [
    "## End checkpoint"
   ]
  },
  {
   "cell_type": "code",
   "execution_count": 7,
   "metadata": {},
   "outputs": [],
   "source": [
    "from src.structurednet import get_seqs, shift_right"
   ]
  },
  {
   "cell_type": "code",
   "execution_count": 8,
   "metadata": {},
   "outputs": [],
   "source": [
    "trade      = pd.read_csv(RAW/'Trade.csv', low_memory=False)\n",
    "challenge  = pd.read_csv(RAW/'Challenge_20180423.csv', low_memory=False)"
   ]
  },
  {
   "cell_type": "code",
   "execution_count": 9,
   "metadata": {},
   "outputs": [
    {
     "name": "stdout",
     "output_type": "stream",
     "text": [
      "CPU times: user 13.2 s, sys: 636 ms, total: 13.8 s\n",
      "Wall time: 13.8 s\n"
     ]
    }
   ],
   "source": [
    "%%time\n",
    "transactions = get_seqs(trade, challenge, week_labels, \n",
    "                        ['CustomerIdx', 'IsinIdx', 'BuySell'])\n",
    "buysells = get_seqs(trade, challenge, week_labels, \n",
    "                        ['CustomerIdx', 'IsinIdx'])\n",
    "customers = get_seqs(trade, challenge, week_labels, ['CustomerIdx'])\n",
    "isins = get_seqs(trade, challenge, week_labels, ['IsinIdx'])"
   ]
  },
  {
   "cell_type": "code",
   "execution_count": 10,
   "metadata": {},
   "outputs": [],
   "source": [
    "for c in ['CustomerIdx', 'IsinIdx', 'BuySell', 'CompositeRating']:\n",
    "    train[f'{c}Cat'] = train[c]\n",
    "    val[f'{c}Cat'] = val[c]\n",
    "    test[f'{c}Cat'] = test[c]"
   ]
  },
  {
   "cell_type": "code",
   "execution_count": 11,
   "metadata": {},
   "outputs": [],
   "source": [
    "train['BuySellCont'] = train.BuySell.apply(lambda x: int(x == 'Buy'))\n",
    "val['BuySellCont'] = val.BuySell.apply(lambda x: int(x == 'Buy'))\n",
    "test['BuySellCont'] = test.BuySell.apply(lambda x: int(x == 'Buy'))"
   ]
  },
  {
   "cell_type": "code",
   "execution_count": 12,
   "metadata": {},
   "outputs": [],
   "source": [
    "train['Week'] = train.TradeDateKey.apply(lambda x: week_num(week_labels, x))\n",
    "val['Week'] = val.TradeDateKey.apply(lambda x: week_num(week_labels, x))\n",
    "test['Week'] = test.TradeDateKey.apply(lambda x: week_num(week_labels, x))"
   ]
  },
  {
   "cell_type": "code",
   "execution_count": 13,
   "metadata": {},
   "outputs": [],
   "source": [
    "cat_cols = ['Sector', 'Subsector', 'Region_x', 'Country', \n",
    "            'TickerIdx', 'Seniority', 'Currency', 'ActivityGroup', \n",
    "            'Region_y', 'Activity', 'RiskCaptain', 'Owner', \n",
    "            'IndustrySector', 'IndustrySubgroup', 'MarketIssue', 'CouponType',\n",
    "            'CompositeRatingCat', 'CustomerIdxCat', 'IsinIdxCat', 'BuySellCat']\n",
    "num_cols = ['ActualMaturityDateKey', 'IssueDateKey', 'IssuedAmount', \n",
    "            'BondDuration', 'BondRemaining', 'BondLife', \n",
    "            'Day', 'CompositeRating', 'BuySellCont',\n",
    "            \n",
    "            'DaysSinceBuySell', 'DaysSinceTransaction', 'DaysSinceCustomerActivity',\n",
    "            'DaysSinceBondActivity', 'DaysCountBuySell', 'DaysCountTransaction',\n",
    "            'DaysCountCustomerActivity', 'DaysCountBondActivity', 'SVD_CustomerBias',\n",
    "            'SVD_IsinBuySellBias', 'SVD_Recommend', 'SVD_CustomerFactor00',\n",
    "            'SVD_CustomerFactor01', 'SVD_CustomerFactor02', 'SVD_CustomerFactor03',\n",
    "            'SVD_CustomerFactor04', 'SVD_CustomerFactor05', 'SVD_CustomerFactor06',\n",
    "            'SVD_CustomerFactor07', 'SVD_CustomerFactor08', 'SVD_CustomerFactor09',\n",
    "            'SVD_CustomerFactor10', 'SVD_CustomerFactor11', 'SVD_CustomerFactor12',\n",
    "            'SVD_CustomerFactor13', 'SVD_CustomerFactor14']\n",
    "id_cols = ['CustomerIdx', 'IsinIdx', 'BuySell']\n",
    "target_col = 'CustomerInterest'"
   ]
  },
  {
   "cell_type": "code",
   "execution_count": 14,
   "metadata": {},
   "outputs": [
    {
     "name": "stdout",
     "output_type": "stream",
     "text": [
      "CPU times: user 10 s, sys: 8.88 s, total: 18.9 s\n",
      "Wall time: 18.9 s\n"
     ]
    }
   ],
   "source": [
    "%%time\n",
    "from sklearn.preprocessing import StandardScaler\n",
    "scaler = StandardScaler().fit(pd.concat([train[num_cols], \n",
    "                            val[num_cols], test[num_cols]]))"
   ]
  },
  {
   "cell_type": "code",
   "execution_count": 15,
   "metadata": {},
   "outputs": [],
   "source": [
    "NEURALNET = INTERIM/'neuralnet'"
   ]
  },
  {
   "cell_type": "code",
   "execution_count": 16,
   "metadata": {},
   "outputs": [],
   "source": [
    "%%time\n",
    "train.reset_index(drop=True).to_feather(NEURALNET/'train.feather')\n",
    "val.reset_index(drop=True).to_feather(NEURALNET/'val.feather')\n",
    "test.reset_index(drop=True).to_feather(NEURALNET/'test.feather')"
   ]
  },
  {
   "cell_type": "code",
   "execution_count": 20,
   "metadata": {},
   "outputs": [
    {
     "data": {
      "application/vnd.jupyter.widget-view+json": {
       "model_id": "a9df308830ad458c9fcee8b14a8defd2",
       "version_major": 2,
       "version_minor": 0
      },
      "text/html": [
       "<p>Failed to display Jupyter Widget of type <code>HBox</code>.</p>\n",
       "<p>\n",
       "  If you're reading this message in the Jupyter Notebook or JupyterLab Notebook, it may mean\n",
       "  that the widgets JavaScript is still loading. If this message persists, it\n",
       "  likely means that the widgets JavaScript library is either not installed or\n",
       "  not enabled. See the <a href=\"https://ipywidgets.readthedocs.io/en/stable/user_install.html\">Jupyter\n",
       "  Widgets Documentation</a> for setup instructions.\n",
       "</p>\n",
       "<p>\n",
       "  If you're reading this message in another frontend (for example, a static\n",
       "  rendering on GitHub or <a href=\"https://nbviewer.jupyter.org/\">NBViewer</a>),\n",
       "  it may mean that your frontend doesn't currently support widgets.\n",
       "</p>\n"
      ],
      "text/plain": [
       "HBox(children=(IntProgress(value=0, max=8102750), HTML(value='')))"
      ]
     },
     "metadata": {},
     "output_type": "display_data"
    },
    {
     "name": "stdout",
     "output_type": "stream",
     "text": [
      "\n",
      "CPU times: user 10min 56s, sys: 2min 44s, total: 13min 40s\n",
      "Wall time: 10min 49s\n"
     ]
    }
   ],
   "source": [
    "%%time\n",
    "from src.structurednet import extract_seqs\n",
    "n_weeks = len(week_labels)\n",
    "train_seqs = extract_seqs(train, transactions, buysells, \n",
    "                              customers, isins, n_weeks)"
   ]
  },
  {
   "cell_type": "code",
   "execution_count": 21,
   "metadata": {},
   "outputs": [
    {
     "data": {
      "application/vnd.jupyter.widget-view+json": {
       "model_id": "b697150e794c4c6887f208adf3983d26",
       "version_major": 2,
       "version_minor": 0
      },
      "text/html": [
       "<p>Failed to display Jupyter Widget of type <code>HBox</code>.</p>\n",
       "<p>\n",
       "  If you're reading this message in the Jupyter Notebook or JupyterLab Notebook, it may mean\n",
       "  that the widgets JavaScript is still loading. If this message persists, it\n",
       "  likely means that the widgets JavaScript library is either not installed or\n",
       "  not enabled. See the <a href=\"https://ipywidgets.readthedocs.io/en/stable/user_install.html\">Jupyter\n",
       "  Widgets Documentation</a> for setup instructions.\n",
       "</p>\n",
       "<p>\n",
       "  If you're reading this message in another frontend (for example, a static\n",
       "  rendering on GitHub or <a href=\"https://nbviewer.jupyter.org/\">NBViewer</a>),\n",
       "  it may mean that your frontend doesn't currently support widgets.\n",
       "</p>\n"
      ],
      "text/plain": [
       "HBox(children=(IntProgress(value=0, max=493590), HTML(value='')))"
      ]
     },
     "metadata": {},
     "output_type": "display_data"
    },
    {
     "name": "stdout",
     "output_type": "stream",
     "text": [
      "\n"
     ]
    },
    {
     "data": {
      "application/vnd.jupyter.widget-view+json": {
       "model_id": "b850a6bc9b5041b08510cbb8a256bb4d",
       "version_major": 2,
       "version_minor": 0
      },
      "text/html": [
       "<p>Failed to display Jupyter Widget of type <code>HBox</code>.</p>\n",
       "<p>\n",
       "  If you're reading this message in the Jupyter Notebook or JupyterLab Notebook, it may mean\n",
       "  that the widgets JavaScript is still loading. If this message persists, it\n",
       "  likely means that the widgets JavaScript library is either not installed or\n",
       "  not enabled. See the <a href=\"https://ipywidgets.readthedocs.io/en/stable/user_install.html\">Jupyter\n",
       "  Widgets Documentation</a> for setup instructions.\n",
       "</p>\n",
       "<p>\n",
       "  If you're reading this message in another frontend (for example, a static\n",
       "  rendering on GitHub or <a href=\"https://nbviewer.jupyter.org/\">NBViewer</a>),\n",
       "  it may mean that your frontend doesn't currently support widgets.\n",
       "</p>\n"
      ],
      "text/plain": [
       "HBox(children=(IntProgress(value=0, max=484758), HTML(value='')))"
      ]
     },
     "metadata": {},
     "output_type": "display_data"
    },
    {
     "name": "stdout",
     "output_type": "stream",
     "text": [
      "\n",
      "CPU times: user 1min 15s, sys: 19 s, total: 1min 34s\n",
      "Wall time: 1min 13s\n"
     ]
    }
   ],
   "source": [
    "%%time\n",
    "val_seqs = extract_seqs(val, transactions, buysells, \n",
    "                              customers, isins, n_weeks)\n",
    "test_seqs = extract_seqs(test, transactions, buysells, \n",
    "                              customers, isins, n_weeks)"
   ]
  },
  {
   "cell_type": "code",
   "execution_count": 22,
   "metadata": {},
   "outputs": [],
   "source": [
    "%%time\n",
    "import pickle\n",
    "with open(NEURALNET/'train_seqs.pkl', 'wb') as f:\n",
    "    pickle.dump(train_seqs, f, pickle.HIGHEST_PROTOCOL)\n",
    "with open(NEURALNET/'val_seqs.pkl', 'wb') as f:\n",
    "    pickle.dump(val_seqs, f, pickle.HIGHEST_PROTOCOL)\n",
    "with open(NEURALNET/'test_seqs.pkl', 'wb') as f:\n",
    "    pickle.dump(test_seqs, f, pickle.HIGHEST_PROTOCOL)"
   ]
  },
  {
   "cell_type": "code",
   "execution_count": 23,
   "metadata": {},
   "outputs": [],
   "source": [
    "with open(NEURALNET/'scaler.pkl', 'wb') as f:\n",
    "    pickle.dump(scaler, f, pickle.HIGHEST_PROTOCOL)"
   ]
  },
  {
   "cell_type": "code",
   "execution_count": 25,
   "metadata": {},
   "outputs": [
    {
     "name": "stdout",
     "output_type": "stream",
     "text": [
      "Encoding cats...\n",
      "Scaling conts...\n",
      "CPU times: user 34.5 s, sys: 964 ms, total: 35.5 s\n",
      "Wall time: 35.6 s\n"
     ]
    }
   ],
   "source": [
    "%%time\n",
    "from src.structurednet import preprocess_catsconts\n",
    "preprocess_catsconts(train, val, test, cat_cols, num_cols, scaler)"
   ]
  },
  {
   "cell_type": "code",
   "execution_count": 27,
   "metadata": {},
   "outputs": [
    {
     "name": "stdout",
     "output_type": "stream",
     "text": [
      "CPU times: user 5.36 s, sys: 6 s, total: 11.4 s\n",
      "Wall time: 9.53 s\n"
     ]
    }
   ],
   "source": [
    "%%time\n",
    "train.reset_index(drop=True).to_feather(NEURALNET/'train_preproc.feather')\n",
    "val.reset_index(drop=True).to_feather(NEURALNET/'val_preproc.feather')\n",
    "test.reset_index(drop=True).to_feather(NEURALNET/'test_preproc.feather')"
   ]
  },
  {
   "cell_type": "markdown",
   "metadata": {},
   "source": [
    "## Model"
   ]
  },
  {
   "cell_type": "code",
   "execution_count": 72,
   "metadata": {},
   "outputs": [],
   "source": [
    "from torch.utils.data import DataLoader\n",
    "from torch import optim\n",
    "import torch.nn as nn\n",
    "from src.structured_lstm import MultimodalDataset, MultimodalNet, train_model"
   ]
  },
  {
   "cell_type": "code",
   "execution_count": 29,
   "metadata": {},
   "outputs": [
    {
     "data": {
      "text/plain": [
       "(8102750, 4, 29)"
      ]
     },
     "execution_count": 29,
     "metadata": {},
     "output_type": "execute_result"
    }
   ],
   "source": [
    "train_seqs.shape"
   ]
  },
  {
   "cell_type": "code",
   "execution_count": 90,
   "metadata": {},
   "outputs": [
    {
     "name": "stdout",
     "output_type": "stream",
     "text": [
      "CPU times: user 2.88 s, sys: 3.34 s, total: 6.22 s\n",
      "Wall time: 6.21 s\n"
     ]
    }
   ],
   "source": [
    "%%time\n",
    "train_dl = DataLoader(MultimodalDataset(\n",
    "                train[cat_cols], train[num_cols],\n",
    "                train_seqs, train[target_col]),\n",
    "                batch_size=128, shuffle=True)\n",
    "val_dl = DataLoader(MultimodalDataset(\n",
    "                val[cat_cols], val[num_cols],\n",
    "                val_seqs, val[target_col]), \n",
    "                batch_size=128)"
   ]
  },
  {
   "cell_type": "code",
   "execution_count": 31,
   "metadata": {},
   "outputs": [],
   "source": [
    "cat_szs = [int(train[col].max() + 1) for col in cat_cols]\n",
    "emb_szs = [(c, min(50, (c+1)//2)) for c in cat_szs]"
   ]
  },
  {
   "cell_type": "code",
   "execution_count": 33,
   "metadata": {},
   "outputs": [
    {
     "data": {
      "text/plain": [
       "[(5, 3),\n",
       " (36, 18),\n",
       " (3, 2),\n",
       " (86, 43),\n",
       " (3240, 50),\n",
       " (9, 5),\n",
       " (21, 11),\n",
       " (3, 2),\n",
       " (8, 4),\n",
       " (15, 8),\n",
       " (37, 19),\n",
       " (101, 50),\n",
       " (14, 7),\n",
       " (330, 50),\n",
       " (15, 8),\n",
       " (6, 3),\n",
       " (29, 15),\n",
       " (2594, 50),\n",
       " (22989, 50),\n",
       " (2, 1)]"
      ]
     },
     "execution_count": 33,
     "metadata": {},
     "output_type": "execute_result"
    }
   ],
   "source": [
    "emb_szs"
   ]
  },
  {
   "cell_type": "markdown",
   "metadata": {},
   "source": [
    "## Validation"
   ]
  },
  {
   "cell_type": "code",
   "execution_count": 91,
   "metadata": {},
   "outputs": [],
   "source": [
    "USE_CUDA = True"
   ]
  },
  {
   "cell_type": "code",
   "execution_count": 92,
   "metadata": {},
   "outputs": [],
   "source": [
    "model = MultimodalNet(emb_szs, n_cont=len(num_cols), emb_drop=0.1,\n",
    "                      szs=[1000,500], drops=[0.3, 0.3],\n",
    "                      rnn_hidden_sz=128, rnn_input_sz=4, rnn_n_layers=2,\n",
    "                      rnn_drop=0.2)\n",
    "\n",
    "if USE_CUDA: model = model.cuda()"
   ]
  },
  {
   "cell_type": "code",
   "execution_count": 58,
   "metadata": {},
   "outputs": [
    {
     "name": "stdout",
     "output_type": "stream",
     "text": [
      "Train Epoch: 1 [25600/8102750 (0%)]\tLoss: 0.174815\n",
      "Train Epoch: 1 [51200/8102750 (1%)]\tLoss: 0.134851\n",
      "Train Epoch: 1 [76800/8102750 (1%)]\tLoss: 0.134749\n",
      "Train Epoch: 1 [102400/8102750 (1%)]\tLoss: 0.134110\n",
      "Train Epoch: 1 [128000/8102750 (2%)]\tLoss: 0.132347\n",
      "Train Epoch: 1 [153600/8102750 (2%)]\tLoss: 0.136552\n",
      "Train Epoch: 1 [179200/8102750 (2%)]\tLoss: 0.130818\n",
      "Train Epoch: 1 [204800/8102750 (3%)]\tLoss: 0.130721\n",
      "Train Epoch: 1 [230400/8102750 (3%)]\tLoss: 0.133113\n",
      "Train Epoch: 1 [256000/8102750 (3%)]\tLoss: 0.134017\n",
      "Train Epoch: 1 [281600/8102750 (3%)]\tLoss: 0.131956\n",
      "Train Epoch: 1 [307200/8102750 (4%)]\tLoss: 0.128131\n",
      "Train Epoch: 1 [332800/8102750 (4%)]\tLoss: 0.129957\n",
      "Train Epoch: 1 [358400/8102750 (4%)]\tLoss: 0.130897\n",
      "Train Epoch: 1 [384000/8102750 (5%)]\tLoss: 0.130943\n",
      "Train Epoch: 1 [409600/8102750 (5%)]\tLoss: 0.132290\n",
      "Train Epoch: 1 [435200/8102750 (5%)]\tLoss: 0.126512\n",
      "Train Epoch: 1 [460800/8102750 (6%)]\tLoss: 0.130431\n",
      "Train Epoch: 1 [486400/8102750 (6%)]\tLoss: 0.131785\n",
      "Train Epoch: 1 [512000/8102750 (6%)]\tLoss: 0.129065\n",
      "[0/493590 (0%)]\n",
      "[153600/493590 (31%)]\n",
      "[307200/493590 (62%)]\n",
      "[460800/493590 (93%)]\n",
      "ROC AUC Score: 0.783245\n",
      "Validation Loss: 0.136874\n",
      "Train Epoch: 1 [537600/8102750 (7%)]\tLoss: 0.132634\n",
      "Train Epoch: 1 [563200/8102750 (7%)]\tLoss: 0.125273\n",
      "Train Epoch: 1 [588800/8102750 (7%)]\tLoss: 0.129507\n",
      "Train Epoch: 1 [614400/8102750 (8%)]\tLoss: 0.126545\n",
      "Train Epoch: 1 [640000/8102750 (8%)]\tLoss: 0.131031\n",
      "Train Epoch: 1 [665600/8102750 (8%)]\tLoss: 0.133344\n",
      "Train Epoch: 1 [691200/8102750 (9%)]\tLoss: 0.130706\n",
      "Train Epoch: 1 [716800/8102750 (9%)]\tLoss: 0.130498\n",
      "Train Epoch: 1 [742400/8102750 (9%)]\tLoss: 0.129456\n",
      "Train Epoch: 1 [768000/8102750 (9%)]\tLoss: 0.129421\n",
      "Train Epoch: 1 [793600/8102750 (10%)]\tLoss: 0.124450\n",
      "Train Epoch: 1 [819200/8102750 (10%)]\tLoss: 0.126263\n",
      "Train Epoch: 1 [844800/8102750 (10%)]\tLoss: 0.122361\n",
      "Train Epoch: 1 [870400/8102750 (11%)]\tLoss: 0.129048\n",
      "Train Epoch: 1 [896000/8102750 (11%)]\tLoss: 0.125200\n",
      "Train Epoch: 1 [921600/8102750 (11%)]\tLoss: 0.121837\n",
      "Train Epoch: 1 [947200/8102750 (12%)]\tLoss: 0.130463\n",
      "Train Epoch: 1 [972800/8102750 (12%)]\tLoss: 0.132185\n",
      "Train Epoch: 1 [998400/8102750 (12%)]\tLoss: 0.128129\n",
      "Train Epoch: 1 [1024000/8102750 (13%)]\tLoss: 0.126702\n",
      "[0/493590 (0%)]\n",
      "[153600/493590 (31%)]\n",
      "[307200/493590 (62%)]\n",
      "[460800/493590 (93%)]\n",
      "ROC AUC Score: 0.836314\n",
      "Validation Loss: 0.129311\n",
      "Train Epoch: 1 [1049600/8102750 (13%)]\tLoss: 0.129190\n",
      "Train Epoch: 1 [1075200/8102750 (13%)]\tLoss: 0.126842\n",
      "Train Epoch: 1 [1100800/8102750 (14%)]\tLoss: 0.123717\n",
      "Train Epoch: 1 [1126400/8102750 (14%)]\tLoss: 0.132464\n",
      "Train Epoch: 1 [1152000/8102750 (14%)]\tLoss: 0.132140\n",
      "Train Epoch: 1 [1177600/8102750 (15%)]\tLoss: 0.127949\n",
      "Train Epoch: 1 [1203200/8102750 (15%)]\tLoss: 0.129533\n",
      "Train Epoch: 1 [1228800/8102750 (15%)]\tLoss: 0.126285\n",
      "Train Epoch: 1 [1254400/8102750 (15%)]\tLoss: 0.127459\n",
      "Train Epoch: 1 [1280000/8102750 (16%)]\tLoss: 0.130813\n",
      "Train Epoch: 1 [1305600/8102750 (16%)]\tLoss: 0.127150\n",
      "Train Epoch: 1 [1331200/8102750 (16%)]\tLoss: 0.125762\n",
      "Train Epoch: 1 [1356800/8102750 (17%)]\tLoss: 0.125213\n",
      "Train Epoch: 1 [1382400/8102750 (17%)]\tLoss: 0.128488\n",
      "Train Epoch: 1 [1408000/8102750 (17%)]\tLoss: 0.126773\n",
      "Train Epoch: 1 [1433600/8102750 (18%)]\tLoss: 0.125686\n",
      "Train Epoch: 1 [1459200/8102750 (18%)]\tLoss: 0.127199\n",
      "Train Epoch: 1 [1484800/8102750 (18%)]\tLoss: 0.129610\n",
      "Train Epoch: 1 [1510400/8102750 (19%)]\tLoss: 0.129423\n",
      "Train Epoch: 1 [1536000/8102750 (19%)]\tLoss: 0.124421\n",
      "[0/493590 (0%)]\n",
      "[153600/493590 (31%)]\n",
      "[307200/493590 (62%)]\n",
      "[460800/493590 (93%)]\n",
      "ROC AUC Score: 0.860724\n",
      "Validation Loss: 0.122721\n",
      "Train Epoch: 1 [1561600/8102750 (19%)]\tLoss: 0.122326\n",
      "Train Epoch: 1 [1587200/8102750 (20%)]\tLoss: 0.120606\n",
      "Train Epoch: 1 [1612800/8102750 (20%)]\tLoss: 0.127089\n",
      "Train Epoch: 1 [1638400/8102750 (20%)]\tLoss: 0.122189\n",
      "Train Epoch: 1 [1664000/8102750 (21%)]\tLoss: 0.121416\n",
      "Train Epoch: 1 [1689600/8102750 (21%)]\tLoss: 0.127935\n",
      "Train Epoch: 1 [1715200/8102750 (21%)]\tLoss: 0.125425\n",
      "Train Epoch: 1 [1740800/8102750 (21%)]\tLoss: 0.120456\n",
      "Train Epoch: 1 [1766400/8102750 (22%)]\tLoss: 0.128630\n",
      "Train Epoch: 1 [1792000/8102750 (22%)]\tLoss: 0.123483\n",
      "Train Epoch: 1 [1817600/8102750 (22%)]\tLoss: 0.124466\n",
      "Train Epoch: 1 [1843200/8102750 (23%)]\tLoss: 0.128858\n",
      "Train Epoch: 1 [1868800/8102750 (23%)]\tLoss: 0.120474\n",
      "Train Epoch: 1 [1894400/8102750 (23%)]\tLoss: 0.124695\n",
      "Train Epoch: 1 [1920000/8102750 (24%)]\tLoss: 0.125583\n",
      "Train Epoch: 1 [1945600/8102750 (24%)]\tLoss: 0.124350\n",
      "Train Epoch: 1 [1971200/8102750 (24%)]\tLoss: 0.124975\n",
      "Train Epoch: 1 [1996800/8102750 (25%)]\tLoss: 0.128761\n",
      "Train Epoch: 1 [2022400/8102750 (25%)]\tLoss: 0.124270\n",
      "Train Epoch: 1 [2048000/8102750 (25%)]\tLoss: 0.120014\n",
      "[0/493590 (0%)]\n",
      "[153600/493590 (31%)]\n",
      "[307200/493590 (62%)]\n",
      "[460800/493590 (93%)]\n",
      "ROC AUC Score: 0.864471\n",
      "Validation Loss: 0.116261\n",
      "Train Epoch: 1 [2073600/8102750 (26%)]\tLoss: 0.118144\n",
      "Train Epoch: 1 [2099200/8102750 (26%)]\tLoss: 0.126406\n",
      "Train Epoch: 1 [2124800/8102750 (26%)]\tLoss: 0.124995\n",
      "Train Epoch: 1 [2150400/8102750 (27%)]\tLoss: 0.126055\n",
      "Train Epoch: 1 [2176000/8102750 (27%)]\tLoss: 0.110896\n",
      "Train Epoch: 1 [2201600/8102750 (27%)]\tLoss: 0.124215\n",
      "Train Epoch: 1 [2227200/8102750 (27%)]\tLoss: 0.128621\n",
      "Train Epoch: 1 [2252800/8102750 (28%)]\tLoss: 0.121759\n",
      "Train Epoch: 1 [2278400/8102750 (28%)]\tLoss: 0.125221\n",
      "Train Epoch: 1 [2304000/8102750 (28%)]\tLoss: 0.123760\n",
      "Train Epoch: 1 [2329600/8102750 (29%)]\tLoss: 0.125596\n",
      "Train Epoch: 1 [2355200/8102750 (29%)]\tLoss: 0.117430\n",
      "Train Epoch: 1 [2380800/8102750 (29%)]\tLoss: 0.119319\n",
      "Train Epoch: 1 [2406400/8102750 (30%)]\tLoss: 0.122752\n",
      "Train Epoch: 1 [2432000/8102750 (30%)]\tLoss: 0.120904\n",
      "Train Epoch: 1 [2457600/8102750 (30%)]\tLoss: 0.126828\n",
      "Train Epoch: 1 [2483200/8102750 (31%)]\tLoss: 0.124699\n",
      "Train Epoch: 1 [2508800/8102750 (31%)]\tLoss: 0.118030\n",
      "Train Epoch: 1 [2534400/8102750 (31%)]\tLoss: 0.121532\n",
      "Train Epoch: 1 [2560000/8102750 (32%)]\tLoss: 0.123107\n",
      "[0/493590 (0%)]\n",
      "[153600/493590 (31%)]\n",
      "[307200/493590 (62%)]\n",
      "[460800/493590 (93%)]\n",
      "ROC AUC Score: 0.871583\n",
      "Validation Loss: 0.120534\n",
      "Train Epoch: 1 [2585600/8102750 (32%)]\tLoss: 0.129149\n",
      "Train Epoch: 1 [2611200/8102750 (32%)]\tLoss: 0.129944\n",
      "Train Epoch: 1 [2636800/8102750 (33%)]\tLoss: 0.120377\n",
      "Train Epoch: 1 [2662400/8102750 (33%)]\tLoss: 0.121721\n",
      "Train Epoch: 1 [2688000/8102750 (33%)]\tLoss: 0.125268\n",
      "Train Epoch: 1 [2713600/8102750 (33%)]\tLoss: 0.120514\n",
      "Train Epoch: 1 [2739200/8102750 (34%)]\tLoss: 0.121923\n",
      "Train Epoch: 1 [2764800/8102750 (34%)]\tLoss: 0.121138\n",
      "Train Epoch: 1 [2790400/8102750 (34%)]\tLoss: 0.121683\n",
      "Train Epoch: 1 [2816000/8102750 (35%)]\tLoss: 0.126862\n",
      "Train Epoch: 1 [2841600/8102750 (35%)]\tLoss: 0.119134\n",
      "Train Epoch: 1 [2867200/8102750 (35%)]\tLoss: 0.120289\n",
      "Train Epoch: 1 [2892800/8102750 (36%)]\tLoss: 0.132519\n",
      "Train Epoch: 1 [2918400/8102750 (36%)]\tLoss: 0.126882\n",
      "Train Epoch: 1 [2944000/8102750 (36%)]\tLoss: 0.122511\n",
      "Train Epoch: 1 [2969600/8102750 (37%)]\tLoss: 0.130088\n",
      "Train Epoch: 1 [2995200/8102750 (37%)]\tLoss: 0.124934\n",
      "Train Epoch: 1 [3020800/8102750 (37%)]\tLoss: 0.123363\n",
      "Train Epoch: 1 [3046400/8102750 (38%)]\tLoss: 0.127476\n",
      "Train Epoch: 1 [3072000/8102750 (38%)]\tLoss: 0.126875\n",
      "[0/493590 (0%)]\n",
      "[153600/493590 (31%)]\n",
      "[307200/493590 (62%)]\n",
      "[460800/493590 (93%)]\n",
      "ROC AUC Score: 0.870721\n",
      "Validation Loss: 0.113148\n",
      "Train Epoch: 1 [3097600/8102750 (38%)]\tLoss: 0.120459\n",
      "Train Epoch: 1 [3123200/8102750 (39%)]\tLoss: 0.127012\n",
      "Train Epoch: 1 [3148800/8102750 (39%)]\tLoss: 0.122816\n",
      "Train Epoch: 1 [3174400/8102750 (39%)]\tLoss: 0.119820\n",
      "Train Epoch: 1 [3200000/8102750 (39%)]\tLoss: 0.122195\n",
      "Train Epoch: 1 [3225600/8102750 (40%)]\tLoss: 0.123142\n",
      "Train Epoch: 1 [3251200/8102750 (40%)]\tLoss: 0.120614\n",
      "Train Epoch: 1 [3276800/8102750 (40%)]\tLoss: 0.119416\n",
      "Train Epoch: 1 [3302400/8102750 (41%)]\tLoss: 0.124041\n",
      "Train Epoch: 1 [3328000/8102750 (41%)]\tLoss: 0.120562\n",
      "Train Epoch: 1 [3353600/8102750 (41%)]\tLoss: 0.120554\n",
      "Train Epoch: 1 [3379200/8102750 (42%)]\tLoss: 0.118733\n",
      "Train Epoch: 1 [3404800/8102750 (42%)]\tLoss: 0.120106\n",
      "Train Epoch: 1 [3430400/8102750 (42%)]\tLoss: 0.125396\n",
      "Train Epoch: 1 [3456000/8102750 (43%)]\tLoss: 0.122414\n",
      "Train Epoch: 1 [3481600/8102750 (43%)]\tLoss: 0.123872\n",
      "Train Epoch: 1 [3507200/8102750 (43%)]\tLoss: 0.126390\n",
      "Train Epoch: 1 [3532800/8102750 (44%)]\tLoss: 0.123790\n",
      "Train Epoch: 1 [3558400/8102750 (44%)]\tLoss: 0.117046\n",
      "Train Epoch: 1 [3584000/8102750 (44%)]\tLoss: 0.121745\n",
      "[0/493590 (0%)]\n",
      "[153600/493590 (31%)]\n",
      "[307200/493590 (62%)]\n",
      "[460800/493590 (93%)]\n",
      "ROC AUC Score: 0.876722\n",
      "Validation Loss: 0.114800\n",
      "Train Epoch: 1 [3609600/8102750 (45%)]\tLoss: 0.128286\n",
      "Train Epoch: 1 [3635200/8102750 (45%)]\tLoss: 0.126695\n",
      "Train Epoch: 1 [3660800/8102750 (45%)]\tLoss: 0.125598\n",
      "Train Epoch: 1 [3686400/8102750 (45%)]\tLoss: 0.122536\n",
      "Train Epoch: 1 [3712000/8102750 (46%)]\tLoss: 0.126621\n",
      "Train Epoch: 1 [3737600/8102750 (46%)]\tLoss: 0.117449\n",
      "Train Epoch: 1 [3763200/8102750 (46%)]\tLoss: 0.125151\n",
      "Train Epoch: 1 [3788800/8102750 (47%)]\tLoss: 0.114824\n",
      "Train Epoch: 1 [3814400/8102750 (47%)]\tLoss: 0.122160\n",
      "Train Epoch: 1 [3840000/8102750 (47%)]\tLoss: 0.115795\n",
      "Train Epoch: 1 [3865600/8102750 (48%)]\tLoss: 0.125296\n",
      "Train Epoch: 1 [3891200/8102750 (48%)]\tLoss: 0.121416\n",
      "Train Epoch: 1 [3916800/8102750 (48%)]\tLoss: 0.122180\n",
      "Train Epoch: 1 [3942400/8102750 (49%)]\tLoss: 0.126055\n",
      "Train Epoch: 1 [3968000/8102750 (49%)]\tLoss: 0.124076\n",
      "Train Epoch: 1 [3993600/8102750 (49%)]\tLoss: 0.117093\n",
      "Train Epoch: 1 [4019200/8102750 (50%)]\tLoss: 0.121352\n",
      "Train Epoch: 1 [4044800/8102750 (50%)]\tLoss: 0.126484\n",
      "Train Epoch: 1 [4070400/8102750 (50%)]\tLoss: 0.120588\n",
      "Train Epoch: 1 [4096000/8102750 (51%)]\tLoss: 0.120979\n",
      "[0/493590 (0%)]\n",
      "[153600/493590 (31%)]\n",
      "[307200/493590 (62%)]\n",
      "[460800/493590 (93%)]\n",
      "ROC AUC Score: 0.878927\n",
      "Validation Loss: 0.111803\n",
      "Train Epoch: 1 [4121600/8102750 (51%)]\tLoss: 0.121274\n",
      "Train Epoch: 1 [4147200/8102750 (51%)]\tLoss: 0.124458\n",
      "Train Epoch: 1 [4172800/8102750 (51%)]\tLoss: 0.118643\n",
      "Train Epoch: 1 [4198400/8102750 (52%)]\tLoss: 0.119561\n",
      "Train Epoch: 1 [4224000/8102750 (52%)]\tLoss: 0.121275\n",
      "Train Epoch: 1 [4249600/8102750 (52%)]\tLoss: 0.132053\n",
      "Train Epoch: 1 [4275200/8102750 (53%)]\tLoss: 0.122575\n",
      "Train Epoch: 1 [4300800/8102750 (53%)]\tLoss: 0.121644\n",
      "Train Epoch: 1 [4326400/8102750 (53%)]\tLoss: 0.127047\n",
      "Train Epoch: 1 [4352000/8102750 (54%)]\tLoss: 0.125339\n",
      "Train Epoch: 1 [4377600/8102750 (54%)]\tLoss: 0.117865\n",
      "Train Epoch: 1 [4403200/8102750 (54%)]\tLoss: 0.125534\n",
      "Train Epoch: 1 [4428800/8102750 (55%)]\tLoss: 0.116588\n",
      "Train Epoch: 1 [4454400/8102750 (55%)]\tLoss: 0.116583\n",
      "Train Epoch: 1 [4480000/8102750 (55%)]\tLoss: 0.123219\n",
      "Train Epoch: 1 [4505600/8102750 (56%)]\tLoss: 0.120876\n",
      "Train Epoch: 1 [4531200/8102750 (56%)]\tLoss: 0.133352\n",
      "Train Epoch: 1 [4556800/8102750 (56%)]\tLoss: 0.116247\n",
      "Train Epoch: 1 [4582400/8102750 (57%)]\tLoss: 0.122591\n",
      "Train Epoch: 1 [4608000/8102750 (57%)]\tLoss: 0.122813\n",
      "[0/493590 (0%)]\n",
      "[153600/493590 (31%)]\n",
      "[307200/493590 (62%)]\n",
      "[460800/493590 (93%)]\n",
      "ROC AUC Score: 0.881537\n",
      "Validation Loss: 0.113562\n",
      "Train Epoch: 1 [4633600/8102750 (57%)]\tLoss: 0.121899\n",
      "Train Epoch: 1 [4659200/8102750 (58%)]\tLoss: 0.125009\n",
      "Train Epoch: 1 [4684800/8102750 (58%)]\tLoss: 0.121059\n",
      "Train Epoch: 1 [4710400/8102750 (58%)]\tLoss: 0.124169\n",
      "Train Epoch: 1 [4736000/8102750 (58%)]\tLoss: 0.126646\n",
      "Train Epoch: 1 [4761600/8102750 (59%)]\tLoss: 0.119783\n",
      "Train Epoch: 1 [4787200/8102750 (59%)]\tLoss: 0.123805\n",
      "Train Epoch: 1 [4812800/8102750 (59%)]\tLoss: 0.125159\n",
      "Train Epoch: 1 [4838400/8102750 (60%)]\tLoss: 0.123682\n",
      "Train Epoch: 1 [4864000/8102750 (60%)]\tLoss: 0.122296\n",
      "Train Epoch: 1 [4889600/8102750 (60%)]\tLoss: 0.123979\n",
      "Train Epoch: 1 [4915200/8102750 (61%)]\tLoss: 0.124693\n",
      "Train Epoch: 1 [4940800/8102750 (61%)]\tLoss: 0.117802\n",
      "Train Epoch: 1 [4966400/8102750 (61%)]\tLoss: 0.122429\n",
      "Train Epoch: 1 [4992000/8102750 (62%)]\tLoss: 0.128649\n",
      "Train Epoch: 1 [5017600/8102750 (62%)]\tLoss: 0.124145\n",
      "Train Epoch: 1 [5043200/8102750 (62%)]\tLoss: 0.119752\n",
      "Train Epoch: 1 [5068800/8102750 (63%)]\tLoss: 0.120281\n",
      "Train Epoch: 1 [5094400/8102750 (63%)]\tLoss: 0.119777\n",
      "Train Epoch: 1 [5120000/8102750 (63%)]\tLoss: 0.124264\n",
      "[0/493590 (0%)]\n",
      "[153600/493590 (31%)]\n",
      "[307200/493590 (62%)]\n",
      "[460800/493590 (93%)]\n",
      "ROC AUC Score: 0.879608\n",
      "Validation Loss: 0.110745\n",
      "Train Epoch: 1 [5145600/8102750 (64%)]\tLoss: 0.122228\n",
      "Train Epoch: 1 [5171200/8102750 (64%)]\tLoss: 0.124541\n",
      "Train Epoch: 1 [5196800/8102750 (64%)]\tLoss: 0.119665\n",
      "Train Epoch: 1 [5222400/8102750 (64%)]\tLoss: 0.122230\n",
      "Train Epoch: 1 [5248000/8102750 (65%)]\tLoss: 0.125863\n",
      "Train Epoch: 1 [5273600/8102750 (65%)]\tLoss: 0.119941\n",
      "Train Epoch: 1 [5299200/8102750 (65%)]\tLoss: 0.124310\n",
      "Train Epoch: 1 [5324800/8102750 (66%)]\tLoss: 0.123510\n",
      "Train Epoch: 1 [5350400/8102750 (66%)]\tLoss: 0.122632\n",
      "Train Epoch: 1 [5376000/8102750 (66%)]\tLoss: 0.118838\n",
      "Train Epoch: 1 [5401600/8102750 (67%)]\tLoss: 0.118686\n",
      "Train Epoch: 1 [5427200/8102750 (67%)]\tLoss: 0.128050\n",
      "Train Epoch: 1 [5452800/8102750 (67%)]\tLoss: 0.124435\n",
      "Train Epoch: 1 [5478400/8102750 (68%)]\tLoss: 0.117728\n",
      "Train Epoch: 1 [5504000/8102750 (68%)]\tLoss: 0.118765\n",
      "Train Epoch: 1 [5529600/8102750 (68%)]\tLoss: 0.129765\n",
      "Train Epoch: 1 [5555200/8102750 (69%)]\tLoss: 0.119503\n",
      "Train Epoch: 1 [5580800/8102750 (69%)]\tLoss: 0.122590\n",
      "Train Epoch: 1 [5606400/8102750 (69%)]\tLoss: 0.117545\n",
      "Train Epoch: 1 [5632000/8102750 (70%)]\tLoss: 0.127454\n",
      "[0/493590 (0%)]\n",
      "[153600/493590 (31%)]\n",
      "[307200/493590 (62%)]\n",
      "[460800/493590 (93%)]\n",
      "ROC AUC Score: 0.883358\n",
      "Validation Loss: 0.106027\n",
      "Train Epoch: 1 [5657600/8102750 (70%)]\tLoss: 0.119438\n",
      "Train Epoch: 1 [5683200/8102750 (70%)]\tLoss: 0.118292\n",
      "Train Epoch: 1 [5708800/8102750 (70%)]\tLoss: 0.123127\n",
      "Train Epoch: 1 [5734400/8102750 (71%)]\tLoss: 0.118431\n",
      "Train Epoch: 1 [5760000/8102750 (71%)]\tLoss: 0.121658\n",
      "Train Epoch: 1 [5785600/8102750 (71%)]\tLoss: 0.124037\n",
      "Train Epoch: 1 [5811200/8102750 (72%)]\tLoss: 0.123518\n",
      "Train Epoch: 1 [5836800/8102750 (72%)]\tLoss: 0.125986\n",
      "Train Epoch: 1 [5862400/8102750 (72%)]\tLoss: 0.122967\n",
      "Train Epoch: 1 [5888000/8102750 (73%)]\tLoss: 0.123003\n",
      "Train Epoch: 1 [5913600/8102750 (73%)]\tLoss: 0.119648\n",
      "Train Epoch: 1 [5939200/8102750 (73%)]\tLoss: 0.121782\n",
      "Train Epoch: 1 [5964800/8102750 (74%)]\tLoss: 0.116400\n",
      "Train Epoch: 1 [5990400/8102750 (74%)]\tLoss: 0.124547\n",
      "Train Epoch: 1 [6016000/8102750 (74%)]\tLoss: 0.122473\n",
      "Train Epoch: 1 [6041600/8102750 (75%)]\tLoss: 0.115838\n",
      "Train Epoch: 1 [6067200/8102750 (75%)]\tLoss: 0.121868\n",
      "Train Epoch: 1 [6092800/8102750 (75%)]\tLoss: 0.116104\n",
      "Train Epoch: 1 [6118400/8102750 (76%)]\tLoss: 0.116087\n",
      "Train Epoch: 1 [6144000/8102750 (76%)]\tLoss: 0.122832\n",
      "[0/493590 (0%)]\n",
      "[153600/493590 (31%)]\n",
      "[307200/493590 (62%)]\n",
      "[460800/493590 (93%)]\n",
      "ROC AUC Score: 0.882786\n",
      "Validation Loss: 0.111879\n",
      "Train Epoch: 1 [6169600/8102750 (76%)]\tLoss: 0.122896\n",
      "Train Epoch: 1 [6195200/8102750 (76%)]\tLoss: 0.125625\n",
      "Train Epoch: 1 [6220800/8102750 (77%)]\tLoss: 0.120324\n",
      "Train Epoch: 1 [6246400/8102750 (77%)]\tLoss: 0.122264\n",
      "Train Epoch: 1 [6272000/8102750 (77%)]\tLoss: 0.121235\n",
      "Train Epoch: 1 [6297600/8102750 (78%)]\tLoss: 0.122703\n",
      "Train Epoch: 1 [6323200/8102750 (78%)]\tLoss: 0.120240\n",
      "Train Epoch: 1 [6348800/8102750 (78%)]\tLoss: 0.122268\n",
      "Train Epoch: 1 [6374400/8102750 (79%)]\tLoss: 0.122438\n",
      "Train Epoch: 1 [6400000/8102750 (79%)]\tLoss: 0.116234\n",
      "Train Epoch: 1 [6425600/8102750 (79%)]\tLoss: 0.123571\n",
      "Train Epoch: 1 [6451200/8102750 (80%)]\tLoss: 0.121485\n",
      "Train Epoch: 1 [6476800/8102750 (80%)]\tLoss: 0.125617\n",
      "Train Epoch: 1 [6502400/8102750 (80%)]\tLoss: 0.123132\n",
      "Train Epoch: 1 [6528000/8102750 (81%)]\tLoss: 0.119281\n",
      "Train Epoch: 1 [6553600/8102750 (81%)]\tLoss: 0.121748\n",
      "Train Epoch: 1 [6579200/8102750 (81%)]\tLoss: 0.116454\n",
      "Train Epoch: 1 [6604800/8102750 (82%)]\tLoss: 0.116951\n",
      "Train Epoch: 1 [6630400/8102750 (82%)]\tLoss: 0.126473\n",
      "Train Epoch: 1 [6656000/8102750 (82%)]\tLoss: 0.120812\n",
      "[0/493590 (0%)]\n",
      "[153600/493590 (31%)]\n",
      "[307200/493590 (62%)]\n",
      "[460800/493590 (93%)]\n",
      "ROC AUC Score: 0.883002\n",
      "Validation Loss: 0.108723\n",
      "Train Epoch: 1 [6681600/8102750 (82%)]\tLoss: 0.123028\n",
      "Train Epoch: 1 [6707200/8102750 (83%)]\tLoss: 0.124173\n",
      "Train Epoch: 1 [6732800/8102750 (83%)]\tLoss: 0.124674\n",
      "Train Epoch: 1 [6758400/8102750 (83%)]\tLoss: 0.114565\n",
      "Train Epoch: 1 [6784000/8102750 (84%)]\tLoss: 0.120859\n",
      "Train Epoch: 1 [6809600/8102750 (84%)]\tLoss: 0.124354\n",
      "Train Epoch: 1 [6835200/8102750 (84%)]\tLoss: 0.117897\n",
      "Train Epoch: 1 [6860800/8102750 (85%)]\tLoss: 0.122458\n",
      "Train Epoch: 1 [6886400/8102750 (85%)]\tLoss: 0.122710\n",
      "Train Epoch: 1 [6912000/8102750 (85%)]\tLoss: 0.123691\n",
      "Train Epoch: 1 [6937600/8102750 (86%)]\tLoss: 0.121266\n",
      "Train Epoch: 1 [6963200/8102750 (86%)]\tLoss: 0.119870\n",
      "Train Epoch: 1 [6988800/8102750 (86%)]\tLoss: 0.114750\n",
      "Train Epoch: 1 [7014400/8102750 (87%)]\tLoss: 0.123122\n",
      "Train Epoch: 1 [7040000/8102750 (87%)]\tLoss: 0.118412\n",
      "Train Epoch: 1 [7065600/8102750 (87%)]\tLoss: 0.117058\n",
      "Train Epoch: 1 [7091200/8102750 (88%)]\tLoss: 0.116523\n",
      "Train Epoch: 1 [7116800/8102750 (88%)]\tLoss: 0.125713\n",
      "Train Epoch: 1 [7142400/8102750 (88%)]\tLoss: 0.122634\n",
      "Train Epoch: 1 [7168000/8102750 (88%)]\tLoss: 0.119166\n",
      "[0/493590 (0%)]\n",
      "[153600/493590 (31%)]\n",
      "[307200/493590 (62%)]\n",
      "[460800/493590 (93%)]\n",
      "ROC AUC Score: 0.885339\n",
      "Validation Loss: 0.109204\n",
      "Train Epoch: 1 [7193600/8102750 (89%)]\tLoss: 0.122042\n",
      "Train Epoch: 1 [7219200/8102750 (89%)]\tLoss: 0.123887\n",
      "Train Epoch: 1 [7244800/8102750 (89%)]\tLoss: 0.115541\n",
      "Train Epoch: 1 [7270400/8102750 (90%)]\tLoss: 0.121332\n",
      "Train Epoch: 1 [7296000/8102750 (90%)]\tLoss: 0.124349\n",
      "Train Epoch: 1 [7321600/8102750 (90%)]\tLoss: 0.119836\n",
      "Train Epoch: 1 [7347200/8102750 (91%)]\tLoss: 0.123381\n",
      "Train Epoch: 1 [7372800/8102750 (91%)]\tLoss: 0.125364\n",
      "Train Epoch: 1 [7398400/8102750 (91%)]\tLoss: 0.115955\n",
      "Train Epoch: 1 [7424000/8102750 (92%)]\tLoss: 0.120440\n",
      "Train Epoch: 1 [7449600/8102750 (92%)]\tLoss: 0.125586\n",
      "Train Epoch: 1 [7475200/8102750 (92%)]\tLoss: 0.123077\n",
      "Train Epoch: 1 [7500800/8102750 (93%)]\tLoss: 0.115663\n",
      "Train Epoch: 1 [7526400/8102750 (93%)]\tLoss: 0.115610\n",
      "Train Epoch: 1 [7552000/8102750 (93%)]\tLoss: 0.120749\n",
      "Train Epoch: 1 [7577600/8102750 (94%)]\tLoss: 0.123956\n",
      "Train Epoch: 1 [7603200/8102750 (94%)]\tLoss: 0.124736\n",
      "Train Epoch: 1 [7628800/8102750 (94%)]\tLoss: 0.120515\n",
      "Train Epoch: 1 [7654400/8102750 (94%)]\tLoss: 0.112988\n",
      "Train Epoch: 1 [7680000/8102750 (95%)]\tLoss: 0.119589\n",
      "[0/493590 (0%)]\n",
      "[153600/493590 (31%)]\n",
      "[307200/493590 (62%)]\n",
      "[460800/493590 (93%)]\n",
      "ROC AUC Score: 0.884779\n",
      "Validation Loss: 0.110941\n",
      "Train Epoch: 1 [7705600/8102750 (95%)]\tLoss: 0.123957\n",
      "Train Epoch: 1 [7731200/8102750 (95%)]\tLoss: 0.124860\n",
      "Train Epoch: 1 [7756800/8102750 (96%)]\tLoss: 0.123754\n",
      "Train Epoch: 1 [7782400/8102750 (96%)]\tLoss: 0.124017\n",
      "Train Epoch: 1 [7808000/8102750 (96%)]\tLoss: 0.116868\n",
      "Train Epoch: 1 [7833600/8102750 (97%)]\tLoss: 0.121740\n",
      "Train Epoch: 1 [7859200/8102750 (97%)]\tLoss: 0.121142\n",
      "Train Epoch: 1 [7884800/8102750 (97%)]\tLoss: 0.120992\n",
      "Train Epoch: 1 [7910400/8102750 (98%)]\tLoss: 0.118129\n",
      "Train Epoch: 1 [7936000/8102750 (98%)]\tLoss: 0.127667\n",
      "Train Epoch: 1 [7961600/8102750 (98%)]\tLoss: 0.121052\n",
      "Train Epoch: 1 [7987200/8102750 (99%)]\tLoss: 0.125003\n",
      "Train Epoch: 1 [8012800/8102750 (99%)]\tLoss: 0.115403\n",
      "Train Epoch: 1 [8038400/8102750 (99%)]\tLoss: 0.120395\n",
      "Train Epoch: 1 [8064000/8102750 (100%)]\tLoss: 0.113328\n",
      "Train Epoch: 1 [8089600/8102750 (100%)]\tLoss: 0.115368\n",
      "Epoch Results:\n",
      "[0/8102750 (0%)]\n",
      "[153600/8102750 (2%)]\n",
      "[307200/8102750 (4%)]\n",
      "[460800/8102750 (6%)]\n",
      "[614400/8102750 (8%)]\n",
      "[768000/8102750 (9%)]\n",
      "[921600/8102750 (11%)]\n",
      "[1075200/8102750 (13%)]\n",
      "[1228800/8102750 (15%)]\n",
      "[1382400/8102750 (17%)]\n",
      "[1536000/8102750 (19%)]\n",
      "[1689600/8102750 (21%)]\n",
      "[1843200/8102750 (23%)]\n",
      "[1996800/8102750 (25%)]\n",
      "[2150400/8102750 (27%)]\n",
      "[2304000/8102750 (28%)]\n",
      "[2457600/8102750 (30%)]\n",
      "[2611200/8102750 (32%)]\n",
      "[2764800/8102750 (34%)]\n",
      "[2918400/8102750 (36%)]\n",
      "[3072000/8102750 (38%)]\n",
      "[3225600/8102750 (40%)]\n",
      "[3379200/8102750 (42%)]\n",
      "[3532800/8102750 (44%)]\n",
      "[3686400/8102750 (45%)]\n",
      "[3840000/8102750 (47%)]\n",
      "[3993600/8102750 (49%)]\n",
      "[4147200/8102750 (51%)]\n",
      "[4300800/8102750 (53%)]\n",
      "[4454400/8102750 (55%)]\n",
      "[4608000/8102750 (57%)]\n",
      "[4761600/8102750 (59%)]\n",
      "[4915200/8102750 (61%)]\n",
      "[5068800/8102750 (63%)]\n",
      "[5222400/8102750 (64%)]\n",
      "[5376000/8102750 (66%)]\n",
      "[5529600/8102750 (68%)]\n",
      "[5683200/8102750 (70%)]\n",
      "[5836800/8102750 (72%)]\n",
      "[5990400/8102750 (74%)]\n",
      "[6144000/8102750 (76%)]\n",
      "[6297600/8102750 (78%)]\n",
      "[6451200/8102750 (80%)]\n",
      "[6604800/8102750 (82%)]\n",
      "[6758400/8102750 (83%)]\n",
      "[6912000/8102750 (85%)]\n",
      "[7065600/8102750 (87%)]\n",
      "[7219200/8102750 (89%)]\n",
      "[7372800/8102750 (91%)]\n",
      "[7526400/8102750 (93%)]\n",
      "[7680000/8102750 (95%)]\n",
      "[7833600/8102750 (97%)]\n",
      "[7987200/8102750 (99%)]\n",
      "Train ROC AUC Score: 0.821242\n",
      "Train Loss: 0.117414\n",
      "[0/493590 (0%)]\n",
      "[153600/493590 (31%)]\n",
      "[307200/493590 (62%)]\n",
      "[460800/493590 (93%)]\n",
      "Validation ROC AUC Score: 0.888768\n",
      "Validation Loss: 0.107100\n",
      "\n",
      "Train Epoch: 2 [25600/8102750 (0%)]\tLoss: 0.118638\n",
      "Train Epoch: 2 [51200/8102750 (1%)]\tLoss: 0.114832\n",
      "Train Epoch: 2 [76800/8102750 (1%)]\tLoss: 0.116362\n",
      "Train Epoch: 2 [102400/8102750 (1%)]\tLoss: 0.121611\n",
      "Train Epoch: 2 [128000/8102750 (2%)]\tLoss: 0.111484\n",
      "Train Epoch: 2 [153600/8102750 (2%)]\tLoss: 0.122885\n",
      "Train Epoch: 2 [179200/8102750 (2%)]\tLoss: 0.120491\n",
      "Train Epoch: 2 [204800/8102750 (3%)]\tLoss: 0.114281\n",
      "Train Epoch: 2 [230400/8102750 (3%)]\tLoss: 0.118828\n",
      "Train Epoch: 2 [256000/8102750 (3%)]\tLoss: 0.122506\n",
      "Train Epoch: 2 [281600/8102750 (3%)]\tLoss: 0.116114\n",
      "Train Epoch: 2 [307200/8102750 (4%)]\tLoss: 0.118251\n",
      "Train Epoch: 2 [332800/8102750 (4%)]\tLoss: 0.117307\n",
      "Train Epoch: 2 [358400/8102750 (4%)]\tLoss: 0.116612\n",
      "Train Epoch: 2 [384000/8102750 (5%)]\tLoss: 0.114917\n",
      "Train Epoch: 2 [409600/8102750 (5%)]\tLoss: 0.119745\n",
      "Train Epoch: 2 [435200/8102750 (5%)]\tLoss: 0.117158\n",
      "Train Epoch: 2 [460800/8102750 (6%)]\tLoss: 0.118412\n",
      "Train Epoch: 2 [486400/8102750 (6%)]\tLoss: 0.124033\n",
      "Train Epoch: 2 [512000/8102750 (6%)]\tLoss: 0.120145\n",
      "[0/493590 (0%)]\n",
      "[153600/493590 (31%)]\n",
      "[307200/493590 (62%)]\n",
      "[460800/493590 (93%)]\n",
      "ROC AUC Score: 0.880249\n",
      "Validation Loss: 0.109823\n",
      "Train Epoch: 2 [537600/8102750 (7%)]\tLoss: 0.122888\n",
      "Train Epoch: 2 [563200/8102750 (7%)]\tLoss: 0.118196\n",
      "Train Epoch: 2 [588800/8102750 (7%)]\tLoss: 0.118850\n",
      "Train Epoch: 2 [614400/8102750 (8%)]\tLoss: 0.118591\n",
      "Train Epoch: 2 [640000/8102750 (8%)]\tLoss: 0.118376\n",
      "Train Epoch: 2 [665600/8102750 (8%)]\tLoss: 0.116544\n",
      "Train Epoch: 2 [691200/8102750 (9%)]\tLoss: 0.124684\n",
      "Train Epoch: 2 [716800/8102750 (9%)]\tLoss: 0.116756\n",
      "Train Epoch: 2 [742400/8102750 (9%)]\tLoss: 0.116131\n",
      "Train Epoch: 2 [768000/8102750 (9%)]\tLoss: 0.127747\n",
      "Train Epoch: 2 [793600/8102750 (10%)]\tLoss: 0.122370\n",
      "Train Epoch: 2 [819200/8102750 (10%)]\tLoss: 0.118050\n",
      "Train Epoch: 2 [844800/8102750 (10%)]\tLoss: 0.120128\n",
      "Train Epoch: 2 [870400/8102750 (11%)]\tLoss: 0.117082\n",
      "Train Epoch: 2 [896000/8102750 (11%)]\tLoss: 0.123351\n",
      "Train Epoch: 2 [921600/8102750 (11%)]\tLoss: 0.121436\n",
      "Train Epoch: 2 [947200/8102750 (12%)]\tLoss: 0.119208\n",
      "Train Epoch: 2 [972800/8102750 (12%)]\tLoss: 0.118080\n",
      "Train Epoch: 2 [998400/8102750 (12%)]\tLoss: 0.119915\n",
      "Train Epoch: 2 [1024000/8102750 (13%)]\tLoss: 0.120296\n",
      "[0/493590 (0%)]\n",
      "[153600/493590 (31%)]\n",
      "[307200/493590 (62%)]\n",
      "[460800/493590 (93%)]\n",
      "ROC AUC Score: 0.884677\n",
      "Validation Loss: 0.106299\n",
      "Train Epoch: 2 [1049600/8102750 (13%)]\tLoss: 0.117167\n",
      "Train Epoch: 2 [1075200/8102750 (13%)]\tLoss: 0.115585\n",
      "Train Epoch: 2 [1100800/8102750 (14%)]\tLoss: 0.117045\n",
      "Train Epoch: 2 [1126400/8102750 (14%)]\tLoss: 0.123338\n",
      "Train Epoch: 2 [1152000/8102750 (14%)]\tLoss: 0.119417\n",
      "Train Epoch: 2 [1177600/8102750 (15%)]\tLoss: 0.123494\n",
      "Train Epoch: 2 [1203200/8102750 (15%)]\tLoss: 0.115632\n",
      "Train Epoch: 2 [1228800/8102750 (15%)]\tLoss: 0.120411\n",
      "Train Epoch: 2 [1254400/8102750 (15%)]\tLoss: 0.123083\n",
      "Train Epoch: 2 [1280000/8102750 (16%)]\tLoss: 0.121453\n",
      "Train Epoch: 2 [1305600/8102750 (16%)]\tLoss: 0.116296\n",
      "Train Epoch: 2 [1331200/8102750 (16%)]\tLoss: 0.116359\n",
      "Train Epoch: 2 [1356800/8102750 (17%)]\tLoss: 0.121958\n",
      "Train Epoch: 2 [1382400/8102750 (17%)]\tLoss: 0.120751\n",
      "Train Epoch: 2 [1408000/8102750 (17%)]\tLoss: 0.117598\n",
      "Train Epoch: 2 [1433600/8102750 (18%)]\tLoss: 0.113011\n",
      "Train Epoch: 2 [1459200/8102750 (18%)]\tLoss: 0.118763\n",
      "Train Epoch: 2 [1484800/8102750 (18%)]\tLoss: 0.119114\n",
      "Train Epoch: 2 [1510400/8102750 (19%)]\tLoss: 0.117845\n",
      "Train Epoch: 2 [1536000/8102750 (19%)]\tLoss: 0.120261\n",
      "[0/493590 (0%)]\n",
      "[153600/493590 (31%)]\n",
      "[307200/493590 (62%)]\n",
      "[460800/493590 (93%)]\n",
      "ROC AUC Score: 0.883560\n",
      "Validation Loss: 0.109076\n",
      "Train Epoch: 2 [1561600/8102750 (19%)]\tLoss: 0.120328\n",
      "Train Epoch: 2 [1587200/8102750 (20%)]\tLoss: 0.116655\n",
      "Train Epoch: 2 [1612800/8102750 (20%)]\tLoss: 0.119643\n",
      "Train Epoch: 2 [1638400/8102750 (20%)]\tLoss: 0.115306\n",
      "Train Epoch: 2 [1664000/8102750 (21%)]\tLoss: 0.116435\n",
      "Train Epoch: 2 [1689600/8102750 (21%)]\tLoss: 0.113347\n",
      "Train Epoch: 2 [1715200/8102750 (21%)]\tLoss: 0.123581\n",
      "Train Epoch: 2 [1740800/8102750 (21%)]\tLoss: 0.124979\n",
      "Train Epoch: 2 [1766400/8102750 (22%)]\tLoss: 0.117128\n",
      "Train Epoch: 2 [1792000/8102750 (22%)]\tLoss: 0.118198\n",
      "Train Epoch: 2 [1817600/8102750 (22%)]\tLoss: 0.120267\n",
      "Train Epoch: 2 [1843200/8102750 (23%)]\tLoss: 0.120076\n",
      "Train Epoch: 2 [1868800/8102750 (23%)]\tLoss: 0.119070\n",
      "Train Epoch: 2 [1894400/8102750 (23%)]\tLoss: 0.128083\n",
      "Train Epoch: 2 [1920000/8102750 (24%)]\tLoss: 0.119373\n",
      "Train Epoch: 2 [1945600/8102750 (24%)]\tLoss: 0.119683\n",
      "Train Epoch: 2 [1971200/8102750 (24%)]\tLoss: 0.115915\n",
      "Train Epoch: 2 [1996800/8102750 (25%)]\tLoss: 0.122889\n",
      "Train Epoch: 2 [2022400/8102750 (25%)]\tLoss: 0.117933\n",
      "Train Epoch: 2 [2048000/8102750 (25%)]\tLoss: 0.121505\n",
      "[0/493590 (0%)]\n",
      "[153600/493590 (31%)]\n",
      "[307200/493590 (62%)]\n",
      "[460800/493590 (93%)]\n",
      "ROC AUC Score: 0.880694\n",
      "Validation Loss: 0.110426\n",
      "Train Epoch: 2 [2073600/8102750 (26%)]\tLoss: 0.123044\n",
      "Train Epoch: 2 [2099200/8102750 (26%)]\tLoss: 0.120734\n",
      "Train Epoch: 2 [2124800/8102750 (26%)]\tLoss: 0.118291\n",
      "Train Epoch: 2 [2150400/8102750 (27%)]\tLoss: 0.115539\n",
      "Train Epoch: 2 [2176000/8102750 (27%)]\tLoss: 0.116906\n",
      "Train Epoch: 2 [2201600/8102750 (27%)]\tLoss: 0.119951\n",
      "Train Epoch: 2 [2227200/8102750 (27%)]\tLoss: 0.117806\n",
      "Train Epoch: 2 [2252800/8102750 (28%)]\tLoss: 0.118684\n",
      "Train Epoch: 2 [2278400/8102750 (28%)]\tLoss: 0.117568\n",
      "Train Epoch: 2 [2304000/8102750 (28%)]\tLoss: 0.119711\n",
      "Train Epoch: 2 [2329600/8102750 (29%)]\tLoss: 0.118183\n",
      "Train Epoch: 2 [2355200/8102750 (29%)]\tLoss: 0.117294\n",
      "Train Epoch: 2 [2380800/8102750 (29%)]\tLoss: 0.119272\n",
      "Train Epoch: 2 [2406400/8102750 (30%)]\tLoss: 0.118307\n",
      "Train Epoch: 2 [2432000/8102750 (30%)]\tLoss: 0.118114\n",
      "Train Epoch: 2 [2457600/8102750 (30%)]\tLoss: 0.127459\n",
      "Train Epoch: 2 [2483200/8102750 (31%)]\tLoss: 0.126081\n",
      "Train Epoch: 2 [2508800/8102750 (31%)]\tLoss: 0.121074\n",
      "Train Epoch: 2 [2534400/8102750 (31%)]\tLoss: 0.117902\n",
      "Train Epoch: 2 [2560000/8102750 (32%)]\tLoss: 0.116443\n",
      "[0/493590 (0%)]\n",
      "[153600/493590 (31%)]\n",
      "[307200/493590 (62%)]\n",
      "[460800/493590 (93%)]\n",
      "ROC AUC Score: 0.884061\n",
      "Validation Loss: 0.108335\n",
      "Train Epoch: 2 [2585600/8102750 (32%)]\tLoss: 0.123655\n",
      "Train Epoch: 2 [2611200/8102750 (32%)]\tLoss: 0.119068\n",
      "Train Epoch: 2 [2636800/8102750 (33%)]\tLoss: 0.113279\n",
      "Train Epoch: 2 [2662400/8102750 (33%)]\tLoss: 0.115628\n",
      "Train Epoch: 2 [2688000/8102750 (33%)]\tLoss: 0.117245\n",
      "Train Epoch: 2 [2713600/8102750 (33%)]\tLoss: 0.120054\n",
      "Train Epoch: 2 [2739200/8102750 (34%)]\tLoss: 0.117805\n",
      "Train Epoch: 2 [2764800/8102750 (34%)]\tLoss: 0.118247\n",
      "Train Epoch: 2 [2790400/8102750 (34%)]\tLoss: 0.121185\n",
      "Train Epoch: 2 [2816000/8102750 (35%)]\tLoss: 0.123194\n",
      "Train Epoch: 2 [2841600/8102750 (35%)]\tLoss: 0.117794\n",
      "Train Epoch: 2 [2867200/8102750 (35%)]\tLoss: 0.118006\n",
      "Train Epoch: 2 [2892800/8102750 (36%)]\tLoss: 0.118820\n",
      "Train Epoch: 2 [2918400/8102750 (36%)]\tLoss: 0.117889\n",
      "Train Epoch: 2 [2944000/8102750 (36%)]\tLoss: 0.120616\n",
      "Train Epoch: 2 [2969600/8102750 (37%)]\tLoss: 0.126763\n",
      "Train Epoch: 2 [2995200/8102750 (37%)]\tLoss: 0.122091\n",
      "Train Epoch: 2 [3020800/8102750 (37%)]\tLoss: 0.118727\n",
      "Train Epoch: 2 [3046400/8102750 (38%)]\tLoss: 0.120061\n",
      "Train Epoch: 2 [3072000/8102750 (38%)]\tLoss: 0.114850\n",
      "[0/493590 (0%)]\n",
      "[153600/493590 (31%)]\n",
      "[307200/493590 (62%)]\n",
      "[460800/493590 (93%)]\n",
      "ROC AUC Score: 0.884543\n",
      "Validation Loss: 0.110990\n",
      "Train Epoch: 2 [3097600/8102750 (38%)]\tLoss: 0.123140\n",
      "Train Epoch: 2 [3123200/8102750 (39%)]\tLoss: 0.114045\n",
      "Train Epoch: 2 [3148800/8102750 (39%)]\tLoss: 0.121183\n",
      "Train Epoch: 2 [3174400/8102750 (39%)]\tLoss: 0.121822\n",
      "Train Epoch: 2 [3200000/8102750 (39%)]\tLoss: 0.124054\n",
      "Train Epoch: 2 [3225600/8102750 (40%)]\tLoss: 0.119623\n",
      "Train Epoch: 2 [3251200/8102750 (40%)]\tLoss: 0.121238\n",
      "Train Epoch: 2 [3276800/8102750 (40%)]\tLoss: 0.116560\n",
      "Train Epoch: 2 [3302400/8102750 (41%)]\tLoss: 0.120212\n",
      "Train Epoch: 2 [3328000/8102750 (41%)]\tLoss: 0.116909\n",
      "Train Epoch: 2 [3353600/8102750 (41%)]\tLoss: 0.126369\n",
      "Train Epoch: 2 [3379200/8102750 (42%)]\tLoss: 0.113302\n",
      "Train Epoch: 2 [3404800/8102750 (42%)]\tLoss: 0.121324\n",
      "Train Epoch: 2 [3430400/8102750 (42%)]\tLoss: 0.126017\n",
      "Train Epoch: 2 [3456000/8102750 (43%)]\tLoss: 0.115748\n",
      "Train Epoch: 2 [3481600/8102750 (43%)]\tLoss: 0.126040\n",
      "Train Epoch: 2 [3507200/8102750 (43%)]\tLoss: 0.122608\n",
      "Train Epoch: 2 [3532800/8102750 (44%)]\tLoss: 0.122044\n",
      "Train Epoch: 2 [3558400/8102750 (44%)]\tLoss: 0.125523\n",
      "Train Epoch: 2 [3584000/8102750 (44%)]\tLoss: 0.120307\n",
      "[0/493590 (0%)]\n",
      "[153600/493590 (31%)]\n",
      "[307200/493590 (62%)]\n",
      "[460800/493590 (93%)]\n",
      "ROC AUC Score: 0.882781\n",
      "Validation Loss: 0.112237\n",
      "Train Epoch: 2 [3609600/8102750 (45%)]\tLoss: 0.121271\n",
      "Train Epoch: 2 [3635200/8102750 (45%)]\tLoss: 0.118083\n",
      "Train Epoch: 2 [3660800/8102750 (45%)]\tLoss: 0.123543\n",
      "Train Epoch: 2 [3686400/8102750 (45%)]\tLoss: 0.117995\n",
      "Train Epoch: 2 [3712000/8102750 (46%)]\tLoss: 0.123686\n",
      "Train Epoch: 2 [3737600/8102750 (46%)]\tLoss: 0.118061\n",
      "Train Epoch: 2 [3763200/8102750 (46%)]\tLoss: 0.112774\n",
      "Train Epoch: 2 [3788800/8102750 (47%)]\tLoss: 0.118846\n",
      "Train Epoch: 2 [3814400/8102750 (47%)]\tLoss: 0.119196\n",
      "Train Epoch: 2 [3840000/8102750 (47%)]\tLoss: 0.121070\n",
      "Train Epoch: 2 [3865600/8102750 (48%)]\tLoss: 0.117987\n",
      "Train Epoch: 2 [3891200/8102750 (48%)]\tLoss: 0.122925\n",
      "Train Epoch: 2 [3916800/8102750 (48%)]\tLoss: 0.122304\n",
      "Train Epoch: 2 [3942400/8102750 (49%)]\tLoss: 0.120390\n",
      "Train Epoch: 2 [3968000/8102750 (49%)]\tLoss: 0.119454\n",
      "Train Epoch: 2 [3993600/8102750 (49%)]\tLoss: 0.118472\n",
      "Train Epoch: 2 [4019200/8102750 (50%)]\tLoss: 0.115045\n",
      "Train Epoch: 2 [4044800/8102750 (50%)]\tLoss: 0.116533\n",
      "Train Epoch: 2 [4070400/8102750 (50%)]\tLoss: 0.120541\n",
      "Train Epoch: 2 [4096000/8102750 (51%)]\tLoss: 0.118710\n",
      "[0/493590 (0%)]\n",
      "[153600/493590 (31%)]\n",
      "[307200/493590 (62%)]\n",
      "[460800/493590 (93%)]\n",
      "ROC AUC Score: 0.889465\n",
      "Validation Loss: 0.108970\n",
      "Train Epoch: 2 [4121600/8102750 (51%)]\tLoss: 0.114750\n",
      "Train Epoch: 2 [4147200/8102750 (51%)]\tLoss: 0.120235\n",
      "Train Epoch: 2 [4172800/8102750 (51%)]\tLoss: 0.123601\n",
      "Train Epoch: 2 [4198400/8102750 (52%)]\tLoss: 0.114681\n",
      "Train Epoch: 2 [4224000/8102750 (52%)]\tLoss: 0.115787\n",
      "Train Epoch: 2 [4249600/8102750 (52%)]\tLoss: 0.112225\n",
      "Train Epoch: 2 [4275200/8102750 (53%)]\tLoss: 0.120952\n",
      "Train Epoch: 2 [4300800/8102750 (53%)]\tLoss: 0.123243\n",
      "Train Epoch: 2 [4326400/8102750 (53%)]\tLoss: 0.118602\n",
      "Train Epoch: 2 [4352000/8102750 (54%)]\tLoss: 0.116834\n",
      "Train Epoch: 2 [4377600/8102750 (54%)]\tLoss: 0.120729\n",
      "Train Epoch: 2 [4403200/8102750 (54%)]\tLoss: 0.116145\n",
      "Train Epoch: 2 [4428800/8102750 (55%)]\tLoss: 0.118463\n",
      "Train Epoch: 2 [4454400/8102750 (55%)]\tLoss: 0.116727\n",
      "Train Epoch: 2 [4480000/8102750 (55%)]\tLoss: 0.117143\n",
      "Train Epoch: 2 [4505600/8102750 (56%)]\tLoss: 0.118150\n",
      "Train Epoch: 2 [4531200/8102750 (56%)]\tLoss: 0.123669\n",
      "Train Epoch: 2 [4556800/8102750 (56%)]\tLoss: 0.117040\n",
      "Train Epoch: 2 [4582400/8102750 (57%)]\tLoss: 0.119646\n",
      "Train Epoch: 2 [4608000/8102750 (57%)]\tLoss: 0.123153\n",
      "[0/493590 (0%)]\n",
      "[153600/493590 (31%)]\n",
      "[307200/493590 (62%)]\n",
      "[460800/493590 (93%)]\n",
      "ROC AUC Score: 0.886663\n",
      "Validation Loss: 0.109409\n",
      "Train Epoch: 2 [4633600/8102750 (57%)]\tLoss: 0.120379\n",
      "Train Epoch: 2 [4659200/8102750 (58%)]\tLoss: 0.114251\n",
      "Train Epoch: 2 [4684800/8102750 (58%)]\tLoss: 0.119873\n",
      "Train Epoch: 2 [4710400/8102750 (58%)]\tLoss: 0.116074\n",
      "Train Epoch: 2 [4736000/8102750 (58%)]\tLoss: 0.117705\n",
      "Train Epoch: 2 [4761600/8102750 (59%)]\tLoss: 0.118673\n",
      "Train Epoch: 2 [4787200/8102750 (59%)]\tLoss: 0.118505\n",
      "Train Epoch: 2 [4812800/8102750 (59%)]\tLoss: 0.120487\n",
      "Train Epoch: 2 [4838400/8102750 (60%)]\tLoss: 0.119626\n",
      "Train Epoch: 2 [4864000/8102750 (60%)]\tLoss: 0.119945\n",
      "Train Epoch: 2 [4889600/8102750 (60%)]\tLoss: 0.119824\n",
      "Train Epoch: 2 [4915200/8102750 (61%)]\tLoss: 0.120541\n",
      "Train Epoch: 2 [4940800/8102750 (61%)]\tLoss: 0.120135\n",
      "Train Epoch: 2 [4966400/8102750 (61%)]\tLoss: 0.121190\n",
      "Train Epoch: 2 [4992000/8102750 (62%)]\tLoss: 0.125622\n",
      "Train Epoch: 2 [5017600/8102750 (62%)]\tLoss: 0.118767\n",
      "Train Epoch: 2 [5043200/8102750 (62%)]\tLoss: 0.119754\n",
      "Train Epoch: 2 [5068800/8102750 (63%)]\tLoss: 0.114058\n",
      "Train Epoch: 2 [5094400/8102750 (63%)]\tLoss: 0.117357\n",
      "Train Epoch: 2 [5120000/8102750 (63%)]\tLoss: 0.114466\n",
      "[0/493590 (0%)]\n",
      "[153600/493590 (31%)]\n",
      "[307200/493590 (62%)]\n",
      "[460800/493590 (93%)]\n",
      "ROC AUC Score: 0.875677\n",
      "Validation Loss: 0.108963\n",
      "Train Epoch: 2 [5145600/8102750 (64%)]\tLoss: 0.117519\n",
      "Train Epoch: 2 [5171200/8102750 (64%)]\tLoss: 0.121215\n",
      "Train Epoch: 2 [5196800/8102750 (64%)]\tLoss: 0.116921\n",
      "Train Epoch: 2 [5222400/8102750 (64%)]\tLoss: 0.125134\n",
      "Train Epoch: 2 [5248000/8102750 (65%)]\tLoss: 0.118455\n",
      "Train Epoch: 2 [5273600/8102750 (65%)]\tLoss: 0.118768\n",
      "Train Epoch: 2 [5299200/8102750 (65%)]\tLoss: 0.116358\n",
      "Train Epoch: 2 [5324800/8102750 (66%)]\tLoss: 0.120054\n",
      "Train Epoch: 2 [5350400/8102750 (66%)]\tLoss: 0.122044\n",
      "Train Epoch: 2 [5376000/8102750 (66%)]\tLoss: 0.116344\n",
      "Train Epoch: 2 [5401600/8102750 (67%)]\tLoss: 0.122518\n",
      "Train Epoch: 2 [5427200/8102750 (67%)]\tLoss: 0.122644\n",
      "Train Epoch: 2 [5452800/8102750 (67%)]\tLoss: 0.115442\n",
      "Train Epoch: 2 [5478400/8102750 (68%)]\tLoss: 0.125243\n",
      "Train Epoch: 2 [5504000/8102750 (68%)]\tLoss: 0.118515\n",
      "Train Epoch: 2 [5529600/8102750 (68%)]\tLoss: 0.115298\n",
      "Train Epoch: 2 [5555200/8102750 (69%)]\tLoss: 0.118855\n",
      "Train Epoch: 2 [5580800/8102750 (69%)]\tLoss: 0.115335\n",
      "Train Epoch: 2 [5606400/8102750 (69%)]\tLoss: 0.116839\n",
      "Train Epoch: 2 [5632000/8102750 (70%)]\tLoss: 0.119977\n",
      "[0/493590 (0%)]\n",
      "[153600/493590 (31%)]\n",
      "[307200/493590 (62%)]\n",
      "[460800/493590 (93%)]\n",
      "ROC AUC Score: 0.882447\n",
      "Validation Loss: 0.109746\n",
      "Train Epoch: 2 [5657600/8102750 (70%)]\tLoss: 0.122097\n",
      "Train Epoch: 2 [5683200/8102750 (70%)]\tLoss: 0.110349\n",
      "Train Epoch: 2 [5708800/8102750 (70%)]\tLoss: 0.113689\n",
      "Train Epoch: 2 [5734400/8102750 (71%)]\tLoss: 0.126009\n",
      "Train Epoch: 2 [5760000/8102750 (71%)]\tLoss: 0.120962\n",
      "Train Epoch: 2 [5785600/8102750 (71%)]\tLoss: 0.121112\n",
      "Train Epoch: 2 [5811200/8102750 (72%)]\tLoss: 0.118607\n",
      "Train Epoch: 2 [5836800/8102750 (72%)]\tLoss: 0.121288\n",
      "Train Epoch: 2 [5862400/8102750 (72%)]\tLoss: 0.117813\n",
      "Train Epoch: 2 [5888000/8102750 (73%)]\tLoss: 0.114486\n",
      "Train Epoch: 2 [5913600/8102750 (73%)]\tLoss: 0.116123\n",
      "Train Epoch: 2 [5939200/8102750 (73%)]\tLoss: 0.120593\n",
      "Train Epoch: 2 [5964800/8102750 (74%)]\tLoss: 0.122485\n",
      "Train Epoch: 2 [5990400/8102750 (74%)]\tLoss: 0.120666\n",
      "Train Epoch: 2 [6016000/8102750 (74%)]\tLoss: 0.117461\n",
      "Train Epoch: 2 [6041600/8102750 (75%)]\tLoss: 0.118696\n",
      "Train Epoch: 2 [6067200/8102750 (75%)]\tLoss: 0.122021\n",
      "Train Epoch: 2 [6092800/8102750 (75%)]\tLoss: 0.121982\n",
      "Train Epoch: 2 [6118400/8102750 (76%)]\tLoss: 0.121075\n",
      "Train Epoch: 2 [6144000/8102750 (76%)]\tLoss: 0.114871\n",
      "[0/493590 (0%)]\n",
      "[153600/493590 (31%)]\n",
      "[307200/493590 (62%)]\n",
      "[460800/493590 (93%)]\n",
      "ROC AUC Score: 0.889800\n",
      "Validation Loss: 0.104461\n",
      "Train Epoch: 2 [6169600/8102750 (76%)]\tLoss: 0.121337\n",
      "Train Epoch: 2 [6195200/8102750 (76%)]\tLoss: 0.120712\n",
      "Train Epoch: 2 [6220800/8102750 (77%)]\tLoss: 0.115111\n",
      "Train Epoch: 2 [6246400/8102750 (77%)]\tLoss: 0.113986\n",
      "Train Epoch: 2 [6272000/8102750 (77%)]\tLoss: 0.119304\n",
      "Train Epoch: 2 [6297600/8102750 (78%)]\tLoss: 0.121787\n",
      "Train Epoch: 2 [6323200/8102750 (78%)]\tLoss: 0.118349\n",
      "Train Epoch: 2 [6348800/8102750 (78%)]\tLoss: 0.120420\n",
      "Train Epoch: 2 [6374400/8102750 (79%)]\tLoss: 0.116601\n",
      "Train Epoch: 2 [6400000/8102750 (79%)]\tLoss: 0.115722\n",
      "Train Epoch: 2 [6425600/8102750 (79%)]\tLoss: 0.117054\n",
      "Train Epoch: 2 [6451200/8102750 (80%)]\tLoss: 0.118278\n",
      "Train Epoch: 2 [6476800/8102750 (80%)]\tLoss: 0.116100\n",
      "Train Epoch: 2 [6502400/8102750 (80%)]\tLoss: 0.114738\n",
      "Train Epoch: 2 [6528000/8102750 (81%)]\tLoss: 0.115267\n",
      "Train Epoch: 2 [6553600/8102750 (81%)]\tLoss: 0.117348\n",
      "Train Epoch: 2 [6579200/8102750 (81%)]\tLoss: 0.119853\n",
      "Train Epoch: 2 [6604800/8102750 (82%)]\tLoss: 0.120515\n",
      "Train Epoch: 2 [6630400/8102750 (82%)]\tLoss: 0.120397\n",
      "Train Epoch: 2 [6656000/8102750 (82%)]\tLoss: 0.112294\n",
      "[0/493590 (0%)]\n",
      "[153600/493590 (31%)]\n",
      "[307200/493590 (62%)]\n",
      "[460800/493590 (93%)]\n",
      "ROC AUC Score: 0.882857\n",
      "Validation Loss: 0.112996\n",
      "Train Epoch: 2 [6681600/8102750 (82%)]\tLoss: 0.126699\n",
      "Train Epoch: 2 [6707200/8102750 (83%)]\tLoss: 0.116625\n",
      "Train Epoch: 2 [6732800/8102750 (83%)]\tLoss: 0.117440\n",
      "Train Epoch: 2 [6758400/8102750 (83%)]\tLoss: 0.118881\n",
      "Train Epoch: 2 [6784000/8102750 (84%)]\tLoss: 0.114846\n",
      "Train Epoch: 2 [6809600/8102750 (84%)]\tLoss: 0.120151\n",
      "Train Epoch: 2 [6835200/8102750 (84%)]\tLoss: 0.121714\n",
      "Train Epoch: 2 [6860800/8102750 (85%)]\tLoss: 0.121244\n",
      "Train Epoch: 2 [6886400/8102750 (85%)]\tLoss: 0.117905\n",
      "Train Epoch: 2 [6912000/8102750 (85%)]\tLoss: 0.119527\n",
      "Train Epoch: 2 [6937600/8102750 (86%)]\tLoss: 0.116143\n",
      "Train Epoch: 2 [6963200/8102750 (86%)]\tLoss: 0.115553\n",
      "Train Epoch: 2 [6988800/8102750 (86%)]\tLoss: 0.116499\n",
      "Train Epoch: 2 [7014400/8102750 (87%)]\tLoss: 0.118527\n",
      "Train Epoch: 2 [7040000/8102750 (87%)]\tLoss: 0.121729\n",
      "Train Epoch: 2 [7065600/8102750 (87%)]\tLoss: 0.116005\n",
      "Train Epoch: 2 [7091200/8102750 (88%)]\tLoss: 0.119359\n",
      "Train Epoch: 2 [7116800/8102750 (88%)]\tLoss: 0.118012\n",
      "Train Epoch: 2 [7142400/8102750 (88%)]\tLoss: 0.119758\n",
      "Train Epoch: 2 [7168000/8102750 (88%)]\tLoss: 0.121423\n",
      "[0/493590 (0%)]\n",
      "[153600/493590 (31%)]\n",
      "[307200/493590 (62%)]\n",
      "[460800/493590 (93%)]\n",
      "ROC AUC Score: 0.887968\n",
      "Validation Loss: 0.107745\n",
      "Train Epoch: 2 [7193600/8102750 (89%)]\tLoss: 0.118050\n",
      "Train Epoch: 2 [7219200/8102750 (89%)]\tLoss: 0.115237\n",
      "Train Epoch: 2 [7244800/8102750 (89%)]\tLoss: 0.117098\n",
      "Train Epoch: 2 [7270400/8102750 (90%)]\tLoss: 0.122914\n",
      "Train Epoch: 2 [7296000/8102750 (90%)]\tLoss: 0.116936\n",
      "Train Epoch: 2 [7321600/8102750 (90%)]\tLoss: 0.121901\n",
      "Train Epoch: 2 [7347200/8102750 (91%)]\tLoss: 0.118014\n",
      "Train Epoch: 2 [7372800/8102750 (91%)]\tLoss: 0.116503\n",
      "Train Epoch: 2 [7398400/8102750 (91%)]\tLoss: 0.121619\n",
      "Train Epoch: 2 [7424000/8102750 (92%)]\tLoss: 0.113990\n",
      "Train Epoch: 2 [7449600/8102750 (92%)]\tLoss: 0.120708\n",
      "Train Epoch: 2 [7475200/8102750 (92%)]\tLoss: 0.114912\n",
      "Train Epoch: 2 [7500800/8102750 (93%)]\tLoss: 0.118630\n",
      "Train Epoch: 2 [7526400/8102750 (93%)]\tLoss: 0.122836\n",
      "Train Epoch: 2 [7552000/8102750 (93%)]\tLoss: 0.118707\n",
      "Train Epoch: 2 [7577600/8102750 (94%)]\tLoss: 0.119181\n",
      "Train Epoch: 2 [7603200/8102750 (94%)]\tLoss: 0.120866\n",
      "Train Epoch: 2 [7628800/8102750 (94%)]\tLoss: 0.122970\n",
      "Train Epoch: 2 [7654400/8102750 (94%)]\tLoss: 0.121816\n",
      "Train Epoch: 2 [7680000/8102750 (95%)]\tLoss: 0.116495\n",
      "[0/493590 (0%)]\n",
      "[153600/493590 (31%)]\n",
      "[307200/493590 (62%)]\n",
      "[460800/493590 (93%)]\n",
      "ROC AUC Score: 0.885756\n",
      "Validation Loss: 0.108759\n",
      "Train Epoch: 2 [7705600/8102750 (95%)]\tLoss: 0.116703\n",
      "Train Epoch: 2 [7731200/8102750 (95%)]\tLoss: 0.116846\n",
      "Train Epoch: 2 [7756800/8102750 (96%)]\tLoss: 0.116189\n",
      "Train Epoch: 2 [7782400/8102750 (96%)]\tLoss: 0.117225\n",
      "Train Epoch: 2 [7808000/8102750 (96%)]\tLoss: 0.121469\n",
      "Train Epoch: 2 [7833600/8102750 (97%)]\tLoss: 0.116441\n",
      "Train Epoch: 2 [7859200/8102750 (97%)]\tLoss: 0.119474\n",
      "Train Epoch: 2 [7884800/8102750 (97%)]\tLoss: 0.111368\n",
      "Train Epoch: 2 [7910400/8102750 (98%)]\tLoss: 0.121022\n",
      "Train Epoch: 2 [7936000/8102750 (98%)]\tLoss: 0.118884\n",
      "Train Epoch: 2 [7961600/8102750 (98%)]\tLoss: 0.126017\n",
      "Train Epoch: 2 [7987200/8102750 (99%)]\tLoss: 0.115284\n",
      "Train Epoch: 2 [8012800/8102750 (99%)]\tLoss: 0.118197\n",
      "Train Epoch: 2 [8038400/8102750 (99%)]\tLoss: 0.117213\n",
      "Train Epoch: 2 [8064000/8102750 (100%)]\tLoss: 0.118292\n",
      "Train Epoch: 2 [8089600/8102750 (100%)]\tLoss: 0.118948\n",
      "Epoch Results:\n",
      "[0/8102750 (0%)]\n",
      "[153600/8102750 (2%)]\n",
      "[307200/8102750 (4%)]\n",
      "[460800/8102750 (6%)]\n",
      "[614400/8102750 (8%)]\n",
      "[768000/8102750 (9%)]\n",
      "[921600/8102750 (11%)]\n",
      "[1075200/8102750 (13%)]\n",
      "[1228800/8102750 (15%)]\n",
      "[1382400/8102750 (17%)]\n",
      "[1536000/8102750 (19%)]\n",
      "[1689600/8102750 (21%)]\n",
      "[1843200/8102750 (23%)]\n",
      "[1996800/8102750 (25%)]\n",
      "[2150400/8102750 (27%)]\n",
      "[2304000/8102750 (28%)]\n",
      "[2457600/8102750 (30%)]\n",
      "[2611200/8102750 (32%)]\n",
      "[2764800/8102750 (34%)]\n",
      "[2918400/8102750 (36%)]\n",
      "[3072000/8102750 (38%)]\n",
      "[3225600/8102750 (40%)]\n",
      "[3379200/8102750 (42%)]\n",
      "[3532800/8102750 (44%)]\n",
      "[3686400/8102750 (45%)]\n",
      "[3840000/8102750 (47%)]\n",
      "[3993600/8102750 (49%)]\n",
      "[4147200/8102750 (51%)]\n",
      "[4300800/8102750 (53%)]\n",
      "[4454400/8102750 (55%)]\n",
      "[4608000/8102750 (57%)]\n",
      "[4761600/8102750 (59%)]\n",
      "[4915200/8102750 (61%)]\n",
      "[5068800/8102750 (63%)]\n",
      "[5222400/8102750 (64%)]\n",
      "[5376000/8102750 (66%)]\n",
      "[5529600/8102750 (68%)]\n",
      "[5683200/8102750 (70%)]\n",
      "[5836800/8102750 (72%)]\n",
      "[5990400/8102750 (74%)]\n",
      "[6144000/8102750 (76%)]\n",
      "[6297600/8102750 (78%)]\n",
      "[6451200/8102750 (80%)]\n",
      "[6604800/8102750 (82%)]\n",
      "[6758400/8102750 (83%)]\n",
      "[6912000/8102750 (85%)]\n",
      "[7065600/8102750 (87%)]\n",
      "[7219200/8102750 (89%)]\n",
      "[7372800/8102750 (91%)]\n",
      "[7526400/8102750 (93%)]\n",
      "[7680000/8102750 (95%)]\n",
      "[7833600/8102750 (97%)]\n",
      "[7987200/8102750 (99%)]\n",
      "Train ROC AUC Score: 0.826491\n",
      "Train Loss: 0.116814\n",
      "[0/493590 (0%)]\n",
      "[153600/493590 (31%)]\n",
      "[307200/493590 (62%)]\n",
      "[460800/493590 (93%)]\n",
      "Validation ROC AUC Score: 0.881994\n",
      "Validation Loss: 0.109986\n",
      "\n",
      "CPU times: user 37min 59s, sys: 40 s, total: 38min 39s\n",
      "Wall time: 38min 36s\n"
     ]
    }
   ],
   "source": [
    "%%time\n",
    "model, train_losses, val_losses, val_auc_scores = train_model(\n",
    "                model, train_dl, val_dl, optimizer, criterion,\n",
    "                n_epochs=2, USE_CUDA=USE_CUDA, val_every=20)"
   ]
  },
  {
   "cell_type": "code",
   "execution_count": 60,
   "metadata": {},
   "outputs": [],
   "source": [
    "train_losses = pd.Series(train_losses)\n",
    "val_losses = pd.Series(val_losses)\n",
    "val_auc_scores = pd.Series(val_auc_scores)"
   ]
  },
  {
   "cell_type": "code",
   "execution_count": 61,
   "metadata": {},
   "outputs": [
    {
     "data": {
      "text/plain": [
       "<matplotlib.axes._subplots.AxesSubplot at 0x7f94f25ee6d8>"
      ]
     },
     "execution_count": 61,
     "metadata": {},
     "output_type": "execute_result"
    },
    {
     "data": {
      "image/png": "[encoded data removed]",
      "text/plain": [
       "<matplotlib.figure.Figure at 0x7f95289d26a0>"
      ]
     },
     "metadata": {
      "image/png": {
       "height": 248,
       "width": 378
      }
     },
     "output_type": "display_data"
    }
   ],
   "source": [
    "train_losses.plot()"
   ]
  },
  {
   "cell_type": "code",
   "execution_count": 62,
   "metadata": {},
   "outputs": [
    {
     "data": {
      "text/plain": [
       "<matplotlib.axes._subplots.AxesSubplot at 0x7f93ecc16278>"
      ]
     },
     "execution_count": 62,
     "metadata": {},
     "output_type": "execute_result"
    },
    {
     "data": {
      "image/png": "[encoded data removed]",
      "text/plain": [
       "<matplotlib.figure.Figure at 0x7f95289d2588>"
      ]
     },
     "metadata": {
      "image/png": {
       "height": 248,
       "width": 386
      }
     },
     "output_type": "display_data"
    }
   ],
   "source": [
    "val_losses.plot()"
   ]
  },
  {
   "cell_type": "code",
   "execution_count": 63,
   "metadata": {},
   "outputs": [
    {
     "data": {
      "text/plain": [
       "<matplotlib.axes._subplots.AxesSubplot at 0x7f92fa87dd30>"
      ]
     },
     "execution_count": 63,
     "metadata": {},
     "output_type": "execute_result"
    },
    {
     "data": {
      "image/png": "[encoded data removed]",
      "text/plain": [
       "<matplotlib.figure.Figure at 0x7f94157e64a8>"
      ]
     },
     "metadata": {
      "image/png": {
       "height": 248,
       "width": 380
      }
     },
     "output_type": "display_data"
    }
   ],
   "source": [
    "val_auc_scores.plot()"
   ]
  },
  {
   "cell_type": "code",
   "execution_count": 65,
   "metadata": {},
   "outputs": [],
   "source": [
    "import torch\n",
    "torch.save(model.state_dict(), NEURALNET/'StructuredNet.pkl')"
   ]
  },
  {
   "cell_type": "code",
   "execution_count": null,
   "metadata": {},
   "outputs": [],
   "source": [
    "# Train ROC AUC Score: 0.821242\n",
    "# Train Loss: 0.117414\n",
    "# Validation ROC AUC Score: 0.888768\n",
    "# Validation Loss: 0.107100\n",
    "    \n",
    "# Train ROC AUC Score: 0.826491\n",
    "# Train Loss: 0.116814\n",
    "# Validation ROC AUC Score: 0.881994\n",
    "# Validation Loss: 0.109986"
   ]
  },
  {
   "cell_type": "code",
   "execution_count": null,
   "metadata": {},
   "outputs": [],
   "source": [
    "# Train ROC AUC Score: 0.796762\n",
    "# Train Loss: 0.119966\n",
    "# Validation ROC AUC Score: 0.874341\n",
    "# Validation Loss: 0.111939\n",
    "\n",
    "# Train ROC AUC Score: 0.796169\n",
    "# Train Loss: 0.119166\n",
    "# Validation ROC AUC Score: 0.875377\n",
    "# Validation Loss: 0.111252"
   ]
  },
  {
   "cell_type": "code",
   "execution_count": null,
   "metadata": {},
   "outputs": [],
   "source": [
    "# Train ROC AUC Score: 0.792860\n",
    "# Train Loss: 0.121061\n",
    "# Validation ROC AUC Score: 0.872865\n",
    "# Validation Loss: 0.117293\n",
    "    \n",
    "# Train ROC AUC Score: 0.794502\n",
    "# Train Loss: 0.119734\n",
    "# Validation ROC AUC Score: 0.875042\n",
    "# Validation Loss: 0.112174"
   ]
  },
  {
   "cell_type": "markdown",
   "metadata": {},
   "source": [
    "## Test (All train)"
   ]
  },
  {
   "cell_type": "code",
   "execution_count": 95,
   "metadata": {},
   "outputs": [
    {
     "name": "stdout",
     "output_type": "stream",
     "text": [
      "CPU times: user 3.33 s, sys: 4.24 s, total: 7.57 s\n",
      "Wall time: 7.57 s\n"
     ]
    }
   ],
   "source": [
    "%%time\n",
    "train_ds = MultimodalDataset(train[cat_cols], train[num_cols],\n",
    "                             train_seqs, train[target_col])\n",
    "val_ds = MultimodalDataset(val[cat_cols], val[num_cols],\n",
    "                             val_seqs, val[target_col])\n",
    "test_ds = MultimodalDataset(test[cat_cols], test[num_cols],\n",
    "                             test_seqs, test[target_col])"
   ]
  },
  {
   "cell_type": "code",
   "execution_count": 96,
   "metadata": {},
   "outputs": [],
   "source": [
    "all_train_ds = torch.utils.data.ConcatDataset([train_ds, val_ds])"
   ]
  },
  {
   "cell_type": "code",
   "execution_count": 97,
   "metadata": {},
   "outputs": [
    {
     "name": "stdout",
     "output_type": "stream",
     "text": [
      "CPU times: user 0 ns, sys: 212 ms, total: 212 ms\n",
      "Wall time: 209 ms\n"
     ]
    }
   ],
   "source": [
    "%%time\n",
    "all_train_dl = DataLoader(all_train_ds, batch_size=128, shuffle=True)\n",
    "test_dl = DataLoader(test_ds, batch_size=128)"
   ]
  },
  {
   "cell_type": "code",
   "execution_count": 98,
   "metadata": {},
   "outputs": [],
   "source": [
    "USE_CUDA = True"
   ]
  },
  {
   "cell_type": "code",
   "execution_count": 99,
   "metadata": {},
   "outputs": [],
   "source": [
    "model = MultimodalNet(emb_szs, n_cont=len(num_cols), emb_drop=0.2,\n",
    "                      szs=[1000,500], drops=[0.5, 0.5],\n",
    "                      rnn_hidden_sz=64, rnn_input_sz=4, rnn_n_layers=2,\n",
    "                      rnn_drop=0.5)\n",
    "\n",
    "if USE_CUDA: model = model.cuda()"
   ]
  },
  {
   "cell_type": "code",
   "execution_count": 104,
   "metadata": {},
   "outputs": [],
   "source": [
    "optimizer = optim.Adam(model.parameters(), lr=1e-3)\n",
    "criterion = nn.BCEWithLogitsLoss()"
   ]
  },
  {
   "cell_type": "code",
   "execution_count": 105,
   "metadata": {},
   "outputs": [
    {
     "name": "stdout",
     "output_type": "stream",
     "text": [
      "Train Epoch: 1 [102400/8596340 (1%)]\tLoss: 0.149132\n",
      "Train Epoch: 1 [204800/8596340 (2%)]\tLoss: 0.134040\n",
      "Train Epoch: 1 [307200/8596340 (4%)]\tLoss: 0.132966\n",
      "Train Epoch: 1 [409600/8596340 (5%)]\tLoss: 0.131704\n",
      "Train Epoch: 1 [512000/8596340 (6%)]\tLoss: 0.132058\n",
      "Train Epoch: 1 [614400/8596340 (7%)]\tLoss: 0.126562\n",
      "Train Epoch: 1 [716800/8596340 (8%)]\tLoss: 0.128623\n",
      "Train Epoch: 1 [819200/8596340 (10%)]\tLoss: 0.129845\n",
      "Train Epoch: 1 [921600/8596340 (11%)]\tLoss: 0.126468\n",
      "Train Epoch: 1 [1024000/8596340 (12%)]\tLoss: 0.124746\n",
      "Train Epoch: 1 [1126400/8596340 (13%)]\tLoss: 0.124627\n",
      "Train Epoch: 1 [1228800/8596340 (14%)]\tLoss: 0.129204\n",
      "Train Epoch: 1 [1331200/8596340 (15%)]\tLoss: 0.127434\n",
      "Train Epoch: 1 [1433600/8596340 (17%)]\tLoss: 0.127579\n",
      "Train Epoch: 1 [1536000/8596340 (18%)]\tLoss: 0.126889\n",
      "Train Epoch: 1 [1638400/8596340 (19%)]\tLoss: 0.125576\n",
      "Train Epoch: 1 [1740800/8596340 (20%)]\tLoss: 0.122636\n",
      "Train Epoch: 1 [1843200/8596340 (21%)]\tLoss: 0.127469\n",
      "Train Epoch: 1 [1945600/8596340 (23%)]\tLoss: 0.125134\n",
      "Train Epoch: 1 [2048000/8596340 (24%)]\tLoss: 0.121632\n",
      "Train Epoch: 1 [2150400/8596340 (25%)]\tLoss: 0.123163\n",
      "Train Epoch: 1 [2252800/8596340 (26%)]\tLoss: 0.125961\n",
      "Train Epoch: 1 [2355200/8596340 (27%)]\tLoss: 0.124013\n",
      "Train Epoch: 1 [2457600/8596340 (29%)]\tLoss: 0.120329\n",
      "Train Epoch: 1 [2560000/8596340 (30%)]\tLoss: 0.122045\n",
      "Train Epoch: 1 [2662400/8596340 (31%)]\tLoss: 0.121621\n",
      "Train Epoch: 1 [2764800/8596340 (32%)]\tLoss: 0.125073\n",
      "Train Epoch: 1 [2867200/8596340 (33%)]\tLoss: 0.120274\n",
      "Train Epoch: 1 [2969600/8596340 (35%)]\tLoss: 0.124053\n",
      "Train Epoch: 1 [3072000/8596340 (36%)]\tLoss: 0.118208\n",
      "Train Epoch: 1 [3174400/8596340 (37%)]\tLoss: 0.122635\n",
      "Train Epoch: 1 [3276800/8596340 (38%)]\tLoss: 0.120520\n",
      "Train Epoch: 1 [3379200/8596340 (39%)]\tLoss: 0.118946\n",
      "Train Epoch: 1 [3481600/8596340 (41%)]\tLoss: 0.123538\n",
      "Train Epoch: 1 [3584000/8596340 (42%)]\tLoss: 0.120521\n",
      "Train Epoch: 1 [3686400/8596340 (43%)]\tLoss: 0.118852\n",
      "Train Epoch: 1 [3788800/8596340 (44%)]\tLoss: 0.122017\n",
      "Train Epoch: 1 [3891200/8596340 (45%)]\tLoss: 0.118164\n",
      "Train Epoch: 1 [3993600/8596340 (46%)]\tLoss: 0.122027\n",
      "Train Epoch: 1 [4096000/8596340 (48%)]\tLoss: 0.119367\n",
      "Train Epoch: 1 [4198400/8596340 (49%)]\tLoss: 0.122418\n",
      "Train Epoch: 1 [4300800/8596340 (50%)]\tLoss: 0.121570\n",
      "Train Epoch: 1 [4403200/8596340 (51%)]\tLoss: 0.119988\n",
      "Train Epoch: 1 [4505600/8596340 (52%)]\tLoss: 0.118801\n",
      "Train Epoch: 1 [4608000/8596340 (54%)]\tLoss: 0.122447\n",
      "Train Epoch: 1 [4710400/8596340 (55%)]\tLoss: 0.121273\n",
      "Train Epoch: 1 [4812800/8596340 (56%)]\tLoss: 0.118621\n",
      "Train Epoch: 1 [4915200/8596340 (57%)]\tLoss: 0.120148\n",
      "Train Epoch: 1 [5017600/8596340 (58%)]\tLoss: 0.120638\n",
      "Train Epoch: 1 [5120000/8596340 (60%)]\tLoss: 0.121636\n",
      "Train Epoch: 1 [5222400/8596340 (61%)]\tLoss: 0.118763\n",
      "Train Epoch: 1 [5324800/8596340 (62%)]\tLoss: 0.120610\n",
      "Train Epoch: 1 [5427200/8596340 (63%)]\tLoss: 0.119828\n",
      "Train Epoch: 1 [5529600/8596340 (64%)]\tLoss: 0.121560\n",
      "Train Epoch: 1 [5632000/8596340 (66%)]\tLoss: 0.119658\n",
      "Train Epoch: 1 [5734400/8596340 (67%)]\tLoss: 0.120504\n",
      "Train Epoch: 1 [5836800/8596340 (68%)]\tLoss: 0.120300\n",
      "Train Epoch: 1 [5939200/8596340 (69%)]\tLoss: 0.119966\n",
      "Train Epoch: 1 [6041600/8596340 (70%)]\tLoss: 0.123047\n",
      "Train Epoch: 1 [6144000/8596340 (71%)]\tLoss: 0.121759\n",
      "Train Epoch: 1 [6246400/8596340 (73%)]\tLoss: 0.119495\n",
      "Train Epoch: 1 [6348800/8596340 (74%)]\tLoss: 0.119986\n",
      "Train Epoch: 1 [6451200/8596340 (75%)]\tLoss: 0.118547\n",
      "Train Epoch: 1 [6553600/8596340 (76%)]\tLoss: 0.119556\n",
      "Train Epoch: 1 [6656000/8596340 (77%)]\tLoss: 0.119380\n",
      "Train Epoch: 1 [6758400/8596340 (79%)]\tLoss: 0.120025\n",
      "Train Epoch: 1 [6860800/8596340 (80%)]\tLoss: 0.117529\n",
      "Train Epoch: 1 [6963200/8596340 (81%)]\tLoss: 0.118589\n",
      "Train Epoch: 1 [7065600/8596340 (82%)]\tLoss: 0.121156\n",
      "Train Epoch: 1 [7168000/8596340 (83%)]\tLoss: 0.119696\n",
      "Train Epoch: 1 [7270400/8596340 (85%)]\tLoss: 0.119020\n",
      "Train Epoch: 1 [7372800/8596340 (86%)]\tLoss: 0.122775\n",
      "Train Epoch: 1 [7475200/8596340 (87%)]\tLoss: 0.118536\n",
      "Train Epoch: 1 [7577600/8596340 (88%)]\tLoss: 0.119508\n",
      "Train Epoch: 1 [7680000/8596340 (89%)]\tLoss: 0.119446\n",
      "Train Epoch: 1 [7782400/8596340 (91%)]\tLoss: 0.119280\n",
      "Train Epoch: 1 [7884800/8596340 (92%)]\tLoss: 0.121878\n",
      "Train Epoch: 1 [7987200/8596340 (93%)]\tLoss: 0.120622\n",
      "Train Epoch: 1 [8089600/8596340 (94%)]\tLoss: 0.118374\n",
      "Train Epoch: 1 [8192000/8596340 (95%)]\tLoss: 0.117068\n",
      "Train Epoch: 1 [8294400/8596340 (96%)]\tLoss: 0.118445\n",
      "Train Epoch: 1 [8396800/8596340 (98%)]\tLoss: 0.115964\n",
      "Train Epoch: 1 [8499200/8596340 (99%)]\tLoss: 0.116872\n",
      "\n",
      "Train Epoch: 2 [102400/8596340 (1%)]\tLoss: 0.118696\n",
      "Train Epoch: 2 [204800/8596340 (2%)]\tLoss: 0.117187\n",
      "Train Epoch: 2 [307200/8596340 (4%)]\tLoss: 0.118328\n",
      "Train Epoch: 2 [409600/8596340 (5%)]\tLoss: 0.117818\n",
      "Train Epoch: 2 [512000/8596340 (6%)]\tLoss: 0.115721\n",
      "Train Epoch: 2 [614400/8596340 (7%)]\tLoss: 0.117568\n",
      "Train Epoch: 2 [716800/8596340 (8%)]\tLoss: 0.120027\n",
      "Train Epoch: 2 [819200/8596340 (10%)]\tLoss: 0.117554\n",
      "Train Epoch: 2 [921600/8596340 (11%)]\tLoss: 0.119933\n",
      "Train Epoch: 2 [1024000/8596340 (12%)]\tLoss: 0.118340\n",
      "Train Epoch: 2 [1126400/8596340 (13%)]\tLoss: 0.115878\n",
      "Train Epoch: 2 [1228800/8596340 (14%)]\tLoss: 0.117145\n",
      "Train Epoch: 2 [1331200/8596340 (15%)]\tLoss: 0.119307\n",
      "Train Epoch: 2 [1433600/8596340 (17%)]\tLoss: 0.116264\n",
      "Train Epoch: 2 [1536000/8596340 (18%)]\tLoss: 0.117631\n",
      "Train Epoch: 2 [1638400/8596340 (19%)]\tLoss: 0.120069\n",
      "Train Epoch: 2 [1740800/8596340 (20%)]\tLoss: 0.117237\n",
      "Train Epoch: 2 [1843200/8596340 (21%)]\tLoss: 0.119176\n",
      "Train Epoch: 2 [1945600/8596340 (23%)]\tLoss: 0.116574\n",
      "Train Epoch: 2 [2048000/8596340 (24%)]\tLoss: 0.117662\n",
      "Train Epoch: 2 [2150400/8596340 (25%)]\tLoss: 0.117574\n",
      "Train Epoch: 2 [2252800/8596340 (26%)]\tLoss: 0.117723\n",
      "Train Epoch: 2 [2355200/8596340 (27%)]\tLoss: 0.120139\n",
      "Train Epoch: 2 [2457600/8596340 (29%)]\tLoss: 0.117232\n",
      "Train Epoch: 2 [2560000/8596340 (30%)]\tLoss: 0.118696\n",
      "Train Epoch: 2 [2662400/8596340 (31%)]\tLoss: 0.119460\n",
      "Train Epoch: 2 [2764800/8596340 (32%)]\tLoss: 0.118764\n",
      "Train Epoch: 2 [2867200/8596340 (33%)]\tLoss: 0.118347\n",
      "Train Epoch: 2 [2969600/8596340 (35%)]\tLoss: 0.114699\n",
      "Train Epoch: 2 [3072000/8596340 (36%)]\tLoss: 0.114886\n",
      "Train Epoch: 2 [3174400/8596340 (37%)]\tLoss: 0.118578\n",
      "Train Epoch: 2 [3276800/8596340 (38%)]\tLoss: 0.117293\n",
      "Train Epoch: 2 [3379200/8596340 (39%)]\tLoss: 0.115949\n",
      "Train Epoch: 2 [3481600/8596340 (41%)]\tLoss: 0.118026\n",
      "Train Epoch: 2 [3584000/8596340 (42%)]\tLoss: 0.117231\n",
      "Train Epoch: 2 [3686400/8596340 (43%)]\tLoss: 0.117622\n",
      "Train Epoch: 2 [3788800/8596340 (44%)]\tLoss: 0.117448\n",
      "Train Epoch: 2 [3891200/8596340 (45%)]\tLoss: 0.117537\n",
      "Train Epoch: 2 [3993600/8596340 (46%)]\tLoss: 0.117994\n",
      "Train Epoch: 2 [4096000/8596340 (48%)]\tLoss: 0.118258\n",
      "Train Epoch: 2 [4198400/8596340 (49%)]\tLoss: 0.117009\n",
      "Train Epoch: 2 [4300800/8596340 (50%)]\tLoss: 0.117790\n",
      "Train Epoch: 2 [4403200/8596340 (51%)]\tLoss: 0.117101\n",
      "Train Epoch: 2 [4505600/8596340 (52%)]\tLoss: 0.117600\n",
      "Train Epoch: 2 [4608000/8596340 (54%)]\tLoss: 0.118898\n",
      "Train Epoch: 2 [4710400/8596340 (55%)]\tLoss: 0.117122\n",
      "Train Epoch: 2 [4812800/8596340 (56%)]\tLoss: 0.119246\n",
      "Train Epoch: 2 [4915200/8596340 (57%)]\tLoss: 0.119033\n",
      "Train Epoch: 2 [5017600/8596340 (58%)]\tLoss: 0.119404\n",
      "Train Epoch: 2 [5120000/8596340 (60%)]\tLoss: 0.116889\n",
      "Train Epoch: 2 [5222400/8596340 (61%)]\tLoss: 0.117682\n",
      "Train Epoch: 2 [5324800/8596340 (62%)]\tLoss: 0.117972\n",
      "Train Epoch: 2 [5427200/8596340 (63%)]\tLoss: 0.118734\n",
      "Train Epoch: 2 [5529600/8596340 (64%)]\tLoss: 0.116317\n",
      "Train Epoch: 2 [5632000/8596340 (66%)]\tLoss: 0.119567\n",
      "Train Epoch: 2 [5734400/8596340 (67%)]\tLoss: 0.119973\n",
      "Train Epoch: 2 [5836800/8596340 (68%)]\tLoss: 0.117650\n",
      "Train Epoch: 2 [5939200/8596340 (69%)]\tLoss: 0.115900\n",
      "Train Epoch: 2 [6041600/8596340 (70%)]\tLoss: 0.121978\n",
      "Train Epoch: 2 [6144000/8596340 (71%)]\tLoss: 0.119729\n",
      "Train Epoch: 2 [6246400/8596340 (73%)]\tLoss: 0.117885\n",
      "Train Epoch: 2 [6348800/8596340 (74%)]\tLoss: 0.117638\n",
      "Train Epoch: 2 [6451200/8596340 (75%)]\tLoss: 0.116361\n",
      "Train Epoch: 2 [6553600/8596340 (76%)]\tLoss: 0.115053\n",
      "Train Epoch: 2 [6656000/8596340 (77%)]\tLoss: 0.118269\n",
      "Train Epoch: 2 [6758400/8596340 (79%)]\tLoss: 0.116295\n",
      "Train Epoch: 2 [6860800/8596340 (80%)]\tLoss: 0.116747\n",
      "Train Epoch: 2 [6963200/8596340 (81%)]\tLoss: 0.120496\n",
      "Train Epoch: 2 [7065600/8596340 (82%)]\tLoss: 0.119277\n",
      "Train Epoch: 2 [7168000/8596340 (83%)]\tLoss: 0.118056\n",
      "Train Epoch: 2 [7270400/8596340 (85%)]\tLoss: 0.118975\n",
      "Train Epoch: 2 [7372800/8596340 (86%)]\tLoss: 0.118211\n",
      "Train Epoch: 2 [7475200/8596340 (87%)]\tLoss: 0.118269\n",
      "Train Epoch: 2 [7577600/8596340 (88%)]\tLoss: 0.118494\n",
      "Train Epoch: 2 [7680000/8596340 (89%)]\tLoss: 0.117224\n",
      "Train Epoch: 2 [7782400/8596340 (91%)]\tLoss: 0.116209\n",
      "Train Epoch: 2 [7884800/8596340 (92%)]\tLoss: 0.118234\n",
      "Train Epoch: 2 [7987200/8596340 (93%)]\tLoss: 0.117177\n",
      "Train Epoch: 2 [8089600/8596340 (94%)]\tLoss: 0.115676\n",
      "Train Epoch: 2 [8192000/8596340 (95%)]\tLoss: 0.115017\n",
      "Train Epoch: 2 [8294400/8596340 (96%)]\tLoss: 0.116130\n",
      "Train Epoch: 2 [8396800/8596340 (98%)]\tLoss: 0.116575\n",
      "Train Epoch: 2 [8499200/8596340 (99%)]\tLoss: 0.117381\n",
      "\n",
      "CPU times: user 21min 50s, sys: 17.3 s, total: 22min 7s\n",
      "Wall time: 22min 5s\n"
     ]
    }
   ],
   "source": [
    "%%time\n",
    "model, train_losses, _, _ = train_model(\n",
    "                model, all_train_dl, None, optimizer, criterion,\n",
    "                n_epochs=2, USE_CUDA=USE_CUDA, print_every=800)"
   ]
  },
  {
   "cell_type": "markdown",
   "metadata": {},
   "source": [
    "## Final submission"
   ]
  },
  {
   "cell_type": "code",
   "execution_count": 106,
   "metadata": {},
   "outputs": [
    {
     "data": {
      "text/plain": [
       "<matplotlib.axes._subplots.AxesSubplot at 0x7f9357c99f28>"
      ]
     },
     "execution_count": 106,
     "metadata": {},
     "output_type": "execute_result"
    },
    {
     "data": {
      "image/png": "[encoded data removed]",
      "text/plain": [
       "<matplotlib.figure.Figure at 0x7f92f94f1eb8>"
      ]
     },
     "metadata": {
      "image/png": {
       "height": 248,
       "width": 384
      }
     },
     "output_type": "display_data"
    }
   ],
   "source": [
    "train_losses = pd.Series(train_losses)\n",
    "train_losses.plot()"
   ]
  },
  {
   "cell_type": "code",
   "execution_count": 107,
   "metadata": {},
   "outputs": [],
   "source": [
    "torch.save(model.state_dict(), NEURALNET/'AllTrain_FinalNet.pkl')"
   ]
  },
  {
   "cell_type": "code",
   "execution_count": 108,
   "metadata": {},
   "outputs": [],
   "source": [
    "from src.structured_lstm import get_predictions"
   ]
  },
  {
   "cell_type": "code",
   "execution_count": 109,
   "metadata": {},
   "outputs": [
    {
     "name": "stdout",
     "output_type": "stream",
     "text": [
      "[0/484758 (0%)]\n",
      "[153600/484758 (32%)]\n",
      "[307200/484758 (63%)]\n",
      "[460800/484758 (95%)]\n"
     ]
    }
   ],
   "source": [
    "targets, preds = get_predictions(model, test_dl, USE_CUDA=True)"
   ]
  },
  {
   "cell_type": "code",
   "execution_count": 110,
   "metadata": {},
   "outputs": [],
   "source": [
    "test[target_col] = preds"
   ]
  },
  {
   "cell_type": "code",
   "execution_count": 115,
   "metadata": {},
   "outputs": [
    {
     "data": {
      "text/plain": [
       "(484758, 484758, 484758)"
      ]
     },
     "execution_count": 115,
     "metadata": {},
     "output_type": "execute_result"
    }
   ],
   "source": [
    "len(test), len(preds), len(targets)"
   ]
  },
  {
   "cell_type": "code",
   "execution_count": 113,
   "metadata": {},
   "outputs": [
    {
     "data": {
      "text/html": [
       "<div>\n",
       "<style scoped>\n",
       "    .dataframe tbody tr th:only-of-type {\n",
       "        vertical-align: middle;\n",
       "    }\n",
       "\n",
       "    .dataframe tbody tr th {\n",
       "        vertical-align: top;\n",
       "    }\n",
       "\n",
       "    .dataframe thead th {\n",
       "        text-align: right;\n",
       "    }\n",
       "</style>\n",
       "<table border=\"1\" class=\"dataframe\">\n",
       "  <thead>\n",
       "    <tr style=\"text-align: right;\">\n",
       "      <th></th>\n",
       "      <th>PredictionIdx</th>\n",
       "      <th>CustomerInterest</th>\n",
       "    </tr>\n",
       "  </thead>\n",
       "  <tbody>\n",
       "    <tr>\n",
       "      <th>0</th>\n",
       "      <td>a1e0d80784</td>\n",
       "      <td>0.041435</td>\n",
       "    </tr>\n",
       "    <tr>\n",
       "      <th>1</th>\n",
       "      <td>c2cc6cc2a8</td>\n",
       "      <td>0.046257</td>\n",
       "    </tr>\n",
       "    <tr>\n",
       "      <th>2</th>\n",
       "      <td>a8e94f6344</td>\n",
       "      <td>0.002685</td>\n",
       "    </tr>\n",
       "    <tr>\n",
       "      <th>3</th>\n",
       "      <td>758bae1e35</td>\n",
       "      <td>0.000578</td>\n",
       "    </tr>\n",
       "    <tr>\n",
       "      <th>4</th>\n",
       "      <td>02ab378ee8</td>\n",
       "      <td>0.001583</td>\n",
       "    </tr>\n",
       "  </tbody>\n",
       "</table>\n",
       "</div>"
      ],
      "text/plain": [
       "  PredictionIdx  CustomerInterest\n",
       "0    a1e0d80784          0.041435\n",
       "1    c2cc6cc2a8          0.046257\n",
       "2    a8e94f6344          0.002685\n",
       "3    758bae1e35          0.000578\n",
       "4    02ab378ee8          0.001583"
      ]
     },
     "execution_count": 113,
     "metadata": {},
     "output_type": "execute_result"
    }
   ],
   "source": [
    "submission.head()"
   ]
  },
  {
   "cell_type": "code",
   "execution_count": 111,
   "metadata": {},
   "outputs": [],
   "source": [
    "submission = pd.read_csv(RAW/'sample_submission.csv', low_memory=False)\n",
    "submission = pd.merge(submission[['PredictionIdx']], test[['PredictionIdx', target_col]], \n",
    "                      how='left', on='PredictionIdx')"
   ]
  },
  {
   "cell_type": "code",
   "execution_count": 112,
   "metadata": {},
   "outputs": [
    {
     "data": {
      "text/plain": [
       "<matplotlib.axes._subplots.AxesSubplot at 0x7f94a1eff860>"
      ]
     },
     "execution_count": 112,
     "metadata": {},
     "output_type": "execute_result"
    },
    {
     "data": {
      "image/png": "[encoded data removed]",
      "text/plain": [
       "<matplotlib.figure.Figure at 0x7f931add2198>"
      ]
     },
     "metadata": {
      "image/png": {
       "height": 251,
       "width": 394
      }
     },
     "output_type": "display_data"
    }
   ],
   "source": [
    "submission[target_col].hist(bins=50)"
   ]
  },
  {
   "cell_type": "code",
   "execution_count": 114,
   "metadata": {},
   "outputs": [],
   "source": [
    "submission.to_csv(SUBMISSIONS/'RA07-30-FinalStructuredLSTM_2018.csv', index=False)"
   ]
  }
 ],
 "metadata": {
  "kernelspec": {
   "display_name": "Python 3",
   "language": "python",
   "name": "python3"
  },
  "language_info": {
   "codemirror_mode": {
    "name": "ipython",
    "version": 3
   },
   "file_extension": ".py",
   "mimetype": "text/x-python",
   "name": "python",
   "nbconvert_exporter": "python",
   "pygments_lexer": "ipython3",
   "version": "3.6.4"
  }
 },
 "nbformat": 4,
 "nbformat_minor": 2
}
