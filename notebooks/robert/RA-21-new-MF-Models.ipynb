{
 "cells": [
  {
   "cell_type": "code",
   "execution_count": 1,
   "metadata": {},
   "outputs": [],
   "source": [
    "%load_ext autoreload\n",
    "%autoreload 2\n",
    "%matplotlib inline\n",
    "%config InlineBackend.figure_format = 'retina'\n",
    "\n",
    "import os, math\n",
    "import numpy as np, pandas as pd\n",
    "import matplotlib.pyplot as plt, seaborn as sns\n",
    "from pandas_summary import DataFrameSummary\n",
    "from tqdm import tqdm, tqdm_notebook\n",
    "from pathlib import Path\n",
    "pd.set_option('display.max_columns', 1000)\n",
    "pd.set_option('display.max_rows', 400)\n",
    "sns.set()\n",
    "\n",
    "os.chdir('../..')\n",
    "from src import utils"
   ]
  },
  {
   "cell_type": "code",
   "execution_count": 2,
   "metadata": {},
   "outputs": [],
   "source": [
    "DATA        = Path('data')\n",
    "RAW         = DATA/'raw'\n",
    "INTERIM     = DATA/'interim'\n",
    "PROCESSED   = DATA/'processed'\n",
    "SUBMISSIONS = DATA/'submissions'"
   ]
  },
  {
   "cell_type": "code",
   "execution_count": 3,
   "metadata": {},
   "outputs": [],
   "source": [
    "challenge  = pd.read_csv(RAW/'Challenge_20180423.csv', low_memory=False)\n",
    "# customer   = pd.read_csv(RAW/'Customer.csv', low_memory=False)\n",
    "# isin       = pd.read_csv(RAW/'Isin.csv', low_memory=False)\n",
    "# submission = pd.read_csv(RAW/'sample_submission.csv', low_memory=False)\n",
    "trade      = pd.read_csv(RAW/'Trade.csv', low_memory=False)\n",
    "# market     = pd.read_csv(RAW/'Market.csv', low_memory=False)"
   ]
  },
  {
   "cell_type": "code",
   "execution_count": 6,
   "metadata": {},
   "outputs": [
    {
     "data": {
      "text/html": [
       "<div>\n",
       "<style scoped>\n",
       "    .dataframe tbody tr th:only-of-type {\n",
       "        vertical-align: middle;\n",
       "    }\n",
       "\n",
       "    .dataframe tbody tr th {\n",
       "        vertical-align: top;\n",
       "    }\n",
       "\n",
       "    .dataframe thead th {\n",
       "        text-align: right;\n",
       "    }\n",
       "</style>\n",
       "<table border=\"1\" class=\"dataframe\">\n",
       "  <thead>\n",
       "    <tr style=\"text-align: right;\">\n",
       "      <th></th>\n",
       "      <th>TradeDateKey</th>\n",
       "      <th>CustomerIdx</th>\n",
       "      <th>IsinIdx</th>\n",
       "      <th>BuySell</th>\n",
       "      <th>NotionalEUR</th>\n",
       "      <th>Price</th>\n",
       "      <th>TradeStatus</th>\n",
       "      <th>CustomerInterest</th>\n",
       "      <th>IsinBuySell</th>\n",
       "    </tr>\n",
       "  </thead>\n",
       "  <tbody>\n",
       "    <tr>\n",
       "      <th>0</th>\n",
       "      <td>20161207</td>\n",
       "      <td>2789</td>\n",
       "      <td>8478</td>\n",
       "      <td>Sell</td>\n",
       "      <td>653168.0</td>\n",
       "      <td>0.0</td>\n",
       "      <td>Unknown</td>\n",
       "      <td>1.0</td>\n",
       "      <td>8478-Sell</td>\n",
       "    </tr>\n",
       "    <tr>\n",
       "      <th>1</th>\n",
       "      <td>20170329</td>\n",
       "      <td>2574</td>\n",
       "      <td>14562</td>\n",
       "      <td>Buy</td>\n",
       "      <td>1656487.0</td>\n",
       "      <td>0.0</td>\n",
       "      <td>Unknown</td>\n",
       "      <td>1.0</td>\n",
       "      <td>14562-Buy</td>\n",
       "    </tr>\n",
       "    <tr>\n",
       "      <th>2</th>\n",
       "      <td>20170418</td>\n",
       "      <td>2574</td>\n",
       "      <td>4747</td>\n",
       "      <td>Buy</td>\n",
       "      <td>939673.0</td>\n",
       "      <td>0.0</td>\n",
       "      <td>Unknown</td>\n",
       "      <td>1.0</td>\n",
       "      <td>4747-Buy</td>\n",
       "    </tr>\n",
       "    <tr>\n",
       "      <th>3</th>\n",
       "      <td>20170310</td>\n",
       "      <td>2574</td>\n",
       "      <td>9885</td>\n",
       "      <td>Sell</td>\n",
       "      <td>708082.0</td>\n",
       "      <td>0.0</td>\n",
       "      <td>Unknown</td>\n",
       "      <td>1.0</td>\n",
       "      <td>9885-Sell</td>\n",
       "    </tr>\n",
       "    <tr>\n",
       "      <th>4</th>\n",
       "      <td>20161116</td>\n",
       "      <td>2574</td>\n",
       "      <td>8885</td>\n",
       "      <td>Buy</td>\n",
       "      <td>1147709.0</td>\n",
       "      <td>0.0</td>\n",
       "      <td>Unknown</td>\n",
       "      <td>1.0</td>\n",
       "      <td>8885-Buy</td>\n",
       "    </tr>\n",
       "  </tbody>\n",
       "</table>\n",
       "</div>"
      ],
      "text/plain": [
       "   TradeDateKey  CustomerIdx  IsinIdx BuySell  NotionalEUR  Price TradeStatus  \\\n",
       "0      20161207         2789     8478    Sell     653168.0    0.0     Unknown   \n",
       "1      20170329         2574    14562     Buy    1656487.0    0.0     Unknown   \n",
       "2      20170418         2574     4747     Buy     939673.0    0.0     Unknown   \n",
       "3      20170310         2574     9885    Sell     708082.0    0.0     Unknown   \n",
       "4      20161116         2574     8885     Buy    1147709.0    0.0     Unknown   \n",
       "\n",
       "   CustomerInterest IsinBuySell  \n",
       "0               1.0   8478-Sell  \n",
       "1               1.0   14562-Buy  \n",
       "2               1.0    4747-Buy  \n",
       "3               1.0   9885-Sell  \n",
       "4               1.0    8885-Buy  "
      ]
     },
     "execution_count": 6,
     "metadata": {},
     "output_type": "execute_result"
    }
   ],
   "source": [
    "trade.head()"
   ]
  },
  {
   "cell_type": "code",
   "execution_count": 67,
   "metadata": {},
   "outputs": [
    {
     "name": "stdout",
     "output_type": "stream",
     "text": [
      "CPU times: user 1.57 s, sys: 264 ms, total: 1.84 s\n",
      "Wall time: 1.83 s\n"
     ]
    }
   ],
   "source": [
    "%%time\n",
    "trade['IsinBuySell'] = [f'{IsinIdx}-{BuySell}' for IsinIdx, BuySell \\\n",
    "                            in zip(trade.IsinIdx, trade.BuySell)]"
   ]
  },
  {
   "cell_type": "code",
   "execution_count": 19,
   "metadata": {},
   "outputs": [],
   "source": [
    "groups = trade.groupby(['CustomerIdx', 'IsinBuySell'], as_index=False)"
   ]
  },
  {
   "cell_type": "code",
   "execution_count": 20,
   "metadata": {},
   "outputs": [
    {
     "name": "stdout",
     "output_type": "stream",
     "text": [
      "CPU times: user 1.6 s, sys: 252 ms, total: 1.85 s\n",
      "Wall time: 1.85 s\n"
     ]
    }
   ],
   "source": [
    "%%time\n",
    "ratings = groups['CustomerInterest'].sum()"
   ]
  },
  {
   "cell_type": "code",
   "execution_count": 21,
   "metadata": {},
   "outputs": [
    {
     "data": {
      "text/plain": [
       "(2046077, 3)"
      ]
     },
     "execution_count": 21,
     "metadata": {},
     "output_type": "execute_result"
    }
   ],
   "source": [
    "ratings.shape"
   ]
  },
  {
   "cell_type": "code",
   "execution_count": 22,
   "metadata": {},
   "outputs": [
    {
     "data": {
      "text/plain": [
       "count    2.046077e+06\n",
       "mean     1.081059e+00\n",
       "std      2.986737e+00\n",
       "min      0.000000e+00\n",
       "25%      0.000000e+00\n",
       "50%      0.000000e+00\n",
       "75%      1.000000e+00\n",
       "max      3.840000e+02\n",
       "Name: CustomerInterest, dtype: float64"
      ]
     },
     "execution_count": 22,
     "metadata": {},
     "output_type": "execute_result"
    }
   ],
   "source": [
    "ratings.CustomerInterest.describe()"
   ]
  },
  {
   "cell_type": "code",
   "execution_count": 23,
   "metadata": {},
   "outputs": [],
   "source": [
    "scaling = lambda x: np.log(x+1)"
   ]
  },
  {
   "cell_type": "code",
   "execution_count": 24,
   "metadata": {},
   "outputs": [
    {
     "data": {
      "text/plain": [
       "count    2.046077e+06\n",
       "mean     4.650618e-01\n",
       "std      6.152131e-01\n",
       "min      0.000000e+00\n",
       "25%      0.000000e+00\n",
       "50%      0.000000e+00\n",
       "75%      6.931472e-01\n",
       "max      5.953243e+00\n",
       "Name: CustomerInterest, dtype: float64"
      ]
     },
     "execution_count": 24,
     "metadata": {},
     "output_type": "execute_result"
    }
   ],
   "source": [
    "scaling(ratings.CustomerInterest).describe()"
   ]
  },
  {
   "cell_type": "code",
   "execution_count": 25,
   "metadata": {},
   "outputs": [],
   "source": [
    "ratings['CustomerInterest'] = scaling(ratings.CustomerInterest)"
   ]
  },
  {
   "cell_type": "code",
   "execution_count": 33,
   "metadata": {},
   "outputs": [],
   "source": [
    "from surprise import Reader, Dataset\n",
    "from surprise.model_selection import cross_validate"
   ]
  },
  {
   "cell_type": "code",
   "execution_count": 37,
   "metadata": {},
   "outputs": [],
   "source": [
    "reader = Reader(rating_scale=(0,6))\n",
    "data   = Dataset.load_from_df(ratings, reader)"
   ]
  },
  {
   "cell_type": "code",
   "execution_count": 39,
   "metadata": {},
   "outputs": [
    {
     "name": "stdout",
     "output_type": "stream",
     "text": [
      "CPU times: user 45.3 s, sys: 396 ms, total: 45.7 s\n",
      "Wall time: 45.7 s\n"
     ]
    }
   ],
   "source": [
    "%%time\n",
    "from surprise import NormalPredictor\n",
    "baseline = NormalPredictor()\n",
    "results = cross_validate(baseline, data, cv=5)"
   ]
  },
  {
   "cell_type": "code",
   "execution_count": 41,
   "metadata": {},
   "outputs": [
    {
     "data": {
      "text/html": [
       "<div>\n",
       "<style scoped>\n",
       "    .dataframe tbody tr th:only-of-type {\n",
       "        vertical-align: middle;\n",
       "    }\n",
       "\n",
       "    .dataframe tbody tr th {\n",
       "        vertical-align: top;\n",
       "    }\n",
       "\n",
       "    .dataframe thead th {\n",
       "        text-align: right;\n",
       "    }\n",
       "</style>\n",
       "<table border=\"1\" class=\"dataframe\">\n",
       "  <thead>\n",
       "    <tr style=\"text-align: right;\">\n",
       "      <th></th>\n",
       "      <th>fit_time</th>\n",
       "      <th>test_mae</th>\n",
       "      <th>test_rmse</th>\n",
       "      <th>test_time</th>\n",
       "    </tr>\n",
       "  </thead>\n",
       "  <tbody>\n",
       "    <tr>\n",
       "      <th>0</th>\n",
       "      <td>1.667338</td>\n",
       "      <td>0.603500</td>\n",
       "      <td>0.796092</td>\n",
       "      <td>3.706553</td>\n",
       "    </tr>\n",
       "    <tr>\n",
       "      <th>1</th>\n",
       "      <td>2.341316</td>\n",
       "      <td>0.604363</td>\n",
       "      <td>0.797348</td>\n",
       "      <td>2.790659</td>\n",
       "    </tr>\n",
       "    <tr>\n",
       "      <th>2</th>\n",
       "      <td>2.334560</td>\n",
       "      <td>0.603208</td>\n",
       "      <td>0.796364</td>\n",
       "      <td>2.888366</td>\n",
       "    </tr>\n",
       "    <tr>\n",
       "      <th>3</th>\n",
       "      <td>2.356088</td>\n",
       "      <td>0.602478</td>\n",
       "      <td>0.795477</td>\n",
       "      <td>3.653400</td>\n",
       "    </tr>\n",
       "    <tr>\n",
       "      <th>4</th>\n",
       "      <td>2.335515</td>\n",
       "      <td>0.604627</td>\n",
       "      <td>0.797844</td>\n",
       "      <td>3.726746</td>\n",
       "    </tr>\n",
       "  </tbody>\n",
       "</table>\n",
       "</div>"
      ],
      "text/plain": [
       "   fit_time  test_mae  test_rmse  test_time\n",
       "0  1.667338  0.603500   0.796092   3.706553\n",
       "1  2.341316  0.604363   0.797348   2.790659\n",
       "2  2.334560  0.603208   0.796364   2.888366\n",
       "3  2.356088  0.602478   0.795477   3.653400\n",
       "4  2.335515  0.604627   0.797844   3.726746"
      ]
     },
     "execution_count": 41,
     "metadata": {},
     "output_type": "execute_result"
    }
   ],
   "source": [
    "pd.DataFrame(results)"
   ]
  },
  {
   "cell_type": "code",
   "execution_count": 44,
   "metadata": {},
   "outputs": [
    {
     "name": "stdout",
     "output_type": "stream",
     "text": [
      "Processing epoch 0\n",
      "Processing epoch 1\n",
      "Processing epoch 2\n",
      "Processing epoch 3\n",
      "Processing epoch 0\n",
      "Processing epoch 4\n",
      "Processing epoch 1\n",
      "Processing epoch 5\n",
      "Processing epoch 2\n",
      "Processing epoch 6\n",
      "Processing epoch 3\n",
      "Processing epoch 0\n",
      "Processing epoch 7\n",
      "Processing epoch 4\n",
      "Processing epoch 1\n",
      "Processing epoch 8\n",
      "Processing epoch 5\n",
      "Processing epoch 2\n",
      "Processing epoch 9\n",
      "Processing epoch 6\n",
      "Processing epoch 3\n",
      "Processing epoch 0\n",
      "Processing epoch 10\n",
      "Processing epoch 7\n",
      "Processing epoch 4\n",
      "Processing epoch 1\n",
      "Processing epoch 11\n",
      "Processing epoch 8\n",
      "Processing epoch 5\n",
      "Processing epoch 2\n",
      "Processing epoch 12\n",
      "Processing epoch 9\n",
      "Processing epoch 6\n",
      "Processing epoch 3\n",
      "Processing epoch 13\n",
      "Processing epoch 7\n",
      "Processing epoch 10\n",
      "Processing epoch 0\n",
      "Processing epoch 4\n",
      "Processing epoch 11\n",
      "Processing epoch 8\n",
      "Processing epoch 14\n",
      "Processing epoch 1\n",
      "Processing epoch 5\n",
      "Processing epoch 12\n",
      "Processing epoch 9\n",
      "Processing epoch 15\n",
      "Processing epoch 2\n",
      "Processing epoch 6\n",
      "Processing epoch 10\n",
      "Processing epoch 13\n",
      "Processing epoch 16\n",
      "Processing epoch 3\n",
      "Processing epoch 7\n",
      "Processing epoch 11\n",
      "Processing epoch 14\n",
      "Processing epoch 17\n",
      "Processing epoch 4\n",
      "Processing epoch 12\n",
      "Processing epoch 8\n",
      "Processing epoch 15\n",
      "Processing epoch 18\n",
      "Processing epoch 5\n",
      "Processing epoch 13\n",
      "Processing epoch 9\n",
      "Processing epoch 16\n",
      "Processing epoch 19\n",
      "Processing epoch 6\n",
      "Processing epoch 14\n",
      "Processing epoch 17\n",
      "Processing epoch 10\n",
      "Processing epoch 20\n",
      "Processing epoch 7\n",
      "Processing epoch 15\n",
      "Processing epoch 11\n",
      "Processing epoch 18\n",
      "Processing epoch 21\n",
      "Processing epoch 16\n",
      "Processing epoch 8\n",
      "Processing epoch 12\n",
      "Processing epoch 19\n",
      "Processing epoch 22\n",
      "Processing epoch 17\n",
      "Processing epoch 9\n",
      "Processing epoch 13\n",
      "Processing epoch 20\n",
      "Processing epoch 23\n",
      "Processing epoch 18\n",
      "Processing epoch 10\n",
      "Processing epoch 14\n",
      "Processing epoch 21\n",
      "Processing epoch 24\n",
      "Processing epoch 19\n",
      "Processing epoch 11\n",
      "Processing epoch 15\n",
      "Processing epoch 22\n",
      "Processing epoch 25\n",
      "Processing epoch 20\n",
      "Processing epoch 12\n",
      "Processing epoch 16\n",
      "Processing epoch 23\n",
      "Processing epoch 26\n",
      "Processing epoch 21\n",
      "Processing epoch 13\n",
      "Processing epoch 17\n",
      "Processing epoch 24\n",
      "Processing epoch 27\n",
      "Processing epoch 22\n",
      "Processing epoch 14\n",
      "Processing epoch 18\n",
      "Processing epoch 25\n",
      "Processing epoch 28\n",
      "Processing epoch 23\n",
      "Processing epoch 19\n",
      "Processing epoch 15\n",
      "Processing epoch 26\n",
      "Processing epoch 29\n",
      "Processing epoch 24\n",
      "Processing epoch 20\n",
      "Processing epoch 27\n",
      "Processing epoch 16\n",
      "Processing epoch 30\n",
      "Processing epoch 25\n",
      "Processing epoch 21\n",
      "Processing epoch 17\n",
      "Processing epoch 28\n",
      "Processing epoch 31\n",
      "Processing epoch 26\n",
      "Processing epoch 22\n",
      "Processing epoch 18\n",
      "Processing epoch 29\n",
      "Processing epoch 32\n",
      "Processing epoch 27\n",
      "Processing epoch 23\n",
      "Processing epoch 19\n",
      "Processing epoch 30\n",
      "Processing epoch 28\n",
      "Processing epoch 33\n",
      "Processing epoch 24\n",
      "Processing epoch 20\n",
      "Processing epoch 31\n",
      "Processing epoch 29\n",
      "Processing epoch 34\n",
      "Processing epoch 25\n",
      "Processing epoch 21\n",
      "Processing epoch 32\n",
      "Processing epoch 30\n",
      "Processing epoch 35\n",
      "Processing epoch 26\n",
      "Processing epoch 22\n",
      "Processing epoch 33\n",
      "Processing epoch 31\n",
      "Processing epoch 36\n",
      "Processing epoch 27\n",
      "Processing epoch 34\n",
      "Processing epoch 23\n",
      "Processing epoch 32\n",
      "Processing epoch 37\n",
      "Processing epoch 28\n",
      "Processing epoch 35\n",
      "Processing epoch 24\n",
      "Processing epoch 33\n",
      "Processing epoch 38\n",
      "Processing epoch 29\n",
      "Processing epoch 36\n",
      "Processing epoch 25\n",
      "Processing epoch 34\n",
      "Processing epoch 39\n",
      "Processing epoch 30\n",
      "Processing epoch 35\n",
      "Processing epoch 37\n",
      "Processing epoch 26\n",
      "Processing epoch 40\n",
      "Processing epoch 31\n",
      "Processing epoch 38\n",
      "Processing epoch 36\n",
      "Processing epoch 27\n",
      "Processing epoch 41\n",
      "Processing epoch 32\n",
      "Processing epoch 39\n",
      "Processing epoch 37\n",
      "Processing epoch 28\n",
      "Processing epoch 42\n",
      "Processing epoch 33\n",
      "Processing epoch 40\n",
      "Processing epoch 38\n",
      "Processing epoch 29\n",
      "Processing epoch 43\n",
      "Processing epoch 34\n",
      "Processing epoch 41\n",
      "Processing epoch 39\n",
      "Processing epoch 30\n",
      "Processing epoch 44\n",
      "Processing epoch 35\n",
      "Processing epoch 42\n",
      "Processing epoch 40\n",
      "Processing epoch 31\n",
      "Processing epoch 45\n",
      "Processing epoch 36\n",
      "Processing epoch 43\n",
      "Processing epoch 41\n",
      "Processing epoch 32\n",
      "Processing epoch 46\n",
      "Processing epoch 37\n",
      "Processing epoch 44\n",
      "Processing epoch 42\n",
      "Processing epoch 33\n",
      "Processing epoch 47\n",
      "Processing epoch 38\n",
      "Processing epoch 45\n",
      "Processing epoch 43\n",
      "Processing epoch 34\n",
      "Processing epoch 48\n",
      "Processing epoch 39\n",
      "Processing epoch 46\n",
      "Processing epoch 44\n",
      "Processing epoch 35\n",
      "Processing epoch 49\n",
      "Processing epoch 47\n",
      "Processing epoch 40\n",
      "Processing epoch 45\n",
      "Processing epoch 36\n",
      "Processing epoch 48\n",
      "Processing epoch 41\n",
      "Processing epoch 46\n",
      "Processing epoch 37\n",
      "Processing epoch 49\n",
      "Processing epoch 42\n",
      "Processing epoch 47\n",
      "Processing epoch 38\n",
      "Processing epoch 43\n",
      "Processing epoch 48\n",
      "Processing epoch 39\n",
      "Processing epoch 44\n",
      "Processing epoch 49\n",
      "Processing epoch 40\n",
      "Processing epoch 45\n",
      "Processing epoch 41\n",
      "Processing epoch 46\n",
      "Processing epoch 42\n",
      "Processing epoch 47\n",
      "Processing epoch 43\n",
      "Processing epoch 48\n",
      "Processing epoch 44\n",
      "Processing epoch 49\n",
      "Processing epoch 45\n",
      "Processing epoch 46\n",
      "Processing epoch 47\n",
      "Processing epoch 48\n",
      "Processing epoch 49\n",
      "CPU times: user 31.5 s, sys: 1.85 s, total: 33.4 s\n",
      "Wall time: 2min 12s\n"
     ]
    }
   ],
   "source": [
    "%%time\n",
    "from surprise import NMF\n",
    "nmf = NMF(n_factors=15, n_epochs=50, biased=True, verbose=True)\n",
    "results = cross_validate(nmf, data, cv=5, n_jobs=-1)"
   ]
  },
  {
   "cell_type": "code",
   "execution_count": 45,
   "metadata": {},
   "outputs": [
    {
     "data": {
      "text/html": [
       "<div>\n",
       "<style scoped>\n",
       "    .dataframe tbody tr th:only-of-type {\n",
       "        vertical-align: middle;\n",
       "    }\n",
       "\n",
       "    .dataframe tbody tr th {\n",
       "        vertical-align: top;\n",
       "    }\n",
       "\n",
       "    .dataframe thead th {\n",
       "        text-align: right;\n",
       "    }\n",
       "</style>\n",
       "<table border=\"1\" class=\"dataframe\">\n",
       "  <thead>\n",
       "    <tr style=\"text-align: right;\">\n",
       "      <th></th>\n",
       "      <th>fit_time</th>\n",
       "      <th>test_mae</th>\n",
       "      <th>test_rmse</th>\n",
       "      <th>test_time</th>\n",
       "    </tr>\n",
       "  </thead>\n",
       "  <tbody>\n",
       "    <tr>\n",
       "      <th>0</th>\n",
       "      <td>95.318781</td>\n",
       "      <td>0.339437</td>\n",
       "      <td>0.529369</td>\n",
       "      <td>4.620813</td>\n",
       "    </tr>\n",
       "    <tr>\n",
       "      <th>1</th>\n",
       "      <td>93.684898</td>\n",
       "      <td>0.331429</td>\n",
       "      <td>0.490118</td>\n",
       "      <td>4.722674</td>\n",
       "    </tr>\n",
       "    <tr>\n",
       "      <th>2</th>\n",
       "      <td>91.957144</td>\n",
       "      <td>0.333224</td>\n",
       "      <td>0.498377</td>\n",
       "      <td>4.673400</td>\n",
       "    </tr>\n",
       "    <tr>\n",
       "      <th>3</th>\n",
       "      <td>94.045095</td>\n",
       "      <td>0.339584</td>\n",
       "      <td>0.534091</td>\n",
       "      <td>4.571266</td>\n",
       "    </tr>\n",
       "    <tr>\n",
       "      <th>4</th>\n",
       "      <td>94.850472</td>\n",
       "      <td>0.343619</td>\n",
       "      <td>0.519864</td>\n",
       "      <td>4.409872</td>\n",
       "    </tr>\n",
       "  </tbody>\n",
       "</table>\n",
       "</div>"
      ],
      "text/plain": [
       "    fit_time  test_mae  test_rmse  test_time\n",
       "0  95.318781  0.339437   0.529369   4.620813\n",
       "1  93.684898  0.331429   0.490118   4.722674\n",
       "2  91.957144  0.333224   0.498377   4.673400\n",
       "3  94.045095  0.339584   0.534091   4.571266\n",
       "4  94.850472  0.343619   0.519864   4.409872"
      ]
     },
     "execution_count": 45,
     "metadata": {},
     "output_type": "execute_result"
    }
   ],
   "source": [
    "pd.DataFrame(results)"
   ]
  },
  {
   "cell_type": "code",
   "execution_count": 46,
   "metadata": {},
   "outputs": [
    {
     "name": "stdout",
     "output_type": "stream",
     "text": [
      "Evaluating RMSE, MAE of algorithm SVD on 5 split(s).\n",
      "\n",
      "                  Fold 1  Fold 2  Fold 3  Fold 4  Fold 5  Mean    Std     \n",
      "RMSE (testset)    0.4387  0.4395  0.4396  0.4391  0.4390  0.4392  0.0003  \n",
      "MAE (testset)     0.2975  0.2982  0.2981  0.2973  0.2971  0.2977  0.0004  \n",
      "Fit time          69.32   71.21   71.25   70.99   69.08   70.37   0.96    \n",
      "Test time         4.68    4.63    4.58    4.68    4.40    4.60    0.10    \n",
      "CPU times: user 30.9 s, sys: 1.68 s, total: 32.5 s\n",
      "Wall time: 1min 46s\n"
     ]
    }
   ],
   "source": [
    "%%time\n",
    "from surprise import SVD\n",
    "svd = SVD(n_factors=15, n_epochs=50, biased=True)\n",
    "results = cross_validate(svd, data, cv=5, n_jobs=-1, verbose=True)"
   ]
  },
  {
   "cell_type": "code",
   "execution_count": 47,
   "metadata": {},
   "outputs": [
    {
     "data": {
      "text/html": [
       "<div>\n",
       "<style scoped>\n",
       "    .dataframe tbody tr th:only-of-type {\n",
       "        vertical-align: middle;\n",
       "    }\n",
       "\n",
       "    .dataframe tbody tr th {\n",
       "        vertical-align: top;\n",
       "    }\n",
       "\n",
       "    .dataframe thead th {\n",
       "        text-align: right;\n",
       "    }\n",
       "</style>\n",
       "<table border=\"1\" class=\"dataframe\">\n",
       "  <thead>\n",
       "    <tr style=\"text-align: right;\">\n",
       "      <th></th>\n",
       "      <th>fit_time</th>\n",
       "      <th>test_mae</th>\n",
       "      <th>test_rmse</th>\n",
       "      <th>test_time</th>\n",
       "    </tr>\n",
       "  </thead>\n",
       "  <tbody>\n",
       "    <tr>\n",
       "      <th>0</th>\n",
       "      <td>69.324018</td>\n",
       "      <td>0.297489</td>\n",
       "      <td>0.438656</td>\n",
       "      <td>4.681322</td>\n",
       "    </tr>\n",
       "    <tr>\n",
       "      <th>1</th>\n",
       "      <td>71.205095</td>\n",
       "      <td>0.298158</td>\n",
       "      <td>0.439464</td>\n",
       "      <td>4.627818</td>\n",
       "    </tr>\n",
       "    <tr>\n",
       "      <th>2</th>\n",
       "      <td>71.253468</td>\n",
       "      <td>0.298136</td>\n",
       "      <td>0.439600</td>\n",
       "      <td>4.584906</td>\n",
       "    </tr>\n",
       "    <tr>\n",
       "      <th>3</th>\n",
       "      <td>70.985030</td>\n",
       "      <td>0.297322</td>\n",
       "      <td>0.439105</td>\n",
       "      <td>4.679991</td>\n",
       "    </tr>\n",
       "    <tr>\n",
       "      <th>4</th>\n",
       "      <td>69.079628</td>\n",
       "      <td>0.297145</td>\n",
       "      <td>0.438971</td>\n",
       "      <td>4.402914</td>\n",
       "    </tr>\n",
       "  </tbody>\n",
       "</table>\n",
       "</div>"
      ],
      "text/plain": [
       "    fit_time  test_mae  test_rmse  test_time\n",
       "0  69.324018  0.297489   0.438656   4.681322\n",
       "1  71.205095  0.298158   0.439464   4.627818\n",
       "2  71.253468  0.298136   0.439600   4.584906\n",
       "3  70.985030  0.297322   0.439105   4.679991\n",
       "4  69.079628  0.297145   0.438971   4.402914"
      ]
     },
     "execution_count": 47,
     "metadata": {},
     "output_type": "execute_result"
    }
   ],
   "source": [
    "pd.DataFrame(results)"
   ]
  },
  {
   "cell_type": "markdown",
   "metadata": {},
   "source": [
    "## NMF"
   ]
  },
  {
   "cell_type": "code",
   "execution_count": 48,
   "metadata": {},
   "outputs": [
    {
     "name": "stdout",
     "output_type": "stream",
     "text": [
      "CPU times: user 3.74 s, sys: 96 ms, total: 3.83 s\n",
      "Wall time: 3.83 s\n"
     ]
    }
   ],
   "source": [
    "%%time\n",
    "from surprise import NMF, Dataset\n",
    "nmf = NMF(n_factors=15, n_epochs=50, biased=True, verbose=True)\n",
    "data = Dataset.load_from_df(ratings.sample(frac=1, random_state=42), reader)\n",
    "trainset = data.build_full_trainset()"
   ]
  },
  {
   "cell_type": "code",
   "execution_count": 49,
   "metadata": {},
   "outputs": [
    {
     "name": "stdout",
     "output_type": "stream",
     "text": [
      "Processing epoch 0\n",
      "Processing epoch 1\n",
      "Processing epoch 2\n",
      "Processing epoch 3\n",
      "Processing epoch 4\n",
      "Processing epoch 5\n",
      "Processing epoch 6\n",
      "Processing epoch 7\n",
      "Processing epoch 8\n",
      "Processing epoch 9\n",
      "Processing epoch 10\n",
      "Processing epoch 11\n",
      "Processing epoch 12\n",
      "Processing epoch 13\n",
      "Processing epoch 14\n",
      "Processing epoch 15\n",
      "Processing epoch 16\n",
      "Processing epoch 17\n",
      "Processing epoch 18\n",
      "Processing epoch 19\n",
      "Processing epoch 20\n",
      "Processing epoch 21\n",
      "Processing epoch 22\n",
      "Processing epoch 23\n",
      "Processing epoch 24\n",
      "Processing epoch 25\n",
      "Processing epoch 26\n",
      "Processing epoch 27\n",
      "Processing epoch 28\n",
      "Processing epoch 29\n",
      "Processing epoch 30\n",
      "Processing epoch 31\n",
      "Processing epoch 32\n",
      "Processing epoch 33\n",
      "Processing epoch 34\n",
      "Processing epoch 35\n",
      "Processing epoch 36\n",
      "Processing epoch 37\n",
      "Processing epoch 38\n",
      "Processing epoch 39\n",
      "Processing epoch 40\n",
      "Processing epoch 41\n",
      "Processing epoch 42\n",
      "Processing epoch 43\n",
      "Processing epoch 44\n",
      "Processing epoch 45\n",
      "Processing epoch 46\n",
      "Processing epoch 47\n",
      "Processing epoch 48\n",
      "Processing epoch 49\n",
      "CPU times: user 1min 58s, sys: 32 ms, total: 1min 58s\n",
      "Wall time: 1min 58s\n"
     ]
    },
    {
     "data": {
      "text/plain": [
       "<surprise.prediction_algorithms.matrix_factorization.NMF at 0x7fa8921dc400>"
      ]
     },
     "execution_count": 49,
     "metadata": {},
     "output_type": "execute_result"
    }
   ],
   "source": [
    "%%time\n",
    "nmf.fit(trainset)"
   ]
  },
  {
   "cell_type": "code",
   "execution_count": 50,
   "metadata": {},
   "outputs": [
    {
     "data": {
      "application/vnd.jupyter.widget-view+json": {
       "model_id": "b6cac19555d84ae6ba31677dc1b1399f",
       "version_major": 2,
       "version_minor": 0
      },
      "text/html": [
       "<p>Failed to display Jupyter Widget of type <code>HBox</code>.</p>\n",
       "<p>\n",
       "  If you're reading this message in the Jupyter Notebook or JupyterLab Notebook, it may mean\n",
       "  that the widgets JavaScript is still loading. If this message persists, it\n",
       "  likely means that the widgets JavaScript library is either not installed or\n",
       "  not enabled. See the <a href=\"https://ipywidgets.readthedocs.io/en/stable/user_install.html\">Jupyter\n",
       "  Widgets Documentation</a> for setup instructions.\n",
       "</p>\n",
       "<p>\n",
       "  If you're reading this message in another frontend (for example, a static\n",
       "  rendering on GitHub or <a href=\"https://nbviewer.jupyter.org/\">NBViewer</a>),\n",
       "  it may mean that your frontend doesn't currently support widgets.\n",
       "</p>\n"
      ],
      "text/plain": [
       "HBox(children=(IntProgress(value=0, max=2046077), HTML(value='')))"
      ]
     },
     "metadata": {},
     "output_type": "display_data"
    },
    {
     "name": "stdout",
     "output_type": "stream",
     "text": [
      "\n"
     ]
    }
   ],
   "source": [
    "from tqdm import tqdm_notebook\n",
    "train_preds = []\n",
    "for cIdx, iIdx in tqdm_notebook(zip(ratings.CustomerIdx, ratings.IsinBuySell), \n",
    "                                total=len(ratings)):\n",
    "    train_preds.append(nmf.predict(cIdx, iIdx).est)"
   ]
  },
  {
   "cell_type": "code",
   "execution_count": 53,
   "metadata": {},
   "outputs": [],
   "source": [
    "from sklearn.metrics import mean_absolute_error"
   ]
  },
  {
   "cell_type": "code",
   "execution_count": 55,
   "metadata": {},
   "outputs": [
    {
     "data": {
      "text/plain": [
       "0.32639371671386647"
      ]
     },
     "execution_count": 55,
     "metadata": {},
     "output_type": "execute_result"
    }
   ],
   "source": [
    "mean_absolute_error(ratings.CustomerInterest, train_preds)"
   ]
  },
  {
   "cell_type": "markdown",
   "metadata": {},
   "source": [
    "## SVD"
   ]
  },
  {
   "cell_type": "code",
   "execution_count": 56,
   "metadata": {},
   "outputs": [
    {
     "name": "stdout",
     "output_type": "stream",
     "text": [
      "CPU times: user 0 ns, sys: 0 ns, total: 0 ns\n",
      "Wall time: 48.2 µs\n"
     ]
    }
   ],
   "source": [
    "%%time\n",
    "from surprise import SVD, Dataset\n",
    "svd = SVD(n_factors=15, n_epochs=50, biased=True, verbose=True)"
   ]
  },
  {
   "cell_type": "code",
   "execution_count": 57,
   "metadata": {},
   "outputs": [
    {
     "name": "stdout",
     "output_type": "stream",
     "text": [
      "Processing epoch 0\n",
      "Processing epoch 1\n",
      "Processing epoch 2\n",
      "Processing epoch 3\n",
      "Processing epoch 4\n",
      "Processing epoch 5\n",
      "Processing epoch 6\n",
      "Processing epoch 7\n",
      "Processing epoch 8\n",
      "Processing epoch 9\n",
      "Processing epoch 10\n",
      "Processing epoch 11\n",
      "Processing epoch 12\n",
      "Processing epoch 13\n",
      "Processing epoch 14\n",
      "Processing epoch 15\n",
      "Processing epoch 16\n",
      "Processing epoch 17\n",
      "Processing epoch 18\n",
      "Processing epoch 19\n",
      "Processing epoch 20\n",
      "Processing epoch 21\n",
      "Processing epoch 22\n",
      "Processing epoch 23\n",
      "Processing epoch 24\n",
      "Processing epoch 25\n",
      "Processing epoch 26\n",
      "Processing epoch 27\n",
      "Processing epoch 28\n",
      "Processing epoch 29\n",
      "Processing epoch 30\n",
      "Processing epoch 31\n",
      "Processing epoch 32\n",
      "Processing epoch 33\n",
      "Processing epoch 34\n",
      "Processing epoch 35\n",
      "Processing epoch 36\n",
      "Processing epoch 37\n",
      "Processing epoch 38\n",
      "Processing epoch 39\n",
      "Processing epoch 40\n",
      "Processing epoch 41\n",
      "Processing epoch 42\n",
      "Processing epoch 43\n",
      "Processing epoch 44\n",
      "Processing epoch 45\n",
      "Processing epoch 46\n",
      "Processing epoch 47\n",
      "Processing epoch 48\n",
      "Processing epoch 49\n",
      "CPU times: user 1min 34s, sys: 44 ms, total: 1min 34s\n",
      "Wall time: 1min 34s\n"
     ]
    },
    {
     "data": {
      "text/plain": [
       "<surprise.prediction_algorithms.matrix_factorization.SVD at 0x7fa7b00a8470>"
      ]
     },
     "execution_count": 57,
     "metadata": {},
     "output_type": "execute_result"
    }
   ],
   "source": [
    "%%time\n",
    "svd.fit(trainset)"
   ]
  },
  {
   "cell_type": "code",
   "execution_count": 58,
   "metadata": {},
   "outputs": [
    {
     "data": {
      "application/vnd.jupyter.widget-view+json": {
       "model_id": "1ed7e0d88b064bf99e2b563a814acc0f",
       "version_major": 2,
       "version_minor": 0
      },
      "text/html": [
       "<p>Failed to display Jupyter Widget of type <code>HBox</code>.</p>\n",
       "<p>\n",
       "  If you're reading this message in the Jupyter Notebook or JupyterLab Notebook, it may mean\n",
       "  that the widgets JavaScript is still loading. If this message persists, it\n",
       "  likely means that the widgets JavaScript library is either not installed or\n",
       "  not enabled. See the <a href=\"https://ipywidgets.readthedocs.io/en/stable/user_install.html\">Jupyter\n",
       "  Widgets Documentation</a> for setup instructions.\n",
       "</p>\n",
       "<p>\n",
       "  If you're reading this message in another frontend (for example, a static\n",
       "  rendering on GitHub or <a href=\"https://nbviewer.jupyter.org/\">NBViewer</a>),\n",
       "  it may mean that your frontend doesn't currently support widgets.\n",
       "</p>\n"
      ],
      "text/plain": [
       "HBox(children=(IntProgress(value=0, max=2046077), HTML(value='')))"
      ]
     },
     "metadata": {},
     "output_type": "display_data"
    },
    {
     "name": "stdout",
     "output_type": "stream",
     "text": [
      "\n"
     ]
    }
   ],
   "source": [
    "from tqdm import tqdm_notebook\n",
    "train_preds = []\n",
    "for cIdx, iIdx in tqdm_notebook(zip(ratings.CustomerIdx, ratings.IsinBuySell), \n",
    "                                total=len(ratings)):\n",
    "    train_preds.append(svd.predict(cIdx, iIdx).est)"
   ]
  },
  {
   "cell_type": "code",
   "execution_count": 59,
   "metadata": {},
   "outputs": [
    {
     "data": {
      "text/plain": [
       "0.25499927180322934"
      ]
     },
     "execution_count": 59,
     "metadata": {},
     "output_type": "execute_result"
    }
   ],
   "source": [
    "mean_absolute_error(ratings.CustomerInterest, train_preds)"
   ]
  },
  {
   "cell_type": "markdown",
   "metadata": {},
   "source": [
    "## Export"
   ]
  },
  {
   "cell_type": "code",
   "execution_count": 61,
   "metadata": {},
   "outputs": [],
   "source": [
    "from surprise import dump\n",
    "dump.dump(PROCESSED/'IsinBuySell_svd.dump', algo=svd)\n",
    "dump.dump(PROCESSED/'IsinBuySell_nmf.dump', algo=nmf)"
   ]
  },
  {
   "cell_type": "markdown",
   "metadata": {},
   "source": [
    "## Check indices"
   ]
  },
  {
   "cell_type": "code",
   "execution_count": 4,
   "metadata": {},
   "outputs": [],
   "source": [
    "from src.utils import get_weeks\n",
    "week_labels = get_weeks(day_from=20160104, num_weeks=121)[52:]"
   ]
  },
  {
   "cell_type": "code",
   "execution_count": 5,
   "metadata": {},
   "outputs": [
    {
     "name": "stdout",
     "output_type": "stream",
     "text": [
      "CPU times: user 1.65 s, sys: 1.75 s, total: 3.4 s\n",
      "Wall time: 3.4 s\n"
     ]
    }
   ],
   "source": [
    "%%time\n",
    "weeks = []\n",
    "for name in week_labels:\n",
    "    weeks.append(pd.read_feather(PROCESSED/f'all_weeks/week_{name}_diffscount.feather'))"
   ]
  },
  {
   "cell_type": "code",
   "execution_count": 6,
   "metadata": {},
   "outputs": [
    {
     "name": "stdout",
     "output_type": "stream",
     "text": [
      "CPU times: user 8.08 s, sys: 848 ms, total: 8.93 s\n",
      "Wall time: 8.93 s\n"
     ]
    }
   ],
   "source": [
    "%%time\n",
    "for w in weeks:\n",
    "    w['IsinBuySell'] = [f'{IsinIdx}-{BuySell}' for IsinIdx, BuySell \\\n",
    "                            in zip(w.IsinIdx, w.BuySell)]"
   ]
  },
  {
   "cell_type": "code",
   "execution_count": 8,
   "metadata": {},
   "outputs": [
    {
     "name": "stdout",
     "output_type": "stream",
     "text": [
      "20170102 2\n",
      "20170109 8\n",
      "20170116 4\n",
      "20170123 2\n",
      "20170130 18\n",
      "20170206 6\n",
      "20170213 3\n",
      "20170220 3\n",
      "20170227 15\n",
      "20170306 2\n",
      "20170313 6\n",
      "20170320 6\n",
      "20170327 23\n",
      "20170403 8\n",
      "20170410 2\n",
      "20170417 4\n",
      "20170424 12\n",
      "20170501 3\n",
      "20170508 3\n",
      "20170515 7\n",
      "20170522 4\n",
      "20170529 18\n",
      "20170605 2\n",
      "20170612 6\n",
      "20170619 2\n",
      "20170626 29\n",
      "20170703 4\n",
      "20170710 4\n",
      "20170717 5\n",
      "20170724 5\n",
      "20170731 11\n",
      "20170807 6\n",
      "20170814 3\n",
      "20170821 2\n",
      "20170828 3\n",
      "20170904 4\n",
      "20170911 3\n",
      "20170918 9\n",
      "20170925 18\n",
      "20171002 2\n",
      "20171009 8\n",
      "20171016 4\n",
      "20171023 0\n",
      "20171030 15\n",
      "20171106 2\n",
      "20171113 0\n",
      "20171120 1\n",
      "20171127 15\n",
      "20171204 1\n",
      "20171211 1\n",
      "20171218 0\n",
      "20171225 35\n",
      "20180101 0\n",
      "20180108 0\n",
      "20180115 0\n",
      "20180122 0\n",
      "20180129 0\n",
      "20180205 0\n",
      "20180212 0\n",
      "20180219 0\n",
      "20180226 0\n",
      "20180305 0\n",
      "20180312 0\n",
      "20180319 0\n",
      "20180326 0\n",
      "20180402 0\n",
      "20180409 0\n",
      "20180416 0\n",
      "20180423 0\n"
     ]
    }
   ],
   "source": [
    "ratingsIsinBuySell = set(ratings.IsinBuySell)\n",
    "missingIsinBuySell = set()\n",
    "for n, w in zip(week_labels, weeks):\n",
    "    print(n, len(set(w.IsinBuySell).difference(ratingsIsinBuySell)))\n",
    "    missingIsinBuySell = missingIsinBuySell.union(\n",
    "            set(w.IsinBuySell).difference(ratingsIsinBuySell))"
   ]
  },
  {
   "cell_type": "code",
   "execution_count": 9,
   "metadata": {},
   "outputs": [
    {
     "data": {
      "text/plain": [
       "218"
      ]
     },
     "execution_count": 9,
     "metadata": {},
     "output_type": "execute_result"
    }
   ],
   "source": [
    "len(missingIsinBuySell)"
   ]
  },
  {
   "cell_type": "markdown",
   "metadata": {},
   "source": [
    "## Fill missing ratings"
   ]
  },
  {
   "cell_type": "code",
   "execution_count": 10,
   "metadata": {},
   "outputs": [
    {
     "name": "stdout",
     "output_type": "stream",
     "text": [
      "(2888632, 3)\n"
     ]
    },
    {
     "data": {
      "text/html": [
       "<div>\n",
       "<style scoped>\n",
       "    .dataframe tbody tr th:only-of-type {\n",
       "        vertical-align: middle;\n",
       "    }\n",
       "\n",
       "    .dataframe tbody tr th {\n",
       "        vertical-align: top;\n",
       "    }\n",
       "\n",
       "    .dataframe thead th {\n",
       "        text-align: right;\n",
       "    }\n",
       "</style>\n",
       "<table border=\"1\" class=\"dataframe\">\n",
       "  <thead>\n",
       "    <tr style=\"text-align: right;\">\n",
       "      <th></th>\n",
       "      <th>CustomerIdx</th>\n",
       "      <th>IsinBuySell</th>\n",
       "      <th>CustomerInterest</th>\n",
       "    </tr>\n",
       "  </thead>\n",
       "  <tbody>\n",
       "    <tr>\n",
       "      <th>0</th>\n",
       "      <td>0</td>\n",
       "      <td>16471-Buy</td>\n",
       "      <td>0.693147</td>\n",
       "    </tr>\n",
       "    <tr>\n",
       "      <th>1</th>\n",
       "      <td>0</td>\n",
       "      <td>16499-Buy</td>\n",
       "      <td>0.693147</td>\n",
       "    </tr>\n",
       "    <tr>\n",
       "      <th>2</th>\n",
       "      <td>0</td>\n",
       "      <td>20601-Buy</td>\n",
       "      <td>0.693147</td>\n",
       "    </tr>\n",
       "    <tr>\n",
       "      <th>3</th>\n",
       "      <td>0</td>\n",
       "      <td>20737-Buy</td>\n",
       "      <td>0.693147</td>\n",
       "    </tr>\n",
       "    <tr>\n",
       "      <th>4</th>\n",
       "      <td>0</td>\n",
       "      <td>20909-Sell</td>\n",
       "      <td>1.098612</td>\n",
       "    </tr>\n",
       "  </tbody>\n",
       "</table>\n",
       "</div>"
      ],
      "text/plain": [
       "   CustomerIdx IsinBuySell  CustomerInterest\n",
       "0            0   16471-Buy          0.693147\n",
       "1            0   16499-Buy          0.693147\n",
       "2            0   20601-Buy          0.693147\n",
       "3            0   20737-Buy          0.693147\n",
       "4            0  20909-Sell          1.098612"
      ]
     },
     "execution_count": 10,
     "metadata": {},
     "output_type": "execute_result"
    }
   ],
   "source": [
    "print(ratings.shape)\n",
    "ratings.head()"
   ]
  },
  {
   "cell_type": "code",
   "execution_count": 94,
   "metadata": {},
   "outputs": [],
   "source": [
    "ratings.reset_index(drop=True).to_feather(PROCESSED/'ratings.feather')"
   ]
  },
  {
   "cell_type": "code",
   "execution_count": 11,
   "metadata": {},
   "outputs": [],
   "source": [
    "extra_ratings = pd.DataFrame([(cIdx, iIdx, 0.0) \\\n",
    "                          for cIdx in ratings.CustomerIdx.unique()\n",
    "                             for iIdx in missingIsinBuySell],\n",
    "                            columns=ratings.columns)"
   ]
  },
  {
   "cell_type": "code",
   "execution_count": 12,
   "metadata": {},
   "outputs": [
    {
     "data": {
      "text/plain": [
       "(749702, 3)"
      ]
     },
     "execution_count": 12,
     "metadata": {},
     "output_type": "execute_result"
    }
   ],
   "source": [
    "extra_ratings.shape"
   ]
  },
  {
   "cell_type": "code",
   "execution_count": 7,
   "metadata": {},
   "outputs": [],
   "source": [
    "ratings = pd.read_feather(PROCESSED/'extra_ratings.feather')"
   ]
  },
  {
   "cell_type": "code",
   "execution_count": 14,
   "metadata": {},
   "outputs": [],
   "source": [
    "ratings = ratings.append(extra_ratings)"
   ]
  },
  {
   "cell_type": "code",
   "execution_count": 15,
   "metadata": {},
   "outputs": [
    {
     "data": {
      "text/plain": [
       "(3638334, 3)"
      ]
     },
     "execution_count": 15,
     "metadata": {},
     "output_type": "execute_result"
    }
   ],
   "source": [
    "ratings.shape"
   ]
  },
  {
   "cell_type": "code",
   "execution_count": 17,
   "metadata": {},
   "outputs": [],
   "source": [
    "ratings.reset_index(drop=True).to_feather(PROCESSED/'2017_2018_ratings.feather')"
   ]
  },
  {
   "cell_type": "markdown",
   "metadata": {},
   "source": [
    "## Retrain NMF"
   ]
  },
  {
   "cell_type": "code",
   "execution_count": 19,
   "metadata": {},
   "outputs": [],
   "source": [
    "from surprise import Reader\n",
    "reader = Reader(rating_scale=(0,6))"
   ]
  },
  {
   "cell_type": "code",
   "execution_count": 20,
   "metadata": {},
   "outputs": [
    {
     "name": "stdout",
     "output_type": "stream",
     "text": [
      "CPU times: user 7.41 s, sys: 300 ms, total: 7.71 s\n",
      "Wall time: 7.7 s\n"
     ]
    }
   ],
   "source": [
    "%%time\n",
    "from surprise import NMF, Dataset\n",
    "nmf = NMF(n_factors=15, n_epochs=50, biased=True, verbose=True)\n",
    "data = Dataset.load_from_df(ratings.sample(frac=1, random_state=42), reader)\n",
    "trainset = data.build_full_trainset()"
   ]
  },
  {
   "cell_type": "code",
   "execution_count": 21,
   "metadata": {},
   "outputs": [
    {
     "name": "stdout",
     "output_type": "stream",
     "text": [
      "Processing epoch 0\n",
      "Processing epoch 1\n",
      "Processing epoch 2\n",
      "Processing epoch 3\n",
      "Processing epoch 4\n",
      "Processing epoch 5\n",
      "Processing epoch 6\n",
      "Processing epoch 7\n",
      "Processing epoch 8\n",
      "Processing epoch 9\n",
      "Processing epoch 10\n",
      "Processing epoch 11\n",
      "Processing epoch 12\n",
      "Processing epoch 13\n",
      "Processing epoch 14\n",
      "Processing epoch 15\n",
      "Processing epoch 16\n",
      "Processing epoch 17\n",
      "Processing epoch 18\n",
      "Processing epoch 19\n",
      "Processing epoch 20\n",
      "Processing epoch 21\n",
      "Processing epoch 22\n",
      "Processing epoch 23\n",
      "Processing epoch 24\n",
      "Processing epoch 25\n",
      "Processing epoch 26\n",
      "Processing epoch 27\n",
      "Processing epoch 28\n",
      "Processing epoch 29\n",
      "Processing epoch 30\n",
      "Processing epoch 31\n",
      "Processing epoch 32\n",
      "Processing epoch 33\n",
      "Processing epoch 34\n",
      "Processing epoch 35\n",
      "Processing epoch 36\n",
      "Processing epoch 37\n",
      "Processing epoch 38\n",
      "Processing epoch 39\n",
      "Processing epoch 40\n",
      "Processing epoch 41\n",
      "Processing epoch 42\n",
      "Processing epoch 43\n",
      "Processing epoch 44\n",
      "Processing epoch 45\n",
      "Processing epoch 46\n",
      "Processing epoch 47\n",
      "Processing epoch 48\n",
      "Processing epoch 49\n",
      "CPU times: user 3min 21s, sys: 40 ms, total: 3min 21s\n",
      "Wall time: 3min 21s\n"
     ]
    },
    {
     "data": {
      "text/plain": [
       "<surprise.prediction_algorithms.matrix_factorization.NMF at 0x7fbe6a29d208>"
      ]
     },
     "execution_count": 21,
     "metadata": {},
     "output_type": "execute_result"
    }
   ],
   "source": [
    "%%time\n",
    "nmf.fit(trainset)"
   ]
  },
  {
   "cell_type": "code",
   "execution_count": 22,
   "metadata": {},
   "outputs": [
    {
     "data": {
      "application/vnd.jupyter.widget-view+json": {
       "model_id": "da93a06488c54c6eb6e37399be7bc811",
       "version_major": 2,
       "version_minor": 0
      },
      "text/html": [
       "<p>Failed to display Jupyter Widget of type <code>HBox</code>.</p>\n",
       "<p>\n",
       "  If you're reading this message in the Jupyter Notebook or JupyterLab Notebook, it may mean\n",
       "  that the widgets JavaScript is still loading. If this message persists, it\n",
       "  likely means that the widgets JavaScript library is either not installed or\n",
       "  not enabled. See the <a href=\"https://ipywidgets.readthedocs.io/en/stable/user_install.html\">Jupyter\n",
       "  Widgets Documentation</a> for setup instructions.\n",
       "</p>\n",
       "<p>\n",
       "  If you're reading this message in another frontend (for example, a static\n",
       "  rendering on GitHub or <a href=\"https://nbviewer.jupyter.org/\">NBViewer</a>),\n",
       "  it may mean that your frontend doesn't currently support widgets.\n",
       "</p>\n"
      ],
      "text/plain": [
       "HBox(children=(IntProgress(value=0, max=3638334), HTML(value='')))"
      ]
     },
     "metadata": {},
     "output_type": "display_data"
    },
    {
     "name": "stdout",
     "output_type": "stream",
     "text": [
      "\n"
     ]
    }
   ],
   "source": [
    "from tqdm import tqdm_notebook\n",
    "train_preds = []\n",
    "for cIdx, iIdx in tqdm_notebook(zip(ratings.CustomerIdx, ratings.IsinBuySell), \n",
    "                                total=len(ratings)):\n",
    "    train_preds.append(nmf.predict(cIdx, iIdx).est)"
   ]
  },
  {
   "cell_type": "code",
   "execution_count": 24,
   "metadata": {},
   "outputs": [
    {
     "data": {
      "text/plain": [
       "0.21913715952821086"
      ]
     },
     "execution_count": 24,
     "metadata": {},
     "output_type": "execute_result"
    }
   ],
   "source": [
    "# 2017 + 2018\n",
    "from sklearn.metrics import mean_absolute_error\n",
    "mean_absolute_error(ratings.CustomerInterest, train_preds)"
   ]
  },
  {
   "cell_type": "code",
   "execution_count": 132,
   "metadata": {},
   "outputs": [
    {
     "data": {
      "text/plain": [
       "0.2472032230034846"
      ]
     },
     "execution_count": 132,
     "metadata": {},
     "output_type": "execute_result"
    }
   ],
   "source": [
    "# 2018\n",
    "mean_absolute_error(ratings.CustomerInterest, train_preds)"
   ]
  },
  {
   "cell_type": "markdown",
   "metadata": {},
   "source": [
    "## Retrain SVD"
   ]
  },
  {
   "cell_type": "code",
   "execution_count": 25,
   "metadata": {},
   "outputs": [
    {
     "name": "stdout",
     "output_type": "stream",
     "text": [
      "CPU times: user 0 ns, sys: 0 ns, total: 0 ns\n",
      "Wall time: 54.6 µs\n"
     ]
    }
   ],
   "source": [
    "%%time\n",
    "from surprise import SVD, Dataset\n",
    "svd = SVD(n_factors=15, n_epochs=50, biased=True, verbose=True)"
   ]
  },
  {
   "cell_type": "code",
   "execution_count": 26,
   "metadata": {},
   "outputs": [
    {
     "name": "stdout",
     "output_type": "stream",
     "text": [
      "Processing epoch 0\n",
      "Processing epoch 1\n",
      "Processing epoch 2\n",
      "Processing epoch 3\n",
      "Processing epoch 4\n",
      "Processing epoch 5\n",
      "Processing epoch 6\n",
      "Processing epoch 7\n",
      "Processing epoch 8\n",
      "Processing epoch 9\n",
      "Processing epoch 10\n",
      "Processing epoch 11\n",
      "Processing epoch 12\n",
      "Processing epoch 13\n",
      "Processing epoch 14\n",
      "Processing epoch 15\n",
      "Processing epoch 16\n",
      "Processing epoch 17\n",
      "Processing epoch 18\n",
      "Processing epoch 19\n",
      "Processing epoch 20\n",
      "Processing epoch 21\n",
      "Processing epoch 22\n",
      "Processing epoch 23\n",
      "Processing epoch 24\n",
      "Processing epoch 25\n",
      "Processing epoch 26\n",
      "Processing epoch 27\n",
      "Processing epoch 28\n",
      "Processing epoch 29\n",
      "Processing epoch 30\n",
      "Processing epoch 31\n",
      "Processing epoch 32\n",
      "Processing epoch 33\n",
      "Processing epoch 34\n",
      "Processing epoch 35\n",
      "Processing epoch 36\n",
      "Processing epoch 37\n",
      "Processing epoch 38\n",
      "Processing epoch 39\n",
      "Processing epoch 40\n",
      "Processing epoch 41\n",
      "Processing epoch 42\n",
      "Processing epoch 43\n",
      "Processing epoch 44\n",
      "Processing epoch 45\n",
      "Processing epoch 46\n",
      "Processing epoch 47\n",
      "Processing epoch 48\n",
      "Processing epoch 49\n",
      "CPU times: user 2min 51s, sys: 0 ns, total: 2min 51s\n",
      "Wall time: 2min 51s\n"
     ]
    },
    {
     "data": {
      "text/plain": [
       "<surprise.prediction_algorithms.matrix_factorization.SVD at 0x7fbbfa7db2e8>"
      ]
     },
     "execution_count": 26,
     "metadata": {},
     "output_type": "execute_result"
    }
   ],
   "source": [
    "%%time\n",
    "svd.fit(trainset)"
   ]
  },
  {
   "cell_type": "code",
   "execution_count": 27,
   "metadata": {},
   "outputs": [
    {
     "data": {
      "application/vnd.jupyter.widget-view+json": {
       "model_id": "4a180bdc387c4942be948efcce5d59d4",
       "version_major": 2,
       "version_minor": 0
      },
      "text/html": [
       "<p>Failed to display Jupyter Widget of type <code>HBox</code>.</p>\n",
       "<p>\n",
       "  If you're reading this message in the Jupyter Notebook or JupyterLab Notebook, it may mean\n",
       "  that the widgets JavaScript is still loading. If this message persists, it\n",
       "  likely means that the widgets JavaScript library is either not installed or\n",
       "  not enabled. See the <a href=\"https://ipywidgets.readthedocs.io/en/stable/user_install.html\">Jupyter\n",
       "  Widgets Documentation</a> for setup instructions.\n",
       "</p>\n",
       "<p>\n",
       "  If you're reading this message in another frontend (for example, a static\n",
       "  rendering on GitHub or <a href=\"https://nbviewer.jupyter.org/\">NBViewer</a>),\n",
       "  it may mean that your frontend doesn't currently support widgets.\n",
       "</p>\n"
      ],
      "text/plain": [
       "HBox(children=(IntProgress(value=0, max=3638334), HTML(value='')))"
      ]
     },
     "metadata": {},
     "output_type": "display_data"
    },
    {
     "name": "stdout",
     "output_type": "stream",
     "text": [
      "\n"
     ]
    }
   ],
   "source": [
    "from tqdm import tqdm_notebook\n",
    "train_preds = []\n",
    "for cIdx, iIdx in tqdm_notebook(zip(ratings.CustomerIdx, ratings.IsinBuySell), \n",
    "                                total=len(ratings)):\n",
    "    train_preds.append(svd.predict(cIdx, iIdx).est)"
   ]
  },
  {
   "cell_type": "code",
   "execution_count": 28,
   "metadata": {},
   "outputs": [
    {
     "data": {
      "text/plain": [
       "0.152488200099937"
      ]
     },
     "execution_count": 28,
     "metadata": {},
     "output_type": "execute_result"
    }
   ],
   "source": [
    "mean_absolute_error(ratings.CustomerInterest, train_preds)"
   ]
  },
  {
   "cell_type": "code",
   "execution_count": 136,
   "metadata": {},
   "outputs": [
    {
     "data": {
      "text/plain": [
       "0.18763633829715243"
      ]
     },
     "execution_count": 136,
     "metadata": {},
     "output_type": "execute_result"
    }
   ],
   "source": [
    "mean_absolute_error(ratings.CustomerInterest, train_preds)"
   ]
  },
  {
   "cell_type": "markdown",
   "metadata": {},
   "source": [
    "## Export retrained models"
   ]
  },
  {
   "cell_type": "code",
   "execution_count": 29,
   "metadata": {},
   "outputs": [],
   "source": [
    "from surprise import dump\n",
    "dump.dump(PROCESSED/'2017_2018_IsinBuySell_SVD.dump', algo=svd)\n",
    "dump.dump(PROCESSED/'2017_2018_IsinBuySell_NMF.dump', algo=nmf)"
   ]
  },
  {
   "cell_type": "code",
   "execution_count": 138,
   "metadata": {},
   "outputs": [
    {
     "name": "stdout",
     "output_type": "stream",
     "text": [
      "20180101 0\n",
      "20180108 0\n",
      "20180115 0\n",
      "20180122 0\n",
      "20180129 0\n",
      "20180205 0\n",
      "20180212 0\n",
      "20180219 0\n",
      "20180226 0\n",
      "20180305 0\n",
      "20180312 0\n",
      "20180319 0\n",
      "20180326 0\n",
      "20180402 0\n",
      "20180409 0\n",
      "20180416 0\n",
      "20180423 0\n"
     ]
    }
   ],
   "source": [
    "new_ratingsIsinBuySell = set(ratings.IsinBuySell)\n",
    "for n, w in zip(week_labels, weeks):\n",
    "    print(n, len(set(w.IsinBuySell).difference(new_ratingsIsinBuySell)))"
   ]
  },
  {
   "cell_type": "code",
   "execution_count": 139,
   "metadata": {},
   "outputs": [
    {
     "data": {
      "text/plain": [
       "<matplotlib.collections.PathCollection at 0x7fa6ed6f23c8>"
      ]
     },
     "execution_count": 139,
     "metadata": {},
     "output_type": "execute_result"
    },
    {
     "data": {
      "image/png": "[encoded data removed]",
      "text/plain": [
       "<matplotlib.figure.Figure at 0x7fa8939b8518>"
      ]
     },
     "metadata": {
      "image/png": {
       "height": 248,
       "width": 386
      }
     },
     "output_type": "display_data"
    }
   ],
   "source": [
    "plt.scatter(svd.pu[:,0], svd.pu[:,1])"
   ]
  },
  {
   "cell_type": "code",
   "execution_count": 140,
   "metadata": {},
   "outputs": [
    {
     "data": {
      "text/plain": [
       "<matplotlib.collections.PathCollection at 0x7fa6f6b4be10>"
      ]
     },
     "execution_count": 140,
     "metadata": {},
     "output_type": "execute_result"
    },
    {
     "data": {
      "image/png": "[encoded data removed]",
      "text/plain": [
       "<matplotlib.figure.Figure at 0x7fa6ecc89e48>"
      ]
     },
     "metadata": {
      "image/png": {
       "height": 248,
       "width": 377
      }
     },
     "output_type": "display_data"
    }
   ],
   "source": [
    "plt.scatter(nmf.pu[:,0], nmf.pu[:,1])"
   ]
  }
 ],
 "metadata": {
  "kernelspec": {
   "display_name": "Python 3",
   "language": "python",
   "name": "python3"
  },
  "language_info": {
   "codemirror_mode": {
    "name": "ipython",
    "version": 3
   },
   "file_extension": ".py",
   "mimetype": "text/x-python",
   "name": "python",
   "nbconvert_exporter": "python",
   "pygments_lexer": "ipython3",
   "version": "3.6.4"
  }
 },
 "nbformat": 4,
 "nbformat_minor": 2
}
