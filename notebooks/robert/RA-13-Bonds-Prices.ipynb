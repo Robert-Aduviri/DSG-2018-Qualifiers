{
 "cells": [
  {
   "cell_type": "code",
   "execution_count": 1,
   "metadata": {},
   "outputs": [],
   "source": [
    "%load_ext autoreload\n",
    "%autoreload 2\n",
    "%matplotlib inline\n",
    "%config InlineBackend.figure_format = 'retina'\n",
    "\n",
    "import os, math\n",
    "import numpy as np, pandas as pd\n",
    "import matplotlib.pyplot as plt, seaborn as sns\n",
    "from pandas_summary import DataFrameSummary\n",
    "from tqdm import tqdm, tqdm_notebook\n",
    "from pathlib import Path\n",
    "pd.set_option('display.max_columns', 1000)\n",
    "pd.set_option('display.max_rows', 400)\n",
    "sns.set()\n",
    "\n",
    "os.chdir('../..')\n",
    "from src import utils"
   ]
  },
  {
   "cell_type": "code",
   "execution_count": 2,
   "metadata": {},
   "outputs": [],
   "source": [
    "DATA        = Path('data')\n",
    "RAW         = DATA/'raw'\n",
    "INTERIM     = DATA/'interim'\n",
    "PROCESSED   = DATA/'processed'\n",
    "SUBMISSIONS = DATA/'submissions'"
   ]
  },
  {
   "cell_type": "code",
   "execution_count": 3,
   "metadata": {},
   "outputs": [],
   "source": [
    "challenge  = pd.read_csv(RAW/'Challenge_20180423.csv', low_memory=False)\n",
    "customer   = pd.read_csv(RAW/'Customer.csv', low_memory=False)\n",
    "isin       = pd.read_csv(RAW/'Isin.csv', low_memory=False)\n",
    "submission = pd.read_csv(RAW/'sample_submission.csv', low_memory=False)\n",
    "trade      = pd.read_csv(RAW/'Trade.csv', low_memory=False)\n",
    "market     = pd.read_csv(RAW/'Market.csv', low_memory=False)"
   ]
  },
  {
   "cell_type": "code",
   "execution_count": 4,
   "metadata": {},
   "outputs": [],
   "source": [
    "week_labels = [20180226, 20180305, 20180312, 20180319, \n",
    "               20180326, 20180402, 20180409, 20180416, 20180423]"
   ]
  },
  {
   "cell_type": "code",
   "execution_count": 5,
   "metadata": {},
   "outputs": [
    {
     "name": "stdout",
     "output_type": "stream",
     "text": [
      "CPU times: user 4.24 s, sys: 2.99 s, total: 7.23 s\n",
      "Wall time: 15 s\n"
     ]
    }
   ],
   "source": [
    "%%time\n",
    "weeks = []\n",
    "for name in week_labels:\n",
    "    weeks.append(pd.read_feather(PROCESSED/f'week_{name % 10000:04}_diffscount.feather'))"
   ]
  },
  {
   "cell_type": "code",
   "execution_count": 6,
   "metadata": {},
   "outputs": [],
   "source": [
    "from src.utils import get_weeks, week_num"
   ]
  },
  {
   "cell_type": "code",
   "execution_count": 7,
   "metadata": {},
   "outputs": [],
   "source": [
    "all_weeks = get_weeks()\n",
    "for w in weeks:\n",
    "    w['week'] = w.TradeDateKey.apply(lambda x: week_num(all_weeks, x))\n",
    "market['week'] = market.DateKey.apply(lambda x: week_num(all_weeks, x))"
   ]
  },
  {
   "cell_type": "code",
   "execution_count": 8,
   "metadata": {},
   "outputs": [
    {
     "name": "stdout",
     "output_type": "stream",
     "text": [
      "CPU times: user 1min 9s, sys: 656 ms, total: 1min 10s\n",
      "Wall time: 1min 10s\n"
     ]
    }
   ],
   "source": [
    "%%time\n",
    "from collections import defaultdict\n",
    "weekly_averages = market.groupby(['IsinIdx', 'week'])[['Price', 'Yield', 'ZSpread']].agg('mean')\n",
    "weekly_dict = weekly_averages.to_dict('index')\n",
    "averages = defaultdict(dict)\n",
    "for k in weekly_dict:\n",
    "    averages[k[0]][k[1]] = weekly_dict[k]"
   ]
  },
  {
   "cell_type": "code",
   "execution_count": 37,
   "metadata": {},
   "outputs": [],
   "source": [
    "def get_previous_weeks(row, averages, previous_weeks):\n",
    "    last_week = row['week'] - 1\n",
    "    weeks_idxs = [last_week - w_off for w_off in previous_weeks]\n",
    "    result = {}\n",
    "    for idx, weekoff in zip(weeks_idxs, previous_weeks):\n",
    "        if row['IsinIdx'] in averages and last_week in averages[row['IsinIdx']] \\\n",
    "                                      and idx in averages[row['IsinIdx']]:\n",
    "            result[weekoff] = [x - y for x, y in zip(averages[row['IsinIdx']][last_week].values(), \n",
    "                                                     averages[row['IsinIdx']][idx].values())]\n",
    "        else:\n",
    "            result[weekoff] = [0,0,0]\n",
    "    return result"
   ]
  },
  {
   "cell_type": "code",
   "execution_count": 18,
   "metadata": {},
   "outputs": [],
   "source": [
    "from functools import partial\n",
    "from itertools import product\n",
    "import multiprocessing as mp"
   ]
  },
  {
   "cell_type": "code",
   "execution_count": 30,
   "metadata": {},
   "outputs": [],
   "source": [
    "def add_bondprices(day_df, previous_weeks, weekly_averages, averages):\n",
    "    rows = [row.to_dict() for idx, row in day_df[['IsinIdx', 'week']].iterrows()]\n",
    "    foo = partial(get_previous_weeks, averages=averages, previous_weeks=previous_weeks)\n",
    "    pool = mp.Pool()\n",
    "    data = pool.map(foo, rows)\n",
    "    pool.close()\n",
    "    pool.join()\n",
    "    col2idx = {col:idx for idx,col in enumerate(weekly_averages.columns)}\n",
    "    for wo, col in product(previous_weeks, list(weekly_averages.columns)):\n",
    "        day_df[f'Week{wo}_{col}'] = [r[wo][col2idx[col]] for r in data]   "
   ]
  },
  {
   "cell_type": "code",
   "execution_count": 31,
   "metadata": {},
   "outputs": [
    {
     "name": "stdout",
     "output_type": "stream",
     "text": [
      "20180226\n",
      "20180305\n",
      "20180312\n",
      "20180319\n",
      "20180326\n",
      "20180402\n",
      "20180409\n",
      "20180416\n",
      "20180423\n",
      "CPU times: user 11min 34s, sys: 1min 30s, total: 13min 4s\n",
      "Wall time: 14min 19s\n"
     ]
    }
   ],
   "source": [
    "%%time\n",
    "for n, w in zip(week_labels, weeks):\n",
    "    print(n)\n",
    "    add_bondprices(w, [1,2,3,5,8,13], weekly_averages, averages)"
   ]
  },
  {
   "cell_type": "code",
   "execution_count": 41,
   "metadata": {},
   "outputs": [
    {
     "name": "stdout",
     "output_type": "stream",
     "text": [
      "CPU times: user 8.57 s, sys: 8.04 s, total: 16.6 s\n",
      "Wall time: 39.7 s\n"
     ]
    }
   ],
   "source": [
    "%%time\n",
    "for w, name in zip(weeks, week_labels):\n",
    "    w.to_feather(PROCESSED/f'week_{name % 10000:04}_diffscountsprices.feather')"
   ]
  },
  {
   "cell_type": "code",
   "execution_count": 42,
   "metadata": {},
   "outputs": [],
   "source": [
    "from tqdm._tqdm_notebook import tqdm_notebook\n",
    "tqdm_notebook.pandas()"
   ]
  },
  {
   "cell_type": "code",
   "execution_count": 48,
   "metadata": {},
   "outputs": [],
   "source": [
    "def add_lastprices(day_df, averages):\n",
    "    default_price = {'Price': 100, 'Yield': 0, 'ZSpread': 0}\n",
    "    last_prices = day_df.progress_apply(lambda r: \\\n",
    "                averages[r.IsinIdx][r.week - 1] \\\n",
    "                if r.IsinIdx in averages and \\\n",
    "                   (r.week - 1) in averages[r.IsinIdx]\n",
    "                else default_price, axis=1)\n",
    "    last_prices = pd.DataFrame(list(last_prices))\n",
    "    for c in last_prices:\n",
    "        day_df[c] = last_prices[c]"
   ]
  },
  {
   "cell_type": "code",
   "execution_count": 49,
   "metadata": {},
   "outputs": [
    {
     "name": "stdout",
     "output_type": "stream",
     "text": [
      "20180226\n"
     ]
    },
    {
     "data": {
      "application/vnd.jupyter.widget-view+json": {
       "model_id": "a433e0e2fc8540c88c9c78b095a3eec8",
       "version_major": 2,
       "version_minor": 0
      },
      "text/html": [
       "<p>Failed to display Jupyter Widget of type <code>HBox</code>.</p>\n",
       "<p>\n",
       "  If you're reading this message in the Jupyter Notebook or JupyterLab Notebook, it may mean\n",
       "  that the widgets JavaScript is still loading. If this message persists, it\n",
       "  likely means that the widgets JavaScript library is either not installed or\n",
       "  not enabled. See the <a href=\"https://ipywidgets.readthedocs.io/en/stable/user_install.html\">Jupyter\n",
       "  Widgets Documentation</a> for setup instructions.\n",
       "</p>\n",
       "<p>\n",
       "  If you're reading this message in another frontend (for example, a static\n",
       "  rendering on GitHub or <a href=\"https://nbviewer.jupyter.org/\">NBViewer</a>),\n",
       "  it may mean that your frontend doesn't currently support widgets.\n",
       "</p>\n"
      ],
      "text/plain": [
       "HBox(children=(IntProgress(value=0, max=683028), HTML(value='')))"
      ]
     },
     "metadata": {},
     "output_type": "display_data"
    },
    {
     "name": "stdout",
     "output_type": "stream",
     "text": [
      "20180305\n"
     ]
    },
    {
     "data": {
      "application/vnd.jupyter.widget-view+json": {
       "model_id": "c8c26d87936e4befa78de93ff0b45e55",
       "version_major": 2,
       "version_minor": 0
      },
      "text/html": [
       "<p>Failed to display Jupyter Widget of type <code>HBox</code>.</p>\n",
       "<p>\n",
       "  If you're reading this message in the Jupyter Notebook or JupyterLab Notebook, it may mean\n",
       "  that the widgets JavaScript is still loading. If this message persists, it\n",
       "  likely means that the widgets JavaScript library is either not installed or\n",
       "  not enabled. See the <a href=\"https://ipywidgets.readthedocs.io/en/stable/user_install.html\">Jupyter\n",
       "  Widgets Documentation</a> for setup instructions.\n",
       "</p>\n",
       "<p>\n",
       "  If you're reading this message in another frontend (for example, a static\n",
       "  rendering on GitHub or <a href=\"https://nbviewer.jupyter.org/\">NBViewer</a>),\n",
       "  it may mean that your frontend doesn't currently support widgets.\n",
       "</p>\n"
      ],
      "text/plain": [
       "HBox(children=(IntProgress(value=0, max=488776), HTML(value='')))"
      ]
     },
     "metadata": {},
     "output_type": "display_data"
    },
    {
     "name": "stdout",
     "output_type": "stream",
     "text": [
      "20180312\n"
     ]
    },
    {
     "data": {
      "application/vnd.jupyter.widget-view+json": {
       "model_id": "fe54da92adb843e085c251b9be9f4148",
       "version_major": 2,
       "version_minor": 0
      },
      "text/html": [
       "<p>Failed to display Jupyter Widget of type <code>HBox</code>.</p>\n",
       "<p>\n",
       "  If you're reading this message in the Jupyter Notebook or JupyterLab Notebook, it may mean\n",
       "  that the widgets JavaScript is still loading. If this message persists, it\n",
       "  likely means that the widgets JavaScript library is either not installed or\n",
       "  not enabled. See the <a href=\"https://ipywidgets.readthedocs.io/en/stable/user_install.html\">Jupyter\n",
       "  Widgets Documentation</a> for setup instructions.\n",
       "</p>\n",
       "<p>\n",
       "  If you're reading this message in another frontend (for example, a static\n",
       "  rendering on GitHub or <a href=\"https://nbviewer.jupyter.org/\">NBViewer</a>),\n",
       "  it may mean that your frontend doesn't currently support widgets.\n",
       "</p>\n"
      ],
      "text/plain": [
       "HBox(children=(IntProgress(value=0, max=489366), HTML(value='')))"
      ]
     },
     "metadata": {},
     "output_type": "display_data"
    },
    {
     "name": "stdout",
     "output_type": "stream",
     "text": [
      "20180319\n"
     ]
    },
    {
     "data": {
      "application/vnd.jupyter.widget-view+json": {
       "model_id": "27c2462b6732479a8e5dbc4f6c17437a",
       "version_major": 2,
       "version_minor": 0
      },
      "text/html": [
       "<p>Failed to display Jupyter Widget of type <code>HBox</code>.</p>\n",
       "<p>\n",
       "  If you're reading this message in the Jupyter Notebook or JupyterLab Notebook, it may mean\n",
       "  that the widgets JavaScript is still loading. If this message persists, it\n",
       "  likely means that the widgets JavaScript library is either not installed or\n",
       "  not enabled. See the <a href=\"https://ipywidgets.readthedocs.io/en/stable/user_install.html\">Jupyter\n",
       "  Widgets Documentation</a> for setup instructions.\n",
       "</p>\n",
       "<p>\n",
       "  If you're reading this message in another frontend (for example, a static\n",
       "  rendering on GitHub or <a href=\"https://nbviewer.jupyter.org/\">NBViewer</a>),\n",
       "  it may mean that your frontend doesn't currently support widgets.\n",
       "</p>\n"
      ],
      "text/plain": [
       "HBox(children=(IntProgress(value=0, max=503746), HTML(value='')))"
      ]
     },
     "metadata": {},
     "output_type": "display_data"
    },
    {
     "name": "stdout",
     "output_type": "stream",
     "text": [
      "20180326\n"
     ]
    },
    {
     "data": {
      "application/vnd.jupyter.widget-view+json": {
       "model_id": "ac077417ffd84712ac0f4141d7d336f0",
       "version_major": 2,
       "version_minor": 0
      },
      "text/html": [
       "<p>Failed to display Jupyter Widget of type <code>HBox</code>.</p>\n",
       "<p>\n",
       "  If you're reading this message in the Jupyter Notebook or JupyterLab Notebook, it may mean\n",
       "  that the widgets JavaScript is still loading. If this message persists, it\n",
       "  likely means that the widgets JavaScript library is either not installed or\n",
       "  not enabled. See the <a href=\"https://ipywidgets.readthedocs.io/en/stable/user_install.html\">Jupyter\n",
       "  Widgets Documentation</a> for setup instructions.\n",
       "</p>\n",
       "<p>\n",
       "  If you're reading this message in another frontend (for example, a static\n",
       "  rendering on GitHub or <a href=\"https://nbviewer.jupyter.org/\">NBViewer</a>),\n",
       "  it may mean that your frontend doesn't currently support widgets.\n",
       "</p>\n"
      ],
      "text/plain": [
       "HBox(children=(IntProgress(value=0, max=689824), HTML(value='')))"
      ]
     },
     "metadata": {},
     "output_type": "display_data"
    },
    {
     "name": "stdout",
     "output_type": "stream",
     "text": [
      "20180402\n"
     ]
    },
    {
     "data": {
      "application/vnd.jupyter.widget-view+json": {
       "model_id": "15ff37a6413a43ccb98d3e123150934c",
       "version_major": 2,
       "version_minor": 0
      },
      "text/html": [
       "<p>Failed to display Jupyter Widget of type <code>HBox</code>.</p>\n",
       "<p>\n",
       "  If you're reading this message in the Jupyter Notebook or JupyterLab Notebook, it may mean\n",
       "  that the widgets JavaScript is still loading. If this message persists, it\n",
       "  likely means that the widgets JavaScript library is either not installed or\n",
       "  not enabled. See the <a href=\"https://ipywidgets.readthedocs.io/en/stable/user_install.html\">Jupyter\n",
       "  Widgets Documentation</a> for setup instructions.\n",
       "</p>\n",
       "<p>\n",
       "  If you're reading this message in another frontend (for example, a static\n",
       "  rendering on GitHub or <a href=\"https://nbviewer.jupyter.org/\">NBViewer</a>),\n",
       "  it may mean that your frontend doesn't currently support widgets.\n",
       "</p>\n"
      ],
      "text/plain": [
       "HBox(children=(IntProgress(value=0, max=500842), HTML(value='')))"
      ]
     },
     "metadata": {},
     "output_type": "display_data"
    },
    {
     "name": "stdout",
     "output_type": "stream",
     "text": [
      "20180409\n"
     ]
    },
    {
     "data": {
      "application/vnd.jupyter.widget-view+json": {
       "model_id": "9ab704ef2ba04db686d3d45f226d89a5",
       "version_major": 2,
       "version_minor": 0
      },
      "text/html": [
       "<p>Failed to display Jupyter Widget of type <code>HBox</code>.</p>\n",
       "<p>\n",
       "  If you're reading this message in the Jupyter Notebook or JupyterLab Notebook, it may mean\n",
       "  that the widgets JavaScript is still loading. If this message persists, it\n",
       "  likely means that the widgets JavaScript library is either not installed or\n",
       "  not enabled. See the <a href=\"https://ipywidgets.readthedocs.io/en/stable/user_install.html\">Jupyter\n",
       "  Widgets Documentation</a> for setup instructions.\n",
       "</p>\n",
       "<p>\n",
       "  If you're reading this message in another frontend (for example, a static\n",
       "  rendering on GitHub or <a href=\"https://nbviewer.jupyter.org/\">NBViewer</a>),\n",
       "  it may mean that your frontend doesn't currently support widgets.\n",
       "</p>\n"
      ],
      "text/plain": [
       "HBox(children=(IntProgress(value=0, max=492906), HTML(value='')))"
      ]
     },
     "metadata": {},
     "output_type": "display_data"
    },
    {
     "name": "stdout",
     "output_type": "stream",
     "text": [
      "20180416\n"
     ]
    },
    {
     "data": {
      "application/vnd.jupyter.widget-view+json": {
       "model_id": "265d1491e8404596b5254b9a87320d17",
       "version_major": 2,
       "version_minor": 0
      },
      "text/html": [
       "<p>Failed to display Jupyter Widget of type <code>HBox</code>.</p>\n",
       "<p>\n",
       "  If you're reading this message in the Jupyter Notebook or JupyterLab Notebook, it may mean\n",
       "  that the widgets JavaScript is still loading. If this message persists, it\n",
       "  likely means that the widgets JavaScript library is either not installed or\n",
       "  not enabled. See the <a href=\"https://ipywidgets.readthedocs.io/en/stable/user_install.html\">Jupyter\n",
       "  Widgets Documentation</a> for setup instructions.\n",
       "</p>\n",
       "<p>\n",
       "  If you're reading this message in another frontend (for example, a static\n",
       "  rendering on GitHub or <a href=\"https://nbviewer.jupyter.org/\">NBViewer</a>),\n",
       "  it may mean that your frontend doesn't currently support widgets.\n",
       "</p>\n"
      ],
      "text/plain": [
       "HBox(children=(IntProgress(value=0, max=493590), HTML(value='')))"
      ]
     },
     "metadata": {},
     "output_type": "display_data"
    },
    {
     "name": "stdout",
     "output_type": "stream",
     "text": [
      "20180423\n"
     ]
    },
    {
     "data": {
      "application/vnd.jupyter.widget-view+json": {
       "model_id": "54dbcedd5848436bbccbe7b9ab51780a",
       "version_major": 2,
       "version_minor": 0
      },
      "text/html": [
       "<p>Failed to display Jupyter Widget of type <code>HBox</code>.</p>\n",
       "<p>\n",
       "  If you're reading this message in the Jupyter Notebook or JupyterLab Notebook, it may mean\n",
       "  that the widgets JavaScript is still loading. If this message persists, it\n",
       "  likely means that the widgets JavaScript library is either not installed or\n",
       "  not enabled. See the <a href=\"https://ipywidgets.readthedocs.io/en/stable/user_install.html\">Jupyter\n",
       "  Widgets Documentation</a> for setup instructions.\n",
       "</p>\n",
       "<p>\n",
       "  If you're reading this message in another frontend (for example, a static\n",
       "  rendering on GitHub or <a href=\"https://nbviewer.jupyter.org/\">NBViewer</a>),\n",
       "  it may mean that your frontend doesn't currently support widgets.\n",
       "</p>\n"
      ],
      "text/plain": [
       "HBox(children=(IntProgress(value=0, max=484758), HTML(value='')))"
      ]
     },
     "metadata": {},
     "output_type": "display_data"
    },
    {
     "name": "stdout",
     "output_type": "stream",
     "text": [
      "CPU times: user 3min 28s, sys: 4.98 s, total: 3min 32s\n",
      "Wall time: 3min 31s\n"
     ]
    }
   ],
   "source": [
    "%%time\n",
    "for n, w in zip(week_labels, weeks):\n",
    "    print(n)\n",
    "    add_lastprices(w, averages)"
   ]
  },
  {
   "cell_type": "code",
   "execution_count": 51,
   "metadata": {},
   "outputs": [
    {
     "name": "stdout",
     "output_type": "stream",
     "text": [
      "CPU times: user 10.8 s, sys: 3.48 s, total: 14.2 s\n",
      "Wall time: 13.3 s\n"
     ]
    }
   ],
   "source": [
    "%%time\n",
    "for w, name in zip(weeks, week_labels):\n",
    "    w.to_feather(PROCESSED/f'week_{name % 10000:04}_diffscountsprices.feather')"
   ]
  },
  {
   "cell_type": "code",
   "execution_count": null,
   "metadata": {},
   "outputs": [],
   "source": []
  },
  {
   "cell_type": "markdown",
   "metadata": {},
   "source": [
    "## Preprocessing"
   ]
  },
  {
   "cell_type": "code",
   "execution_count": 52,
   "metadata": {},
   "outputs": [],
   "source": [
    "cat_cols = ['BuySell', 'Sector', 'Subsector', 'Region_x', 'Country', \n",
    "            'TickerIdx', 'Seniority', 'Currency', 'ActivityGroup', \n",
    "            'Region_y', 'Activity', 'RiskCaptain', 'Owner', 'CompositeRating', \n",
    "            'IndustrySector', 'IndustrySubgroup', 'MarketIssue', 'CouponType']"
   ]
  },
  {
   "cell_type": "code",
   "execution_count": 53,
   "metadata": {},
   "outputs": [],
   "source": [
    "id_cols = ['TradeDateKey', 'CustomerIdx', 'IsinIdx']\n",
    "target_col = 'CustomerInterest'\n",
    "pred_col = 'PredictionIdx'"
   ]
  },
  {
   "cell_type": "code",
   "execution_count": 54,
   "metadata": {},
   "outputs": [],
   "source": [
    "from src.utils import apply_cats\n",
    "for col in cat_cols:\n",
    "    weeks[-1][col] = weeks[-1][col].astype('category').cat.as_ordered()\n",
    "for w in weeks[:-1]:\n",
    "    apply_cats(w, weeks[-1])\n",
    "\n",
    "for w in weeks:\n",
    "    for col in cat_cols:\n",
    "        w[col] = w[col].cat.codes"
   ]
  },
  {
   "cell_type": "markdown",
   "metadata": {},
   "source": [
    "## Model"
   ]
  },
  {
   "cell_type": "code",
   "execution_count": 55,
   "metadata": {},
   "outputs": [],
   "source": [
    "from src.utils import run_model\n",
    "from lightgbm import LGBMClassifier\n",
    "metric_names = ['auc']"
   ]
  },
  {
   "cell_type": "code",
   "execution_count": 56,
   "metadata": {},
   "outputs": [
    {
     "name": "stdout",
     "output_type": "stream",
     "text": [
      "[20180226] [20180305] [20180423]\n",
      "[20180305] [20180312] [20180423]\n",
      "[20180312] [20180319] [20180423]\n",
      "[20180319] [20180326] [20180423]\n",
      "[20180326] [20180402] [20180423]\n",
      "[20180402] [20180409] [20180423]\n",
      "[20180409] [20180416] [20180423]\n",
      "[20180416] [20180423] [20180423]\n"
     ]
    }
   ],
   "source": [
    "for i, w in enumerate(weeks[1:]):\n",
    "    train, val, test = weeks[i], w, weeks[-1]\n",
    "    print(train['TradeDateKey'].unique(), \n",
    "          val['TradeDateKey'].unique(), \n",
    "          test['TradeDateKey'].unique())"
   ]
  },
  {
   "cell_type": "code",
   "execution_count": 57,
   "metadata": {},
   "outputs": [
    {
     "name": "stdout",
     "output_type": "stream",
     "text": [
      "LGBMClassifier \n",
      "\n",
      "[1]\tvalid_0's auc: 0.589349\n",
      "Training until validation scores don't improve for 30 rounds.\n",
      "[2]\tvalid_0's auc: 0.590466\n",
      "[3]\tvalid_0's auc: 0.60761\n",
      "[4]\tvalid_0's auc: 0.617363\n",
      "[5]\tvalid_0's auc: 0.624635\n",
      "[6]\tvalid_0's auc: 0.625009\n",
      "[7]\tvalid_0's auc: 0.62814\n",
      "[8]\tvalid_0's auc: 0.628505\n",
      "[9]\tvalid_0's auc: 0.625057\n",
      "[10]\tvalid_0's auc: 0.62604\n",
      "[11]\tvalid_0's auc: 0.627715\n",
      "[12]\tvalid_0's auc: 0.626666\n",
      "[13]\tvalid_0's auc: 0.62541\n",
      "[14]\tvalid_0's auc: 0.629652\n",
      "[15]\tvalid_0's auc: 0.628188\n",
      "[16]\tvalid_0's auc: 0.629464\n",
      "[17]\tvalid_0's auc: 0.629344\n",
      "[18]\tvalid_0's auc: 0.628969\n",
      "[19]\tvalid_0's auc: 0.633521\n",
      "[20]\tvalid_0's auc: 0.631036\n",
      "[21]\tvalid_0's auc: 0.630452\n",
      "[22]\tvalid_0's auc: 0.630629\n",
      "[23]\tvalid_0's auc: 0.630238\n",
      "[24]\tvalid_0's auc: 0.631356\n",
      "[25]\tvalid_0's auc: 0.633954\n",
      "[26]\tvalid_0's auc: 0.635006\n",
      "[27]\tvalid_0's auc: 0.634572\n",
      "[28]\tvalid_0's auc: 0.634158\n",
      "[29]\tvalid_0's auc: 0.636719\n",
      "[30]\tvalid_0's auc: 0.639172\n",
      "[31]\tvalid_0's auc: 0.639329\n",
      "[32]\tvalid_0's auc: 0.639321\n",
      "[33]\tvalid_0's auc: 0.641788\n",
      "[34]\tvalid_0's auc: 0.640919\n",
      "[35]\tvalid_0's auc: 0.64062\n",
      "[36]\tvalid_0's auc: 0.644409\n",
      "[37]\tvalid_0's auc: 0.644443\n",
      "[38]\tvalid_0's auc: 0.646988\n",
      "[39]\tvalid_0's auc: 0.64758\n",
      "[40]\tvalid_0's auc: 0.647473\n",
      "[41]\tvalid_0's auc: 0.647144\n",
      "[42]\tvalid_0's auc: 0.648645\n",
      "[43]\tvalid_0's auc: 0.648003\n",
      "[44]\tvalid_0's auc: 0.64863\n",
      "[45]\tvalid_0's auc: 0.648865\n",
      "[46]\tvalid_0's auc: 0.648144\n",
      "[47]\tvalid_0's auc: 0.648727\n",
      "[48]\tvalid_0's auc: 0.648633\n",
      "[49]\tvalid_0's auc: 0.648343\n",
      "[50]\tvalid_0's auc: 0.648429\n",
      "[51]\tvalid_0's auc: 0.649591\n",
      "[52]\tvalid_0's auc: 0.649827\n",
      "[53]\tvalid_0's auc: 0.649104\n",
      "[54]\tvalid_0's auc: 0.64952\n",
      "[55]\tvalid_0's auc: 0.650028\n",
      "[56]\tvalid_0's auc: 0.649344\n",
      "[57]\tvalid_0's auc: 0.649747\n",
      "[58]\tvalid_0's auc: 0.650833\n",
      "[59]\tvalid_0's auc: 0.650196\n",
      "[60]\tvalid_0's auc: 0.650939\n",
      "[61]\tvalid_0's auc: 0.651045\n",
      "[62]\tvalid_0's auc: 0.651189\n",
      "[63]\tvalid_0's auc: 0.65118\n",
      "[64]\tvalid_0's auc: 0.650993\n",
      "[65]\tvalid_0's auc: 0.651322\n",
      "[66]\tvalid_0's auc: 0.651402\n",
      "[67]\tvalid_0's auc: 0.650604\n",
      "[68]\tvalid_0's auc: 0.65207\n",
      "[69]\tvalid_0's auc: 0.652434\n",
      "[70]\tvalid_0's auc: 0.651848\n",
      "[71]\tvalid_0's auc: 0.651915\n",
      "[72]\tvalid_0's auc: 0.6517\n",
      "[73]\tvalid_0's auc: 0.651319\n",
      "[74]\tvalid_0's auc: 0.651828\n",
      "[75]\tvalid_0's auc: 0.652406\n",
      "[76]\tvalid_0's auc: 0.6524\n",
      "[77]\tvalid_0's auc: 0.652496\n",
      "[78]\tvalid_0's auc: 0.653174\n",
      "[79]\tvalid_0's auc: 0.652746\n",
      "[80]\tvalid_0's auc: 0.652459\n",
      "[81]\tvalid_0's auc: 0.652416\n",
      "[82]\tvalid_0's auc: 0.652396\n",
      "[83]\tvalid_0's auc: 0.652228\n",
      "[84]\tvalid_0's auc: 0.652303\n",
      "[85]\tvalid_0's auc: 0.652609\n",
      "[86]\tvalid_0's auc: 0.653183\n",
      "[87]\tvalid_0's auc: 0.652721\n",
      "[88]\tvalid_0's auc: 0.653046\n",
      "[89]\tvalid_0's auc: 0.652913\n",
      "[90]\tvalid_0's auc: 0.652788\n",
      "[91]\tvalid_0's auc: 0.652634\n",
      "[92]\tvalid_0's auc: 0.652744\n",
      "[93]\tvalid_0's auc: 0.653673\n",
      "[94]\tvalid_0's auc: 0.653909\n",
      "[95]\tvalid_0's auc: 0.653831\n",
      "[96]\tvalid_0's auc: 0.653181\n",
      "[97]\tvalid_0's auc: 0.652932\n",
      "[98]\tvalid_0's auc: 0.652717\n",
      "[99]\tvalid_0's auc: 0.653243\n",
      "[100]\tvalid_0's auc: 0.652709\n",
      "[101]\tvalid_0's auc: 0.652604\n",
      "[102]\tvalid_0's auc: 0.652858\n",
      "[103]\tvalid_0's auc: 0.652748\n",
      "[104]\tvalid_0's auc: 0.652724\n",
      "[105]\tvalid_0's auc: 0.652683\n",
      "[106]\tvalid_0's auc: 0.652627\n",
      "[107]\tvalid_0's auc: 0.65254\n",
      "[108]\tvalid_0's auc: 0.652559\n",
      "[109]\tvalid_0's auc: 0.652582\n",
      "[110]\tvalid_0's auc: 0.652471\n",
      "[111]\tvalid_0's auc: 0.652489\n",
      "[112]\tvalid_0's auc: 0.652619\n",
      "[113]\tvalid_0's auc: 0.653047\n",
      "[114]\tvalid_0's auc: 0.653125\n",
      "[115]\tvalid_0's auc: 0.653134\n",
      "[116]\tvalid_0's auc: 0.652892\n",
      "[117]\tvalid_0's auc: 0.65314\n",
      "[118]\tvalid_0's auc: 0.653181\n",
      "[119]\tvalid_0's auc: 0.653042\n",
      "[120]\tvalid_0's auc: 0.652871\n",
      "Did not meet early stopping. Best iteration is:\n",
      "[94]\tvalid_0's auc: 0.653909\n",
      "{'auc': {'trn': [0.8030755340976138], 'val': [0.6539092508237951]}}\n",
      "\n",
      "{'trn_auc_mean': 0.8030755340976138, 'val_auc_mean': 0.6539092508237951}\n",
      "LGBMClassifier \n",
      "\n",
      "[1]\tvalid_0's auc: 0.646513\n",
      "Training until validation scores don't improve for 30 rounds.\n",
      "[2]\tvalid_0's auc: 0.655886\n",
      "[3]\tvalid_0's auc: 0.653942\n",
      "[4]\tvalid_0's auc: 0.657489\n",
      "[5]\tvalid_0's auc: 0.657096\n",
      "[6]\tvalid_0's auc: 0.660914\n",
      "[7]\tvalid_0's auc: 0.658781\n",
      "[8]\tvalid_0's auc: 0.656954\n",
      "[9]\tvalid_0's auc: 0.657104\n",
      "[10]\tvalid_0's auc: 0.660038\n",
      "[11]\tvalid_0's auc: 0.658348\n",
      "[12]\tvalid_0's auc: 0.662893\n",
      "[13]\tvalid_0's auc: 0.662503\n",
      "[14]\tvalid_0's auc: 0.661996\n",
      "[15]\tvalid_0's auc: 0.662888\n",
      "[16]\tvalid_0's auc: 0.664772\n",
      "[17]\tvalid_0's auc: 0.66486\n",
      "[18]\tvalid_0's auc: 0.674582\n",
      "[19]\tvalid_0's auc: 0.676619\n",
      "[20]\tvalid_0's auc: 0.677629\n",
      "[21]\tvalid_0's auc: 0.679699\n",
      "[22]\tvalid_0's auc: 0.680115\n",
      "[23]\tvalid_0's auc: 0.680776\n",
      "[24]\tvalid_0's auc: 0.683097\n",
      "[25]\tvalid_0's auc: 0.682686\n",
      "[26]\tvalid_0's auc: 0.684807\n",
      "[27]\tvalid_0's auc: 0.68508\n",
      "[28]\tvalid_0's auc: 0.685511\n",
      "[29]\tvalid_0's auc: 0.6859\n",
      "[30]\tvalid_0's auc: 0.686011\n",
      "[31]\tvalid_0's auc: 0.686483\n",
      "[32]\tvalid_0's auc: 0.68712\n",
      "[33]\tvalid_0's auc: 0.687859\n",
      "[34]\tvalid_0's auc: 0.688686\n",
      "[35]\tvalid_0's auc: 0.689202\n",
      "[36]\tvalid_0's auc: 0.689228\n",
      "[37]\tvalid_0's auc: 0.690102\n",
      "[38]\tvalid_0's auc: 0.690185\n",
      "[39]\tvalid_0's auc: 0.690725\n",
      "[40]\tvalid_0's auc: 0.691346\n",
      "[41]\tvalid_0's auc: 0.691925\n",
      "[42]\tvalid_0's auc: 0.691786\n",
      "[43]\tvalid_0's auc: 0.69205\n",
      "[44]\tvalid_0's auc: 0.692864\n",
      "[45]\tvalid_0's auc: 0.692814\n",
      "[46]\tvalid_0's auc: 0.692738\n",
      "[47]\tvalid_0's auc: 0.692913\n",
      "[48]\tvalid_0's auc: 0.692773\n",
      "[49]\tvalid_0's auc: 0.692564\n",
      "[50]\tvalid_0's auc: 0.692805\n",
      "[51]\tvalid_0's auc: 0.692144\n",
      "[52]\tvalid_0's auc: 0.692237\n",
      "[53]\tvalid_0's auc: 0.692445\n",
      "[54]\tvalid_0's auc: 0.69218\n",
      "[55]\tvalid_0's auc: 0.692799\n",
      "[56]\tvalid_0's auc: 0.692607\n",
      "[57]\tvalid_0's auc: 0.692915\n",
      "[58]\tvalid_0's auc: 0.692847\n",
      "[59]\tvalid_0's auc: 0.693195\n",
      "[60]\tvalid_0's auc: 0.693906\n",
      "[61]\tvalid_0's auc: 0.693766\n",
      "[62]\tvalid_0's auc: 0.693024\n",
      "[63]\tvalid_0's auc: 0.692861\n",
      "[64]\tvalid_0's auc: 0.692997\n",
      "[65]\tvalid_0's auc: 0.692267\n",
      "[66]\tvalid_0's auc: 0.692199\n",
      "[67]\tvalid_0's auc: 0.69223\n",
      "[68]\tvalid_0's auc: 0.692173\n",
      "[69]\tvalid_0's auc: 0.692378\n",
      "[70]\tvalid_0's auc: 0.692342\n",
      "[71]\tvalid_0's auc: 0.692743\n",
      "[72]\tvalid_0's auc: 0.69275\n",
      "[73]\tvalid_0's auc: 0.692737\n",
      "[74]\tvalid_0's auc: 0.692841\n",
      "[75]\tvalid_0's auc: 0.692737\n",
      "[76]\tvalid_0's auc: 0.692627\n",
      "[77]\tvalid_0's auc: 0.691825\n",
      "[78]\tvalid_0's auc: 0.69175\n",
      "[79]\tvalid_0's auc: 0.691688\n",
      "[80]\tvalid_0's auc: 0.69115\n",
      "[81]\tvalid_0's auc: 0.69063\n",
      "[82]\tvalid_0's auc: 0.69071\n",
      "[83]\tvalid_0's auc: 0.690376\n",
      "[84]\tvalid_0's auc: 0.690402\n",
      "[85]\tvalid_0's auc: 0.690553\n",
      "[86]\tvalid_0's auc: 0.690635\n",
      "[87]\tvalid_0's auc: 0.690638\n",
      "[88]\tvalid_0's auc: 0.690599\n",
      "[89]\tvalid_0's auc: 0.690634\n",
      "[90]\tvalid_0's auc: 0.690519\n",
      "Early stopping, best iteration is:\n",
      "[60]\tvalid_0's auc: 0.693906\n",
      "{'auc': {'trn': [0.7604304118296976], 'val': [0.6939059989237015]}}\n",
      "\n",
      "{'trn_auc_mean': 0.7604304118296976, 'val_auc_mean': 0.6939059989237015}\n",
      "LGBMClassifier \n",
      "\n",
      "[1]\tvalid_0's auc: 0.692017\n",
      "Training until validation scores don't improve for 30 rounds.\n",
      "[2]\tvalid_0's auc: 0.693545\n",
      "[3]\tvalid_0's auc: 0.700541\n",
      "[4]\tvalid_0's auc: 0.698913\n",
      "[5]\tvalid_0's auc: 0.700946\n",
      "[6]\tvalid_0's auc: 0.702727\n",
      "[7]\tvalid_0's auc: 0.703541\n",
      "[8]\tvalid_0's auc: 0.70343\n",
      "[9]\tvalid_0's auc: 0.702413\n",
      "[10]\tvalid_0's auc: 0.702642\n",
      "[11]\tvalid_0's auc: 0.70401\n",
      "[12]\tvalid_0's auc: 0.704754\n",
      "[13]\tvalid_0's auc: 0.704914\n",
      "[14]\tvalid_0's auc: 0.706577\n",
      "[15]\tvalid_0's auc: 0.707311\n",
      "[16]\tvalid_0's auc: 0.707626\n",
      "[17]\tvalid_0's auc: 0.708598\n",
      "[18]\tvalid_0's auc: 0.709091\n",
      "[19]\tvalid_0's auc: 0.709504\n",
      "[20]\tvalid_0's auc: 0.710394\n",
      "[21]\tvalid_0's auc: 0.710284\n",
      "[22]\tvalid_0's auc: 0.7108\n",
      "[23]\tvalid_0's auc: 0.7117\n",
      "[24]\tvalid_0's auc: 0.711507\n",
      "[25]\tvalid_0's auc: 0.712191\n",
      "[26]\tvalid_0's auc: 0.713467\n",
      "[27]\tvalid_0's auc: 0.714351\n",
      "[28]\tvalid_0's auc: 0.714673\n",
      "[29]\tvalid_0's auc: 0.714814\n",
      "[30]\tvalid_0's auc: 0.715163\n",
      "[31]\tvalid_0's auc: 0.716411\n",
      "[32]\tvalid_0's auc: 0.717308\n",
      "[33]\tvalid_0's auc: 0.718216\n",
      "[34]\tvalid_0's auc: 0.718102\n",
      "[35]\tvalid_0's auc: 0.718959\n",
      "[36]\tvalid_0's auc: 0.71953\n",
      "[37]\tvalid_0's auc: 0.720489\n",
      "[38]\tvalid_0's auc: 0.721168\n",
      "[39]\tvalid_0's auc: 0.722035\n",
      "[40]\tvalid_0's auc: 0.722869\n",
      "[41]\tvalid_0's auc: 0.723261\n",
      "[42]\tvalid_0's auc: 0.723537\n",
      "[43]\tvalid_0's auc: 0.723964\n",
      "[44]\tvalid_0's auc: 0.724652\n",
      "[45]\tvalid_0's auc: 0.724832\n",
      "[46]\tvalid_0's auc: 0.724856\n",
      "[47]\tvalid_0's auc: 0.725126\n",
      "[48]\tvalid_0's auc: 0.725687\n",
      "[49]\tvalid_0's auc: 0.725927\n",
      "[50]\tvalid_0's auc: 0.726073\n",
      "[51]\tvalid_0's auc: 0.726211\n",
      "[52]\tvalid_0's auc: 0.726678\n",
      "[53]\tvalid_0's auc: 0.726975\n",
      "[54]\tvalid_0's auc: 0.727238\n",
      "[55]\tvalid_0's auc: 0.728094\n",
      "[56]\tvalid_0's auc: 0.72818\n",
      "[57]\tvalid_0's auc: 0.72832\n",
      "[58]\tvalid_0's auc: 0.72824\n",
      "[59]\tvalid_0's auc: 0.728436\n",
      "[60]\tvalid_0's auc: 0.727987\n",
      "[61]\tvalid_0's auc: 0.728254\n",
      "[62]\tvalid_0's auc: 0.728315\n",
      "[63]\tvalid_0's auc: 0.728354\n",
      "[64]\tvalid_0's auc: 0.728731\n",
      "[65]\tvalid_0's auc: 0.728752\n",
      "[66]\tvalid_0's auc: 0.728425\n",
      "[67]\tvalid_0's auc: 0.728692\n",
      "[68]\tvalid_0's auc: 0.728613\n",
      "[69]\tvalid_0's auc: 0.72864\n",
      "[70]\tvalid_0's auc: 0.728764\n",
      "[71]\tvalid_0's auc: 0.728991\n",
      "[72]\tvalid_0's auc: 0.729007\n",
      "[73]\tvalid_0's auc: 0.728897\n",
      "[74]\tvalid_0's auc: 0.72859\n",
      "[75]\tvalid_0's auc: 0.728413\n",
      "[76]\tvalid_0's auc: 0.728411\n",
      "[77]\tvalid_0's auc: 0.728527\n",
      "[78]\tvalid_0's auc: 0.72864\n",
      "[79]\tvalid_0's auc: 0.728656\n",
      "[80]\tvalid_0's auc: 0.728587\n",
      "[81]\tvalid_0's auc: 0.728803\n",
      "[82]\tvalid_0's auc: 0.728714\n",
      "[83]\tvalid_0's auc: 0.729058\n",
      "[84]\tvalid_0's auc: 0.728748\n",
      "[85]\tvalid_0's auc: 0.728645\n",
      "[86]\tvalid_0's auc: 0.728897\n",
      "[87]\tvalid_0's auc: 0.728962\n",
      "[88]\tvalid_0's auc: 0.728677\n",
      "[89]\tvalid_0's auc: 0.728606\n",
      "[90]\tvalid_0's auc: 0.728537\n",
      "[91]\tvalid_0's auc: 0.728593\n",
      "[92]\tvalid_0's auc: 0.728497\n",
      "[93]\tvalid_0's auc: 0.728511\n",
      "[94]\tvalid_0's auc: 0.728872\n",
      "[95]\tvalid_0's auc: 0.728786\n",
      "[96]\tvalid_0's auc: 0.72876\n",
      "[97]\tvalid_0's auc: 0.728769\n",
      "[98]\tvalid_0's auc: 0.728857\n",
      "[99]\tvalid_0's auc: 0.728776\n",
      "[100]\tvalid_0's auc: 0.728871\n",
      "[101]\tvalid_0's auc: 0.728901\n",
      "[102]\tvalid_0's auc: 0.728747\n",
      "[103]\tvalid_0's auc: 0.728519\n",
      "[104]\tvalid_0's auc: 0.728487\n",
      "[105]\tvalid_0's auc: 0.728549\n",
      "[106]\tvalid_0's auc: 0.728611\n",
      "[107]\tvalid_0's auc: 0.728619\n",
      "[108]\tvalid_0's auc: 0.728665\n",
      "[109]\tvalid_0's auc: 0.728415\n",
      "[110]\tvalid_0's auc: 0.728411\n",
      "[111]\tvalid_0's auc: 0.728204\n",
      "[112]\tvalid_0's auc: 0.72818\n",
      "[113]\tvalid_0's auc: 0.728208\n",
      "Early stopping, best iteration is:\n",
      "[83]\tvalid_0's auc: 0.729058\n",
      "{'auc': {'trn': [0.7793772833236665], 'val': [0.7290578081463391]}}\n",
      "\n",
      "{'trn_auc_mean': 0.7793772833236665, 'val_auc_mean': 0.7290578081463391}\n",
      "LGBMClassifier \n",
      "\n",
      "[1]\tvalid_0's auc: 0.65497\n",
      "Training until validation scores don't improve for 30 rounds.\n",
      "[2]\tvalid_0's auc: 0.657887\n",
      "[3]\tvalid_0's auc: 0.659163\n",
      "[4]\tvalid_0's auc: 0.658519\n",
      "[5]\tvalid_0's auc: 0.659796\n",
      "[6]\tvalid_0's auc: 0.659156\n",
      "[7]\tvalid_0's auc: 0.658336\n",
      "[8]\tvalid_0's auc: 0.658216\n",
      "[9]\tvalid_0's auc: 0.658726\n",
      "[10]\tvalid_0's auc: 0.658219\n",
      "[11]\tvalid_0's auc: 0.659532\n",
      "[12]\tvalid_0's auc: 0.660235\n",
      "[13]\tvalid_0's auc: 0.661185\n",
      "[14]\tvalid_0's auc: 0.661932\n",
      "[15]\tvalid_0's auc: 0.663344\n",
      "[16]\tvalid_0's auc: 0.66308\n",
      "[17]\tvalid_0's auc: 0.664693\n",
      "[18]\tvalid_0's auc: 0.664337\n",
      "[19]\tvalid_0's auc: 0.664678\n",
      "[20]\tvalid_0's auc: 0.664438\n",
      "[21]\tvalid_0's auc: 0.664926\n",
      "[22]\tvalid_0's auc: 0.664577\n",
      "[23]\tvalid_0's auc: 0.664274\n",
      "[24]\tvalid_0's auc: 0.663851\n",
      "[25]\tvalid_0's auc: 0.662152\n",
      "[26]\tvalid_0's auc: 0.661739\n",
      "[27]\tvalid_0's auc: 0.662304\n",
      "[28]\tvalid_0's auc: 0.661012\n",
      "[29]\tvalid_0's auc: 0.660893\n",
      "[30]\tvalid_0's auc: 0.66411\n",
      "[31]\tvalid_0's auc: 0.666153\n",
      "[32]\tvalid_0's auc: 0.667516\n",
      "[33]\tvalid_0's auc: 0.668078\n",
      "[34]\tvalid_0's auc: 0.667493\n",
      "[35]\tvalid_0's auc: 0.66821\n",
      "[36]\tvalid_0's auc: 0.668167\n",
      "[37]\tvalid_0's auc: 0.668443\n",
      "[38]\tvalid_0's auc: 0.668451\n",
      "[39]\tvalid_0's auc: 0.66991\n",
      "[40]\tvalid_0's auc: 0.669501\n",
      "[41]\tvalid_0's auc: 0.670466\n",
      "[42]\tvalid_0's auc: 0.671495\n",
      "[43]\tvalid_0's auc: 0.673037\n",
      "[44]\tvalid_0's auc: 0.672787\n",
      "[45]\tvalid_0's auc: 0.672779\n",
      "[46]\tvalid_0's auc: 0.673376\n",
      "[47]\tvalid_0's auc: 0.67447\n",
      "[48]\tvalid_0's auc: 0.675956\n",
      "[49]\tvalid_0's auc: 0.676611\n",
      "[50]\tvalid_0's auc: 0.677189\n",
      "[51]\tvalid_0's auc: 0.678019\n",
      "[52]\tvalid_0's auc: 0.676811\n",
      "[53]\tvalid_0's auc: 0.676384\n",
      "[54]\tvalid_0's auc: 0.677044\n",
      "[55]\tvalid_0's auc: 0.677584\n",
      "[56]\tvalid_0's auc: 0.677915\n",
      "[57]\tvalid_0's auc: 0.677117\n",
      "[58]\tvalid_0's auc: 0.677596\n",
      "[59]\tvalid_0's auc: 0.676462\n",
      "[60]\tvalid_0's auc: 0.676011\n",
      "[61]\tvalid_0's auc: 0.676282\n",
      "[62]\tvalid_0's auc: 0.676387\n",
      "[63]\tvalid_0's auc: 0.676584\n",
      "[64]\tvalid_0's auc: 0.677068\n",
      "[65]\tvalid_0's auc: 0.677286\n",
      "[66]\tvalid_0's auc: 0.676768\n",
      "[67]\tvalid_0's auc: 0.675395\n",
      "[68]\tvalid_0's auc: 0.675058\n",
      "[69]\tvalid_0's auc: 0.675436\n",
      "[70]\tvalid_0's auc: 0.675609\n",
      "[71]\tvalid_0's auc: 0.675264\n",
      "[72]\tvalid_0's auc: 0.675709\n",
      "[73]\tvalid_0's auc: 0.675836\n",
      "[74]\tvalid_0's auc: 0.676371\n",
      "[75]\tvalid_0's auc: 0.676449\n",
      "[76]\tvalid_0's auc: 0.676637\n",
      "[77]\tvalid_0's auc: 0.676449\n",
      "[78]\tvalid_0's auc: 0.676614\n",
      "[79]\tvalid_0's auc: 0.676666\n",
      "[80]\tvalid_0's auc: 0.676532\n",
      "[81]\tvalid_0's auc: 0.676476\n",
      "Early stopping, best iteration is:\n",
      "[51]\tvalid_0's auc: 0.678019\n",
      "{'auc': {'trn': [0.7678258924751485], 'val': [0.6780191685223955]}}\n",
      "\n",
      "{'trn_auc_mean': 0.7678258924751485, 'val_auc_mean': 0.6780191685223955}\n",
      "LGBMClassifier \n",
      "\n",
      "[1]\tvalid_0's auc: 0.673316\n",
      "Training until validation scores don't improve for 30 rounds.\n",
      "[2]\tvalid_0's auc: 0.670397\n",
      "[3]\tvalid_0's auc: 0.686844\n",
      "[4]\tvalid_0's auc: 0.677762\n",
      "[5]\tvalid_0's auc: 0.680076\n",
      "[6]\tvalid_0's auc: 0.681302\n",
      "[7]\tvalid_0's auc: 0.680933\n",
      "[8]\tvalid_0's auc: 0.683744\n",
      "[9]\tvalid_0's auc: 0.683398\n",
      "[10]\tvalid_0's auc: 0.685544\n",
      "[11]\tvalid_0's auc: 0.685055\n",
      "[12]\tvalid_0's auc: 0.685811\n",
      "[13]\tvalid_0's auc: 0.691156\n",
      "[14]\tvalid_0's auc: 0.692774\n",
      "[15]\tvalid_0's auc: 0.691664\n",
      "[16]\tvalid_0's auc: 0.689903\n",
      "[17]\tvalid_0's auc: 0.689075\n",
      "[18]\tvalid_0's auc: 0.691656\n",
      "[19]\tvalid_0's auc: 0.690697\n",
      "[20]\tvalid_0's auc: 0.692356\n",
      "[21]\tvalid_0's auc: 0.693087\n",
      "[22]\tvalid_0's auc: 0.692837\n",
      "[23]\tvalid_0's auc: 0.693638\n",
      "[24]\tvalid_0's auc: 0.694005\n",
      "[25]\tvalid_0's auc: 0.694805\n",
      "[26]\tvalid_0's auc: 0.695133\n",
      "[27]\tvalid_0's auc: 0.695769\n",
      "[28]\tvalid_0's auc: 0.695169\n",
      "[29]\tvalid_0's auc: 0.695391\n",
      "[30]\tvalid_0's auc: 0.695071\n",
      "[31]\tvalid_0's auc: 0.696368\n",
      "[32]\tvalid_0's auc: 0.696494\n",
      "[33]\tvalid_0's auc: 0.696648\n",
      "[34]\tvalid_0's auc: 0.696934\n",
      "[35]\tvalid_0's auc: 0.696845\n",
      "[36]\tvalid_0's auc: 0.696227\n",
      "[37]\tvalid_0's auc: 0.696062\n",
      "[38]\tvalid_0's auc: 0.695328\n",
      "[39]\tvalid_0's auc: 0.696604\n",
      "[40]\tvalid_0's auc: 0.696347\n",
      "[41]\tvalid_0's auc: 0.697111\n",
      "[42]\tvalid_0's auc: 0.698042\n",
      "[43]\tvalid_0's auc: 0.698329\n",
      "[44]\tvalid_0's auc: 0.698546\n",
      "[45]\tvalid_0's auc: 0.698162\n",
      "[46]\tvalid_0's auc: 0.699282\n",
      "[47]\tvalid_0's auc: 0.700243\n",
      "[48]\tvalid_0's auc: 0.700843\n",
      "[49]\tvalid_0's auc: 0.701564\n",
      "[50]\tvalid_0's auc: 0.701703\n",
      "[51]\tvalid_0's auc: 0.702691\n",
      "[52]\tvalid_0's auc: 0.702814\n",
      "[53]\tvalid_0's auc: 0.702709\n",
      "[54]\tvalid_0's auc: 0.701527\n",
      "[55]\tvalid_0's auc: 0.702\n",
      "[56]\tvalid_0's auc: 0.700539\n",
      "[57]\tvalid_0's auc: 0.70016\n",
      "[58]\tvalid_0's auc: 0.700848\n",
      "[59]\tvalid_0's auc: 0.700964\n",
      "[60]\tvalid_0's auc: 0.700864\n",
      "[61]\tvalid_0's auc: 0.701039\n",
      "[62]\tvalid_0's auc: 0.701686\n",
      "[63]\tvalid_0's auc: 0.701412\n",
      "[64]\tvalid_0's auc: 0.699589\n",
      "[65]\tvalid_0's auc: 0.699901\n",
      "[66]\tvalid_0's auc: 0.700008\n",
      "[67]\tvalid_0's auc: 0.699947\n",
      "[68]\tvalid_0's auc: 0.699811\n",
      "[69]\tvalid_0's auc: 0.699744\n",
      "[70]\tvalid_0's auc: 0.699596\n",
      "[71]\tvalid_0's auc: 0.699573\n",
      "[72]\tvalid_0's auc: 0.699777\n",
      "[73]\tvalid_0's auc: 0.700096\n",
      "[74]\tvalid_0's auc: 0.700298\n",
      "[75]\tvalid_0's auc: 0.700137\n",
      "[76]\tvalid_0's auc: 0.700123\n",
      "[77]\tvalid_0's auc: 0.700793\n",
      "[78]\tvalid_0's auc: 0.700743\n",
      "[79]\tvalid_0's auc: 0.70079\n",
      "[80]\tvalid_0's auc: 0.700913\n",
      "[81]\tvalid_0's auc: 0.700962\n",
      "[82]\tvalid_0's auc: 0.700864\n",
      "Early stopping, best iteration is:\n",
      "[52]\tvalid_0's auc: 0.702814\n",
      "{'auc': {'trn': [0.788280759663383], 'val': [0.7028139295253758]}}\n",
      "\n",
      "{'trn_auc_mean': 0.788280759663383, 'val_auc_mean': 0.7028139295253758}\n",
      "LGBMClassifier \n",
      "\n",
      "[1]\tvalid_0's auc: 0.699229\n",
      "Training until validation scores don't improve for 30 rounds.\n",
      "[2]\tvalid_0's auc: 0.705476\n",
      "[3]\tvalid_0's auc: 0.708749\n",
      "[4]\tvalid_0's auc: 0.714299\n",
      "[5]\tvalid_0's auc: 0.713074\n",
      "[6]\tvalid_0's auc: 0.712909\n",
      "[7]\tvalid_0's auc: 0.71267\n",
      "[8]\tvalid_0's auc: 0.713445\n",
      "[9]\tvalid_0's auc: 0.71416\n",
      "[10]\tvalid_0's auc: 0.714715\n",
      "[11]\tvalid_0's auc: 0.715077\n",
      "[12]\tvalid_0's auc: 0.706446\n",
      "[13]\tvalid_0's auc: 0.707077\n",
      "[14]\tvalid_0's auc: 0.709084\n",
      "[15]\tvalid_0's auc: 0.709326\n",
      "[16]\tvalid_0's auc: 0.716495\n",
      "[17]\tvalid_0's auc: 0.70924\n",
      "[18]\tvalid_0's auc: 0.709637\n",
      "[19]\tvalid_0's auc: 0.709373\n",
      "[20]\tvalid_0's auc: 0.716169\n",
      "[21]\tvalid_0's auc: 0.716062\n",
      "[22]\tvalid_0's auc: 0.709537\n",
      "[23]\tvalid_0's auc: 0.71763\n",
      "[24]\tvalid_0's auc: 0.71889\n",
      "[25]\tvalid_0's auc: 0.71987\n",
      "[26]\tvalid_0's auc: 0.720523\n",
      "[27]\tvalid_0's auc: 0.72182\n",
      "[28]\tvalid_0's auc: 0.722608\n",
      "[29]\tvalid_0's auc: 0.724582\n",
      "[30]\tvalid_0's auc: 0.725909\n",
      "[31]\tvalid_0's auc: 0.726997\n",
      "[32]\tvalid_0's auc: 0.728432\n",
      "[33]\tvalid_0's auc: 0.729043\n",
      "[34]\tvalid_0's auc: 0.72941\n",
      "[35]\tvalid_0's auc: 0.729761\n",
      "[36]\tvalid_0's auc: 0.731181\n",
      "[37]\tvalid_0's auc: 0.730987\n",
      "[38]\tvalid_0's auc: 0.732162\n",
      "[39]\tvalid_0's auc: 0.733193\n",
      "[40]\tvalid_0's auc: 0.736194\n",
      "[41]\tvalid_0's auc: 0.73738\n",
      "[42]\tvalid_0's auc: 0.737597\n",
      "[43]\tvalid_0's auc: 0.738104\n",
      "[44]\tvalid_0's auc: 0.738899\n",
      "[45]\tvalid_0's auc: 0.738024\n",
      "[46]\tvalid_0's auc: 0.738049\n",
      "[47]\tvalid_0's auc: 0.738163\n",
      "[48]\tvalid_0's auc: 0.738655\n",
      "[49]\tvalid_0's auc: 0.738749\n",
      "[50]\tvalid_0's auc: 0.739268\n",
      "[51]\tvalid_0's auc: 0.739204\n",
      "[52]\tvalid_0's auc: 0.739362\n",
      "[53]\tvalid_0's auc: 0.739436\n",
      "[54]\tvalid_0's auc: 0.739798\n",
      "[55]\tvalid_0's auc: 0.739958\n",
      "[56]\tvalid_0's auc: 0.739689\n",
      "[57]\tvalid_0's auc: 0.739993\n",
      "[58]\tvalid_0's auc: 0.740361\n",
      "[59]\tvalid_0's auc: 0.740109\n",
      "[60]\tvalid_0's auc: 0.74037\n",
      "[61]\tvalid_0's auc: 0.740458\n",
      "[62]\tvalid_0's auc: 0.740558\n",
      "[63]\tvalid_0's auc: 0.739833\n",
      "[64]\tvalid_0's auc: 0.738698\n",
      "[65]\tvalid_0's auc: 0.737804\n",
      "[66]\tvalid_0's auc: 0.737149\n",
      "[67]\tvalid_0's auc: 0.737636\n",
      "[68]\tvalid_0's auc: 0.737597\n",
      "[69]\tvalid_0's auc: 0.736801\n",
      "[70]\tvalid_0's auc: 0.736706\n",
      "[71]\tvalid_0's auc: 0.736948\n",
      "[72]\tvalid_0's auc: 0.736878\n",
      "[73]\tvalid_0's auc: 0.736988\n",
      "[74]\tvalid_0's auc: 0.73717\n",
      "[75]\tvalid_0's auc: 0.736666\n",
      "[76]\tvalid_0's auc: 0.736513\n",
      "[77]\tvalid_0's auc: 0.736581\n",
      "[78]\tvalid_0's auc: 0.736445\n",
      "[79]\tvalid_0's auc: 0.736566\n",
      "[80]\tvalid_0's auc: 0.736355\n",
      "[81]\tvalid_0's auc: 0.736289\n",
      "[82]\tvalid_0's auc: 0.736347\n",
      "[83]\tvalid_0's auc: 0.736477\n",
      "[84]\tvalid_0's auc: 0.73638\n",
      "[85]\tvalid_0's auc: 0.73602\n",
      "[86]\tvalid_0's auc: 0.736\n",
      "[87]\tvalid_0's auc: 0.736001\n",
      "[88]\tvalid_0's auc: 0.736041\n",
      "[89]\tvalid_0's auc: 0.735972\n",
      "[90]\tvalid_0's auc: 0.735941\n",
      "[91]\tvalid_0's auc: 0.735891\n",
      "[92]\tvalid_0's auc: 0.735219\n",
      "Early stopping, best iteration is:\n",
      "[62]\tvalid_0's auc: 0.740558\n",
      "{'auc': {'trn': [0.7958799857796209], 'val': [0.7405578703893884]}}\n",
      "\n",
      "{'trn_auc_mean': 0.7958799857796209, 'val_auc_mean': 0.7405578703893884}\n",
      "LGBMClassifier \n",
      "\n",
      "[1]\tvalid_0's auc: 0.739617\n",
      "Training until validation scores don't improve for 30 rounds.\n",
      "[2]\tvalid_0's auc: 0.742239\n",
      "[3]\tvalid_0's auc: 0.745332\n",
      "[4]\tvalid_0's auc: 0.745829\n",
      "[5]\tvalid_0's auc: 0.748259\n",
      "[6]\tvalid_0's auc: 0.749087\n",
      "[7]\tvalid_0's auc: 0.750058\n",
      "[8]\tvalid_0's auc: 0.75086\n",
      "[9]\tvalid_0's auc: 0.7518\n",
      "[10]\tvalid_0's auc: 0.751792\n",
      "[11]\tvalid_0's auc: 0.751667\n",
      "[12]\tvalid_0's auc: 0.752606\n",
      "[13]\tvalid_0's auc: 0.75268\n",
      "[14]\tvalid_0's auc: 0.753054\n",
      "[15]\tvalid_0's auc: 0.753829\n",
      "[16]\tvalid_0's auc: 0.75412\n",
      "[17]\tvalid_0's auc: 0.754194\n",
      "[18]\tvalid_0's auc: 0.754527\n",
      "[19]\tvalid_0's auc: 0.754806\n",
      "[20]\tvalid_0's auc: 0.755356\n",
      "[21]\tvalid_0's auc: 0.756242\n",
      "[22]\tvalid_0's auc: 0.757022\n",
      "[23]\tvalid_0's auc: 0.757333\n",
      "[24]\tvalid_0's auc: 0.757645\n",
      "[25]\tvalid_0's auc: 0.758817\n",
      "[26]\tvalid_0's auc: 0.75922\n",
      "[27]\tvalid_0's auc: 0.759231\n",
      "[28]\tvalid_0's auc: 0.759339\n",
      "[29]\tvalid_0's auc: 0.759388\n",
      "[30]\tvalid_0's auc: 0.75991\n",
      "[31]\tvalid_0's auc: 0.760415\n",
      "[32]\tvalid_0's auc: 0.760848\n",
      "[33]\tvalid_0's auc: 0.761189\n",
      "[34]\tvalid_0's auc: 0.761555\n",
      "[35]\tvalid_0's auc: 0.761651\n",
      "[36]\tvalid_0's auc: 0.762266\n",
      "[37]\tvalid_0's auc: 0.762838\n",
      "[38]\tvalid_0's auc: 0.763531\n",
      "[39]\tvalid_0's auc: 0.764283\n",
      "[40]\tvalid_0's auc: 0.764911\n",
      "[41]\tvalid_0's auc: 0.765458\n",
      "[42]\tvalid_0's auc: 0.765875\n",
      "[43]\tvalid_0's auc: 0.766051\n",
      "[44]\tvalid_0's auc: 0.766093\n",
      "[45]\tvalid_0's auc: 0.765965\n",
      "[46]\tvalid_0's auc: 0.766322\n",
      "[47]\tvalid_0's auc: 0.766526\n",
      "[48]\tvalid_0's auc: 0.76654\n",
      "[49]\tvalid_0's auc: 0.766935\n",
      "[50]\tvalid_0's auc: 0.767167\n",
      "[51]\tvalid_0's auc: 0.767322\n",
      "[52]\tvalid_0's auc: 0.767018\n",
      "[53]\tvalid_0's auc: 0.767092\n",
      "[54]\tvalid_0's auc: 0.767057\n",
      "[55]\tvalid_0's auc: 0.767067\n",
      "[56]\tvalid_0's auc: 0.767205\n",
      "[57]\tvalid_0's auc: 0.767597\n",
      "[58]\tvalid_0's auc: 0.767737\n",
      "[59]\tvalid_0's auc: 0.767933\n",
      "[60]\tvalid_0's auc: 0.768005\n",
      "[61]\tvalid_0's auc: 0.76818\n",
      "[62]\tvalid_0's auc: 0.768263\n",
      "[63]\tvalid_0's auc: 0.768212\n",
      "[64]\tvalid_0's auc: 0.768318\n",
      "[65]\tvalid_0's auc: 0.768291\n",
      "[66]\tvalid_0's auc: 0.768427\n",
      "[67]\tvalid_0's auc: 0.768029\n",
      "[68]\tvalid_0's auc: 0.768054\n",
      "[69]\tvalid_0's auc: 0.768339\n",
      "[70]\tvalid_0's auc: 0.767828\n",
      "[71]\tvalid_0's auc: 0.767979\n",
      "[72]\tvalid_0's auc: 0.767973\n",
      "[73]\tvalid_0's auc: 0.768088\n",
      "[74]\tvalid_0's auc: 0.7681\n",
      "[75]\tvalid_0's auc: 0.767867\n",
      "[76]\tvalid_0's auc: 0.767855\n",
      "[77]\tvalid_0's auc: 0.767944\n",
      "[78]\tvalid_0's auc: 0.768159\n",
      "[79]\tvalid_0's auc: 0.768158\n",
      "[80]\tvalid_0's auc: 0.768125\n",
      "[81]\tvalid_0's auc: 0.768084\n",
      "[82]\tvalid_0's auc: 0.768109\n",
      "[83]\tvalid_0's auc: 0.768049\n",
      "[84]\tvalid_0's auc: 0.768217\n",
      "[85]\tvalid_0's auc: 0.768122\n",
      "[86]\tvalid_0's auc: 0.768363\n",
      "[87]\tvalid_0's auc: 0.768336\n",
      "[88]\tvalid_0's auc: 0.768339\n",
      "[89]\tvalid_0's auc: 0.768391\n",
      "[90]\tvalid_0's auc: 0.768366\n",
      "[91]\tvalid_0's auc: 0.768445\n",
      "[92]\tvalid_0's auc: 0.768527\n",
      "[93]\tvalid_0's auc: 0.768624\n",
      "[94]\tvalid_0's auc: 0.768587\n",
      "[95]\tvalid_0's auc: 0.768563\n",
      "[96]\tvalid_0's auc: 0.768591\n",
      "[97]\tvalid_0's auc: 0.768562\n",
      "[98]\tvalid_0's auc: 0.76857\n",
      "[99]\tvalid_0's auc: 0.768497\n",
      "[100]\tvalid_0's auc: 0.768634\n",
      "[101]\tvalid_0's auc: 0.768743\n",
      "[102]\tvalid_0's auc: 0.768758\n",
      "[103]\tvalid_0's auc: 0.768519\n",
      "[104]\tvalid_0's auc: 0.768498\n",
      "[105]\tvalid_0's auc: 0.768486\n",
      "[106]\tvalid_0's auc: 0.768564\n",
      "[107]\tvalid_0's auc: 0.768635\n",
      "[108]\tvalid_0's auc: 0.768604\n",
      "[109]\tvalid_0's auc: 0.768559\n",
      "[110]\tvalid_0's auc: 0.768583\n",
      "[111]\tvalid_0's auc: 0.768637\n",
      "[112]\tvalid_0's auc: 0.768809\n",
      "[113]\tvalid_0's auc: 0.768796\n",
      "[114]\tvalid_0's auc: 0.768474\n",
      "[115]\tvalid_0's auc: 0.768452\n",
      "[116]\tvalid_0's auc: 0.768553\n",
      "[117]\tvalid_0's auc: 0.768649\n",
      "[118]\tvalid_0's auc: 0.768742\n",
      "[119]\tvalid_0's auc: 0.768737\n",
      "[120]\tvalid_0's auc: 0.768746\n",
      "Did not meet early stopping. Best iteration is:\n",
      "[112]\tvalid_0's auc: 0.768809\n",
      "{'auc': {'trn': [0.8300382899832853], 'val': [0.7688090012263258]}}\n",
      "\n",
      "{'trn_auc_mean': 0.8300382899832853, 'val_auc_mean': 0.7688090012263258}\n",
      "LGBMClassifier \n",
      "\n",
      "{'auc': {'trn': [0.8462231711729142], 'val': [0]}}\n",
      "\n",
      "{'trn_auc_mean': 0.8462231711729142, 'val_auc_mean': 0.0}\n",
      "CPU times: user 5min 8s, sys: 11.7 s, total: 5min 19s\n",
      "Wall time: 1min 16s\n"
     ]
    }
   ],
   "source": [
    "%%time\n",
    "results = None\n",
    "output = []\n",
    "for i, w in enumerate(weeks[1:]):\n",
    "    train, val, test = weeks[i], w, weeks[-1]\n",
    "    X_train, y_train = train.drop(id_cols + [target_col], axis=1), \\\n",
    "                       train[target_col]\n",
    "    if pred_col in val.columns: # when test acts as validation\n",
    "        X_val, y_val = None, None\n",
    "    else:\n",
    "        X_val, y_val = val.drop(id_cols + [target_col], axis=1), \\\n",
    "                       val[target_col]\n",
    "    X_test = test.drop(id_cols + [target_col, pred_col], axis=1)\n",
    "        \n",
    "    y_test, _, results, model = run_model(\n",
    "            LGBMClassifier(n_estimators=120),\n",
    "            X_train, y_train, X_val, y_val, X_test,\n",
    "            metric_names, results, \n",
    "            params_desc='n_estimators=120',\n",
    "            dataset_desc=f'{week_labels[i]}_diffcounts', \n",
    "            early_stopping=True)\n",
    "    output.append([y_test, model])"
   ]
  },
  {
   "cell_type": "code",
   "execution_count": 58,
   "metadata": {},
   "outputs": [
    {
     "data": {
      "text/plain": [
       "9"
      ]
     },
     "execution_count": 58,
     "metadata": {},
     "output_type": "execute_result"
    }
   ],
   "source": [
    "len(weeks)"
   ]
  },
  {
   "cell_type": "code",
   "execution_count": 59,
   "metadata": {},
   "outputs": [
    {
     "data": {
      "text/html": [
       "<div>\n",
       "<style scoped>\n",
       "    .dataframe tbody tr th:only-of-type {\n",
       "        vertical-align: middle;\n",
       "    }\n",
       "\n",
       "    .dataframe tbody tr th {\n",
       "        vertical-align: top;\n",
       "    }\n",
       "\n",
       "    .dataframe thead th {\n",
       "        text-align: right;\n",
       "    }\n",
       "</style>\n",
       "<table border=\"1\" class=\"dataframe\">\n",
       "  <thead>\n",
       "    <tr style=\"text-align: right;\">\n",
       "      <th></th>\n",
       "      <th>dataset</th>\n",
       "      <th>model</th>\n",
       "      <th>params</th>\n",
       "      <th>time</th>\n",
       "      <th>trn_auc_mean</th>\n",
       "      <th>val_auc_mean</th>\n",
       "    </tr>\n",
       "  </thead>\n",
       "  <tbody>\n",
       "    <tr>\n",
       "      <th>0</th>\n",
       "      <td>20180226_diffcounts</td>\n",
       "      <td>LGBMClassifier</td>\n",
       "      <td>n_estimators=120</td>\n",
       "      <td>13.23</td>\n",
       "      <td>0.803076</td>\n",
       "      <td>0.653909</td>\n",
       "    </tr>\n",
       "    <tr>\n",
       "      <th>1</th>\n",
       "      <td>20180305_diffcounts</td>\n",
       "      <td>LGBMClassifier</td>\n",
       "      <td>n_estimators=120</td>\n",
       "      <td>8.24</td>\n",
       "      <td>0.760430</td>\n",
       "      <td>0.693906</td>\n",
       "    </tr>\n",
       "    <tr>\n",
       "      <th>2</th>\n",
       "      <td>20180312_diffcounts</td>\n",
       "      <td>LGBMClassifier</td>\n",
       "      <td>n_estimators=120</td>\n",
       "      <td>9.69</td>\n",
       "      <td>0.779377</td>\n",
       "      <td>0.729058</td>\n",
       "    </tr>\n",
       "    <tr>\n",
       "      <th>3</th>\n",
       "      <td>20180319_diffcounts</td>\n",
       "      <td>LGBMClassifier</td>\n",
       "      <td>n_estimators=120</td>\n",
       "      <td>9.33</td>\n",
       "      <td>0.767826</td>\n",
       "      <td>0.678019</td>\n",
       "    </tr>\n",
       "    <tr>\n",
       "      <th>4</th>\n",
       "      <td>20180326_diffcounts</td>\n",
       "      <td>LGBMClassifier</td>\n",
       "      <td>n_estimators=120</td>\n",
       "      <td>9.21</td>\n",
       "      <td>0.788281</td>\n",
       "      <td>0.702814</td>\n",
       "    </tr>\n",
       "    <tr>\n",
       "      <th>5</th>\n",
       "      <td>20180402_diffcounts</td>\n",
       "      <td>LGBMClassifier</td>\n",
       "      <td>n_estimators=120</td>\n",
       "      <td>8.60</td>\n",
       "      <td>0.795880</td>\n",
       "      <td>0.740558</td>\n",
       "    </tr>\n",
       "    <tr>\n",
       "      <th>6</th>\n",
       "      <td>20180409_diffcounts</td>\n",
       "      <td>LGBMClassifier</td>\n",
       "      <td>n_estimators=120</td>\n",
       "      <td>9.79</td>\n",
       "      <td>0.830038</td>\n",
       "      <td>0.768809</td>\n",
       "    </tr>\n",
       "    <tr>\n",
       "      <th>7</th>\n",
       "      <td>20180416_diffcounts</td>\n",
       "      <td>LGBMClassifier</td>\n",
       "      <td>n_estimators=120</td>\n",
       "      <td>6.08</td>\n",
       "      <td>0.846223</td>\n",
       "      <td>0.000000</td>\n",
       "    </tr>\n",
       "  </tbody>\n",
       "</table>\n",
       "</div>"
      ],
      "text/plain": [
       "               dataset           model            params   time  trn_auc_mean  \\\n",
       "0  20180226_diffcounts  LGBMClassifier  n_estimators=120  13.23      0.803076   \n",
       "1  20180305_diffcounts  LGBMClassifier  n_estimators=120   8.24      0.760430   \n",
       "2  20180312_diffcounts  LGBMClassifier  n_estimators=120   9.69      0.779377   \n",
       "3  20180319_diffcounts  LGBMClassifier  n_estimators=120   9.33      0.767826   \n",
       "4  20180326_diffcounts  LGBMClassifier  n_estimators=120   9.21      0.788281   \n",
       "5  20180402_diffcounts  LGBMClassifier  n_estimators=120   8.60      0.795880   \n",
       "6  20180409_diffcounts  LGBMClassifier  n_estimators=120   9.79      0.830038   \n",
       "7  20180416_diffcounts  LGBMClassifier  n_estimators=120   6.08      0.846223   \n",
       "\n",
       "   val_auc_mean  \n",
       "0      0.653909  \n",
       "1      0.693906  \n",
       "2      0.729058  \n",
       "3      0.678019  \n",
       "4      0.702814  \n",
       "5      0.740558  \n",
       "6      0.768809  \n",
       "7      0.000000  "
      ]
     },
     "execution_count": 59,
     "metadata": {},
     "output_type": "execute_result"
    }
   ],
   "source": [
    "results"
   ]
  },
  {
   "cell_type": "code",
   "execution_count": 60,
   "metadata": {},
   "outputs": [
    {
     "data": {
      "text/plain": [
       "array([[0.03580866, 0.14694659, 0.02302335, 0.04395482, 0.01545531],\n",
       "       [0.03818318, 0.10934833, 0.03982117, 0.09145139, 0.02827422],\n",
       "       [0.03618991, 0.08475688, 0.06059421, 0.0984669 , 0.01857926],\n",
       "       [0.03088459, 0.08189259, 0.03248716, 0.07101362, 0.02575122],\n",
       "       [0.03759977, 0.10813553, 0.02534326, 0.03838219, 0.02556227],\n",
       "       [0.05885444, 0.14842988, 0.0350036 , 0.11853155, 0.03105772],\n",
       "       [0.06771675, 0.13537322, 0.01661039, 0.08698395, 0.01649831],\n",
       "       [0.03014583, 0.06825933, 0.0277197 , 0.06551607, 0.01953233]])"
      ]
     },
     "execution_count": 60,
     "metadata": {},
     "output_type": "execute_result"
    }
   ],
   "source": [
    "# first 5 predictions (2018 data)\n",
    "np.array([x[0] for x in output])[:,:5]"
   ]
  },
  {
   "cell_type": "code",
   "execution_count": 61,
   "metadata": {},
   "outputs": [],
   "source": [
    "test[target_col] = np.mean([x[0] for x in output], axis=0)"
   ]
  },
  {
   "cell_type": "markdown",
   "metadata": {},
   "source": [
    "## Submission"
   ]
  },
  {
   "cell_type": "code",
   "execution_count": 62,
   "metadata": {},
   "outputs": [],
   "source": [
    "submission = pd.read_csv(RAW/'sample_submission.csv', low_memory=False)\n",
    "submission = pd.merge(submission[['PredictionIdx']], test[['PredictionIdx', target_col]], \n",
    "                      how='left', on='PredictionIdx')"
   ]
  },
  {
   "cell_type": "code",
   "execution_count": 63,
   "metadata": {},
   "outputs": [
    {
     "data": {
      "text/plain": [
       "count    484758.000000\n",
       "mean          0.031387\n",
       "std           0.030821\n",
       "min           0.004837\n",
       "25%           0.014218\n",
       "50%           0.025123\n",
       "75%           0.039526\n",
       "max           0.806732\n",
       "Name: CustomerInterest, dtype: float64"
      ]
     },
     "execution_count": 63,
     "metadata": {},
     "output_type": "execute_result"
    }
   ],
   "source": [
    "submission[target_col].describe()"
   ]
  },
  {
   "cell_type": "code",
   "execution_count": 64,
   "metadata": {},
   "outputs": [
    {
     "data": {
      "text/html": [
       "<div>\n",
       "<style scoped>\n",
       "    .dataframe tbody tr th:only-of-type {\n",
       "        vertical-align: middle;\n",
       "    }\n",
       "\n",
       "    .dataframe tbody tr th {\n",
       "        vertical-align: top;\n",
       "    }\n",
       "\n",
       "    .dataframe thead th {\n",
       "        text-align: right;\n",
       "    }\n",
       "</style>\n",
       "<table border=\"1\" class=\"dataframe\">\n",
       "  <thead>\n",
       "    <tr style=\"text-align: right;\">\n",
       "      <th></th>\n",
       "      <th>PredictionIdx</th>\n",
       "      <th>CustomerInterest</th>\n",
       "    </tr>\n",
       "  </thead>\n",
       "  <tbody>\n",
       "    <tr>\n",
       "      <th>0</th>\n",
       "      <td>a1e0d80784</td>\n",
       "      <td>0.041923</td>\n",
       "    </tr>\n",
       "    <tr>\n",
       "      <th>1</th>\n",
       "      <td>c2cc6cc2a8</td>\n",
       "      <td>0.110393</td>\n",
       "    </tr>\n",
       "    <tr>\n",
       "      <th>2</th>\n",
       "      <td>a8e94f6344</td>\n",
       "      <td>0.032575</td>\n",
       "    </tr>\n",
       "    <tr>\n",
       "      <th>3</th>\n",
       "      <td>758bae1e35</td>\n",
       "      <td>0.076788</td>\n",
       "    </tr>\n",
       "    <tr>\n",
       "      <th>4</th>\n",
       "      <td>02ab378ee8</td>\n",
       "      <td>0.022589</td>\n",
       "    </tr>\n",
       "  </tbody>\n",
       "</table>\n",
       "</div>"
      ],
      "text/plain": [
       "  PredictionIdx  CustomerInterest\n",
       "0    a1e0d80784          0.041923\n",
       "1    c2cc6cc2a8          0.110393\n",
       "2    a8e94f6344          0.032575\n",
       "3    758bae1e35          0.076788\n",
       "4    02ab378ee8          0.022589"
      ]
     },
     "execution_count": 64,
     "metadata": {},
     "output_type": "execute_result"
    }
   ],
   "source": [
    "submission.head()"
   ]
  },
  {
   "cell_type": "code",
   "execution_count": 65,
   "metadata": {},
   "outputs": [],
   "source": [
    "submission.to_csv(SUBMISSIONS/'13-lgbm_8weeks_diffscountsprices_0226-0416.csv', index=False)"
   ]
  },
  {
   "cell_type": "markdown",
   "metadata": {},
   "source": [
    "## Analysis"
   ]
  },
  {
   "cell_type": "code",
   "execution_count": 73,
   "metadata": {},
   "outputs": [
    {
     "data": {
      "text/plain": [
       "<matplotlib.axes._subplots.AxesSubplot at 0x7f388c4e9358>"
      ]
     },
     "execution_count": 73,
     "metadata": {},
     "output_type": "execute_result"
    },
    {
     "data": {
      "image/png": "[encoded data removed]",
      "text/plain": [
       "<matplotlib.figure.Figure at 0x7f38ae1d1d30>"
      ]
     },
     "metadata": {
      "image/png": {
       "height": 875,
       "width": 460
      }
     },
     "output_type": "display_data"
    }
   ],
   "source": [
    "from lightgbm import plot_importance\n",
    "plot_importance(output[0][1], figsize=(5,15))"
   ]
  },
  {
   "cell_type": "code",
   "execution_count": null,
   "metadata": {},
   "outputs": [],
   "source": []
  }
 ],
 "metadata": {
  "kernelspec": {
   "display_name": "Python 3",
   "language": "python",
   "name": "python3"
  },
  "language_info": {
   "codemirror_mode": {
    "name": "ipython",
    "version": 3
   },
   "file_extension": ".py",
   "mimetype": "text/x-python",
   "name": "python",
   "nbconvert_exporter": "python",
   "pygments_lexer": "ipython3",
   "version": "3.6.4"
  }
 },
 "nbformat": 4,
 "nbformat_minor": 2
}
