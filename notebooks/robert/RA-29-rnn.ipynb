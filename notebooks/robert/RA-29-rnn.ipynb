{
 "cells": [
  {
   "cell_type": "code",
   "execution_count": 1,
   "metadata": {},
   "outputs": [],
   "source": [
    "%load_ext autoreload\n",
    "%autoreload 2\n",
    "%matplotlib inline\n",
    "%config InlineBackend.figure_format = 'retina'\n",
    "\n",
    "import os, math\n",
    "import numpy as np, pandas as pd\n",
    "import matplotlib.pyplot as plt, seaborn as sns\n",
    "from tqdm import tqdm, tqdm_notebook\n",
    "from pathlib import Path\n",
    "pd.set_option('display.max_columns', 1000)\n",
    "pd.set_option('display.max_rows', 400)\n",
    "sns.set()\n",
    "\n",
    "os.chdir('../..')\n",
    "from src import utils"
   ]
  },
  {
   "cell_type": "code",
   "execution_count": 2,
   "metadata": {},
   "outputs": [],
   "source": [
    "DATA        = Path('data')\n",
    "RAW         = DATA/'raw'\n",
    "INTERIM     = DATA/'interim'\n",
    "PROCESSED   = DATA/'processed'\n",
    "SUBMISSIONS = DATA/'submissions'"
   ]
  },
  {
   "cell_type": "code",
   "execution_count": 3,
   "metadata": {},
   "outputs": [],
   "source": [
    "challenge  = pd.read_csv(RAW/'Challenge_20180423.csv', low_memory=False)\n",
    "customer   = pd.read_csv(RAW/'Customer.csv', low_memory=False)\n",
    "isin       = pd.read_csv(RAW/'Isin.csv', low_memory=False)\n",
    "# submission = pd.read_csv(RAW/'sample_submission.csv', low_memory=False)\n",
    "trade      = pd.read_csv(RAW/'Trade.csv', low_memory=False)\n",
    "# market     = pd.read_csv(RAW/'Market.csv', low_memory=False)"
   ]
  },
  {
   "cell_type": "code",
   "execution_count": 4,
   "metadata": {},
   "outputs": [],
   "source": [
    "from src.utils import get_weeks\n",
    "week_labels = get_weeks(day_from=20160104, num_weeks=121)[104:]"
   ]
  },
  {
   "cell_type": "code",
   "execution_count": 5,
   "metadata": {},
   "outputs": [
    {
     "name": "stdout",
     "output_type": "stream",
     "text": [
      "[20180101, 20180108, 20180115, 20180122, 20180129, 20180205, 20180212, 20180219, 20180226, 20180305, 20180312, 20180319, 20180326, 20180402, 20180409, 20180416, 20180423]\n"
     ]
    }
   ],
   "source": [
    "print(week_labels)"
   ]
  },
  {
   "cell_type": "code",
   "execution_count": 6,
   "metadata": {},
   "outputs": [
    {
     "data": {
      "text/html": [
       "<div>\n",
       "<style scoped>\n",
       "    .dataframe tbody tr th:only-of-type {\n",
       "        vertical-align: middle;\n",
       "    }\n",
       "\n",
       "    .dataframe tbody tr th {\n",
       "        vertical-align: top;\n",
       "    }\n",
       "\n",
       "    .dataframe thead th {\n",
       "        text-align: right;\n",
       "    }\n",
       "</style>\n",
       "<table border=\"1\" class=\"dataframe\">\n",
       "  <thead>\n",
       "    <tr style=\"text-align: right;\">\n",
       "      <th></th>\n",
       "      <th>TradeDateKey</th>\n",
       "      <th>CustomerIdx</th>\n",
       "      <th>IsinIdx</th>\n",
       "      <th>BuySell</th>\n",
       "      <th>NotionalEUR</th>\n",
       "      <th>Price</th>\n",
       "      <th>TradeStatus</th>\n",
       "      <th>CustomerInterest</th>\n",
       "    </tr>\n",
       "  </thead>\n",
       "  <tbody>\n",
       "    <tr>\n",
       "      <th>0</th>\n",
       "      <td>20161207</td>\n",
       "      <td>2789</td>\n",
       "      <td>8478</td>\n",
       "      <td>Sell</td>\n",
       "      <td>653168.0</td>\n",
       "      <td>0.0</td>\n",
       "      <td>Unknown</td>\n",
       "      <td>1.0</td>\n",
       "    </tr>\n",
       "    <tr>\n",
       "      <th>1</th>\n",
       "      <td>20170329</td>\n",
       "      <td>2574</td>\n",
       "      <td>14562</td>\n",
       "      <td>Buy</td>\n",
       "      <td>1656487.0</td>\n",
       "      <td>0.0</td>\n",
       "      <td>Unknown</td>\n",
       "      <td>1.0</td>\n",
       "    </tr>\n",
       "    <tr>\n",
       "      <th>2</th>\n",
       "      <td>20170418</td>\n",
       "      <td>2574</td>\n",
       "      <td>4747</td>\n",
       "      <td>Buy</td>\n",
       "      <td>939673.0</td>\n",
       "      <td>0.0</td>\n",
       "      <td>Unknown</td>\n",
       "      <td>1.0</td>\n",
       "    </tr>\n",
       "    <tr>\n",
       "      <th>3</th>\n",
       "      <td>20170310</td>\n",
       "      <td>2574</td>\n",
       "      <td>9885</td>\n",
       "      <td>Sell</td>\n",
       "      <td>708082.0</td>\n",
       "      <td>0.0</td>\n",
       "      <td>Unknown</td>\n",
       "      <td>1.0</td>\n",
       "    </tr>\n",
       "    <tr>\n",
       "      <th>4</th>\n",
       "      <td>20161116</td>\n",
       "      <td>2574</td>\n",
       "      <td>8885</td>\n",
       "      <td>Buy</td>\n",
       "      <td>1147709.0</td>\n",
       "      <td>0.0</td>\n",
       "      <td>Unknown</td>\n",
       "      <td>1.0</td>\n",
       "    </tr>\n",
       "  </tbody>\n",
       "</table>\n",
       "</div>"
      ],
      "text/plain": [
       "   TradeDateKey  CustomerIdx  IsinIdx BuySell  NotionalEUR  Price TradeStatus  \\\n",
       "0      20161207         2789     8478    Sell     653168.0    0.0     Unknown   \n",
       "1      20170329         2574    14562     Buy    1656487.0    0.0     Unknown   \n",
       "2      20170418         2574     4747     Buy     939673.0    0.0     Unknown   \n",
       "3      20170310         2574     9885    Sell     708082.0    0.0     Unknown   \n",
       "4      20161116         2574     8885     Buy    1147709.0    0.0     Unknown   \n",
       "\n",
       "   CustomerInterest  \n",
       "0               1.0  \n",
       "1               1.0  \n",
       "2               1.0  \n",
       "3               1.0  \n",
       "4               1.0  "
      ]
     },
     "execution_count": 6,
     "metadata": {},
     "output_type": "execute_result"
    }
   ],
   "source": [
    "trade.head()"
   ]
  },
  {
   "cell_type": "code",
   "execution_count": 7,
   "metadata": {},
   "outputs": [],
   "source": [
    "weekly_trades = trade[trade.TradeDateKey > 20180000].copy()"
   ]
  },
  {
   "cell_type": "code",
   "execution_count": 8,
   "metadata": {},
   "outputs": [],
   "source": [
    "from src.utils import week_num"
   ]
  },
  {
   "cell_type": "code",
   "execution_count": 9,
   "metadata": {},
   "outputs": [],
   "source": [
    "weekly_trades['week'] = weekly_trades.TradeDateKey.apply(\n",
    "                            lambda x: week_num(week_labels, x))"
   ]
  },
  {
   "cell_type": "code",
   "execution_count": 10,
   "metadata": {},
   "outputs": [
    {
     "data": {
      "text/html": [
       "<div>\n",
       "<style scoped>\n",
       "    .dataframe tbody tr th:only-of-type {\n",
       "        vertical-align: middle;\n",
       "    }\n",
       "\n",
       "    .dataframe tbody tr th {\n",
       "        vertical-align: top;\n",
       "    }\n",
       "\n",
       "    .dataframe thead th {\n",
       "        text-align: right;\n",
       "    }\n",
       "</style>\n",
       "<table border=\"1\" class=\"dataframe\">\n",
       "  <thead>\n",
       "    <tr style=\"text-align: right;\">\n",
       "      <th></th>\n",
       "      <th>TradeDateKey</th>\n",
       "      <th>CustomerIdx</th>\n",
       "      <th>IsinIdx</th>\n",
       "      <th>BuySell</th>\n",
       "      <th>NotionalEUR</th>\n",
       "      <th>Price</th>\n",
       "      <th>TradeStatus</th>\n",
       "      <th>CustomerInterest</th>\n",
       "      <th>week</th>\n",
       "    </tr>\n",
       "  </thead>\n",
       "  <tbody>\n",
       "    <tr>\n",
       "      <th>1527</th>\n",
       "      <td>20180201</td>\n",
       "      <td>2447</td>\n",
       "      <td>19665</td>\n",
       "      <td>Sell</td>\n",
       "      <td>748160.0</td>\n",
       "      <td>102.650</td>\n",
       "      <td>Done</td>\n",
       "      <td>1.0</td>\n",
       "      <td>4</td>\n",
       "    </tr>\n",
       "    <tr>\n",
       "      <th>1528</th>\n",
       "      <td>20180220</td>\n",
       "      <td>2447</td>\n",
       "      <td>18972</td>\n",
       "      <td>Sell</td>\n",
       "      <td>2959167.0</td>\n",
       "      <td>102.093</td>\n",
       "      <td>NotTraded</td>\n",
       "      <td>1.0</td>\n",
       "      <td>7</td>\n",
       "    </tr>\n",
       "    <tr>\n",
       "      <th>1529</th>\n",
       "      <td>20180108</td>\n",
       "      <td>2554</td>\n",
       "      <td>24873</td>\n",
       "      <td>Buy</td>\n",
       "      <td>2815003.0</td>\n",
       "      <td>103.877</td>\n",
       "      <td>Done</td>\n",
       "      <td>1.0</td>\n",
       "      <td>1</td>\n",
       "    </tr>\n",
       "    <tr>\n",
       "      <th>1530</th>\n",
       "      <td>20180108</td>\n",
       "      <td>2554</td>\n",
       "      <td>19072</td>\n",
       "      <td>Sell</td>\n",
       "      <td>2815003.0</td>\n",
       "      <td>121.963</td>\n",
       "      <td>Done</td>\n",
       "      <td>1.0</td>\n",
       "      <td>1</td>\n",
       "    </tr>\n",
       "    <tr>\n",
       "      <th>1538</th>\n",
       "      <td>20180116</td>\n",
       "      <td>1922</td>\n",
       "      <td>25986</td>\n",
       "      <td>Buy</td>\n",
       "      <td>601586.0</td>\n",
       "      <td>97.984</td>\n",
       "      <td>Done</td>\n",
       "      <td>1.0</td>\n",
       "      <td>2</td>\n",
       "    </tr>\n",
       "  </tbody>\n",
       "</table>\n",
       "</div>"
      ],
      "text/plain": [
       "      TradeDateKey  CustomerIdx  IsinIdx BuySell  NotionalEUR    Price  \\\n",
       "1527      20180201         2447    19665    Sell     748160.0  102.650   \n",
       "1528      20180220         2447    18972    Sell    2959167.0  102.093   \n",
       "1529      20180108         2554    24873     Buy    2815003.0  103.877   \n",
       "1530      20180108         2554    19072    Sell    2815003.0  121.963   \n",
       "1538      20180116         1922    25986     Buy     601586.0   97.984   \n",
       "\n",
       "     TradeStatus  CustomerInterest  week  \n",
       "1527        Done               1.0     4  \n",
       "1528   NotTraded               1.0     7  \n",
       "1529        Done               1.0     1  \n",
       "1530        Done               1.0     1  \n",
       "1538        Done               1.0     2  "
      ]
     },
     "execution_count": 10,
     "metadata": {},
     "output_type": "execute_result"
    }
   ],
   "source": [
    "weekly_trades.head()"
   ]
  },
  {
   "cell_type": "code",
   "execution_count": 11,
   "metadata": {},
   "outputs": [],
   "source": [
    "weekly_trades = weekly_trades.groupby(['CustomerIdx', 'IsinIdx', 'BuySell', 'week'],\n",
    "                                      as_index=False)['CustomerInterest'].agg('max')"
   ]
  },
  {
   "cell_type": "code",
   "execution_count": 98,
   "metadata": {},
   "outputs": [
    {
     "data": {
      "text/html": [
       "<div>\n",
       "<style scoped>\n",
       "    .dataframe tbody tr th:only-of-type {\n",
       "        vertical-align: middle;\n",
       "    }\n",
       "\n",
       "    .dataframe tbody tr th {\n",
       "        vertical-align: top;\n",
       "    }\n",
       "\n",
       "    .dataframe thead th {\n",
       "        text-align: right;\n",
       "    }\n",
       "</style>\n",
       "<table border=\"1\" class=\"dataframe\">\n",
       "  <thead>\n",
       "    <tr style=\"text-align: right;\">\n",
       "      <th></th>\n",
       "      <th>CustomerIdx</th>\n",
       "      <th>IsinIdx</th>\n",
       "      <th>BuySell</th>\n",
       "      <th>week</th>\n",
       "      <th>CustomerInterest</th>\n",
       "    </tr>\n",
       "  </thead>\n",
       "  <tbody>\n",
       "    <tr>\n",
       "      <th>748409</th>\n",
       "      <td>3247</td>\n",
       "      <td>27283</td>\n",
       "      <td>Sell</td>\n",
       "      <td>15</td>\n",
       "      <td>1.0</td>\n",
       "    </tr>\n",
       "    <tr>\n",
       "      <th>330738</th>\n",
       "      <td>1964</td>\n",
       "      <td>2615</td>\n",
       "      <td>Buy</td>\n",
       "      <td>8</td>\n",
       "      <td>0.0</td>\n",
       "    </tr>\n",
       "    <tr>\n",
       "      <th>712287</th>\n",
       "      <td>3032</td>\n",
       "      <td>9330</td>\n",
       "      <td>Buy</td>\n",
       "      <td>4</td>\n",
       "      <td>0.0</td>\n",
       "    </tr>\n",
       "    <tr>\n",
       "      <th>242915</th>\n",
       "      <td>1622</td>\n",
       "      <td>15261</td>\n",
       "      <td>Sell</td>\n",
       "      <td>6</td>\n",
       "      <td>1.0</td>\n",
       "    </tr>\n",
       "    <tr>\n",
       "      <th>163641</th>\n",
       "      <td>958</td>\n",
       "      <td>25333</td>\n",
       "      <td>Buy</td>\n",
       "      <td>4</td>\n",
       "      <td>0.0</td>\n",
       "    </tr>\n",
       "  </tbody>\n",
       "</table>\n",
       "</div>"
      ],
      "text/plain": [
       "        CustomerIdx  IsinIdx BuySell  week  CustomerInterest\n",
       "748409         3247    27283    Sell    15               1.0\n",
       "330738         1964     2615     Buy     8               0.0\n",
       "712287         3032     9330     Buy     4               0.0\n",
       "242915         1622    15261    Sell     6               1.0\n",
       "163641          958    25333     Buy     4               0.0"
      ]
     },
     "execution_count": 98,
     "metadata": {},
     "output_type": "execute_result"
    }
   ],
   "source": [
    "weekly_trades.sample(5)"
   ]
  },
  {
   "cell_type": "code",
   "execution_count": 13,
   "metadata": {},
   "outputs": [
    {
     "data": {
      "text/html": [
       "<div>\n",
       "<style scoped>\n",
       "    .dataframe tbody tr th:only-of-type {\n",
       "        vertical-align: middle;\n",
       "    }\n",
       "\n",
       "    .dataframe tbody tr th {\n",
       "        vertical-align: top;\n",
       "    }\n",
       "\n",
       "    .dataframe thead th {\n",
       "        text-align: right;\n",
       "    }\n",
       "</style>\n",
       "<table border=\"1\" class=\"dataframe\">\n",
       "  <thead>\n",
       "    <tr style=\"text-align: right;\">\n",
       "      <th></th>\n",
       "      <th>CustomerIdx</th>\n",
       "      <th>IsinIdx</th>\n",
       "      <th>BuySell</th>\n",
       "      <th>week</th>\n",
       "      <th>CustomerInterest</th>\n",
       "    </tr>\n",
       "  </thead>\n",
       "  <tbody>\n",
       "    <tr>\n",
       "      <th>0</th>\n",
       "      <td>0</td>\n",
       "      <td>24944</td>\n",
       "      <td>Sell</td>\n",
       "      <td>10</td>\n",
       "      <td>1.0</td>\n",
       "    </tr>\n",
       "  </tbody>\n",
       "</table>\n",
       "</div>"
      ],
      "text/plain": [
       "   CustomerIdx  IsinIdx BuySell  week  CustomerInterest\n",
       "0            0    24944    Sell    10               1.0"
      ]
     },
     "execution_count": 13,
     "metadata": {},
     "output_type": "execute_result"
    }
   ],
   "source": [
    "weekly_trades[(weekly_trades.CustomerIdx==0) & (weekly_trades.IsinIdx==24944)]"
   ]
  },
  {
   "cell_type": "code",
   "execution_count": 14,
   "metadata": {},
   "outputs": [
    {
     "data": {
      "text/plain": [
       "15"
      ]
     },
     "execution_count": 14,
     "metadata": {},
     "output_type": "execute_result"
    }
   ],
   "source": [
    "weekly_trades.week.max()"
   ]
  },
  {
   "cell_type": "code",
   "execution_count": 15,
   "metadata": {},
   "outputs": [],
   "source": [
    "n_weeks = weekly_trades.week.nunique()"
   ]
  },
  {
   "cell_type": "code",
   "execution_count": 17,
   "metadata": {},
   "outputs": [
    {
     "name": "stdout",
     "output_type": "stream",
     "text": [
      "CPU times: user 31.7 s, sys: 104 ms, total: 31.8 s\n",
      "Wall time: 31.8 s\n"
     ]
    }
   ],
   "source": [
    "%%time\n",
    "interests = {} # 5 GB of RAM\n",
    "for idx, row in weekly_trades.drop_duplicates(\n",
    "                        ['CustomerIdx', 'IsinIdx']).iterrows():\n",
    "    for b in ['Buy', 'Sell']:\n",
    "        interests[(row.CustomerIdx, row.IsinIdx, b)] = [0] * n_weeks"
   ]
  },
  {
   "cell_type": "code",
   "execution_count": 18,
   "metadata": {},
   "outputs": [
    {
     "name": "stdout",
     "output_type": "stream",
     "text": [
      "CPU times: user 18 s, sys: 28 ms, total: 18 s\n",
      "Wall time: 18 s\n"
     ]
    }
   ],
   "source": [
    "%%time\n",
    "for idx, row in challenge.drop_duplicates(\n",
    "                        ['CustomerIdx', 'IsinIdx']).iterrows():\n",
    "    for b in ['Buy', 'Sell']:\n",
    "        interests[(row.CustomerIdx, row.IsinIdx, b)] = [0] * n_weeks"
   ]
  },
  {
   "cell_type": "code",
   "execution_count": 19,
   "metadata": {},
   "outputs": [
    {
     "data": {
      "text/plain": [
       "985972"
      ]
     },
     "execution_count": 19,
     "metadata": {},
     "output_type": "execute_result"
    }
   ],
   "source": [
    "len(interests) # vs 985,972 110,182,700"
   ]
  },
  {
   "cell_type": "code",
   "execution_count": 16,
   "metadata": {},
   "outputs": [
    {
     "name": "stdout",
     "output_type": "stream",
     "text": [
      "CPU times: user 2min 18s, sys: 9.22 s, total: 2min 27s\n",
      "Wall time: 2min 27s\n"
     ]
    }
   ],
   "source": [
    "# %%time\n",
    "# interests = {} # 5 GB of RAM\n",
    "# for cIdx in weekly_trades.CustomerIdx.unique():\n",
    "#     for iIdx in weekly_trades.IsinIdx.unique():\n",
    "#         for b in ['Buy', 'Sell']:\n",
    "#             interests[(cIdx, iIdx, b)] = [0] * n_weeks"
   ]
  },
  {
   "cell_type": "code",
   "execution_count": 25,
   "metadata": {},
   "outputs": [
    {
     "data": {
      "application/vnd.jupyter.widget-view+json": {
       "model_id": "a3248c33a4ba44839960fd7a7ac97951",
       "version_major": 2,
       "version_minor": 0
      },
      "text/html": [
       "<p>Failed to display Jupyter Widget of type <code>HBox</code>.</p>\n",
       "<p>\n",
       "  If you're reading this message in the Jupyter Notebook or JupyterLab Notebook, it may mean\n",
       "  that the widgets JavaScript is still loading. If this message persists, it\n",
       "  likely means that the widgets JavaScript library is either not installed or\n",
       "  not enabled. See the <a href=\"https://ipywidgets.readthedocs.io/en/stable/user_install.html\">Jupyter\n",
       "  Widgets Documentation</a> for setup instructions.\n",
       "</p>\n",
       "<p>\n",
       "  If you're reading this message in another frontend (for example, a static\n",
       "  rendering on GitHub or <a href=\"https://nbviewer.jupyter.org/\">NBViewer</a>),\n",
       "  it may mean that your frontend doesn't currently support widgets.\n",
       "</p>\n"
      ],
      "text/plain": [
       "HBox(children=(IntProgress(value=0, max=762667), HTML(value='')))"
      ]
     },
     "metadata": {},
     "output_type": "display_data"
    },
    {
     "name": "stdout",
     "output_type": "stream",
     "text": [
      "\n",
      "CPU times: user 1min, sys: 480 ms, total: 1min\n",
      "Wall time: 1min\n"
     ]
    }
   ],
   "source": [
    "%%time\n",
    "from tqdm import tqdm_notebook\n",
    "for idx, row in tqdm_notebook(weekly_trades.iterrows(), total=len(weekly_trades)):\n",
    "    interests[(row.CustomerIdx, row.IsinIdx, row.BuySell)][row.week] = row.CustomerInterest"
   ]
  },
  {
   "cell_type": "code",
   "execution_count": 26,
   "metadata": {},
   "outputs": [],
   "source": [
    "import pickle\n",
    "with open(INTERIM/'interest_sequences.pkl', 'wb') as f:\n",
    "    pickle.dump(interests, f, pickle.HIGHEST_PROTOCOL)"
   ]
  },
  {
   "cell_type": "code",
   "execution_count": 152,
   "metadata": {},
   "outputs": [],
   "source": [
    "import torch\n",
    "import torch.utils.data\n",
    "import torch.nn as nn\n",
    "import torch.nn.functional as F\n",
    "from torch.autograd import Variable\n",
    "from torch import optim"
   ]
  },
  {
   "cell_type": "code",
   "execution_count": 121,
   "metadata": {},
   "outputs": [],
   "source": [
    "# params: (input_size, hidden_size, num_layers, bias, \n",
    "#          batch_first, dropout, bidirectional)\n",
    "#   input (seq_len, batch, input_size)\n",
    "#   (h_0, c_0) (num_layers * num_directions, batch, hidden_size)\n",
    "#   output (seq_len, batch, hidden_size * num_directions)\n",
    "\n",
    "class LSTMClassifier(nn.Module):\n",
    "    def __init__(self, input_sz, hidden_sz, n_layers, drop=0.1):\n",
    "        super().__init__()\n",
    "        self.input_sz = input_sz\n",
    "        self.hidden_sz = hidden_sz\n",
    "        self.n_layers = n_layers\n",
    "        \n",
    "        self.lstm = nn.LSTM(input_sz, hidden_sz, n_layers, \n",
    "                            batch_first=False, dropout=drop)\n",
    "        self.out = nn.Linear(hidden_sz, 1) # output_sz 1\n",
    "        \n",
    "    def forward(self, sequence, hidden):\n",
    "        # or transpose if batch_first = False\n",
    "        # inp = sequence.view(batch_sz, -1, self.input_sz) \n",
    "        # h0 = self.init_hidden()\n",
    "        # seq = (seq_len=1, batch, input_sz=1)\n",
    "        out, hidden = self.lstm(sequence, hidden)\n",
    "        out = self.out(out[-1])\n",
    "        return out, hidden\n",
    "        \n",
    "    def init_hidden(self, batch_sz):\n",
    "        h0 = torch.zeros(self.n_layers, batch_sz, self.hidden_sz)\n",
    "        c0 = torch.zeros(self.n_layers, batch_sz, self.hidden_sz)\n",
    "        return (h0, c0)"
   ]
  },
  {
   "cell_type": "code",
   "execution_count": 290,
   "metadata": {},
   "outputs": [],
   "source": [
    "def train_step(model, seqs, targets, optimizer, criterion):\n",
    "    '''\n",
    "    seqs: (batch_sz, seq_len)\n",
    "    targets: (batch_sz, seq_len)\n",
    "    '''\n",
    "    model.train()\n",
    "    optimizer.zero_grad()\n",
    "    hidden = model.init_hidden(len(seqs)) # len(seqs) == batch_sz\n",
    "    seqs = seqs.transpose(0,1) # [seq_len, batch_sz]\n",
    "    targets = targets.transpose(0,1)\n",
    "    loss = 0\n",
    "    for i in range(len(seqs)): # for each timestep\n",
    "        output, hidden = model(seqs[i].unsqueeze(0).unsqueeze(2), hidden)\n",
    "        loss += criterion(output, targets[i].unsqueeze(1))\n",
    "    loss.backward()\n",
    "    optimizer.step()\n",
    "    return loss.item() / len(seqs)"
   ]
  },
  {
   "cell_type": "code",
   "execution_count": 417,
   "metadata": {},
   "outputs": [],
   "source": [
    "def evaluate(model, seqs, targets=None):\n",
    "    '''\n",
    "    seqs: (batch_sz, seq_len)\n",
    "    targets: (batch_sz, seq_len)\n",
    "    '''\n",
    "    with torch.no_grad():\n",
    "        model.eval()\n",
    "        hidden = model.init_hidden(len(seqs)) # len(seqs) == batch_sz\n",
    "        seqs = seqs.transpose(0,1) # [seq_len, batch_sz]\n",
    "        if targets is not None:\n",
    "            targets = targets.transpose(0,1)\n",
    "            loss = 0\n",
    "        output = None\n",
    "        for i in range(len(seqs)): # for each timestep\n",
    "            output, hidden = model(seqs[i].unsqueeze(0).unsqueeze(2), hidden)\n",
    "            if targets is not None:\n",
    "                loss += criterion(output, targets[i].unsqueeze(1))\n",
    "        print(output.size())\n",
    "        return loss.item() / len(seqs) if targets is not None else None, \\\n",
    "               F.sigmoid(output).view(-1).numpy()"
   ]
  },
  {
   "cell_type": "code",
   "execution_count": 418,
   "metadata": {},
   "outputs": [],
   "source": [
    "input_sz = 1\n",
    "hidden_sz = 32\n",
    "n_layers = 2\n",
    "seq_len = 16\n",
    "model = LSTMClassifier(input_sz=1, hidden_sz=32, n_layers=2, drop=0.1)"
   ]
  },
  {
   "cell_type": "code",
   "execution_count": 419,
   "metadata": {},
   "outputs": [],
   "source": [
    "seqs = torch.Tensor([interests[(2429, 24845, 'Sell')][:-1],\n",
    "                     interests[(1622, 15261, 'Sell')][:-1]])\n",
    "targets = torch.Tensor([interests[(2429, 24845, 'Sell')][1:],\n",
    "                         interests[(1622, 15261, 'Sell')][1:]])"
   ]
  },
  {
   "cell_type": "code",
   "execution_count": 420,
   "metadata": {},
   "outputs": [],
   "source": [
    "optimizer = optim.Adam(model.parameters(), lr=1e-3)\n",
    "criterion = nn.BCEWithLogitsLoss()"
   ]
  },
  {
   "cell_type": "code",
   "execution_count": 421,
   "metadata": {},
   "outputs": [
    {
     "data": {
      "text/plain": [
       "0.6906216939290365"
      ]
     },
     "execution_count": 421,
     "metadata": {},
     "output_type": "execute_result"
    }
   ],
   "source": [
    "loss = train_step(model, seqs, targets, optimizer, criterion)\n",
    "loss"
   ]
  },
  {
   "cell_type": "code",
   "execution_count": 422,
   "metadata": {},
   "outputs": [
    {
     "name": "stdout",
     "output_type": "stream",
     "text": [
      "torch.Size([2, 1])\n"
     ]
    },
    {
     "data": {
      "text/plain": [
       "(0.6889921824137369, array([0.50356585, 0.50683796], dtype=float32))"
      ]
     },
     "execution_count": 422,
     "metadata": {},
     "output_type": "execute_result"
    }
   ],
   "source": [
    "loss, output = evaluate(model, seqs, targets)\n",
    "loss, output"
   ]
  },
  {
   "cell_type": "code",
   "execution_count": 337,
   "metadata": {},
   "outputs": [],
   "source": [
    "class SequentialDataset(torch.utils.data.Dataset):\n",
    "    def __init__(self, seqs, targets):\n",
    "        self.seqs = np.array(seqs).astype(np.float32)\n",
    "        self.targets = np.array(targets).astype(np.float32)\n",
    "    \n",
    "    def __len__(self):\n",
    "        return len(self.seqs)\n",
    "    \n",
    "    def __getitem__(self, idx):\n",
    "        return [self.seqs[idx], self.targets[idx]]        "
   ]
  },
  {
   "cell_type": "code",
   "execution_count": 339,
   "metadata": {},
   "outputs": [
    {
     "data": {
      "text/plain": [
       "(985972, 484758)"
      ]
     },
     "execution_count": 339,
     "metadata": {},
     "output_type": "execute_result"
    }
   ],
   "source": [
    "len(interests), len(challenge)"
   ]
  },
  {
   "cell_type": "code",
   "execution_count": 352,
   "metadata": {},
   "outputs": [
    {
     "data": {
      "text/html": [
       "<div>\n",
       "<style scoped>\n",
       "    .dataframe tbody tr th:only-of-type {\n",
       "        vertical-align: middle;\n",
       "    }\n",
       "\n",
       "    .dataframe tbody tr th {\n",
       "        vertical-align: top;\n",
       "    }\n",
       "\n",
       "    .dataframe thead th {\n",
       "        text-align: right;\n",
       "    }\n",
       "</style>\n",
       "<table border=\"1\" class=\"dataframe\">\n",
       "  <thead>\n",
       "    <tr style=\"text-align: right;\">\n",
       "      <th></th>\n",
       "      <th>PredictionIdx</th>\n",
       "      <th>DateKey</th>\n",
       "      <th>CustomerIdx</th>\n",
       "      <th>IsinIdx</th>\n",
       "      <th>BuySell</th>\n",
       "      <th>CustomerInterest</th>\n",
       "    </tr>\n",
       "  </thead>\n",
       "  <tbody>\n",
       "    <tr>\n",
       "      <th>0</th>\n",
       "      <td>a1e0d80784</td>\n",
       "      <td>20180423</td>\n",
       "      <td>1856</td>\n",
       "      <td>13323</td>\n",
       "      <td>Buy</td>\n",
       "      <td>NaN</td>\n",
       "    </tr>\n",
       "    <tr>\n",
       "      <th>1</th>\n",
       "      <td>c2cc6cc2a8</td>\n",
       "      <td>20180423</td>\n",
       "      <td>1856</td>\n",
       "      <td>9230</td>\n",
       "      <td>Buy</td>\n",
       "      <td>NaN</td>\n",
       "    </tr>\n",
       "    <tr>\n",
       "      <th>2</th>\n",
       "      <td>a8e94f6344</td>\n",
       "      <td>20180423</td>\n",
       "      <td>1780</td>\n",
       "      <td>9157</td>\n",
       "      <td>Buy</td>\n",
       "      <td>NaN</td>\n",
       "    </tr>\n",
       "    <tr>\n",
       "      <th>3</th>\n",
       "      <td>758bae1e35</td>\n",
       "      <td>20180423</td>\n",
       "      <td>2129</td>\n",
       "      <td>9131</td>\n",
       "      <td>Buy</td>\n",
       "      <td>NaN</td>\n",
       "    </tr>\n",
       "    <tr>\n",
       "      <th>4</th>\n",
       "      <td>02ab378ee8</td>\n",
       "      <td>20180423</td>\n",
       "      <td>1758</td>\n",
       "      <td>7151</td>\n",
       "      <td>Buy</td>\n",
       "      <td>NaN</td>\n",
       "    </tr>\n",
       "  </tbody>\n",
       "</table>\n",
       "</div>"
      ],
      "text/plain": [
       "  PredictionIdx   DateKey  CustomerIdx  IsinIdx BuySell  CustomerInterest\n",
       "0    a1e0d80784  20180423         1856    13323     Buy               NaN\n",
       "1    c2cc6cc2a8  20180423         1856     9230     Buy               NaN\n",
       "2    a8e94f6344  20180423         1780     9157     Buy               NaN\n",
       "3    758bae1e35  20180423         2129     9131     Buy               NaN\n",
       "4    02ab378ee8  20180423         1758     7151     Buy               NaN"
      ]
     },
     "execution_count": 352,
     "metadata": {},
     "output_type": "execute_result"
    }
   ],
   "source": [
    "challenge.head()"
   ]
  },
  {
   "cell_type": "code",
   "execution_count": 356,
   "metadata": {},
   "outputs": [
    {
     "data": {
      "text/html": [
       "<div>\n",
       "<style scoped>\n",
       "    .dataframe tbody tr th:only-of-type {\n",
       "        vertical-align: middle;\n",
       "    }\n",
       "\n",
       "    .dataframe tbody tr th {\n",
       "        vertical-align: top;\n",
       "    }\n",
       "\n",
       "    .dataframe thead th {\n",
       "        text-align: right;\n",
       "    }\n",
       "</style>\n",
       "<table border=\"1\" class=\"dataframe\">\n",
       "  <thead>\n",
       "    <tr style=\"text-align: right;\">\n",
       "      <th></th>\n",
       "      <th>CustomerIdx</th>\n",
       "      <th>IsinIdx</th>\n",
       "      <th>BuySell</th>\n",
       "      <th>week</th>\n",
       "      <th>CustomerInterest</th>\n",
       "    </tr>\n",
       "  </thead>\n",
       "  <tbody>\n",
       "    <tr>\n",
       "      <th>0</th>\n",
       "      <td>0</td>\n",
       "      <td>24944</td>\n",
       "      <td>Sell</td>\n",
       "      <td>10</td>\n",
       "      <td>1.0</td>\n",
       "    </tr>\n",
       "    <tr>\n",
       "      <th>1</th>\n",
       "      <td>0</td>\n",
       "      <td>25992</td>\n",
       "      <td>Buy</td>\n",
       "      <td>8</td>\n",
       "      <td>1.0</td>\n",
       "    </tr>\n",
       "    <tr>\n",
       "      <th>2</th>\n",
       "      <td>0</td>\n",
       "      <td>26726</td>\n",
       "      <td>Sell</td>\n",
       "      <td>10</td>\n",
       "      <td>1.0</td>\n",
       "    </tr>\n",
       "    <tr>\n",
       "      <th>3</th>\n",
       "      <td>0</td>\n",
       "      <td>26793</td>\n",
       "      <td>Sell</td>\n",
       "      <td>3</td>\n",
       "      <td>1.0</td>\n",
       "    </tr>\n",
       "    <tr>\n",
       "      <th>4</th>\n",
       "      <td>0</td>\n",
       "      <td>26793</td>\n",
       "      <td>Sell</td>\n",
       "      <td>4</td>\n",
       "      <td>1.0</td>\n",
       "    </tr>\n",
       "  </tbody>\n",
       "</table>\n",
       "</div>"
      ],
      "text/plain": [
       "   CustomerIdx  IsinIdx BuySell  week  CustomerInterest\n",
       "0            0    24944    Sell    10               1.0\n",
       "1            0    25992     Buy     8               1.0\n",
       "2            0    26726    Sell    10               1.0\n",
       "3            0    26793    Sell     3               1.0\n",
       "4            0    26793    Sell     4               1.0"
      ]
     },
     "execution_count": 356,
     "metadata": {},
     "output_type": "execute_result"
    }
   ],
   "source": [
    "weekly_trades.head()"
   ]
  },
  {
   "cell_type": "code",
   "execution_count": null,
   "metadata": {},
   "outputs": [],
   "source": [
    "for cIdx, iIdx, b in zip(challenge.)"
   ]
  },
  {
   "cell_type": "code",
   "execution_count": 358,
   "metadata": {},
   "outputs": [
    {
     "data": {
      "text/plain": [
       "[0, 0, 0, 0, 0, 0, 0, 0, 0, 0, 1.0, 0, 0, 0, 0, 0]"
      ]
     },
     "execution_count": 358,
     "metadata": {},
     "output_type": "execute_result"
    }
   ],
   "source": [
    "interests[(0, 24944, 'Sell')]"
   ]
  },
  {
   "cell_type": "code",
   "execution_count": 360,
   "metadata": {},
   "outputs": [
    {
     "data": {
      "text/plain": [
       "[1.0, 0, 0, 0, 0, 0, 0, 0, 1.0, 1.0, 1.0, 1.0, 1.0, 0, 0, 1.0]"
      ]
     },
     "execution_count": 360,
     "metadata": {},
     "output_type": "execute_result"
    }
   ],
   "source": [
    "list(interests.values())[26226]"
   ]
  },
  {
   "cell_type": "code",
   "execution_count": 361,
   "metadata": {},
   "outputs": [
    {
     "name": "stdout",
     "output_type": "stream",
     "text": [
      "CPU times: user 1.28 s, sys: 36 ms, total: 1.32 s\n",
      "Wall time: 1.31 s\n"
     ]
    }
   ],
   "source": [
    "%%time\n",
    "sequences = np.array(list(interests.values()))"
   ]
  },
  {
   "cell_type": "code",
   "execution_count": 371,
   "metadata": {},
   "outputs": [
    {
     "data": {
      "text/plain": [
       "(208426.0, (985972, 16), 277081.0)"
      ]
     },
     "execution_count": 371,
     "metadata": {},
     "output_type": "execute_result"
    }
   ],
   "source": [
    "## 78.14% \n",
    "sequences.max(axis=1).sum(), sequences.shape, sequences.sum()"
   ]
  },
  {
   "cell_type": "code",
   "execution_count": 369,
   "metadata": {},
   "outputs": [],
   "source": [
    "from torch.utils.data import DataLoader"
   ]
  },
  {
   "cell_type": "code",
   "execution_count": 437,
   "metadata": {},
   "outputs": [],
   "source": [
    "train_ds = DataLoader(SequentialDataset(sequences[:,:-1], sequences[:,1:]),\n",
    "                      batch_size=128, shuffle=True)"
   ]
  },
  {
   "cell_type": "code",
   "execution_count": 438,
   "metadata": {},
   "outputs": [],
   "source": [
    "model = LSTMClassifier(input_sz=1, hidden_sz=512, n_layers=3, drop=0)"
   ]
  },
  {
   "cell_type": "code",
   "execution_count": 439,
   "metadata": {},
   "outputs": [],
   "source": [
    "optimizer = optim.Adam(model.parameters(), lr=1e-3)\n",
    "criterion = nn.BCEWithLogitsLoss()"
   ]
  },
  {
   "cell_type": "code",
   "execution_count": 440,
   "metadata": {},
   "outputs": [],
   "source": [
    "def train_model(model, train_loader, optimizer, criterion, n_epochs, \n",
    "                print_every=100):\n",
    "    train_losses = []\n",
    "    for epoch in range(n_epochs):\n",
    "        train_loss = 0\n",
    "        for batch_idx, (seqs, targets) in enumerate(train_loader):\n",
    "            seqs, targets = Variable(seqs), Variable(targets)\n",
    "            train_loss += train_step(model, seqs, targets, optimizer, \n",
    "                                     criterion)\n",
    "            \n",
    "            if batch_idx > 0 and batch_idx % print_every == 0:\n",
    "                train_loss /= print_every\n",
    "                print('Train Epoch: {} [{}/{} ({:.0f}%)]\\tLoss: {:.6f}'.format(\n",
    "                        epoch + 1, batch_idx * len(seqs), len(train_loader.dataset),\n",
    "                        100. * batch_idx / len(train_loader), train_loss))\n",
    "                train_losses.append(train_loss)\n",
    "                train_loss = 0            \n",
    "        print()\n",
    "    return model, train_losses"
   ]
  },
  {
   "cell_type": "code",
   "execution_count": null,
   "metadata": {},
   "outputs": [],
   "source": [
    "model, train_losses = train_model(model, train_ds, optimizer, criterion,\n",
    "                                  n_epochs=2)\n",
    "# Train Epoch: 1 [12800/985972 (1%)]\tLoss: 0.125625\n",
    "# Train Epoch: 1 [25600/985972 (3%)]\tLoss: 0.090907\n",
    "# Train Epoch: 1 [38400/985972 (4%)]\tLoss: 0.086232\n",
    "# Train Epoch: 1 [51200/985972 (5%)]\tLoss: 0.090720\n",
    "# Train Epoch: 1 [64000/985972 (6%)]\tLoss: 0.092088\n",
    "# Train Epoch: 1 [76800/985972 (8%)]\tLoss: 0.088952\n",
    "# Train Epoch: 1 [89600/985972 (9%)]\tLoss: 0.091166\n",
    "# Train Epoch: 1 [102400/985972 (10%)]\tLoss: 0.089416\n",
    "# Train Epoch: 1 [115200/985972 (12%)]\tLoss: 0.088074"
   ]
  },
  {
   "cell_type": "markdown",
   "metadata": {},
   "source": [
    "## Validation"
   ]
  },
  {
   "cell_type": "code",
   "execution_count": 7,
   "metadata": {},
   "outputs": [],
   "source": [
    "from src.lstm import LSTMClassifier, train_model, SequentialDataset\n",
    "from torch.utils.data import DataLoader"
   ]
  },
  {
   "cell_type": "code",
   "execution_count": 452,
   "metadata": {},
   "outputs": [],
   "source": [
    "train_ds = DataLoader(SequentialDataset(sequences[:,:-2], sequences[:,1:-1]),\n",
    "                      batch_size=128, shuffle=True)"
   ]
  },
  {
   "cell_type": "code",
   "execution_count": 453,
   "metadata": {},
   "outputs": [
    {
     "name": "stdout",
     "output_type": "stream",
     "text": [
      "CPU times: user 1.56 s, sys: 424 ms, total: 1.98 s\n",
      "Wall time: 2.65 s\n"
     ]
    }
   ],
   "source": [
    "%%time\n",
    "val = pd.read_feather(PROCESSED/f'SVD_17-18_72f/week_{week_labels[-2]}_SVD_diffscount.feather')\n",
    "val_seqs = []\n",
    "val_targets = []\n",
    "for cIdx, iIdx, b, interest in zip(val.CustomerIdx, val.IsinIdx, \\\n",
    "                                   val.BuySell, val.CustomerInterest):\n",
    "    val_seqs.append(interests[(cIdx, iIdx, b)])\n",
    "    val_targets.append(interest)\n",
    "val_seqs, val_targets = np.array(val_seqs), np.array(val_targets)"
   ]
  },
  {
   "cell_type": "code",
   "execution_count": 454,
   "metadata": {},
   "outputs": [
    {
     "data": {
      "text/plain": [
       "((493590, 16), (493590,))"
      ]
     },
     "execution_count": 454,
     "metadata": {},
     "output_type": "execute_result"
    }
   ],
   "source": [
    "val_seqs.shape, val_targets.shape"
   ]
  },
  {
   "cell_type": "code",
   "execution_count": 459,
   "metadata": {},
   "outputs": [],
   "source": [
    "val_ds = DataLoader(SequentialDataset(val_seqs[:,:-1], val_seqs[:,1:]))"
   ]
  },
  {
   "cell_type": "code",
   "execution_count": 473,
   "metadata": {},
   "outputs": [
    {
     "name": "stdout",
     "output_type": "stream",
     "text": [
      "CPU times: user 124 ms, sys: 268 ms, total: 392 ms\n",
      "Wall time: 408 ms\n"
     ]
    }
   ],
   "source": [
    "%%time\n",
    "import pickle\n",
    "with open(INTERIM/'seq_train_ds.pkl', 'wb') as f:\n",
    "    pickle.dump(train_ds, f, pickle.HIGHEST_PROTOCOL)\n",
    "with open(INTERIM/'seq_val_ds.pkl', 'wb') as f:\n",
    "    pickle.dump(val_ds, f, pickle.HIGHEST_PROTOCOL)"
   ]
  },
  {
   "cell_type": "code",
   "execution_count": null,
   "metadata": {},
   "outputs": [],
   "source": [
    "%%time\n",
    "import pickle\n",
    "with open(INTERIM/'seq_train_ds.pkl', 'rb') as f:\n",
    "    train_ds = pickle.load(f)\n",
    "with open(INTERIM/'seq_val_ds.pkl', 'rb') as f:\n",
    "    val_ds = pickle.load(f)"
   ]
  },
  {
   "cell_type": "code",
   "execution_count": 469,
   "metadata": {},
   "outputs": [],
   "source": [
    "USE_CUDA = False"
   ]
  },
  {
   "cell_type": "code",
   "execution_count": 470,
   "metadata": {},
   "outputs": [],
   "source": [
    "model = LSTMClassifier(input_sz=1, hidden_sz=128, n_layers=2, drop=0, \n",
    "                       USE_CUDA=USE_CUDA)"
   ]
  },
  {
   "cell_type": "code",
   "execution_count": 471,
   "metadata": {},
   "outputs": [],
   "source": [
    "optimizer = optim.Adam(model.parameters(), lr=1e-3)\n",
    "criterion = nn.BCEWithLogitsLoss()"
   ]
  },
  {
   "cell_type": "code",
   "execution_count": 451,
   "metadata": {},
   "outputs": [
    {
     "name": "stdout",
     "output_type": "stream",
     "text": [
      "Train Epoch: 1 [12800/985972 (1%)]\tLoss: 0.184061\n",
      "Train Epoch: 1 [25600/985972 (3%)]\tLoss: 0.097582\n",
      "Train Epoch: 1 [38400/985972 (4%)]\tLoss: 0.094351\n",
      "Train Epoch: 1 [51200/985972 (5%)]\tLoss: 0.089113\n",
      "Train Epoch: 1 [64000/985972 (6%)]\tLoss: 0.091239\n",
      "Train Epoch: 1 [76800/985972 (8%)]\tLoss: 0.091135\n",
      "Train Epoch: 1 [89600/985972 (9%)]\tLoss: 0.091139\n",
      "Train Epoch: 1 [102400/985972 (10%)]\tLoss: 0.088502\n",
      "Train Epoch: 1 [115200/985972 (12%)]\tLoss: 0.087126\n",
      "Train Epoch: 1 [128000/985972 (13%)]\tLoss: 0.086891\n",
      "Train Epoch: 1 [140800/985972 (14%)]\tLoss: 0.087456\n",
      "Train Epoch: 1 [153600/985972 (16%)]\tLoss: 0.087302\n",
      "Train Epoch: 1 [166400/985972 (17%)]\tLoss: 0.087444\n",
      "Train Epoch: 1 [179200/985972 (18%)]\tLoss: 0.087221\n",
      "Train Epoch: 1 [192000/985972 (19%)]\tLoss: 0.087016\n",
      "Train Epoch: 1 [204800/985972 (21%)]\tLoss: 0.084971\n",
      "Train Epoch: 1 [217600/985972 (22%)]\tLoss: 0.085601\n",
      "Train Epoch: 1 [230400/985972 (23%)]\tLoss: 0.086608\n",
      "Train Epoch: 1 [243200/985972 (25%)]\tLoss: 0.087701\n",
      "Train Epoch: 1 [256000/985972 (26%)]\tLoss: 0.089382\n",
      "Train Epoch: 1 [268800/985972 (27%)]\tLoss: 0.083954\n",
      "Train Epoch: 1 [281600/985972 (29%)]\tLoss: 0.084888\n",
      "Train Epoch: 1 [294400/985972 (30%)]\tLoss: 0.085065\n",
      "Train Epoch: 1 [307200/985972 (31%)]\tLoss: 0.086725\n",
      "Train Epoch: 1 [320000/985972 (32%)]\tLoss: 0.085144\n",
      "Train Epoch: 1 [332800/985972 (34%)]\tLoss: 0.087613\n",
      "Train Epoch: 1 [345600/985972 (35%)]\tLoss: 0.087890\n",
      "Train Epoch: 1 [358400/985972 (36%)]\tLoss: 0.085733\n",
      "Train Epoch: 1 [371200/985972 (38%)]\tLoss: 0.088921\n",
      "Train Epoch: 1 [384000/985972 (39%)]\tLoss: 0.088169\n",
      "Train Epoch: 1 [396800/985972 (40%)]\tLoss: 0.087092\n",
      "Train Epoch: 1 [409600/985972 (42%)]\tLoss: 0.087655\n",
      "Train Epoch: 1 [422400/985972 (43%)]\tLoss: 0.084524\n",
      "Train Epoch: 1 [435200/985972 (44%)]\tLoss: 0.087806\n",
      "Train Epoch: 1 [448000/985972 (45%)]\tLoss: 0.088168\n",
      "Train Epoch: 1 [460800/985972 (47%)]\tLoss: 0.086349\n",
      "Train Epoch: 1 [473600/985972 (48%)]\tLoss: 0.086604\n",
      "Train Epoch: 1 [486400/985972 (49%)]\tLoss: 0.084941\n",
      "Train Epoch: 1 [499200/985972 (51%)]\tLoss: 0.088643\n",
      "Train Epoch: 1 [512000/985972 (52%)]\tLoss: 0.088504\n",
      "Train Epoch: 1 [524800/985972 (53%)]\tLoss: 0.084855\n",
      "Train Epoch: 1 [537600/985972 (55%)]\tLoss: 0.086291\n",
      "Train Epoch: 1 [550400/985972 (56%)]\tLoss: 0.086539\n",
      "Train Epoch: 1 [563200/985972 (57%)]\tLoss: 0.085508\n",
      "Train Epoch: 1 [576000/985972 (58%)]\tLoss: 0.089102\n",
      "Train Epoch: 1 [588800/985972 (60%)]\tLoss: 0.087321\n",
      "Train Epoch: 1 [601600/985972 (61%)]\tLoss: 0.085370\n",
      "Train Epoch: 1 [614400/985972 (62%)]\tLoss: 0.087301\n",
      "Train Epoch: 1 [627200/985972 (64%)]\tLoss: 0.085640\n",
      "Train Epoch: 1 [640000/985972 (65%)]\tLoss: 0.086837\n",
      "Train Epoch: 1 [652800/985972 (66%)]\tLoss: 0.086519\n",
      "Train Epoch: 1 [665600/985972 (68%)]\tLoss: 0.085996\n",
      "Train Epoch: 1 [678400/985972 (69%)]\tLoss: 0.089630\n",
      "Train Epoch: 1 [691200/985972 (70%)]\tLoss: 0.088232\n",
      "Train Epoch: 1 [704000/985972 (71%)]\tLoss: 0.087538\n",
      "Train Epoch: 1 [716800/985972 (73%)]\tLoss: 0.085680\n",
      "Train Epoch: 1 [729600/985972 (74%)]\tLoss: 0.086967\n",
      "Train Epoch: 1 [742400/985972 (75%)]\tLoss: 0.086021\n",
      "Train Epoch: 1 [755200/985972 (77%)]\tLoss: 0.084733\n",
      "Train Epoch: 1 [768000/985972 (78%)]\tLoss: 0.084921\n",
      "Train Epoch: 1 [780800/985972 (79%)]\tLoss: 0.084819\n",
      "Train Epoch: 1 [793600/985972 (80%)]\tLoss: 0.086923\n",
      "Train Epoch: 1 [806400/985972 (82%)]\tLoss: 0.085783\n",
      "Train Epoch: 1 [819200/985972 (83%)]\tLoss: 0.087314\n",
      "Train Epoch: 1 [832000/985972 (84%)]\tLoss: 0.087416\n",
      "Train Epoch: 1 [844800/985972 (86%)]\tLoss: 0.086513\n",
      "Train Epoch: 1 [857600/985972 (87%)]\tLoss: 0.087339\n",
      "Train Epoch: 1 [870400/985972 (88%)]\tLoss: 0.086002\n",
      "Train Epoch: 1 [883200/985972 (90%)]\tLoss: 0.086877\n",
      "Train Epoch: 1 [896000/985972 (91%)]\tLoss: 0.086906\n",
      "Train Epoch: 1 [908800/985972 (92%)]\tLoss: 0.087049\n",
      "Train Epoch: 1 [921600/985972 (93%)]\tLoss: 0.086081\n",
      "Train Epoch: 1 [934400/985972 (95%)]\tLoss: 0.085798\n",
      "Train Epoch: 1 [947200/985972 (96%)]\tLoss: 0.086707\n",
      "Train Epoch: 1 [960000/985972 (97%)]\tLoss: 0.085136\n",
      "Train Epoch: 1 [972800/985972 (99%)]\tLoss: 0.086415\n",
      "Train Epoch: 1 [985600/985972 (100%)]\tLoss: 0.088546\n",
      "\n",
      "Train Epoch: 2 [12800/985972 (1%)]\tLoss: 0.085496\n",
      "Train Epoch: 2 [25600/985972 (3%)]\tLoss: 0.087649\n",
      "Train Epoch: 2 [38400/985972 (4%)]\tLoss: 0.085298\n",
      "Train Epoch: 2 [51200/985972 (5%)]\tLoss: 0.087442\n",
      "Train Epoch: 2 [64000/985972 (6%)]\tLoss: 0.085825\n",
      "Train Epoch: 2 [76800/985972 (8%)]\tLoss: 0.089641\n",
      "Train Epoch: 2 [89600/985972 (9%)]\tLoss: 0.084853\n",
      "Train Epoch: 2 [102400/985972 (10%)]\tLoss: 0.085273\n",
      "Train Epoch: 2 [115200/985972 (12%)]\tLoss: 0.086939\n",
      "Train Epoch: 2 [128000/985972 (13%)]\tLoss: 0.085776\n",
      "Train Epoch: 2 [140800/985972 (14%)]\tLoss: 0.088168\n",
      "Train Epoch: 2 [153600/985972 (16%)]\tLoss: 0.086566\n",
      "Train Epoch: 2 [166400/985972 (17%)]\tLoss: 0.085818\n",
      "Train Epoch: 2 [179200/985972 (18%)]\tLoss: 0.086991\n",
      "Train Epoch: 2 [192000/985972 (19%)]\tLoss: 0.087097\n",
      "Train Epoch: 2 [204800/985972 (21%)]\tLoss: 0.088421\n",
      "Train Epoch: 2 [217600/985972 (22%)]\tLoss: 0.085905\n",
      "Train Epoch: 2 [230400/985972 (23%)]\tLoss: 0.087158\n",
      "Train Epoch: 2 [243200/985972 (25%)]\tLoss: 0.086796\n"
     ]
    },
    {
     "ename": "KeyboardInterrupt",
     "evalue": "",
     "output_type": "error",
     "traceback": [
      "\u001b[0;31m---------------------------------------------------------------------------\u001b[0m",
      "\u001b[0;31mKeyboardInterrupt\u001b[0m                         Traceback (most recent call last)",
      "\u001b[0;32m<ipython-input-451-a2ef8f19c9b2>\u001b[0m in \u001b[0;36m<module>\u001b[0;34m()\u001b[0m\n\u001b[1;32m      1\u001b[0m model, train_losses = train_model(model, train_ds, optimizer, criterion,\n\u001b[0;32m----> 2\u001b[0;31m                                   n_epochs=2, USE_CUDA=True)\n\u001b[0m",
      "\u001b[0;32m~/Documents/DSG-2018/src/lstm.py\u001b[0m in \u001b[0;36mtrain_model\u001b[0;34m(model, train_loader, optimizer, criterion, n_epochs, print_every, USE_CUDA)\u001b[0m\n\u001b[1;32m    101\u001b[0m                 \u001b[0mseqs\u001b[0m\u001b[0;34m,\u001b[0m \u001b[0mtargets\u001b[0m \u001b[0;34m=\u001b[0m \u001b[0mseqs\u001b[0m\u001b[0;34m.\u001b[0m\u001b[0mcuda\u001b[0m\u001b[0;34m(\u001b[0m\u001b[0;34m)\u001b[0m\u001b[0;34m,\u001b[0m \u001b[0mtargets\u001b[0m\u001b[0;34m.\u001b[0m\u001b[0mcuda\u001b[0m\u001b[0;34m(\u001b[0m\u001b[0;34m)\u001b[0m\u001b[0;34m\u001b[0m\u001b[0m\n\u001b[1;32m    102\u001b[0m             train_loss += train_step(model, seqs, targets, optimizer, \n\u001b[0;32m--> 103\u001b[0;31m                                      criterion)\n\u001b[0m\u001b[1;32m    104\u001b[0m \u001b[0;34m\u001b[0m\u001b[0m\n\u001b[1;32m    105\u001b[0m             \u001b[0;32mif\u001b[0m \u001b[0mbatch_idx\u001b[0m \u001b[0;34m>\u001b[0m \u001b[0;36m0\u001b[0m \u001b[0;32mand\u001b[0m \u001b[0mbatch_idx\u001b[0m \u001b[0;34m%\u001b[0m \u001b[0mprint_every\u001b[0m \u001b[0;34m==\u001b[0m \u001b[0;36m0\u001b[0m\u001b[0;34m:\u001b[0m\u001b[0;34m\u001b[0m\u001b[0m\n",
      "\u001b[0;32m~/Documents/DSG-2018/src/lstm.py\u001b[0m in \u001b[0;36mtrain_step\u001b[0;34m(model, seqs, targets, optimizer, criterion)\u001b[0m\n\u001b[1;32m     63\u001b[0m     \u001b[0mloss\u001b[0m \u001b[0;34m=\u001b[0m \u001b[0;36m0\u001b[0m\u001b[0;34m\u001b[0m\u001b[0m\n\u001b[1;32m     64\u001b[0m     \u001b[0;32mfor\u001b[0m \u001b[0mi\u001b[0m \u001b[0;32min\u001b[0m \u001b[0mrange\u001b[0m\u001b[0;34m(\u001b[0m\u001b[0mlen\u001b[0m\u001b[0;34m(\u001b[0m\u001b[0mseqs\u001b[0m\u001b[0;34m)\u001b[0m\u001b[0;34m)\u001b[0m\u001b[0;34m:\u001b[0m \u001b[0;31m# for each timestep\u001b[0m\u001b[0;34m\u001b[0m\u001b[0m\n\u001b[0;32m---> 65\u001b[0;31m         \u001b[0moutput\u001b[0m\u001b[0;34m,\u001b[0m \u001b[0mhidden\u001b[0m \u001b[0;34m=\u001b[0m \u001b[0mmodel\u001b[0m\u001b[0;34m(\u001b[0m\u001b[0mseqs\u001b[0m\u001b[0;34m[\u001b[0m\u001b[0mi\u001b[0m\u001b[0;34m]\u001b[0m\u001b[0;34m.\u001b[0m\u001b[0munsqueeze\u001b[0m\u001b[0;34m(\u001b[0m\u001b[0;36m0\u001b[0m\u001b[0;34m)\u001b[0m\u001b[0;34m.\u001b[0m\u001b[0munsqueeze\u001b[0m\u001b[0;34m(\u001b[0m\u001b[0;36m2\u001b[0m\u001b[0;34m)\u001b[0m\u001b[0;34m,\u001b[0m \u001b[0mhidden\u001b[0m\u001b[0;34m)\u001b[0m\u001b[0;34m\u001b[0m\u001b[0m\n\u001b[0m\u001b[1;32m     66\u001b[0m         \u001b[0mloss\u001b[0m \u001b[0;34m+=\u001b[0m \u001b[0mcriterion\u001b[0m\u001b[0;34m(\u001b[0m\u001b[0moutput\u001b[0m\u001b[0;34m,\u001b[0m \u001b[0mtargets\u001b[0m\u001b[0;34m[\u001b[0m\u001b[0mi\u001b[0m\u001b[0;34m]\u001b[0m\u001b[0;34m.\u001b[0m\u001b[0munsqueeze\u001b[0m\u001b[0;34m(\u001b[0m\u001b[0;36m1\u001b[0m\u001b[0;34m)\u001b[0m\u001b[0;34m)\u001b[0m\u001b[0;34m\u001b[0m\u001b[0m\n\u001b[1;32m     67\u001b[0m     \u001b[0mloss\u001b[0m\u001b[0;34m.\u001b[0m\u001b[0mbackward\u001b[0m\u001b[0;34m(\u001b[0m\u001b[0;34m)\u001b[0m\u001b[0;34m\u001b[0m\u001b[0m\n",
      "\u001b[0;32m~/anaconda3/envs/chana/lib/python3.6/site-packages/torch/nn/modules/module.py\u001b[0m in \u001b[0;36m__call__\u001b[0;34m(self, *input, **kwargs)\u001b[0m\n\u001b[1;32m    489\u001b[0m             \u001b[0mresult\u001b[0m \u001b[0;34m=\u001b[0m \u001b[0mself\u001b[0m\u001b[0;34m.\u001b[0m\u001b[0m_slow_forward\u001b[0m\u001b[0;34m(\u001b[0m\u001b[0;34m*\u001b[0m\u001b[0minput\u001b[0m\u001b[0;34m,\u001b[0m \u001b[0;34m**\u001b[0m\u001b[0mkwargs\u001b[0m\u001b[0;34m)\u001b[0m\u001b[0;34m\u001b[0m\u001b[0m\n\u001b[1;32m    490\u001b[0m         \u001b[0;32melse\u001b[0m\u001b[0;34m:\u001b[0m\u001b[0;34m\u001b[0m\u001b[0m\n\u001b[0;32m--> 491\u001b[0;31m             \u001b[0mresult\u001b[0m \u001b[0;34m=\u001b[0m \u001b[0mself\u001b[0m\u001b[0;34m.\u001b[0m\u001b[0mforward\u001b[0m\u001b[0;34m(\u001b[0m\u001b[0;34m*\u001b[0m\u001b[0minput\u001b[0m\u001b[0;34m,\u001b[0m \u001b[0;34m**\u001b[0m\u001b[0mkwargs\u001b[0m\u001b[0;34m)\u001b[0m\u001b[0;34m\u001b[0m\u001b[0m\n\u001b[0m\u001b[1;32m    492\u001b[0m         \u001b[0;32mfor\u001b[0m \u001b[0mhook\u001b[0m \u001b[0;32min\u001b[0m \u001b[0mself\u001b[0m\u001b[0;34m.\u001b[0m\u001b[0m_forward_hooks\u001b[0m\u001b[0;34m.\u001b[0m\u001b[0mvalues\u001b[0m\u001b[0;34m(\u001b[0m\u001b[0;34m)\u001b[0m\u001b[0;34m:\u001b[0m\u001b[0;34m\u001b[0m\u001b[0m\n\u001b[1;32m    493\u001b[0m             \u001b[0mhook_result\u001b[0m \u001b[0;34m=\u001b[0m \u001b[0mhook\u001b[0m\u001b[0;34m(\u001b[0m\u001b[0mself\u001b[0m\u001b[0;34m,\u001b[0m \u001b[0minput\u001b[0m\u001b[0;34m,\u001b[0m \u001b[0mresult\u001b[0m\u001b[0;34m)\u001b[0m\u001b[0;34m\u001b[0m\u001b[0m\n",
      "\u001b[0;32m~/Documents/DSG-2018/src/lstm.py\u001b[0m in \u001b[0;36mforward\u001b[0;34m(self, sequence, hidden)\u001b[0m\n\u001b[1;32m     39\u001b[0m \u001b[0;34m\u001b[0m\u001b[0m\n\u001b[1;32m     40\u001b[0m     \u001b[0;32mdef\u001b[0m \u001b[0mforward\u001b[0m\u001b[0;34m(\u001b[0m\u001b[0mself\u001b[0m\u001b[0;34m,\u001b[0m \u001b[0msequence\u001b[0m\u001b[0;34m,\u001b[0m \u001b[0mhidden\u001b[0m\u001b[0;34m)\u001b[0m\u001b[0;34m:\u001b[0m\u001b[0;34m\u001b[0m\u001b[0m\n\u001b[0;32m---> 41\u001b[0;31m         \u001b[0mout\u001b[0m\u001b[0;34m,\u001b[0m \u001b[0mhidden\u001b[0m \u001b[0;34m=\u001b[0m \u001b[0mself\u001b[0m\u001b[0;34m.\u001b[0m\u001b[0mlstm\u001b[0m\u001b[0;34m(\u001b[0m\u001b[0msequence\u001b[0m\u001b[0;34m,\u001b[0m \u001b[0mhidden\u001b[0m\u001b[0;34m)\u001b[0m\u001b[0;34m\u001b[0m\u001b[0m\n\u001b[0m\u001b[1;32m     42\u001b[0m         \u001b[0mout\u001b[0m \u001b[0;34m=\u001b[0m \u001b[0mself\u001b[0m\u001b[0;34m.\u001b[0m\u001b[0mout\u001b[0m\u001b[0;34m(\u001b[0m\u001b[0mout\u001b[0m\u001b[0;34m[\u001b[0m\u001b[0;34m-\u001b[0m\u001b[0;36m1\u001b[0m\u001b[0;34m]\u001b[0m\u001b[0;34m)\u001b[0m\u001b[0;34m\u001b[0m\u001b[0m\n\u001b[1;32m     43\u001b[0m         \u001b[0;32mreturn\u001b[0m \u001b[0mout\u001b[0m\u001b[0;34m,\u001b[0m \u001b[0mhidden\u001b[0m\u001b[0;34m\u001b[0m\u001b[0m\n",
      "\u001b[0;32m~/anaconda3/envs/chana/lib/python3.6/site-packages/torch/nn/modules/module.py\u001b[0m in \u001b[0;36m__call__\u001b[0;34m(self, *input, **kwargs)\u001b[0m\n\u001b[1;32m    489\u001b[0m             \u001b[0mresult\u001b[0m \u001b[0;34m=\u001b[0m \u001b[0mself\u001b[0m\u001b[0;34m.\u001b[0m\u001b[0m_slow_forward\u001b[0m\u001b[0;34m(\u001b[0m\u001b[0;34m*\u001b[0m\u001b[0minput\u001b[0m\u001b[0;34m,\u001b[0m \u001b[0;34m**\u001b[0m\u001b[0mkwargs\u001b[0m\u001b[0;34m)\u001b[0m\u001b[0;34m\u001b[0m\u001b[0m\n\u001b[1;32m    490\u001b[0m         \u001b[0;32melse\u001b[0m\u001b[0;34m:\u001b[0m\u001b[0;34m\u001b[0m\u001b[0m\n\u001b[0;32m--> 491\u001b[0;31m             \u001b[0mresult\u001b[0m \u001b[0;34m=\u001b[0m \u001b[0mself\u001b[0m\u001b[0;34m.\u001b[0m\u001b[0mforward\u001b[0m\u001b[0;34m(\u001b[0m\u001b[0;34m*\u001b[0m\u001b[0minput\u001b[0m\u001b[0;34m,\u001b[0m \u001b[0;34m**\u001b[0m\u001b[0mkwargs\u001b[0m\u001b[0;34m)\u001b[0m\u001b[0;34m\u001b[0m\u001b[0m\n\u001b[0m\u001b[1;32m    492\u001b[0m         \u001b[0;32mfor\u001b[0m \u001b[0mhook\u001b[0m \u001b[0;32min\u001b[0m \u001b[0mself\u001b[0m\u001b[0;34m.\u001b[0m\u001b[0m_forward_hooks\u001b[0m\u001b[0;34m.\u001b[0m\u001b[0mvalues\u001b[0m\u001b[0;34m(\u001b[0m\u001b[0;34m)\u001b[0m\u001b[0;34m:\u001b[0m\u001b[0;34m\u001b[0m\u001b[0m\n\u001b[1;32m    493\u001b[0m             \u001b[0mhook_result\u001b[0m \u001b[0;34m=\u001b[0m \u001b[0mhook\u001b[0m\u001b[0;34m(\u001b[0m\u001b[0mself\u001b[0m\u001b[0;34m,\u001b[0m \u001b[0minput\u001b[0m\u001b[0;34m,\u001b[0m \u001b[0mresult\u001b[0m\u001b[0;34m)\u001b[0m\u001b[0;34m\u001b[0m\u001b[0m\n",
      "\u001b[0;32m~/anaconda3/envs/chana/lib/python3.6/site-packages/torch/nn/modules/rnn.py\u001b[0m in \u001b[0;36mforward\u001b[0;34m(self, input, hx)\u001b[0m\n\u001b[1;32m    168\u001b[0m                 \u001b[0mhx\u001b[0m \u001b[0;34m=\u001b[0m \u001b[0;34m(\u001b[0m\u001b[0mhx\u001b[0m\u001b[0;34m,\u001b[0m \u001b[0mhx\u001b[0m\u001b[0;34m)\u001b[0m\u001b[0;34m\u001b[0m\u001b[0m\n\u001b[1;32m    169\u001b[0m \u001b[0;34m\u001b[0m\u001b[0m\n\u001b[0;32m--> 170\u001b[0;31m         \u001b[0mhas_flat_weights\u001b[0m \u001b[0;34m=\u001b[0m \u001b[0mlist\u001b[0m\u001b[0;34m(\u001b[0m\u001b[0mp\u001b[0m\u001b[0;34m.\u001b[0m\u001b[0mdata\u001b[0m\u001b[0;34m.\u001b[0m\u001b[0mdata_ptr\u001b[0m\u001b[0;34m(\u001b[0m\u001b[0;34m)\u001b[0m \u001b[0;32mfor\u001b[0m \u001b[0mp\u001b[0m \u001b[0;32min\u001b[0m \u001b[0mself\u001b[0m\u001b[0;34m.\u001b[0m\u001b[0mparameters\u001b[0m\u001b[0;34m(\u001b[0m\u001b[0;34m)\u001b[0m\u001b[0;34m)\u001b[0m \u001b[0;34m==\u001b[0m \u001b[0mself\u001b[0m\u001b[0;34m.\u001b[0m\u001b[0m_data_ptrs\u001b[0m\u001b[0;34m\u001b[0m\u001b[0m\n\u001b[0m\u001b[1;32m    171\u001b[0m         \u001b[0;32mif\u001b[0m \u001b[0mhas_flat_weights\u001b[0m\u001b[0;34m:\u001b[0m\u001b[0;34m\u001b[0m\u001b[0m\n\u001b[1;32m    172\u001b[0m             \u001b[0mfirst_data\u001b[0m \u001b[0;34m=\u001b[0m \u001b[0mnext\u001b[0m\u001b[0;34m(\u001b[0m\u001b[0mself\u001b[0m\u001b[0;34m.\u001b[0m\u001b[0mparameters\u001b[0m\u001b[0;34m(\u001b[0m\u001b[0;34m)\u001b[0m\u001b[0;34m)\u001b[0m\u001b[0;34m.\u001b[0m\u001b[0mdata\u001b[0m\u001b[0;34m\u001b[0m\u001b[0m\n",
      "\u001b[0;32m~/anaconda3/envs/chana/lib/python3.6/site-packages/torch/nn/modules/rnn.py\u001b[0m in \u001b[0;36m<genexpr>\u001b[0;34m(.0)\u001b[0m\n\u001b[1;32m    168\u001b[0m                 \u001b[0mhx\u001b[0m \u001b[0;34m=\u001b[0m \u001b[0;34m(\u001b[0m\u001b[0mhx\u001b[0m\u001b[0;34m,\u001b[0m \u001b[0mhx\u001b[0m\u001b[0;34m)\u001b[0m\u001b[0;34m\u001b[0m\u001b[0m\n\u001b[1;32m    169\u001b[0m \u001b[0;34m\u001b[0m\u001b[0m\n\u001b[0;32m--> 170\u001b[0;31m         \u001b[0mhas_flat_weights\u001b[0m \u001b[0;34m=\u001b[0m \u001b[0mlist\u001b[0m\u001b[0;34m(\u001b[0m\u001b[0mp\u001b[0m\u001b[0;34m.\u001b[0m\u001b[0mdata\u001b[0m\u001b[0;34m.\u001b[0m\u001b[0mdata_ptr\u001b[0m\u001b[0;34m(\u001b[0m\u001b[0;34m)\u001b[0m \u001b[0;32mfor\u001b[0m \u001b[0mp\u001b[0m \u001b[0;32min\u001b[0m \u001b[0mself\u001b[0m\u001b[0;34m.\u001b[0m\u001b[0mparameters\u001b[0m\u001b[0;34m(\u001b[0m\u001b[0;34m)\u001b[0m\u001b[0;34m)\u001b[0m \u001b[0;34m==\u001b[0m \u001b[0mself\u001b[0m\u001b[0;34m.\u001b[0m\u001b[0m_data_ptrs\u001b[0m\u001b[0;34m\u001b[0m\u001b[0m\n\u001b[0m\u001b[1;32m    171\u001b[0m         \u001b[0;32mif\u001b[0m \u001b[0mhas_flat_weights\u001b[0m\u001b[0;34m:\u001b[0m\u001b[0;34m\u001b[0m\u001b[0m\n\u001b[1;32m    172\u001b[0m             \u001b[0mfirst_data\u001b[0m \u001b[0;34m=\u001b[0m \u001b[0mnext\u001b[0m\u001b[0;34m(\u001b[0m\u001b[0mself\u001b[0m\u001b[0;34m.\u001b[0m\u001b[0mparameters\u001b[0m\u001b[0;34m(\u001b[0m\u001b[0;34m)\u001b[0m\u001b[0;34m)\u001b[0m\u001b[0;34m.\u001b[0m\u001b[0mdata\u001b[0m\u001b[0;34m\u001b[0m\u001b[0m\n",
      "\u001b[0;31mKeyboardInterrupt\u001b[0m: "
     ]
    }
   ],
   "source": [
    "model, train_losses, val_losses, val_auc_scores = train_model(\n",
    "                model, train_ds, val_ds, optimizer, criterion,\n",
    "                n_epochs=2, USE_CUDA=USE_CUDA)"
   ]
  },
  {
   "cell_type": "code",
   "execution_count": null,
   "metadata": {},
   "outputs": [],
   "source": []
  }
 ],
 "metadata": {
  "kernelspec": {
   "display_name": "Python 3",
   "language": "python",
   "name": "python3"
  },
  "language_info": {
   "codemirror_mode": {
    "name": "ipython",
    "version": 3
   },
   "file_extension": ".py",
   "mimetype": "text/x-python",
   "name": "python",
   "nbconvert_exporter": "python",
   "pygments_lexer": "ipython3",
   "version": "3.6.4"
  }
 },
 "nbformat": 4,
 "nbformat_minor": 2
}
