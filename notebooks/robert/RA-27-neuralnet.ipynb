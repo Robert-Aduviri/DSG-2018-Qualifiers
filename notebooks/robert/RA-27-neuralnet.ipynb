{
 "cells": [
  {
   "cell_type": "code",
   "execution_count": 1,
   "metadata": {},
   "outputs": [],
   "source": [
    "%load_ext autoreload\n",
    "%autoreload 2\n",
    "%matplotlib inline\n",
    "%config InlineBackend.figure_format = 'retina'\n",
    "\n",
    "import os, math\n",
    "import numpy as np, pandas as pd\n",
    "import matplotlib.pyplot as plt, seaborn as sns\n",
    "from tqdm import tqdm, tqdm_notebook\n",
    "from pathlib import Path\n",
    "pd.set_option('display.max_columns', 1000)\n",
    "pd.set_option('display.max_rows', 400)\n",
    "sns.set()\n",
    "\n",
    "os.chdir('../..')\n",
    "from src import utils"
   ]
  },
  {
   "cell_type": "code",
   "execution_count": 2,
   "metadata": {},
   "outputs": [],
   "source": [
    "DATA        = Path('data')\n",
    "RAW         = DATA/'raw'\n",
    "INTERIM     = DATA/'interim'\n",
    "PROCESSED   = DATA/'processed'\n",
    "SUBMISSIONS = DATA/'submissions'"
   ]
  },
  {
   "cell_type": "code",
   "execution_count": 3,
   "metadata": {},
   "outputs": [],
   "source": [
    "from src.utils import get_weeks\n",
    "# week_labels = get_weeks(day_from=20160104, num_weeks=121)[52:]\n",
    "# week_labels = get_weeks(day_from=20160104, num_weeks=121)[96:]\n",
    "week_labels = get_weeks(day_from=20160104, num_weeks=121)[104:]"
   ]
  },
  {
   "cell_type": "code",
   "execution_count": 4,
   "metadata": {},
   "outputs": [
    {
     "name": "stdout",
     "output_type": "stream",
     "text": [
      "[20180101, 20180108, 20180115, 20180122, 20180129, 20180205, 20180212, 20180219, 20180226, 20180305, 20180312, 20180319, 20180326, 20180402, 20180409, 20180416, 20180423]\n"
     ]
    }
   ],
   "source": [
    "print(week_labels)"
   ]
  },
  {
   "cell_type": "code",
   "execution_count": 5,
   "metadata": {},
   "outputs": [
    {
     "name": "stdout",
     "output_type": "stream",
     "text": [
      "CPU times: user 1min 23s, sys: 41.1 s, total: 2min 4s\n",
      "Wall time: 2min 8s\n"
     ]
    }
   ],
   "source": [
    "%%time\n",
    "train = pd.DataFrame()\n",
    "for name in week_labels[:-2]:\n",
    "    train = pd.concat([train, pd.read_feather(PROCESSED/f'SVD_17-18_72f/week_{name}_SVD_diffscount.feather')])"
   ]
  },
  {
   "cell_type": "code",
   "execution_count": 6,
   "metadata": {},
   "outputs": [
    {
     "name": "stdout",
     "output_type": "stream",
     "text": [
      "CPU times: user 800 ms, sys: 568 ms, total: 1.37 s\n",
      "Wall time: 3.24 s\n"
     ]
    }
   ],
   "source": [
    "%%time\n",
    "val = pd.read_feather(PROCESSED/f'SVD_17-18_72f/week_{week_labels[-2]}_SVD_diffscount.feather')\n",
    "test = pd.read_feather(PROCESSED/f'SVD_17-18_72f/week_{week_labels[-1]}_SVD_diffscount.feather')"
   ]
  },
  {
   "cell_type": "markdown",
   "metadata": {},
   "source": [
    "## Fill nan"
   ]
  },
  {
   "cell_type": "code",
   "execution_count": null,
   "metadata": {},
   "outputs": [],
   "source": [
    "%%time\n",
    "nan_cols = ['Subsector', 'IndustrySector', 'IndustrySubgroup', 'MarketIssue']\n",
    "train.fillna({x: '-999' for x in nan_cols}, inplace=True)\n",
    "val.fillna({x: '-999' for x in nan_cols}, inplace=True)\n",
    "test.fillna({x: '-999' for x in nan_cols}, inplace=True)"
   ]
  },
  {
   "cell_type": "markdown",
   "metadata": {},
   "source": [
    "# Preprocessing"
   ]
  },
  {
   "cell_type": "code",
   "execution_count": 8,
   "metadata": {},
   "outputs": [],
   "source": [
    "cat_cols = ['BuySell', 'Sector', 'Subsector', 'Region_x', 'Country', \n",
    "            'TickerIdx', 'Seniority', 'Currency', 'ActivityGroup', \n",
    "            'Region_y', 'Activity', 'RiskCaptain', 'Owner', \n",
    "            'IndustrySector', 'IndustrySubgroup', 'MarketIssue', 'CouponType']\n",
    "id_cols = ['TradeDateKey', 'CustomerIdx', 'IsinIdx']\n",
    "target_col = 'CustomerInterest'\n",
    "pred_col = 'PredictionIdx'\n",
    "num_cols = [c for c in train.columns \\\n",
    "              if c not in id_cols + cat_cols and c != target_col]"
   ]
  },
  {
   "cell_type": "code",
   "execution_count": 9,
   "metadata": {},
   "outputs": [
    {
     "name": "stdout",
     "output_type": "stream",
     "text": [
      "CPU times: user 13.7 s, sys: 2.58 s, total: 16.3 s\n",
      "Wall time: 16.8 s\n"
     ]
    }
   ],
   "source": [
    "%%time\n",
    "# Label encode cats\n",
    "from src.utils import to_cat_codes, apply_cats\n",
    "to_cat_codes(train, cat_cols)\n",
    "apply_cats(val, train)\n",
    "apply_cats(test, train)\n",
    "\n",
    "for col in cat_cols:\n",
    "    train[col] = train[col].cat.codes\n",
    "    val[col] = val[col].cat.codes\n",
    "    test[col] = test[col].cat.codes"
   ]
  },
  {
   "cell_type": "code",
   "execution_count": 38,
   "metadata": {},
   "outputs": [
    {
     "name": "stdout",
     "output_type": "stream",
     "text": [
      "BuySell 0 0 0\n",
      "Sector 0 0 0\n",
      "Subsector 0 0 0\n",
      "Region_x 0 0 0\n",
      "Country 0 0 0\n",
      "TickerIdx 0 -1 0\n",
      "Seniority 0 0 0\n",
      "Currency 0 0 0\n",
      "ActivityGroup 0 0 0\n",
      "Region_y 0 0 0\n",
      "Activity 0 0 0\n",
      "RiskCaptain 0 0 0\n",
      "Owner 0 0 0\n",
      "IndustrySector 0 0 0\n",
      "IndustrySubgroup 0 0 0\n",
      "MarketIssue 0 0 0\n",
      "CouponType 0 0 0\n"
     ]
    }
   ],
   "source": [
    "for col in cat_cols:\n",
    "    print(col, train[col].min(), val[col].min(), test[col].min())"
   ]
  },
  {
   "cell_type": "code",
   "execution_count": 10,
   "metadata": {},
   "outputs": [],
   "source": [
    "# Val has 1 OOF \n",
    "train['TickerIdx'] = train['TickerIdx'] + 1\n",
    "val['TickerIdx'] = val['TickerIdx'] + 1\n",
    "test['TickerIdx'] = test['TickerIdx'] + 1"
   ]
  },
  {
   "cell_type": "code",
   "execution_count": 11,
   "metadata": {},
   "outputs": [
    {
     "ename": "MemoryError",
     "evalue": "",
     "output_type": "error",
     "traceback": [
      "\u001b[0;31m---------------------------------------------------------------------------\u001b[0m",
      "\u001b[0;31mMemoryError\u001b[0m                               Traceback (most recent call last)",
      "\u001b[0;32m<timed exec>\u001b[0m in \u001b[0;36m<module>\u001b[0;34m()\u001b[0m\n",
      "\u001b[0;32m~/anaconda3/envs/chana/lib/python3.6/site-packages/pandas/core/reshape/concat.py\u001b[0m in \u001b[0;36mconcat\u001b[0;34m(objs, axis, join, join_axes, ignore_index, keys, levels, names, verify_integrity, copy)\u001b[0m\n\u001b[1;32m    211\u001b[0m                        \u001b[0mverify_integrity\u001b[0m\u001b[0;34m=\u001b[0m\u001b[0mverify_integrity\u001b[0m\u001b[0;34m,\u001b[0m\u001b[0;34m\u001b[0m\u001b[0m\n\u001b[1;32m    212\u001b[0m                        copy=copy)\n\u001b[0;32m--> 213\u001b[0;31m     \u001b[0;32mreturn\u001b[0m \u001b[0mop\u001b[0m\u001b[0;34m.\u001b[0m\u001b[0mget_result\u001b[0m\u001b[0;34m(\u001b[0m\u001b[0;34m)\u001b[0m\u001b[0;34m\u001b[0m\u001b[0m\n\u001b[0m\u001b[1;32m    214\u001b[0m \u001b[0;34m\u001b[0m\u001b[0m\n\u001b[1;32m    215\u001b[0m \u001b[0;34m\u001b[0m\u001b[0m\n",
      "\u001b[0;32m~/anaconda3/envs/chana/lib/python3.6/site-packages/pandas/core/reshape/concat.py\u001b[0m in \u001b[0;36mget_result\u001b[0;34m(self)\u001b[0m\n\u001b[1;32m    406\u001b[0m             new_data = concatenate_block_managers(\n\u001b[1;32m    407\u001b[0m                 \u001b[0mmgrs_indexers\u001b[0m\u001b[0;34m,\u001b[0m \u001b[0mself\u001b[0m\u001b[0;34m.\u001b[0m\u001b[0mnew_axes\u001b[0m\u001b[0;34m,\u001b[0m \u001b[0mconcat_axis\u001b[0m\u001b[0;34m=\u001b[0m\u001b[0mself\u001b[0m\u001b[0;34m.\u001b[0m\u001b[0maxis\u001b[0m\u001b[0;34m,\u001b[0m\u001b[0;34m\u001b[0m\u001b[0m\n\u001b[0;32m--> 408\u001b[0;31m                 copy=self.copy)\n\u001b[0m\u001b[1;32m    409\u001b[0m             \u001b[0;32mif\u001b[0m \u001b[0;32mnot\u001b[0m \u001b[0mself\u001b[0m\u001b[0;34m.\u001b[0m\u001b[0mcopy\u001b[0m\u001b[0;34m:\u001b[0m\u001b[0;34m\u001b[0m\u001b[0m\n\u001b[1;32m    410\u001b[0m                 \u001b[0mnew_data\u001b[0m\u001b[0;34m.\u001b[0m\u001b[0m_consolidate_inplace\u001b[0m\u001b[0;34m(\u001b[0m\u001b[0;34m)\u001b[0m\u001b[0;34m\u001b[0m\u001b[0m\n",
      "\u001b[0;32m~/anaconda3/envs/chana/lib/python3.6/site-packages/pandas/core/internals.py\u001b[0m in \u001b[0;36mconcatenate_block_managers\u001b[0;34m(mgrs_indexers, axes, concat_axis, copy)\u001b[0m\n\u001b[1;32m   5201\u001b[0m         \u001b[0;32melse\u001b[0m\u001b[0;34m:\u001b[0m\u001b[0;34m\u001b[0m\u001b[0m\n\u001b[1;32m   5202\u001b[0m             b = make_block(\n\u001b[0;32m-> 5203\u001b[0;31m                 \u001b[0mconcatenate_join_units\u001b[0m\u001b[0;34m(\u001b[0m\u001b[0mjoin_units\u001b[0m\u001b[0;34m,\u001b[0m \u001b[0mconcat_axis\u001b[0m\u001b[0;34m,\u001b[0m \u001b[0mcopy\u001b[0m\u001b[0;34m=\u001b[0m\u001b[0mcopy\u001b[0m\u001b[0;34m)\u001b[0m\u001b[0;34m,\u001b[0m\u001b[0;34m\u001b[0m\u001b[0m\n\u001b[0m\u001b[1;32m   5204\u001b[0m                 placement=placement)\n\u001b[1;32m   5205\u001b[0m         \u001b[0mblocks\u001b[0m\u001b[0;34m.\u001b[0m\u001b[0mappend\u001b[0m\u001b[0;34m(\u001b[0m\u001b[0mb\u001b[0m\u001b[0;34m)\u001b[0m\u001b[0;34m\u001b[0m\u001b[0m\n",
      "\u001b[0;32m~/anaconda3/envs/chana/lib/python3.6/site-packages/pandas/core/internals.py\u001b[0m in \u001b[0;36mconcatenate_join_units\u001b[0;34m(join_units, concat_axis, copy)\u001b[0m\n\u001b[1;32m   5330\u001b[0m     to_concat = [ju.get_reindexed_values(empty_dtype=empty_dtype,\n\u001b[1;32m   5331\u001b[0m                                          upcasted_na=upcasted_na)\n\u001b[0;32m-> 5332\u001b[0;31m                  for ju in join_units]\n\u001b[0m\u001b[1;32m   5333\u001b[0m \u001b[0;34m\u001b[0m\u001b[0m\n\u001b[1;32m   5334\u001b[0m     \u001b[0;32mif\u001b[0m \u001b[0mlen\u001b[0m\u001b[0;34m(\u001b[0m\u001b[0mto_concat\u001b[0m\u001b[0;34m)\u001b[0m \u001b[0;34m==\u001b[0m \u001b[0;36m1\u001b[0m\u001b[0;34m:\u001b[0m\u001b[0;34m\u001b[0m\u001b[0m\n",
      "\u001b[0;32m~/anaconda3/envs/chana/lib/python3.6/site-packages/pandas/core/internals.py\u001b[0m in \u001b[0;36m<listcomp>\u001b[0;34m(.0)\u001b[0m\n\u001b[1;32m   5330\u001b[0m     to_concat = [ju.get_reindexed_values(empty_dtype=empty_dtype,\n\u001b[1;32m   5331\u001b[0m                                          upcasted_na=upcasted_na)\n\u001b[0;32m-> 5332\u001b[0;31m                  for ju in join_units]\n\u001b[0m\u001b[1;32m   5333\u001b[0m \u001b[0;34m\u001b[0m\u001b[0m\n\u001b[1;32m   5334\u001b[0m     \u001b[0;32mif\u001b[0m \u001b[0mlen\u001b[0m\u001b[0;34m(\u001b[0m\u001b[0mto_concat\u001b[0m\u001b[0;34m)\u001b[0m \u001b[0;34m==\u001b[0m \u001b[0;36m1\u001b[0m\u001b[0;34m:\u001b[0m\u001b[0;34m\u001b[0m\u001b[0m\n",
      "\u001b[0;32m~/anaconda3/envs/chana/lib/python3.6/site-packages/pandas/core/internals.py\u001b[0m in \u001b[0;36mget_reindexed_values\u001b[0;34m(self, empty_dtype, upcasted_na)\u001b[0m\n\u001b[1;32m   5630\u001b[0m             \u001b[0;32mfor\u001b[0m \u001b[0max\u001b[0m\u001b[0;34m,\u001b[0m \u001b[0mindexer\u001b[0m \u001b[0;32min\u001b[0m \u001b[0mself\u001b[0m\u001b[0;34m.\u001b[0m\u001b[0mindexers\u001b[0m\u001b[0;34m.\u001b[0m\u001b[0mitems\u001b[0m\u001b[0;34m(\u001b[0m\u001b[0;34m)\u001b[0m\u001b[0;34m:\u001b[0m\u001b[0;34m\u001b[0m\u001b[0m\n\u001b[1;32m   5631\u001b[0m                 values = algos.take_nd(values, indexer, axis=ax,\n\u001b[0;32m-> 5632\u001b[0;31m                                        fill_value=fill_value)\n\u001b[0m\u001b[1;32m   5633\u001b[0m \u001b[0;34m\u001b[0m\u001b[0m\n\u001b[1;32m   5634\u001b[0m         \u001b[0;32mreturn\u001b[0m \u001b[0mvalues\u001b[0m\u001b[0;34m\u001b[0m\u001b[0m\n",
      "\u001b[0;32m~/anaconda3/envs/chana/lib/python3.6/site-packages/pandas/core/algorithms.py\u001b[0m in \u001b[0;36mtake_nd\u001b[0;34m(arr, indexer, axis, out, fill_value, mask_info, allow_fill)\u001b[0m\n\u001b[1;32m   1377\u001b[0m             \u001b[0mout\u001b[0m \u001b[0;34m=\u001b[0m \u001b[0mnp\u001b[0m\u001b[0;34m.\u001b[0m\u001b[0mempty\u001b[0m\u001b[0;34m(\u001b[0m\u001b[0mout_shape\u001b[0m\u001b[0;34m,\u001b[0m \u001b[0mdtype\u001b[0m\u001b[0;34m=\u001b[0m\u001b[0mdtype\u001b[0m\u001b[0;34m,\u001b[0m \u001b[0morder\u001b[0m\u001b[0;34m=\u001b[0m\u001b[0;34m'F'\u001b[0m\u001b[0;34m)\u001b[0m\u001b[0;34m\u001b[0m\u001b[0m\n\u001b[1;32m   1378\u001b[0m         \u001b[0;32melse\u001b[0m\u001b[0;34m:\u001b[0m\u001b[0;34m\u001b[0m\u001b[0m\n\u001b[0;32m-> 1379\u001b[0;31m             \u001b[0mout\u001b[0m \u001b[0;34m=\u001b[0m \u001b[0mnp\u001b[0m\u001b[0;34m.\u001b[0m\u001b[0mempty\u001b[0m\u001b[0;34m(\u001b[0m\u001b[0mout_shape\u001b[0m\u001b[0;34m,\u001b[0m \u001b[0mdtype\u001b[0m\u001b[0;34m=\u001b[0m\u001b[0mdtype\u001b[0m\u001b[0;34m)\u001b[0m\u001b[0;34m\u001b[0m\u001b[0m\n\u001b[0m\u001b[1;32m   1380\u001b[0m \u001b[0;34m\u001b[0m\u001b[0m\n\u001b[1;32m   1381\u001b[0m     func = _get_take_nd_function(arr.ndim, arr.dtype, out.dtype, axis=axis,\n",
      "\u001b[0;31mMemoryError\u001b[0m: "
     ]
    }
   ],
   "source": [
    "%%time\n",
    "# Scale conts\n",
    "from sklearn.preprocessing import StandardScaler\n",
    "scaler = StandardScaler().fit(pd.concat([train[num_cols], \n",
    "                                         val[num_cols], test[num_cols]]))"
   ]
  },
  {
   "cell_type": "code",
   "execution_count": 24,
   "metadata": {},
   "outputs": [],
   "source": [
    "import pickle\n",
    "with open(INTERIM/'scaler.pkl', 'rb') as f:\n",
    "    scaler = pickle.load(f)"
   ]
  },
  {
   "cell_type": "code",
   "execution_count": 25,
   "metadata": {},
   "outputs": [],
   "source": [
    "def scale_features(df, scaler, num_cols):\n",
    "    scaled = scaler.transform(df[num_cols])\n",
    "    for i, col in enumerate(num_cols):\n",
    "        df[col] = scaled[:,i]"
   ]
  },
  {
   "cell_type": "code",
   "execution_count": 26,
   "metadata": {},
   "outputs": [
    {
     "name": "stdout",
     "output_type": "stream",
     "text": [
      "CPU times: user 6.67 s, sys: 8.05 s, total: 14.7 s\n",
      "Wall time: 14.7 s\n"
     ]
    }
   ],
   "source": [
    "%%time\n",
    "scale_features(train, scaler, num_cols)\n",
    "scale_features(val, scaler, num_cols)\n",
    "scale_features(test, scaler, num_cols)"
   ]
  },
  {
   "cell_type": "markdown",
   "metadata": {},
   "source": [
    "# Model"
   ]
  },
  {
   "cell_type": "code",
   "execution_count": 27,
   "metadata": {},
   "outputs": [],
   "source": [
    "import torch\n",
    "import torch.utils.data\n",
    "import torch.nn as nn\n",
    "import torch.nn.functional as F\n",
    "from torch.autograd import Variable\n",
    "from torch import optim"
   ]
  },
  {
   "cell_type": "code",
   "execution_count": 28,
   "metadata": {},
   "outputs": [],
   "source": [
    "cat_szs = [int(train[col].max() + 1) for col in cat_cols]"
   ]
  },
  {
   "cell_type": "code",
   "execution_count": 29,
   "metadata": {},
   "outputs": [
    {
     "data": {
      "text/plain": [
       "[2, 5, 35, 3, 86, 3240, 9, 21, 3, 8, 15, 37, 101, 13, 329, 14, 6]"
      ]
     },
     "execution_count": 29,
     "metadata": {},
     "output_type": "execute_result"
    }
   ],
   "source": [
    "cat_szs"
   ]
  },
  {
   "cell_type": "code",
   "execution_count": 30,
   "metadata": {},
   "outputs": [],
   "source": [
    "emb_szs = [(c, min(50, (c+1)//2)) for c in cat_szs]"
   ]
  },
  {
   "cell_type": "code",
   "execution_count": 31,
   "metadata": {},
   "outputs": [
    {
     "data": {
      "text/plain": [
       "[(2, 1),\n",
       " (5, 3),\n",
       " (35, 18),\n",
       " (3, 2),\n",
       " (86, 43),\n",
       " (3240, 50),\n",
       " (9, 5),\n",
       " (21, 11),\n",
       " (3, 2),\n",
       " (8, 4),\n",
       " (15, 8),\n",
       " (37, 19),\n",
       " (101, 50),\n",
       " (13, 7),\n",
       " (329, 50),\n",
       " (14, 7),\n",
       " (6, 3)]"
      ]
     },
     "execution_count": 31,
     "metadata": {},
     "output_type": "execute_result"
    }
   ],
   "source": [
    "emb_szs"
   ]
  },
  {
   "cell_type": "code",
   "execution_count": 74,
   "metadata": {},
   "outputs": [],
   "source": [
    "class NeuralNet(nn.Module):\n",
    "    def __init__(self, emb_szs, n_cont, emb_drop, out_sz, szs, drops,\n",
    "                 use_bn=False):\n",
    "        super().__init__()\n",
    "        \n",
    "        self.embs = nn.ModuleList([\n",
    "            nn.Embedding(c, s) for c,s in emb_szs\n",
    "        ])\n",
    "        for emb in self.embs:\n",
    "            self.emb_init(emb)\n",
    "            \n",
    "        n_emb = sum(e.embedding_dim for e in self.embs)\n",
    "        self.n_emb, self.n_cont = n_emb, n_cont\n",
    "        szs = [n_emb + n_cont] + szs\n",
    "        \n",
    "        self.lins = nn.ModuleList([\n",
    "            nn.Linear(szs[i], szs[i+1]) for i in range(len(szs)-1)\n",
    "        ])\n",
    "        for o in self.lins: \n",
    "            nn.init.kaiming_normal_(o.weight.data)\n",
    "        \n",
    "        self.bns = nn.ModuleList([\n",
    "            nn.BatchNorm1d(sz) for sz in szs[1:]\n",
    "        ])        \n",
    "            \n",
    "        self.outp = nn.Linear(szs[-1], out_sz)\n",
    "        nn.init.kaiming_normal_(self.outp.weight.data)\n",
    "        \n",
    "        self.emb_drop = nn.Dropout(emb_drop)\n",
    "        self.drops = nn.ModuleList([\n",
    "            nn.Dropout(drop) for drop in drops\n",
    "        ])\n",
    "        self.bn = nn.BatchNorm1d(n_cont)\n",
    "        \n",
    "        self.use_bn = use_bn\n",
    "    \n",
    "    def forward(self, x_cat, x_cont):\n",
    "        if self.n_emb != 0:\n",
    "            x = [emb(x_cat[:,i]) for i,emb in enumerate(self.embs)]\n",
    "            x = torch.cat(x, 1)\n",
    "            x = self.emb_drop(x)\n",
    "        if self.n_cont != 0:\n",
    "            x2 = self.bn(x_cont)\n",
    "            x = torch.cat([x, x2], 1) if self.n_emb != 0 else x2\n",
    "        for lin, drop, bn in zip(self.lins, self.drops, self.bns):\n",
    "            x = F.relu(lin(x))\n",
    "            if self.use_bn:\n",
    "                x = bn(x)\n",
    "            x = drop(x)\n",
    "        return self.outp(x) # coupled with BCEWithLogitsLoss\n",
    "    \n",
    "    def emb_init(self, x):\n",
    "        # higher init range for low-dimensional embeddings\n",
    "        x = x.weight.data\n",
    "        sc = 2 / (x.size(1) + 1)\n",
    "        x.uniform_(-sc, sc)"
   ]
  },
  {
   "cell_type": "code",
   "execution_count": 75,
   "metadata": {},
   "outputs": [],
   "source": [
    "class TabularDataset(torch.utils.data.Dataset):\n",
    "    def __init__(self, df, cat_cols, num_cols, target_col=None):\n",
    "        self.cats = df[cat_cols].values.astype(np.int64)\n",
    "        self.conts = df[num_cols].values.astype(np.float32)\n",
    "        self.target = df[target_col].values.astype(np.float32) if target_col \\\n",
    "                            else np.zeros((len(df),1)).astype(np.float32)\n",
    "    \n",
    "    def __len__(self):\n",
    "        return len(self.target)\n",
    "    \n",
    "    def __getitem__(self, idx):\n",
    "        return [self.cats[idx], self.conts[idx], self.target[idx]]"
   ]
  },
  {
   "cell_type": "code",
   "execution_count": 76,
   "metadata": {},
   "outputs": [],
   "source": [
    "from torch.utils.data import DataLoader"
   ]
  },
  {
   "cell_type": "code",
   "execution_count": 116,
   "metadata": {},
   "outputs": [
    {
     "name": "stdout",
     "output_type": "stream",
     "text": [
      "CPU times: user 1.76 s, sys: 2.52 s, total: 4.28 s\n",
      "Wall time: 4.28 s\n"
     ]
    }
   ],
   "source": [
    "%%time\n",
    "train_ds = DataLoader(TabularDataset(train, cat_cols, num_cols, target_col), batch_size=128, shuffle=True)\n",
    "val_ds = DataLoader(TabularDataset(val, cat_cols, num_cols, target_col), batch_size=128)\n",
    "test_ds = DataLoader(TabularDataset(test, cat_cols, num_cols), batch_size=128)"
   ]
  },
  {
   "cell_type": "code",
   "execution_count": 78,
   "metadata": {},
   "outputs": [],
   "source": [
    "USE_CUDA = True"
   ]
  },
  {
   "cell_type": "code",
   "execution_count": 79,
   "metadata": {},
   "outputs": [],
   "source": [
    "# emb_szs = [(2, 1),\n",
    "#  (5, 3),\n",
    "#  (36, 18),\n",
    "#  (3, 2),\n",
    "#  (86, 43),\n",
    "#  (3240, 50),\n",
    "#  (9, 5),\n",
    "#  (21, 11),\n",
    "#  (3, 2),\n",
    "#  (8, 4),\n",
    "#  (15, 8),\n",
    "#  (37, 19),\n",
    "#  (101, 50),\n",
    "#  (14, 7),\n",
    "#  (330, 50),\n",
    "#  (15, 8),\n",
    "#  (6, 3)]\n",
    "# num_cols = ['a'] * 51"
   ]
  },
  {
   "cell_type": "code",
   "execution_count": 80,
   "metadata": {},
   "outputs": [
    {
     "data": {
      "text/plain": [
       "(17, 51)"
      ]
     },
     "execution_count": 80,
     "metadata": {},
     "output_type": "execute_result"
    }
   ],
   "source": [
    "len(cat_cols), len(num_cols)"
   ]
  },
  {
   "cell_type": "code",
   "execution_count": 81,
   "metadata": {},
   "outputs": [],
   "source": [
    "model = NeuralNet(emb_szs, n_cont=len(num_cols), emb_drop=0.04, \n",
    "                  out_sz=1, szs=[1000, 500], drops=[0.001, 0.01],\n",
    "                  use_bn=True)\n",
    "if USE_CUDA:\n",
    "    model = model.cuda()"
   ]
  },
  {
   "cell_type": "code",
   "execution_count": 82,
   "metadata": {},
   "outputs": [],
   "source": [
    "optimizer = optim.Adam(model.parameters(), lr=1e-3)\n",
    "criterion = nn.BCEWithLogitsLoss()"
   ]
  },
  {
   "cell_type": "code",
   "execution_count": 83,
   "metadata": {},
   "outputs": [],
   "source": [
    "def train_step(cats, conts, target, model, optimizer, criterion, train=True):\n",
    "    if train:\n",
    "        optimizer.zero_grad()\n",
    "    pred = model(cats, conts)\n",
    "    loss = criterion(pred.view(-1), target)\n",
    "    if train:\n",
    "        loss.backward()\n",
    "        optimizer.step()\n",
    "    return loss.item()"
   ]
  },
  {
   "cell_type": "code",
   "execution_count": 84,
   "metadata": {},
   "outputs": [],
   "source": [
    "def train_model(model, optimizer, criterion, train_loader, val_loader, \n",
    "                n_epochs, print_every=800, val_every=4000, USE_CUDA=False):\n",
    "    train_losses = []\n",
    "    val_losses = []\n",
    "    for epoch in range(n_epochs):\n",
    "        model.train()\n",
    "        train_loss, val_loss = 0, 0\n",
    "        for batch_idx, (cats, conts, target) in enumerate(train_loader):\n",
    "            cats, conts, target = Variable(cats), Variable(conts), Variable(target)\n",
    "            if USE_CUDA:\n",
    "                cats, conts, target = cats.cuda(), conts.cuda(), target.cuda()\n",
    "            train_loss += train_step(cats, conts, target, model, optimizer, \n",
    "                                     criterion, train=True)\n",
    "            if batch_idx % print_every == 0:\n",
    "                train_loss /= print_every\n",
    "                print('Train Epoch: {} [{}/{} ({:.0f}%)]\\tLoss: {:.6f}'.format(\n",
    "                        epoch, batch_idx * len(cats), len(train_loader.dataset),\n",
    "                        100. * batch_idx / len(train_loader), train_loss))\n",
    "                train_losses.append(train_loss)\n",
    "                train_loss = 0\n",
    "            if batch_idx % val_every == 0:\n",
    "                targets, preds = get_predictions(model, val_ds, USE_CUDA=False)\n",
    "                val_loss = nn.BCELoss()(targets, preds)\n",
    "                val_losses.append(val_loss)\n",
    "                print('Validation Loss: {val_loss:.6f}')\n",
    "                \n",
    "        print()\n",
    "                \n",
    "    return model, train_losses, val_losses"
   ]
  },
  {
   "cell_type": "code",
   "execution_count": 30,
   "metadata": {},
   "outputs": [],
   "source": [
    "model.load_state_dict(torch.load(INTERIM/'model_weights.pkl'))"
   ]
  },
  {
   "cell_type": "markdown",
   "metadata": {},
   "source": [
    "## Train"
   ]
  },
  {
   "cell_type": "code",
   "execution_count": 86,
   "metadata": {},
   "outputs": [
    {
     "name": "stdout",
     "output_type": "stream",
     "text": [
      "Train Epoch: 0 [0/8102750 (0%)]\tLoss: 0.000944\n",
      "Train Epoch: 0 [102400/8102750 (1%)]\tLoss: 0.165147\n",
      "Train Epoch: 0 [204800/8102750 (3%)]\tLoss: 0.134937\n",
      "Train Epoch: 0 [307200/8102750 (4%)]\tLoss: 0.133561\n",
      "Train Epoch: 0 [409600/8102750 (5%)]\tLoss: 0.133027\n",
      "Train Epoch: 0 [512000/8102750 (6%)]\tLoss: 0.129652\n",
      "Train Epoch: 0 [614400/8102750 (8%)]\tLoss: 0.131317\n",
      "Train Epoch: 0 [716800/8102750 (9%)]\tLoss: 0.130191\n",
      "Train Epoch: 0 [819200/8102750 (10%)]\tLoss: 0.131893\n",
      "Train Epoch: 0 [921600/8102750 (11%)]\tLoss: 0.128500\n",
      "Train Epoch: 0 [1024000/8102750 (13%)]\tLoss: 0.129030\n",
      "Train Epoch: 0 [1126400/8102750 (14%)]\tLoss: 0.131570\n",
      "Train Epoch: 0 [1228800/8102750 (15%)]\tLoss: 0.131791\n",
      "Train Epoch: 0 [1331200/8102750 (16%)]\tLoss: 0.127530\n",
      "Train Epoch: 0 [1433600/8102750 (18%)]\tLoss: 0.128304\n",
      "Train Epoch: 0 [1536000/8102750 (19%)]\tLoss: 0.129086\n",
      "Train Epoch: 0 [1638400/8102750 (20%)]\tLoss: 0.126029\n",
      "Train Epoch: 0 [1740800/8102750 (21%)]\tLoss: 0.127278\n",
      "Train Epoch: 0 [1843200/8102750 (23%)]\tLoss: 0.126728\n",
      "Train Epoch: 0 [1945600/8102750 (24%)]\tLoss: 0.127412\n",
      "Train Epoch: 0 [2048000/8102750 (25%)]\tLoss: 0.126461\n",
      "Train Epoch: 0 [2150400/8102750 (27%)]\tLoss: 0.123378\n",
      "Train Epoch: 0 [2252800/8102750 (28%)]\tLoss: 0.126387\n",
      "Train Epoch: 0 [2355200/8102750 (29%)]\tLoss: 0.129594\n",
      "Train Epoch: 0 [2457600/8102750 (30%)]\tLoss: 0.124305\n",
      "Train Epoch: 0 [2560000/8102750 (32%)]\tLoss: 0.124500\n",
      "Train Epoch: 0 [2662400/8102750 (33%)]\tLoss: 0.125717\n",
      "Train Epoch: 0 [2764800/8102750 (34%)]\tLoss: 0.126847\n",
      "Train Epoch: 0 [2867200/8102750 (35%)]\tLoss: 0.123908\n",
      "Train Epoch: 0 [2969600/8102750 (37%)]\tLoss: 0.133540\n",
      "Train Epoch: 0 [3072000/8102750 (38%)]\tLoss: 0.125338\n",
      "Train Epoch: 0 [3174400/8102750 (39%)]\tLoss: 0.123670\n",
      "Train Epoch: 0 [3276800/8102750 (40%)]\tLoss: 0.127488\n",
      "Train Epoch: 0 [3379200/8102750 (42%)]\tLoss: 0.125318\n",
      "Train Epoch: 0 [3481600/8102750 (43%)]\tLoss: 0.124623\n",
      "Train Epoch: 0 [3584000/8102750 (44%)]\tLoss: 0.126328\n",
      "Train Epoch: 0 [3686400/8102750 (45%)]\tLoss: 0.123705\n",
      "Train Epoch: 0 [3788800/8102750 (47%)]\tLoss: 0.124884\n",
      "Train Epoch: 0 [3891200/8102750 (48%)]\tLoss: 0.127141\n",
      "Train Epoch: 0 [3993600/8102750 (49%)]\tLoss: 0.127080\n",
      "Train Epoch: 0 [4096000/8102750 (51%)]\tLoss: 0.124165\n",
      "Train Epoch: 0 [4198400/8102750 (52%)]\tLoss: 0.123330\n",
      "Train Epoch: 0 [4300800/8102750 (53%)]\tLoss: 0.125164\n",
      "Train Epoch: 0 [4403200/8102750 (54%)]\tLoss: 0.126712\n",
      "Train Epoch: 0 [4505600/8102750 (56%)]\tLoss: 0.127198\n",
      "Train Epoch: 0 [4608000/8102750 (57%)]\tLoss: 0.124683\n",
      "Train Epoch: 0 [4710400/8102750 (58%)]\tLoss: 0.124813\n",
      "Train Epoch: 0 [4812800/8102750 (59%)]\tLoss: 0.125644\n",
      "Train Epoch: 0 [4915200/8102750 (61%)]\tLoss: 0.125132\n",
      "Train Epoch: 0 [5017600/8102750 (62%)]\tLoss: 0.124376\n",
      "Train Epoch: 0 [5120000/8102750 (63%)]\tLoss: 0.124224\n",
      "Train Epoch: 0 [5222400/8102750 (64%)]\tLoss: 0.125332\n",
      "Train Epoch: 0 [5324800/8102750 (66%)]\tLoss: 0.123758\n",
      "Train Epoch: 0 [5427200/8102750 (67%)]\tLoss: 0.122814\n",
      "Train Epoch: 0 [5529600/8102750 (68%)]\tLoss: 0.126076\n",
      "Train Epoch: 0 [5632000/8102750 (70%)]\tLoss: 0.122367\n",
      "Train Epoch: 0 [5734400/8102750 (71%)]\tLoss: 0.124652\n",
      "Train Epoch: 0 [5836800/8102750 (72%)]\tLoss: 0.125488\n",
      "Train Epoch: 0 [5939200/8102750 (73%)]\tLoss: 0.122853\n",
      "Train Epoch: 0 [6041600/8102750 (75%)]\tLoss: 0.122598\n",
      "Train Epoch: 0 [6144000/8102750 (76%)]\tLoss: 0.127832\n",
      "Train Epoch: 0 [6246400/8102750 (77%)]\tLoss: 0.122597\n",
      "Train Epoch: 0 [6348800/8102750 (78%)]\tLoss: 0.124114\n",
      "Train Epoch: 0 [6451200/8102750 (80%)]\tLoss: 0.124589\n",
      "Train Epoch: 0 [6553600/8102750 (81%)]\tLoss: 0.123294\n",
      "Train Epoch: 0 [6656000/8102750 (82%)]\tLoss: 0.123602\n",
      "Train Epoch: 0 [6758400/8102750 (83%)]\tLoss: 0.124233\n",
      "Train Epoch: 0 [6860800/8102750 (85%)]\tLoss: 0.126982\n",
      "Train Epoch: 0 [6963200/8102750 (86%)]\tLoss: 0.122694\n",
      "Train Epoch: 0 [7065600/8102750 (87%)]\tLoss: 0.121507\n",
      "Train Epoch: 0 [7168000/8102750 (88%)]\tLoss: 0.124758\n",
      "Train Epoch: 0 [7270400/8102750 (90%)]\tLoss: 0.128017\n",
      "Train Epoch: 0 [7372800/8102750 (91%)]\tLoss: 0.124046\n",
      "Train Epoch: 0 [7475200/8102750 (92%)]\tLoss: 0.124227\n",
      "Train Epoch: 0 [7577600/8102750 (94%)]\tLoss: 0.129337\n",
      "Train Epoch: 0 [7680000/8102750 (95%)]\tLoss: 0.125863\n",
      "Train Epoch: 0 [7782400/8102750 (96%)]\tLoss: 0.123833\n",
      "Train Epoch: 0 [7884800/8102750 (97%)]\tLoss: 0.120955\n",
      "Train Epoch: 0 [7987200/8102750 (99%)]\tLoss: 0.123644\n",
      "Train Epoch: 0 [8089600/8102750 (100%)]\tLoss: 0.122602\n",
      "Train Epoch: 1 [0/8102750 (0%)]\tLoss: 0.000172\n",
      "Train Epoch: 1 [102400/8102750 (1%)]\tLoss: 0.123000\n",
      "Train Epoch: 1 [204800/8102750 (3%)]\tLoss: 0.124533\n",
      "Train Epoch: 1 [307200/8102750 (4%)]\tLoss: 0.122141\n",
      "Train Epoch: 1 [409600/8102750 (5%)]\tLoss: 0.122686\n",
      "Train Epoch: 1 [512000/8102750 (6%)]\tLoss: 0.124055\n",
      "Train Epoch: 1 [614400/8102750 (8%)]\tLoss: 0.121918\n",
      "Train Epoch: 1 [716800/8102750 (9%)]\tLoss: 0.123679\n",
      "Train Epoch: 1 [819200/8102750 (10%)]\tLoss: 0.124163\n",
      "Train Epoch: 1 [921600/8102750 (11%)]\tLoss: 0.123452\n",
      "Train Epoch: 1 [1024000/8102750 (13%)]\tLoss: 0.122774\n",
      "Train Epoch: 1 [1126400/8102750 (14%)]\tLoss: 0.125652\n",
      "Train Epoch: 1 [1228800/8102750 (15%)]\tLoss: 0.123188\n",
      "Train Epoch: 1 [1331200/8102750 (16%)]\tLoss: 0.121710\n",
      "Train Epoch: 1 [1433600/8102750 (18%)]\tLoss: 0.123365\n",
      "Train Epoch: 1 [1536000/8102750 (19%)]\tLoss: 0.120922\n",
      "Train Epoch: 1 [1638400/8102750 (20%)]\tLoss: 0.121646\n",
      "Train Epoch: 1 [1740800/8102750 (21%)]\tLoss: 0.123674\n",
      "Train Epoch: 1 [1843200/8102750 (23%)]\tLoss: 0.124402\n",
      "Train Epoch: 1 [1945600/8102750 (24%)]\tLoss: 0.121701\n",
      "Train Epoch: 1 [2048000/8102750 (25%)]\tLoss: 0.124540\n",
      "Train Epoch: 1 [2150400/8102750 (27%)]\tLoss: 0.121762\n",
      "Train Epoch: 1 [2252800/8102750 (28%)]\tLoss: 0.123876\n",
      "Train Epoch: 1 [2355200/8102750 (29%)]\tLoss: 0.123552\n",
      "Train Epoch: 1 [2457600/8102750 (30%)]\tLoss: 0.125330\n",
      "Train Epoch: 1 [2560000/8102750 (32%)]\tLoss: 0.125182\n",
      "Train Epoch: 1 [2662400/8102750 (33%)]\tLoss: 0.125743\n",
      "Train Epoch: 1 [2764800/8102750 (34%)]\tLoss: 0.120803\n",
      "Train Epoch: 1 [2867200/8102750 (35%)]\tLoss: 0.124461\n",
      "Train Epoch: 1 [2969600/8102750 (37%)]\tLoss: 0.126081\n",
      "Train Epoch: 1 [3072000/8102750 (38%)]\tLoss: 0.121616\n",
      "Train Epoch: 1 [3174400/8102750 (39%)]\tLoss: 0.124146\n",
      "Train Epoch: 1 [3276800/8102750 (40%)]\tLoss: 0.124206\n",
      "Train Epoch: 1 [3379200/8102750 (42%)]\tLoss: 0.120713\n",
      "Train Epoch: 1 [3481600/8102750 (43%)]\tLoss: 0.121192\n",
      "Train Epoch: 1 [3584000/8102750 (44%)]\tLoss: 0.124167\n",
      "Train Epoch: 1 [3686400/8102750 (45%)]\tLoss: 0.119535\n",
      "Train Epoch: 1 [3788800/8102750 (47%)]\tLoss: 0.125765\n",
      "Train Epoch: 1 [3891200/8102750 (48%)]\tLoss: 0.124386\n",
      "Train Epoch: 1 [3993600/8102750 (49%)]\tLoss: 0.121931\n",
      "Train Epoch: 1 [4096000/8102750 (51%)]\tLoss: 0.121697\n",
      "Train Epoch: 1 [4198400/8102750 (52%)]\tLoss: 0.123845\n",
      "Train Epoch: 1 [4300800/8102750 (53%)]\tLoss: 0.122115\n",
      "Train Epoch: 1 [4403200/8102750 (54%)]\tLoss: 0.122251\n",
      "Train Epoch: 1 [4505600/8102750 (56%)]\tLoss: 0.122921\n",
      "Train Epoch: 1 [4608000/8102750 (57%)]\tLoss: 0.120736\n",
      "Train Epoch: 1 [4710400/8102750 (58%)]\tLoss: 0.122693\n",
      "Train Epoch: 1 [4812800/8102750 (59%)]\tLoss: 0.122512\n",
      "Train Epoch: 1 [4915200/8102750 (61%)]\tLoss: 0.122063\n",
      "Train Epoch: 1 [5017600/8102750 (62%)]\tLoss: 0.118734\n",
      "Train Epoch: 1 [5120000/8102750 (63%)]\tLoss: 0.124635\n",
      "Train Epoch: 1 [5222400/8102750 (64%)]\tLoss: 0.122025\n",
      "Train Epoch: 1 [5324800/8102750 (66%)]\tLoss: 0.120591\n",
      "Train Epoch: 1 [5427200/8102750 (67%)]\tLoss: 0.123363\n",
      "Train Epoch: 1 [5529600/8102750 (68%)]\tLoss: 0.122057\n",
      "Train Epoch: 1 [5632000/8102750 (70%)]\tLoss: 0.122105\n",
      "Train Epoch: 1 [5734400/8102750 (71%)]\tLoss: 0.124670\n",
      "Train Epoch: 1 [5836800/8102750 (72%)]\tLoss: 0.121681\n",
      "Train Epoch: 1 [5939200/8102750 (73%)]\tLoss: 0.123683\n",
      "Train Epoch: 1 [6041600/8102750 (75%)]\tLoss: 0.121795\n",
      "Train Epoch: 1 [6144000/8102750 (76%)]\tLoss: 0.123470\n",
      "Train Epoch: 1 [6246400/8102750 (77%)]\tLoss: 0.123826\n",
      "Train Epoch: 1 [6348800/8102750 (78%)]\tLoss: 0.120854\n",
      "Train Epoch: 1 [6451200/8102750 (80%)]\tLoss: 0.123153\n",
      "Train Epoch: 1 [6553600/8102750 (81%)]\tLoss: 0.123416\n",
      "Train Epoch: 1 [6656000/8102750 (82%)]\tLoss: 0.124037\n",
      "Train Epoch: 1 [6758400/8102750 (83%)]\tLoss: 0.120609\n",
      "Train Epoch: 1 [6860800/8102750 (85%)]\tLoss: 0.120937\n",
      "Train Epoch: 1 [6963200/8102750 (86%)]\tLoss: 0.120099\n",
      "Train Epoch: 1 [7065600/8102750 (87%)]\tLoss: 0.123360\n",
      "Train Epoch: 1 [7168000/8102750 (88%)]\tLoss: 0.123525\n",
      "Train Epoch: 1 [7270400/8102750 (90%)]\tLoss: 0.121624\n",
      "Train Epoch: 1 [7372800/8102750 (91%)]\tLoss: 0.125254\n",
      "Train Epoch: 1 [7475200/8102750 (92%)]\tLoss: 0.124503\n",
      "Train Epoch: 1 [7577600/8102750 (94%)]\tLoss: 0.121766\n",
      "Train Epoch: 1 [7680000/8102750 (95%)]\tLoss: 0.123020\n",
      "Train Epoch: 1 [7782400/8102750 (96%)]\tLoss: 0.125361\n",
      "Train Epoch: 1 [7884800/8102750 (97%)]\tLoss: 0.121179\n",
      "Train Epoch: 1 [7987200/8102750 (99%)]\tLoss: 0.123602\n",
      "Train Epoch: 1 [8089600/8102750 (100%)]\tLoss: 0.121995\n",
      "CPU times: user 13min 45s, sys: 12.5 s, total: 13min 57s\n",
      "Wall time: 13min 55s\n"
     ]
    }
   ],
   "source": [
    "%%time\n",
    "model = train_model(model, optimizer, criterion, train_ds, val_ds, \n",
    "                    n_epochs=2, USE_CUDA=USE_CUDA)"
   ]
  },
  {
   "cell_type": "code",
   "execution_count": 87,
   "metadata": {},
   "outputs": [],
   "source": [
    "torch.save(model.state_dict(), INTERIM/'model_weights.pkl')"
   ]
  },
  {
   "cell_type": "markdown",
   "metadata": {},
   "source": [
    "## Evaluate"
   ]
  },
  {
   "cell_type": "code",
   "execution_count": 85,
   "metadata": {},
   "outputs": [],
   "source": [
    "import pickle\n",
    "\n",
    "with open(INTERIM/'train_ds.pkl', 'wb') as f:\n",
    "    pickle.dump(train_ds, f, pickle.HIGHEST_PROTOCOL)\n",
    "with open(INTERIM/'val_ds.pkl', 'wb') as f:\n",
    "    pickle.dump(val_ds, f, pickle.HIGHEST_PROTOCOL)\n",
    "with open(INTERIM/'test_ds.pkl', 'wb') as f:\n",
    "    pickle.dump(test_ds, f, pickle.HIGHEST_PROTOCOL)"
   ]
  },
  {
   "cell_type": "code",
   "execution_count": 111,
   "metadata": {},
   "outputs": [],
   "source": [
    "def get_predictions(model, data_loader, print_every=800, USE_CUDA=False):\n",
    "    all_targets = []\n",
    "    all_preds = []\n",
    "    model.eval()\n",
    "    for batch_idx, (cats, conts, target) in enumerate(data_loader):\n",
    "        cats, conts, target = Variable(cats), Variable(conts), Variable(target)\n",
    "        if USE_CUDA:\n",
    "            cats, conts, target = cats.cuda(), conts.cuda(), target.cuda()\n",
    "        preds = model(cats, conts)\n",
    "        all_targets.extend(target.cpu())\n",
    "        all_preds.extend(preds.cpu())\n",
    "        if batch_idx % print_every == 0:\n",
    "            print('[{}/{} ({:.0f}%)]'.format(\n",
    "                    batch_idx * len(cats), len(data_loader.dataset),\n",
    "                    100. * batch_idx / len(data_loader)))\n",
    "    return [x.item() for x in all_targets], [F.sigmoid(x).item() for x in all_preds]"
   ]
  },
  {
   "cell_type": "code",
   "execution_count": 89,
   "metadata": {},
   "outputs": [],
   "source": [
    "model = model.cpu()"
   ]
  },
  {
   "cell_type": "code",
   "execution_count": 104,
   "metadata": {},
   "outputs": [
    {
     "name": "stdout",
     "output_type": "stream",
     "text": [
      "[0/493590 (0%)]\n",
      "[102400/493590 (21%)]\n",
      "[204800/493590 (41%)]\n",
      "[307200/493590 (62%)]\n",
      "[409600/493590 (83%)]\n"
     ]
    }
   ],
   "source": [
    "targets, preds = get_predictions(model, val_ds, USE_CUDA=False)"
   ]
  },
  {
   "cell_type": "code",
   "execution_count": 109,
   "metadata": {},
   "outputs": [],
   "source": [
    "from sklearn.metrics import roc_auc_score"
   ]
  },
  {
   "cell_type": "code",
   "execution_count": 110,
   "metadata": {},
   "outputs": [
    {
     "data": {
      "text/plain": [
       "0.8654110838684123"
      ]
     },
     "execution_count": 110,
     "metadata": {},
     "output_type": "execute_result"
    }
   ],
   "source": [
    "roc_auc_score(targets, preds) # validation auc"
   ]
  },
  {
   "cell_type": "code",
   "execution_count": null,
   "metadata": {},
   "outputs": [
    {
     "name": "stdout",
     "output_type": "stream",
     "text": [
      "[0/8102750 (0%)]\n",
      "[102400/8102750 (1%)]\n",
      "[204800/8102750 (3%)]\n",
      "[307200/8102750 (4%)]\n",
      "[409600/8102750 (5%)]\n",
      "[512000/8102750 (6%)]\n",
      "[614400/8102750 (8%)]\n",
      "[716800/8102750 (9%)]\n",
      "[819200/8102750 (10%)]\n",
      "[921600/8102750 (11%)]\n",
      "[1024000/8102750 (13%)]\n",
      "[1126400/8102750 (14%)]\n",
      "[1228800/8102750 (15%)]\n",
      "[1331200/8102750 (16%)]\n",
      "[1433600/8102750 (18%)]\n",
      "[1536000/8102750 (19%)]\n",
      "[1638400/8102750 (20%)]\n",
      "[1740800/8102750 (21%)]\n",
      "[1843200/8102750 (23%)]\n",
      "[1945600/8102750 (24%)]\n",
      "[2048000/8102750 (25%)]\n",
      "[2150400/8102750 (27%)]\n",
      "[2252800/8102750 (28%)]\n"
     ]
    }
   ],
   "source": [
    "targets, preds = get_predictions(model, train_ds, USE_CUDA=False)"
   ]
  },
  {
   "cell_type": "code",
   "execution_count": null,
   "metadata": {},
   "outputs": [],
   "source": [
    "roc_auc_score(targets, preds)"
   ]
  },
  {
   "cell_type": "markdown",
   "metadata": {},
   "source": [
    "## Test"
   ]
  },
  {
   "cell_type": "code",
   "execution_count": 117,
   "metadata": {},
   "outputs": [
    {
     "name": "stdout",
     "output_type": "stream",
     "text": [
      "[0/484758 (0%)]\n",
      "[102400/484758 (21%)]\n",
      "[204800/484758 (42%)]\n",
      "[307200/484758 (63%)]\n",
      "[409600/484758 (84%)]\n"
     ]
    }
   ],
   "source": [
    "targets, preds = get_predictions(model, test_ds, USE_CUDA=False)"
   ]
  },
  {
   "cell_type": "code",
   "execution_count": 118,
   "metadata": {},
   "outputs": [
    {
     "data": {
      "text/plain": [
       "count    484758.000000\n",
       "mean          0.020664\n",
       "std           0.039237\n",
       "min           0.000000\n",
       "25%           0.006615\n",
       "50%           0.013033\n",
       "75%           0.024082\n",
       "max           1.000000\n",
       "dtype: float64"
      ]
     },
     "execution_count": 118,
     "metadata": {},
     "output_type": "execute_result"
    }
   ],
   "source": [
    "pd.Series(preds).describe()"
   ]
  },
  {
   "cell_type": "code",
   "execution_count": 120,
   "metadata": {},
   "outputs": [],
   "source": [
    "test[target_col] = preds"
   ]
  },
  {
   "cell_type": "markdown",
   "metadata": {},
   "source": [
    "## Submission"
   ]
  },
  {
   "cell_type": "code",
   "execution_count": 121,
   "metadata": {},
   "outputs": [],
   "source": [
    "submission = pd.read_csv(RAW/'sample_submission.csv', low_memory=False)\n",
    "submission = pd.merge(submission[['PredictionIdx']], test[['PredictionIdx', target_col]], \n",
    "                      how='left', on='PredictionIdx')"
   ]
  },
  {
   "cell_type": "code",
   "execution_count": 122,
   "metadata": {},
   "outputs": [
    {
     "data": {
      "text/plain": [
       "count    484758.000000\n",
       "mean          0.020664\n",
       "std           0.039237\n",
       "min           0.000000\n",
       "25%           0.006615\n",
       "50%           0.013033\n",
       "75%           0.024082\n",
       "max           1.000000\n",
       "Name: CustomerInterest, dtype: float64"
      ]
     },
     "execution_count": 122,
     "metadata": {},
     "output_type": "execute_result"
    }
   ],
   "source": [
    "submission[target_col].describe()"
   ]
  },
  {
   "cell_type": "code",
   "execution_count": 123,
   "metadata": {},
   "outputs": [
    {
     "data": {
      "text/html": [
       "<div>\n",
       "<style scoped>\n",
       "    .dataframe tbody tr th:only-of-type {\n",
       "        vertical-align: middle;\n",
       "    }\n",
       "\n",
       "    .dataframe tbody tr th {\n",
       "        vertical-align: top;\n",
       "    }\n",
       "\n",
       "    .dataframe thead th {\n",
       "        text-align: right;\n",
       "    }\n",
       "</style>\n",
       "<table border=\"1\" class=\"dataframe\">\n",
       "  <thead>\n",
       "    <tr style=\"text-align: right;\">\n",
       "      <th></th>\n",
       "      <th>PredictionIdx</th>\n",
       "      <th>CustomerInterest</th>\n",
       "    </tr>\n",
       "  </thead>\n",
       "  <tbody>\n",
       "    <tr>\n",
       "      <th>0</th>\n",
       "      <td>a1e0d80784</td>\n",
       "      <td>0.009377</td>\n",
       "    </tr>\n",
       "    <tr>\n",
       "      <th>1</th>\n",
       "      <td>c2cc6cc2a8</td>\n",
       "      <td>0.032916</td>\n",
       "    </tr>\n",
       "    <tr>\n",
       "      <th>2</th>\n",
       "      <td>a8e94f6344</td>\n",
       "      <td>0.003766</td>\n",
       "    </tr>\n",
       "    <tr>\n",
       "      <th>3</th>\n",
       "      <td>758bae1e35</td>\n",
       "      <td>0.000477</td>\n",
       "    </tr>\n",
       "    <tr>\n",
       "      <th>4</th>\n",
       "      <td>02ab378ee8</td>\n",
       "      <td>0.002878</td>\n",
       "    </tr>\n",
       "  </tbody>\n",
       "</table>\n",
       "</div>"
      ],
      "text/plain": [
       "  PredictionIdx  CustomerInterest\n",
       "0    a1e0d80784          0.009377\n",
       "1    c2cc6cc2a8          0.032916\n",
       "2    a8e94f6344          0.003766\n",
       "3    758bae1e35          0.000477\n",
       "4    02ab378ee8          0.002878"
      ]
     },
     "execution_count": 123,
     "metadata": {},
     "output_type": "execute_result"
    }
   ],
   "source": [
    "submission.head()"
   ]
  },
  {
   "cell_type": "code",
   "execution_count": 124,
   "metadata": {},
   "outputs": [
    {
     "data": {
      "text/plain": [
       "<matplotlib.axes._subplots.AxesSubplot at 0x7fa5b65d56d8>"
      ]
     },
     "execution_count": 124,
     "metadata": {},
     "output_type": "execute_result"
    },
    {
     "data": {
      "image/png": "[encoded data removed]",
      "text/plain": [
       "<matplotlib.figure.Figure at 0x7fa77608b860>"
      ]
     },
     "metadata": {
      "image/png": {
       "height": 248,
       "width": 394
      }
     },
     "output_type": "display_data"
    }
   ],
   "source": [
    "submission[target_col].hist(bins=50)"
   ]
  },
  {
   "cell_type": "code",
   "execution_count": 125,
   "metadata": {},
   "outputs": [],
   "source": [
    "submission.to_csv(SUBMISSIONS/'RA03-26-neuralnet_2018_SVD_diffscounts.csv', index=False)"
   ]
  },
  {
   "cell_type": "markdown",
   "metadata": {},
   "source": [
    "## All train"
   ]
  },
  {
   "cell_type": "code",
   "execution_count": 14,
   "metadata": {},
   "outputs": [],
   "source": [
    "import torch\n",
    "import torch.utils.data\n",
    "import torch.nn as nn\n",
    "import torch.nn.functional as F\n",
    "from torch.autograd import Variable\n",
    "from torch import optim"
   ]
  },
  {
   "cell_type": "code",
   "execution_count": 15,
   "metadata": {},
   "outputs": [],
   "source": [
    "from src.neuralnet import TabularDataset\n",
    "from torch.utils.data import DataLoader"
   ]
  },
  {
   "cell_type": "code",
   "execution_count": 16,
   "metadata": {},
   "outputs": [
    {
     "name": "stdout",
     "output_type": "stream",
     "text": [
      "CPU times: user 4.39 s, sys: 6.38 s, total: 10.8 s\n",
      "Wall time: 10.8 s\n"
     ]
    }
   ],
   "source": [
    "%%time\n",
    "all_train_ds = DataLoader(TabularDataset(pd.concat([train, val]), cat_cols, num_cols, target_col), \n",
    "                                                  batch_size=128, shuffle=True)\n",
    "test_ds = DataLoader(TabularDataset(test, cat_cols, num_cols), batch_size=128)"
   ]
  },
  {
   "cell_type": "code",
   "execution_count": 18,
   "metadata": {},
   "outputs": [],
   "source": [
    "USE_CUDA = True"
   ]
  },
  {
   "cell_type": "code",
   "execution_count": 35,
   "metadata": {},
   "outputs": [],
   "source": [
    "from src.neuralnet import NeuralNet, train_model"
   ]
  },
  {
   "cell_type": "code",
   "execution_count": 32,
   "metadata": {},
   "outputs": [],
   "source": [
    "model = NeuralNet(emb_szs, n_cont=len(num_cols), emb_drop=0.04, \n",
    "                  szs=[1000, 500, 500], drops=[0.001, 0.01, 0.01],\n",
    "                  use_bn=True)"
   ]
  },
  {
   "cell_type": "code",
   "execution_count": 33,
   "metadata": {},
   "outputs": [],
   "source": [
    "optimizer = optim.Adam(model.parameters(), lr=1e-3)\n",
    "criterion = nn.BCEWithLogitsLoss()"
   ]
  },
  {
   "cell_type": "code",
   "execution_count": 1,
   "metadata": {},
   "outputs": [],
   "source": [
    "%%time\n",
    "model, train_losses, val_losses, val_aucs = train_model(\n",
    "                                model, optimizer, criterion, \n",
    "                                all_train_ds, None, n_epochs=2, \n",
    "                                USE_CUDA=USE_CUDA, val_every=10)"
   ]
  },
  {
   "cell_type": "code",
   "execution_count": 131,
   "metadata": {},
   "outputs": [
    {
     "name": "stdout",
     "output_type": "stream",
     "text": [
      "Train Epoch: 0 [0/8596340 (0%)]\tLoss: 0.000955\n",
      "Train Epoch: 0 [102400/8596340 (1%)]\tLoss: 0.164358\n",
      "Train Epoch: 0 [204800/8596340 (2%)]\tLoss: 0.131999\n",
      "Train Epoch: 0 [307200/8596340 (4%)]\tLoss: 0.130099\n",
      "Train Epoch: 0 [409600/8596340 (5%)]\tLoss: 0.133853\n",
      "Train Epoch: 0 [512000/8596340 (6%)]\tLoss: 0.131810\n",
      "Train Epoch: 0 [614400/8596340 (7%)]\tLoss: 0.128595\n",
      "Train Epoch: 0 [716800/8596340 (8%)]\tLoss: 0.129635\n",
      "Train Epoch: 0 [819200/8596340 (10%)]\tLoss: 0.127177\n",
      "Train Epoch: 0 [921600/8596340 (11%)]\tLoss: 0.130097\n",
      "Train Epoch: 0 [1024000/8596340 (12%)]\tLoss: 0.129600\n",
      "Train Epoch: 0 [1126400/8596340 (13%)]\tLoss: 0.128196\n",
      "Train Epoch: 0 [1228800/8596340 (14%)]\tLoss: 0.126975\n",
      "Train Epoch: 0 [1331200/8596340 (15%)]\tLoss: 0.129437\n",
      "Train Epoch: 0 [1433600/8596340 (17%)]\tLoss: 0.129222\n",
      "Train Epoch: 0 [1536000/8596340 (18%)]\tLoss: 0.128111\n",
      "Train Epoch: 0 [1638400/8596340 (19%)]\tLoss: 0.125244\n",
      "Train Epoch: 0 [1740800/8596340 (20%)]\tLoss: 0.127451\n",
      "Train Epoch: 0 [1843200/8596340 (21%)]\tLoss: 0.129109\n",
      "Train Epoch: 0 [1945600/8596340 (23%)]\tLoss: 0.126156\n",
      "Train Epoch: 0 [2048000/8596340 (24%)]\tLoss: 0.127755\n",
      "Train Epoch: 0 [2150400/8596340 (25%)]\tLoss: 0.128806\n",
      "Train Epoch: 0 [2252800/8596340 (26%)]\tLoss: 0.126952\n",
      "Train Epoch: 0 [2355200/8596340 (27%)]\tLoss: 0.127638\n",
      "Train Epoch: 0 [2457600/8596340 (29%)]\tLoss: 0.126093\n",
      "Train Epoch: 0 [2560000/8596340 (30%)]\tLoss: 0.128088\n",
      "Train Epoch: 0 [2662400/8596340 (31%)]\tLoss: 0.125527\n",
      "Train Epoch: 0 [2764800/8596340 (32%)]\tLoss: 0.127999\n",
      "Train Epoch: 0 [2867200/8596340 (33%)]\tLoss: 0.127431\n",
      "Train Epoch: 0 [2969600/8596340 (35%)]\tLoss: 0.124243\n",
      "Train Epoch: 0 [3072000/8596340 (36%)]\tLoss: 0.123738\n",
      "Train Epoch: 0 [3174400/8596340 (37%)]\tLoss: 0.125233\n",
      "Train Epoch: 0 [3276800/8596340 (38%)]\tLoss: 0.125505\n",
      "Train Epoch: 0 [3379200/8596340 (39%)]\tLoss: 0.125848\n",
      "Train Epoch: 0 [3481600/8596340 (41%)]\tLoss: 0.124832\n",
      "Train Epoch: 0 [3584000/8596340 (42%)]\tLoss: 0.125320\n",
      "Train Epoch: 0 [3686400/8596340 (43%)]\tLoss: 0.126136\n",
      "Train Epoch: 0 [3788800/8596340 (44%)]\tLoss: 0.126710\n",
      "Train Epoch: 0 [3891200/8596340 (45%)]\tLoss: 0.126653\n",
      "Train Epoch: 0 [3993600/8596340 (46%)]\tLoss: 0.127389\n",
      "Train Epoch: 0 [4096000/8596340 (48%)]\tLoss: 0.126109\n",
      "Train Epoch: 0 [4198400/8596340 (49%)]\tLoss: 0.125163\n",
      "Train Epoch: 0 [4300800/8596340 (50%)]\tLoss: 0.124556\n",
      "Train Epoch: 0 [4403200/8596340 (51%)]\tLoss: 0.124455\n",
      "Train Epoch: 0 [4505600/8596340 (52%)]\tLoss: 0.123114\n",
      "Train Epoch: 0 [4608000/8596340 (54%)]\tLoss: 0.124572\n",
      "Train Epoch: 0 [4710400/8596340 (55%)]\tLoss: 0.124644\n",
      "Train Epoch: 0 [4812800/8596340 (56%)]\tLoss: 0.124323\n",
      "Train Epoch: 0 [4915200/8596340 (57%)]\tLoss: 0.123593\n",
      "Train Epoch: 0 [5017600/8596340 (58%)]\tLoss: 0.126035\n",
      "Train Epoch: 0 [5120000/8596340 (60%)]\tLoss: 0.126064\n",
      "Train Epoch: 0 [5222400/8596340 (61%)]\tLoss: 0.122199\n",
      "Train Epoch: 0 [5324800/8596340 (62%)]\tLoss: 0.123377\n",
      "Train Epoch: 0 [5427200/8596340 (63%)]\tLoss: 0.122384\n",
      "Train Epoch: 0 [5529600/8596340 (64%)]\tLoss: 0.123020\n",
      "Train Epoch: 0 [5632000/8596340 (66%)]\tLoss: 0.128632\n",
      "Train Epoch: 0 [5734400/8596340 (67%)]\tLoss: 0.123194\n",
      "Train Epoch: 0 [5836800/8596340 (68%)]\tLoss: 0.126839\n",
      "Train Epoch: 0 [5939200/8596340 (69%)]\tLoss: 0.125797\n",
      "Train Epoch: 0 [6041600/8596340 (70%)]\tLoss: 0.123361\n",
      "Train Epoch: 0 [6144000/8596340 (71%)]\tLoss: 0.123358\n",
      "Train Epoch: 0 [6246400/8596340 (73%)]\tLoss: 0.124825\n",
      "Train Epoch: 0 [6348800/8596340 (74%)]\tLoss: 0.123837\n",
      "Train Epoch: 0 [6451200/8596340 (75%)]\tLoss: 0.124710\n",
      "Train Epoch: 0 [6553600/8596340 (76%)]\tLoss: 0.122886\n",
      "Train Epoch: 0 [6656000/8596340 (77%)]\tLoss: 0.125735\n",
      "Train Epoch: 0 [6758400/8596340 (79%)]\tLoss: 0.124582\n",
      "Train Epoch: 0 [6860800/8596340 (80%)]\tLoss: 0.124487\n",
      "Train Epoch: 0 [6963200/8596340 (81%)]\tLoss: 0.122332\n",
      "Train Epoch: 0 [7065600/8596340 (82%)]\tLoss: 0.120281\n",
      "Train Epoch: 0 [7168000/8596340 (83%)]\tLoss: 0.121548\n",
      "Train Epoch: 0 [7270400/8596340 (85%)]\tLoss: 0.125057\n",
      "Train Epoch: 0 [7372800/8596340 (86%)]\tLoss: 0.121066\n",
      "Train Epoch: 0 [7475200/8596340 (87%)]\tLoss: 0.125642\n",
      "Train Epoch: 0 [7577600/8596340 (88%)]\tLoss: 0.126722\n",
      "Train Epoch: 0 [7680000/8596340 (89%)]\tLoss: 0.122219\n",
      "Train Epoch: 0 [7782400/8596340 (91%)]\tLoss: 0.120905\n",
      "Train Epoch: 0 [7884800/8596340 (92%)]\tLoss: 0.122704\n",
      "Train Epoch: 0 [7987200/8596340 (93%)]\tLoss: 0.123600\n",
      "Train Epoch: 0 [8089600/8596340 (94%)]\tLoss: 0.121275\n",
      "Train Epoch: 0 [8192000/8596340 (95%)]\tLoss: 0.123224\n",
      "Train Epoch: 0 [8294400/8596340 (96%)]\tLoss: 0.122396\n",
      "Train Epoch: 0 [8396800/8596340 (98%)]\tLoss: 0.125809\n",
      "Train Epoch: 0 [8499200/8596340 (99%)]\tLoss: 0.123362\n",
      "Train Epoch: 1 [0/8596340 (0%)]\tLoss: 0.000133\n",
      "Train Epoch: 1 [102400/8596340 (1%)]\tLoss: 0.124162\n",
      "Train Epoch: 1 [204800/8596340 (2%)]\tLoss: 0.121240\n",
      "Train Epoch: 1 [307200/8596340 (4%)]\tLoss: 0.126681\n",
      "Train Epoch: 1 [409600/8596340 (5%)]\tLoss: 0.123074\n",
      "Train Epoch: 1 [512000/8596340 (6%)]\tLoss: 0.124335\n",
      "Train Epoch: 1 [614400/8596340 (7%)]\tLoss: 0.124703\n",
      "Train Epoch: 1 [716800/8596340 (8%)]\tLoss: 0.121131\n",
      "Train Epoch: 1 [819200/8596340 (10%)]\tLoss: 0.121105\n",
      "Train Epoch: 1 [921600/8596340 (11%)]\tLoss: 0.121986\n",
      "Train Epoch: 1 [1024000/8596340 (12%)]\tLoss: 0.123940\n",
      "Train Epoch: 1 [1126400/8596340 (13%)]\tLoss: 0.123109\n",
      "Train Epoch: 1 [1228800/8596340 (14%)]\tLoss: 0.124810\n",
      "Train Epoch: 1 [1331200/8596340 (15%)]\tLoss: 0.122866\n",
      "Train Epoch: 1 [1433600/8596340 (17%)]\tLoss: 0.119840\n",
      "Train Epoch: 1 [1536000/8596340 (18%)]\tLoss: 0.119120\n",
      "Train Epoch: 1 [1638400/8596340 (19%)]\tLoss: 0.121303\n",
      "Train Epoch: 1 [1740800/8596340 (20%)]\tLoss: 0.122674\n",
      "Train Epoch: 1 [1843200/8596340 (21%)]\tLoss: 0.123303\n",
      "Train Epoch: 1 [1945600/8596340 (23%)]\tLoss: 0.122664\n",
      "Train Epoch: 1 [2048000/8596340 (24%)]\tLoss: 0.122914\n",
      "Train Epoch: 1 [2150400/8596340 (25%)]\tLoss: 0.126113\n",
      "Train Epoch: 1 [2252800/8596340 (26%)]\tLoss: 0.124629\n",
      "Train Epoch: 1 [2355200/8596340 (27%)]\tLoss: 0.121197\n",
      "Train Epoch: 1 [2457600/8596340 (29%)]\tLoss: 0.122554\n",
      "Train Epoch: 1 [2560000/8596340 (30%)]\tLoss: 0.122278\n",
      "Train Epoch: 1 [2662400/8596340 (31%)]\tLoss: 0.122276\n",
      "Train Epoch: 1 [2764800/8596340 (32%)]\tLoss: 0.119937\n",
      "Train Epoch: 1 [2867200/8596340 (33%)]\tLoss: 0.122794\n",
      "Train Epoch: 1 [2969600/8596340 (35%)]\tLoss: 0.120565\n",
      "Train Epoch: 1 [3072000/8596340 (36%)]\tLoss: 0.121297\n",
      "Train Epoch: 1 [3174400/8596340 (37%)]\tLoss: 0.119837\n",
      "Train Epoch: 1 [3276800/8596340 (38%)]\tLoss: 0.121954\n",
      "Train Epoch: 1 [3379200/8596340 (39%)]\tLoss: 0.122860\n",
      "Train Epoch: 1 [3481600/8596340 (41%)]\tLoss: 0.122397\n",
      "Train Epoch: 1 [3584000/8596340 (42%)]\tLoss: 0.124838\n",
      "Train Epoch: 1 [3686400/8596340 (43%)]\tLoss: 0.124271\n",
      "Train Epoch: 1 [3788800/8596340 (44%)]\tLoss: 0.121028\n",
      "Train Epoch: 1 [3891200/8596340 (45%)]\tLoss: 0.123456\n",
      "Train Epoch: 1 [3993600/8596340 (46%)]\tLoss: 0.120718\n",
      "Train Epoch: 1 [4096000/8596340 (48%)]\tLoss: 0.123359\n",
      "Train Epoch: 1 [4198400/8596340 (49%)]\tLoss: 0.119465\n",
      "Train Epoch: 1 [4300800/8596340 (50%)]\tLoss: 0.120490\n",
      "Train Epoch: 1 [4403200/8596340 (51%)]\tLoss: 0.125353\n",
      "Train Epoch: 1 [4505600/8596340 (52%)]\tLoss: 0.121435\n",
      "Train Epoch: 1 [4608000/8596340 (54%)]\tLoss: 0.123333\n",
      "Train Epoch: 1 [4710400/8596340 (55%)]\tLoss: 0.122868\n",
      "Train Epoch: 1 [4812800/8596340 (56%)]\tLoss: 0.121079\n",
      "Train Epoch: 1 [4915200/8596340 (57%)]\tLoss: 0.120728\n",
      "Train Epoch: 1 [5017600/8596340 (58%)]\tLoss: 0.121938\n",
      "Train Epoch: 1 [5120000/8596340 (60%)]\tLoss: 0.125589\n",
      "Train Epoch: 1 [5222400/8596340 (61%)]\tLoss: 0.123380\n",
      "Train Epoch: 1 [5324800/8596340 (62%)]\tLoss: 0.121974\n",
      "Train Epoch: 1 [5427200/8596340 (63%)]\tLoss: 0.121101\n",
      "Train Epoch: 1 [5529600/8596340 (64%)]\tLoss: 0.121830\n",
      "Train Epoch: 1 [5632000/8596340 (66%)]\tLoss: 0.121890\n",
      "Train Epoch: 1 [5734400/8596340 (67%)]\tLoss: 0.122605\n",
      "Train Epoch: 1 [5836800/8596340 (68%)]\tLoss: 0.123249\n",
      "Train Epoch: 1 [5939200/8596340 (69%)]\tLoss: 0.119178\n",
      "Train Epoch: 1 [6041600/8596340 (70%)]\tLoss: 0.126125\n",
      "Train Epoch: 1 [6144000/8596340 (71%)]\tLoss: 0.120465\n",
      "Train Epoch: 1 [6246400/8596340 (73%)]\tLoss: 0.120832\n",
      "Train Epoch: 1 [6348800/8596340 (74%)]\tLoss: 0.118440\n",
      "Train Epoch: 1 [6451200/8596340 (75%)]\tLoss: 0.120151\n",
      "Train Epoch: 1 [6553600/8596340 (76%)]\tLoss: 0.124261\n",
      "Train Epoch: 1 [6656000/8596340 (77%)]\tLoss: 0.122387\n",
      "Train Epoch: 1 [6758400/8596340 (79%)]\tLoss: 0.121576\n",
      "Train Epoch: 1 [6860800/8596340 (80%)]\tLoss: 0.122699\n",
      "Train Epoch: 1 [6963200/8596340 (81%)]\tLoss: 0.120266\n",
      "Train Epoch: 1 [7065600/8596340 (82%)]\tLoss: 0.119157\n",
      "Train Epoch: 1 [7168000/8596340 (83%)]\tLoss: 0.123671\n",
      "Train Epoch: 1 [7270400/8596340 (85%)]\tLoss: 0.121820\n",
      "Train Epoch: 1 [7372800/8596340 (86%)]\tLoss: 0.123200\n",
      "Train Epoch: 1 [7475200/8596340 (87%)]\tLoss: 0.119555\n",
      "Train Epoch: 1 [7577600/8596340 (88%)]\tLoss: 0.121197\n",
      "Train Epoch: 1 [7680000/8596340 (89%)]\tLoss: 0.124418\n",
      "Train Epoch: 1 [7782400/8596340 (91%)]\tLoss: 0.118763\n",
      "Train Epoch: 1 [7884800/8596340 (92%)]\tLoss: 0.120721\n",
      "Train Epoch: 1 [7987200/8596340 (93%)]\tLoss: 0.121550\n",
      "Train Epoch: 1 [8089600/8596340 (94%)]\tLoss: 0.118960\n",
      "Train Epoch: 1 [8192000/8596340 (95%)]\tLoss: 0.121892\n",
      "Train Epoch: 1 [8294400/8596340 (96%)]\tLoss: 0.121069\n",
      "Train Epoch: 1 [8396800/8596340 (98%)]\tLoss: 0.123365\n",
      "Train Epoch: 1 [8499200/8596340 (99%)]\tLoss: 0.121590\n",
      "CPU times: user 15min 17s, sys: 13.1 s, total: 15min 30s\n",
      "Wall time: 15min 28s\n"
     ]
    }
   ],
   "source": [
    "%%time\n",
    "model = train_model(model, optimizer, criterion, all_train_ds, val_ds, \n",
    "                    n_epochs=2, USE_CUDA=USE_CUDA)"
   ]
  },
  {
   "cell_type": "code",
   "execution_count": 132,
   "metadata": {},
   "outputs": [],
   "source": [
    "torch.save(model.state_dict(), INTERIM/'model_weights_alltrain.pkl')"
   ]
  },
  {
   "cell_type": "code",
   "execution_count": 133,
   "metadata": {},
   "outputs": [],
   "source": [
    "model = model.cpu()"
   ]
  },
  {
   "cell_type": "code",
   "execution_count": 134,
   "metadata": {},
   "outputs": [
    {
     "name": "stdout",
     "output_type": "stream",
     "text": [
      "[0/484758 (0%)]\n",
      "[102400/484758 (21%)]\n",
      "[204800/484758 (42%)]\n",
      "[307200/484758 (63%)]\n",
      "[409600/484758 (84%)]\n"
     ]
    }
   ],
   "source": [
    "targets, preds = get_predictions(model, test_ds, USE_CUDA=False)"
   ]
  },
  {
   "cell_type": "code",
   "execution_count": 135,
   "metadata": {},
   "outputs": [],
   "source": [
    "test[target_col] = preds"
   ]
  },
  {
   "cell_type": "markdown",
   "metadata": {},
   "source": [
    "## Submission"
   ]
  },
  {
   "cell_type": "code",
   "execution_count": 136,
   "metadata": {},
   "outputs": [],
   "source": [
    "submission = pd.read_csv(RAW/'sample_submission.csv', low_memory=False)\n",
    "submission = pd.merge(submission[['PredictionIdx']], test[['PredictionIdx', target_col]], \n",
    "                      how='left', on='PredictionIdx')"
   ]
  },
  {
   "cell_type": "code",
   "execution_count": 137,
   "metadata": {},
   "outputs": [
    {
     "data": {
      "text/plain": [
       "count    4.847580e+05\n",
       "mean     2.414028e-02\n",
       "std      5.604297e-02\n",
       "min      2.730480e-17\n",
       "25%      6.091856e-03\n",
       "50%      1.257137e-02\n",
       "75%      2.517368e-02\n",
       "max      1.000000e+00\n",
       "Name: CustomerInterest, dtype: float64"
      ]
     },
     "execution_count": 137,
     "metadata": {},
     "output_type": "execute_result"
    }
   ],
   "source": [
    "submission[target_col].describe()"
   ]
  },
  {
   "cell_type": "code",
   "execution_count": 138,
   "metadata": {},
   "outputs": [
    {
     "data": {
      "text/html": [
       "<div>\n",
       "<style scoped>\n",
       "    .dataframe tbody tr th:only-of-type {\n",
       "        vertical-align: middle;\n",
       "    }\n",
       "\n",
       "    .dataframe tbody tr th {\n",
       "        vertical-align: top;\n",
       "    }\n",
       "\n",
       "    .dataframe thead th {\n",
       "        text-align: right;\n",
       "    }\n",
       "</style>\n",
       "<table border=\"1\" class=\"dataframe\">\n",
       "  <thead>\n",
       "    <tr style=\"text-align: right;\">\n",
       "      <th></th>\n",
       "      <th>PredictionIdx</th>\n",
       "      <th>CustomerInterest</th>\n",
       "    </tr>\n",
       "  </thead>\n",
       "  <tbody>\n",
       "    <tr>\n",
       "      <th>0</th>\n",
       "      <td>a1e0d80784</td>\n",
       "      <td>0.005362</td>\n",
       "    </tr>\n",
       "    <tr>\n",
       "      <th>1</th>\n",
       "      <td>c2cc6cc2a8</td>\n",
       "      <td>0.033340</td>\n",
       "    </tr>\n",
       "    <tr>\n",
       "      <th>2</th>\n",
       "      <td>a8e94f6344</td>\n",
       "      <td>0.003676</td>\n",
       "    </tr>\n",
       "    <tr>\n",
       "      <th>3</th>\n",
       "      <td>758bae1e35</td>\n",
       "      <td>0.000211</td>\n",
       "    </tr>\n",
       "    <tr>\n",
       "      <th>4</th>\n",
       "      <td>02ab378ee8</td>\n",
       "      <td>0.001596</td>\n",
       "    </tr>\n",
       "  </tbody>\n",
       "</table>\n",
       "</div>"
      ],
      "text/plain": [
       "  PredictionIdx  CustomerInterest\n",
       "0    a1e0d80784          0.005362\n",
       "1    c2cc6cc2a8          0.033340\n",
       "2    a8e94f6344          0.003676\n",
       "3    758bae1e35          0.000211\n",
       "4    02ab378ee8          0.001596"
      ]
     },
     "execution_count": 138,
     "metadata": {},
     "output_type": "execute_result"
    }
   ],
   "source": [
    "submission.head()"
   ]
  },
  {
   "cell_type": "code",
   "execution_count": 139,
   "metadata": {},
   "outputs": [
    {
     "data": {
      "text/plain": [
       "<matplotlib.axes._subplots.AxesSubplot at 0x7fa7799bf9e8>"
      ]
     },
     "execution_count": 139,
     "metadata": {},
     "output_type": "execute_result"
    },
    {
     "data": {
      "image/png": "[encoded data removed]",
      "text/plain": [
       "<matplotlib.figure.Figure at 0x7fa777a612b0>"
      ]
     },
     "metadata": {
      "image/png": {
       "height": 248,
       "width": 394
      }
     },
     "output_type": "display_data"
    }
   ],
   "source": [
    "submission[target_col].hist(bins=50)"
   ]
  },
  {
   "cell_type": "code",
   "execution_count": 140,
   "metadata": {},
   "outputs": [],
   "source": [
    "submission.to_csv(SUBMISSIONS/'RA04-26-neuralnet_alltrain_2018_SVD_diffscounts.csv', index=False)"
   ]
  },
  {
   "cell_type": "code",
   "execution_count": null,
   "metadata": {},
   "outputs": [],
   "source": []
  }
 ],
 "metadata": {
  "kernelspec": {
   "display_name": "Python 3",
   "language": "python",
   "name": "python3"
  },
  "language_info": {
   "codemirror_mode": {
    "name": "ipython",
    "version": 3
   },
   "file_extension": ".py",
   "mimetype": "text/x-python",
   "name": "python",
   "nbconvert_exporter": "python",
   "pygments_lexer": "ipython3",
   "version": "3.6.4"
  }
 },
 "nbformat": 4,
 "nbformat_minor": 2
}
