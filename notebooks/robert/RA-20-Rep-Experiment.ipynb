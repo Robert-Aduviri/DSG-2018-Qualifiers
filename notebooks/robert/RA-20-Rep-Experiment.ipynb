{
 "cells": [
  {
   "cell_type": "code",
   "execution_count": 1,
   "metadata": {},
   "outputs": [],
   "source": [
    "%load_ext autoreload\n",
    "%autoreload 2\n",
    "%matplotlib inline\n",
    "%config InlineBackend.figure_format = 'retina'\n",
    "\n",
    "import os, math\n",
    "import numpy as np, pandas as pd\n",
    "import matplotlib.pyplot as plt, seaborn as sns\n",
    "from pandas_summary import DataFrameSummary\n",
    "from tqdm import tqdm, tqdm_notebook\n",
    "from pathlib import Path\n",
    "pd.set_option('display.max_columns', 1000)\n",
    "pd.set_option('display.max_rows', 400)\n",
    "sns.set()\n",
    "\n",
    "os.chdir('../..')\n",
    "from src import utils"
   ]
  },
  {
   "cell_type": "code",
   "execution_count": 2,
   "metadata": {},
   "outputs": [],
   "source": [
    "DATA        = Path('data')\n",
    "RAW         = DATA/'raw'\n",
    "INTERIM     = DATA/'interim'\n",
    "PROCESSED   = DATA/'processed'\n",
    "SUBMISSIONS = DATA/'submissions'"
   ]
  },
  {
   "cell_type": "code",
   "execution_count": 3,
   "metadata": {},
   "outputs": [],
   "source": [
    "challenge  = pd.read_csv(RAW/'Challenge_20180423.csv', low_memory=False)\n",
    "customer   = pd.read_csv(RAW/'Customer.csv', low_memory=False)\n",
    "isin       = pd.read_csv(RAW/'Isin.csv', low_memory=False)\n",
    "market     = pd.read_csv(RAW/'Market.csv', low_memory=False)\n",
    "macro      = pd.read_csv(RAW/'MarketData_Macro.csv', low_memory=False)\n",
    "submission = pd.read_csv(RAW/'sample_submission.csv', low_memory=False)\n",
    "trade      = pd.read_csv(RAW/'Trade.csv', low_memory=False)"
   ]
  },
  {
   "cell_type": "code",
   "execution_count": 4,
   "metadata": {},
   "outputs": [],
   "source": [
    "from src.utils import make_val_set, add_datediffs, add_dayscount, preprocessing_pipeline"
   ]
  },
  {
   "cell_type": "code",
   "execution_count": 5,
   "metadata": {},
   "outputs": [],
   "source": [
    "week_labels = [ 20171108, 20171115, 20171122, 20171129, 20171206,\n",
    "                20171213, 20171220, 20171227, 20180103, 20180110,\n",
    "                20180117, 20180122, 20180129, 20180205, 20180212, \n",
    "                20180219, 20180226, 20180305, 20180312, 20180319, \n",
    "                20180326, 20180402, 20180409, 20180416, 20180423]"
   ]
  },
  {
   "cell_type": "code",
   "execution_count": 6,
   "metadata": {},
   "outputs": [
    {
     "name": "stdout",
     "output_type": "stream",
     "text": [
      "CPU times: user 14min 48s, sys: 4.2 s, total: 14min 52s\n",
      "Wall time: 14min 52s\n"
     ]
    }
   ],
   "source": [
    "%%time\n",
    "weeks = [make_val_set(trade[trade.TradeDateKey.apply(lambda x: w1<=x<w2)], \n",
    "                    challenge) for w1, w2 in zip(week_labels[:-1], week_labels[1:])]"
   ]
  },
  {
   "cell_type": "code",
   "execution_count": 7,
   "metadata": {},
   "outputs": [
    {
     "name": "stdout",
     "output_type": "stream",
     "text": [
      "CPU times: user 31min 54s, sys: 7.08 s, total: 32min 1s\n",
      "Wall time: 32min 1s\n"
     ]
    }
   ],
   "source": [
    "%%time\n",
    "for w in weeks:\n",
    "    add_datediffs(w, trade[trade.TradeDateKey > 20180000])\n",
    "    add_dayscount(w, trade[trade.TradeDateKey > 20180000])"
   ]
  },
  {
   "cell_type": "code",
   "execution_count": 8,
   "metadata": {},
   "outputs": [
    {
     "name": "stdout",
     "output_type": "stream",
     "text": [
      "CPU times: user 5.58 s, sys: 1.82 s, total: 7.41 s\n",
      "Wall time: 7.41 s\n"
     ]
    }
   ],
   "source": [
    "%%time\n",
    "for i, w in enumerate(weeks):\n",
    "    weeks[i] = preprocessing_pipeline(w, customer, isin, trade)  "
   ]
  },
  {
   "cell_type": "code",
   "execution_count": 9,
   "metadata": {},
   "outputs": [],
   "source": [
    "test = pd.read_feather(PROCESSED/'week_0423_diffscount.feather')"
   ]
  },
  {
   "cell_type": "code",
   "execution_count": 10,
   "metadata": {},
   "outputs": [
    {
     "data": {
      "text/html": [
       "<div>\n",
       "<style scoped>\n",
       "    .dataframe tbody tr th:only-of-type {\n",
       "        vertical-align: middle;\n",
       "    }\n",
       "\n",
       "    .dataframe tbody tr th {\n",
       "        vertical-align: top;\n",
       "    }\n",
       "\n",
       "    .dataframe thead th {\n",
       "        text-align: right;\n",
       "    }\n",
       "</style>\n",
       "<table border=\"1\" class=\"dataframe\">\n",
       "  <thead>\n",
       "    <tr style=\"text-align: right;\">\n",
       "      <th></th>\n",
       "      <th>PredictionIdx</th>\n",
       "      <th>CustomerIdx</th>\n",
       "      <th>IsinIdx</th>\n",
       "      <th>BuySell</th>\n",
       "      <th>CustomerInterest</th>\n",
       "      <th>TradeDateKey</th>\n",
       "      <th>DaysSinceBuySell</th>\n",
       "      <th>DaysSinceTransaction</th>\n",
       "      <th>DaysSinceCustomerActivity</th>\n",
       "      <th>DaysSinceBondActivity</th>\n",
       "      <th>DaysCountBuySell</th>\n",
       "      <th>DaysCountTransaction</th>\n",
       "      <th>DaysCountCustomerActivity</th>\n",
       "      <th>DaysCountBondActivity</th>\n",
       "      <th>Sector</th>\n",
       "      <th>Subsector</th>\n",
       "      <th>Region_x</th>\n",
       "      <th>Country</th>\n",
       "      <th>TickerIdx</th>\n",
       "      <th>ActualMaturityDateKey</th>\n",
       "      <th>IssueDateKey</th>\n",
       "      <th>Seniority</th>\n",
       "      <th>Currency</th>\n",
       "      <th>ActivityGroup</th>\n",
       "      <th>Region_y</th>\n",
       "      <th>Activity</th>\n",
       "      <th>RiskCaptain</th>\n",
       "      <th>Owner</th>\n",
       "      <th>CompositeRating</th>\n",
       "      <th>IndustrySector</th>\n",
       "      <th>IndustrySubgroup</th>\n",
       "      <th>MarketIssue</th>\n",
       "      <th>IssuedAmount</th>\n",
       "      <th>CouponType</th>\n",
       "    </tr>\n",
       "  </thead>\n",
       "  <tbody>\n",
       "    <tr>\n",
       "      <th>0</th>\n",
       "      <td>a1e0d80784</td>\n",
       "      <td>1856</td>\n",
       "      <td>13323</td>\n",
       "      <td>Buy</td>\n",
       "      <td>NaN</td>\n",
       "      <td>20180423</td>\n",
       "      <td>296</td>\n",
       "      <td>296</td>\n",
       "      <td>3</td>\n",
       "      <td>3</td>\n",
       "      <td>0</td>\n",
       "      <td>0</td>\n",
       "      <td>6291</td>\n",
       "      <td>34</td>\n",
       "      <td>Asset Managers &amp; Hedge Funds</td>\n",
       "      <td>Independent Asset Manager</td>\n",
       "      <td>Americas</td>\n",
       "      <td>USA</td>\n",
       "      <td>2740</td>\n",
       "      <td>20210315</td>\n",
       "      <td>20130314</td>\n",
       "      <td>SEN</td>\n",
       "      <td>USD</td>\n",
       "      <td>FLOW G10</td>\n",
       "      <td>AMERICAS</td>\n",
       "      <td>CDS AND HY</td>\n",
       "      <td>CDS AND HY</td>\n",
       "      <td>US TMT CDS</td>\n",
       "      <td>B-</td>\n",
       "      <td>Consumer, Non-cyclic</td>\n",
       "      <td>Printing-Commercial</td>\n",
       "      <td>Global</td>\n",
       "      <td>4.500000e+08</td>\n",
       "      <td>FIXED</td>\n",
       "    </tr>\n",
       "    <tr>\n",
       "      <th>1</th>\n",
       "      <td>c2cc6cc2a8</td>\n",
       "      <td>1856</td>\n",
       "      <td>9230</td>\n",
       "      <td>Buy</td>\n",
       "      <td>NaN</td>\n",
       "      <td>20180423</td>\n",
       "      <td>14</td>\n",
       "      <td>14</td>\n",
       "      <td>3</td>\n",
       "      <td>3</td>\n",
       "      <td>3</td>\n",
       "      <td>4</td>\n",
       "      <td>6291</td>\n",
       "      <td>12</td>\n",
       "      <td>Asset Managers &amp; Hedge Funds</td>\n",
       "      <td>Independent Asset Manager</td>\n",
       "      <td>Americas</td>\n",
       "      <td>USA</td>\n",
       "      <td>1446</td>\n",
       "      <td>20240215</td>\n",
       "      <td>20131210</td>\n",
       "      <td>SEN</td>\n",
       "      <td>USD</td>\n",
       "      <td>FLOW G10</td>\n",
       "      <td>AMERICAS</td>\n",
       "      <td>CDS AND HY</td>\n",
       "      <td>CDS AND HY</td>\n",
       "      <td>US HY FIN AUTOS</td>\n",
       "      <td>B</td>\n",
       "      <td>Financial</td>\n",
       "      <td>Multi-line Insurance</td>\n",
       "      <td>US domestic</td>\n",
       "      <td>4.000000e+08</td>\n",
       "      <td>FIXED</td>\n",
       "    </tr>\n",
       "    <tr>\n",
       "      <th>2</th>\n",
       "      <td>a8e94f6344</td>\n",
       "      <td>1780</td>\n",
       "      <td>9157</td>\n",
       "      <td>Buy</td>\n",
       "      <td>NaN</td>\n",
       "      <td>20180423</td>\n",
       "      <td>296</td>\n",
       "      <td>296</td>\n",
       "      <td>3</td>\n",
       "      <td>296</td>\n",
       "      <td>0</td>\n",
       "      <td>0</td>\n",
       "      <td>2783</td>\n",
       "      <td>0</td>\n",
       "      <td>Asset Managers &amp; Hedge Funds</td>\n",
       "      <td>Asset Mgr owned by Bank/Insur.</td>\n",
       "      <td>Americas</td>\n",
       "      <td>USA</td>\n",
       "      <td>1387</td>\n",
       "      <td>20360815</td>\n",
       "      <td>20060815</td>\n",
       "      <td>SEN</td>\n",
       "      <td>USD</td>\n",
       "      <td>FLOW G10</td>\n",
       "      <td>AMERICAS</td>\n",
       "      <td>HG CASH</td>\n",
       "      <td>HG CASH FIN</td>\n",
       "      <td>US FIN SHORT CASH</td>\n",
       "      <td>A+</td>\n",
       "      <td>Industrial</td>\n",
       "      <td>Diversified Manufact Op</td>\n",
       "      <td>Domestic mtn</td>\n",
       "      <td>3.000000e+08</td>\n",
       "      <td>FLOATING</td>\n",
       "    </tr>\n",
       "    <tr>\n",
       "      <th>3</th>\n",
       "      <td>758bae1e35</td>\n",
       "      <td>2129</td>\n",
       "      <td>9131</td>\n",
       "      <td>Buy</td>\n",
       "      <td>NaN</td>\n",
       "      <td>20180423</td>\n",
       "      <td>296</td>\n",
       "      <td>296</td>\n",
       "      <td>3</td>\n",
       "      <td>11</td>\n",
       "      <td>0</td>\n",
       "      <td>0</td>\n",
       "      <td>340</td>\n",
       "      <td>43</td>\n",
       "      <td>Asset Owners</td>\n",
       "      <td>Insurance</td>\n",
       "      <td>Americas</td>\n",
       "      <td>USA</td>\n",
       "      <td>1387</td>\n",
       "      <td>20180501</td>\n",
       "      <td>20080421</td>\n",
       "      <td>SEN</td>\n",
       "      <td>USD</td>\n",
       "      <td>FLOW G10</td>\n",
       "      <td>AMERICAS</td>\n",
       "      <td>HG CASH</td>\n",
       "      <td>HG CASH FIN</td>\n",
       "      <td>US FIN SHORT CASH</td>\n",
       "      <td>A+</td>\n",
       "      <td>Industrial</td>\n",
       "      <td>Diversified Manufact Op</td>\n",
       "      <td>Global</td>\n",
       "      <td>4.000000e+09</td>\n",
       "      <td>FIXED</td>\n",
       "    </tr>\n",
       "    <tr>\n",
       "      <th>4</th>\n",
       "      <td>02ab378ee8</td>\n",
       "      <td>1758</td>\n",
       "      <td>7151</td>\n",
       "      <td>Buy</td>\n",
       "      <td>NaN</td>\n",
       "      <td>20180423</td>\n",
       "      <td>296</td>\n",
       "      <td>296</td>\n",
       "      <td>3</td>\n",
       "      <td>33</td>\n",
       "      <td>0</td>\n",
       "      <td>0</td>\n",
       "      <td>1239</td>\n",
       "      <td>1</td>\n",
       "      <td>Asset Managers &amp; Hedge Funds</td>\n",
       "      <td>Asset Mgr owned by Bank/Insur.</td>\n",
       "      <td>Americas</td>\n",
       "      <td>USA</td>\n",
       "      <td>1290</td>\n",
       "      <td>20181115</td>\n",
       "      <td>20081118</td>\n",
       "      <td>SEN</td>\n",
       "      <td>USD</td>\n",
       "      <td>FLOW G10</td>\n",
       "      <td>AMERICAS</td>\n",
       "      <td>HG CASH</td>\n",
       "      <td>HG CASH NONFIN</td>\n",
       "      <td>US ENERGY CASH</td>\n",
       "      <td>BBB+</td>\n",
       "      <td>Utilities</td>\n",
       "      <td>Electric-Integrated</td>\n",
       "      <td>US domestic</td>\n",
       "      <td>3.000000e+08</td>\n",
       "      <td>FIXED</td>\n",
       "    </tr>\n",
       "  </tbody>\n",
       "</table>\n",
       "</div>"
      ],
      "text/plain": [
       "  PredictionIdx  CustomerIdx  IsinIdx BuySell  CustomerInterest  TradeDateKey  \\\n",
       "0    a1e0d80784         1856    13323     Buy               NaN      20180423   \n",
       "1    c2cc6cc2a8         1856     9230     Buy               NaN      20180423   \n",
       "2    a8e94f6344         1780     9157     Buy               NaN      20180423   \n",
       "3    758bae1e35         2129     9131     Buy               NaN      20180423   \n",
       "4    02ab378ee8         1758     7151     Buy               NaN      20180423   \n",
       "\n",
       "   DaysSinceBuySell  DaysSinceTransaction  DaysSinceCustomerActivity  \\\n",
       "0               296                   296                          3   \n",
       "1                14                    14                          3   \n",
       "2               296                   296                          3   \n",
       "3               296                   296                          3   \n",
       "4               296                   296                          3   \n",
       "\n",
       "   DaysSinceBondActivity  DaysCountBuySell  DaysCountTransaction  \\\n",
       "0                      3                 0                     0   \n",
       "1                      3                 3                     4   \n",
       "2                    296                 0                     0   \n",
       "3                     11                 0                     0   \n",
       "4                     33                 0                     0   \n",
       "\n",
       "   DaysCountCustomerActivity  DaysCountBondActivity  \\\n",
       "0                       6291                     34   \n",
       "1                       6291                     12   \n",
       "2                       2783                      0   \n",
       "3                        340                     43   \n",
       "4                       1239                      1   \n",
       "\n",
       "                         Sector                       Subsector  Region_x  \\\n",
       "0  Asset Managers & Hedge Funds       Independent Asset Manager  Americas   \n",
       "1  Asset Managers & Hedge Funds       Independent Asset Manager  Americas   \n",
       "2  Asset Managers & Hedge Funds  Asset Mgr owned by Bank/Insur.  Americas   \n",
       "3                  Asset Owners                       Insurance  Americas   \n",
       "4  Asset Managers & Hedge Funds  Asset Mgr owned by Bank/Insur.  Americas   \n",
       "\n",
       "  Country  TickerIdx  ActualMaturityDateKey  IssueDateKey Seniority Currency  \\\n",
       "0     USA       2740               20210315      20130314       SEN      USD   \n",
       "1     USA       1446               20240215      20131210       SEN      USD   \n",
       "2     USA       1387               20360815      20060815       SEN      USD   \n",
       "3     USA       1387               20180501      20080421       SEN      USD   \n",
       "4     USA       1290               20181115      20081118       SEN      USD   \n",
       "\n",
       "  ActivityGroup  Region_y    Activity     RiskCaptain              Owner  \\\n",
       "0      FLOW G10  AMERICAS  CDS AND HY      CDS AND HY         US TMT CDS   \n",
       "1      FLOW G10  AMERICAS  CDS AND HY      CDS AND HY    US HY FIN AUTOS   \n",
       "2      FLOW G10  AMERICAS     HG CASH     HG CASH FIN  US FIN SHORT CASH   \n",
       "3      FLOW G10  AMERICAS     HG CASH     HG CASH FIN  US FIN SHORT CASH   \n",
       "4      FLOW G10  AMERICAS     HG CASH  HG CASH NONFIN     US ENERGY CASH   \n",
       "\n",
       "  CompositeRating        IndustrySector         IndustrySubgroup  \\\n",
       "0              B-  Consumer, Non-cyclic      Printing-Commercial   \n",
       "1               B             Financial     Multi-line Insurance   \n",
       "2              A+            Industrial  Diversified Manufact Op   \n",
       "3              A+            Industrial  Diversified Manufact Op   \n",
       "4            BBB+             Utilities      Electric-Integrated   \n",
       "\n",
       "    MarketIssue  IssuedAmount CouponType  \n",
       "0        Global  4.500000e+08      FIXED  \n",
       "1   US domestic  4.000000e+08      FIXED  \n",
       "2  Domestic mtn  3.000000e+08   FLOATING  \n",
       "3        Global  4.000000e+09      FIXED  \n",
       "4   US domestic  3.000000e+08      FIXED  "
      ]
     },
     "execution_count": 10,
     "metadata": {},
     "output_type": "execute_result"
    }
   ],
   "source": [
    "test.head()"
   ]
  },
  {
   "cell_type": "code",
   "execution_count": null,
   "metadata": {},
   "outputs": [],
   "source": [
    "weeks[0].columns"
   ]
  },
  {
   "cell_type": "code",
   "execution_count": null,
   "metadata": {},
   "outputs": [],
   "source": [
    "test.columns"
   ]
  },
  {
   "cell_type": "code",
   "execution_count": null,
   "metadata": {},
   "outputs": [],
   "source": [
    "weeks.append(test)"
   ]
  },
  {
   "cell_type": "markdown",
   "metadata": {},
   "source": [
    "## Preprocessing"
   ]
  },
  {
   "cell_type": "code",
   "execution_count": null,
   "metadata": {},
   "outputs": [],
   "source": [
    "from functools import cmp_to_key\n",
    "from src.utils import composite_rating_cmp\n",
    "isin       = pd.read_csv(RAW/'Isin.csv', low_memory=False)\n",
    "ratings = list(isin.CompositeRating.value_counts().index)\n",
    "ratings = sorted(ratings, key=cmp_to_key(composite_rating_cmp), reverse=True)\n",
    "rank = {k: i for i, k in enumerate(ratings)}"
   ]
  },
  {
   "cell_type": "code",
   "execution_count": null,
   "metadata": {},
   "outputs": [],
   "source": [
    "%%time\n",
    "for w in weeks:\n",
    "    w['CompositeRating']  = w.CompositeRating.apply(lambda x: rank[x])"
   ]
  },
  {
   "cell_type": "code",
   "execution_count": null,
   "metadata": {},
   "outputs": [],
   "source": [
    "cat_cols = ['BuySell', 'Sector', 'Subsector', 'Region_x', 'Country', \n",
    "            'TickerIdx', 'Seniority', 'Currency', 'ActivityGroup', \n",
    "            'Region_y', 'Activity', 'RiskCaptain', 'Owner', \n",
    "            'IndustrySector', 'IndustrySubgroup', 'MarketIssue', 'CouponType']"
   ]
  },
  {
   "cell_type": "code",
   "execution_count": null,
   "metadata": {},
   "outputs": [],
   "source": [
    "id_cols = ['TradeDateKey', 'CustomerIdx', 'IsinIdx']\n",
    "target_col = 'CustomerInterest'\n",
    "pred_col = 'PredictionIdx'"
   ]
  },
  {
   "cell_type": "code",
   "execution_count": null,
   "metadata": {},
   "outputs": [],
   "source": [
    "%%time\n",
    "from src.utils import apply_cats\n",
    "for col in cat_cols:\n",
    "    weeks[-1][col] = weeks[-1][col].astype('category').cat.as_ordered()\n",
    "for w in weeks[:-1]:\n",
    "    apply_cats(w, weeks[-1])\n",
    "for w in weeks:\n",
    "    for col in cat_cols:\n",
    "        w[col] = w[col].cat.codes    "
   ]
  },
  {
   "cell_type": "markdown",
   "metadata": {},
   "source": [
    "## Model"
   ]
  },
  {
   "cell_type": "code",
   "execution_count": null,
   "metadata": {},
   "outputs": [],
   "source": [
    "from src.utils import run_model\n",
    "from lightgbm import LGBMClassifier\n",
    "metric_names = ['auc']"
   ]
  },
  {
   "cell_type": "code",
   "execution_count": null,
   "metadata": {},
   "outputs": [],
   "source": [
    "for i, w in enumerate(weeks[1:]):\n",
    "    train, val, test = weeks[i], w, weeks[-1]\n",
    "    print(train['TradeDateKey'].unique(), \n",
    "          val['TradeDateKey'].unique(), \n",
    "          test['TradeDateKey'].unique())"
   ]
  },
  {
   "cell_type": "code",
   "execution_count": null,
   "metadata": {},
   "outputs": [],
   "source": [
    "%%time\n",
    "results = None\n",
    "output = []\n",
    "for i, w in enumerate(weeks[1:]):\n",
    "    train, val, test = weeks[i], w, weeks[-1]\n",
    "    X_train, y_train = train.drop(id_cols + [target_col], axis=1), \\\n",
    "                       train[target_col]\n",
    "    if pred_col in val.columns: # when test acts as validation\n",
    "        X_val, y_val = None, None\n",
    "    else:\n",
    "        X_val, y_val = val.drop(id_cols + [target_col], axis=1), \\\n",
    "                       val[target_col]\n",
    "    X_test = test.drop(id_cols + [target_col, pred_col], axis=1)\n",
    "        \n",
    "    y_test, _, results, model = run_model(\n",
    "            LGBMClassifier(n_estimators=120),\n",
    "            X_train, y_train, X_val, y_val, X_test,\n",
    "            metric_names, results, \n",
    "            params_desc='n_estimators=120',\n",
    "            dataset_desc=f'{week_labels[i]}_diffcounts', \n",
    "            early_stopping=True)\n",
    "    output.append([y_test, model])"
   ]
  },
  {
   "cell_type": "code",
   "execution_count": null,
   "metadata": {},
   "outputs": [],
   "source": [
    "results"
   ]
  },
  {
   "cell_type": "code",
   "execution_count": null,
   "metadata": {},
   "outputs": [],
   "source": [
    "test[target_col] = 0\n",
    "total = 0\n",
    "n_weeks = 5\n",
    "jump = 1.25\n",
    "dif = 0.5\n",
    "acum = 1\n",
    "mul = 0\n",
    "for ix in range(len(results)):\n",
    "    if ix % n_weeks == 0:\n",
    "        acum += dif\n",
    "        mul = mul + acum\n",
    "    print(mul)\n",
    "    test[target_col] += (mul) * output[ix][0]\n",
    "    total += mul\n",
    "test[target_col] /= total"
   ]
  },
  {
   "cell_type": "markdown",
   "metadata": {},
   "source": [
    "## Submission"
   ]
  },
  {
   "cell_type": "code",
   "execution_count": null,
   "metadata": {},
   "outputs": [],
   "source": [
    "submission = pd.read_csv(RAW/'sample_submission.csv', low_memory=False)\n",
    "submission = pd.merge(submission[['PredictionIdx']], test[['PredictionIdx', target_col]], \n",
    "                      how='left', on='PredictionIdx')"
   ]
  },
  {
   "cell_type": "code",
   "execution_count": null,
   "metadata": {},
   "outputs": [],
   "source": [
    "submission.to_csv(SUBMISSIONS/'20-lgbm_8weeks_diffscount_20171213-0416_with_weights.csv', index=False)"
   ]
  }
 ],
 "metadata": {
  "kernelspec": {
   "display_name": "Python 3",
   "language": "python",
   "name": "python3"
  },
  "language_info": {
   "codemirror_mode": {
    "name": "ipython",
    "version": 3
   },
   "file_extension": ".py",
   "mimetype": "text/x-python",
   "name": "python",
   "nbconvert_exporter": "python",
   "pygments_lexer": "ipython3",
   "version": "3.6.4"
  }
 },
 "nbformat": 4,
 "nbformat_minor": 2
}
