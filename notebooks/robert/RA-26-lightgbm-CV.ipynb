{
 "cells": [
  {
   "cell_type": "code",
   "execution_count": 1,
   "metadata": {},
   "outputs": [],
   "source": [
    "%load_ext autoreload\n",
    "%autoreload 2\n",
    "%matplotlib inline\n",
    "%config InlineBackend.figure_format = 'retina'\n",
    "\n",
    "import os, math\n",
    "import numpy as np, pandas as pd\n",
    "import matplotlib.pyplot as plt, seaborn as sns\n",
    "from tqdm import tqdm, tqdm_notebook\n",
    "from pathlib import Path\n",
    "pd.set_option('display.max_columns', 1000)\n",
    "pd.set_option('display.max_rows', 400)\n",
    "sns.set()\n",
    "\n",
    "os.chdir('../..')\n",
    "from src import utils"
   ]
  },
  {
   "cell_type": "code",
   "execution_count": 2,
   "metadata": {},
   "outputs": [],
   "source": [
    "DATA        = Path('data')\n",
    "RAW         = DATA/'raw'\n",
    "INTERIM     = DATA/'interim'\n",
    "PROCESSED   = DATA/'processed'\n",
    "SUBMISSIONS = DATA/'submissions'"
   ]
  },
  {
   "cell_type": "code",
   "execution_count": 3,
   "metadata": {},
   "outputs": [],
   "source": [
    "from src.utils import get_weeks\n",
    "# week_labels = get_weeks(day_from=20160104, num_weeks=121)[52:]\n",
    "week_labels = get_weeks(day_from=20160104, num_weeks=121)[96:]\n",
    "# week_labels = get_weeks(day_from=20160104, num_weeks=121)[104:]"
   ]
  },
  {
   "cell_type": "code",
   "execution_count": 4,
   "metadata": {},
   "outputs": [
    {
     "name": "stdout",
     "output_type": "stream",
     "text": [
      "[20171106, 20171113, 20171120, 20171127, 20171204, 20171211, 20171218, 20171225, 20180101, 20180108, 20180115, 20180122, 20180129, 20180205, 20180212, 20180219, 20180226, 20180305, 20180312, 20180319, 20180326, 20180402, 20180409, 20180416, 20180423]\n"
     ]
    }
   ],
   "source": [
    "print(week_labels)"
   ]
  },
  {
   "cell_type": "code",
   "execution_count": 5,
   "metadata": {},
   "outputs": [
    {
     "name": "stdout",
     "output_type": "stream",
     "text": [
      "CPU times: user 8min 8s, sys: 2min 41s, total: 10min 50s\n",
      "Wall time: 5min 37s\n"
     ]
    }
   ],
   "source": [
    "%%time\n",
    "weeks = pd.DataFrame()\n",
    "for name in week_labels[:-1]:\n",
    "    weeks = pd.concat([weeks, pd.read_feather(\n",
    "        PROCESSED/f'SVD_17-18_72f/week_{name}_SVD_diffscount.feather')])"
   ]
  },
  {
   "cell_type": "code",
   "execution_count": 6,
   "metadata": {},
   "outputs": [],
   "source": [
    "test = pd.read_feather(\n",
    "    PROCESSED/f'SVD_17-18_72f/week_{week_labels[-1]}_SVD_diffscount.feather')"
   ]
  },
  {
   "cell_type": "markdown",
   "metadata": {},
   "source": [
    "## Preprocessing"
   ]
  },
  {
   "cell_type": "code",
   "execution_count": 7,
   "metadata": {},
   "outputs": [],
   "source": [
    "cat_cols = ['BuySell', 'Sector', 'Subsector', 'Region_x', 'Country', \n",
    "            'TickerIdx', 'Seniority', 'Currency', 'ActivityGroup', \n",
    "            'Region_y', 'Activity', 'RiskCaptain', 'Owner', \n",
    "            'IndustrySector', 'IndustrySubgroup', 'MarketIssue', 'CouponType']"
   ]
  },
  {
   "cell_type": "code",
   "execution_count": 8,
   "metadata": {},
   "outputs": [],
   "source": [
    "id_cols = ['TradeDateKey', 'CustomerIdx', 'IsinIdx']\n",
    "target_col = 'CustomerInterest'\n",
    "pred_col = 'PredictionIdx'"
   ]
  },
  {
   "cell_type": "code",
   "execution_count": 9,
   "metadata": {},
   "outputs": [
    {
     "name": "stdout",
     "output_type": "stream",
     "text": [
      "CPU times: user 48.5 s, sys: 5.76 s, total: 54.3 s\n",
      "Wall time: 24.9 s\n"
     ]
    }
   ],
   "source": [
    "%%time\n",
    "from src.utils import apply_cats\n",
    "for col in cat_cols:\n",
    "    test[col] = test[col].astype('category').cat.as_ordered()\n",
    "apply_cats(weeks, test)\n",
    "\n",
    "for col in cat_cols:\n",
    "    weeks[col] = weeks[col].cat.codes\n",
    "    test[col] = test[col].cat.codes"
   ]
  },
  {
   "cell_type": "markdown",
   "metadata": {},
   "source": [
    "## Model"
   ]
  },
  {
   "cell_type": "code",
   "execution_count": 10,
   "metadata": {},
   "outputs": [],
   "source": [
    "from lightgbm import LGBMClassifier\n",
    "from sklearn.metrics import roc_auc_score"
   ]
  },
  {
   "cell_type": "code",
   "execution_count": 11,
   "metadata": {},
   "outputs": [
    {
     "name": "stdout",
     "output_type": "stream",
     "text": [
      "20171106 20180319 [20180326]\n"
     ]
    },
    {
     "name": "stderr",
     "output_type": "stream",
     "text": [
      "/home/raduviri/anaconda3/lib/python3.6/site-packages/pandas/core/frame.py:3694: SettingWithCopyWarning: \n",
      "A value is trying to be set on a copy of a slice from a DataFrame\n",
      "\n",
      "See the caveats in the documentation: http://pandas.pydata.org/pandas-docs/stable/indexing.html#indexing-view-versus-copy\n",
      "  errors=errors)\n"
     ]
    },
    {
     "name": "stdout",
     "output_type": "stream",
     "text": [
      "Training until validation scores don't improve for 30 rounds.\n",
      "[20]\tvalid_0's auc: 0.771599\n",
      "[40]\tvalid_0's auc: 0.806475\n",
      "[60]\tvalid_0's auc: 0.816678\n",
      "[80]\tvalid_0's auc: 0.822398\n",
      "[100]\tvalid_0's auc: 0.824564\n",
      "[120]\tvalid_0's auc: 0.826187\n",
      "[140]\tvalid_0's auc: 0.826628\n",
      "[160]\tvalid_0's auc: 0.827237\n",
      "[180]\tvalid_0's auc: 0.826049\n",
      "Early stopping, best iteration is:\n",
      "[163]\tvalid_0's auc: 0.827352\n",
      "Train AUC:  0.7980312197668828\n",
      "Val AUC:  0.8273520913252462\n",
      "\n",
      "20171106 20180326 [20180402]\n"
     ]
    },
    {
     "name": "stderr",
     "output_type": "stream",
     "text": [
      "/home/raduviri/anaconda3/lib/python3.6/site-packages/pandas/core/frame.py:3694: SettingWithCopyWarning: \n",
      "A value is trying to be set on a copy of a slice from a DataFrame\n",
      "\n",
      "See the caveats in the documentation: http://pandas.pydata.org/pandas-docs/stable/indexing.html#indexing-view-versus-copy\n",
      "  errors=errors)\n"
     ]
    },
    {
     "name": "stdout",
     "output_type": "stream",
     "text": [
      "Training until validation scores don't improve for 30 rounds.\n",
      "[20]\tvalid_0's auc: 0.789657\n",
      "[40]\tvalid_0's auc: 0.809884\n",
      "[60]\tvalid_0's auc: 0.815839\n",
      "[80]\tvalid_0's auc: 0.81836\n",
      "[100]\tvalid_0's auc: 0.820041\n",
      "[120]\tvalid_0's auc: 0.819974\n",
      "[140]\tvalid_0's auc: 0.821246\n",
      "[160]\tvalid_0's auc: 0.821957\n",
      "[180]\tvalid_0's auc: 0.822164\n",
      "[200]\tvalid_0's auc: 0.82264\n",
      "[220]\tvalid_0's auc: 0.823098\n",
      "[240]\tvalid_0's auc: 0.824027\n",
      "[260]\tvalid_0's auc: 0.824055\n",
      "Early stopping, best iteration is:\n",
      "[231]\tvalid_0's auc: 0.824267\n",
      "Train AUC:  0.8062227442047145\n",
      "Val AUC:  0.824267377403749\n",
      "\n",
      "20171106 20180402 [20180409]\n"
     ]
    },
    {
     "name": "stderr",
     "output_type": "stream",
     "text": [
      "/home/raduviri/anaconda3/lib/python3.6/site-packages/pandas/core/frame.py:3694: SettingWithCopyWarning: \n",
      "A value is trying to be set on a copy of a slice from a DataFrame\n",
      "\n",
      "See the caveats in the documentation: http://pandas.pydata.org/pandas-docs/stable/indexing.html#indexing-view-versus-copy\n",
      "  errors=errors)\n"
     ]
    },
    {
     "name": "stdout",
     "output_type": "stream",
     "text": [
      "Training until validation scores don't improve for 30 rounds.\n",
      "[20]\tvalid_0's auc: 0.819693\n",
      "[40]\tvalid_0's auc: 0.833246\n",
      "[60]\tvalid_0's auc: 0.839031\n",
      "[80]\tvalid_0's auc: 0.842935\n",
      "[100]\tvalid_0's auc: 0.844152\n",
      "[120]\tvalid_0's auc: 0.846077\n",
      "[140]\tvalid_0's auc: 0.84763\n",
      "[160]\tvalid_0's auc: 0.848228\n",
      "[180]\tvalid_0's auc: 0.848309\n",
      "[200]\tvalid_0's auc: 0.848596\n",
      "[220]\tvalid_0's auc: 0.849268\n",
      "[240]\tvalid_0's auc: 0.849654\n",
      "[260]\tvalid_0's auc: 0.850118\n",
      "[280]\tvalid_0's auc: 0.850131\n",
      "[300]\tvalid_0's auc: 0.850979\n",
      "[320]\tvalid_0's auc: 0.851299\n",
      "[340]\tvalid_0's auc: 0.851385\n",
      "[360]\tvalid_0's auc: 0.8515\n",
      "[380]\tvalid_0's auc: 0.851636\n",
      "[400]\tvalid_0's auc: 0.851637\n",
      "Did not meet early stopping. Best iteration is:\n",
      "[376]\tvalid_0's auc: 0.851642\n",
      "Train AUC:  0.8161902543359266\n",
      "Val AUC:  0.8516418834039483\n",
      "\n",
      "20171106 20180409 [20180416]\n"
     ]
    },
    {
     "name": "stderr",
     "output_type": "stream",
     "text": [
      "/home/raduviri/anaconda3/lib/python3.6/site-packages/pandas/core/frame.py:3694: SettingWithCopyWarning: \n",
      "A value is trying to be set on a copy of a slice from a DataFrame\n",
      "\n",
      "See the caveats in the documentation: http://pandas.pydata.org/pandas-docs/stable/indexing.html#indexing-view-versus-copy\n",
      "  errors=errors)\n"
     ]
    },
    {
     "name": "stdout",
     "output_type": "stream",
     "text": [
      "Training until validation scores don't improve for 30 rounds.\n",
      "[20]\tvalid_0's auc: 0.841922\n",
      "[40]\tvalid_0's auc: 0.854103\n",
      "[60]\tvalid_0's auc: 0.859743\n",
      "[80]\tvalid_0's auc: 0.864081\n",
      "[100]\tvalid_0's auc: 0.86642\n",
      "[120]\tvalid_0's auc: 0.868242\n",
      "[140]\tvalid_0's auc: 0.867831\n",
      "[160]\tvalid_0's auc: 0.868615\n",
      "Early stopping, best iteration is:\n",
      "[137]\tvalid_0's auc: 0.869374\n",
      "Train AUC:  0.8038221068804319\n",
      "Val AUC:  0.8693741344750291\n",
      "\n",
      "CPU times: user 2h 20min 40s, sys: 3min 2s, total: 2h 23min 42s\n",
      "Wall time: 13min 10s\n"
     ]
    }
   ],
   "source": [
    "%%time\n",
    "val_set = []\n",
    "train_auc = []\n",
    "val_auc = []\n",
    "for i in range(-5, -1):\n",
    "    train, val = weeks[weeks.TradeDateKey<week_labels[i]], \\\n",
    "                 weeks[(weeks.TradeDateKey<week_labels[i+1]) & \\\n",
    "                       (weeks.TradeDateKey>=week_labels[i])]\n",
    "    print(train.TradeDateKey.min(), train.TradeDateKey.max(), \n",
    "          val.TradeDateKey.unique())\n",
    "    val_set.append(val.TradeDateKey.unique()[0])\n",
    "    y_train = train[target_col]\n",
    "    train.drop(id_cols + [target_col], axis=1, inplace=True)\n",
    "    y_val = val[target_col]\n",
    "    val.drop(id_cols + [target_col], axis=1, inplace=True)\n",
    "\n",
    "    model = LGBMClassifier(n_estimators=400)\n",
    "    model.fit(train, y_train, eval_metric='auc', verbose=20,\n",
    "              eval_set=[(val, y_val)], early_stopping_rounds=30)\n",
    "    \n",
    "    y_pred = model.predict_proba(train)[:,1]\n",
    "    train_auc.append(roc_auc_score(y_train, y_pred))\n",
    "    print('Train AUC: ', train_auc[-1])\n",
    "    y_pred = model.predict_proba(val)[:,1]\n",
    "    val_auc.append(roc_auc_score(y_val, y_pred))\n",
    "    print('Val AUC: ', val_auc[-1])\n",
    "    print()\n",
    "    \n",
    "    del model, train, y_train, val, y_val, y_pred"
   ]
  },
  {
   "cell_type": "code",
   "execution_count": 12,
   "metadata": {},
   "outputs": [],
   "source": [
    "results = pd.DataFrame()\n",
    "results['val_set'] = [20180326, 20180402, 20180409, 20180416]\n",
    "results['train_auc'] = [0.7980312197668828, 0.8062227442047145, 0.8161902543359266, 0.8038221068804319]\n",
    "results['val_auc'] = [0.8273520913252462, 0.824267377403749, 0.8516418834039483, 0.8693741344750291]\n",
    "results['iterations'] = [163, 231, 376, 137]"
   ]
  },
  {
   "cell_type": "code",
   "execution_count": 13,
   "metadata": {},
   "outputs": [
    {
     "data": {
      "text/html": [
       "<div>\n",
       "<style scoped>\n",
       "    .dataframe tbody tr th:only-of-type {\n",
       "        vertical-align: middle;\n",
       "    }\n",
       "\n",
       "    .dataframe tbody tr th {\n",
       "        vertical-align: top;\n",
       "    }\n",
       "\n",
       "    .dataframe thead th {\n",
       "        text-align: right;\n",
       "    }\n",
       "</style>\n",
       "<table border=\"1\" class=\"dataframe\">\n",
       "  <thead>\n",
       "    <tr style=\"text-align: right;\">\n",
       "      <th></th>\n",
       "      <th>val_set</th>\n",
       "      <th>train_auc</th>\n",
       "      <th>val_auc</th>\n",
       "      <th>iterations</th>\n",
       "    </tr>\n",
       "  </thead>\n",
       "  <tbody>\n",
       "    <tr>\n",
       "      <th>0</th>\n",
       "      <td>20180326</td>\n",
       "      <td>0.798031</td>\n",
       "      <td>0.827352</td>\n",
       "      <td>163</td>\n",
       "    </tr>\n",
       "    <tr>\n",
       "      <th>1</th>\n",
       "      <td>20180402</td>\n",
       "      <td>0.806223</td>\n",
       "      <td>0.824267</td>\n",
       "      <td>231</td>\n",
       "    </tr>\n",
       "    <tr>\n",
       "      <th>2</th>\n",
       "      <td>20180409</td>\n",
       "      <td>0.816190</td>\n",
       "      <td>0.851642</td>\n",
       "      <td>376</td>\n",
       "    </tr>\n",
       "    <tr>\n",
       "      <th>3</th>\n",
       "      <td>20180416</td>\n",
       "      <td>0.803822</td>\n",
       "      <td>0.869374</td>\n",
       "      <td>137</td>\n",
       "    </tr>\n",
       "  </tbody>\n",
       "</table>\n",
       "</div>"
      ],
      "text/plain": [
       "    val_set  train_auc   val_auc  iterations\n",
       "0  20180326   0.798031  0.827352         163\n",
       "1  20180402   0.806223  0.824267         231\n",
       "2  20180409   0.816190  0.851642         376\n",
       "3  20180416   0.803822  0.869374         137"
      ]
     },
     "execution_count": 13,
     "metadata": {},
     "output_type": "execute_result"
    }
   ],
   "source": [
    "results"
   ]
  }
 ],
 "metadata": {
  "kernelspec": {
   "display_name": "Python 3",
   "language": "python",
   "name": "python3"
  },
  "language_info": {
   "codemirror_mode": {
    "name": "ipython",
    "version": 3
   },
   "file_extension": ".py",
   "mimetype": "text/x-python",
   "name": "python",
   "nbconvert_exporter": "python",
   "pygments_lexer": "ipython3",
   "version": "3.6.5"
  }
 },
 "nbformat": 4,
 "nbformat_minor": 2
}
