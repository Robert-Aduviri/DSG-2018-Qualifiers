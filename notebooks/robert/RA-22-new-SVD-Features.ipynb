{
 "cells": [
  {
   "cell_type": "code",
   "execution_count": 1,
   "metadata": {},
   "outputs": [],
   "source": [
    "%load_ext autoreload\n",
    "%autoreload 2\n",
    "%matplotlib inline\n",
    "%config InlineBackend.figure_format = 'retina'\n",
    "\n",
    "import os, math\n",
    "import numpy as np, pandas as pd\n",
    "import matplotlib.pyplot as plt, seaborn as sns\n",
    "from pandas_summary import DataFrameSummary\n",
    "from tqdm import tqdm, tqdm_notebook\n",
    "from pathlib import Path\n",
    "pd.set_option('display.max_columns', 1000)\n",
    "pd.set_option('display.max_rows', 400)\n",
    "sns.set()\n",
    "\n",
    "os.chdir('../..')\n",
    "from src import utils"
   ]
  },
  {
   "cell_type": "code",
   "execution_count": 2,
   "metadata": {},
   "outputs": [],
   "source": [
    "DATA        = Path('data')\n",
    "RAW         = DATA/'raw'\n",
    "INTERIM     = DATA/'interim'\n",
    "PROCESSED   = DATA/'processed'\n",
    "SUBMISSIONS = DATA/'submissions'"
   ]
  },
  {
   "cell_type": "code",
   "execution_count": 5,
   "metadata": {},
   "outputs": [],
   "source": [
    "from surprise import dump\n",
    "_, nmf = dump.load(PROCESSED/'Extra_IsinBuySell_NMF.dump')"
   ]
  },
  {
   "cell_type": "code",
   "execution_count": 6,
   "metadata": {},
   "outputs": [],
   "source": [
    "from src.utils import get_weeks\n",
    "week_labels = get_weeks(day_from=20160104, num_weeks=121)[104:]"
   ]
  },
  {
   "cell_type": "code",
   "execution_count": 7,
   "metadata": {},
   "outputs": [
    {
     "name": "stdout",
     "output_type": "stream",
     "text": [
      "CPU times: user 844 ms, sys: 436 ms, total: 1.28 s\n",
      "Wall time: 1.28 s\n"
     ]
    }
   ],
   "source": [
    "%%time\n",
    "weeks = []\n",
    "for name in week_labels:\n",
    "    weeks.append(pd.read_feather(PROCESSED/f'all_weeks/week_{name}_diffscount.feather'))"
   ]
  },
  {
   "cell_type": "markdown",
   "metadata": {},
   "source": [
    "## NMF features"
   ]
  },
  {
   "cell_type": "code",
   "execution_count": 9,
   "metadata": {},
   "outputs": [],
   "source": [
    "uid = nmf.trainset._raw2inner_id_users\n",
    "iid = nmf.trainset._raw2inner_id_items"
   ]
  },
  {
   "cell_type": "code",
   "execution_count": 11,
   "metadata": {},
   "outputs": [
    {
     "name": "stdout",
     "output_type": "stream",
     "text": [
      "CPU times: user 52.3 s, sys: 620 ms, total: 52.9 s\n",
      "Wall time: 52.8 s\n"
     ]
    }
   ],
   "source": [
    "%%time\n",
    "from tqdm._tqdm_notebook import tqdm_notebook\n",
    "tqdm_notebook.pandas()\n",
    "for w in weeks:\n",
    "    w['NMF_CustomerBias'] = [nmf.bu[uid[x]] for x in w.CustomerIdx]\n",
    "    w['NMF_IsinBuySellBias'] = [nmf.bi[iid[f'{iIdx}-{bIdx}']] \\\n",
    "                                for iIdx, bIdx in zip(w.IsinIdx, w.BuySell)]\n",
    "    w['NMF_Recommend'] = [nmf.predict(cIdx, f'{iIdx}-{bIdx}').est \\\n",
    "                          for cIdx, iIdx, bIdx in zip(w.CustomerIdx, w.IsinIdx, w.BuySell)]"
   ]
  },
  {
   "cell_type": "code",
   "execution_count": 14,
   "metadata": {},
   "outputs": [
    {
     "name": "stdout",
     "output_type": "stream",
     "text": [
      "CPU times: user 15.5 s, sys: 1.41 s, total: 17 s\n",
      "Wall time: 16.9 s\n"
     ]
    }
   ],
   "source": [
    "%%time\n",
    "for n, w in zip(week_labels, weeks):\n",
    "    customer_factors = np.array([nmf.pu[uid[cIdx]] for cIdx in w.CustomerIdx])\n",
    "    isin_factors = np.array([nmf.qi[iid[f'{iIdx}-{bIdx}']] \\\n",
    "                             for iIdx, bIdx in zip(w.IsinIdx, w.BuySell)])\n",
    "    for i in range(customer_factors.shape[1]):\n",
    "        w[f'NMF_CustomerFactor{i:02}'] = customer_factors[:,i]\n",
    "    for i in range(isin_factors.shape[1]):\n",
    "        w[f'NMF_IsinBuySellFactor{i:02}'] = isin_factors[:,i]"
   ]
  },
  {
   "cell_type": "markdown",
   "metadata": {},
   "source": [
    "## Extra Features"
   ]
  },
  {
   "cell_type": "code",
   "execution_count": 16,
   "metadata": {},
   "outputs": [
    {
     "name": "stdout",
     "output_type": "stream",
     "text": [
      "CPU times: user 4.27 s, sys: 156 ms, total: 4.43 s\n",
      "Wall time: 4.42 s\n"
     ]
    }
   ],
   "source": [
    "%%time\n",
    "for w in weeks:\n",
    "    w['Month'] = w.TradeDateKey.apply(lambda x: x // 10**4 % 10**2)\n",
    "    w['Day'] = w.TradeDateKey.apply(lambda x: x % 10**2)"
   ]
  },
  {
   "cell_type": "code",
   "execution_count": 18,
   "metadata": {},
   "outputs": [],
   "source": [
    "customer   = pd.read_csv(RAW/'Customer.csv', low_memory=False)\n",
    "isin       = pd.read_csv(RAW/'Isin.csv', low_memory=False)\n",
    "trade      = pd.read_csv(RAW/'Trade.csv', low_memory=False)"
   ]
  },
  {
   "cell_type": "code",
   "execution_count": 19,
   "metadata": {},
   "outputs": [
    {
     "name": "stdout",
     "output_type": "stream",
     "text": [
      "CPU times: user 7.07 s, sys: 1.06 s, total: 8.13 s\n",
      "Wall time: 8.12 s\n"
     ]
    }
   ],
   "source": [
    "%%time\n",
    "from src.utils import preprocessing_pipeline\n",
    "for i, w in enumerate(weeks):\n",
    "    weeks[i] = preprocessing_pipeline(w, customer, isin, trade)"
   ]
  },
  {
   "cell_type": "markdown",
   "metadata": {},
   "source": [
    "## Preprocessing"
   ]
  },
  {
   "cell_type": "code",
   "execution_count": 21,
   "metadata": {},
   "outputs": [],
   "source": [
    "from functools import cmp_to_key\n",
    "from src.utils import composite_rating_cmp\n",
    "ratings = list(isin.CompositeRating.value_counts().index)\n",
    "ratings = sorted(ratings, key=cmp_to_key(composite_rating_cmp), reverse=True)\n",
    "rank = {k: i for i, k in enumerate(ratings)}"
   ]
  },
  {
   "cell_type": "code",
   "execution_count": 22,
   "metadata": {},
   "outputs": [
    {
     "name": "stdout",
     "output_type": "stream",
     "text": [
      "CPU times: user 2.4 s, sys: 228 ms, total: 2.63 s\n",
      "Wall time: 2.63 s\n"
     ]
    }
   ],
   "source": [
    "%%time\n",
    "for w in weeks:\n",
    "    w['CompositeRating']  = w.CompositeRating.apply(lambda x: rank[x])"
   ]
  },
  {
   "cell_type": "code",
   "execution_count": 23,
   "metadata": {},
   "outputs": [],
   "source": [
    "cat_cols = ['BuySell', 'Sector', 'Subsector', 'Region_x', 'Country', \n",
    "            'TickerIdx', 'Seniority', 'Currency', 'ActivityGroup', \n",
    "            'Region_y', 'Activity', 'RiskCaptain', 'Owner', \n",
    "            'IndustrySector', 'IndustrySubgroup', 'MarketIssue', 'CouponType']"
   ]
  },
  {
   "cell_type": "code",
   "execution_count": 24,
   "metadata": {},
   "outputs": [],
   "source": [
    "id_cols = ['TradeDateKey', 'CustomerIdx', 'IsinIdx']\n",
    "target_col = 'CustomerInterest'\n",
    "pred_col = 'PredictionIdx'"
   ]
  },
  {
   "cell_type": "code",
   "execution_count": 25,
   "metadata": {},
   "outputs": [
    {
     "name": "stdout",
     "output_type": "stream",
     "text": [
      "CPU times: user 6.27 s, sys: 220 ms, total: 6.49 s\n",
      "Wall time: 6.48 s\n"
     ]
    }
   ],
   "source": [
    "%%time\n",
    "from src.utils import apply_cats\n",
    "for col in cat_cols:\n",
    "    weeks[-1][col] = weeks[-1][col].astype('category').cat.as_ordered()\n",
    "for w in weeks[:-1]:\n",
    "    apply_cats(w, weeks[-1])\n",
    "\n",
    "for w in weeks:\n",
    "    for col in cat_cols:\n",
    "        w[col] = w[col].cat.codes"
   ]
  },
  {
   "cell_type": "markdown",
   "metadata": {},
   "source": [
    "## Model"
   ]
  },
  {
   "cell_type": "code",
   "execution_count": 26,
   "metadata": {},
   "outputs": [],
   "source": [
    "from src.utils import run_model\n",
    "from lightgbm import LGBMClassifier\n",
    "metric_names = ['auc']"
   ]
  },
  {
   "cell_type": "code",
   "execution_count": 27,
   "metadata": {},
   "outputs": [],
   "source": [
    "all_2018 = pd.concat(weeks[:-1])"
   ]
  },
  {
   "cell_type": "code",
   "execution_count": 28,
   "metadata": {},
   "outputs": [
    {
     "data": {
      "text/plain": [
       "array([20180101, 20180108, 20180115, 20180122, 20180129, 20180205,\n",
       "       20180212, 20180219, 20180226, 20180305, 20180312, 20180319,\n",
       "       20180326, 20180402, 20180409, 20180416])"
      ]
     },
     "execution_count": 28,
     "metadata": {},
     "output_type": "execute_result"
    }
   ],
   "source": [
    "all_2018.TradeDateKey.unique()"
   ]
  },
  {
   "cell_type": "code",
   "execution_count": 33,
   "metadata": {},
   "outputs": [
    {
     "name": "stdout",
     "output_type": "stream",
     "text": [
      "20180101 20180305 [20180312]\n",
      "20180101 20180312 [20180319]\n",
      "20180101 20180319 [20180326]\n",
      "20180101 20180326 [20180402]\n",
      "20180101 20180402 [20180409]\n",
      "20180101 20180409 [20180416]\n",
      "20180101 20180416 [20180423]\n"
     ]
    }
   ],
   "source": [
    "for i in range(-8,0):\n",
    "    train, val = pd.concat(weeks[:i]), weeks[i]\n",
    "    print(train['TradeDateKey'].min(), train['TradeDateKey'].max(),\n",
    "          val['TradeDateKey'].unique())"
   ]
  },
  {
   "cell_type": "code",
   "execution_count": null,
   "metadata": {},
   "outputs": [],
   "source": [
    "%%time\n",
    "results = None\n",
    "output = []\n",
    "for i, w in enumerate(data_2018[1:]): \n",
    "    train, val = pd.concat(data_2018[:i+1]), w\n",
    "    X_train, y_train = train.drop(id_cols + [target_col], axis=1), \\\n",
    "                       train[target_col]\n",
    "    if pred_col in val.columns: # when test acts as validation\n",
    "        X_val, y_val = None, None\n",
    "    else:\n",
    "        X_val, y_val = val.drop(id_cols + [target_col], axis=1), \\\n",
    "                       val[target_col]\n",
    "            \n",
    "    _, _, results, model = run_model(\n",
    "            LGBMClassifier(n_estimators=400),\n",
    "            X_train, y_train, X_val, y_val, None,\n",
    "            metric_names, results, \n",
    "            params_desc='n_estimators=120',\n",
    "            dataset_desc=f'{data_2018[i]}_diffcounts', \n",
    "            early_stopping_rounds=30)\n",
    "    output.append(model)"
   ]
  }
 ],
 "metadata": {
  "kernelspec": {
   "display_name": "Python 3",
   "language": "python",
   "name": "python3"
  },
  "language_info": {
   "codemirror_mode": {
    "name": "ipython",
    "version": 3
   },
   "file_extension": ".py",
   "mimetype": "text/x-python",
   "name": "python",
   "nbconvert_exporter": "python",
   "pygments_lexer": "ipython3",
   "version": "3.6.4"
  }
 },
 "nbformat": 4,
 "nbformat_minor": 2
}
