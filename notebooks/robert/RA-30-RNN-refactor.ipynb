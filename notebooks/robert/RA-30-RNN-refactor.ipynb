{
 "cells": [
  {
   "cell_type": "code",
   "execution_count": 1,
   "metadata": {},
   "outputs": [],
   "source": [
    "%load_ext autoreload\n",
    "%autoreload 2\n",
    "%matplotlib inline\n",
    "%config InlineBackend.figure_format = 'retina'\n",
    "\n",
    "import os, math\n",
    "import numpy as np, pandas as pd\n",
    "import matplotlib.pyplot as plt, seaborn as sns\n",
    "from tqdm import tqdm, tqdm_notebook\n",
    "from pathlib import Path\n",
    "pd.set_option('display.max_columns', 1000)\n",
    "pd.set_option('display.max_rows', 400)\n",
    "sns.set()\n",
    "\n",
    "os.chdir('../..')\n",
    "from src import utils"
   ]
  },
  {
   "cell_type": "code",
   "execution_count": 2,
   "metadata": {},
   "outputs": [],
   "source": [
    "DATA        = Path('data')\n",
    "RAW         = DATA/'raw'\n",
    "INTERIM     = DATA/'interim'\n",
    "PROCESSED   = DATA/'processed'\n",
    "SUBMISSIONS = DATA/'submissions'"
   ]
  },
  {
   "cell_type": "code",
   "execution_count": 3,
   "metadata": {},
   "outputs": [],
   "source": [
    "challenge  = pd.read_csv(RAW/'Challenge_20180423.csv', low_memory=False)\n",
    "# customer   = pd.read_csv(RAW/'Customer.csv', low_memory=False)\n",
    "# isin       = pd.read_csv(RAW/'Isin.csv', low_memory=False)\n",
    "# submission = pd.read_csv(RAW/'sample_submission.csv', low_memory=False)\n",
    "trade      = pd.read_csv(RAW/'Trade.csv', low_memory=False)\n",
    "# market     = pd.read_csv(RAW/'Market.csv', low_memory=False)"
   ]
  },
  {
   "cell_type": "code",
   "execution_count": 6,
   "metadata": {},
   "outputs": [],
   "source": [
    "from src.utils import get_weeks, week_num\n",
    "week_labels = get_weeks(day_from=20160104, num_weeks=121)[104:]"
   ]
  },
  {
   "cell_type": "code",
   "execution_count": 5,
   "metadata": {},
   "outputs": [
    {
     "name": "stdout",
     "output_type": "stream",
     "text": [
      "[20180101, 20180108, 20180115, 20180122, 20180129, 20180205, 20180212, 20180219, 20180226, 20180305, 20180312, 20180319, 20180326, 20180402, 20180409, 20180416, 20180423]\n"
     ]
    }
   ],
   "source": [
    "print(week_labels)"
   ]
  },
  {
   "cell_type": "code",
   "execution_count": 7,
   "metadata": {},
   "outputs": [],
   "source": [
    "weekly_trades = trade[trade.TradeDateKey > 20180000].copy()\n",
    "weekly_trades['week'] = weekly_trades.TradeDateKey.apply(\n",
    "                            lambda x: week_num(week_labels, x))\n",
    "weekly_trades = weekly_trades.groupby(['CustomerIdx', 'IsinIdx', 'BuySell', 'week'],\n",
    "                                      as_index=False)['CustomerInterest'].agg('max')"
   ]
  },
  {
   "cell_type": "code",
   "execution_count": 8,
   "metadata": {},
   "outputs": [],
   "source": [
    "import pickle\n",
    "with open(INTERIM/'interest_sequences.pkl', 'rb') as f:\n",
    "    interests = pickle.load(f)"
   ]
  },
  {
   "cell_type": "markdown",
   "metadata": {},
   "source": [
    "## Get sequences"
   ]
  },
  {
   "cell_type": "code",
   "execution_count": 10,
   "metadata": {},
   "outputs": [],
   "source": [
    "train_seqs = np.array(list(interests.values()))"
   ]
  },
  {
   "cell_type": "code",
   "execution_count": 11,
   "metadata": {},
   "outputs": [
    {
     "name": "stdout",
     "output_type": "stream",
     "text": [
      "CPU times: user 1.48 s, sys: 256 ms, total: 1.73 s\n",
      "Wall time: 1.79 s\n"
     ]
    }
   ],
   "source": [
    "%%time\n",
    "val = pd.read_feather(PROCESSED/f'SVD_17-18_72f/week_{week_labels[-2]}_SVD_diffscount.feather')\n",
    "val_seqs = []\n",
    "for cIdx, iIdx, b, interest in zip(val.CustomerIdx, val.IsinIdx, \\\n",
    "                                   val.BuySell, val.CustomerInterest):\n",
    "    val_seqs.append(interests[(cIdx, iIdx, b)])\n",
    "val_seqs = np.array(val_seqs)"
   ]
  },
  {
   "cell_type": "code",
   "execution_count": 22,
   "metadata": {},
   "outputs": [],
   "source": [
    "from torch import optim\n",
    "import torch.nn as nn\n",
    "from src.lstm import LSTMClassifier, train_model, SequentialDataset\n",
    "from torch.utils.data import DataLoader"
   ]
  },
  {
   "cell_type": "code",
   "execution_count": 15,
   "metadata": {},
   "outputs": [],
   "source": [
    "train_ds = DataLoader(SequentialDataset(train_seqs[:,:-2], train_seqs[:,1:-1]),\n",
    "                      batch_size=128, shuffle=True)\n",
    "val_ds = DataLoader(SequentialDataset(val_seqs[:,:-1], val_seqs[:,1:]),\n",
    "                      batch_size=128)"
   ]
  },
  {
   "cell_type": "code",
   "execution_count": 16,
   "metadata": {},
   "outputs": [
    {
     "name": "stdout",
     "output_type": "stream",
     "text": [
      "CPU times: user 100 ms, sys: 244 ms, total: 344 ms\n",
      "Wall time: 353 ms\n"
     ]
    }
   ],
   "source": [
    "%%time\n",
    "import pickle\n",
    "with open(INTERIM/'seq_train_ds.pkl', 'wb') as f:\n",
    "    pickle.dump(train_ds, f, pickle.HIGHEST_PROTOCOL)\n",
    "with open(INTERIM/'seq_val_ds.pkl', 'wb') as f:\n",
    "    pickle.dump(val_ds, f, pickle.HIGHEST_PROTOCOL)"
   ]
  },
  {
   "cell_type": "code",
   "execution_count": 61,
   "metadata": {},
   "outputs": [],
   "source": [
    "USE_CUDA = True"
   ]
  },
  {
   "cell_type": "code",
   "execution_count": 70,
   "metadata": {},
   "outputs": [],
   "source": [
    "model = LSTMClassifier(input_sz=1, hidden_sz=128, n_layers=2, drop=0, \n",
    "                       USE_CUDA=USE_CUDA)"
   ]
  },
  {
   "cell_type": "code",
   "execution_count": 71,
   "metadata": {},
   "outputs": [],
   "source": [
    "optimizer = optim.Adam(model.parameters(), lr=1e-3)\n",
    "criterion = nn.BCEWithLogitsLoss()"
   ]
  },
  {
   "cell_type": "code",
   "execution_count": 72,
   "metadata": {},
   "outputs": [
    {
     "name": "stdout",
     "output_type": "stream",
     "text": [
      "Train Epoch: 1 [25600/985972 (3%)]\tLoss: 0.147369\n",
      "Train Epoch: 1 [51200/985972 (5%)]\tLoss: 0.091391\n",
      "Train Epoch: 1 [76800/985972 (8%)]\tLoss: 0.090423\n",
      "Train Epoch: 1 [102400/985972 (10%)]\tLoss: 0.089702\n",
      "Train Epoch: 1 [128000/985972 (13%)]\tLoss: 0.091308\n",
      "Train Epoch: 1 [153600/985972 (16%)]\tLoss: 0.088349\n",
      "Train Epoch: 1 [179200/985972 (18%)]\tLoss: 0.086570\n",
      "Train Epoch: 1 [204800/985972 (21%)]\tLoss: 0.087460\n",
      "Train Epoch: 1 [230400/985972 (23%)]\tLoss: 0.085724\n",
      "Train Epoch: 1 [256000/985972 (26%)]\tLoss: 0.085158\n",
      "[0/493590 (0%)]\tLoss: 0.125787\n",
      "[102400/493590 (21%)]\tLoss: 0.175837\n",
      "[204800/493590 (41%)]\tLoss: 0.098038\n",
      "[307200/493590 (62%)]\tLoss: 0.203312\n",
      "[409600/493590 (83%)]\tLoss: 0.183805\n",
      "ROC AUC Score: 0.516366\n",
      "Validation Loss: 0.152716\n",
      "Train Epoch: 1 [281600/985972 (29%)]\tLoss: 0.086677\n",
      "Train Epoch: 1 [307200/985972 (31%)]\tLoss: 0.086771\n",
      "Train Epoch: 1 [332800/985972 (34%)]\tLoss: 0.087643\n",
      "Train Epoch: 1 [358400/985972 (36%)]\tLoss: 0.086588\n",
      "Train Epoch: 1 [384000/985972 (39%)]\tLoss: 0.087301\n",
      "Train Epoch: 1 [409600/985972 (42%)]\tLoss: 0.085538\n",
      "Train Epoch: 1 [435200/985972 (44%)]\tLoss: 0.087304\n",
      "Train Epoch: 1 [460800/985972 (47%)]\tLoss: 0.087248\n",
      "Train Epoch: 1 [486400/985972 (49%)]\tLoss: 0.086165\n",
      "Train Epoch: 1 [512000/985972 (52%)]\tLoss: 0.087707\n",
      "[0/493590 (0%)]\tLoss: 0.127704\n",
      "[102400/493590 (21%)]\tLoss: 0.180426\n",
      "[204800/493590 (41%)]\tLoss: 0.098509\n",
      "[307200/493590 (62%)]\tLoss: 0.207781\n",
      "[409600/493590 (83%)]\tLoss: 0.187507\n",
      "ROC AUC Score: 0.516664\n",
      "Validation Loss: 0.155678\n",
      "Train Epoch: 1 [537600/985972 (55%)]\tLoss: 0.087472\n",
      "Train Epoch: 1 [563200/985972 (57%)]\tLoss: 0.086151\n",
      "Train Epoch: 1 [588800/985972 (60%)]\tLoss: 0.085921\n",
      "Train Epoch: 1 [614400/985972 (62%)]\tLoss: 0.087145\n",
      "Train Epoch: 1 [640000/985972 (65%)]\tLoss: 0.086128\n",
      "Train Epoch: 1 [665600/985972 (68%)]\tLoss: 0.085898\n",
      "Train Epoch: 1 [691200/985972 (70%)]\tLoss: 0.086795\n",
      "Train Epoch: 1 [716800/985972 (73%)]\tLoss: 0.086653\n",
      "Train Epoch: 1 [742400/985972 (75%)]\tLoss: 0.088178\n",
      "Train Epoch: 1 [768000/985972 (78%)]\tLoss: 0.086498\n",
      "[0/493590 (0%)]\tLoss: 0.126325\n",
      "[102400/493590 (21%)]\tLoss: 0.178616\n",
      "[204800/493590 (41%)]\tLoss: 0.097614\n",
      "[307200/493590 (62%)]\tLoss: 0.206665\n",
      "[409600/493590 (83%)]\tLoss: 0.186121\n",
      "ROC AUC Score: 0.516414\n",
      "Validation Loss: 0.154768\n",
      "Train Epoch: 1 [793600/985972 (80%)]\tLoss: 0.088442\n",
      "Train Epoch: 1 [819200/985972 (83%)]\tLoss: 0.088149\n",
      "Train Epoch: 1 [844800/985972 (86%)]\tLoss: 0.087595\n",
      "Train Epoch: 1 [870400/985972 (88%)]\tLoss: 0.088363\n",
      "Train Epoch: 1 [896000/985972 (91%)]\tLoss: 0.085196\n",
      "Train Epoch: 1 [921600/985972 (93%)]\tLoss: 0.085462\n",
      "Train Epoch: 1 [947200/985972 (96%)]\tLoss: 0.085454\n",
      "Train Epoch: 1 [972800/985972 (99%)]\tLoss: 0.087486\n",
      "\n",
      "Train Epoch: 2 [25600/985972 (3%)]\tLoss: 0.087013\n",
      "Train Epoch: 2 [51200/985972 (5%)]\tLoss: 0.086808\n",
      "Train Epoch: 2 [76800/985972 (8%)]\tLoss: 0.086525\n",
      "Train Epoch: 2 [102400/985972 (10%)]\tLoss: 0.086975\n",
      "Train Epoch: 2 [128000/985972 (13%)]\tLoss: 0.088098\n",
      "Train Epoch: 2 [153600/985972 (16%)]\tLoss: 0.086039\n",
      "Train Epoch: 2 [179200/985972 (18%)]\tLoss: 0.087512\n",
      "Train Epoch: 2 [204800/985972 (21%)]\tLoss: 0.086820\n",
      "Train Epoch: 2 [230400/985972 (23%)]\tLoss: 0.087318\n",
      "Train Epoch: 2 [256000/985972 (26%)]\tLoss: 0.088199\n",
      "[0/493590 (0%)]\tLoss: 0.127500\n",
      "[102400/493590 (21%)]\tLoss: 0.180332\n",
      "[204800/493590 (41%)]\tLoss: 0.097594\n",
      "[307200/493590 (62%)]\tLoss: 0.209938\n",
      "[409600/493590 (83%)]\tLoss: 0.187908\n",
      "ROC AUC Score: 0.516485\n",
      "Validation Loss: 0.156397\n",
      "Train Epoch: 2 [281600/985972 (29%)]\tLoss: 0.086855\n",
      "Train Epoch: 2 [307200/985972 (31%)]\tLoss: 0.085186\n",
      "Train Epoch: 2 [332800/985972 (34%)]\tLoss: 0.086010\n",
      "Train Epoch: 2 [358400/985972 (36%)]\tLoss: 0.087254\n",
      "Train Epoch: 2 [384000/985972 (39%)]\tLoss: 0.085663\n",
      "Train Epoch: 2 [409600/985972 (42%)]\tLoss: 0.088570\n",
      "Train Epoch: 2 [435200/985972 (44%)]\tLoss: 0.088208\n",
      "Train Epoch: 2 [460800/985972 (47%)]\tLoss: 0.087891\n",
      "Train Epoch: 2 [486400/985972 (49%)]\tLoss: 0.086002\n",
      "Train Epoch: 2 [512000/985972 (52%)]\tLoss: 0.086869\n",
      "[0/493590 (0%)]\tLoss: 0.126509\n",
      "[102400/493590 (21%)]\tLoss: 0.179309\n",
      "[204800/493590 (41%)]\tLoss: 0.097274\n",
      "[307200/493590 (62%)]\tLoss: 0.208760\n"
     ]
    },
    {
     "ename": "KeyboardInterrupt",
     "evalue": "",
     "output_type": "error",
     "traceback": [
      "\u001b[0;31m---------------------------------------------------------------------------\u001b[0m",
      "\u001b[0;31mKeyboardInterrupt\u001b[0m                         Traceback (most recent call last)",
      "\u001b[0;32m<timed exec>\u001b[0m in \u001b[0;36m<module>\u001b[0;34m()\u001b[0m\n",
      "\u001b[0;32m~/Documents/DSG-2018/src/lstm.py\u001b[0m in \u001b[0;36mtrain_model\u001b[0;34m(model, train_loader, val_loader, optimizer, criterion, n_epochs, print_every, val_every, USE_CUDA)\u001b[0m\n\u001b[1;32m    132\u001b[0m             \u001b[0;32mif\u001b[0m \u001b[0mval_loader\u001b[0m \u001b[0;32mis\u001b[0m \u001b[0;32mnot\u001b[0m \u001b[0;32mNone\u001b[0m \u001b[0;32mand\u001b[0m \u001b[0mbatch_idx\u001b[0m \u001b[0;34m>\u001b[0m \u001b[0;36m0\u001b[0m \u001b[0;32mand\u001b[0m \u001b[0mbatch_idx\u001b[0m \u001b[0;34m%\u001b[0m \u001b[0mval_every\u001b[0m \u001b[0;34m==\u001b[0m \u001b[0;36m0\u001b[0m\u001b[0;34m:\u001b[0m\u001b[0;34m\u001b[0m\u001b[0m\n\u001b[1;32m    133\u001b[0m                 targets, preds = get_predictions(model, val_loader, criterion, \n\u001b[0;32m--> 134\u001b[0;31m                                                  USE_CUDA=USE_CUDA)\n\u001b[0m\u001b[1;32m    135\u001b[0m                 val_loss = nn.BCELoss()(torch.Tensor(preds),\n\u001b[1;32m    136\u001b[0m                                         torch.Tensor(targets)).item()\n",
      "\u001b[0;32m~/Documents/DSG-2018/src/lstm.py\u001b[0m in \u001b[0;36mget_predictions\u001b[0;34m(model, data_loader, criterion, print_every, USE_CUDA)\u001b[0m\n\u001b[1;32m     96\u001b[0m             \u001b[0;32mif\u001b[0m \u001b[0mUSE_CUDA\u001b[0m\u001b[0;34m:\u001b[0m\u001b[0;34m\u001b[0m\u001b[0m\n\u001b[1;32m     97\u001b[0m                 \u001b[0mseqs\u001b[0m\u001b[0;34m,\u001b[0m \u001b[0mtargets\u001b[0m \u001b[0;34m=\u001b[0m \u001b[0mseqs\u001b[0m\u001b[0;34m.\u001b[0m\u001b[0mcuda\u001b[0m\u001b[0;34m(\u001b[0m\u001b[0;34m)\u001b[0m\u001b[0;34m,\u001b[0m \u001b[0mtargets\u001b[0m\u001b[0;34m.\u001b[0m\u001b[0mcuda\u001b[0m\u001b[0;34m(\u001b[0m\u001b[0;34m)\u001b[0m\u001b[0;34m\u001b[0m\u001b[0m\n\u001b[0;32m---> 98\u001b[0;31m             \u001b[0mloss\u001b[0m\u001b[0;34m,\u001b[0m \u001b[0mpreds\u001b[0m \u001b[0;34m=\u001b[0m \u001b[0mevaluate\u001b[0m\u001b[0;34m(\u001b[0m\u001b[0mmodel\u001b[0m\u001b[0;34m,\u001b[0m \u001b[0mseqs\u001b[0m\u001b[0;34m,\u001b[0m \u001b[0mcriterion\u001b[0m\u001b[0;34m,\u001b[0m \u001b[0mtargets\u001b[0m\u001b[0;34m)\u001b[0m\u001b[0;34m\u001b[0m\u001b[0m\n\u001b[0m\u001b[1;32m     99\u001b[0m             \u001b[0mall_targets\u001b[0m\u001b[0;34m.\u001b[0m\u001b[0mextend\u001b[0m\u001b[0;34m(\u001b[0m\u001b[0mtargets\u001b[0m\u001b[0;34m.\u001b[0m\u001b[0mcpu\u001b[0m\u001b[0;34m(\u001b[0m\u001b[0;34m)\u001b[0m\u001b[0;34m.\u001b[0m\u001b[0mnumpy\u001b[0m\u001b[0;34m(\u001b[0m\u001b[0;34m)\u001b[0m\u001b[0;34m[\u001b[0m\u001b[0;34m:\u001b[0m\u001b[0;34m,\u001b[0m\u001b[0;34m-\u001b[0m\u001b[0;36m1\u001b[0m\u001b[0;34m]\u001b[0m\u001b[0;34m)\u001b[0m \u001b[0;31m# last timestemp\u001b[0m\u001b[0;34m\u001b[0m\u001b[0m\n\u001b[1;32m    100\u001b[0m             \u001b[0mall_preds\u001b[0m\u001b[0;34m.\u001b[0m\u001b[0mextend\u001b[0m\u001b[0;34m(\u001b[0m\u001b[0mpreds\u001b[0m\u001b[0;34m.\u001b[0m\u001b[0mcpu\u001b[0m\u001b[0;34m(\u001b[0m\u001b[0;34m)\u001b[0m\u001b[0;34m.\u001b[0m\u001b[0mnumpy\u001b[0m\u001b[0;34m(\u001b[0m\u001b[0;34m)\u001b[0m\u001b[0;34m)\u001b[0m\u001b[0;34m\u001b[0m\u001b[0m\n",
      "\u001b[0;32m~/Documents/DSG-2018/src/lstm.py\u001b[0m in \u001b[0;36mevaluate\u001b[0;34m(model, seqs, criterion, targets)\u001b[0m\n\u001b[1;32m     83\u001b[0m         \u001b[0moutput\u001b[0m \u001b[0;34m=\u001b[0m \u001b[0;32mNone\u001b[0m\u001b[0;34m\u001b[0m\u001b[0m\n\u001b[1;32m     84\u001b[0m         \u001b[0;32mfor\u001b[0m \u001b[0mi\u001b[0m \u001b[0;32min\u001b[0m \u001b[0mrange\u001b[0m\u001b[0;34m(\u001b[0m\u001b[0mlen\u001b[0m\u001b[0;34m(\u001b[0m\u001b[0mseqs\u001b[0m\u001b[0;34m)\u001b[0m\u001b[0;34m)\u001b[0m\u001b[0;34m:\u001b[0m \u001b[0;31m# for each timestep\u001b[0m\u001b[0;34m\u001b[0m\u001b[0m\n\u001b[0;32m---> 85\u001b[0;31m             \u001b[0moutput\u001b[0m\u001b[0;34m,\u001b[0m \u001b[0mhidden\u001b[0m \u001b[0;34m=\u001b[0m \u001b[0mmodel\u001b[0m\u001b[0;34m(\u001b[0m\u001b[0mseqs\u001b[0m\u001b[0;34m[\u001b[0m\u001b[0mi\u001b[0m\u001b[0;34m]\u001b[0m\u001b[0;34m.\u001b[0m\u001b[0munsqueeze\u001b[0m\u001b[0;34m(\u001b[0m\u001b[0;36m0\u001b[0m\u001b[0;34m)\u001b[0m\u001b[0;34m.\u001b[0m\u001b[0munsqueeze\u001b[0m\u001b[0;34m(\u001b[0m\u001b[0;36m2\u001b[0m\u001b[0;34m)\u001b[0m\u001b[0;34m,\u001b[0m \u001b[0mhidden\u001b[0m\u001b[0;34m)\u001b[0m\u001b[0;34m\u001b[0m\u001b[0m\n\u001b[0m\u001b[1;32m     86\u001b[0m             \u001b[0;32mif\u001b[0m \u001b[0mtargets\u001b[0m \u001b[0;32mis\u001b[0m \u001b[0;32mnot\u001b[0m \u001b[0;32mNone\u001b[0m\u001b[0;34m:\u001b[0m\u001b[0;34m\u001b[0m\u001b[0m\n\u001b[1;32m     87\u001b[0m                 \u001b[0mloss\u001b[0m \u001b[0;34m+=\u001b[0m \u001b[0mcriterion\u001b[0m\u001b[0;34m(\u001b[0m\u001b[0moutput\u001b[0m\u001b[0;34m,\u001b[0m \u001b[0mtargets\u001b[0m\u001b[0;34m[\u001b[0m\u001b[0mi\u001b[0m\u001b[0;34m]\u001b[0m\u001b[0;34m.\u001b[0m\u001b[0munsqueeze\u001b[0m\u001b[0;34m(\u001b[0m\u001b[0;36m1\u001b[0m\u001b[0;34m)\u001b[0m\u001b[0;34m)\u001b[0m\u001b[0;34m\u001b[0m\u001b[0m\n",
      "\u001b[0;32m~/anaconda3/envs/chana/lib/python3.6/site-packages/torch/nn/modules/module.py\u001b[0m in \u001b[0;36m__call__\u001b[0;34m(self, *input, **kwargs)\u001b[0m\n\u001b[1;32m    489\u001b[0m             \u001b[0mresult\u001b[0m \u001b[0;34m=\u001b[0m \u001b[0mself\u001b[0m\u001b[0;34m.\u001b[0m\u001b[0m_slow_forward\u001b[0m\u001b[0;34m(\u001b[0m\u001b[0;34m*\u001b[0m\u001b[0minput\u001b[0m\u001b[0;34m,\u001b[0m \u001b[0;34m**\u001b[0m\u001b[0mkwargs\u001b[0m\u001b[0;34m)\u001b[0m\u001b[0;34m\u001b[0m\u001b[0m\n\u001b[1;32m    490\u001b[0m         \u001b[0;32melse\u001b[0m\u001b[0;34m:\u001b[0m\u001b[0;34m\u001b[0m\u001b[0m\n\u001b[0;32m--> 491\u001b[0;31m             \u001b[0mresult\u001b[0m \u001b[0;34m=\u001b[0m \u001b[0mself\u001b[0m\u001b[0;34m.\u001b[0m\u001b[0mforward\u001b[0m\u001b[0;34m(\u001b[0m\u001b[0;34m*\u001b[0m\u001b[0minput\u001b[0m\u001b[0;34m,\u001b[0m \u001b[0;34m**\u001b[0m\u001b[0mkwargs\u001b[0m\u001b[0;34m)\u001b[0m\u001b[0;34m\u001b[0m\u001b[0m\n\u001b[0m\u001b[1;32m    492\u001b[0m         \u001b[0;32mfor\u001b[0m \u001b[0mhook\u001b[0m \u001b[0;32min\u001b[0m \u001b[0mself\u001b[0m\u001b[0;34m.\u001b[0m\u001b[0m_forward_hooks\u001b[0m\u001b[0;34m.\u001b[0m\u001b[0mvalues\u001b[0m\u001b[0;34m(\u001b[0m\u001b[0;34m)\u001b[0m\u001b[0;34m:\u001b[0m\u001b[0;34m\u001b[0m\u001b[0m\n\u001b[1;32m    493\u001b[0m             \u001b[0mhook_result\u001b[0m \u001b[0;34m=\u001b[0m \u001b[0mhook\u001b[0m\u001b[0;34m(\u001b[0m\u001b[0mself\u001b[0m\u001b[0;34m,\u001b[0m \u001b[0minput\u001b[0m\u001b[0;34m,\u001b[0m \u001b[0mresult\u001b[0m\u001b[0;34m)\u001b[0m\u001b[0;34m\u001b[0m\u001b[0m\n",
      "\u001b[0;32m~/Documents/DSG-2018/src/lstm.py\u001b[0m in \u001b[0;36mforward\u001b[0;34m(self, sequence, hidden)\u001b[0m\n\u001b[1;32m     40\u001b[0m     \u001b[0;32mdef\u001b[0m \u001b[0mforward\u001b[0m\u001b[0;34m(\u001b[0m\u001b[0mself\u001b[0m\u001b[0;34m,\u001b[0m \u001b[0msequence\u001b[0m\u001b[0;34m,\u001b[0m \u001b[0mhidden\u001b[0m\u001b[0;34m)\u001b[0m\u001b[0;34m:\u001b[0m\u001b[0;34m\u001b[0m\u001b[0m\n\u001b[1;32m     41\u001b[0m         \u001b[0mout\u001b[0m\u001b[0;34m,\u001b[0m \u001b[0mhidden\u001b[0m \u001b[0;34m=\u001b[0m \u001b[0mself\u001b[0m\u001b[0;34m.\u001b[0m\u001b[0mlstm\u001b[0m\u001b[0;34m(\u001b[0m\u001b[0msequence\u001b[0m\u001b[0;34m,\u001b[0m \u001b[0mhidden\u001b[0m\u001b[0;34m)\u001b[0m\u001b[0;34m\u001b[0m\u001b[0m\n\u001b[0;32m---> 42\u001b[0;31m         \u001b[0mout\u001b[0m \u001b[0;34m=\u001b[0m \u001b[0mself\u001b[0m\u001b[0;34m.\u001b[0m\u001b[0mout\u001b[0m\u001b[0;34m(\u001b[0m\u001b[0mout\u001b[0m\u001b[0;34m[\u001b[0m\u001b[0;34m-\u001b[0m\u001b[0;36m1\u001b[0m\u001b[0;34m]\u001b[0m\u001b[0;34m)\u001b[0m\u001b[0;34m\u001b[0m\u001b[0m\n\u001b[0m\u001b[1;32m     43\u001b[0m         \u001b[0;32mreturn\u001b[0m \u001b[0mout\u001b[0m\u001b[0;34m,\u001b[0m \u001b[0mhidden\u001b[0m\u001b[0;34m\u001b[0m\u001b[0m\n\u001b[1;32m     44\u001b[0m \u001b[0;34m\u001b[0m\u001b[0m\n",
      "\u001b[0;31mKeyboardInterrupt\u001b[0m: "
     ]
    }
   ],
   "source": [
    "%%time\n",
    "model, train_losses, val_losses, val_auc_scores = train_model(\n",
    "                model, train_ds, val_ds, optimizer, criterion,\n",
    "                n_epochs=2, USE_CUDA=USE_CUDA, val_every=10)"
   ]
  },
  {
   "cell_type": "code",
   "execution_count": 74,
   "metadata": {},
   "outputs": [],
   "source": [
    "from src.lstm import evaluate, get_predictions"
   ]
  },
  {
   "cell_type": "code",
   "execution_count": 77,
   "metadata": {},
   "outputs": [
    {
     "name": "stdout",
     "output_type": "stream",
     "text": [
      "[0/493590 (0%)]\tLoss: 0.126509\n",
      "[102400/493590 (21%)]\tLoss: 0.179309\n",
      "[204800/493590 (41%)]\tLoss: 0.097274\n",
      "[307200/493590 (62%)]\tLoss: 0.208760\n",
      "[409600/493590 (83%)]\tLoss: 0.187253\n"
     ]
    }
   ],
   "source": [
    "targets, preds = get_predictions(model, val_ds, criterion=criterion,\n",
    "                                 USE_CUDA=USE_CUDA)"
   ]
  },
  {
   "cell_type": "code",
   "execution_count": 78,
   "metadata": {},
   "outputs": [
    {
     "data": {
      "text/plain": [
       "(493590, 493590)"
      ]
     },
     "execution_count": 78,
     "metadata": {},
     "output_type": "execute_result"
    }
   ],
   "source": [
    "len(targets), len(preds)"
   ]
  },
  {
   "cell_type": "code",
   "execution_count": 85,
   "metadata": {},
   "outputs": [],
   "source": [
    "targets = pd.Series(targets)\n",
    "preds = pd.Series(preds)"
   ]
  },
  {
   "cell_type": "code",
   "execution_count": 86,
   "metadata": {},
   "outputs": [
    {
     "data": {
      "text/plain": [
       "count    493590.000000\n",
       "mean          0.035007\n",
       "std           0.183797\n",
       "min           0.000000\n",
       "25%           0.000000\n",
       "50%           0.000000\n",
       "75%           0.000000\n",
       "max           1.000000\n",
       "dtype: float64"
      ]
     },
     "execution_count": 86,
     "metadata": {},
     "output_type": "execute_result"
    }
   ],
   "source": [
    "targets.describe()"
   ]
  },
  {
   "cell_type": "code",
   "execution_count": 87,
   "metadata": {},
   "outputs": [
    {
     "data": {
      "text/plain": [
       "count    493590.000000\n",
       "mean          0.018124\n",
       "std           0.018668\n",
       "min           0.013976\n",
       "25%           0.013976\n",
       "50%           0.013976\n",
       "75%           0.014300\n",
       "max           0.546746\n",
       "dtype: float64"
      ]
     },
     "execution_count": 87,
     "metadata": {},
     "output_type": "execute_result"
    }
   ],
   "source": [
    "preds.describe()"
   ]
  },
  {
   "cell_type": "code",
   "execution_count": 93,
   "metadata": {},
   "outputs": [],
   "source": [
    "idxs = []\n",
    "for idx, pred in enumerate(preds):\n",
    "    if pred > 0.4:\n",
    "        idxs.append(idx)"
   ]
  },
  {
   "cell_type": "code",
   "execution_count": 94,
   "metadata": {},
   "outputs": [
    {
     "data": {
      "text/plain": [
       "114"
      ]
     },
     "execution_count": 94,
     "metadata": {},
     "output_type": "execute_result"
    }
   ],
   "source": [
    "len(idxs)"
   ]
  },
  {
   "cell_type": "code",
   "execution_count": 110,
   "metadata": {},
   "outputs": [
    {
     "data": {
      "text/plain": [
       "array([1., 1., 1., 1., 0., 1., 1., 1., 1., 1., 1., 1., 1., 1., 1., 1.])"
      ]
     },
     "execution_count": 110,
     "metadata": {},
     "output_type": "execute_result"
    }
   ],
   "source": [
    "val_seqs[idxs[12]]"
   ]
  }
 ],
 "metadata": {
  "kernelspec": {
   "display_name": "Python 3",
   "language": "python",
   "name": "python3"
  },
  "language_info": {
   "codemirror_mode": {
    "name": "ipython",
    "version": 3
   },
   "file_extension": ".py",
   "mimetype": "text/x-python",
   "name": "python",
   "nbconvert_exporter": "python",
   "pygments_lexer": "ipython3",
   "version": "3.6.4"
  }
 },
 "nbformat": 4,
 "nbformat_minor": 2
}
