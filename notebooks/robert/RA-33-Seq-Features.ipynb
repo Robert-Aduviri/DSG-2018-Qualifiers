{
 "cells": [
  {
   "cell_type": "code",
   "execution_count": 1,
   "metadata": {},
   "outputs": [],
   "source": [
    "%load_ext autoreload\n",
    "%autoreload 2\n",
    "%matplotlib inline\n",
    "%config InlineBackend.figure_format = 'retina'\n",
    "\n",
    "import os, math\n",
    "import numpy as np, pandas as pd\n",
    "import matplotlib.pyplot as plt, seaborn as sns\n",
    "from tqdm import tqdm, tqdm_notebook\n",
    "from pathlib import Path\n",
    "pd.set_option('display.max_columns', 1000)\n",
    "pd.set_option('display.max_rows', 400)\n",
    "sns.set()\n",
    "\n",
    "os.chdir('../..')\n",
    "from src import utils"
   ]
  },
  {
   "cell_type": "code",
   "execution_count": 2,
   "metadata": {},
   "outputs": [],
   "source": [
    "DATA        = Path('data')\n",
    "RAW         = DATA/'raw'\n",
    "INTERIM     = DATA/'interim'\n",
    "PROCESSED   = DATA/'processed'\n",
    "SUBMISSIONS = DATA/'submissions'"
   ]
  },
  {
   "cell_type": "code",
   "execution_count": 3,
   "metadata": {},
   "outputs": [],
   "source": [
    "from src.utils import get_weeks, week_num\n",
    "week_labels = get_weeks(day_from=20160104, num_weeks=121)[104:]"
   ]
  },
  {
   "cell_type": "code",
   "execution_count": 4,
   "metadata": {},
   "outputs": [],
   "source": [
    "train = pd.read_feather(INTERIM/'metadata_train.feather')\n",
    "val = pd.read_feather(INTERIM/'metadata_val.feather')\n",
    "test = pd.read_feather(INTERIM/'metadata_val.feather')"
   ]
  },
  {
   "cell_type": "code",
   "execution_count": 5,
   "metadata": {},
   "outputs": [],
   "source": [
    "cat_cols = ['Sector', 'Subsector', 'Region_x', 'Country', \n",
    "            'TickerIdx', 'Seniority', 'Currency', 'ActivityGroup', \n",
    "            'Region_y', 'Activity', 'RiskCaptain', 'Owner', \n",
    "            'IndustrySector', 'IndustrySubgroup', 'MarketIssue', 'CouponType']\n",
    "num_cols = ['ActualMaturityDateKey', 'IssueDateKey', 'CompositeRating', \n",
    "            'IssuedAmount', 'BondDuration']\n",
    "id_cols = ['CustomerIdx', 'IsinIdx', 'BuySell']"
   ]
  },
  {
   "cell_type": "markdown",
   "metadata": {},
   "source": [
    "### Weekly interest"
   ]
  },
  {
   "cell_type": "code",
   "execution_count": 6,
   "metadata": {},
   "outputs": [],
   "source": [
    "import pickle\n",
    "with open(INTERIM/'interest_sequences.pkl', 'rb') as f:\n",
    "    seq_dict = pickle.load(f)"
   ]
  },
  {
   "cell_type": "markdown",
   "metadata": {},
   "source": [
    "### Weekly # transactions (customer, isin, buysell)"
   ]
  },
  {
   "cell_type": "code",
   "execution_count": 8,
   "metadata": {},
   "outputs": [
    {
     "name": "stdout",
     "output_type": "stream",
     "text": [
      "CPU times: user 4.28 s, sys: 860 ms, total: 5.14 s\n",
      "Wall time: 5.67 s\n"
     ]
    }
   ],
   "source": [
    "%%time\n",
    "trade      = pd.read_csv(RAW/'Trade.csv', low_memory=False)\n",
    "weekly_trades = trade[trade.TradeDateKey > 20180000].copy()\n",
    "weekly_trades['week'] = weekly_trades.TradeDateKey.apply(\n",
    "                            lambda x: week_num(week_labels, x))\n",
    "weekly_trades = weekly_trades.groupby(['CustomerIdx', 'IsinIdx', 'BuySell', 'week'],\n",
    "                                      as_index=False)['CustomerInterest'].agg('sum')"
   ]
  },
  {
   "cell_type": "code",
   "execution_count": 14,
   "metadata": {},
   "outputs": [
    {
     "data": {
      "text/plain": [
       "(762667, 5)"
      ]
     },
     "execution_count": 14,
     "metadata": {},
     "output_type": "execute_result"
    }
   ],
   "source": [
    "n_weeks = weekly_trades.week.nunique()\n",
    "weekly_trades.shape"
   ]
  },
  {
   "cell_type": "code",
   "execution_count": 22,
   "metadata": {},
   "outputs": [
    {
     "data": {
      "text/plain": [
       "count    762667.000000\n",
       "mean          0.459075\n",
       "std           0.799465\n",
       "min           0.000000\n",
       "25%           0.000000\n",
       "50%           0.000000\n",
       "75%           1.000000\n",
       "max          35.000000\n",
       "Name: CustomerInterest, dtype: float64"
      ]
     },
     "execution_count": 22,
     "metadata": {},
     "output_type": "execute_result"
    }
   ],
   "source": [
    "weekly_trades.CustomerInterest.describe()"
   ]
  },
  {
   "cell_type": "code",
   "execution_count": 16,
   "metadata": {},
   "outputs": [
    {
     "name": "stdout",
     "output_type": "stream",
     "text": [
      "CPU times: user 2.84 s, sys: 124 ms, total: 2.96 s\n",
      "Wall time: 3.15 s\n"
     ]
    }
   ],
   "source": [
    "%%time\n",
    "challenge  = pd.read_csv(RAW/'Challenge_20180423.csv', low_memory=False)\n",
    "transactions = {} # 5 GB of RAM\n",
    "df = weekly_trades.drop_duplicates(['CustomerIdx', 'IsinIdx'])\n",
    "for c, i in zip(df.CustomerIdx, df.IsinIdx):\n",
    "    for b in ['Buy', 'Sell']:\n",
    "        transactions[(c, i, b)] = [0] * n_weeks\n",
    "df = challenge.drop_duplicates(['CustomerIdx', 'IsinIdx'])\n",
    "for c, i in zip(df.CustomerIdx, df.IsinIdx):\n",
    "    for b in ['Buy', 'Sell']:\n",
    "        transactions[(c, i, b)] = [0] * n_weeks"
   ]
  },
  {
   "cell_type": "code",
   "execution_count": 23,
   "metadata": {},
   "outputs": [
    {
     "name": "stdout",
     "output_type": "stream",
     "text": [
      "CPU times: user 624 ms, sys: 20 ms, total: 644 ms\n",
      "Wall time: 643 ms\n"
     ]
    }
   ],
   "source": [
    "%%time\n",
    "df = weekly_trades\n",
    "for c, i, b, w, q in zip(df.CustomerIdx, df.IsinIdx, df.BuySell, \\\n",
    "                         df.week, df.CustomerInterest):\n",
    "    transactions[(c, i, b)][w] = q"
   ]
  },
  {
   "cell_type": "code",
   "execution_count": 26,
   "metadata": {},
   "outputs": [
    {
     "data": {
      "text/plain": [
       "[0, 0, 0, 0, 0, 0, 0, 0, 3.0, 1.0, 0, 0, 0, 0, 0, 0]"
      ]
     },
     "execution_count": 26,
     "metadata": {},
     "output_type": "execute_result"
    }
   ],
   "source": [
    "transactions[(2223, 19020, 'Buy')]"
   ]
  },
  {
   "cell_type": "code",
   "execution_count": 27,
   "metadata": {},
   "outputs": [],
   "source": [
    "import pickle\n",
    "with open(INTERIM/'transactions_sequences.pkl', 'wb') as f:\n",
    "    pickle.dump(transactions, f, pickle.HIGHEST_PROTOCOL)"
   ]
  },
  {
   "cell_type": "markdown",
   "metadata": {},
   "source": [
    "### Weekly generic transactions (customer, isin)"
   ]
  },
  {
   "cell_type": "code",
   "execution_count": 40,
   "metadata": {},
   "outputs": [
    {
     "name": "stdout",
     "output_type": "stream",
     "text": [
      "CPU times: user 856 ms, sys: 24 ms, total: 880 ms\n",
      "Wall time: 878 ms\n"
     ]
    }
   ],
   "source": [
    "%%time\n",
    "df = trade[trade.TradeDateKey > 20180000].copy()\n",
    "df['week'] = df.TradeDateKey.apply(lambda x: week_num(week_labels, x))\n",
    "df = df.groupby(['CustomerIdx', 'IsinIdx', 'week'],\n",
    "                 as_index=False)['CustomerInterest'].agg('sum')"
   ]
  },
  {
   "cell_type": "code",
   "execution_count": 41,
   "metadata": {},
   "outputs": [
    {
     "data": {
      "text/plain": [
       "(750217, 4)"
      ]
     },
     "execution_count": 41,
     "metadata": {},
     "output_type": "execute_result"
    }
   ],
   "source": [
    "n_weeks = df.week.nunique()\n",
    "df.shape"
   ]
  },
  {
   "cell_type": "code",
   "execution_count": 42,
   "metadata": {},
   "outputs": [
    {
     "data": {
      "text/plain": [
       "count    750217.000000\n",
       "mean          0.466693\n",
       "std           0.871653\n",
       "min           0.000000\n",
       "25%           0.000000\n",
       "50%           0.000000\n",
       "75%           1.000000\n",
       "max          61.000000\n",
       "Name: CustomerInterest, dtype: float64"
      ]
     },
     "execution_count": 42,
     "metadata": {},
     "output_type": "execute_result"
    }
   ],
   "source": [
    "df.CustomerInterest.describe()"
   ]
  },
  {
   "cell_type": "code",
   "execution_count": 43,
   "metadata": {},
   "outputs": [
    {
     "name": "stdout",
     "output_type": "stream",
     "text": [
      "CPU times: user 1.76 s, sys: 72 ms, total: 1.83 s\n",
      "Wall time: 1.82 s\n"
     ]
    }
   ],
   "source": [
    "%%time\n",
    "challenge  = pd.read_csv(RAW/'Challenge_20180423.csv', low_memory=False)\n",
    "buysells = {} # 5 GB of RAM\n",
    "df_unique = df.drop_duplicates(['CustomerIdx', 'IsinIdx'])\n",
    "for c, i in zip(df_unique.CustomerIdx, df_unique.IsinIdx):\n",
    "    buysells[(c, i)] = [0] * n_weeks\n",
    "df_unique = challenge.drop_duplicates(['CustomerIdx', 'IsinIdx'])\n",
    "for c, i in zip(df_unique.CustomerIdx, df_unique.IsinIdx):\n",
    "    buysells[(c, i)] = [0] * n_weeks"
   ]
  },
  {
   "cell_type": "code",
   "execution_count": 44,
   "metadata": {},
   "outputs": [
    {
     "name": "stdout",
     "output_type": "stream",
     "text": [
      "CPU times: user 428 ms, sys: 12 ms, total: 440 ms\n",
      "Wall time: 439 ms\n"
     ]
    }
   ],
   "source": [
    "%%time\n",
    "for c, i, w, q in zip(df.CustomerIdx, df.IsinIdx, \\\n",
    "                         df.week, df.CustomerInterest):\n",
    "    buysells[(c, i)][w] = q"
   ]
  },
  {
   "cell_type": "code",
   "execution_count": 75,
   "metadata": {},
   "outputs": [],
   "source": [
    "import pickle\n",
    "with open(INTERIM/'buysells_sequences.pkl', 'wb') as f:\n",
    "    pickle.dump(buysells, f, pickle.HIGHEST_PROTOCOL)"
   ]
  },
  {
   "cell_type": "code",
   "execution_count": 148,
   "metadata": {},
   "outputs": [
    {
     "data": {
      "text/plain": [
       "[0, 0, 0, 0, 0, 0, 0, 0, 3.0, 1.0, 0, 0, 0, 0, 0, 0]"
      ]
     },
     "execution_count": 148,
     "metadata": {},
     "output_type": "execute_result"
    }
   ],
   "source": [
    "buysells[(2223, 19020)]"
   ]
  },
  {
   "cell_type": "markdown",
   "metadata": {},
   "source": [
    "### Customer transactions (customer)"
   ]
  },
  {
   "cell_type": "code",
   "execution_count": 53,
   "metadata": {},
   "outputs": [
    {
     "name": "stdout",
     "output_type": "stream",
     "text": [
      "CPU times: user 616 ms, sys: 0 ns, total: 616 ms\n",
      "Wall time: 614 ms\n"
     ]
    }
   ],
   "source": [
    "%%time\n",
    "df = trade[trade.TradeDateKey > 20180000].copy()\n",
    "df['week'] = df.TradeDateKey.apply(lambda x: week_num(week_labels, x))\n",
    "df = df.groupby(['CustomerIdx', 'week'],\n",
    "                 as_index=False)['CustomerInterest'].agg('sum')"
   ]
  },
  {
   "cell_type": "code",
   "execution_count": 54,
   "metadata": {},
   "outputs": [
    {
     "data": {
      "text/plain": [
       "(19396, 3)"
      ]
     },
     "execution_count": 54,
     "metadata": {},
     "output_type": "execute_result"
    }
   ],
   "source": [
    "n_weeks = df.week.nunique()\n",
    "df.shape"
   ]
  },
  {
   "cell_type": "code",
   "execution_count": 55,
   "metadata": {},
   "outputs": [
    {
     "data": {
      "text/plain": [
       "count    19396.000000\n",
       "mean        18.051196\n",
       "std         59.020797\n",
       "min          0.000000\n",
       "25%          1.000000\n",
       "50%          4.000000\n",
       "75%         13.000000\n",
       "max       1986.000000\n",
       "Name: CustomerInterest, dtype: float64"
      ]
     },
     "execution_count": 55,
     "metadata": {},
     "output_type": "execute_result"
    }
   ],
   "source": [
    "df.CustomerInterest.describe()"
   ]
  },
  {
   "cell_type": "code",
   "execution_count": 56,
   "metadata": {},
   "outputs": [
    {
     "name": "stdout",
     "output_type": "stream",
     "text": [
      "CPU times: user 20 ms, sys: 0 ns, total: 20 ms\n",
      "Wall time: 19.9 ms\n"
     ]
    }
   ],
   "source": [
    "%%time\n",
    "customers = {} # 5 GB of RAM\n",
    "df_unique = df.drop_duplicates(['CustomerIdx'])\n",
    "for c in df_unique.CustomerIdx:\n",
    "    customers[c] = [0] * n_weeks\n",
    "df_unique = challenge.drop_duplicates(['CustomerIdx'])\n",
    "for c in df_unique.CustomerIdx:\n",
    "    customers[c] = [0] * n_weeks"
   ]
  },
  {
   "cell_type": "code",
   "execution_count": 57,
   "metadata": {},
   "outputs": [
    {
     "name": "stdout",
     "output_type": "stream",
     "text": [
      "CPU times: user 8 ms, sys: 0 ns, total: 8 ms\n",
      "Wall time: 7.37 ms\n"
     ]
    }
   ],
   "source": [
    "%%time\n",
    "for c, w, q in zip(df.CustomerIdx, df.week, df.CustomerInterest):\n",
    "    customers[c][w] = q"
   ]
  },
  {
   "cell_type": "code",
   "execution_count": 73,
   "metadata": {},
   "outputs": [],
   "source": [
    "import pickle\n",
    "with open(INTERIM/'customers_sequences.pkl', 'wb') as f:\n",
    "    pickle.dump(customers, f, pickle.HIGHEST_PROTOCOL)"
   ]
  },
  {
   "cell_type": "code",
   "execution_count": 150,
   "metadata": {},
   "outputs": [
    {
     "name": "stdout",
     "output_type": "stream",
     "text": [
      "[206.0, 258.0, 447.0, 373.0, 375.0, 534.0, 477.0, 436.0, 341.0, 264.0, 377.0, 326.0, 424.0, 397.0, 337.0, 373.0]\n"
     ]
    }
   ],
   "source": [
    "print(customers[2223])"
   ]
  },
  {
   "cell_type": "markdown",
   "metadata": {},
   "source": [
    "### Bond transactions (isin)"
   ]
  },
  {
   "cell_type": "code",
   "execution_count": 58,
   "metadata": {},
   "outputs": [
    {
     "name": "stdout",
     "output_type": "stream",
     "text": [
      "CPU times: user 692 ms, sys: 0 ns, total: 692 ms\n",
      "Wall time: 688 ms\n"
     ]
    }
   ],
   "source": [
    "%%time\n",
    "df = trade[trade.TradeDateKey > 20180000].copy()\n",
    "df['week'] = df.TradeDateKey.apply(lambda x: week_num(week_labels, x))\n",
    "df = df.groupby(['IsinIdx', 'week'],\n",
    "                 as_index=False)['CustomerInterest'].agg('sum')"
   ]
  },
  {
   "cell_type": "code",
   "execution_count": 59,
   "metadata": {},
   "outputs": [
    {
     "name": "stdout",
     "output_type": "stream",
     "text": [
      "(175364, 3)\n"
     ]
    },
    {
     "data": {
      "text/plain": [
       "count    175364.000000\n",
       "mean          1.996539\n",
       "std           3.676236\n",
       "min           0.000000\n",
       "25%           1.000000\n",
       "50%           1.000000\n",
       "75%           2.000000\n",
       "max         308.000000\n",
       "Name: CustomerInterest, dtype: float64"
      ]
     },
     "execution_count": 59,
     "metadata": {},
     "output_type": "execute_result"
    }
   ],
   "source": [
    "n_weeks = df.week.nunique()\n",
    "print(df.shape)\n",
    "df.CustomerInterest.describe()"
   ]
  },
  {
   "cell_type": "code",
   "execution_count": 60,
   "metadata": {},
   "outputs": [
    {
     "name": "stdout",
     "output_type": "stream",
     "text": [
      "CPU times: user 56 ms, sys: 0 ns, total: 56 ms\n",
      "Wall time: 54.6 ms\n"
     ]
    }
   ],
   "source": [
    "%%time\n",
    "isins = {} # 5 GB of RAM\n",
    "df_unique = df.drop_duplicates(['IsinIdx'])\n",
    "for i in df_unique.IsinIdx:\n",
    "    isins[i] = [0] * n_weeks\n",
    "df_unique = challenge.drop_duplicates(['IsinIdx'])\n",
    "for i in df_unique.IsinIdx:\n",
    "    isins[i] = [0] * n_weeks"
   ]
  },
  {
   "cell_type": "code",
   "execution_count": 61,
   "metadata": {},
   "outputs": [
    {
     "name": "stdout",
     "output_type": "stream",
     "text": [
      "CPU times: user 60 ms, sys: 0 ns, total: 60 ms\n",
      "Wall time: 57.1 ms\n"
     ]
    }
   ],
   "source": [
    "%%time\n",
    "for i, w, q in zip(df.IsinIdx, df.week, df.CustomerInterest):\n",
    "    isins[i][w] = q"
   ]
  },
  {
   "cell_type": "code",
   "execution_count": 74,
   "metadata": {},
   "outputs": [],
   "source": [
    "import pickle\n",
    "with open(INTERIM/'isins_sequences.pkl', 'wb') as f:\n",
    "    pickle.dump(isins, f, pickle.HIGHEST_PROTOCOL)"
   ]
  },
  {
   "cell_type": "code",
   "execution_count": 63,
   "metadata": {},
   "outputs": [
    {
     "data": {
      "text/plain": [
       "(985972, 985972, 492986, 2596, 23087)"
      ]
     },
     "execution_count": 63,
     "metadata": {},
     "output_type": "execute_result"
    }
   ],
   "source": [
    "# 0-1 | sum | buy or sell | \n",
    "len(seq_dict), len(transactions), len(buysells), len(customers), len(isins)"
   ]
  },
  {
   "cell_type": "code",
   "execution_count": 151,
   "metadata": {},
   "outputs": [
    {
     "name": "stdout",
     "output_type": "stream",
     "text": [
      "[1.0, 0, 0, 0, 3.0, 1.0, 0, 1.0, 4.0, 2.0, 0, 0, 2.0, 0.0, 1.0, 0]\n"
     ]
    }
   ],
   "source": [
    "print(isins[19020])"
   ]
  },
  {
   "cell_type": "markdown",
   "metadata": {},
   "source": [
    "## Generate Features"
   ]
  },
  {
   "cell_type": "code",
   "execution_count": 77,
   "metadata": {},
   "outputs": [],
   "source": [
    "train = pd.read_feather(INTERIM/'neuralnet/metadata_train.feather')\n",
    "val = pd.read_feather(INTERIM/'neuralnet/metadata_val.feather')\n",
    "test = pd.read_feather(INTERIM/'neuralnet/metadata_val.feather')"
   ]
  },
  {
   "cell_type": "code",
   "execution_count": 78,
   "metadata": {},
   "outputs": [],
   "source": [
    "cat_cols = ['Sector', 'Subsector', 'Region_x', 'Country', \n",
    "            'TickerIdx', 'Seniority', 'Currency', 'ActivityGroup', \n",
    "            'Region_y', 'Activity', 'RiskCaptain', 'Owner', \n",
    "            'IndustrySector', 'IndustrySubgroup', 'MarketIssue', 'CouponType']\n",
    "num_cols = ['ActualMaturityDateKey', 'IssueDateKey', 'CompositeRating', \n",
    "            'IssuedAmount', 'BondDuration']\n",
    "id_cols = ['CustomerIdx', 'IsinIdx', 'BuySell']"
   ]
  },
  {
   "cell_type": "code",
   "execution_count": 152,
   "metadata": {},
   "outputs": [
    {
     "data": {
      "text/plain": [
       "(983172, 493590, 493590)"
      ]
     },
     "execution_count": 152,
     "metadata": {},
     "output_type": "execute_result"
    }
   ],
   "source": [
    "len(train), len(val), len(test)"
   ]
  },
  {
   "cell_type": "code",
   "execution_count": 86,
   "metadata": {},
   "outputs": [
    {
     "name": "stdout",
     "output_type": "stream",
     "text": [
      "Encoding cats...\n",
      "Scaling conts...\n",
      "Extracting seqs...\n",
      "CPU times: user 23.1 s, sys: 1.43 s, total: 24.5 s\n",
      "Wall time: 24.5 s\n"
     ]
    }
   ],
   "source": [
    "%%time\n",
    "from src.structured_lstm import preprocess\n",
    "scaler, train_seqs, val_seqs, test_seqs = preprocess(train, val, test, \n",
    "                                    cat_cols, num_cols, seq_dict, \n",
    "                                    transactions, buysells, customers, isins)"
   ]
  },
  {
   "cell_type": "markdown",
   "metadata": {},
   "source": [
    "## Model"
   ]
  },
  {
   "cell_type": "code",
   "execution_count": 135,
   "metadata": {},
   "outputs": [],
   "source": [
    "from torch.utils.data import DataLoader\n",
    "from torch import optim\n",
    "import torch.nn as nn\n",
    "from src.structured_lstm import MultimodalDataset, MultimodalNet, train_model"
   ]
  },
  {
   "cell_type": "code",
   "execution_count": 96,
   "metadata": {},
   "outputs": [
    {
     "data": {
      "text/plain": [
       "(983172, 5, 16)"
      ]
     },
     "execution_count": 96,
     "metadata": {},
     "output_type": "execute_result"
    }
   ],
   "source": [
    "train_seqs.shape"
   ]
  },
  {
   "cell_type": "code",
   "execution_count": 97,
   "metadata": {},
   "outputs": [],
   "source": [
    "train_dl = DataLoader(MultimodalDataset(\n",
    "                train[cat_cols], train[num_cols],\n",
    "                train_seqs[:,:,:-2], train_seqs[:,0,-2]), # last interest \n",
    "                batch_size=128, shuffle=True)\n",
    "val_dl = DataLoader(MultimodalDataset(\n",
    "                val[cat_cols], val[num_cols],\n",
    "                val_seqs[:,:,:-1], val_seqs[:,0,-1]), # last interest\n",
    "                batch_size=128)"
   ]
  },
  {
   "cell_type": "code",
   "execution_count": 98,
   "metadata": {},
   "outputs": [],
   "source": [
    "cat_szs = [int(train[col].max() + 1) for col in cat_cols]\n",
    "emb_szs = [(c, min(50, (c+1)//2)) for c in cat_szs]"
   ]
  },
  {
   "cell_type": "code",
   "execution_count": 129,
   "metadata": {},
   "outputs": [],
   "source": [
    "USE_CUDA = True"
   ]
  },
  {
   "cell_type": "code",
   "execution_count": 136,
   "metadata": {},
   "outputs": [],
   "source": [
    "model = MultimodalNet(emb_szs, n_cont=len(num_cols), emb_drop=0.2,\n",
    "                      szs=[1000,500], drops=[0.5, 0.5],\n",
    "                      rnn_hidden_sz=64, rnn_input_sz=5, rnn_n_layers=2,\n",
    "                      rnn_drop=0.5)\n",
    "\n",
    "if USE_CUDA: model = model.cuda()"
   ]
  },
  {
   "cell_type": "code",
   "execution_count": 137,
   "metadata": {},
   "outputs": [],
   "source": [
    "optimizer = optim.Adam(model.parameters(), lr=1e-3)\n",
    "criterion = nn.BCEWithLogitsLoss()"
   ]
  },
  {
   "cell_type": "code",
   "execution_count": 138,
   "metadata": {},
   "outputs": [
    {
     "name": "stdout",
     "output_type": "stream",
     "text": [
      "Train Epoch: 1 [25600/983172 (3%)]\tLoss: 0.128868\n",
      "Train Epoch: 1 [51200/983172 (5%)]\tLoss: 0.085766\n",
      "Train Epoch: 1 [76800/983172 (8%)]\tLoss: 0.087134\n",
      "Train Epoch: 1 [102400/983172 (10%)]\tLoss: 0.089899\n",
      "Train Epoch: 1 [128000/983172 (13%)]\tLoss: 0.082377\n",
      "Train Epoch: 1 [153600/983172 (16%)]\tLoss: 0.084419\n",
      "Train Epoch: 1 [179200/983172 (18%)]\tLoss: 0.081167\n",
      "Train Epoch: 1 [204800/983172 (21%)]\tLoss: 0.088610\n",
      "Train Epoch: 1 [230400/983172 (23%)]\tLoss: 0.083731\n",
      "Train Epoch: 1 [256000/983172 (26%)]\tLoss: 0.085298\n",
      "[0/493590 (0%)]\n",
      "[153600/493590 (31%)]\n",
      "[307200/493590 (62%)]\n",
      "[460800/493590 (93%)]\n",
      "ROC AUC Score: 0.589870\n",
      "Validation Loss: 0.151739\n",
      "Train Epoch: 1 [281600/983172 (29%)]\tLoss: 0.085034\n",
      "Train Epoch: 1 [307200/983172 (31%)]\tLoss: 0.085686\n",
      "Train Epoch: 1 [332800/983172 (34%)]\tLoss: 0.079388\n",
      "Train Epoch: 1 [358400/983172 (36%)]\tLoss: 0.082502\n",
      "Train Epoch: 1 [384000/983172 (39%)]\tLoss: 0.087692\n",
      "Train Epoch: 1 [409600/983172 (42%)]\tLoss: 0.086722\n",
      "Train Epoch: 1 [435200/983172 (44%)]\tLoss: 0.078902\n",
      "Train Epoch: 1 [460800/983172 (47%)]\tLoss: 0.079167\n",
      "Train Epoch: 1 [486400/983172 (49%)]\tLoss: 0.083095\n",
      "Train Epoch: 1 [512000/983172 (52%)]\tLoss: 0.083392\n",
      "[0/493590 (0%)]\n",
      "[153600/493590 (31%)]\n",
      "[307200/493590 (62%)]\n",
      "[460800/493590 (93%)]\n",
      "ROC AUC Score: 0.597133\n",
      "Validation Loss: 0.156596\n",
      "Train Epoch: 1 [537600/983172 (55%)]\tLoss: 0.082986\n",
      "Train Epoch: 1 [563200/983172 (57%)]\tLoss: 0.087731\n",
      "Train Epoch: 1 [588800/983172 (60%)]\tLoss: 0.078512\n",
      "Train Epoch: 1 [614400/983172 (62%)]\tLoss: 0.083187\n",
      "Train Epoch: 1 [640000/983172 (65%)]\tLoss: 0.083466\n",
      "Train Epoch: 1 [665600/983172 (68%)]\tLoss: 0.087336\n",
      "Train Epoch: 1 [691200/983172 (70%)]\tLoss: 0.082152\n",
      "Train Epoch: 1 [716800/983172 (73%)]\tLoss: 0.077199\n",
      "Train Epoch: 1 [742400/983172 (76%)]\tLoss: 0.078485\n",
      "Train Epoch: 1 [768000/983172 (78%)]\tLoss: 0.079453\n",
      "[0/493590 (0%)]\n",
      "[153600/493590 (31%)]\n",
      "[307200/493590 (62%)]\n",
      "[460800/493590 (93%)]\n",
      "ROC AUC Score: 0.597824\n",
      "Validation Loss: 0.153773\n",
      "Train Epoch: 1 [793600/983172 (81%)]\tLoss: 0.083234\n",
      "Train Epoch: 1 [819200/983172 (83%)]\tLoss: 0.081530\n",
      "Train Epoch: 1 [844800/983172 (86%)]\tLoss: 0.078564\n",
      "Train Epoch: 1 [870400/983172 (89%)]\tLoss: 0.085213\n",
      "Train Epoch: 1 [896000/983172 (91%)]\tLoss: 0.080929\n",
      "Train Epoch: 1 [921600/983172 (94%)]\tLoss: 0.079403\n",
      "Train Epoch: 1 [947200/983172 (96%)]\tLoss: 0.086153\n",
      "Train Epoch: 1 [972800/983172 (99%)]\tLoss: 0.079741\n",
      "Epoch Results:\n",
      "[0/983172 (0%)]\n",
      "[153600/983172 (16%)]\n",
      "[307200/983172 (31%)]\n",
      "[460800/983172 (47%)]\n",
      "[614400/983172 (62%)]\n",
      "[768000/983172 (78%)]\n",
      "[921600/983172 (94%)]\n",
      "Train ROC AUC Score: 0.780595\n",
      "Train Loss: 0.079714\n",
      "[0/493590 (0%)]\n",
      "[153600/493590 (31%)]\n",
      "[307200/493590 (62%)]\n",
      "[460800/493590 (93%)]\n",
      "Validation ROC AUC Score: 0.603661\n",
      "Validation Loss: 0.150835\n",
      "\n",
      "Train Epoch: 2 [25600/983172 (3%)]\tLoss: 0.081547\n",
      "Train Epoch: 2 [51200/983172 (5%)]\tLoss: 0.080129\n",
      "Train Epoch: 2 [76800/983172 (8%)]\tLoss: 0.075286\n",
      "Train Epoch: 2 [102400/983172 (10%)]\tLoss: 0.076526\n",
      "Train Epoch: 2 [128000/983172 (13%)]\tLoss: 0.071374\n",
      "Train Epoch: 2 [153600/983172 (16%)]\tLoss: 0.081046\n",
      "Train Epoch: 2 [179200/983172 (18%)]\tLoss: 0.077058\n",
      "Train Epoch: 2 [204800/983172 (21%)]\tLoss: 0.077303\n",
      "Train Epoch: 2 [230400/983172 (23%)]\tLoss: 0.076664\n",
      "Train Epoch: 2 [256000/983172 (26%)]\tLoss: 0.082613\n",
      "[0/493590 (0%)]\n",
      "[153600/493590 (31%)]\n",
      "[307200/493590 (62%)]\n",
      "[460800/493590 (93%)]\n",
      "ROC AUC Score: 0.603932\n",
      "Validation Loss: 0.156942\n",
      "Train Epoch: 2 [281600/983172 (29%)]\tLoss: 0.082578\n",
      "Train Epoch: 2 [307200/983172 (31%)]\tLoss: 0.085977\n",
      "Train Epoch: 2 [332800/983172 (34%)]\tLoss: 0.077505\n",
      "Train Epoch: 2 [358400/983172 (36%)]\tLoss: 0.079229\n",
      "Train Epoch: 2 [384000/983172 (39%)]\tLoss: 0.080328\n",
      "Train Epoch: 2 [409600/983172 (42%)]\tLoss: 0.080394\n",
      "Train Epoch: 2 [435200/983172 (44%)]\tLoss: 0.078732\n",
      "Train Epoch: 2 [460800/983172 (47%)]\tLoss: 0.076840\n",
      "Train Epoch: 2 [486400/983172 (49%)]\tLoss: 0.077225\n",
      "Train Epoch: 2 [512000/983172 (52%)]\tLoss: 0.083999\n",
      "[0/493590 (0%)]\n",
      "[153600/493590 (31%)]\n",
      "[307200/493590 (62%)]\n",
      "[460800/493590 (93%)]\n",
      "ROC AUC Score: 0.612969\n",
      "Validation Loss: 0.155154\n",
      "Train Epoch: 2 [537600/983172 (55%)]\tLoss: 0.080491\n",
      "Train Epoch: 2 [563200/983172 (57%)]\tLoss: 0.079706\n",
      "Train Epoch: 2 [588800/983172 (60%)]\tLoss: 0.080583\n",
      "Train Epoch: 2 [614400/983172 (62%)]\tLoss: 0.084758\n",
      "Train Epoch: 2 [640000/983172 (65%)]\tLoss: 0.075824\n",
      "Train Epoch: 2 [665600/983172 (68%)]\tLoss: 0.075030\n",
      "Train Epoch: 2 [691200/983172 (70%)]\tLoss: 0.083261\n",
      "Train Epoch: 2 [716800/983172 (73%)]\tLoss: 0.081701\n",
      "Train Epoch: 2 [742400/983172 (76%)]\tLoss: 0.077828\n",
      "Train Epoch: 2 [768000/983172 (78%)]\tLoss: 0.077631\n",
      "[0/493590 (0%)]\n",
      "[153600/493590 (31%)]\n",
      "[307200/493590 (62%)]\n",
      "[460800/493590 (93%)]\n",
      "ROC AUC Score: 0.610491\n",
      "Validation Loss: 0.158040\n",
      "Train Epoch: 2 [793600/983172 (81%)]\tLoss: 0.082689\n",
      "Train Epoch: 2 [819200/983172 (83%)]\tLoss: 0.082885\n",
      "Train Epoch: 2 [844800/983172 (86%)]\tLoss: 0.082505\n",
      "Train Epoch: 2 [870400/983172 (89%)]\tLoss: 0.077044\n",
      "Train Epoch: 2 [896000/983172 (91%)]\tLoss: 0.077922\n",
      "Train Epoch: 2 [921600/983172 (94%)]\tLoss: 0.085281\n",
      "Train Epoch: 2 [947200/983172 (96%)]\tLoss: 0.078572\n",
      "Train Epoch: 2 [972800/983172 (99%)]\tLoss: 0.078200\n",
      "Epoch Results:\n",
      "[0/983172 (0%)]\n",
      "[153600/983172 (16%)]\n",
      "[307200/983172 (31%)]\n",
      "[460800/983172 (47%)]\n",
      "[614400/983172 (62%)]\n",
      "[768000/983172 (78%)]\n",
      "[921600/983172 (94%)]\n",
      "Train ROC AUC Score: 0.813835\n",
      "Train Loss: 0.078620\n",
      "[0/493590 (0%)]\n",
      "[153600/493590 (31%)]\n",
      "[307200/493590 (62%)]\n",
      "[460800/493590 (93%)]\n",
      "Validation ROC AUC Score: 0.633618\n",
      "Validation Loss: 0.153691\n",
      "\n",
      "Train Epoch: 3 [25600/983172 (3%)]\tLoss: 0.075251\n",
      "Train Epoch: 3 [51200/983172 (5%)]\tLoss: 0.077280\n",
      "Train Epoch: 3 [76800/983172 (8%)]\tLoss: 0.083710\n",
      "Train Epoch: 3 [102400/983172 (10%)]\tLoss: 0.079554\n",
      "Train Epoch: 3 [128000/983172 (13%)]\tLoss: 0.076765\n",
      "Train Epoch: 3 [153600/983172 (16%)]\tLoss: 0.079423\n",
      "Train Epoch: 3 [179200/983172 (18%)]\tLoss: 0.076134\n",
      "Train Epoch: 3 [204800/983172 (21%)]\tLoss: 0.081874\n",
      "Train Epoch: 3 [230400/983172 (23%)]\tLoss: 0.078013\n",
      "Train Epoch: 3 [256000/983172 (26%)]\tLoss: 0.075736\n",
      "[0/493590 (0%)]\n",
      "[153600/493590 (31%)]\n",
      "[307200/493590 (62%)]\n",
      "[460800/493590 (93%)]\n",
      "ROC AUC Score: 0.627619\n",
      "Validation Loss: 0.157228\n",
      "Train Epoch: 3 [281600/983172 (29%)]\tLoss: 0.077912\n",
      "Train Epoch: 3 [307200/983172 (31%)]\tLoss: 0.079872\n",
      "Train Epoch: 3 [332800/983172 (34%)]\tLoss: 0.077869\n",
      "Train Epoch: 3 [358400/983172 (36%)]\tLoss: 0.081998\n",
      "Train Epoch: 3 [384000/983172 (39%)]\tLoss: 0.076460\n",
      "Train Epoch: 3 [409600/983172 (42%)]\tLoss: 0.079000\n",
      "Train Epoch: 3 [435200/983172 (44%)]\tLoss: 0.080340\n",
      "Train Epoch: 3 [460800/983172 (47%)]\tLoss: 0.082327\n",
      "Train Epoch: 3 [486400/983172 (49%)]\tLoss: 0.075201\n",
      "Train Epoch: 3 [512000/983172 (52%)]\tLoss: 0.075655\n",
      "[0/493590 (0%)]\n",
      "[153600/493590 (31%)]\n",
      "[307200/493590 (62%)]\n",
      "[460800/493590 (93%)]\n",
      "ROC AUC Score: 0.637556\n",
      "Validation Loss: 0.169749\n",
      "Train Epoch: 3 [537600/983172 (55%)]\tLoss: 0.079470\n",
      "Train Epoch: 3 [563200/983172 (57%)]\tLoss: 0.075998\n",
      "Train Epoch: 3 [588800/983172 (60%)]\tLoss: 0.077328\n",
      "Train Epoch: 3 [614400/983172 (62%)]\tLoss: 0.079596\n",
      "Train Epoch: 3 [640000/983172 (65%)]\tLoss: 0.073814\n",
      "Train Epoch: 3 [665600/983172 (68%)]\tLoss: 0.075005\n",
      "Train Epoch: 3 [691200/983172 (70%)]\tLoss: 0.076476\n",
      "Train Epoch: 3 [716800/983172 (73%)]\tLoss: 0.079940\n",
      "Train Epoch: 3 [742400/983172 (76%)]\tLoss: 0.075490\n",
      "Train Epoch: 3 [768000/983172 (78%)]\tLoss: 0.072345\n",
      "[0/493590 (0%)]\n",
      "[153600/493590 (31%)]\n",
      "[307200/493590 (62%)]\n",
      "[460800/493590 (93%)]\n",
      "ROC AUC Score: 0.644390\n",
      "Validation Loss: 0.160749\n",
      "Train Epoch: 3 [793600/983172 (81%)]\tLoss: 0.074561\n",
      "Train Epoch: 3 [819200/983172 (83%)]\tLoss: 0.076738\n",
      "Train Epoch: 3 [844800/983172 (86%)]\tLoss: 0.074878\n",
      "Train Epoch: 3 [870400/983172 (89%)]\tLoss: 0.074261\n",
      "Train Epoch: 3 [896000/983172 (91%)]\tLoss: 0.070966\n",
      "Train Epoch: 3 [921600/983172 (94%)]\tLoss: 0.076938\n",
      "Train Epoch: 3 [947200/983172 (96%)]\tLoss: 0.080607\n",
      "Train Epoch: 3 [972800/983172 (99%)]\tLoss: 0.081703\n",
      "Epoch Results:\n",
      "[0/983172 (0%)]\n",
      "[153600/983172 (16%)]\n",
      "[307200/983172 (31%)]\n",
      "[460800/983172 (47%)]\n",
      "[614400/983172 (62%)]\n",
      "[768000/983172 (78%)]\n",
      "[921600/983172 (94%)]\n",
      "Train ROC AUC Score: 0.830626\n",
      "Train Loss: 0.081968\n",
      "[0/493590 (0%)]\n",
      "[153600/493590 (31%)]\n",
      "[307200/493590 (62%)]\n",
      "[460800/493590 (93%)]\n",
      "Validation ROC AUC Score: 0.649747\n",
      "Validation Loss: 0.161984\n",
      "\n",
      "CPU times: user 7min 20s, sys: 9.45 s, total: 7min 30s\n",
      "Wall time: 7min 29s\n"
     ]
    }
   ],
   "source": [
    "%%time\n",
    "model, train_losses, val_losses, val_auc_scores = train_model(\n",
    "                model, train_dl, val_dl, optimizer, criterion,\n",
    "                n_epochs=3, USE_CUDA=USE_CUDA, val_every=10)"
   ]
  },
  {
   "cell_type": "code",
   "execution_count": 144,
   "metadata": {},
   "outputs": [
    {
     "data": {
      "text/plain": [
       "(7682, 3857)"
      ]
     },
     "execution_count": 144,
     "metadata": {},
     "output_type": "execute_result"
    }
   ],
   "source": [
    "len(train_dl), len(val_dl)"
   ]
  },
  {
   "cell_type": "code",
   "execution_count": 139,
   "metadata": {},
   "outputs": [],
   "source": [
    "from src.structured_lstm import get_predictions"
   ]
  },
  {
   "cell_type": "code",
   "execution_count": 140,
   "metadata": {},
   "outputs": [
    {
     "name": "stdout",
     "output_type": "stream",
     "text": [
      "[0/493590 (0%)]\n",
      "[153600/493590 (31%)]\n",
      "[307200/493590 (62%)]\n",
      "[460800/493590 (93%)]\n"
     ]
    }
   ],
   "source": [
    "targets, preds = get_predictions(model, val_dl, USE_CUDA=USE_CUDA)"
   ]
  },
  {
   "cell_type": "code",
   "execution_count": 141,
   "metadata": {},
   "outputs": [
    {
     "data": {
      "text/plain": [
       "0.6497469317299748"
      ]
     },
     "execution_count": 141,
     "metadata": {},
     "output_type": "execute_result"
    }
   ],
   "source": [
    "from sklearn.metrics import roc_auc_score\n",
    "roc_auc_score(targets, preds)"
   ]
  },
  {
   "cell_type": "code",
   "execution_count": 142,
   "metadata": {},
   "outputs": [
    {
     "name": "stdout",
     "output_type": "stream",
     "text": [
      "[0/983172 (0%)]\n",
      "[153600/983172 (16%)]\n",
      "[307200/983172 (31%)]\n",
      "[460800/983172 (47%)]\n",
      "[614400/983172 (62%)]\n",
      "[768000/983172 (78%)]\n",
      "[921600/983172 (94%)]\n"
     ]
    }
   ],
   "source": [
    "targets, preds = get_predictions(model, train_dl, USE_CUDA=USE_CUDA)"
   ]
  },
  {
   "cell_type": "code",
   "execution_count": 143,
   "metadata": {},
   "outputs": [
    {
     "data": {
      "text/plain": [
       "0.8306261998393005"
      ]
     },
     "execution_count": 143,
     "metadata": {},
     "output_type": "execute_result"
    }
   ],
   "source": [
    "from sklearn.metrics import roc_auc_score\n",
    "roc_auc_score(targets, preds)"
   ]
  },
  {
   "cell_type": "code",
   "execution_count": null,
   "metadata": {},
   "outputs": [],
   "source": []
  }
 ],
 "metadata": {
  "kernelspec": {
   "display_name": "Python 3",
   "language": "python",
   "name": "python3"
  },
  "language_info": {
   "codemirror_mode": {
    "name": "ipython",
    "version": 3
   },
   "file_extension": ".py",
   "mimetype": "text/x-python",
   "name": "python",
   "nbconvert_exporter": "python",
   "pygments_lexer": "ipython3",
   "version": "3.6.4"
  }
 },
 "nbformat": 4,
 "nbformat_minor": 2
}
