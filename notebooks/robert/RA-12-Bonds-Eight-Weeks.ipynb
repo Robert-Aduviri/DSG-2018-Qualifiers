{
 "cells": [
  {
   "cell_type": "code",
   "execution_count": 2,
   "metadata": {},
   "outputs": [],
   "source": [
    "%load_ext autoreload\n",
    "%autoreload 2\n",
    "%matplotlib inline\n",
    "%config InlineBackend.figure_format = 'retina'\n",
    "\n",
    "import os, math\n",
    "import numpy as np, pandas as pd\n",
    "import matplotlib.pyplot as plt, seaborn as sns\n",
    "from pandas_summary import DataFrameSummary\n",
    "from tqdm import tqdm, tqdm_notebook\n",
    "from pathlib import Path\n",
    "pd.set_option('display.max_columns', 1000)\n",
    "pd.set_option('display.max_rows', 400)\n",
    "sns.set()\n",
    "\n",
    "os.chdir('../..')\n",
    "from src import utils"
   ]
  },
  {
   "cell_type": "code",
   "execution_count": 3,
   "metadata": {},
   "outputs": [],
   "source": [
    "DATA        = Path('data')\n",
    "RAW         = DATA/'raw'\n",
    "INTERIM     = DATA/'interim'\n",
    "PROCESSED   = DATA/'processed'\n",
    "SUBMISSIONS = DATA/'submissions'"
   ]
  },
  {
   "cell_type": "code",
   "execution_count": 4,
   "metadata": {},
   "outputs": [],
   "source": [
    "# challenge  = pd.read_csv(RAW/'Challenge_20180423.csv', low_memory=False)\n",
    "# customer   = pd.read_csv(RAW/'Customer.csv', low_memory=False)\n",
    "# isin       = pd.read_csv(RAW/'Isin.csv', low_memory=False)\n",
    "# submission = pd.read_csv(RAW/'sample_submission.csv', low_memory=False)\n",
    "# trade      = pd.read_csv(RAW/'Trade.csv', low_memory=False)\n",
    "market     = pd.read_csv(RAW/'Market.csv', low_memory=False)"
   ]
  },
  {
   "cell_type": "code",
   "execution_count": 5,
   "metadata": {},
   "outputs": [],
   "source": [
    "week_labels = [20180226, 20180305, 20180312, 20180319, \n",
    "               20180326, 20180402, 20180409, 20180416, 20180423]"
   ]
  },
  {
   "cell_type": "code",
   "execution_count": 6,
   "metadata": {},
   "outputs": [],
   "source": [
    "df = pd.read_feather(PROCESSED/f'week_{week_labels[-1] % 10000:04}_diffscount.feather')"
   ]
  },
  {
   "cell_type": "code",
   "execution_count": 7,
   "metadata": {},
   "outputs": [],
   "source": [
    "from src.utils import get_weeks, week_num"
   ]
  },
  {
   "cell_type": "code",
   "execution_count": 8,
   "metadata": {},
   "outputs": [],
   "source": [
    "all_weeks = get_weeks()\n",
    "df['week'] = df.TradeDateKey.apply(lambda x: week_num(all_weeks, x))"
   ]
  },
  {
   "cell_type": "code",
   "execution_count": 6,
   "metadata": {},
   "outputs": [
    {
     "name": "stdout",
     "output_type": "stream",
     "text": [
      "CPU times: user 5.18 s, sys: 3.47 s, total: 8.66 s\n",
      "Wall time: 14.8 s\n"
     ]
    }
   ],
   "source": [
    "%%time\n",
    "weeks = []\n",
    "for name in week_labels:\n",
    "    weeks.append(pd.read_feather(PROCESSED/f'week_{name % 10000:04}_diffscount.feather'))"
   ]
  },
  {
   "cell_type": "code",
   "execution_count": 8,
   "metadata": {},
   "outputs": [],
   "source": [
    "all_weeks = get_weeks()\n",
    "for w in weeks:\n",
    "    w['week'] = w.TradeDateKey.apply(lambda x: week_num(all_weeks, x))"
   ]
  },
  {
   "cell_type": "code",
   "execution_count": 9,
   "metadata": {},
   "outputs": [],
   "source": [
    "market['week'] = market.DateKey.apply(lambda x: week_num(all_weeks, x))"
   ]
  },
  {
   "cell_type": "code",
   "execution_count": 10,
   "metadata": {},
   "outputs": [
    {
     "name": "stdout",
     "output_type": "stream",
     "text": [
      "CPU times: user 1.08 s, sys: 560 ms, total: 1.64 s\n",
      "Wall time: 1.65 s\n"
     ]
    }
   ],
   "source": [
    "%%time\n",
    "weekly_averages = market.groupby(['IsinIdx', 'week'])[['Price', 'Yield', 'ZSpread']].agg('mean')"
   ]
  },
  {
   "cell_type": "code",
   "execution_count": 11,
   "metadata": {},
   "outputs": [],
   "source": [
    "df = weeks[0].copy()"
   ]
  },
  {
   "cell_type": "code",
   "execution_count": 12,
   "metadata": {},
   "outputs": [
    {
     "data": {
      "text/html": [
       "<div>\n",
       "<style scoped>\n",
       "    .dataframe tbody tr th:only-of-type {\n",
       "        vertical-align: middle;\n",
       "    }\n",
       "\n",
       "    .dataframe tbody tr th {\n",
       "        vertical-align: top;\n",
       "    }\n",
       "\n",
       "    .dataframe thead th {\n",
       "        text-align: right;\n",
       "    }\n",
       "</style>\n",
       "<table border=\"1\" class=\"dataframe\">\n",
       "  <thead>\n",
       "    <tr style=\"text-align: right;\">\n",
       "      <th></th>\n",
       "      <th></th>\n",
       "      <th>Price</th>\n",
       "      <th>Yield</th>\n",
       "      <th>ZSpread</th>\n",
       "    </tr>\n",
       "    <tr>\n",
       "      <th>IsinIdx</th>\n",
       "      <th>week</th>\n",
       "      <th></th>\n",
       "      <th></th>\n",
       "      <th></th>\n",
       "    </tr>\n",
       "  </thead>\n",
       "  <tbody>\n",
       "    <tr>\n",
       "      <th rowspan=\"5\" valign=\"top\">1</th>\n",
       "      <th>51</th>\n",
       "      <td>104.250</td>\n",
       "      <td>7.8350</td>\n",
       "      <td>5.5050</td>\n",
       "    </tr>\n",
       "    <tr>\n",
       "      <th>52</th>\n",
       "      <td>103.900</td>\n",
       "      <td>7.8706</td>\n",
       "      <td>5.6304</td>\n",
       "    </tr>\n",
       "    <tr>\n",
       "      <th>53</th>\n",
       "      <td>102.200</td>\n",
       "      <td>8.0458</td>\n",
       "      <td>5.9564</td>\n",
       "    </tr>\n",
       "    <tr>\n",
       "      <th>54</th>\n",
       "      <td>102.050</td>\n",
       "      <td>8.0614</td>\n",
       "      <td>6.0388</td>\n",
       "    </tr>\n",
       "    <tr>\n",
       "      <th>55</th>\n",
       "      <td>103.375</td>\n",
       "      <td>7.9232</td>\n",
       "      <td>5.9136</td>\n",
       "    </tr>\n",
       "  </tbody>\n",
       "</table>\n",
       "</div>"
      ],
      "text/plain": [
       "                Price   Yield  ZSpread\n",
       "IsinIdx week                          \n",
       "1       51    104.250  7.8350   5.5050\n",
       "        52    103.900  7.8706   5.6304\n",
       "        53    102.200  8.0458   5.9564\n",
       "        54    102.050  8.0614   6.0388\n",
       "        55    103.375  7.9232   5.9136"
      ]
     },
     "execution_count": 12,
     "metadata": {},
     "output_type": "execute_result"
    }
   ],
   "source": [
    "weekly_averages.head()"
   ]
  },
  {
   "cell_type": "code",
   "execution_count": 29,
   "metadata": {},
   "outputs": [],
   "source": [
    "from collections import defaultdict\n",
    "a = weekly_averages.to_dict('index')\n",
    "averages = defaultdict(dict)\n",
    "for k in a:\n",
    "    averages[k[0]][k[1]] = a[k]"
   ]
  },
  {
   "cell_type": "code",
   "execution_count": 32,
   "metadata": {},
   "outputs": [
    {
     "data": {
      "text/plain": [
       "{'Price': 104.25, 'Yield': 7.835, 'ZSpread': 5.505}"
      ]
     },
     "execution_count": 32,
     "metadata": {},
     "output_type": "execute_result"
    }
   ],
   "source": [
    "averages[1][51]"
   ]
  },
  {
   "cell_type": "code",
   "execution_count": 35,
   "metadata": {},
   "outputs": [],
   "source": [
    "from itertools import product\n",
    "\n",
    "def slow_get_previous_weeks(row, weekly_averages, previous_weeks):\n",
    "    weeks_idxs = [row.week - w_off for w_off in previous_weeks]\n",
    "    result = pd.DataFrame(columns=weekly_averages.columns)\n",
    "    for idx in weeks_idxs:\n",
    "        if row.IsinIdx in weekly_averages.index:\n",
    "            bond_data = weekly_averages.loc[row.IsinIdx]\n",
    "            result.loc[idx] = bond_data.loc[row.week] - bond_data.loc[idx] \\\n",
    "                                if row.week in bond_data.index and idx in bond_data.index \\\n",
    "                                else [100,0,0]\n",
    "        else:\n",
    "            result.loc[idx] = [100,0,0]\n",
    "    result['WeekOffset'] = previous_weeks\n",
    "    result.set_index('WeekOffset', inplace=True)\n",
    "    return pd.Series(result.values.reshape(-1), \n",
    "                     index=[f'Week{wo}_{col}' \\\n",
    "           for wo, col in product(list(result.index), list(result.columns))])"
   ]
  },
  {
   "cell_type": "code",
   "execution_count": 106,
   "metadata": {},
   "outputs": [
    {
     "data": {
      "text/plain": [
       "Week1_Price        0.1000\n",
       "Week1_Yield       -0.1976\n",
       "Week1_ZSpread     -0.2276\n",
       "Week2_Price        0.1498\n",
       "Week2_Yield       -0.3124\n",
       "Week2_ZSpread     -0.4060\n",
       "Week4_Price        0.0748\n",
       "Week4_Yield       -0.3504\n",
       "Week4_ZSpread     -0.5326\n",
       "Week8_Price       -0.0630\n",
       "Week8_Yield       17.3852\n",
       "Week8_ZSpread     14.9772\n",
       "Week16_Price      -0.5374\n",
       "Week16_Yield       2.2662\n",
       "Week16_ZSpread     1.4282\n",
       "dtype: float64"
      ]
     },
     "execution_count": 106,
     "metadata": {},
     "output_type": "execute_result"
    }
   ],
   "source": [
    "res = get_previous_weeks(df.loc[0], weekly_averages, [1,2,4,8,16])\n",
    "res"
   ]
  },
  {
   "cell_type": "code",
   "execution_count": 126,
   "metadata": {},
   "outputs": [
    {
     "name": "stdout",
     "output_type": "stream",
     "text": [
      "CPU times: user 0 ns, sys: 0 ns, total: 0 ns\n",
      "Wall time: 725 µs\n"
     ]
    },
    {
     "data": {
      "text/plain": [
       "{1: [0.42499999999999716, -0.09160000000000057, -0.06680000000000064],\n",
       " 2: [0.5250000000000057, -0.11240000000000272, -0.14040000000000052],\n",
       " 3: [0.07500000000000284, -0.014000000000001123, -0.10640000000000072],\n",
       " 5: [-0.5499999999999972, 0.12139999999999773, -0.09200000000000053],\n",
       " 8: [-1.2999999999999972, 0.29439999999999955, -0.21120000000000028],\n",
       " 13: [-0.9749999999999943, 0.21419999999999906, -0.38420000000000076]}"
      ]
     },
     "execution_count": 126,
     "metadata": {},
     "output_type": "execute_result"
    }
   ],
   "source": [
    "%%time\n",
    "get_previous_weeks(df.loc[3].to_dict(), averages, [1,2,3,5,8,13])"
   ]
  },
  {
   "cell_type": "code",
   "execution_count": 105,
   "metadata": {},
   "outputs": [
    {
     "name": "stdout",
     "output_type": "stream",
     "text": [
      "CPU times: user 24 ms, sys: 4 ms, total: 28 ms\n",
      "Wall time: 23.9 ms\n"
     ]
    },
    {
     "data": {
      "text/plain": [
       "{'Week13_Price': -0.01500000000001478,\n",
       " 'Week13_Yield': 0.5340000000000007,\n",
       " 'Week13_ZSpread': -0.19740000000000046,\n",
       " 'Week1_Price': 0.09999999999999432,\n",
       " 'Week1_Yield': -0.19759999999999955,\n",
       " 'Week1_ZSpread': -0.22759999999999936,\n",
       " 'Week2_Price': 0.14979999999999905,\n",
       " 'Week2_Yield': -0.31239999999999846,\n",
       " 'Week2_ZSpread': -0.40600000000000014,\n",
       " 'Week3_Price': 0.2248000000000019,\n",
       " 'Week3_Yield': -0.45759999999999934,\n",
       " 'Week3_ZSpread': -0.6214000000000008,\n",
       " 'Week5_Price': 0.03740000000000521,\n",
       " 'Week5_Yield': -0.35939999999999994,\n",
       " 'Week5_ZSpread': -0.5816000000000003,\n",
       " 'Week8_Price': -0.0630000000000166,\n",
       " 'Week8_Yield': 17.385199999999998,\n",
       " 'Week8_ZSpread': 14.977199999999998}"
      ]
     },
     "execution_count": 105,
     "metadata": {},
     "output_type": "execute_result"
    }
   ],
   "source": [
    "%%time\n",
    "get_previous_weeks(df.loc[0].to_dict(), averages, [1,2,3,5,8,13])"
   ]
  },
  {
   "cell_type": "code",
   "execution_count": 70,
   "metadata": {},
   "outputs": [
    {
     "name": "stdout",
     "output_type": "stream",
     "text": [
      "CPU times: user 32 ms, sys: 0 ns, total: 32 ms\n",
      "Wall time: 30.5 ms\n"
     ]
    },
    {
     "data": {
      "text/plain": [
       "Week1_Price        0.1000\n",
       "Week1_Yield       -0.1976\n",
       "Week1_ZSpread     -0.2276\n",
       "Week2_Price        0.1498\n",
       "Week2_Yield       -0.3124\n",
       "Week2_ZSpread     -0.4060\n",
       "Week3_Price        0.2248\n",
       "Week3_Yield       -0.4576\n",
       "Week3_ZSpread     -0.6214\n",
       "Week5_Price        0.0374\n",
       "Week5_Yield       -0.3594\n",
       "Week5_ZSpread     -0.5816\n",
       "Week8_Price       -0.0630\n",
       "Week8_Yield       17.3852\n",
       "Week8_ZSpread     14.9772\n",
       "Week13_Price      -0.0150\n",
       "Week13_Yield       0.5340\n",
       "Week13_ZSpread    -0.1974\n",
       "dtype: float64"
      ]
     },
     "execution_count": 70,
     "metadata": {},
     "output_type": "execute_result"
    }
   ],
   "source": [
    "%%time\n",
    "slow_get_previous_weeks(df.loc[0], weekly_averages, [1,2,3,5,8,13])"
   ]
  },
  {
   "cell_type": "code",
   "execution_count": 151,
   "metadata": {},
   "outputs": [
    {
     "data": {
      "text/plain": [
       "TradeDateKey    20180226\n",
       "IsinIdx            26196\n",
       "Name: 348, dtype: object"
      ]
     },
     "execution_count": 151,
     "metadata": {},
     "output_type": "execute_result"
    }
   ],
   "source": [
    "df.loc[348, ['TradeDateKey', 'IsinIdx']]"
   ]
  },
  {
   "cell_type": "code",
   "execution_count": 156,
   "metadata": {},
   "outputs": [
    {
     "data": {
      "text/plain": [
       "Week1_Price       100\n",
       "Week1_Yield         0\n",
       "Week1_ZSpread       0\n",
       "Week2_Price       100\n",
       "Week2_Yield         0\n",
       "Week2_ZSpread       0\n",
       "Week3_Price       100\n",
       "Week3_Yield         0\n",
       "Week3_ZSpread       0\n",
       "Week5_Price       100\n",
       "Week5_Yield         0\n",
       "Week5_ZSpread       0\n",
       "Week8_Price       100\n",
       "Week8_Yield         0\n",
       "Week8_ZSpread       0\n",
       "Week13_Price      100\n",
       "Week13_Yield        0\n",
       "Week13_ZSpread      0\n",
       "dtype: object"
      ]
     },
     "execution_count": 156,
     "metadata": {},
     "output_type": "execute_result"
    }
   ],
   "source": [
    "get_previous_weeks(df.loc[348], weekly_averages, [1,2,3,5,8,13])"
   ]
  },
  {
   "cell_type": "code",
   "execution_count": 66,
   "metadata": {},
   "outputs": [],
   "source": [
    "from tqdm._tqdm_notebook import tqdm_notebook\n",
    "tqdm_notebook.pandas()"
   ]
  },
  {
   "cell_type": "code",
   "execution_count": 103,
   "metadata": {},
   "outputs": [
    {
     "name": "stdout",
     "output_type": "stream",
     "text": [
      "CPU times: user 0 ns, sys: 0 ns, total: 0 ns\n",
      "Wall time: 11.4 µs\n"
     ]
    }
   ],
   "source": [
    "%%time\n",
    "# 3%|▎         | 19916/683028 [03:16<1:52:12, 98.50it/s]\n",
    "df_res = df.progress_apply(lambda r: get_previous_weeks(r, averages, [1,2,4,8,13], weekly_averages.columns), axis=1)"
   ]
  },
  {
   "cell_type": "code",
   "execution_count": 98,
   "metadata": {},
   "outputs": [],
   "source": [
    "import multiprocessing as mp\n",
    "partitions = mp.cpu_count()\n",
    "def parallelize(data, func):\n",
    "    data_split = np.array_split(data, partitions)\n",
    "    pool = mp.Pool()\n",
    "    data = pool.map(func, data_split)\n",
    "    pool.close()\n",
    "    pool.join()\n",
    "    return data"
   ]
  },
  {
   "cell_type": "code",
   "execution_count": 77,
   "metadata": {},
   "outputs": [],
   "source": [
    "def work(r):\n",
    "    return get_previous_weeks(r, averages, [1,2,4,8,13], weekly_averages.columns)"
   ]
  },
  {
   "cell_type": "code",
   "execution_count": 81,
   "metadata": {},
   "outputs": [],
   "source": [
    "from functools import partial"
   ]
  },
  {
   "cell_type": "code",
   "execution_count": 99,
   "metadata": {},
   "outputs": [],
   "source": [
    "def foo(r):\n",
    "    a = 0\n",
    "    for i in range(10000000):\n",
    "        a += i\n",
    "    r.week = a\n",
    "    return r"
   ]
  },
  {
   "cell_type": "code",
   "execution_count": 131,
   "metadata": {},
   "outputs": [
    {
     "name": "stdout",
     "output_type": "stream",
     "text": [
      "CPU times: user 33.9 s, sys: 672 ms, total: 34.6 s\n",
      "Wall time: 33.9 s\n"
     ]
    }
   ],
   "source": [
    "%%time\n",
    "rows = [row.to_dict() for idx, row in df[['IsinIdx', 'week']].iterrows()]"
   ]
  },
  {
   "cell_type": "code",
   "execution_count": 132,
   "metadata": {},
   "outputs": [
    {
     "data": {
      "text/plain": [
       "[{'IsinIdx': 21856, 'week': 164}, {'IsinIdx': 21856, 'week': 164}]"
      ]
     },
     "execution_count": 132,
     "metadata": {},
     "output_type": "execute_result"
    }
   ],
   "source": [
    "rows[:2]"
   ]
  },
  {
   "cell_type": "code",
   "execution_count": 114,
   "metadata": {},
   "outputs": [],
   "source": [
    "def get_previous_weeks(row, averages, previous_weeks):\n",
    "    weeks_idxs = [row['week'] - w_off for w_off in previous_weeks]\n",
    "    result = {}\n",
    "    for idx, weekoff in zip(weeks_idxs, previous_weeks):\n",
    "        if row['IsinIdx'] in averages and row['week'] in averages[row['IsinIdx']] \\\n",
    "                                      and idx in averages[row['IsinIdx']]:\n",
    "            result[weekoff] = [x - y for x, y in zip(averages[row['IsinIdx']][row['week']].values(), \n",
    "                                                     averages[row['IsinIdx']][idx].values())]\n",
    "        else:\n",
    "            result[weekoff] = [100,0,0]\n",
    "    return result"
   ]
  },
  {
   "cell_type": "code",
   "execution_count": 141,
   "metadata": {},
   "outputs": [],
   "source": [
    "foo = partial(get_previous_weeks, averages=averages, previous_weeks=[1,2,4,8,13])"
   ]
  },
  {
   "cell_type": "code",
   "execution_count": 139,
   "metadata": {},
   "outputs": [
    {
     "data": {
      "text/plain": [
       "{1: [0.09999999999999432, -0.19759999999999955, -0.22759999999999936],\n",
       " 2: [0.14979999999999905, -0.31239999999999846, -0.40600000000000014],\n",
       " 3: [0.2248000000000019, -0.45759999999999934, -0.6214000000000008],\n",
       " 5: [0.03740000000000521, -0.35939999999999994, -0.5816000000000003],\n",
       " 8: [-0.0630000000000166, 17.385199999999998, 14.977199999999998],\n",
       " 13: [-0.01500000000001478, 0.5340000000000007, -0.19740000000000046]}"
      ]
     },
     "execution_count": 139,
     "metadata": {},
     "output_type": "execute_result"
    }
   ],
   "source": [
    "get_previous_weeks(rows[0], averages, [1,2,3,5,8,13])"
   ]
  },
  {
   "cell_type": "code",
   "execution_count": null,
   "metadata": {},
   "outputs": [],
   "source": [
    "%%time\n",
    "# 57s\n",
    "pool = mp.Pool()\n",
    "data = pool.map(foo, rows)\n",
    "pool.close()\n",
    "pool.join()"
   ]
  },
  {
   "cell_type": "code",
   "execution_count": 144,
   "metadata": {},
   "outputs": [
    {
     "data": {
      "text/plain": [
       "683028"
      ]
     },
     "execution_count": 144,
     "metadata": {},
     "output_type": "execute_result"
    }
   ],
   "source": [
    "len(data)"
   ]
  },
  {
   "cell_type": "code",
   "execution_count": 164,
   "metadata": {},
   "outputs": [],
   "source": [
    "col2idx = {col:idx for idx,col in enumerate(weekly_averages.columns)}"
   ]
  },
  {
   "cell_type": "code",
   "execution_count": 167,
   "metadata": {},
   "outputs": [
    {
     "name": "stdout",
     "output_type": "stream",
     "text": [
      "CPU times: user 4.65 s, sys: 200 ms, total: 4.85 s\n",
      "Wall time: 4.68 s\n"
     ]
    }
   ],
   "source": [
    "%%time\n",
    "for wo, col in product(list(data[0].keys()), list(weekly_averages.columns)):\n",
    "    df[f'Week{wo}_{col}'] = [r[wo][col2idx[col]] for r in data]           "
   ]
  },
  {
   "cell_type": "code",
   "execution_count": 161,
   "metadata": {},
   "outputs": [
    {
     "data": {
      "text/plain": [
       "{1: [0.09999999999999432, -0.19759999999999955, -0.22759999999999936],\n",
       " 2: [0.14979999999999905, -0.31239999999999846, -0.40600000000000014],\n",
       " 4: [0.07480000000001041, -0.3503999999999987, -0.5326000000000009],\n",
       " 8: [-0.0630000000000166, 17.385199999999998, 14.977199999999998],\n",
       " 13: [-0.01500000000001478, 0.5340000000000007, -0.19740000000000046]}"
      ]
     },
     "execution_count": 161,
     "metadata": {},
     "output_type": "execute_result"
    }
   ],
   "source": [
    "data[0]"
   ]
  },
  {
   "cell_type": "code",
   "execution_count": 171,
   "metadata": {},
   "outputs": [
    {
     "data": {
      "text/html": [
       "<div>\n",
       "<style scoped>\n",
       "    .dataframe tbody tr th:only-of-type {\n",
       "        vertical-align: middle;\n",
       "    }\n",
       "\n",
       "    .dataframe tbody tr th {\n",
       "        vertical-align: top;\n",
       "    }\n",
       "\n",
       "    .dataframe thead th {\n",
       "        text-align: right;\n",
       "    }\n",
       "</style>\n",
       "<table border=\"1\" class=\"dataframe\">\n",
       "  <thead>\n",
       "    <tr style=\"text-align: right;\">\n",
       "      <th></th>\n",
       "      <th>TradeDateKey</th>\n",
       "      <th>CustomerIdx</th>\n",
       "      <th>IsinIdx</th>\n",
       "      <th>BuySell</th>\n",
       "      <th>CustomerInterest</th>\n",
       "      <th>DaysSinceBuySell</th>\n",
       "      <th>DaysSinceTransaction</th>\n",
       "      <th>DaysSinceCustomerActivity</th>\n",
       "      <th>DaysSinceBondActivity</th>\n",
       "      <th>DaysCountBuySell</th>\n",
       "      <th>DaysCountTransaction</th>\n",
       "      <th>DaysCountCustomerActivity</th>\n",
       "      <th>DaysCountBondActivity</th>\n",
       "      <th>Sector</th>\n",
       "      <th>Subsector</th>\n",
       "      <th>Region_x</th>\n",
       "      <th>Country</th>\n",
       "      <th>TickerIdx</th>\n",
       "      <th>ActualMaturityDateKey</th>\n",
       "      <th>IssueDateKey</th>\n",
       "      <th>Seniority</th>\n",
       "      <th>Currency</th>\n",
       "      <th>ActivityGroup</th>\n",
       "      <th>Region_y</th>\n",
       "      <th>Activity</th>\n",
       "      <th>RiskCaptain</th>\n",
       "      <th>Owner</th>\n",
       "      <th>CompositeRating</th>\n",
       "      <th>IndustrySector</th>\n",
       "      <th>IndustrySubgroup</th>\n",
       "      <th>MarketIssue</th>\n",
       "      <th>IssuedAmount</th>\n",
       "      <th>CouponType</th>\n",
       "      <th>week</th>\n",
       "      <th>Week1_Price</th>\n",
       "      <th>Week1_Yield</th>\n",
       "      <th>Week1_ZSpread</th>\n",
       "      <th>Week2_Price</th>\n",
       "      <th>Week2_Yield</th>\n",
       "      <th>Week2_ZSpread</th>\n",
       "      <th>Week4_Price</th>\n",
       "      <th>Week4_Yield</th>\n",
       "      <th>Week4_ZSpread</th>\n",
       "      <th>Week8_Price</th>\n",
       "      <th>Week8_Yield</th>\n",
       "      <th>Week8_ZSpread</th>\n",
       "      <th>Week13_Price</th>\n",
       "      <th>Week13_Yield</th>\n",
       "      <th>Week13_ZSpread</th>\n",
       "    </tr>\n",
       "  </thead>\n",
       "  <tbody>\n",
       "    <tr>\n",
       "      <th>0</th>\n",
       "      <td>20180226</td>\n",
       "      <td>0</td>\n",
       "      <td>21856</td>\n",
       "      <td>Buy</td>\n",
       "      <td>0.0</td>\n",
       "      <td>240</td>\n",
       "      <td>240</td>\n",
       "      <td>5</td>\n",
       "      <td>4</td>\n",
       "      <td>0</td>\n",
       "      <td>0</td>\n",
       "      <td>6</td>\n",
       "      <td>6</td>\n",
       "      <td>Asset Managers &amp; Hedge Funds</td>\n",
       "      <td>Independent Asset Manager</td>\n",
       "      <td>Asia Pacific</td>\n",
       "      <td>HONG KONG</td>\n",
       "      <td>1930</td>\n",
       "      <td>20190114</td>\n",
       "      <td>20140114</td>\n",
       "      <td>SEN</td>\n",
       "      <td>USD</td>\n",
       "      <td>FLOW LOCAL MARKET</td>\n",
       "      <td>ASIA-TOKYO</td>\n",
       "      <td>ASIA MARKET MAKING</td>\n",
       "      <td>ASIA HIGH YIELD</td>\n",
       "      <td>ASIA HIGH YIELD</td>\n",
       "      <td>B</td>\n",
       "      <td>Financial</td>\n",
       "      <td>Real Estate Oper/Develop</td>\n",
       "      <td>Euro-dollar</td>\n",
       "      <td>600000000.0</td>\n",
       "      <td>FIXED</td>\n",
       "      <td>164</td>\n",
       "      <td>0.100</td>\n",
       "      <td>-0.1976</td>\n",
       "      <td>-0.2276</td>\n",
       "      <td>0.1498</td>\n",
       "      <td>-0.3124</td>\n",
       "      <td>-0.4060</td>\n",
       "      <td>0.0748</td>\n",
       "      <td>-0.3504</td>\n",
       "      <td>-0.5326</td>\n",
       "      <td>-0.063</td>\n",
       "      <td>17.3852</td>\n",
       "      <td>14.9772</td>\n",
       "      <td>-0.0150</td>\n",
       "      <td>0.5340</td>\n",
       "      <td>-0.1974</td>\n",
       "    </tr>\n",
       "    <tr>\n",
       "      <th>1</th>\n",
       "      <td>20180226</td>\n",
       "      <td>0</td>\n",
       "      <td>21856</td>\n",
       "      <td>Sell</td>\n",
       "      <td>0.0</td>\n",
       "      <td>240</td>\n",
       "      <td>240</td>\n",
       "      <td>5</td>\n",
       "      <td>4</td>\n",
       "      <td>0</td>\n",
       "      <td>0</td>\n",
       "      <td>6</td>\n",
       "      <td>6</td>\n",
       "      <td>Asset Managers &amp; Hedge Funds</td>\n",
       "      <td>Independent Asset Manager</td>\n",
       "      <td>Asia Pacific</td>\n",
       "      <td>HONG KONG</td>\n",
       "      <td>1930</td>\n",
       "      <td>20190114</td>\n",
       "      <td>20140114</td>\n",
       "      <td>SEN</td>\n",
       "      <td>USD</td>\n",
       "      <td>FLOW LOCAL MARKET</td>\n",
       "      <td>ASIA-TOKYO</td>\n",
       "      <td>ASIA MARKET MAKING</td>\n",
       "      <td>ASIA HIGH YIELD</td>\n",
       "      <td>ASIA HIGH YIELD</td>\n",
       "      <td>B</td>\n",
       "      <td>Financial</td>\n",
       "      <td>Real Estate Oper/Develop</td>\n",
       "      <td>Euro-dollar</td>\n",
       "      <td>600000000.0</td>\n",
       "      <td>FIXED</td>\n",
       "      <td>164</td>\n",
       "      <td>0.100</td>\n",
       "      <td>-0.1976</td>\n",
       "      <td>-0.2276</td>\n",
       "      <td>0.1498</td>\n",
       "      <td>-0.3124</td>\n",
       "      <td>-0.4060</td>\n",
       "      <td>0.0748</td>\n",
       "      <td>-0.3504</td>\n",
       "      <td>-0.5326</td>\n",
       "      <td>-0.063</td>\n",
       "      <td>17.3852</td>\n",
       "      <td>14.9772</td>\n",
       "      <td>-0.0150</td>\n",
       "      <td>0.5340</td>\n",
       "      <td>-0.1974</td>\n",
       "    </tr>\n",
       "    <tr>\n",
       "      <th>2</th>\n",
       "      <td>20180226</td>\n",
       "      <td>0</td>\n",
       "      <td>24944</td>\n",
       "      <td>Buy</td>\n",
       "      <td>0.0</td>\n",
       "      <td>240</td>\n",
       "      <td>240</td>\n",
       "      <td>5</td>\n",
       "      <td>3</td>\n",
       "      <td>0</td>\n",
       "      <td>0</td>\n",
       "      <td>6</td>\n",
       "      <td>8</td>\n",
       "      <td>Asset Managers &amp; Hedge Funds</td>\n",
       "      <td>Independent Asset Manager</td>\n",
       "      <td>Asia Pacific</td>\n",
       "      <td>HONG KONG</td>\n",
       "      <td>1333</td>\n",
       "      <td>20230817</td>\n",
       "      <td>20160817</td>\n",
       "      <td>SEN</td>\n",
       "      <td>USD</td>\n",
       "      <td>FLOW LOCAL MARKET</td>\n",
       "      <td>ASIA-TOKYO</td>\n",
       "      <td>ASIA MARKET MAKING</td>\n",
       "      <td>ASIA HIGH YIELD</td>\n",
       "      <td>ASIA HIGH YIELD</td>\n",
       "      <td>NR</td>\n",
       "      <td>Financial</td>\n",
       "      <td>Property/Casualty Ins</td>\n",
       "      <td>Euro-dollar</td>\n",
       "      <td>590000000.0</td>\n",
       "      <td>FIXED</td>\n",
       "      <td>164</td>\n",
       "      <td>0.425</td>\n",
       "      <td>-0.0916</td>\n",
       "      <td>-0.0668</td>\n",
       "      <td>0.5250</td>\n",
       "      <td>-0.1124</td>\n",
       "      <td>-0.1404</td>\n",
       "      <td>-0.5000</td>\n",
       "      <td>0.1104</td>\n",
       "      <td>-0.0008</td>\n",
       "      <td>-1.300</td>\n",
       "      <td>0.2944</td>\n",
       "      <td>-0.2112</td>\n",
       "      <td>-0.9750</td>\n",
       "      <td>0.2142</td>\n",
       "      <td>-0.3842</td>\n",
       "    </tr>\n",
       "    <tr>\n",
       "      <th>3</th>\n",
       "      <td>20180226</td>\n",
       "      <td>0</td>\n",
       "      <td>24944</td>\n",
       "      <td>Sell</td>\n",
       "      <td>0.0</td>\n",
       "      <td>240</td>\n",
       "      <td>240</td>\n",
       "      <td>5</td>\n",
       "      <td>3</td>\n",
       "      <td>0</td>\n",
       "      <td>0</td>\n",
       "      <td>6</td>\n",
       "      <td>8</td>\n",
       "      <td>Asset Managers &amp; Hedge Funds</td>\n",
       "      <td>Independent Asset Manager</td>\n",
       "      <td>Asia Pacific</td>\n",
       "      <td>HONG KONG</td>\n",
       "      <td>1333</td>\n",
       "      <td>20230817</td>\n",
       "      <td>20160817</td>\n",
       "      <td>SEN</td>\n",
       "      <td>USD</td>\n",
       "      <td>FLOW LOCAL MARKET</td>\n",
       "      <td>ASIA-TOKYO</td>\n",
       "      <td>ASIA MARKET MAKING</td>\n",
       "      <td>ASIA HIGH YIELD</td>\n",
       "      <td>ASIA HIGH YIELD</td>\n",
       "      <td>NR</td>\n",
       "      <td>Financial</td>\n",
       "      <td>Property/Casualty Ins</td>\n",
       "      <td>Euro-dollar</td>\n",
       "      <td>590000000.0</td>\n",
       "      <td>FIXED</td>\n",
       "      <td>164</td>\n",
       "      <td>0.425</td>\n",
       "      <td>-0.0916</td>\n",
       "      <td>-0.0668</td>\n",
       "      <td>0.5250</td>\n",
       "      <td>-0.1124</td>\n",
       "      <td>-0.1404</td>\n",
       "      <td>-0.5000</td>\n",
       "      <td>0.1104</td>\n",
       "      <td>-0.0008</td>\n",
       "      <td>-1.300</td>\n",
       "      <td>0.2944</td>\n",
       "      <td>-0.2112</td>\n",
       "      <td>-0.9750</td>\n",
       "      <td>0.2142</td>\n",
       "      <td>-0.3842</td>\n",
       "    </tr>\n",
       "    <tr>\n",
       "      <th>4</th>\n",
       "      <td>20180226</td>\n",
       "      <td>0</td>\n",
       "      <td>25992</td>\n",
       "      <td>Buy</td>\n",
       "      <td>1.0</td>\n",
       "      <td>240</td>\n",
       "      <td>240</td>\n",
       "      <td>5</td>\n",
       "      <td>3</td>\n",
       "      <td>0</td>\n",
       "      <td>0</td>\n",
       "      <td>6</td>\n",
       "      <td>28</td>\n",
       "      <td>Asset Managers &amp; Hedge Funds</td>\n",
       "      <td>Independent Asset Manager</td>\n",
       "      <td>Asia Pacific</td>\n",
       "      <td>HONG KONG</td>\n",
       "      <td>744</td>\n",
       "      <td>20200601</td>\n",
       "      <td>20170601</td>\n",
       "      <td>SEN</td>\n",
       "      <td>USD</td>\n",
       "      <td>FLOW LOCAL MARKET</td>\n",
       "      <td>ASIA-TOKYO</td>\n",
       "      <td>ASIA MARKET MAKING</td>\n",
       "      <td>ASIA HIGH YIELD</td>\n",
       "      <td>ASIA HIGH YIELD</td>\n",
       "      <td>BB</td>\n",
       "      <td>Communications</td>\n",
       "      <td>Internet Connectiv Svcs</td>\n",
       "      <td>Euro-dollar</td>\n",
       "      <td>500000000.0</td>\n",
       "      <td>FIXED</td>\n",
       "      <td>164</td>\n",
       "      <td>0.075</td>\n",
       "      <td>-0.0258</td>\n",
       "      <td>-0.0292</td>\n",
       "      <td>0.0250</td>\n",
       "      <td>0.0072</td>\n",
       "      <td>-0.0730</td>\n",
       "      <td>-2.4450</td>\n",
       "      <td>1.1778</td>\n",
       "      <td>1.0248</td>\n",
       "      <td>-2.950</td>\n",
       "      <td>1.4000</td>\n",
       "      <td>1.0158</td>\n",
       "      <td>-2.8876</td>\n",
       "      <td>1.3616</td>\n",
       "      <td>0.8196</td>\n",
       "    </tr>\n",
       "  </tbody>\n",
       "</table>\n",
       "</div>"
      ],
      "text/plain": [
       "   TradeDateKey  CustomerIdx  IsinIdx BuySell  CustomerInterest  \\\n",
       "0      20180226            0    21856     Buy               0.0   \n",
       "1      20180226            0    21856    Sell               0.0   \n",
       "2      20180226            0    24944     Buy               0.0   \n",
       "3      20180226            0    24944    Sell               0.0   \n",
       "4      20180226            0    25992     Buy               1.0   \n",
       "\n",
       "   DaysSinceBuySell  DaysSinceTransaction  DaysSinceCustomerActivity  \\\n",
       "0               240                   240                          5   \n",
       "1               240                   240                          5   \n",
       "2               240                   240                          5   \n",
       "3               240                   240                          5   \n",
       "4               240                   240                          5   \n",
       "\n",
       "   DaysSinceBondActivity  DaysCountBuySell  DaysCountTransaction  \\\n",
       "0                      4                 0                     0   \n",
       "1                      4                 0                     0   \n",
       "2                      3                 0                     0   \n",
       "3                      3                 0                     0   \n",
       "4                      3                 0                     0   \n",
       "\n",
       "   DaysCountCustomerActivity  DaysCountBondActivity  \\\n",
       "0                          6                      6   \n",
       "1                          6                      6   \n",
       "2                          6                      8   \n",
       "3                          6                      8   \n",
       "4                          6                     28   \n",
       "\n",
       "                         Sector                  Subsector      Region_x  \\\n",
       "0  Asset Managers & Hedge Funds  Independent Asset Manager  Asia Pacific   \n",
       "1  Asset Managers & Hedge Funds  Independent Asset Manager  Asia Pacific   \n",
       "2  Asset Managers & Hedge Funds  Independent Asset Manager  Asia Pacific   \n",
       "3  Asset Managers & Hedge Funds  Independent Asset Manager  Asia Pacific   \n",
       "4  Asset Managers & Hedge Funds  Independent Asset Manager  Asia Pacific   \n",
       "\n",
       "     Country  TickerIdx  ActualMaturityDateKey  IssueDateKey Seniority  \\\n",
       "0  HONG KONG       1930               20190114      20140114       SEN   \n",
       "1  HONG KONG       1930               20190114      20140114       SEN   \n",
       "2  HONG KONG       1333               20230817      20160817       SEN   \n",
       "3  HONG KONG       1333               20230817      20160817       SEN   \n",
       "4  HONG KONG        744               20200601      20170601       SEN   \n",
       "\n",
       "  Currency      ActivityGroup    Region_y            Activity  \\\n",
       "0      USD  FLOW LOCAL MARKET  ASIA-TOKYO  ASIA MARKET MAKING   \n",
       "1      USD  FLOW LOCAL MARKET  ASIA-TOKYO  ASIA MARKET MAKING   \n",
       "2      USD  FLOW LOCAL MARKET  ASIA-TOKYO  ASIA MARKET MAKING   \n",
       "3      USD  FLOW LOCAL MARKET  ASIA-TOKYO  ASIA MARKET MAKING   \n",
       "4      USD  FLOW LOCAL MARKET  ASIA-TOKYO  ASIA MARKET MAKING   \n",
       "\n",
       "       RiskCaptain            Owner CompositeRating  IndustrySector  \\\n",
       "0  ASIA HIGH YIELD  ASIA HIGH YIELD               B       Financial   \n",
       "1  ASIA HIGH YIELD  ASIA HIGH YIELD               B       Financial   \n",
       "2  ASIA HIGH YIELD  ASIA HIGH YIELD              NR       Financial   \n",
       "3  ASIA HIGH YIELD  ASIA HIGH YIELD              NR       Financial   \n",
       "4  ASIA HIGH YIELD  ASIA HIGH YIELD              BB  Communications   \n",
       "\n",
       "           IndustrySubgroup  MarketIssue  IssuedAmount CouponType  week  \\\n",
       "0  Real Estate Oper/Develop  Euro-dollar   600000000.0      FIXED   164   \n",
       "1  Real Estate Oper/Develop  Euro-dollar   600000000.0      FIXED   164   \n",
       "2     Property/Casualty Ins  Euro-dollar   590000000.0      FIXED   164   \n",
       "3     Property/Casualty Ins  Euro-dollar   590000000.0      FIXED   164   \n",
       "4   Internet Connectiv Svcs  Euro-dollar   500000000.0      FIXED   164   \n",
       "\n",
       "   Week1_Price  Week1_Yield  Week1_ZSpread  Week2_Price  Week2_Yield  \\\n",
       "0        0.100      -0.1976        -0.2276       0.1498      -0.3124   \n",
       "1        0.100      -0.1976        -0.2276       0.1498      -0.3124   \n",
       "2        0.425      -0.0916        -0.0668       0.5250      -0.1124   \n",
       "3        0.425      -0.0916        -0.0668       0.5250      -0.1124   \n",
       "4        0.075      -0.0258        -0.0292       0.0250       0.0072   \n",
       "\n",
       "   Week2_ZSpread  Week4_Price  Week4_Yield  Week4_ZSpread  Week8_Price  \\\n",
       "0        -0.4060       0.0748      -0.3504        -0.5326       -0.063   \n",
       "1        -0.4060       0.0748      -0.3504        -0.5326       -0.063   \n",
       "2        -0.1404      -0.5000       0.1104        -0.0008       -1.300   \n",
       "3        -0.1404      -0.5000       0.1104        -0.0008       -1.300   \n",
       "4        -0.0730      -2.4450       1.1778         1.0248       -2.950   \n",
       "\n",
       "   Week8_Yield  Week8_ZSpread  Week13_Price  Week13_Yield  Week13_ZSpread  \n",
       "0      17.3852        14.9772       -0.0150        0.5340         -0.1974  \n",
       "1      17.3852        14.9772       -0.0150        0.5340         -0.1974  \n",
       "2       0.2944        -0.2112       -0.9750        0.2142         -0.3842  \n",
       "3       0.2944        -0.2112       -0.9750        0.2142         -0.3842  \n",
       "4       1.4000         1.0158       -2.8876        1.3616          0.8196  "
      ]
     },
     "execution_count": 171,
     "metadata": {},
     "output_type": "execute_result"
    }
   ],
   "source": [
    "df.head(5)"
   ]
  },
  {
   "cell_type": "code",
   "execution_count": 11,
   "metadata": {},
   "outputs": [],
   "source": [
    "df['PreviousWeek'] = df['week'] - 1"
   ]
  },
  {
   "cell_type": "code",
   "execution_count": 12,
   "metadata": {},
   "outputs": [
    {
     "data": {
      "text/plain": [
       "(1980431, 484758)"
      ]
     },
     "execution_count": 12,
     "metadata": {},
     "output_type": "execute_result"
    }
   ],
   "source": [
    "len(weekly_averages), len(df)"
   ]
  },
  {
   "cell_type": "code",
   "execution_count": 13,
   "metadata": {},
   "outputs": [
    {
     "name": "stdout",
     "output_type": "stream",
     "text": [
      "CPU times: user 1min 8s, sys: 272 ms, total: 1min 8s\n",
      "Wall time: 1min 8s\n"
     ]
    }
   ],
   "source": [
    "%%time\n",
    "from collections import defaultdict\n",
    "weekly_dict = weekly_averages.to_dict('index')\n",
    "averages = defaultdict(dict)\n",
    "for k in weekly_dict:\n",
    "    averages[k[0]][k[1]] = weekly_dict[k]"
   ]
  },
  {
   "cell_type": "code",
   "execution_count": 14,
   "metadata": {},
   "outputs": [
    {
     "data": {
      "text/plain": [
       "{'Price': 104.25, 'Yield': 7.835, 'ZSpread': 5.505}"
      ]
     },
     "execution_count": 14,
     "metadata": {},
     "output_type": "execute_result"
    }
   ],
   "source": [
    "averages[1][51]"
   ]
  },
  {
   "cell_type": "code",
   "execution_count": 15,
   "metadata": {},
   "outputs": [],
   "source": [
    "default_price = {'Price': 100, 'Yield': 0, 'ZSpread': 0}"
   ]
  },
  {
   "cell_type": "code",
   "execution_count": 16,
   "metadata": {},
   "outputs": [],
   "source": [
    "from tqdm._tqdm_notebook import tqdm_notebook\n",
    "tqdm_notebook.pandas()"
   ]
  },
  {
   "cell_type": "code",
   "execution_count": 18,
   "metadata": {},
   "outputs": [
    {
     "data": {
      "application/vnd.jupyter.widget-view+json": {
       "model_id": "eef9a8fba5d0490fa93c113eb5b4a24e",
       "version_major": 2,
       "version_minor": 0
      },
      "text/html": [
       "<p>Failed to display Jupyter Widget of type <code>HBox</code>.</p>\n",
       "<p>\n",
       "  If you're reading this message in the Jupyter Notebook or JupyterLab Notebook, it may mean\n",
       "  that the widgets JavaScript is still loading. If this message persists, it\n",
       "  likely means that the widgets JavaScript library is either not installed or\n",
       "  not enabled. See the <a href=\"https://ipywidgets.readthedocs.io/en/stable/user_install.html\">Jupyter\n",
       "  Widgets Documentation</a> for setup instructions.\n",
       "</p>\n",
       "<p>\n",
       "  If you're reading this message in another frontend (for example, a static\n",
       "  rendering on GitHub or <a href=\"https://nbviewer.jupyter.org/\">NBViewer</a>),\n",
       "  it may mean that your frontend doesn't currently support widgets.\n",
       "</p>\n"
      ],
      "text/plain": [
       "HBox(children=(IntProgress(value=0, max=484758), HTML(value='')))"
      ]
     },
     "metadata": {},
     "output_type": "display_data"
    }
   ],
   "source": [
    "last_prices = df.progress_apply(lambda r: \\\n",
    "                averages[r.IsinIdx][r.PreviousWeek] \\\n",
    "                if r.IsinIdx in averages and \\\n",
    "                   r.PreviousWeek in averages[r.IsinIdx]\n",
    "                else default_price, axis=1)"
   ]
  },
  {
   "cell_type": "code",
   "execution_count": 22,
   "metadata": {},
   "outputs": [],
   "source": [
    "d = pd.DataFrame(list(last_prices))"
   ]
  },
  {
   "cell_type": "code",
   "execution_count": 33,
   "metadata": {},
   "outputs": [],
   "source": [
    "for c in d:\n",
    "    df[c] = d[c]"
   ]
  },
  {
   "cell_type": "code",
   "execution_count": 34,
   "metadata": {},
   "outputs": [
    {
     "data": {
      "text/html": [
       "<div>\n",
       "<style scoped>\n",
       "    .dataframe tbody tr th:only-of-type {\n",
       "        vertical-align: middle;\n",
       "    }\n",
       "\n",
       "    .dataframe tbody tr th {\n",
       "        vertical-align: top;\n",
       "    }\n",
       "\n",
       "    .dataframe thead th {\n",
       "        text-align: right;\n",
       "    }\n",
       "</style>\n",
       "<table border=\"1\" class=\"dataframe\">\n",
       "  <thead>\n",
       "    <tr style=\"text-align: right;\">\n",
       "      <th></th>\n",
       "      <th>PredictionIdx</th>\n",
       "      <th>CustomerIdx</th>\n",
       "      <th>IsinIdx</th>\n",
       "      <th>BuySell</th>\n",
       "      <th>CustomerInterest</th>\n",
       "      <th>TradeDateKey</th>\n",
       "      <th>DaysSinceBuySell</th>\n",
       "      <th>DaysSinceTransaction</th>\n",
       "      <th>DaysSinceCustomerActivity</th>\n",
       "      <th>DaysSinceBondActivity</th>\n",
       "      <th>DaysCountBuySell</th>\n",
       "      <th>DaysCountTransaction</th>\n",
       "      <th>DaysCountCustomerActivity</th>\n",
       "      <th>DaysCountBondActivity</th>\n",
       "      <th>Sector</th>\n",
       "      <th>Subsector</th>\n",
       "      <th>Region_x</th>\n",
       "      <th>Country</th>\n",
       "      <th>TickerIdx</th>\n",
       "      <th>ActualMaturityDateKey</th>\n",
       "      <th>IssueDateKey</th>\n",
       "      <th>Seniority</th>\n",
       "      <th>Currency</th>\n",
       "      <th>ActivityGroup</th>\n",
       "      <th>Region_y</th>\n",
       "      <th>Activity</th>\n",
       "      <th>RiskCaptain</th>\n",
       "      <th>Owner</th>\n",
       "      <th>CompositeRating</th>\n",
       "      <th>IndustrySector</th>\n",
       "      <th>IndustrySubgroup</th>\n",
       "      <th>MarketIssue</th>\n",
       "      <th>IssuedAmount</th>\n",
       "      <th>CouponType</th>\n",
       "      <th>week</th>\n",
       "      <th>PreviousWeek</th>\n",
       "      <th>Price</th>\n",
       "      <th>Yield</th>\n",
       "      <th>ZSpread</th>\n",
       "    </tr>\n",
       "  </thead>\n",
       "  <tbody>\n",
       "    <tr>\n",
       "      <th>0</th>\n",
       "      <td>a1e0d80784</td>\n",
       "      <td>1856</td>\n",
       "      <td>13323</td>\n",
       "      <td>Buy</td>\n",
       "      <td>NaN</td>\n",
       "      <td>20180423</td>\n",
       "      <td>296</td>\n",
       "      <td>296</td>\n",
       "      <td>3</td>\n",
       "      <td>3</td>\n",
       "      <td>0</td>\n",
       "      <td>0</td>\n",
       "      <td>6291</td>\n",
       "      <td>34</td>\n",
       "      <td>Asset Managers &amp; Hedge Funds</td>\n",
       "      <td>Independent Asset Manager</td>\n",
       "      <td>Americas</td>\n",
       "      <td>USA</td>\n",
       "      <td>2740</td>\n",
       "      <td>20210315</td>\n",
       "      <td>20130314</td>\n",
       "      <td>SEN</td>\n",
       "      <td>USD</td>\n",
       "      <td>FLOW G10</td>\n",
       "      <td>AMERICAS</td>\n",
       "      <td>CDS AND HY</td>\n",
       "      <td>CDS AND HY</td>\n",
       "      <td>US TMT CDS</td>\n",
       "      <td>B-</td>\n",
       "      <td>Consumer, Non-cyclic</td>\n",
       "      <td>Printing-Commercial</td>\n",
       "      <td>Global</td>\n",
       "      <td>4.500000e+08</td>\n",
       "      <td>FIXED</td>\n",
       "      <td>172</td>\n",
       "      <td>171</td>\n",
       "      <td>104.9536</td>\n",
       "      <td>5.9860</td>\n",
       "      <td>3.2060</td>\n",
       "    </tr>\n",
       "    <tr>\n",
       "      <th>1</th>\n",
       "      <td>c2cc6cc2a8</td>\n",
       "      <td>1856</td>\n",
       "      <td>9230</td>\n",
       "      <td>Buy</td>\n",
       "      <td>NaN</td>\n",
       "      <td>20180423</td>\n",
       "      <td>14</td>\n",
       "      <td>14</td>\n",
       "      <td>3</td>\n",
       "      <td>3</td>\n",
       "      <td>3</td>\n",
       "      <td>4</td>\n",
       "      <td>6291</td>\n",
       "      <td>12</td>\n",
       "      <td>Asset Managers &amp; Hedge Funds</td>\n",
       "      <td>Independent Asset Manager</td>\n",
       "      <td>Americas</td>\n",
       "      <td>USA</td>\n",
       "      <td>1446</td>\n",
       "      <td>20240215</td>\n",
       "      <td>20131210</td>\n",
       "      <td>SEN</td>\n",
       "      <td>USD</td>\n",
       "      <td>FLOW G10</td>\n",
       "      <td>AMERICAS</td>\n",
       "      <td>CDS AND HY</td>\n",
       "      <td>CDS AND HY</td>\n",
       "      <td>US HY FIN AUTOS</td>\n",
       "      <td>B</td>\n",
       "      <td>Financial</td>\n",
       "      <td>Multi-line Insurance</td>\n",
       "      <td>US domestic</td>\n",
       "      <td>4.000000e+08</td>\n",
       "      <td>FIXED</td>\n",
       "      <td>172</td>\n",
       "      <td>171</td>\n",
       "      <td>79.9826</td>\n",
       "      <td>9.3346</td>\n",
       "      <td>6.4750</td>\n",
       "    </tr>\n",
       "    <tr>\n",
       "      <th>2</th>\n",
       "      <td>a8e94f6344</td>\n",
       "      <td>1780</td>\n",
       "      <td>9157</td>\n",
       "      <td>Buy</td>\n",
       "      <td>NaN</td>\n",
       "      <td>20180423</td>\n",
       "      <td>296</td>\n",
       "      <td>296</td>\n",
       "      <td>3</td>\n",
       "      <td>296</td>\n",
       "      <td>0</td>\n",
       "      <td>0</td>\n",
       "      <td>2783</td>\n",
       "      <td>0</td>\n",
       "      <td>Asset Managers &amp; Hedge Funds</td>\n",
       "      <td>Asset Mgr owned by Bank/Insur.</td>\n",
       "      <td>Americas</td>\n",
       "      <td>USA</td>\n",
       "      <td>1387</td>\n",
       "      <td>20360815</td>\n",
       "      <td>20060815</td>\n",
       "      <td>SEN</td>\n",
       "      <td>USD</td>\n",
       "      <td>FLOW G10</td>\n",
       "      <td>AMERICAS</td>\n",
       "      <td>HG CASH</td>\n",
       "      <td>HG CASH FIN</td>\n",
       "      <td>US FIN SHORT CASH</td>\n",
       "      <td>A+</td>\n",
       "      <td>Industrial</td>\n",
       "      <td>Diversified Manufact Op</td>\n",
       "      <td>Domestic mtn</td>\n",
       "      <td>3.000000e+08</td>\n",
       "      <td>FLOATING</td>\n",
       "      <td>172</td>\n",
       "      <td>171</td>\n",
       "      <td>85.2818</td>\n",
       "      <td>4.8082</td>\n",
       "      <td>1.9010</td>\n",
       "    </tr>\n",
       "    <tr>\n",
       "      <th>3</th>\n",
       "      <td>758bae1e35</td>\n",
       "      <td>2129</td>\n",
       "      <td>9131</td>\n",
       "      <td>Buy</td>\n",
       "      <td>NaN</td>\n",
       "      <td>20180423</td>\n",
       "      <td>296</td>\n",
       "      <td>296</td>\n",
       "      <td>3</td>\n",
       "      <td>11</td>\n",
       "      <td>0</td>\n",
       "      <td>0</td>\n",
       "      <td>340</td>\n",
       "      <td>43</td>\n",
       "      <td>Asset Owners</td>\n",
       "      <td>Insurance</td>\n",
       "      <td>Americas</td>\n",
       "      <td>USA</td>\n",
       "      <td>1387</td>\n",
       "      <td>20180501</td>\n",
       "      <td>20080421</td>\n",
       "      <td>SEN</td>\n",
       "      <td>USD</td>\n",
       "      <td>FLOW G10</td>\n",
       "      <td>AMERICAS</td>\n",
       "      <td>HG CASH</td>\n",
       "      <td>HG CASH FIN</td>\n",
       "      <td>US FIN SHORT CASH</td>\n",
       "      <td>A+</td>\n",
       "      <td>Industrial</td>\n",
       "      <td>Diversified Manufact Op</td>\n",
       "      <td>Global</td>\n",
       "      <td>4.000000e+09</td>\n",
       "      <td>FIXED</td>\n",
       "      <td>172</td>\n",
       "      <td>171</td>\n",
       "      <td>100.0000</td>\n",
       "      <td>0.0000</td>\n",
       "      <td>0.0000</td>\n",
       "    </tr>\n",
       "    <tr>\n",
       "      <th>4</th>\n",
       "      <td>02ab378ee8</td>\n",
       "      <td>1758</td>\n",
       "      <td>7151</td>\n",
       "      <td>Buy</td>\n",
       "      <td>NaN</td>\n",
       "      <td>20180423</td>\n",
       "      <td>296</td>\n",
       "      <td>296</td>\n",
       "      <td>3</td>\n",
       "      <td>33</td>\n",
       "      <td>0</td>\n",
       "      <td>0</td>\n",
       "      <td>1239</td>\n",
       "      <td>1</td>\n",
       "      <td>Asset Managers &amp; Hedge Funds</td>\n",
       "      <td>Asset Mgr owned by Bank/Insur.</td>\n",
       "      <td>Americas</td>\n",
       "      <td>USA</td>\n",
       "      <td>1290</td>\n",
       "      <td>20181115</td>\n",
       "      <td>20081118</td>\n",
       "      <td>SEN</td>\n",
       "      <td>USD</td>\n",
       "      <td>FLOW G10</td>\n",
       "      <td>AMERICAS</td>\n",
       "      <td>HG CASH</td>\n",
       "      <td>HG CASH NONFIN</td>\n",
       "      <td>US ENERGY CASH</td>\n",
       "      <td>BBB+</td>\n",
       "      <td>Utilities</td>\n",
       "      <td>Electric-Integrated</td>\n",
       "      <td>US domestic</td>\n",
       "      <td>3.000000e+08</td>\n",
       "      <td>FIXED</td>\n",
       "      <td>172</td>\n",
       "      <td>171</td>\n",
       "      <td>103.2588</td>\n",
       "      <td>0.1088</td>\n",
       "      <td>-2.3392</td>\n",
       "    </tr>\n",
       "  </tbody>\n",
       "</table>\n",
       "</div>"
      ],
      "text/plain": [
       "  PredictionIdx  CustomerIdx  IsinIdx BuySell  CustomerInterest  TradeDateKey  \\\n",
       "0    a1e0d80784         1856    13323     Buy               NaN      20180423   \n",
       "1    c2cc6cc2a8         1856     9230     Buy               NaN      20180423   \n",
       "2    a8e94f6344         1780     9157     Buy               NaN      20180423   \n",
       "3    758bae1e35         2129     9131     Buy               NaN      20180423   \n",
       "4    02ab378ee8         1758     7151     Buy               NaN      20180423   \n",
       "\n",
       "   DaysSinceBuySell  DaysSinceTransaction  DaysSinceCustomerActivity  \\\n",
       "0               296                   296                          3   \n",
       "1                14                    14                          3   \n",
       "2               296                   296                          3   \n",
       "3               296                   296                          3   \n",
       "4               296                   296                          3   \n",
       "\n",
       "   DaysSinceBondActivity  DaysCountBuySell  DaysCountTransaction  \\\n",
       "0                      3                 0                     0   \n",
       "1                      3                 3                     4   \n",
       "2                    296                 0                     0   \n",
       "3                     11                 0                     0   \n",
       "4                     33                 0                     0   \n",
       "\n",
       "   DaysCountCustomerActivity  DaysCountBondActivity  \\\n",
       "0                       6291                     34   \n",
       "1                       6291                     12   \n",
       "2                       2783                      0   \n",
       "3                        340                     43   \n",
       "4                       1239                      1   \n",
       "\n",
       "                         Sector                       Subsector  Region_x  \\\n",
       "0  Asset Managers & Hedge Funds       Independent Asset Manager  Americas   \n",
       "1  Asset Managers & Hedge Funds       Independent Asset Manager  Americas   \n",
       "2  Asset Managers & Hedge Funds  Asset Mgr owned by Bank/Insur.  Americas   \n",
       "3                  Asset Owners                       Insurance  Americas   \n",
       "4  Asset Managers & Hedge Funds  Asset Mgr owned by Bank/Insur.  Americas   \n",
       "\n",
       "  Country  TickerIdx  ActualMaturityDateKey  IssueDateKey Seniority Currency  \\\n",
       "0     USA       2740               20210315      20130314       SEN      USD   \n",
       "1     USA       1446               20240215      20131210       SEN      USD   \n",
       "2     USA       1387               20360815      20060815       SEN      USD   \n",
       "3     USA       1387               20180501      20080421       SEN      USD   \n",
       "4     USA       1290               20181115      20081118       SEN      USD   \n",
       "\n",
       "  ActivityGroup  Region_y    Activity     RiskCaptain              Owner  \\\n",
       "0      FLOW G10  AMERICAS  CDS AND HY      CDS AND HY         US TMT CDS   \n",
       "1      FLOW G10  AMERICAS  CDS AND HY      CDS AND HY    US HY FIN AUTOS   \n",
       "2      FLOW G10  AMERICAS     HG CASH     HG CASH FIN  US FIN SHORT CASH   \n",
       "3      FLOW G10  AMERICAS     HG CASH     HG CASH FIN  US FIN SHORT CASH   \n",
       "4      FLOW G10  AMERICAS     HG CASH  HG CASH NONFIN     US ENERGY CASH   \n",
       "\n",
       "  CompositeRating        IndustrySector         IndustrySubgroup  \\\n",
       "0              B-  Consumer, Non-cyclic      Printing-Commercial   \n",
       "1               B             Financial     Multi-line Insurance   \n",
       "2              A+            Industrial  Diversified Manufact Op   \n",
       "3              A+            Industrial  Diversified Manufact Op   \n",
       "4            BBB+             Utilities      Electric-Integrated   \n",
       "\n",
       "    MarketIssue  IssuedAmount CouponType  week  PreviousWeek     Price  \\\n",
       "0        Global  4.500000e+08      FIXED   172           171  104.9536   \n",
       "1   US domestic  4.000000e+08      FIXED   172           171   79.9826   \n",
       "2  Domestic mtn  3.000000e+08   FLOATING   172           171   85.2818   \n",
       "3        Global  4.000000e+09      FIXED   172           171  100.0000   \n",
       "4   US domestic  3.000000e+08      FIXED   172           171  103.2588   \n",
       "\n",
       "    Yield  ZSpread  \n",
       "0  5.9860   3.2060  \n",
       "1  9.3346   6.4750  \n",
       "2  4.8082   1.9010  \n",
       "3  0.0000   0.0000  \n",
       "4  0.1088  -2.3392  "
      ]
     },
     "execution_count": 34,
     "metadata": {},
     "output_type": "execute_result"
    }
   ],
   "source": [
    "df.head()"
   ]
  },
  {
   "cell_type": "code",
   "execution_count": 23,
   "metadata": {},
   "outputs": [
    {
     "data": {
      "text/html": [
       "<div>\n",
       "<style scoped>\n",
       "    .dataframe tbody tr th:only-of-type {\n",
       "        vertical-align: middle;\n",
       "    }\n",
       "\n",
       "    .dataframe tbody tr th {\n",
       "        vertical-align: top;\n",
       "    }\n",
       "\n",
       "    .dataframe thead th {\n",
       "        text-align: right;\n",
       "    }\n",
       "</style>\n",
       "<table border=\"1\" class=\"dataframe\">\n",
       "  <thead>\n",
       "    <tr style=\"text-align: right;\">\n",
       "      <th></th>\n",
       "      <th>Price</th>\n",
       "      <th>Yield</th>\n",
       "      <th>ZSpread</th>\n",
       "    </tr>\n",
       "  </thead>\n",
       "  <tbody>\n",
       "    <tr>\n",
       "      <th>0</th>\n",
       "      <td>104.9536</td>\n",
       "      <td>5.9860</td>\n",
       "      <td>3.2060</td>\n",
       "    </tr>\n",
       "    <tr>\n",
       "      <th>1</th>\n",
       "      <td>79.9826</td>\n",
       "      <td>9.3346</td>\n",
       "      <td>6.4750</td>\n",
       "    </tr>\n",
       "    <tr>\n",
       "      <th>2</th>\n",
       "      <td>85.2818</td>\n",
       "      <td>4.8082</td>\n",
       "      <td>1.9010</td>\n",
       "    </tr>\n",
       "    <tr>\n",
       "      <th>3</th>\n",
       "      <td>100.0000</td>\n",
       "      <td>0.0000</td>\n",
       "      <td>0.0000</td>\n",
       "    </tr>\n",
       "    <tr>\n",
       "      <th>4</th>\n",
       "      <td>103.2588</td>\n",
       "      <td>0.1088</td>\n",
       "      <td>-2.3392</td>\n",
       "    </tr>\n",
       "  </tbody>\n",
       "</table>\n",
       "</div>"
      ],
      "text/plain": [
       "      Price   Yield  ZSpread\n",
       "0  104.9536  5.9860   3.2060\n",
       "1   79.9826  9.3346   6.4750\n",
       "2   85.2818  4.8082   1.9010\n",
       "3  100.0000  0.0000   0.0000\n",
       "4  103.2588  0.1088  -2.3392"
      ]
     },
     "execution_count": 23,
     "metadata": {},
     "output_type": "execute_result"
    }
   ],
   "source": [
    "d.head()"
   ]
  },
  {
   "cell_type": "code",
   "execution_count": null,
   "metadata": {},
   "outputs": [],
   "source": [
    "13323, 171"
   ]
  },
  {
   "cell_type": "code",
   "execution_count": 26,
   "metadata": {},
   "outputs": [
    {
     "data": {
      "text/plain": [
       "{'Price': 104.95360000000001, 'Yield': 5.986, 'ZSpread': 3.2060000000000004}"
      ]
     },
     "execution_count": 26,
     "metadata": {},
     "output_type": "execute_result"
    }
   ],
   "source": [
    "averages[13323][171]"
   ]
  },
  {
   "cell_type": "code",
   "execution_count": 24,
   "metadata": {},
   "outputs": [
    {
     "data": {
      "text/plain": [
       "(484758, 484758)"
      ]
     },
     "execution_count": 24,
     "metadata": {},
     "output_type": "execute_result"
    }
   ],
   "source": [
    "len(d), len(df)"
   ]
  },
  {
   "cell_type": "code",
   "execution_count": 19,
   "metadata": {},
   "outputs": [
    {
     "data": {
      "text/plain": [
       "0    {'Price': 104.95360000000001, 'Yield': 5.986, ...\n",
       "1    {'Price': 79.9826, 'Yield': 9.334599999999998,...\n",
       "2    {'Price': 85.2818, 'Yield': 4.808199999999999,...\n",
       "3             {'Price': 100, 'Yield': 0, 'ZSpread': 0}\n",
       "4    {'Price': 103.2588, 'Yield': 0.108800000000000...\n",
       "dtype: object"
      ]
     },
     "execution_count": 19,
     "metadata": {},
     "output_type": "execute_result"
    }
   ],
   "source": [
    "last_prices.head()"
   ]
  }
 ],
 "metadata": {
  "kernelspec": {
   "display_name": "Python 3",
   "language": "python",
   "name": "python3"
  },
  "language_info": {
   "codemirror_mode": {
    "name": "ipython",
    "version": 3
   },
   "file_extension": ".py",
   "mimetype": "text/x-python",
   "name": "python",
   "nbconvert_exporter": "python",
   "pygments_lexer": "ipython3",
   "version": "3.6.4"
  }
 },
 "nbformat": 4,
 "nbformat_minor": 2
}
