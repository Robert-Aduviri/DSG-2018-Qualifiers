{
 "cells": [
  {
   "cell_type": "code",
   "execution_count": 1,
   "metadata": {},
   "outputs": [],
   "source": [
    "%load_ext autoreload\n",
    "%autoreload 2\n",
    "%matplotlib inline\n",
    "%config InlineBackend.figure_format = 'retina'\n",
    "\n",
    "import os, math\n",
    "import numpy as np, pandas as pd\n",
    "import matplotlib.pyplot as plt, seaborn as sns\n",
    "from pandas_summary import DataFrameSummary\n",
    "from tqdm import tqdm, tqdm_notebook\n",
    "from pathlib import Path\n",
    "pd.set_option('display.max_columns', 1000)\n",
    "pd.set_option('display.max_rows', 400)\n",
    "sns.set()\n",
    "\n",
    "os.chdir('../..')\n",
    "from src import utils"
   ]
  },
  {
   "cell_type": "code",
   "execution_count": 2,
   "metadata": {},
   "outputs": [],
   "source": [
    "DATA        = Path('data')\n",
    "RAW         = DATA/'raw'\n",
    "INTERIM     = DATA/'interim'\n",
    "PROCESSED   = DATA/'processed'\n",
    "SUBMISSIONS = DATA/'submissions'"
   ]
  },
  {
   "cell_type": "code",
   "execution_count": 3,
   "metadata": {},
   "outputs": [],
   "source": [
    "challenge  = pd.read_csv(RAW/'Challenge_20180423.csv', low_memory=False)\n",
    "customer   = pd.read_csv(RAW/'Customer.csv', low_memory=False)\n",
    "isin       = pd.read_csv(RAW/'Isin.csv', low_memory=False)\n",
    "submission = pd.read_csv(RAW/'sample_submission.csv', low_memory=False)\n",
    "trade      = pd.read_csv(RAW/'Trade.csv', low_memory=False)\n",
    "market     = pd.read_csv(RAW/'Market.csv', low_memory=False)"
   ]
  },
  {
   "cell_type": "code",
   "execution_count": 4,
   "metadata": {},
   "outputs": [],
   "source": [
    "week_labels = [20180226, 20180305, 20180312, 20180319, \n",
    "               20180326, 20180402, 20180409, 20180416, 20180423]"
   ]
  },
  {
   "cell_type": "code",
   "execution_count": 5,
   "metadata": {},
   "outputs": [
    {
     "name": "stdout",
     "output_type": "stream",
     "text": [
      "CPU times: user 4.48 s, sys: 2.7 s, total: 7.18 s\n",
      "Wall time: 13.3 s\n"
     ]
    }
   ],
   "source": [
    "%%time\n",
    "weeks = []\n",
    "for name in week_labels:\n",
    "    weeks.append(pd.read_feather(PROCESSED/f'week_{name % 10000:04}_diffscount.feather'))"
   ]
  },
  {
   "cell_type": "code",
   "execution_count": 12,
   "metadata": {},
   "outputs": [],
   "source": [
    "from src.utils import get_weeks, week_num"
   ]
  },
  {
   "cell_type": "code",
   "execution_count": 15,
   "metadata": {},
   "outputs": [],
   "source": [
    "all_weeks = get_weeks()\n",
    "for w in weeks:\n",
    "    w['week'] = w.TradeDateKey.apply(lambda x: week_num(all_weeks, x))"
   ]
  },
  {
   "cell_type": "code",
   "execution_count": 24,
   "metadata": {},
   "outputs": [],
   "source": [
    "market['week'] = market.DateKey.apply(lambda x: week_num(all_weeks, x))"
   ]
  },
  {
   "cell_type": "code",
   "execution_count": 25,
   "metadata": {},
   "outputs": [
    {
     "name": "stdout",
     "output_type": "stream",
     "text": [
      "CPU times: user 1.52 s, sys: 680 ms, total: 2.2 s\n",
      "Wall time: 2.66 s\n"
     ]
    }
   ],
   "source": [
    "%%time\n",
    "weekly_averages = market.groupby(['IsinIdx', 'week'])[['Price', 'Yield', 'ZSpread']].agg('mean')"
   ]
  },
  {
   "cell_type": "code",
   "execution_count": null,
   "metadata": {},
   "outputs": [],
   "source": [
    "def get_previous_weeks(current_week, previous_weeks):\n",
    "    weeks_idxs = [current_week - w_off for w_off in previous_weeks]\n",
    "    return weekly_values.loc[current_week] - weekly_values.loc[weeks_idxs] "
   ]
  },
  {
   "cell_type": "code",
   "execution_count": 27,
   "metadata": {},
   "outputs": [],
   "source": [
    "df = weeks[0].copy()"
   ]
  },
  {
   "cell_type": "code",
   "execution_count": null,
   "metadata": {},
   "outputs": [],
   "source": [
    "df.set_index()"
   ]
  },
  {
   "cell_type": "code",
   "execution_count": 78,
   "metadata": {},
   "outputs": [],
   "source": [
    "from itertools import product\n",
    "\n",
    "def get_previous_weeks(row, weekly_averages, previous_weeks):\n",
    "    weeks_idxs = [row['week'] - w_off for w_off in previous_weeks]\n",
    "    result = weekly_averages.loc[(row['IsinIdx'], row['week'])] - \\\n",
    "             weekly_averages.loc[row['IsinIdx']].loc[weeks_idxs]\n",
    "    result['WeekOffset'] = previous_weeks\n",
    "    result.set_index('WeekOffset', inplace=True)\n",
    "    return pd.Series(result.values.reshape(-1), \n",
    "                     index=[f'Week{wo}_{col}' \\\n",
    "           for wo, col in product(list(res.index), list(res.columns))])"
   ]
  },
  {
   "cell_type": "code",
   "execution_count": 54,
   "metadata": {},
   "outputs": [
    {
     "data": {
      "text/html": [
       "<div>\n",
       "<style scoped>\n",
       "    .dataframe tbody tr th:only-of-type {\n",
       "        vertical-align: middle;\n",
       "    }\n",
       "\n",
       "    .dataframe tbody tr th {\n",
       "        vertical-align: top;\n",
       "    }\n",
       "\n",
       "    .dataframe thead th {\n",
       "        text-align: right;\n",
       "    }\n",
       "</style>\n",
       "<table border=\"1\" class=\"dataframe\">\n",
       "  <thead>\n",
       "    <tr style=\"text-align: right;\">\n",
       "      <th></th>\n",
       "      <th>Price</th>\n",
       "      <th>Yield</th>\n",
       "      <th>ZSpread</th>\n",
       "    </tr>\n",
       "    <tr>\n",
       "      <th>WeekOffset</th>\n",
       "      <th></th>\n",
       "      <th></th>\n",
       "      <th></th>\n",
       "    </tr>\n",
       "  </thead>\n",
       "  <tbody>\n",
       "    <tr>\n",
       "      <th>1</th>\n",
       "      <td>0.1000</td>\n",
       "      <td>-0.1976</td>\n",
       "      <td>-0.2276</td>\n",
       "    </tr>\n",
       "    <tr>\n",
       "      <th>2</th>\n",
       "      <td>0.1498</td>\n",
       "      <td>-0.3124</td>\n",
       "      <td>-0.4060</td>\n",
       "    </tr>\n",
       "    <tr>\n",
       "      <th>4</th>\n",
       "      <td>0.0748</td>\n",
       "      <td>-0.3504</td>\n",
       "      <td>-0.5326</td>\n",
       "    </tr>\n",
       "    <tr>\n",
       "      <th>8</th>\n",
       "      <td>-0.0630</td>\n",
       "      <td>17.3852</td>\n",
       "      <td>14.9772</td>\n",
       "    </tr>\n",
       "    <tr>\n",
       "      <th>16</th>\n",
       "      <td>-0.5374</td>\n",
       "      <td>2.2662</td>\n",
       "      <td>1.4282</td>\n",
       "    </tr>\n",
       "  </tbody>\n",
       "</table>\n",
       "</div>"
      ],
      "text/plain": [
       "             Price    Yield  ZSpread\n",
       "WeekOffset                          \n",
       "1           0.1000  -0.1976  -0.2276\n",
       "2           0.1498  -0.3124  -0.4060\n",
       "4           0.0748  -0.3504  -0.5326\n",
       "8          -0.0630  17.3852  14.9772\n",
       "16         -0.5374   2.2662   1.4282"
      ]
     },
     "execution_count": 54,
     "metadata": {},
     "output_type": "execute_result"
    }
   ],
   "source": [
    "res = get_previous_weeks(df.loc[0], weekly_averages, [1,2,4,8,16])\n",
    "res"
   ]
  },
  {
   "cell_type": "code",
   "execution_count": 79,
   "metadata": {},
   "outputs": [
    {
     "data": {
      "text/plain": [
       "Week1_Price        0.1000\n",
       "Week1_Yield       -0.1976\n",
       "Week1_ZSpread     -0.2276\n",
       "Week2_Price        0.1498\n",
       "Week2_Yield       -0.3124\n",
       "Week2_ZSpread     -0.4060\n",
       "Week4_Price        0.0748\n",
       "Week4_Yield       -0.3504\n",
       "Week4_ZSpread     -0.5326\n",
       "Week8_Price       -0.0630\n",
       "Week8_Yield       17.3852\n",
       "Week8_ZSpread     14.9772\n",
       "Week16_Price      -0.5374\n",
       "Week16_Yield       2.2662\n",
       "Week16_ZSpread     1.4282\n",
       "dtype: float64"
      ]
     },
     "execution_count": 79,
     "metadata": {},
     "output_type": "execute_result"
    }
   ],
   "source": [
    "get_previous_weeks(df.loc[0], weekly_averages, [1,2,4,8,16])"
   ]
  },
  {
   "cell_type": "code",
   "execution_count": 64,
   "metadata": {},
   "outputs": [
    {
     "data": {
      "text/html": [
       "<div>\n",
       "<style scoped>\n",
       "    .dataframe tbody tr th:only-of-type {\n",
       "        vertical-align: middle;\n",
       "    }\n",
       "\n",
       "    .dataframe tbody tr th {\n",
       "        vertical-align: top;\n",
       "    }\n",
       "\n",
       "    .dataframe thead th {\n",
       "        text-align: right;\n",
       "    }\n",
       "</style>\n",
       "<table border=\"1\" class=\"dataframe\">\n",
       "  <thead>\n",
       "    <tr style=\"text-align: right;\">\n",
       "      <th></th>\n",
       "      <th>Price</th>\n",
       "      <th>Yield</th>\n",
       "      <th>ZSpread</th>\n",
       "    </tr>\n",
       "    <tr>\n",
       "      <th>WeekOffset</th>\n",
       "      <th></th>\n",
       "      <th></th>\n",
       "      <th></th>\n",
       "    </tr>\n",
       "  </thead>\n",
       "  <tbody>\n",
       "    <tr>\n",
       "      <th>1</th>\n",
       "      <td>0.1000</td>\n",
       "      <td>-0.1976</td>\n",
       "      <td>-0.2276</td>\n",
       "    </tr>\n",
       "    <tr>\n",
       "      <th>2</th>\n",
       "      <td>0.1498</td>\n",
       "      <td>-0.3124</td>\n",
       "      <td>-0.4060</td>\n",
       "    </tr>\n",
       "    <tr>\n",
       "      <th>3</th>\n",
       "      <td>0.2248</td>\n",
       "      <td>-0.4576</td>\n",
       "      <td>-0.6214</td>\n",
       "    </tr>\n",
       "    <tr>\n",
       "      <th>5</th>\n",
       "      <td>0.0374</td>\n",
       "      <td>-0.3594</td>\n",
       "      <td>-0.5816</td>\n",
       "    </tr>\n",
       "    <tr>\n",
       "      <th>8</th>\n",
       "      <td>-0.0630</td>\n",
       "      <td>17.3852</td>\n",
       "      <td>14.9772</td>\n",
       "    </tr>\n",
       "    <tr>\n",
       "      <th>13</th>\n",
       "      <td>-0.0150</td>\n",
       "      <td>0.5340</td>\n",
       "      <td>-0.1974</td>\n",
       "    </tr>\n",
       "  </tbody>\n",
       "</table>\n",
       "</div>"
      ],
      "text/plain": [
       "             Price    Yield  ZSpread\n",
       "WeekOffset                          \n",
       "1           0.1000  -0.1976  -0.2276\n",
       "2           0.1498  -0.3124  -0.4060\n",
       "3           0.2248  -0.4576  -0.6214\n",
       "5           0.0374  -0.3594  -0.5816\n",
       "8          -0.0630  17.3852  14.9772\n",
       "13         -0.0150   0.5340  -0.1974"
      ]
     },
     "execution_count": 64,
     "metadata": {},
     "output_type": "execute_result"
    }
   ],
   "source": [
    "get_previous_weeks(df.loc[0], weekly_averages, [1,2,3,5,8,13])"
   ]
  },
  {
   "cell_type": "code",
   "execution_count": 81,
   "metadata": {},
   "outputs": [],
   "source": [
    "%%time\n",
    "df_res = df.apply(lambda r: get_previous_weeks(r, weekly_averages, [1,2,4,8,16]), axis=1)"
   ]
  },
  {
   "cell_type": "code",
   "execution_count": null,
   "metadata": {},
   "outputs": [],
   "source": []
  },
  {
   "cell_type": "code",
   "execution_count": 26,
   "metadata": {},
   "outputs": [
    {
     "data": {
      "text/html": [
       "<div>\n",
       "<style scoped>\n",
       "    .dataframe tbody tr th:only-of-type {\n",
       "        vertical-align: middle;\n",
       "    }\n",
       "\n",
       "    .dataframe tbody tr th {\n",
       "        vertical-align: top;\n",
       "    }\n",
       "\n",
       "    .dataframe thead th {\n",
       "        text-align: right;\n",
       "    }\n",
       "</style>\n",
       "<table border=\"1\" class=\"dataframe\">\n",
       "  <thead>\n",
       "    <tr style=\"text-align: right;\">\n",
       "      <th></th>\n",
       "      <th></th>\n",
       "      <th>Price</th>\n",
       "      <th>Yield</th>\n",
       "      <th>ZSpread</th>\n",
       "    </tr>\n",
       "    <tr>\n",
       "      <th>IsinIdx</th>\n",
       "      <th>week</th>\n",
       "      <th></th>\n",
       "      <th></th>\n",
       "      <th></th>\n",
       "    </tr>\n",
       "  </thead>\n",
       "  <tbody>\n",
       "    <tr>\n",
       "      <th rowspan=\"5\" valign=\"top\">1</th>\n",
       "      <th>51</th>\n",
       "      <td>104.250</td>\n",
       "      <td>7.8350</td>\n",
       "      <td>5.5050</td>\n",
       "    </tr>\n",
       "    <tr>\n",
       "      <th>52</th>\n",
       "      <td>103.900</td>\n",
       "      <td>7.8706</td>\n",
       "      <td>5.6304</td>\n",
       "    </tr>\n",
       "    <tr>\n",
       "      <th>53</th>\n",
       "      <td>102.200</td>\n",
       "      <td>8.0458</td>\n",
       "      <td>5.9564</td>\n",
       "    </tr>\n",
       "    <tr>\n",
       "      <th>54</th>\n",
       "      <td>102.050</td>\n",
       "      <td>8.0614</td>\n",
       "      <td>6.0388</td>\n",
       "    </tr>\n",
       "    <tr>\n",
       "      <th>55</th>\n",
       "      <td>103.375</td>\n",
       "      <td>7.9232</td>\n",
       "      <td>5.9136</td>\n",
       "    </tr>\n",
       "  </tbody>\n",
       "</table>\n",
       "</div>"
      ],
      "text/plain": [
       "                Price   Yield  ZSpread\n",
       "IsinIdx week                          \n",
       "1       51    104.250  7.8350   5.5050\n",
       "        52    103.900  7.8706   5.6304\n",
       "        53    102.200  8.0458   5.9564\n",
       "        54    102.050  8.0614   6.0388\n",
       "        55    103.375  7.9232   5.9136"
      ]
     },
     "execution_count": 26,
     "metadata": {},
     "output_type": "execute_result"
    }
   ],
   "source": [
    "weekly_averages.head()"
   ]
  },
  {
   "cell_type": "code",
   "execution_count": null,
   "metadata": {},
   "outputs": [],
   "source": []
  },
  {
   "cell_type": "code",
   "execution_count": 20,
   "metadata": {},
   "outputs": [
    {
     "data": {
      "text/plain": [
       "count    484758.0\n",
       "mean        172.0\n",
       "std           0.0\n",
       "min         172.0\n",
       "25%         172.0\n",
       "50%         172.0\n",
       "75%         172.0\n",
       "max         172.0\n",
       "Name: week, dtype: float64"
      ]
     },
     "execution_count": 20,
     "metadata": {},
     "output_type": "execute_result"
    }
   ],
   "source": [
    "weeks[-1].week.describe()"
   ]
  }
 ],
 "metadata": {
  "kernelspec": {
   "display_name": "Python 3",
   "language": "python",
   "name": "python3"
  },
  "language_info": {
   "codemirror_mode": {
    "name": "ipython",
    "version": 3
   },
   "file_extension": ".py",
   "mimetype": "text/x-python",
   "name": "python",
   "nbconvert_exporter": "python",
   "pygments_lexer": "ipython3",
   "version": "3.6.4"
  }
 },
 "nbformat": 4,
 "nbformat_minor": 2
}
