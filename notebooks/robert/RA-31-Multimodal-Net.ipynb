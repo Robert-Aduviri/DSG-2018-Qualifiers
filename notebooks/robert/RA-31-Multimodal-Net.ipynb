{
 "cells": [
  {
   "cell_type": "code",
   "execution_count": 1,
   "metadata": {},
   "outputs": [],
   "source": [
    "%load_ext autoreload\n",
    "%autoreload 2\n",
    "%matplotlib inline\n",
    "%config InlineBackend.figure_format = 'retina'\n",
    "\n",
    "import os, math\n",
    "import numpy as np, pandas as pd\n",
    "import matplotlib.pyplot as plt, seaborn as sns\n",
    "from tqdm import tqdm, tqdm_notebook\n",
    "from pathlib import Path\n",
    "pd.set_option('display.max_columns', 1000)\n",
    "pd.set_option('display.max_rows', 400)\n",
    "sns.set()\n",
    "\n",
    "os.chdir('../..')\n",
    "from src import utils"
   ]
  },
  {
   "cell_type": "code",
   "execution_count": 2,
   "metadata": {},
   "outputs": [],
   "source": [
    "DATA        = Path('data')\n",
    "RAW         = DATA/'raw'\n",
    "INTERIM     = DATA/'interim'\n",
    "PROCESSED   = DATA/'processed'\n",
    "SUBMISSIONS = DATA/'submissions'"
   ]
  },
  {
   "cell_type": "code",
   "execution_count": 3,
   "metadata": {},
   "outputs": [],
   "source": [
    "challenge  = pd.read_csv(RAW/'Challenge_20180423.csv', low_memory=False)\n",
    "customer   = pd.read_csv(RAW/'Customer.csv', low_memory=False)\n",
    "isin       = pd.read_csv(RAW/'Isin.csv', low_memory=False)\n",
    "# submission = pd.read_csv(RAW/'sample_submission.csv', low_memory=False)\n",
    "trade      = pd.read_csv(RAW/'Trade.csv', low_memory=False)\n",
    "# market     = pd.read_csv(RAW/'Market.csv', low_memory=False)"
   ]
  },
  {
   "cell_type": "code",
   "execution_count": 4,
   "metadata": {},
   "outputs": [],
   "source": [
    "from src.utils import get_weeks, week_num\n",
    "week_labels = get_weeks(day_from=20160104, num_weeks=121)[104:]"
   ]
  },
  {
   "cell_type": "code",
   "execution_count": 5,
   "metadata": {},
   "outputs": [
    {
     "name": "stdout",
     "output_type": "stream",
     "text": [
      "[20180101, 20180108, 20180115, 20180122, 20180129, 20180205, 20180212, 20180219, 20180226, 20180305, 20180312, 20180319, 20180326, 20180402, 20180409, 20180416, 20180423]\n"
     ]
    }
   ],
   "source": [
    "print(week_labels)"
   ]
  },
  {
   "cell_type": "code",
   "execution_count": 6,
   "metadata": {},
   "outputs": [],
   "source": [
    "import pickle\n",
    "with open(INTERIM/'interest_sequences.pkl', 'rb') as f:\n",
    "    interests = pickle.load(f)"
   ]
  },
  {
   "cell_type": "code",
   "execution_count": 7,
   "metadata": {},
   "outputs": [
    {
     "data": {
      "text/html": [
       "<div>\n",
       "<style scoped>\n",
       "    .dataframe tbody tr th:only-of-type {\n",
       "        vertical-align: middle;\n",
       "    }\n",
       "\n",
       "    .dataframe tbody tr th {\n",
       "        vertical-align: top;\n",
       "    }\n",
       "\n",
       "    .dataframe thead th {\n",
       "        text-align: right;\n",
       "    }\n",
       "</style>\n",
       "<table border=\"1\" class=\"dataframe\">\n",
       "  <thead>\n",
       "    <tr style=\"text-align: right;\">\n",
       "      <th></th>\n",
       "      <th>IsinIdx</th>\n",
       "      <th>TickerIdx</th>\n",
       "      <th>ActualMaturityDateKey</th>\n",
       "      <th>IssueDateKey</th>\n",
       "      <th>Seniority</th>\n",
       "      <th>Currency</th>\n",
       "      <th>ActivityGroup</th>\n",
       "      <th>Region</th>\n",
       "      <th>Activity</th>\n",
       "      <th>RiskCaptain</th>\n",
       "      <th>Owner</th>\n",
       "      <th>CompositeRating</th>\n",
       "      <th>IndustrySector</th>\n",
       "      <th>IndustrySubgroup</th>\n",
       "      <th>MarketIssue</th>\n",
       "      <th>IssuedAmount</th>\n",
       "      <th>CouponType</th>\n",
       "    </tr>\n",
       "  </thead>\n",
       "  <tbody>\n",
       "    <tr>\n",
       "      <th>0</th>\n",
       "      <td>0</td>\n",
       "      <td>238</td>\n",
       "      <td>20381231</td>\n",
       "      <td>20051129</td>\n",
       "      <td>GOV</td>\n",
       "      <td>USD</td>\n",
       "      <td>FLOW LOCAL MARKET</td>\n",
       "      <td>AMERICAS</td>\n",
       "      <td>ARGENTINA</td>\n",
       "      <td>ARGENTINA</td>\n",
       "      <td>EMK ARGENTINA</td>\n",
       "      <td>NR</td>\n",
       "      <td>Government</td>\n",
       "      <td>Sovereign</td>\n",
       "      <td>Domestic</td>\n",
       "      <td>1.246002e+09</td>\n",
       "      <td>STEP CPN</td>\n",
       "    </tr>\n",
       "    <tr>\n",
       "      <th>1</th>\n",
       "      <td>1</td>\n",
       "      <td>238</td>\n",
       "      <td>20331231</td>\n",
       "      <td>20051129</td>\n",
       "      <td>GOV</td>\n",
       "      <td>USD</td>\n",
       "      <td>FLOW LOCAL MARKET</td>\n",
       "      <td>AMERICAS</td>\n",
       "      <td>ARGENTINA</td>\n",
       "      <td>ARGENTINA</td>\n",
       "      <td>EMK ARGENTINA</td>\n",
       "      <td>NR</td>\n",
       "      <td>Government</td>\n",
       "      <td>Sovereign</td>\n",
       "      <td>Domestic</td>\n",
       "      <td>4.901086e+09</td>\n",
       "      <td>FIXED</td>\n",
       "    </tr>\n",
       "    <tr>\n",
       "      <th>2</th>\n",
       "      <td>2</td>\n",
       "      <td>238</td>\n",
       "      <td>20331231</td>\n",
       "      <td>20051129</td>\n",
       "      <td>GOV</td>\n",
       "      <td>ARS</td>\n",
       "      <td>FLOW LOCAL MARKET</td>\n",
       "      <td>AMERICAS</td>\n",
       "      <td>ARGENTINA</td>\n",
       "      <td>ARGENTINA</td>\n",
       "      <td>EMK ARGENTINA</td>\n",
       "      <td>NR</td>\n",
       "      <td>Government</td>\n",
       "      <td>Sovereign</td>\n",
       "      <td>Domestic</td>\n",
       "      <td>1.501245e+10</td>\n",
       "      <td>FIXED</td>\n",
       "    </tr>\n",
       "    <tr>\n",
       "      <th>3</th>\n",
       "      <td>3</td>\n",
       "      <td>236</td>\n",
       "      <td>20170417</td>\n",
       "      <td>20070417</td>\n",
       "      <td>GOV</td>\n",
       "      <td>USD</td>\n",
       "      <td>FLOW LOCAL MARKET</td>\n",
       "      <td>AMERICAS</td>\n",
       "      <td>ARGENTINA</td>\n",
       "      <td>ARGENTINA</td>\n",
       "      <td>EMK ARGENTINA</td>\n",
       "      <td>B</td>\n",
       "      <td>Government</td>\n",
       "      <td>Sovereign</td>\n",
       "      <td>Domestic</td>\n",
       "      <td>7.340076e+09</td>\n",
       "      <td>FIXED</td>\n",
       "    </tr>\n",
       "    <tr>\n",
       "      <th>4</th>\n",
       "      <td>4</td>\n",
       "      <td>234</td>\n",
       "      <td>20221004</td>\n",
       "      <td>20100222</td>\n",
       "      <td>GOV</td>\n",
       "      <td>ARS</td>\n",
       "      <td>FLOW LOCAL MARKET</td>\n",
       "      <td>AMERICAS</td>\n",
       "      <td>ARGENTINA</td>\n",
       "      <td>ARGENTINA</td>\n",
       "      <td>EMK ARGENTINA</td>\n",
       "      <td>NR</td>\n",
       "      <td>Government</td>\n",
       "      <td>Sovereign</td>\n",
       "      <td>Domestic</td>\n",
       "      <td>3.058452e+09</td>\n",
       "      <td>FLOATING</td>\n",
       "    </tr>\n",
       "  </tbody>\n",
       "</table>\n",
       "</div>"
      ],
      "text/plain": [
       "   IsinIdx  TickerIdx  ActualMaturityDateKey  IssueDateKey Seniority Currency  \\\n",
       "0        0        238               20381231      20051129       GOV      USD   \n",
       "1        1        238               20331231      20051129       GOV      USD   \n",
       "2        2        238               20331231      20051129       GOV      ARS   \n",
       "3        3        236               20170417      20070417       GOV      USD   \n",
       "4        4        234               20221004      20100222       GOV      ARS   \n",
       "\n",
       "       ActivityGroup    Region   Activity RiskCaptain          Owner  \\\n",
       "0  FLOW LOCAL MARKET  AMERICAS  ARGENTINA   ARGENTINA  EMK ARGENTINA   \n",
       "1  FLOW LOCAL MARKET  AMERICAS  ARGENTINA   ARGENTINA  EMK ARGENTINA   \n",
       "2  FLOW LOCAL MARKET  AMERICAS  ARGENTINA   ARGENTINA  EMK ARGENTINA   \n",
       "3  FLOW LOCAL MARKET  AMERICAS  ARGENTINA   ARGENTINA  EMK ARGENTINA   \n",
       "4  FLOW LOCAL MARKET  AMERICAS  ARGENTINA   ARGENTINA  EMK ARGENTINA   \n",
       "\n",
       "  CompositeRating IndustrySector IndustrySubgroup MarketIssue  IssuedAmount  \\\n",
       "0              NR     Government        Sovereign    Domestic  1.246002e+09   \n",
       "1              NR     Government        Sovereign    Domestic  4.901086e+09   \n",
       "2              NR     Government        Sovereign    Domestic  1.501245e+10   \n",
       "3               B     Government        Sovereign    Domestic  7.340076e+09   \n",
       "4              NR     Government        Sovereign    Domestic  3.058452e+09   \n",
       "\n",
       "  CouponType  \n",
       "0   STEP CPN  \n",
       "1      FIXED  \n",
       "2      FIXED  \n",
       "3      FIXED  \n",
       "4   FLOATING  "
      ]
     },
     "execution_count": 7,
     "metadata": {},
     "output_type": "execute_result"
    }
   ],
   "source": [
    "isin.head()"
   ]
  },
  {
   "cell_type": "code",
   "execution_count": 8,
   "metadata": {},
   "outputs": [
    {
     "name": "stdout",
     "output_type": "stream",
     "text": [
      "CPU times: user 1min 26s, sys: 44.9 s, total: 2min 11s\n",
      "Wall time: 2min 26s\n"
     ]
    }
   ],
   "source": [
    "%%time\n",
    "train = pd.DataFrame()\n",
    "for name in week_labels[:-2]:\n",
    "    train = pd.concat([train, pd.read_feather(PROCESSED/f'SVD_17-18_72f/week_{name}_SVD_diffscount.feather')])"
   ]
  },
  {
   "cell_type": "code",
   "execution_count": 15,
   "metadata": {},
   "outputs": [],
   "source": [
    "val = pd.read_feather(PROCESSED/f'SVD_17-18_72f/week_{week_labels[-2]}_SVD_diffscount.feather')\n",
    "test = pd.read_feather(PROCESSED/f'SVD_17-18_72f/week_{week_labels[-1]}_SVD_diffscount.feather')"
   ]
  },
  {
   "cell_type": "code",
   "execution_count": 9,
   "metadata": {},
   "outputs": [
    {
     "data": {
      "text/html": [
       "<div>\n",
       "<style scoped>\n",
       "    .dataframe tbody tr th:only-of-type {\n",
       "        vertical-align: middle;\n",
       "    }\n",
       "\n",
       "    .dataframe tbody tr th {\n",
       "        vertical-align: top;\n",
       "    }\n",
       "\n",
       "    .dataframe thead th {\n",
       "        text-align: right;\n",
       "    }\n",
       "</style>\n",
       "<table border=\"1\" class=\"dataframe\">\n",
       "  <thead>\n",
       "    <tr style=\"text-align: right;\">\n",
       "      <th></th>\n",
       "      <th>TradeDateKey</th>\n",
       "      <th>CustomerIdx</th>\n",
       "      <th>IsinIdx</th>\n",
       "      <th>BuySell</th>\n",
       "      <th>CustomerInterest</th>\n",
       "      <th>DaysSinceBuySell</th>\n",
       "      <th>DaysSinceTransaction</th>\n",
       "      <th>DaysSinceCustomerActivity</th>\n",
       "      <th>DaysSinceBondActivity</th>\n",
       "      <th>DaysCountBuySell</th>\n",
       "      <th>DaysCountTransaction</th>\n",
       "      <th>DaysCountCustomerActivity</th>\n",
       "      <th>DaysCountBondActivity</th>\n",
       "      <th>SVD_CustomerBias</th>\n",
       "      <th>SVD_IsinBuySellBias</th>\n",
       "      <th>SVD_Recommend</th>\n",
       "      <th>SVD_CustomerFactor00</th>\n",
       "      <th>SVD_CustomerFactor01</th>\n",
       "      <th>SVD_CustomerFactor02</th>\n",
       "      <th>SVD_CustomerFactor03</th>\n",
       "      <th>SVD_CustomerFactor04</th>\n",
       "      <th>SVD_CustomerFactor05</th>\n",
       "      <th>SVD_CustomerFactor06</th>\n",
       "      <th>SVD_CustomerFactor07</th>\n",
       "      <th>SVD_CustomerFactor08</th>\n",
       "      <th>SVD_CustomerFactor09</th>\n",
       "      <th>SVD_CustomerFactor10</th>\n",
       "      <th>SVD_CustomerFactor11</th>\n",
       "      <th>SVD_CustomerFactor12</th>\n",
       "      <th>SVD_CustomerFactor13</th>\n",
       "      <th>SVD_CustomerFactor14</th>\n",
       "      <th>SVD_IsinBuySellFactor00</th>\n",
       "      <th>SVD_IsinBuySellFactor01</th>\n",
       "      <th>SVD_IsinBuySellFactor02</th>\n",
       "      <th>SVD_IsinBuySellFactor03</th>\n",
       "      <th>SVD_IsinBuySellFactor04</th>\n",
       "      <th>SVD_IsinBuySellFactor05</th>\n",
       "      <th>SVD_IsinBuySellFactor06</th>\n",
       "      <th>SVD_IsinBuySellFactor07</th>\n",
       "      <th>SVD_IsinBuySellFactor08</th>\n",
       "      <th>SVD_IsinBuySellFactor09</th>\n",
       "      <th>SVD_IsinBuySellFactor10</th>\n",
       "      <th>SVD_IsinBuySellFactor11</th>\n",
       "      <th>SVD_IsinBuySellFactor12</th>\n",
       "      <th>SVD_IsinBuySellFactor13</th>\n",
       "      <th>SVD_IsinBuySellFactor14</th>\n",
       "      <th>Year</th>\n",
       "      <th>Month</th>\n",
       "      <th>Day</th>\n",
       "      <th>Sector</th>\n",
       "      <th>Subsector</th>\n",
       "      <th>Region_x</th>\n",
       "      <th>Country</th>\n",
       "      <th>TickerIdx</th>\n",
       "      <th>ActualMaturityDateKey</th>\n",
       "      <th>IssueDateKey</th>\n",
       "      <th>Seniority</th>\n",
       "      <th>Currency</th>\n",
       "      <th>ActivityGroup</th>\n",
       "      <th>Region_y</th>\n",
       "      <th>Activity</th>\n",
       "      <th>RiskCaptain</th>\n",
       "      <th>Owner</th>\n",
       "      <th>CompositeRating</th>\n",
       "      <th>IndustrySector</th>\n",
       "      <th>IndustrySubgroup</th>\n",
       "      <th>MarketIssue</th>\n",
       "      <th>IssuedAmount</th>\n",
       "      <th>CouponType</th>\n",
       "      <th>BondDuration</th>\n",
       "      <th>BondRemaining</th>\n",
       "      <th>BondLife</th>\n",
       "    </tr>\n",
       "  </thead>\n",
       "  <tbody>\n",
       "    <tr>\n",
       "      <th>0</th>\n",
       "      <td>20180101</td>\n",
       "      <td>0</td>\n",
       "      <td>21856</td>\n",
       "      <td>Buy</td>\n",
       "      <td>0.0</td>\n",
       "      <td>12</td>\n",
       "      <td>12</td>\n",
       "      <td>12</td>\n",
       "      <td>11</td>\n",
       "      <td>2</td>\n",
       "      <td>2</td>\n",
       "      <td>28</td>\n",
       "      <td>54</td>\n",
       "      <td>0.145856</td>\n",
       "      <td>0.066204</td>\n",
       "      <td>0.514251</td>\n",
       "      <td>-0.029115</td>\n",
       "      <td>0.016691</td>\n",
       "      <td>-0.056704</td>\n",
       "      <td>0.096195</td>\n",
       "      <td>0.045666</td>\n",
       "      <td>0.092239</td>\n",
       "      <td>0.08126</td>\n",
       "      <td>0.055171</td>\n",
       "      <td>-0.115695</td>\n",
       "      <td>-0.020836</td>\n",
       "      <td>-0.071208</td>\n",
       "      <td>0.011179</td>\n",
       "      <td>0.004409</td>\n",
       "      <td>0.016432</td>\n",
       "      <td>0.023712</td>\n",
       "      <td>0.012533</td>\n",
       "      <td>0.111760</td>\n",
       "      <td>0.005203</td>\n",
       "      <td>0.036013</td>\n",
       "      <td>0.046625</td>\n",
       "      <td>0.177593</td>\n",
       "      <td>0.047611</td>\n",
       "      <td>0.083235</td>\n",
       "      <td>-0.051471</td>\n",
       "      <td>0.006236</td>\n",
       "      <td>-0.021289</td>\n",
       "      <td>0.080423</td>\n",
       "      <td>0.056338</td>\n",
       "      <td>0.122781</td>\n",
       "      <td>-0.062886</td>\n",
       "      <td>2018</td>\n",
       "      <td>18</td>\n",
       "      <td>1</td>\n",
       "      <td>Asset Managers &amp; Hedge Funds</td>\n",
       "      <td>Independent Asset Manager</td>\n",
       "      <td>Asia Pacific</td>\n",
       "      <td>HONG KONG</td>\n",
       "      <td>1930</td>\n",
       "      <td>20190114</td>\n",
       "      <td>20140114</td>\n",
       "      <td>SEN</td>\n",
       "      <td>USD</td>\n",
       "      <td>FLOW LOCAL MARKET</td>\n",
       "      <td>ASIA-TOKYO</td>\n",
       "      <td>ASIA MARKET MAKING</td>\n",
       "      <td>ASIA HIGH YIELD</td>\n",
       "      <td>ASIA HIGH YIELD</td>\n",
       "      <td>14</td>\n",
       "      <td>Financial</td>\n",
       "      <td>Real Estate Oper/Develop</td>\n",
       "      <td>Euro-dollar</td>\n",
       "      <td>600000000.0</td>\n",
       "      <td>FIXED</td>\n",
       "      <td>1826</td>\n",
       "      <td>378</td>\n",
       "      <td>1448</td>\n",
       "    </tr>\n",
       "    <tr>\n",
       "      <th>1</th>\n",
       "      <td>20180101</td>\n",
       "      <td>0</td>\n",
       "      <td>21856</td>\n",
       "      <td>Sell</td>\n",
       "      <td>0.0</td>\n",
       "      <td>915</td>\n",
       "      <td>12</td>\n",
       "      <td>12</td>\n",
       "      <td>11</td>\n",
       "      <td>0</td>\n",
       "      <td>2</td>\n",
       "      <td>28</td>\n",
       "      <td>54</td>\n",
       "      <td>0.145856</td>\n",
       "      <td>0.054329</td>\n",
       "      <td>0.515428</td>\n",
       "      <td>-0.029115</td>\n",
       "      <td>0.016691</td>\n",
       "      <td>-0.056704</td>\n",
       "      <td>0.096195</td>\n",
       "      <td>0.045666</td>\n",
       "      <td>0.092239</td>\n",
       "      <td>0.08126</td>\n",
       "      <td>0.055171</td>\n",
       "      <td>-0.115695</td>\n",
       "      <td>-0.020836</td>\n",
       "      <td>-0.071208</td>\n",
       "      <td>0.011179</td>\n",
       "      <td>0.004409</td>\n",
       "      <td>0.016432</td>\n",
       "      <td>0.023712</td>\n",
       "      <td>0.050487</td>\n",
       "      <td>-0.006822</td>\n",
       "      <td>0.050556</td>\n",
       "      <td>0.100922</td>\n",
       "      <td>0.190385</td>\n",
       "      <td>0.112586</td>\n",
       "      <td>0.102837</td>\n",
       "      <td>0.077350</td>\n",
       "      <td>-0.131995</td>\n",
       "      <td>-0.041197</td>\n",
       "      <td>0.008692</td>\n",
       "      <td>0.154851</td>\n",
       "      <td>-0.077626</td>\n",
       "      <td>0.028060</td>\n",
       "      <td>-0.025874</td>\n",
       "      <td>2018</td>\n",
       "      <td>18</td>\n",
       "      <td>1</td>\n",
       "      <td>Asset Managers &amp; Hedge Funds</td>\n",
       "      <td>Independent Asset Manager</td>\n",
       "      <td>Asia Pacific</td>\n",
       "      <td>HONG KONG</td>\n",
       "      <td>1930</td>\n",
       "      <td>20190114</td>\n",
       "      <td>20140114</td>\n",
       "      <td>SEN</td>\n",
       "      <td>USD</td>\n",
       "      <td>FLOW LOCAL MARKET</td>\n",
       "      <td>ASIA-TOKYO</td>\n",
       "      <td>ASIA MARKET MAKING</td>\n",
       "      <td>ASIA HIGH YIELD</td>\n",
       "      <td>ASIA HIGH YIELD</td>\n",
       "      <td>14</td>\n",
       "      <td>Financial</td>\n",
       "      <td>Real Estate Oper/Develop</td>\n",
       "      <td>Euro-dollar</td>\n",
       "      <td>600000000.0</td>\n",
       "      <td>FIXED</td>\n",
       "      <td>1826</td>\n",
       "      <td>378</td>\n",
       "      <td>1448</td>\n",
       "    </tr>\n",
       "    <tr>\n",
       "      <th>2</th>\n",
       "      <td>20180101</td>\n",
       "      <td>0</td>\n",
       "      <td>24944</td>\n",
       "      <td>Buy</td>\n",
       "      <td>0.0</td>\n",
       "      <td>915</td>\n",
       "      <td>915</td>\n",
       "      <td>12</td>\n",
       "      <td>18</td>\n",
       "      <td>0</td>\n",
       "      <td>0</td>\n",
       "      <td>28</td>\n",
       "      <td>76</td>\n",
       "      <td>0.145856</td>\n",
       "      <td>0.269019</td>\n",
       "      <td>0.717230</td>\n",
       "      <td>-0.029115</td>\n",
       "      <td>0.016691</td>\n",
       "      <td>-0.056704</td>\n",
       "      <td>0.096195</td>\n",
       "      <td>0.045666</td>\n",
       "      <td>0.092239</td>\n",
       "      <td>0.08126</td>\n",
       "      <td>0.055171</td>\n",
       "      <td>-0.115695</td>\n",
       "      <td>-0.020836</td>\n",
       "      <td>-0.071208</td>\n",
       "      <td>0.011179</td>\n",
       "      <td>0.004409</td>\n",
       "      <td>0.016432</td>\n",
       "      <td>0.023712</td>\n",
       "      <td>-0.083098</td>\n",
       "      <td>-0.104140</td>\n",
       "      <td>-0.195715</td>\n",
       "      <td>-0.057268</td>\n",
       "      <td>0.241214</td>\n",
       "      <td>0.092401</td>\n",
       "      <td>0.040741</td>\n",
       "      <td>0.042378</td>\n",
       "      <td>-0.137947</td>\n",
       "      <td>0.155237</td>\n",
       "      <td>0.036170</td>\n",
       "      <td>0.030057</td>\n",
       "      <td>0.051076</td>\n",
       "      <td>-0.056409</td>\n",
       "      <td>-0.017747</td>\n",
       "      <td>2018</td>\n",
       "      <td>18</td>\n",
       "      <td>1</td>\n",
       "      <td>Asset Managers &amp; Hedge Funds</td>\n",
       "      <td>Independent Asset Manager</td>\n",
       "      <td>Asia Pacific</td>\n",
       "      <td>HONG KONG</td>\n",
       "      <td>1333</td>\n",
       "      <td>20230817</td>\n",
       "      <td>20160817</td>\n",
       "      <td>SEN</td>\n",
       "      <td>USD</td>\n",
       "      <td>FLOW LOCAL MARKET</td>\n",
       "      <td>ASIA-TOKYO</td>\n",
       "      <td>ASIA MARKET MAKING</td>\n",
       "      <td>ASIA HIGH YIELD</td>\n",
       "      <td>ASIA HIGH YIELD</td>\n",
       "      <td>0</td>\n",
       "      <td>Financial</td>\n",
       "      <td>Property/Casualty Ins</td>\n",
       "      <td>Euro-dollar</td>\n",
       "      <td>590000000.0</td>\n",
       "      <td>FIXED</td>\n",
       "      <td>2556</td>\n",
       "      <td>2054</td>\n",
       "      <td>502</td>\n",
       "    </tr>\n",
       "    <tr>\n",
       "      <th>3</th>\n",
       "      <td>20180101</td>\n",
       "      <td>0</td>\n",
       "      <td>24944</td>\n",
       "      <td>Sell</td>\n",
       "      <td>0.0</td>\n",
       "      <td>915</td>\n",
       "      <td>915</td>\n",
       "      <td>12</td>\n",
       "      <td>18</td>\n",
       "      <td>0</td>\n",
       "      <td>0</td>\n",
       "      <td>28</td>\n",
       "      <td>76</td>\n",
       "      <td>0.145856</td>\n",
       "      <td>0.384511</td>\n",
       "      <td>0.806818</td>\n",
       "      <td>-0.029115</td>\n",
       "      <td>0.016691</td>\n",
       "      <td>-0.056704</td>\n",
       "      <td>0.096195</td>\n",
       "      <td>0.045666</td>\n",
       "      <td>0.092239</td>\n",
       "      <td>0.08126</td>\n",
       "      <td>0.055171</td>\n",
       "      <td>-0.115695</td>\n",
       "      <td>-0.020836</td>\n",
       "      <td>-0.071208</td>\n",
       "      <td>0.011179</td>\n",
       "      <td>0.004409</td>\n",
       "      <td>0.016432</td>\n",
       "      <td>0.023712</td>\n",
       "      <td>-0.063905</td>\n",
       "      <td>0.071768</td>\n",
       "      <td>-0.066420</td>\n",
       "      <td>-0.076050</td>\n",
       "      <td>-0.025910</td>\n",
       "      <td>0.096641</td>\n",
       "      <td>-0.007377</td>\n",
       "      <td>0.166042</td>\n",
       "      <td>-0.052101</td>\n",
       "      <td>-0.057384</td>\n",
       "      <td>0.100283</td>\n",
       "      <td>0.024377</td>\n",
       "      <td>0.001089</td>\n",
       "      <td>0.075338</td>\n",
       "      <td>-0.104738</td>\n",
       "      <td>2018</td>\n",
       "      <td>18</td>\n",
       "      <td>1</td>\n",
       "      <td>Asset Managers &amp; Hedge Funds</td>\n",
       "      <td>Independent Asset Manager</td>\n",
       "      <td>Asia Pacific</td>\n",
       "      <td>HONG KONG</td>\n",
       "      <td>1333</td>\n",
       "      <td>20230817</td>\n",
       "      <td>20160817</td>\n",
       "      <td>SEN</td>\n",
       "      <td>USD</td>\n",
       "      <td>FLOW LOCAL MARKET</td>\n",
       "      <td>ASIA-TOKYO</td>\n",
       "      <td>ASIA MARKET MAKING</td>\n",
       "      <td>ASIA HIGH YIELD</td>\n",
       "      <td>ASIA HIGH YIELD</td>\n",
       "      <td>0</td>\n",
       "      <td>Financial</td>\n",
       "      <td>Property/Casualty Ins</td>\n",
       "      <td>Euro-dollar</td>\n",
       "      <td>590000000.0</td>\n",
       "      <td>FIXED</td>\n",
       "      <td>2556</td>\n",
       "      <td>2054</td>\n",
       "      <td>502</td>\n",
       "    </tr>\n",
       "    <tr>\n",
       "      <th>4</th>\n",
       "      <td>20180101</td>\n",
       "      <td>0</td>\n",
       "      <td>25992</td>\n",
       "      <td>Buy</td>\n",
       "      <td>0.0</td>\n",
       "      <td>915</td>\n",
       "      <td>915</td>\n",
       "      <td>12</td>\n",
       "      <td>34</td>\n",
       "      <td>0</td>\n",
       "      <td>0</td>\n",
       "      <td>28</td>\n",
       "      <td>106</td>\n",
       "      <td>0.145856</td>\n",
       "      <td>0.201663</td>\n",
       "      <td>0.687187</td>\n",
       "      <td>-0.029115</td>\n",
       "      <td>0.016691</td>\n",
       "      <td>-0.056704</td>\n",
       "      <td>0.096195</td>\n",
       "      <td>0.045666</td>\n",
       "      <td>0.092239</td>\n",
       "      <td>0.08126</td>\n",
       "      <td>0.055171</td>\n",
       "      <td>-0.115695</td>\n",
       "      <td>-0.020836</td>\n",
       "      <td>-0.071208</td>\n",
       "      <td>0.011179</td>\n",
       "      <td>0.004409</td>\n",
       "      <td>0.016432</td>\n",
       "      <td>0.023712</td>\n",
       "      <td>0.070514</td>\n",
       "      <td>-0.180122</td>\n",
       "      <td>-0.122018</td>\n",
       "      <td>0.306007</td>\n",
       "      <td>0.251894</td>\n",
       "      <td>0.047554</td>\n",
       "      <td>-0.048932</td>\n",
       "      <td>0.025660</td>\n",
       "      <td>-0.156877</td>\n",
       "      <td>0.045887</td>\n",
       "      <td>-0.202260</td>\n",
       "      <td>0.255278</td>\n",
       "      <td>0.058086</td>\n",
       "      <td>-0.178210</td>\n",
       "      <td>0.072980</td>\n",
       "      <td>2018</td>\n",
       "      <td>18</td>\n",
       "      <td>1</td>\n",
       "      <td>Asset Managers &amp; Hedge Funds</td>\n",
       "      <td>Independent Asset Manager</td>\n",
       "      <td>Asia Pacific</td>\n",
       "      <td>HONG KONG</td>\n",
       "      <td>744</td>\n",
       "      <td>20200601</td>\n",
       "      <td>20170601</td>\n",
       "      <td>SEN</td>\n",
       "      <td>USD</td>\n",
       "      <td>FLOW LOCAL MARKET</td>\n",
       "      <td>ASIA-TOKYO</td>\n",
       "      <td>ASIA MARKET MAKING</td>\n",
       "      <td>ASIA HIGH YIELD</td>\n",
       "      <td>ASIA HIGH YIELD</td>\n",
       "      <td>17</td>\n",
       "      <td>Communications</td>\n",
       "      <td>Internet Connectiv Svcs</td>\n",
       "      <td>Euro-dollar</td>\n",
       "      <td>500000000.0</td>\n",
       "      <td>FIXED</td>\n",
       "      <td>1096</td>\n",
       "      <td>882</td>\n",
       "      <td>214</td>\n",
       "    </tr>\n",
       "  </tbody>\n",
       "</table>\n",
       "</div>"
      ],
      "text/plain": [
       "   TradeDateKey  CustomerIdx  IsinIdx BuySell  CustomerInterest  \\\n",
       "0      20180101            0    21856     Buy               0.0   \n",
       "1      20180101            0    21856    Sell               0.0   \n",
       "2      20180101            0    24944     Buy               0.0   \n",
       "3      20180101            0    24944    Sell               0.0   \n",
       "4      20180101            0    25992     Buy               0.0   \n",
       "\n",
       "   DaysSinceBuySell  DaysSinceTransaction  DaysSinceCustomerActivity  \\\n",
       "0                12                    12                         12   \n",
       "1               915                    12                         12   \n",
       "2               915                   915                         12   \n",
       "3               915                   915                         12   \n",
       "4               915                   915                         12   \n",
       "\n",
       "   DaysSinceBondActivity  DaysCountBuySell  DaysCountTransaction  \\\n",
       "0                     11                 2                     2   \n",
       "1                     11                 0                     2   \n",
       "2                     18                 0                     0   \n",
       "3                     18                 0                     0   \n",
       "4                     34                 0                     0   \n",
       "\n",
       "   DaysCountCustomerActivity  DaysCountBondActivity  SVD_CustomerBias  \\\n",
       "0                         28                     54          0.145856   \n",
       "1                         28                     54          0.145856   \n",
       "2                         28                     76          0.145856   \n",
       "3                         28                     76          0.145856   \n",
       "4                         28                    106          0.145856   \n",
       "\n",
       "   SVD_IsinBuySellBias  SVD_Recommend  SVD_CustomerFactor00  \\\n",
       "0             0.066204       0.514251             -0.029115   \n",
       "1             0.054329       0.515428             -0.029115   \n",
       "2             0.269019       0.717230             -0.029115   \n",
       "3             0.384511       0.806818             -0.029115   \n",
       "4             0.201663       0.687187             -0.029115   \n",
       "\n",
       "   SVD_CustomerFactor01  SVD_CustomerFactor02  SVD_CustomerFactor03  \\\n",
       "0              0.016691             -0.056704              0.096195   \n",
       "1              0.016691             -0.056704              0.096195   \n",
       "2              0.016691             -0.056704              0.096195   \n",
       "3              0.016691             -0.056704              0.096195   \n",
       "4              0.016691             -0.056704              0.096195   \n",
       "\n",
       "   SVD_CustomerFactor04  SVD_CustomerFactor05  SVD_CustomerFactor06  \\\n",
       "0              0.045666              0.092239               0.08126   \n",
       "1              0.045666              0.092239               0.08126   \n",
       "2              0.045666              0.092239               0.08126   \n",
       "3              0.045666              0.092239               0.08126   \n",
       "4              0.045666              0.092239               0.08126   \n",
       "\n",
       "   SVD_CustomerFactor07  SVD_CustomerFactor08  SVD_CustomerFactor09  \\\n",
       "0              0.055171             -0.115695             -0.020836   \n",
       "1              0.055171             -0.115695             -0.020836   \n",
       "2              0.055171             -0.115695             -0.020836   \n",
       "3              0.055171             -0.115695             -0.020836   \n",
       "4              0.055171             -0.115695             -0.020836   \n",
       "\n",
       "   SVD_CustomerFactor10  SVD_CustomerFactor11  SVD_CustomerFactor12  \\\n",
       "0             -0.071208              0.011179              0.004409   \n",
       "1             -0.071208              0.011179              0.004409   \n",
       "2             -0.071208              0.011179              0.004409   \n",
       "3             -0.071208              0.011179              0.004409   \n",
       "4             -0.071208              0.011179              0.004409   \n",
       "\n",
       "   SVD_CustomerFactor13  SVD_CustomerFactor14  SVD_IsinBuySellFactor00  \\\n",
       "0              0.016432              0.023712                 0.012533   \n",
       "1              0.016432              0.023712                 0.050487   \n",
       "2              0.016432              0.023712                -0.083098   \n",
       "3              0.016432              0.023712                -0.063905   \n",
       "4              0.016432              0.023712                 0.070514   \n",
       "\n",
       "   SVD_IsinBuySellFactor01  SVD_IsinBuySellFactor02  SVD_IsinBuySellFactor03  \\\n",
       "0                 0.111760                 0.005203                 0.036013   \n",
       "1                -0.006822                 0.050556                 0.100922   \n",
       "2                -0.104140                -0.195715                -0.057268   \n",
       "3                 0.071768                -0.066420                -0.076050   \n",
       "4                -0.180122                -0.122018                 0.306007   \n",
       "\n",
       "   SVD_IsinBuySellFactor04  SVD_IsinBuySellFactor05  SVD_IsinBuySellFactor06  \\\n",
       "0                 0.046625                 0.177593                 0.047611   \n",
       "1                 0.190385                 0.112586                 0.102837   \n",
       "2                 0.241214                 0.092401                 0.040741   \n",
       "3                -0.025910                 0.096641                -0.007377   \n",
       "4                 0.251894                 0.047554                -0.048932   \n",
       "\n",
       "   SVD_IsinBuySellFactor07  SVD_IsinBuySellFactor08  SVD_IsinBuySellFactor09  \\\n",
       "0                 0.083235                -0.051471                 0.006236   \n",
       "1                 0.077350                -0.131995                -0.041197   \n",
       "2                 0.042378                -0.137947                 0.155237   \n",
       "3                 0.166042                -0.052101                -0.057384   \n",
       "4                 0.025660                -0.156877                 0.045887   \n",
       "\n",
       "   SVD_IsinBuySellFactor10  SVD_IsinBuySellFactor11  SVD_IsinBuySellFactor12  \\\n",
       "0                -0.021289                 0.080423                 0.056338   \n",
       "1                 0.008692                 0.154851                -0.077626   \n",
       "2                 0.036170                 0.030057                 0.051076   \n",
       "3                 0.100283                 0.024377                 0.001089   \n",
       "4                -0.202260                 0.255278                 0.058086   \n",
       "\n",
       "   SVD_IsinBuySellFactor13  SVD_IsinBuySellFactor14  Year  Month  Day  \\\n",
       "0                 0.122781                -0.062886  2018     18    1   \n",
       "1                 0.028060                -0.025874  2018     18    1   \n",
       "2                -0.056409                -0.017747  2018     18    1   \n",
       "3                 0.075338                -0.104738  2018     18    1   \n",
       "4                -0.178210                 0.072980  2018     18    1   \n",
       "\n",
       "                         Sector                  Subsector      Region_x  \\\n",
       "0  Asset Managers & Hedge Funds  Independent Asset Manager  Asia Pacific   \n",
       "1  Asset Managers & Hedge Funds  Independent Asset Manager  Asia Pacific   \n",
       "2  Asset Managers & Hedge Funds  Independent Asset Manager  Asia Pacific   \n",
       "3  Asset Managers & Hedge Funds  Independent Asset Manager  Asia Pacific   \n",
       "4  Asset Managers & Hedge Funds  Independent Asset Manager  Asia Pacific   \n",
       "\n",
       "     Country  TickerIdx  ActualMaturityDateKey  IssueDateKey Seniority  \\\n",
       "0  HONG KONG       1930               20190114      20140114       SEN   \n",
       "1  HONG KONG       1930               20190114      20140114       SEN   \n",
       "2  HONG KONG       1333               20230817      20160817       SEN   \n",
       "3  HONG KONG       1333               20230817      20160817       SEN   \n",
       "4  HONG KONG        744               20200601      20170601       SEN   \n",
       "\n",
       "  Currency      ActivityGroup    Region_y            Activity  \\\n",
       "0      USD  FLOW LOCAL MARKET  ASIA-TOKYO  ASIA MARKET MAKING   \n",
       "1      USD  FLOW LOCAL MARKET  ASIA-TOKYO  ASIA MARKET MAKING   \n",
       "2      USD  FLOW LOCAL MARKET  ASIA-TOKYO  ASIA MARKET MAKING   \n",
       "3      USD  FLOW LOCAL MARKET  ASIA-TOKYO  ASIA MARKET MAKING   \n",
       "4      USD  FLOW LOCAL MARKET  ASIA-TOKYO  ASIA MARKET MAKING   \n",
       "\n",
       "       RiskCaptain            Owner  CompositeRating  IndustrySector  \\\n",
       "0  ASIA HIGH YIELD  ASIA HIGH YIELD               14       Financial   \n",
       "1  ASIA HIGH YIELD  ASIA HIGH YIELD               14       Financial   \n",
       "2  ASIA HIGH YIELD  ASIA HIGH YIELD                0       Financial   \n",
       "3  ASIA HIGH YIELD  ASIA HIGH YIELD                0       Financial   \n",
       "4  ASIA HIGH YIELD  ASIA HIGH YIELD               17  Communications   \n",
       "\n",
       "           IndustrySubgroup  MarketIssue  IssuedAmount CouponType  \\\n",
       "0  Real Estate Oper/Develop  Euro-dollar   600000000.0      FIXED   \n",
       "1  Real Estate Oper/Develop  Euro-dollar   600000000.0      FIXED   \n",
       "2     Property/Casualty Ins  Euro-dollar   590000000.0      FIXED   \n",
       "3     Property/Casualty Ins  Euro-dollar   590000000.0      FIXED   \n",
       "4   Internet Connectiv Svcs  Euro-dollar   500000000.0      FIXED   \n",
       "\n",
       "   BondDuration  BondRemaining  BondLife  \n",
       "0          1826            378      1448  \n",
       "1          1826            378      1448  \n",
       "2          2556           2054       502  \n",
       "3          2556           2054       502  \n",
       "4          1096            882       214  "
      ]
     },
     "execution_count": 9,
     "metadata": {},
     "output_type": "execute_result"
    }
   ],
   "source": [
    "train.head()"
   ]
  },
  {
   "cell_type": "code",
   "execution_count": 11,
   "metadata": {},
   "outputs": [],
   "source": [
    "train = train.drop_duplicates(['CustomerIdx', 'IsinIdx', 'BuySell'])\n",
    "val = val.drop_duplicates(['CustomerIdx', 'IsinIdx', 'BuySell'])\n",
    "test = test.drop_duplicates(['CustomerIdx', 'IsinIdx', 'BuySell'])"
   ]
  },
  {
   "cell_type": "code",
   "execution_count": 17,
   "metadata": {},
   "outputs": [
    {
     "data": {
      "text/plain": [
       "((983172, 72), (493590, 72), (484758, 73))"
      ]
     },
     "execution_count": 17,
     "metadata": {},
     "output_type": "execute_result"
    }
   ],
   "source": [
    "train.shape, val.shape, test.shape"
   ]
  },
  {
   "cell_type": "code",
   "execution_count": 18,
   "metadata": {},
   "outputs": [
    {
     "name": "stdout",
     "output_type": "stream",
     "text": [
      "CPU times: user 4.66 s, sys: 1.73 s, total: 6.38 s\n",
      "Wall time: 5.98 s\n"
     ]
    }
   ],
   "source": [
    "%%time\n",
    "train.reset_index(drop=True).to_feather(INTERIM/'metadata_train.feather')\n",
    "val.reset_index(drop=True).to_feather(INTERIM/'metadata_val.feather')\n",
    "test.reset_index(drop=True).to_feather(INTERIM/'metadata_test.feather')"
   ]
  },
  {
   "cell_type": "markdown",
   "metadata": {},
   "source": [
    "## Checkpoint"
   ]
  },
  {
   "cell_type": "code",
   "execution_count": 91,
   "metadata": {},
   "outputs": [],
   "source": [
    "train = pd.read_feather(INTERIM/'metadata_train.feather')\n",
    "val = pd.read_feather(INTERIM/'metadata_val.feather')\n",
    "test = pd.read_feather(INTERIM/'metadata_val.feather')"
   ]
  },
  {
   "cell_type": "code",
   "execution_count": 92,
   "metadata": {},
   "outputs": [],
   "source": [
    "cat_cols = ['Sector', 'Subsector', 'Region_x', 'Country', \n",
    "            'TickerIdx', 'Seniority', 'Currency', 'ActivityGroup', \n",
    "            'Region_y', 'Activity', 'RiskCaptain', 'Owner', \n",
    "            'IndustrySector', 'IndustrySubgroup', 'MarketIssue', 'CouponType']\n",
    "num_cols = ['ActualMaturityDateKey', 'IssueDateKey', 'CompositeRating', \n",
    "            'IssuedAmount', 'BondDuration']\n",
    "id_cols = ['CustomerIdx', 'IsinIdx', 'BuySell']"
   ]
  },
  {
   "cell_type": "code",
   "execution_count": 93,
   "metadata": {},
   "outputs": [
    {
     "name": "stdout",
     "output_type": "stream",
     "text": [
      "CPU times: user 6.18 s, sys: 432 ms, total: 6.61 s\n",
      "Wall time: 6.61 s\n"
     ]
    }
   ],
   "source": [
    "%%time\n",
    "# Label encode cats\n",
    "from src.utils import to_cat_codes, apply_cats\n",
    "to_cat_codes(train, cat_cols)\n",
    "apply_cats(val, train)\n",
    "apply_cats(test, train)\n",
    "\n",
    "for col in cat_cols:\n",
    "    train[col] = train[col].cat.codes\n",
    "    val[col] = val[col].cat.codes\n",
    "    test[col] = test[col].cat.codes"
   ]
  },
  {
   "cell_type": "code",
   "execution_count": 94,
   "metadata": {},
   "outputs": [],
   "source": [
    "nan_cols = [c for c in cat_cols if \\\n",
    "            any(df[c].min() < 0 for df in [train, val, test])]"
   ]
  },
  {
   "cell_type": "code",
   "execution_count": 95,
   "metadata": {},
   "outputs": [
    {
     "data": {
      "text/plain": [
       "['Subsector', 'TickerIdx', 'IndustrySector', 'IndustrySubgroup', 'MarketIssue']"
      ]
     },
     "execution_count": 95,
     "metadata": {},
     "output_type": "execute_result"
    }
   ],
   "source": [
    "nan_cols"
   ]
  },
  {
   "cell_type": "code",
   "execution_count": 96,
   "metadata": {},
   "outputs": [],
   "source": [
    "for c in nan_cols:\n",
    "    train[c] = train[c] + 1\n",
    "    val[c] = val[c] + 1\n",
    "    test[c] = test[c] + 1"
   ]
  },
  {
   "cell_type": "code",
   "execution_count": 97,
   "metadata": {},
   "outputs": [
    {
     "name": "stdout",
     "output_type": "stream",
     "text": [
      "CPU times: user 440 ms, sys: 516 ms, total: 956 ms\n",
      "Wall time: 952 ms\n"
     ]
    }
   ],
   "source": [
    "%%time\n",
    "# Scale conts\n",
    "from sklearn.preprocessing import StandardScaler\n",
    "scaler = StandardScaler().fit(pd.concat([train[num_cols], \n",
    "                              val[num_cols], test[num_cols]]))\n",
    "\n",
    "def scale_features(df, scaler, num_cols):\n",
    "    scaled = scaler.transform(df[num_cols])\n",
    "    for i, col in enumerate(num_cols):\n",
    "        df[col] = scaled[:,i]\n",
    "\n",
    "scale_features(train, scaler, num_cols)\n",
    "scale_features(val, scaler, num_cols)\n",
    "scale_features(test, scaler, num_cols)"
   ]
  },
  {
   "cell_type": "code",
   "execution_count": 98,
   "metadata": {},
   "outputs": [],
   "source": [
    "import torch.utils.data\n",
    "from torch.utils.data import DataLoader"
   ]
  },
  {
   "cell_type": "code",
   "execution_count": 146,
   "metadata": {},
   "outputs": [],
   "source": [
    "from collections import namedtuple\n",
    "\n",
    "class MultimodalDataset(torch.utils.data.Dataset):\n",
    "    def __init__(self, cats, conts, seqs, targets=None):\n",
    "        self.cats = cats.values.astype(np.int64)\n",
    "        self.conts = conts.values.astype(np.float32)\n",
    "        self.seqs = np.array(seqs).astype(np.float32)\n",
    "        self.targets = np.array(targets).astype(np.float32) \\\n",
    "                            if targets is not None else \\\n",
    "                            np.zeros_like(seqs).astype(np.float32)\n",
    "    \n",
    "    def __len__(self):\n",
    "        return len(self.cats)\n",
    "    \n",
    "    def __getitem__(self, idx):\n",
    "        return [self.cats[idx], self.conts[idx],\n",
    "                self.seqs[idx], self.targets[idx]]"
   ]
  },
  {
   "cell_type": "code",
   "execution_count": 100,
   "metadata": {},
   "outputs": [],
   "source": [
    "train_seqs = np.array([interests[(c,i,b)] for c,i,b in \\\n",
    "                zip(train.CustomerIdx, train.IsinIdx, train.BuySell)])\n",
    "val_seqs = np.array([interests[(c,i,b)] for c,i,b in \\\n",
    "                zip(val.CustomerIdx, val.IsinIdx, val.BuySell)])"
   ]
  },
  {
   "cell_type": "code",
   "execution_count": 101,
   "metadata": {},
   "outputs": [],
   "source": [
    "train['BuySell'] = train.BuySell.apply(lambda x: int(x == 'Buy'))\n",
    "val['BuySell'] = val.BuySell.apply(lambda x: int(x == 'Buy'))\n",
    "test['BuySell'] = test.BuySell.apply(lambda x: int(x == 'Buy'))\n",
    "num_cols.append('BuySell')"
   ]
  },
  {
   "cell_type": "code",
   "execution_count": 103,
   "metadata": {},
   "outputs": [
    {
     "data": {
      "text/plain": [
       "((983172, 16), (493590, 16))"
      ]
     },
     "execution_count": 103,
     "metadata": {},
     "output_type": "execute_result"
    }
   ],
   "source": [
    "train_seqs.shape, val_seqs.shape"
   ]
  },
  {
   "cell_type": "code",
   "execution_count": 147,
   "metadata": {},
   "outputs": [],
   "source": [
    "train_ds = DataLoader(MultimodalDataset(\n",
    "                train[cat_cols], train[num_cols], \n",
    "                train_seqs[:,:-2], train_seqs[:,1:-1]), \n",
    "                batch_size=128, shuffle=True)\n",
    "val_ds = DataLoader(MultimodalDataset(\n",
    "                val[cat_cols], val[num_cols], \n",
    "                val_seqs[:,:-1], val_seqs[:,1:]), \n",
    "                batch_size=128)"
   ]
  },
  {
   "cell_type": "code",
   "execution_count": 145,
   "metadata": {},
   "outputs": [],
   "source": [
    "Batch = namedtuple('Batch', ['cats', 'conts', 'seqs', 'targets'])"
   ]
  },
  {
   "cell_type": "code",
   "execution_count": 148,
   "metadata": {},
   "outputs": [],
   "source": [
    "x = next(iter(train_ds))"
   ]
  },
  {
   "cell_type": "code",
   "execution_count": 106,
   "metadata": {},
   "outputs": [],
   "source": [
    "cat_szs = [int(train[col].max() + 1) for col in cat_cols]\n",
    "emb_szs = [(c, min(50, (c+1)//2)) for c in cat_szs]"
   ]
  },
  {
   "cell_type": "code",
   "execution_count": 418,
   "metadata": {},
   "outputs": [],
   "source": [
    "class MultimodalClassifier(nn.Module):\n",
    "    def __init__(self, emb_szs, n_cont, emb_drop, szs, drops, \n",
    "                 rnn_hidden_sz, rnn_input_sz, rnn_n_layers, rnn_drop):\n",
    "        super().__init__()\n",
    "        self.structured_net = NeuralNet(emb_szs, n_cont=n_cont, \n",
    "                        emb_drop=emb_drop, szs=szs, drops=drops, \n",
    "                        out_sz=rnn_hidden_sz * rnn_n_layers * 2)\n",
    "        \n",
    "        self.sequential_net = LSTMClassifier(input_sz=rnn_input_sz,\n",
    "                        hidden_sz=rnn_hidden_sz, n_layers=rnn_n_layers, \n",
    "                        drop=rnn_drop)  \n",
    "        self.rnn_n_layers = rnn_n_layers\n",
    "        self.rnn_hidden_sz = rnn_hidden_sz\n",
    "        \n",
    "    def forward(self, cats, conts):\n",
    "        out = self.structured_net(cats, conts)\n",
    "        return out.view(-1, 2, self.rnn_n_layers, self.rnn_hidden_sz) \\\n",
    "                    .transpose(0,1).transpose(1,2)"
   ]
  },
  {
   "cell_type": "code",
   "execution_count": 213,
   "metadata": {},
   "outputs": [],
   "source": [
    "from src.neuralnet import NeuralNet\n",
    "n_layers = 2\n",
    "hidden_sz = 64\n",
    "structured_net = NeuralNet(emb_szs, n_cont=len(num_cols), emb_drop=0.04,\n",
    "                    szs=[1000, 500], drops=[0.001, 0.01], \n",
    "                    out_sz=hidden_sz * n_layers * 2)"
   ]
  },
  {
   "cell_type": "code",
   "execution_count": 214,
   "metadata": {},
   "outputs": [],
   "source": [
    "from src.lstm import LSTMClassifier\n",
    "sequential_net = LSTMClassifier(input_sz=1, hidden_sz=hidden_sz, \n",
    "                                n_layers=n_layers, drop=0.04)"
   ]
  },
  {
   "cell_type": "code",
   "execution_count": 215,
   "metadata": {},
   "outputs": [],
   "source": [
    "out = structured_net(x[0], x[1])"
   ]
  },
  {
   "cell_type": "code",
   "execution_count": 269,
   "metadata": {},
   "outputs": [],
   "source": [
    "import torch.nn as nn\n",
    "import torch.nn.functional as F\n",
    "from torch import optim\n",
    "criterion = nn.BCEWithLogitsLoss()"
   ]
  },
  {
   "cell_type": "code",
   "execution_count": 217,
   "metadata": {},
   "outputs": [
    {
     "data": {
      "text/plain": [
       "torch.Size([128, 256])"
      ]
     },
     "execution_count": 217,
     "metadata": {},
     "output_type": "execute_result"
    }
   ],
   "source": [
    "out.size()"
   ]
  },
  {
   "cell_type": "code",
   "execution_count": 245,
   "metadata": {},
   "outputs": [],
   "source": [
    "hidden = out.view(-1, 2, n_layers, hidden_sz).transpose(0,1).transpose(1,2)\n",
    "seqs = x[2].transpose(0,1)\n",
    "targets = x[3].transpose(0,1)\n",
    "output = None\n",
    "loss = 0\n",
    "for i in range(len(seqs)): # for each timestep\n",
    "    output, hidden = sequential_net(seqs[i].unsqueeze(0).unsqueeze(2), hidden)\n",
    "    loss += criterion(output, targets[i].unsqueeze(1))\n",
    "loss = loss.item() / len(seqs)"
   ]
  },
  {
   "cell_type": "code",
   "execution_count": 261,
   "metadata": {},
   "outputs": [],
   "source": [
    "model = MultimodalClassifier(emb_szs, n_cont=len(num_cols), emb_drop=0.04,\n",
    "                    szs=[1000, 500], drops=[0.001, 0.01], \n",
    "                    rnn_hidden_sz=32, rnn_input_sz=1, rnn_n_layers=2, \n",
    "                    rnn_drop=0.04)"
   ]
  },
  {
   "cell_type": "code",
   "execution_count": 262,
   "metadata": {},
   "outputs": [],
   "source": [
    "hidden = model(x[0], x[1])"
   ]
  },
  {
   "cell_type": "code",
   "execution_count": 263,
   "metadata": {},
   "outputs": [],
   "source": [
    "seqs = x[2].transpose(0,1)\n",
    "targets = x[3].transpose(0,1)\n",
    "output = None\n",
    "loss = 0\n",
    "for i in range(len(seqs)): # for each timestep\n",
    "    output, hidden = model.sequential_net(seqs[i].unsqueeze(0).unsqueeze(2), hidden)\n",
    "    loss += criterion(output, targets[i].unsqueeze(1))\n",
    "loss = loss.item() / len(seqs)"
   ]
  },
  {
   "cell_type": "code",
   "execution_count": 266,
   "metadata": {},
   "outputs": [],
   "source": [
    "def train_step(model, cats, conts, seqs, targets, optimizer, criterion):\n",
    "    model.train()\n",
    "    optimizer.zero_grad()\n",
    "    hidden = model(cats, conts)\n",
    "    seqs = seqs.transpose(0,1) # [seq_len, batch_sz]\n",
    "    targets = targets.transpose(0,1)\n",
    "    loss = 0\n",
    "    for i in range(len(seqs)): # for each timestep\n",
    "        output, hidden = model.sequential_net(seqs[i].unsqueeze(0) \\\n",
    "                                              .unsqueeze(2), hidden)\n",
    "        loss += criterion(output, targets[i].unsqueeze(1))\n",
    "    loss.backward()\n",
    "    optimizer.step()\n",
    "    return loss.item() / len(seqs)"
   ]
  },
  {
   "cell_type": "code",
   "execution_count": 420,
   "metadata": {},
   "outputs": [],
   "source": [
    "model = MultimodalClassifier(emb_szs, n_cont=len(num_cols), emb_drop=0.04,\n",
    "                    szs=[1000, 500], drops=[0.001, 0.01], \n",
    "                    rnn_hidden_sz=32, rnn_input_sz=1, rnn_n_layers=2, \n",
    "                    rnn_drop=0.04)"
   ]
  },
  {
   "cell_type": "code",
   "execution_count": 421,
   "metadata": {},
   "outputs": [],
   "source": [
    "optimizer = optim.Adam(model.parameters(), lr=1e-3)\n",
    "criterion = nn.BCEWithLogitsLoss()"
   ]
  },
  {
   "cell_type": "code",
   "execution_count": 422,
   "metadata": {},
   "outputs": [
    {
     "data": {
      "text/plain": [
       "0.6249370574951172"
      ]
     },
     "execution_count": 422,
     "metadata": {},
     "output_type": "execute_result"
    }
   ],
   "source": [
    "train_step(model, x[0], x[1], x[2], x[3], optimizer, criterion)"
   ]
  },
  {
   "cell_type": "code",
   "execution_count": 414,
   "metadata": {},
   "outputs": [],
   "source": [
    "import torch"
   ]
  },
  {
   "cell_type": "code",
   "execution_count": 402,
   "metadata": {},
   "outputs": [],
   "source": [
    "def evaluate(model, cats, conts, seqs):\n",
    "    with torch.no_grad():\n",
    "        model.eval()\n",
    "        hidden = model(cats, conts)\n",
    "        seqs = seqs.transpose(0,1) # [seq_len, batch_sz]\n",
    "        for i in range(len(seqs)): # for each timestep\n",
    "            output, hidden = model.sequential_net(seqs[i].unsqueeze(0) \\\n",
    "                                                  .unsqueeze(2), hidden)\n",
    "        return F.sigmoid(output).view(-1)"
   ]
  },
  {
   "cell_type": "code",
   "execution_count": 403,
   "metadata": {},
   "outputs": [],
   "source": [
    "preds = evaluate(model, x[0], x[1], x[2])"
   ]
  },
  {
   "cell_type": "code",
   "execution_count": 437,
   "metadata": {},
   "outputs": [],
   "source": [
    "def get_predictions(model, data_loader, print_every=800, USE_CUDA=False):\n",
    "    all_targets = []\n",
    "    all_preds = []\n",
    "    for batch_idx, (cats, conts, seqs, targets) in enumerate(data_loader):\n",
    "        with torch.no_grad():\n",
    "            if USE_CUDA:\n",
    "                cats, conts, seqs, targets = cats.cuda(), conts.cuda(), \\\n",
    "                                             seqs.cuda(), targets.cuda()\n",
    "            preds = evaluate(model, cats, conts, seqs)\n",
    "            all_targets.extend(targets.cpu().numpy()[:,-1]) # last timestemp\n",
    "            all_preds.extend(preds.cpu().numpy())\n",
    "            assert len(all_targets) == len(all_preds)\n",
    "            if batch_idx % print_every == 0:\n",
    "                print('[{}/{} ({:.0f}%)]'.format(\n",
    "                        batch_idx * len(seqs), len(data_loader.dataset),\n",
    "                        100. * batch_idx / len(data_loader)))\n",
    "    return all_targets, all_preds"
   ]
  },
  {
   "cell_type": "code",
   "execution_count": 423,
   "metadata": {},
   "outputs": [
    {
     "name": "stdout",
     "output_type": "stream",
     "text": [
      "[0/493590 (0%)]\n",
      "[102400/493590 (21%)]\n",
      "[204800/493590 (41%)]\n",
      "[307200/493590 (62%)]\n",
      "[409600/493590 (83%)]\n"
     ]
    }
   ],
   "source": [
    "targets, preds = get_predictions(model, val_ds)"
   ]
  },
  {
   "cell_type": "code",
   "execution_count": 424,
   "metadata": {},
   "outputs": [
    {
     "data": {
      "text/plain": [
       "(493590, 493590)"
      ]
     },
     "execution_count": 424,
     "metadata": {},
     "output_type": "execute_result"
    }
   ],
   "source": [
    "len(targets), len(preds)"
   ]
  },
  {
   "cell_type": "code",
   "execution_count": 425,
   "metadata": {},
   "outputs": [],
   "source": [
    "from sklearn.metrics import roc_auc_score"
   ]
  },
  {
   "cell_type": "code",
   "execution_count": 428,
   "metadata": {},
   "outputs": [
    {
     "data": {
      "text/plain": [
       "0.6180896759033203"
      ]
     },
     "execution_count": 428,
     "metadata": {},
     "output_type": "execute_result"
    }
   ],
   "source": [
    "nn.BCELoss()(torch.Tensor(preds), torch.Tensor(targets)).item()"
   ]
  },
  {
   "cell_type": "code",
   "execution_count": 426,
   "metadata": {},
   "outputs": [
    {
     "data": {
      "text/plain": [
       "0.44819258198698575"
      ]
     },
     "execution_count": 426,
     "metadata": {},
     "output_type": "execute_result"
    }
   ],
   "source": [
    "roc_auc_score(targets, preds)"
   ]
  },
  {
   "cell_type": "code",
   "execution_count": 410,
   "metadata": {},
   "outputs": [
    {
     "data": {
      "text/plain": [
       "(16, 6)"
      ]
     },
     "execution_count": 410,
     "metadata": {},
     "output_type": "execute_result"
    }
   ],
   "source": [
    "len(cat_cols), len(num_cols)"
   ]
  },
  {
   "cell_type": "code",
   "execution_count": 447,
   "metadata": {},
   "outputs": [],
   "source": [
    "def train_model(model, train_loader, val_loader, optimizer, criterion,\n",
    "                n_epochs, print_every=200, val_every=5, USE_CUDA=False):\n",
    "    if USE_CUDA:\n",
    "        model = model.cuda()\n",
    "    train_losses = []\n",
    "    val_losses = []\n",
    "    val_auc_scores = []\n",
    "    val_every *= print_every\n",
    "    for epoch in range(n_epochs):\n",
    "        train_loss = 0\n",
    "        for batch_idx, (cats, conts, seqs, targets) in enumerate(train_loader):\n",
    "            if USE_CUDA:\n",
    "                cats, conts, seqs, targets = cats.cuda(), conts.cuda(), \\\n",
    "                                             seqs.cuda(), targets.cuda()\n",
    "            train_loss += train_step(model, cats, conts, seqs, targets, \n",
    "                                     optimizer, criterion)\n",
    "            \n",
    "            if batch_idx > 0 and batch_idx % print_every == 0:\n",
    "                train_loss /= print_every\n",
    "                print('Train Epoch: {} [{}/{} ({:.0f}%)]\\tLoss: {:.6f}'.format(\n",
    "                        epoch + 1, batch_idx * len(seqs), len(train_loader.dataset),\n",
    "                        100. * batch_idx / len(train_loader), train_loss))\n",
    "                train_losses.append(train_loss)\n",
    "                train_loss = 0\n",
    "            \n",
    "            if batch_idx > 0 and batch_idx % val_every == 0:\n",
    "                targets, preds = get_predictions(model, val_loader, USE_CUDA=USE_CUDA)\n",
    "                val_loss = nn.BCELoss()(torch.Tensor(preds),\n",
    "                                        torch.Tensor(targets)).item()\n",
    "                val_losses.append(val_loss)\n",
    "                val_auc = roc_auc_score(targets, preds)\n",
    "                val_auc_scores.append(val_auc)\n",
    "                print(f'ROC AUC Score: {val_auc:.6f}') \n",
    "                print(f'Validation Loss: {val_loss:.6f}')\n",
    "        print()\n",
    "    return model, train_losses, val_losses, val_auc_scores            "
   ]
  },
  {
   "cell_type": "code",
   "execution_count": 465,
   "metadata": {},
   "outputs": [],
   "source": [
    "from src.multimodal import MultimodalClassifier, MultimodalDataset, train_model"
   ]
  },
  {
   "cell_type": "code",
   "execution_count": 476,
   "metadata": {},
   "outputs": [],
   "source": [
    "train_ds = DataLoader(MultimodalDataset(\n",
    "                train[cat_cols], train[num_cols], \n",
    "                train_seqs[:,:-2], train_seqs[:,1:-1]), \n",
    "                batch_size=128, shuffle=True)\n",
    "val_ds = DataLoader(MultimodalDataset(\n",
    "                val[cat_cols], val[num_cols], \n",
    "                val_seqs[:,:-1], val_seqs[:,1:]), \n",
    "                batch_size=128)"
   ]
  },
  {
   "cell_type": "code",
   "execution_count": 495,
   "metadata": {},
   "outputs": [],
   "source": [
    "model = MultimodalClassifier(emb_szs, n_cont=len(num_cols), emb_drop=0.04,\n",
    "                    szs=[1000, 500], drops=[0.001, 0.01], \n",
    "                    rnn_hidden_sz=64, rnn_input_sz=1, rnn_n_layers=2, \n",
    "                    rnn_drop=0.04)"
   ]
  },
  {
   "cell_type": "code",
   "execution_count": 496,
   "metadata": {},
   "outputs": [],
   "source": [
    "USE_CUDA = True\n",
    "if USE_CUDA:\n",
    "    model = model.cuda()"
   ]
  },
  {
   "cell_type": "code",
   "execution_count": 497,
   "metadata": {},
   "outputs": [],
   "source": [
    "optimizer = optim.Adam(model.parameters(), lr=1e-3)\n",
    "criterion = nn.BCEWithLogitsLoss()"
   ]
  },
  {
   "cell_type": "code",
   "execution_count": 498,
   "metadata": {},
   "outputs": [
    {
     "name": "stdout",
     "output_type": "stream",
     "text": [
      "Train Epoch: 1 [25600/983172 (3%)]\tLoss: 0.130563\n",
      "Train Epoch: 1 [51200/983172 (5%)]\tLoss: 0.091905\n",
      "Train Epoch: 1 [76800/983172 (8%)]\tLoss: 0.087458\n",
      "Train Epoch: 1 [102400/983172 (10%)]\tLoss: 0.086679\n",
      "Train Epoch: 1 [128000/983172 (13%)]\tLoss: 0.085280\n",
      "Train Epoch: 1 [153600/983172 (16%)]\tLoss: 0.085257\n",
      "Train Epoch: 1 [179200/983172 (18%)]\tLoss: 0.085345\n",
      "Train Epoch: 1 [204800/983172 (21%)]\tLoss: 0.085674\n",
      "Train Epoch: 1 [230400/983172 (23%)]\tLoss: 0.084306\n",
      "Train Epoch: 1 [256000/983172 (26%)]\tLoss: 0.084966\n",
      "[0/493590 (0%)]\n",
      "[102400/493590 (21%)]\n",
      "[204800/493590 (41%)]\n",
      "[307200/493590 (62%)]\n",
      "[409600/493590 (83%)]\n",
      "ROC AUC Score: 0.574720\n",
      "Validation Loss: 0.156681\n",
      "Train Epoch: 1 [281600/983172 (29%)]\tLoss: 0.082950\n",
      "Train Epoch: 1 [307200/983172 (31%)]\tLoss: 0.084248\n",
      "Train Epoch: 1 [332800/983172 (34%)]\tLoss: 0.085769\n",
      "Train Epoch: 1 [358400/983172 (36%)]\tLoss: 0.085179\n",
      "Train Epoch: 1 [384000/983172 (39%)]\tLoss: 0.083127\n",
      "Train Epoch: 1 [409600/983172 (42%)]\tLoss: 0.085444\n",
      "Train Epoch: 1 [435200/983172 (44%)]\tLoss: 0.085625\n",
      "Train Epoch: 1 [460800/983172 (47%)]\tLoss: 0.084045\n",
      "Train Epoch: 1 [486400/983172 (49%)]\tLoss: 0.084101\n",
      "Train Epoch: 1 [512000/983172 (52%)]\tLoss: 0.083714\n",
      "[0/493590 (0%)]\n",
      "[102400/493590 (21%)]\n",
      "[204800/493590 (41%)]\n",
      "[307200/493590 (62%)]\n",
      "[409600/493590 (83%)]\n",
      "ROC AUC Score: 0.596517\n",
      "Validation Loss: 0.152969\n",
      "Train Epoch: 1 [537600/983172 (55%)]\tLoss: 0.085771\n",
      "Train Epoch: 1 [563200/983172 (57%)]\tLoss: 0.084037\n",
      "Train Epoch: 1 [588800/983172 (60%)]\tLoss: 0.085376\n",
      "Train Epoch: 1 [614400/983172 (62%)]\tLoss: 0.083635\n",
      "Train Epoch: 1 [640000/983172 (65%)]\tLoss: 0.083836\n",
      "Train Epoch: 1 [665600/983172 (68%)]\tLoss: 0.082655\n",
      "Train Epoch: 1 [691200/983172 (70%)]\tLoss: 0.082591\n",
      "Train Epoch: 1 [716800/983172 (73%)]\tLoss: 0.082477\n",
      "Train Epoch: 1 [742400/983172 (76%)]\tLoss: 0.082891\n",
      "Train Epoch: 1 [768000/983172 (78%)]\tLoss: 0.082958\n",
      "[0/493590 (0%)]\n",
      "[102400/493590 (21%)]\n",
      "[204800/493590 (41%)]\n",
      "[307200/493590 (62%)]\n",
      "[409600/493590 (83%)]\n",
      "ROC AUC Score: 0.608238\n",
      "Validation Loss: 0.154524\n",
      "Train Epoch: 1 [793600/983172 (81%)]\tLoss: 0.083280\n",
      "Train Epoch: 1 [819200/983172 (83%)]\tLoss: 0.084387\n",
      "Train Epoch: 1 [844800/983172 (86%)]\tLoss: 0.082599\n",
      "Train Epoch: 1 [870400/983172 (89%)]\tLoss: 0.083420\n",
      "Train Epoch: 1 [896000/983172 (91%)]\tLoss: 0.083181\n",
      "Train Epoch: 1 [921600/983172 (94%)]\tLoss: 0.083716\n",
      "Train Epoch: 1 [947200/983172 (96%)]\tLoss: 0.082961\n",
      "Train Epoch: 1 [972800/983172 (99%)]\tLoss: 0.083735\n",
      "\n",
      "Train Epoch: 2 [25600/983172 (3%)]\tLoss: 0.082430\n",
      "Train Epoch: 2 [51200/983172 (5%)]\tLoss: 0.082288\n",
      "Train Epoch: 2 [76800/983172 (8%)]\tLoss: 0.082908\n",
      "Train Epoch: 2 [102400/983172 (10%)]\tLoss: 0.083586\n",
      "Train Epoch: 2 [128000/983172 (13%)]\tLoss: 0.081776\n",
      "Train Epoch: 2 [153600/983172 (16%)]\tLoss: 0.081974\n",
      "Train Epoch: 2 [179200/983172 (18%)]\tLoss: 0.083443\n",
      "Train Epoch: 2 [204800/983172 (21%)]\tLoss: 0.084083\n",
      "Train Epoch: 2 [230400/983172 (23%)]\tLoss: 0.081908\n",
      "Train Epoch: 2 [256000/983172 (26%)]\tLoss: 0.082958\n",
      "[0/493590 (0%)]\n",
      "[102400/493590 (21%)]\n",
      "[204800/493590 (41%)]\n",
      "[307200/493590 (62%)]\n",
      "[409600/493590 (83%)]\n",
      "ROC AUC Score: 0.612254\n",
      "Validation Loss: 0.152280\n",
      "Train Epoch: 2 [281600/983172 (29%)]\tLoss: 0.081632\n",
      "Train Epoch: 2 [307200/983172 (31%)]\tLoss: 0.085492\n",
      "Train Epoch: 2 [332800/983172 (34%)]\tLoss: 0.080496\n",
      "Train Epoch: 2 [358400/983172 (36%)]\tLoss: 0.083974\n",
      "Train Epoch: 2 [384000/983172 (39%)]\tLoss: 0.081033\n",
      "Train Epoch: 2 [409600/983172 (42%)]\tLoss: 0.082315\n",
      "Train Epoch: 2 [435200/983172 (44%)]\tLoss: 0.082631\n",
      "Train Epoch: 2 [460800/983172 (47%)]\tLoss: 0.081129\n",
      "Train Epoch: 2 [486400/983172 (49%)]\tLoss: 0.082619\n",
      "Train Epoch: 2 [512000/983172 (52%)]\tLoss: 0.083048\n",
      "[0/493590 (0%)]\n",
      "[102400/493590 (21%)]\n",
      "[204800/493590 (41%)]\n",
      "[307200/493590 (62%)]\n",
      "[409600/493590 (83%)]\n",
      "ROC AUC Score: 0.625959\n",
      "Validation Loss: 0.151150\n",
      "Train Epoch: 2 [537600/983172 (55%)]\tLoss: 0.082690\n",
      "Train Epoch: 2 [563200/983172 (57%)]\tLoss: 0.081454\n",
      "Train Epoch: 2 [588800/983172 (60%)]\tLoss: 0.081591\n",
      "Train Epoch: 2 [614400/983172 (62%)]\tLoss: 0.082442\n",
      "Train Epoch: 2 [640000/983172 (65%)]\tLoss: 0.082360\n",
      "Train Epoch: 2 [665600/983172 (68%)]\tLoss: 0.083114\n",
      "Train Epoch: 2 [691200/983172 (70%)]\tLoss: 0.081892\n",
      "Train Epoch: 2 [716800/983172 (73%)]\tLoss: 0.081127\n",
      "Train Epoch: 2 [742400/983172 (76%)]\tLoss: 0.083238\n",
      "Train Epoch: 2 [768000/983172 (78%)]\tLoss: 0.080418\n",
      "[0/493590 (0%)]\n",
      "[102400/493590 (21%)]\n",
      "[204800/493590 (41%)]\n",
      "[307200/493590 (62%)]\n",
      "[409600/493590 (83%)]\n",
      "ROC AUC Score: 0.631268\n",
      "Validation Loss: 0.154673\n",
      "Train Epoch: 2 [793600/983172 (81%)]\tLoss: 0.081102\n",
      "Train Epoch: 2 [819200/983172 (83%)]\tLoss: 0.081320\n",
      "Train Epoch: 2 [844800/983172 (86%)]\tLoss: 0.081418\n",
      "Train Epoch: 2 [870400/983172 (89%)]\tLoss: 0.083423\n",
      "Train Epoch: 2 [896000/983172 (91%)]\tLoss: 0.080767\n",
      "Train Epoch: 2 [921600/983172 (94%)]\tLoss: 0.082912\n",
      "Train Epoch: 2 [947200/983172 (96%)]\tLoss: 0.082080\n",
      "Train Epoch: 2 [972800/983172 (99%)]\tLoss: 0.083208\n",
      "\n",
      "CPU times: user 12min 27s, sys: 19.4 s, total: 12min 47s\n",
      "Wall time: 12min 46s\n"
     ]
    }
   ],
   "source": [
    "%%time\n",
    "model, train_losses, val_losses, val_auc_scores = train_model(\n",
    "                model, train_ds, val_ds, optimizer, criterion,\n",
    "                n_epochs=2, USE_CUDA=USE_CUDA, val_every=10)"
   ]
  },
  {
   "cell_type": "code",
   "execution_count": 499,
   "metadata": {},
   "outputs": [],
   "source": [
    "from src.multimodal import get_predictions"
   ]
  },
  {
   "cell_type": "code",
   "execution_count": 500,
   "metadata": {},
   "outputs": [
    {
     "name": "stdout",
     "output_type": "stream",
     "text": [
      "[0/493590 (0%)]\n",
      "[102400/493590 (21%)]\n",
      "[204800/493590 (41%)]\n",
      "[307200/493590 (62%)]\n",
      "[409600/493590 (83%)]\n"
     ]
    }
   ],
   "source": [
    "targets, preds = get_predictions(model, val_ds, USE_CUDA=USE_CUDA)"
   ]
  },
  {
   "cell_type": "code",
   "execution_count": 501,
   "metadata": {},
   "outputs": [
    {
     "data": {
      "text/plain": [
       "0.6153719275149232"
      ]
     },
     "execution_count": 501,
     "metadata": {},
     "output_type": "execute_result"
    }
   ],
   "source": [
    "roc_auc_score(targets, preds)"
   ]
  },
  {
   "cell_type": "code",
   "execution_count": null,
   "metadata": {},
   "outputs": [],
   "source": []
  }
 ],
 "metadata": {
  "kernelspec": {
   "display_name": "Python 3",
   "language": "python",
   "name": "python3"
  },
  "language_info": {
   "codemirror_mode": {
    "name": "ipython",
    "version": 3
   },
   "file_extension": ".py",
   "mimetype": "text/x-python",
   "name": "python",
   "nbconvert_exporter": "python",
   "pygments_lexer": "ipython3",
   "version": "3.6.4"
  }
 },
 "nbformat": 4,
 "nbformat_minor": 2
}
