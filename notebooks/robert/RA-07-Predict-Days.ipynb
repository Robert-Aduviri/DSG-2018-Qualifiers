{
 "cells": [
  {
   "cell_type": "code",
   "execution_count": 1,
   "metadata": {},
   "outputs": [],
   "source": [
    "%load_ext autoreload\n",
    "%autoreload 2\n",
    "%matplotlib inline\n",
    "%config InlineBackend.figure_format = 'retina'\n",
    "\n",
    "import os, math\n",
    "import numpy as np, pandas as pd\n",
    "import matplotlib.pyplot as plt, seaborn as sns\n",
    "from pandas_summary import DataFrameSummary\n",
    "from tqdm import tqdm, tqdm_notebook\n",
    "from pathlib import Path\n",
    "pd.set_option('display.max_columns', 1000)\n",
    "pd.set_option('display.max_rows', 400)\n",
    "sns.set()\n",
    "\n",
    "os.chdir('../..')\n",
    "from src import utils"
   ]
  },
  {
   "cell_type": "code",
   "execution_count": 2,
   "metadata": {},
   "outputs": [],
   "source": [
    "DATA        = Path('data')\n",
    "RAW         = DATA/'raw'\n",
    "INTERIM     = DATA/'interim'\n",
    "PROCESSED   = DATA/'processed'\n",
    "SUBMISSIONS = DATA/'submissions'"
   ]
  },
  {
   "cell_type": "code",
   "execution_count": 3,
   "metadata": {},
   "outputs": [],
   "source": [
    "challenge  = pd.read_csv(RAW/'Challenge_20180423.csv', low_memory=False)\n",
    "customer   = pd.read_csv(RAW/'Customer.csv', low_memory=False)\n",
    "isin       = pd.read_csv(RAW/'Isin.csv', low_memory=False)\n",
    "submission = pd.read_csv(RAW/'sample_submission.csv', low_memory=False)\n",
    "trade      = pd.read_csv(RAW/'Trade.csv', low_memory=False)"
   ]
  },
  {
   "cell_type": "code",
   "execution_count": 11,
   "metadata": {},
   "outputs": [],
   "source": [
    "from src.utils import make_val_set, add_datediffs"
   ]
  },
  {
   "cell_type": "code",
   "execution_count": 115,
   "metadata": {},
   "outputs": [
    {
     "name": "stdout",
     "output_type": "stream",
     "text": [
      "CPU times: user 2min 27s, sys: 320 ms, total: 2min 28s\n",
      "Wall time: 2min 28s\n"
     ]
    }
   ],
   "source": [
    "%%time\n",
    "weeks = [make_val_set(trade[trade.TradeDateKey == d], challenge) \\\n",
    "                     for d in range(20180416, 20180421)]"
   ]
  },
  {
   "cell_type": "code",
   "execution_count": 116,
   "metadata": {},
   "outputs": [
    {
     "name": "stdout",
     "output_type": "stream",
     "text": [
      "0.0    482122\n",
      "1.0      3744\n",
      "Name: CustomerInterest, dtype: int64\n",
      "0.0    482916\n",
      "1.0      4100\n",
      "Name: CustomerInterest, dtype: int64\n",
      "0.0    483195\n",
      "1.0      4285\n",
      "Name: CustomerInterest, dtype: int64\n",
      "0.0    482345\n",
      "1.0      3993\n",
      "Name: CustomerInterest, dtype: int64\n",
      "0.0    483985\n",
      "1.0      3187\n",
      "Name: CustomerInterest, dtype: int64\n"
     ]
    }
   ],
   "source": [
    "for w in weeks:\n",
    "    print(w.CustomerInterest.value_counts())"
   ]
  },
  {
   "cell_type": "code",
   "execution_count": 117,
   "metadata": {},
   "outputs": [
    {
     "name": "stdout",
     "output_type": "stream",
     "text": [
      "CPU times: user 3min 18s, sys: 468 ms, total: 3min 18s\n",
      "Wall time: 3min 18s\n"
     ]
    }
   ],
   "source": [
    "%%time\n",
    "for w in weeks:\n",
    "    add_datediffs(w, trade[trade.TradeDateKey > 20180000])"
   ]
  },
  {
   "cell_type": "code",
   "execution_count": 118,
   "metadata": {},
   "outputs": [],
   "source": [
    "for w, name in zip(weeks, range(20180416, 20180421)):\n",
    "    w.to_feather(PROCESSED/f'val_datediffs_{name}.feather')"
   ]
  },
  {
   "cell_type": "code",
   "execution_count": 119,
   "metadata": {},
   "outputs": [],
   "source": [
    "from src.utils import preprocessing_pipeline"
   ]
  },
  {
   "cell_type": "code",
   "execution_count": 120,
   "metadata": {},
   "outputs": [],
   "source": [
    "weeks = []\n",
    "for name in range(20180416, 20180421):\n",
    "    weeks.append(pd.read_feather(PROCESSED/f'val_datediffs_{name}.feather'))\n",
    "test = pd.read_feather(PROCESSED/'test_datediffs.feather')"
   ]
  },
  {
   "cell_type": "code",
   "execution_count": 121,
   "metadata": {},
   "outputs": [
    {
     "name": "stdout",
     "output_type": "stream",
     "text": [
      "CPU times: user 1.57 s, sys: 0 ns, total: 1.57 s\n",
      "Wall time: 1.57 s\n"
     ]
    }
   ],
   "source": [
    "%%time\n",
    "for i, w in enumerate(weeks):\n",
    "    weeks[i] = preprocessing_pipeline(w, customer, isin, trade)\n",
    "test = preprocessing_pipeline(test, customer, isin, trade)"
   ]
  },
  {
   "cell_type": "code",
   "execution_count": 122,
   "metadata": {},
   "outputs": [],
   "source": [
    "cat_cols = ['BuySell', 'Sector', 'Subsector', 'Region_x', 'Country', \n",
    "            'Seniority', 'Currency', 'ActivityGroup', \n",
    "            'Region_y', 'Activity', 'RiskCaptain', 'Owner', 'CompositeRating', \n",
    "            'IndustrySector', 'MarketIssue', 'CouponType']"
   ]
  },
  {
   "cell_type": "code",
   "execution_count": 123,
   "metadata": {},
   "outputs": [],
   "source": [
    "id_cols = ['TradeDateKey', 'CustomerIdx', 'IsinIdx']\n",
    "target_col = 'CustomerInterest'\n",
    "pred_col = 'PredictionIdx'"
   ]
  },
  {
   "cell_type": "code",
   "execution_count": 124,
   "metadata": {},
   "outputs": [],
   "source": [
    "test.drop('DateKey', axis=1, inplace=True)"
   ]
  },
  {
   "cell_type": "code",
   "execution_count": 125,
   "metadata": {},
   "outputs": [],
   "source": [
    "weeks.append(test)"
   ]
  },
  {
   "cell_type": "code",
   "execution_count": 126,
   "metadata": {},
   "outputs": [],
   "source": [
    "for w in weeks:\n",
    "    w.drop(['IndustrySubgroup', 'TickerIdx'], axis=1, inplace=True)"
   ]
  },
  {
   "cell_type": "code",
   "execution_count": 127,
   "metadata": {},
   "outputs": [
    {
     "name": "stdout",
     "output_type": "stream",
     "text": [
      "(485866, 27)\n",
      "(487016, 27)\n",
      "(487480, 27)\n",
      "(486338, 27)\n",
      "(487172, 27)\n",
      "(484758, 28)\n"
     ]
    }
   ],
   "source": [
    "for w in weeks:\n",
    "    print(w.shape)"
   ]
  },
  {
   "cell_type": "markdown",
   "metadata": {},
   "source": [
    "## Preprocessing"
   ]
  },
  {
   "cell_type": "code",
   "execution_count": 128,
   "metadata": {},
   "outputs": [],
   "source": [
    "from src.utils import apply_cats\n",
    "for col in cat_cols:\n",
    "    # test set\n",
    "    weeks[-1][col] = weeks[-1][col].astype('category').cat.as_ordered()\n",
    "for w in weeks[:-1]:\n",
    "    apply_cats(w, weeks[-1])\n",
    "\n",
    "for w in weeks:\n",
    "    for col in cat_cols:\n",
    "        w[col] = w[col].cat.codes"
   ]
  },
  {
   "cell_type": "markdown",
   "metadata": {},
   "source": [
    "## Model"
   ]
  },
  {
   "cell_type": "code",
   "execution_count": 129,
   "metadata": {},
   "outputs": [],
   "source": [
    "from src.utils import run_model\n",
    "from lightgbm import LGBMClassifier\n",
    "metric_names = ['auc']"
   ]
  },
  {
   "cell_type": "code",
   "execution_count": 130,
   "metadata": {},
   "outputs": [
    {
     "name": "stdout",
     "output_type": "stream",
     "text": [
      "[20180416] [20180417] [20180423]\n",
      "[20180417] [20180418] [20180423]\n",
      "[20180418] [20180419] [20180423]\n",
      "[20180419] [20180420] [20180423]\n",
      "[20180420] [20180423] [20180423]\n"
     ]
    }
   ],
   "source": [
    "for i, w in enumerate(weeks[1:]):\n",
    "    train, val, test = weeks[i], w, weeks[-1]\n",
    "    print(train['TradeDateKey'].unique(), \n",
    "          val['TradeDateKey'].unique(), \n",
    "          test['TradeDateKey'].unique())"
   ]
  },
  {
   "cell_type": "code",
   "execution_count": 131,
   "metadata": {},
   "outputs": [
    {
     "name": "stdout",
     "output_type": "stream",
     "text": [
      "LGBMClassifier \n",
      "\n",
      "[1]\tvalid_0's auc: 0.718918\n",
      "Training until validation scores don't improve for 30 rounds.\n",
      "[2]\tvalid_0's auc: 0.718993\n",
      "[3]\tvalid_0's auc: 0.719268\n",
      "[4]\tvalid_0's auc: 0.719207\n",
      "[5]\tvalid_0's auc: 0.719213\n",
      "[6]\tvalid_0's auc: 0.719228\n",
      "[7]\tvalid_0's auc: 0.719235\n",
      "[8]\tvalid_0's auc: 0.722083\n",
      "[9]\tvalid_0's auc: 0.722033\n",
      "[10]\tvalid_0's auc: 0.722123\n",
      "[11]\tvalid_0's auc: 0.722246\n",
      "[12]\tvalid_0's auc: 0.722066\n",
      "[13]\tvalid_0's auc: 0.722033\n",
      "[14]\tvalid_0's auc: 0.722711\n",
      "[15]\tvalid_0's auc: 0.722855\n",
      "[16]\tvalid_0's auc: 0.72289\n",
      "[17]\tvalid_0's auc: 0.723014\n",
      "[18]\tvalid_0's auc: 0.723523\n",
      "[19]\tvalid_0's auc: 0.724547\n",
      "[20]\tvalid_0's auc: 0.726379\n",
      "[21]\tvalid_0's auc: 0.726874\n",
      "[22]\tvalid_0's auc: 0.727143\n",
      "[23]\tvalid_0's auc: 0.72764\n",
      "[24]\tvalid_0's auc: 0.734725\n",
      "[25]\tvalid_0's auc: 0.744568\n",
      "[26]\tvalid_0's auc: 0.744925\n",
      "[27]\tvalid_0's auc: 0.752086\n",
      "[28]\tvalid_0's auc: 0.752056\n",
      "[29]\tvalid_0's auc: 0.752243\n",
      "[30]\tvalid_0's auc: 0.752277\n",
      "[31]\tvalid_0's auc: 0.752514\n",
      "[32]\tvalid_0's auc: 0.752711\n",
      "[33]\tvalid_0's auc: 0.753086\n",
      "[34]\tvalid_0's auc: 0.75339\n",
      "[35]\tvalid_0's auc: 0.753453\n",
      "[36]\tvalid_0's auc: 0.753769\n",
      "[37]\tvalid_0's auc: 0.754487\n",
      "[38]\tvalid_0's auc: 0.754428\n",
      "[39]\tvalid_0's auc: 0.754911\n",
      "[40]\tvalid_0's auc: 0.755602\n",
      "[41]\tvalid_0's auc: 0.756845\n",
      "[42]\tvalid_0's auc: 0.757227\n",
      "[43]\tvalid_0's auc: 0.757226\n",
      "[44]\tvalid_0's auc: 0.757884\n",
      "[45]\tvalid_0's auc: 0.758408\n",
      "[46]\tvalid_0's auc: 0.759073\n",
      "[47]\tvalid_0's auc: 0.758832\n",
      "[48]\tvalid_0's auc: 0.759829\n",
      "[49]\tvalid_0's auc: 0.760999\n",
      "[50]\tvalid_0's auc: 0.761109\n",
      "[51]\tvalid_0's auc: 0.761132\n",
      "[52]\tvalid_0's auc: 0.762562\n",
      "[53]\tvalid_0's auc: 0.762959\n",
      "[54]\tvalid_0's auc: 0.763062\n",
      "[55]\tvalid_0's auc: 0.763186\n",
      "[56]\tvalid_0's auc: 0.76313\n",
      "[57]\tvalid_0's auc: 0.763507\n",
      "[58]\tvalid_0's auc: 0.763157\n",
      "[59]\tvalid_0's auc: 0.763144\n",
      "[60]\tvalid_0's auc: 0.763275\n",
      "[61]\tvalid_0's auc: 0.76313\n",
      "[62]\tvalid_0's auc: 0.762804\n",
      "[63]\tvalid_0's auc: 0.763257\n",
      "[64]\tvalid_0's auc: 0.763058\n",
      "[65]\tvalid_0's auc: 0.762895\n",
      "[66]\tvalid_0's auc: 0.763036\n",
      "[67]\tvalid_0's auc: 0.762931\n",
      "[68]\tvalid_0's auc: 0.762642\n",
      "[69]\tvalid_0's auc: 0.762438\n",
      "[70]\tvalid_0's auc: 0.762571\n",
      "[71]\tvalid_0's auc: 0.762508\n",
      "[72]\tvalid_0's auc: 0.76248\n",
      "[73]\tvalid_0's auc: 0.762829\n",
      "[74]\tvalid_0's auc: 0.762823\n",
      "[75]\tvalid_0's auc: 0.762726\n",
      "[76]\tvalid_0's auc: 0.762522\n",
      "[77]\tvalid_0's auc: 0.762331\n",
      "[78]\tvalid_0's auc: 0.762241\n",
      "[79]\tvalid_0's auc: 0.76253\n",
      "[80]\tvalid_0's auc: 0.762425\n",
      "[81]\tvalid_0's auc: 0.762214\n",
      "[82]\tvalid_0's auc: 0.762315\n",
      "[83]\tvalid_0's auc: 0.762238\n",
      "[84]\tvalid_0's auc: 0.762219\n",
      "[85]\tvalid_0's auc: 0.762028\n",
      "[86]\tvalid_0's auc: 0.761747\n",
      "[87]\tvalid_0's auc: 0.761671\n",
      "Early stopping, best iteration is:\n",
      "[57]\tvalid_0's auc: 0.763507\n",
      "{'auc': {'trn': [0.8198029578958577], 'val': [0.7635072622335571]}}\n",
      "\n",
      "{'trn_auc_mean': 0.8198029578958577, 'val_auc_mean': 0.7635072622335571}\n",
      "LGBMClassifier \n",
      "\n",
      "[1]\tvalid_0's auc: 0.75427\n",
      "Training until validation scores don't improve for 30 rounds.\n",
      "[2]\tvalid_0's auc: 0.76023\n",
      "[3]\tvalid_0's auc: 0.759718\n",
      "[4]\tvalid_0's auc: 0.760529\n",
      "[5]\tvalid_0's auc: 0.760425\n",
      "[6]\tvalid_0's auc: 0.760426\n",
      "[7]\tvalid_0's auc: 0.760414\n",
      "[8]\tvalid_0's auc: 0.760403\n",
      "[9]\tvalid_0's auc: 0.760402\n",
      "[10]\tvalid_0's auc: 0.760381\n",
      "[11]\tvalid_0's auc: 0.760803\n",
      "[12]\tvalid_0's auc: 0.760522\n",
      "[13]\tvalid_0's auc: 0.76046\n",
      "[14]\tvalid_0's auc: 0.760463\n",
      "[15]\tvalid_0's auc: 0.761175\n",
      "[16]\tvalid_0's auc: 0.752305\n",
      "[17]\tvalid_0's auc: 0.757939\n",
      "[18]\tvalid_0's auc: 0.758349\n",
      "[19]\tvalid_0's auc: 0.769817\n",
      "[20]\tvalid_0's auc: 0.771581\n",
      "[21]\tvalid_0's auc: 0.77121\n",
      "[22]\tvalid_0's auc: 0.772239\n",
      "[23]\tvalid_0's auc: 0.772731\n",
      "[24]\tvalid_0's auc: 0.773437\n",
      "[25]\tvalid_0's auc: 0.773816\n",
      "[26]\tvalid_0's auc: 0.774027\n",
      "[27]\tvalid_0's auc: 0.775336\n",
      "[28]\tvalid_0's auc: 0.775515\n",
      "[29]\tvalid_0's auc: 0.776387\n",
      "[30]\tvalid_0's auc: 0.777522\n",
      "[31]\tvalid_0's auc: 0.777779\n",
      "[32]\tvalid_0's auc: 0.778113\n",
      "[33]\tvalid_0's auc: 0.778362\n",
      "[34]\tvalid_0's auc: 0.779063\n",
      "[35]\tvalid_0's auc: 0.77868\n",
      "[36]\tvalid_0's auc: 0.779102\n",
      "[37]\tvalid_0's auc: 0.778994\n",
      "[38]\tvalid_0's auc: 0.78058\n",
      "[39]\tvalid_0's auc: 0.780732\n",
      "[40]\tvalid_0's auc: 0.781069\n",
      "[41]\tvalid_0's auc: 0.781021\n",
      "[42]\tvalid_0's auc: 0.783113\n",
      "[43]\tvalid_0's auc: 0.783465\n",
      "[44]\tvalid_0's auc: 0.78352\n",
      "[45]\tvalid_0's auc: 0.784048\n",
      "[46]\tvalid_0's auc: 0.783783\n",
      "[47]\tvalid_0's auc: 0.784863\n",
      "[48]\tvalid_0's auc: 0.785216\n",
      "[49]\tvalid_0's auc: 0.785373\n",
      "[50]\tvalid_0's auc: 0.78546\n",
      "[51]\tvalid_0's auc: 0.785989\n",
      "[52]\tvalid_0's auc: 0.786414\n",
      "[53]\tvalid_0's auc: 0.786781\n",
      "[54]\tvalid_0's auc: 0.786989\n",
      "[55]\tvalid_0's auc: 0.786536\n",
      "[56]\tvalid_0's auc: 0.787047\n",
      "[57]\tvalid_0's auc: 0.786946\n",
      "[58]\tvalid_0's auc: 0.787048\n",
      "[59]\tvalid_0's auc: 0.787019\n",
      "[60]\tvalid_0's auc: 0.786874\n",
      "[61]\tvalid_0's auc: 0.787365\n",
      "[62]\tvalid_0's auc: 0.787072\n",
      "[63]\tvalid_0's auc: 0.78724\n",
      "[64]\tvalid_0's auc: 0.787145\n",
      "[65]\tvalid_0's auc: 0.787373\n",
      "[66]\tvalid_0's auc: 0.787641\n",
      "[67]\tvalid_0's auc: 0.787701\n",
      "[68]\tvalid_0's auc: 0.787722\n",
      "[69]\tvalid_0's auc: 0.787699\n",
      "[70]\tvalid_0's auc: 0.788419\n",
      "[71]\tvalid_0's auc: 0.78841\n",
      "[72]\tvalid_0's auc: 0.788498\n",
      "[73]\tvalid_0's auc: 0.788862\n",
      "[74]\tvalid_0's auc: 0.789086\n",
      "[75]\tvalid_0's auc: 0.788995\n",
      "[76]\tvalid_0's auc: 0.788886\n",
      "[77]\tvalid_0's auc: 0.78905\n",
      "[78]\tvalid_0's auc: 0.789353\n",
      "[79]\tvalid_0's auc: 0.789274\n",
      "[80]\tvalid_0's auc: 0.78893\n",
      "[81]\tvalid_0's auc: 0.788915\n",
      "[82]\tvalid_0's auc: 0.78912\n",
      "[83]\tvalid_0's auc: 0.789459\n",
      "[84]\tvalid_0's auc: 0.789449\n",
      "[85]\tvalid_0's auc: 0.789225\n",
      "[86]\tvalid_0's auc: 0.789289\n",
      "[87]\tvalid_0's auc: 0.789158\n",
      "[88]\tvalid_0's auc: 0.789183\n",
      "[89]\tvalid_0's auc: 0.789099\n",
      "[90]\tvalid_0's auc: 0.788926\n",
      "[91]\tvalid_0's auc: 0.788907\n",
      "[92]\tvalid_0's auc: 0.788825\n",
      "[93]\tvalid_0's auc: 0.788873\n",
      "[94]\tvalid_0's auc: 0.788891\n",
      "[95]\tvalid_0's auc: 0.788668\n",
      "[96]\tvalid_0's auc: 0.788561\n",
      "[97]\tvalid_0's auc: 0.788662\n",
      "[98]\tvalid_0's auc: 0.788508\n",
      "[99]\tvalid_0's auc: 0.788202\n",
      "[100]\tvalid_0's auc: 0.788261\n",
      "[101]\tvalid_0's auc: 0.788239\n",
      "[102]\tvalid_0's auc: 0.788004\n",
      "[103]\tvalid_0's auc: 0.787949\n",
      "[104]\tvalid_0's auc: 0.787876\n",
      "[105]\tvalid_0's auc: 0.78762\n",
      "[106]\tvalid_0's auc: 0.787659\n",
      "[107]\tvalid_0's auc: 0.787692\n",
      "[108]\tvalid_0's auc: 0.787587\n",
      "[109]\tvalid_0's auc: 0.787595\n",
      "[110]\tvalid_0's auc: 0.787512\n",
      "[111]\tvalid_0's auc: 0.787677\n",
      "[112]\tvalid_0's auc: 0.78762\n",
      "[113]\tvalid_0's auc: 0.787493\n",
      "Early stopping, best iteration is:\n",
      "[83]\tvalid_0's auc: 0.789459\n",
      "{'auc': {'trn': [0.8533439262476391], 'val': [0.7894593024167715]}}\n",
      "\n",
      "{'trn_auc_mean': 0.8533439262476391, 'val_auc_mean': 0.7894593024167715}\n",
      "LGBMClassifier \n",
      "\n",
      "[1]\tvalid_0's auc: 0.722088\n",
      "Training until validation scores don't improve for 30 rounds.\n",
      "[2]\tvalid_0's auc: 0.73\n",
      "[3]\tvalid_0's auc: 0.733977\n",
      "[4]\tvalid_0's auc: 0.735086\n",
      "[5]\tvalid_0's auc: 0.735087\n",
      "[6]\tvalid_0's auc: 0.734961\n",
      "[7]\tvalid_0's auc: 0.733227\n",
      "[8]\tvalid_0's auc: 0.733713\n",
      "[9]\tvalid_0's auc: 0.733272\n",
      "[10]\tvalid_0's auc: 0.733748\n",
      "[11]\tvalid_0's auc: 0.733757\n",
      "[12]\tvalid_0's auc: 0.733757\n",
      "[13]\tvalid_0's auc: 0.733758\n",
      "[14]\tvalid_0's auc: 0.733744\n",
      "[15]\tvalid_0's auc: 0.733741\n",
      "[16]\tvalid_0's auc: 0.735661\n",
      "[17]\tvalid_0's auc: 0.735658\n",
      "[18]\tvalid_0's auc: 0.735663\n",
      "[19]\tvalid_0's auc: 0.735692\n",
      "[20]\tvalid_0's auc: 0.73571\n",
      "[21]\tvalid_0's auc: 0.739232\n",
      "[22]\tvalid_0's auc: 0.739911\n",
      "[23]\tvalid_0's auc: 0.740854\n",
      "[24]\tvalid_0's auc: 0.740828\n",
      "[25]\tvalid_0's auc: 0.742618\n",
      "[26]\tvalid_0's auc: 0.74287\n",
      "[27]\tvalid_0's auc: 0.743994\n",
      "[28]\tvalid_0's auc: 0.74418\n",
      "[29]\tvalid_0's auc: 0.745025\n",
      "[30]\tvalid_0's auc: 0.748762\n",
      "[31]\tvalid_0's auc: 0.748821\n",
      "[32]\tvalid_0's auc: 0.749368\n",
      "[33]\tvalid_0's auc: 0.74968\n",
      "[34]\tvalid_0's auc: 0.749735\n",
      "[35]\tvalid_0's auc: 0.749666\n",
      "[36]\tvalid_0's auc: 0.76129\n",
      "[37]\tvalid_0's auc: 0.761494\n",
      "[38]\tvalid_0's auc: 0.761919\n",
      "[39]\tvalid_0's auc: 0.762571\n",
      "[40]\tvalid_0's auc: 0.762759\n",
      "[41]\tvalid_0's auc: 0.762695\n",
      "[42]\tvalid_0's auc: 0.762902\n",
      "[43]\tvalid_0's auc: 0.763048\n",
      "[44]\tvalid_0's auc: 0.764162\n",
      "[45]\tvalid_0's auc: 0.764943\n",
      "[46]\tvalid_0's auc: 0.765049\n",
      "[47]\tvalid_0's auc: 0.765131\n",
      "[48]\tvalid_0's auc: 0.765268\n",
      "[49]\tvalid_0's auc: 0.764931\n",
      "[50]\tvalid_0's auc: 0.765507\n",
      "[51]\tvalid_0's auc: 0.765703\n",
      "[52]\tvalid_0's auc: 0.765488\n",
      "[53]\tvalid_0's auc: 0.765681\n",
      "[54]\tvalid_0's auc: 0.766003\n",
      "[55]\tvalid_0's auc: 0.765696\n",
      "[56]\tvalid_0's auc: 0.766075\n",
      "[57]\tvalid_0's auc: 0.765873\n",
      "[58]\tvalid_0's auc: 0.766073\n",
      "[59]\tvalid_0's auc: 0.766501\n",
      "[60]\tvalid_0's auc: 0.766799\n",
      "[61]\tvalid_0's auc: 0.766568\n",
      "[62]\tvalid_0's auc: 0.766527\n",
      "[63]\tvalid_0's auc: 0.76678\n",
      "[64]\tvalid_0's auc: 0.766619\n",
      "[65]\tvalid_0's auc: 0.766662\n",
      "[66]\tvalid_0's auc: 0.766544\n",
      "[67]\tvalid_0's auc: 0.766557\n",
      "[68]\tvalid_0's auc: 0.766323\n",
      "[69]\tvalid_0's auc: 0.76632\n",
      "[70]\tvalid_0's auc: 0.76672\n",
      "[71]\tvalid_0's auc: 0.766475\n",
      "[72]\tvalid_0's auc: 0.766417\n",
      "[73]\tvalid_0's auc: 0.766199\n",
      "[74]\tvalid_0's auc: 0.766328\n",
      "[75]\tvalid_0's auc: 0.766161\n",
      "[76]\tvalid_0's auc: 0.76604\n",
      "[77]\tvalid_0's auc: 0.765907\n",
      "[78]\tvalid_0's auc: 0.765877\n",
      "[79]\tvalid_0's auc: 0.765758\n",
      "[80]\tvalid_0's auc: 0.76533\n",
      "[81]\tvalid_0's auc: 0.765032\n",
      "[82]\tvalid_0's auc: 0.765127\n",
      "[83]\tvalid_0's auc: 0.765102\n",
      "[84]\tvalid_0's auc: 0.764986\n",
      "[85]\tvalid_0's auc: 0.764745\n",
      "[86]\tvalid_0's auc: 0.764653\n",
      "[87]\tvalid_0's auc: 0.764389\n",
      "[88]\tvalid_0's auc: 0.764451\n",
      "[89]\tvalid_0's auc: 0.764311\n",
      "[90]\tvalid_0's auc: 0.764119\n",
      "Early stopping, best iteration is:\n",
      "[60]\tvalid_0's auc: 0.766799\n",
      "{'auc': {'trn': [0.8352530904421046], 'val': [0.7667994358899388]}}\n",
      "\n",
      "{'trn_auc_mean': 0.8352530904421046, 'val_auc_mean': 0.7667994358899388}\n",
      "LGBMClassifier \n",
      "\n",
      "[1]\tvalid_0's auc: 0.741275\n",
      "Training until validation scores don't improve for 30 rounds.\n",
      "[2]\tvalid_0's auc: 0.744086\n",
      "[3]\tvalid_0's auc: 0.744095\n",
      "[4]\tvalid_0's auc: 0.744611\n",
      "[5]\tvalid_0's auc: 0.744262\n",
      "[6]\tvalid_0's auc: 0.745293\n",
      "[7]\tvalid_0's auc: 0.745242\n",
      "[8]\tvalid_0's auc: 0.745243\n",
      "[9]\tvalid_0's auc: 0.745246\n",
      "[10]\tvalid_0's auc: 0.745959\n",
      "[11]\tvalid_0's auc: 0.745958\n",
      "[12]\tvalid_0's auc: 0.746567\n",
      "[13]\tvalid_0's auc: 0.746556\n",
      "[14]\tvalid_0's auc: 0.74656\n",
      "[15]\tvalid_0's auc: 0.746651\n",
      "[16]\tvalid_0's auc: 0.749096\n",
      "[17]\tvalid_0's auc: 0.749216\n",
      "[18]\tvalid_0's auc: 0.749208\n",
      "[19]\tvalid_0's auc: 0.75017\n",
      "[20]\tvalid_0's auc: 0.750255\n",
      "[21]\tvalid_0's auc: 0.750352\n",
      "[22]\tvalid_0's auc: 0.750741\n",
      "[23]\tvalid_0's auc: 0.751756\n",
      "[24]\tvalid_0's auc: 0.751829\n",
      "[25]\tvalid_0's auc: 0.752113\n",
      "[26]\tvalid_0's auc: 0.752241\n",
      "[27]\tvalid_0's auc: 0.752262\n",
      "[28]\tvalid_0's auc: 0.752864\n",
      "[29]\tvalid_0's auc: 0.753217\n",
      "[30]\tvalid_0's auc: 0.753913\n",
      "[31]\tvalid_0's auc: 0.753782\n",
      "[32]\tvalid_0's auc: 0.754139\n",
      "[33]\tvalid_0's auc: 0.753972\n",
      "[34]\tvalid_0's auc: 0.754952\n",
      "[35]\tvalid_0's auc: 0.755745\n",
      "[36]\tvalid_0's auc: 0.756261\n",
      "[37]\tvalid_0's auc: 0.757281\n",
      "[38]\tvalid_0's auc: 0.761842\n",
      "[39]\tvalid_0's auc: 0.763522\n",
      "[40]\tvalid_0's auc: 0.763106\n",
      "[41]\tvalid_0's auc: 0.763279\n",
      "[42]\tvalid_0's auc: 0.763782\n",
      "[43]\tvalid_0's auc: 0.763735\n",
      "[44]\tvalid_0's auc: 0.764677\n",
      "[45]\tvalid_0's auc: 0.765253\n",
      "[46]\tvalid_0's auc: 0.765467\n",
      "[47]\tvalid_0's auc: 0.765071\n",
      "[48]\tvalid_0's auc: 0.765611\n",
      "[49]\tvalid_0's auc: 0.765596\n",
      "[50]\tvalid_0's auc: 0.765812\n",
      "[51]\tvalid_0's auc: 0.765581\n",
      "[52]\tvalid_0's auc: 0.766223\n",
      "[53]\tvalid_0's auc: 0.765713\n",
      "[54]\tvalid_0's auc: 0.766726\n",
      "[55]\tvalid_0's auc: 0.766978\n",
      "[56]\tvalid_0's auc: 0.767469\n",
      "[57]\tvalid_0's auc: 0.768299\n",
      "[58]\tvalid_0's auc: 0.768783\n",
      "[59]\tvalid_0's auc: 0.768934\n",
      "[60]\tvalid_0's auc: 0.769137\n",
      "[61]\tvalid_0's auc: 0.769726\n",
      "[62]\tvalid_0's auc: 0.770187\n",
      "[63]\tvalid_0's auc: 0.770537\n",
      "[64]\tvalid_0's auc: 0.770537\n",
      "[65]\tvalid_0's auc: 0.770438\n",
      "[66]\tvalid_0's auc: 0.770817\n",
      "[67]\tvalid_0's auc: 0.771175\n",
      "[68]\tvalid_0's auc: 0.770836\n",
      "[69]\tvalid_0's auc: 0.770832\n",
      "[70]\tvalid_0's auc: 0.771044\n",
      "[71]\tvalid_0's auc: 0.771258\n",
      "[72]\tvalid_0's auc: 0.771179\n",
      "[73]\tvalid_0's auc: 0.771863\n",
      "[74]\tvalid_0's auc: 0.771751\n",
      "[75]\tvalid_0's auc: 0.772357\n",
      "[76]\tvalid_0's auc: 0.772312\n",
      "[77]\tvalid_0's auc: 0.772979\n",
      "[78]\tvalid_0's auc: 0.773092\n",
      "[79]\tvalid_0's auc: 0.772958\n",
      "[80]\tvalid_0's auc: 0.772985\n",
      "[81]\tvalid_0's auc: 0.773053\n",
      "[82]\tvalid_0's auc: 0.772892\n",
      "[83]\tvalid_0's auc: 0.773205\n",
      "[84]\tvalid_0's auc: 0.773242\n",
      "[85]\tvalid_0's auc: 0.773648\n",
      "[86]\tvalid_0's auc: 0.773985\n",
      "[87]\tvalid_0's auc: 0.773957\n",
      "[88]\tvalid_0's auc: 0.774219\n",
      "[89]\tvalid_0's auc: 0.77431\n",
      "[90]\tvalid_0's auc: 0.774293\n",
      "[91]\tvalid_0's auc: 0.774078\n",
      "[92]\tvalid_0's auc: 0.774412\n",
      "[93]\tvalid_0's auc: 0.774306\n",
      "[94]\tvalid_0's auc: 0.774285\n",
      "[95]\tvalid_0's auc: 0.774441\n",
      "[96]\tvalid_0's auc: 0.77465\n",
      "[97]\tvalid_0's auc: 0.774634\n",
      "[98]\tvalid_0's auc: 0.774743\n",
      "[99]\tvalid_0's auc: 0.774877\n",
      "[100]\tvalid_0's auc: 0.774665\n",
      "[101]\tvalid_0's auc: 0.774721\n",
      "[102]\tvalid_0's auc: 0.774986\n",
      "[103]\tvalid_0's auc: 0.774806\n",
      "[104]\tvalid_0's auc: 0.774734\n",
      "[105]\tvalid_0's auc: 0.774985\n",
      "[106]\tvalid_0's auc: 0.775102\n",
      "[107]\tvalid_0's auc: 0.77511\n",
      "[108]\tvalid_0's auc: 0.775149\n",
      "[109]\tvalid_0's auc: 0.775158\n",
      "[110]\tvalid_0's auc: 0.775187\n",
      "[111]\tvalid_0's auc: 0.775208\n",
      "[112]\tvalid_0's auc: 0.775478\n",
      "[113]\tvalid_0's auc: 0.776048\n",
      "[114]\tvalid_0's auc: 0.77622\n",
      "[115]\tvalid_0's auc: 0.77612\n",
      "[116]\tvalid_0's auc: 0.775941\n",
      "[117]\tvalid_0's auc: 0.775891\n",
      "[118]\tvalid_0's auc: 0.776336\n",
      "[119]\tvalid_0's auc: 0.776527\n",
      "[120]\tvalid_0's auc: 0.776464\n",
      "Did not meet early stopping. Best iteration is:\n",
      "[119]\tvalid_0's auc: 0.776527\n",
      "{'auc': {'trn': [0.8904196157038824], 'val': [0.7765269874597963]}}\n",
      "\n",
      "{'trn_auc_mean': 0.8904196157038824, 'val_auc_mean': 0.7765269874597963}\n",
      "LGBMClassifier \n",
      "\n",
      "{'auc': {'trn': [0.9038027311946291], 'val': [0]}}\n",
      "\n",
      "{'trn_auc_mean': 0.9038027311946291, 'val_auc_mean': 0.0}\n",
      "CPU times: user 1min 53s, sys: 160 ms, total: 1min 53s\n",
      "Wall time: 23.1 s\n"
     ]
    }
   ],
   "source": [
    "%%time\n",
    "names = list(range(20180416, 20180421))\n",
    "results = None\n",
    "output = []\n",
    "for i, w in enumerate(weeks[1:]):\n",
    "    train, val, test = weeks[i], w, weeks[-1]\n",
    "    X_train, y_train = train.drop(id_cols + [target_col], axis=1), \\\n",
    "                       train[target_col]\n",
    "    if pred_col in val.columns: # when test acts as validation\n",
    "        X_val, y_val = None, None\n",
    "    else:\n",
    "        X_val, y_val = val.drop(id_cols + [target_col], axis=1), \\\n",
    "                       val[target_col]\n",
    "    X_test = test.drop(id_cols + [target_col, pred_col], axis=1)\n",
    "        \n",
    "    y_test, _, results, model = run_model(\n",
    "            LGBMClassifier(n_estimators=120),\n",
    "            X_train, y_train, X_val, y_val, X_test,\n",
    "            metric_names, results, \n",
    "            params_desc='n_estimators=150',\n",
    "            dataset_desc=f'{names[i]}_datediffs', \n",
    "            early_stopping=True)\n",
    "    output.append([y_test, model])"
   ]
  },
  {
   "cell_type": "code",
   "execution_count": 132,
   "metadata": {},
   "outputs": [
    {
     "data": {
      "text/html": [
       "<div>\n",
       "<style scoped>\n",
       "    .dataframe tbody tr th:only-of-type {\n",
       "        vertical-align: middle;\n",
       "    }\n",
       "\n",
       "    .dataframe tbody tr th {\n",
       "        vertical-align: top;\n",
       "    }\n",
       "\n",
       "    .dataframe thead th {\n",
       "        text-align: right;\n",
       "    }\n",
       "</style>\n",
       "<table border=\"1\" class=\"dataframe\">\n",
       "  <thead>\n",
       "    <tr style=\"text-align: right;\">\n",
       "      <th></th>\n",
       "      <th>dataset</th>\n",
       "      <th>model</th>\n",
       "      <th>params</th>\n",
       "      <th>time</th>\n",
       "      <th>trn_auc_mean</th>\n",
       "      <th>val_auc_mean</th>\n",
       "    </tr>\n",
       "  </thead>\n",
       "  <tbody>\n",
       "    <tr>\n",
       "      <th>0</th>\n",
       "      <td>20180416_datediffs</td>\n",
       "      <td>LGBMClassifier</td>\n",
       "      <td>n_estimators=150</td>\n",
       "      <td>4.15</td>\n",
       "      <td>0.819803</td>\n",
       "      <td>0.763507</td>\n",
       "    </tr>\n",
       "    <tr>\n",
       "      <th>1</th>\n",
       "      <td>20180417_datediffs</td>\n",
       "      <td>LGBMClassifier</td>\n",
       "      <td>n_estimators=150</td>\n",
       "      <td>5.35</td>\n",
       "      <td>0.853344</td>\n",
       "      <td>0.789459</td>\n",
       "    </tr>\n",
       "    <tr>\n",
       "      <th>2</th>\n",
       "      <td>20180418_datediffs</td>\n",
       "      <td>LGBMClassifier</td>\n",
       "      <td>n_estimators=150</td>\n",
       "      <td>4.02</td>\n",
       "      <td>0.835253</td>\n",
       "      <td>0.766799</td>\n",
       "    </tr>\n",
       "    <tr>\n",
       "      <th>3</th>\n",
       "      <td>20180419_datediffs</td>\n",
       "      <td>LGBMClassifier</td>\n",
       "      <td>n_estimators=150</td>\n",
       "      <td>6.45</td>\n",
       "      <td>0.890420</td>\n",
       "      <td>0.776527</td>\n",
       "    </tr>\n",
       "    <tr>\n",
       "      <th>4</th>\n",
       "      <td>20180420_datediffs</td>\n",
       "      <td>LGBMClassifier</td>\n",
       "      <td>n_estimators=150</td>\n",
       "      <td>2.94</td>\n",
       "      <td>0.903803</td>\n",
       "      <td>0.000000</td>\n",
       "    </tr>\n",
       "  </tbody>\n",
       "</table>\n",
       "</div>"
      ],
      "text/plain": [
       "              dataset           model            params  time  trn_auc_mean  \\\n",
       "0  20180416_datediffs  LGBMClassifier  n_estimators=150  4.15      0.819803   \n",
       "1  20180417_datediffs  LGBMClassifier  n_estimators=150  5.35      0.853344   \n",
       "2  20180418_datediffs  LGBMClassifier  n_estimators=150  4.02      0.835253   \n",
       "3  20180419_datediffs  LGBMClassifier  n_estimators=150  6.45      0.890420   \n",
       "4  20180420_datediffs  LGBMClassifier  n_estimators=150  2.94      0.903803   \n",
       "\n",
       "   val_auc_mean  \n",
       "0      0.763507  \n",
       "1      0.789459  \n",
       "2      0.766799  \n",
       "3      0.776527  \n",
       "4      0.000000  "
      ]
     },
     "execution_count": 132,
     "metadata": {},
     "output_type": "execute_result"
    }
   ],
   "source": [
    "# with 2018 data\n",
    "results"
   ]
  },
  {
   "cell_type": "code",
   "execution_count": 92,
   "metadata": {},
   "outputs": [
    {
     "data": {
      "text/html": [
       "<div>\n",
       "<style scoped>\n",
       "    .dataframe tbody tr th:only-of-type {\n",
       "        vertical-align: middle;\n",
       "    }\n",
       "\n",
       "    .dataframe tbody tr th {\n",
       "        vertical-align: top;\n",
       "    }\n",
       "\n",
       "    .dataframe thead th {\n",
       "        text-align: right;\n",
       "    }\n",
       "</style>\n",
       "<table border=\"1\" class=\"dataframe\">\n",
       "  <thead>\n",
       "    <tr style=\"text-align: right;\">\n",
       "      <th></th>\n",
       "      <th>dataset</th>\n",
       "      <th>model</th>\n",
       "      <th>params</th>\n",
       "      <th>time</th>\n",
       "      <th>trn_auc_mean</th>\n",
       "      <th>val_auc_mean</th>\n",
       "    </tr>\n",
       "  </thead>\n",
       "  <tbody>\n",
       "    <tr>\n",
       "      <th>0</th>\n",
       "      <td>20180416_datediffs</td>\n",
       "      <td>LGBMClassifier</td>\n",
       "      <td>n_estimators=150</td>\n",
       "      <td>6.70</td>\n",
       "      <td>0.926833</td>\n",
       "      <td>0.869495</td>\n",
       "    </tr>\n",
       "    <tr>\n",
       "      <th>1</th>\n",
       "      <td>20180417_datediffs</td>\n",
       "      <td>LGBMClassifier</td>\n",
       "      <td>n_estimators=150</td>\n",
       "      <td>5.27</td>\n",
       "      <td>0.910540</td>\n",
       "      <td>0.889957</td>\n",
       "    </tr>\n",
       "    <tr>\n",
       "      <th>2</th>\n",
       "      <td>20180418_datediffs</td>\n",
       "      <td>LGBMClassifier</td>\n",
       "      <td>n_estimators=150</td>\n",
       "      <td>4.87</td>\n",
       "      <td>0.909100</td>\n",
       "      <td>0.875706</td>\n",
       "    </tr>\n",
       "    <tr>\n",
       "      <th>3</th>\n",
       "      <td>20180419_datediffs</td>\n",
       "      <td>LGBMClassifier</td>\n",
       "      <td>n_estimators=150</td>\n",
       "      <td>6.27</td>\n",
       "      <td>0.939980</td>\n",
       "      <td>0.881754</td>\n",
       "    </tr>\n",
       "    <tr>\n",
       "      <th>4</th>\n",
       "      <td>20180420_datediffs</td>\n",
       "      <td>LGBMClassifier</td>\n",
       "      <td>n_estimators=150</td>\n",
       "      <td>3.38</td>\n",
       "      <td>0.959137</td>\n",
       "      <td>0.000000</td>\n",
       "    </tr>\n",
       "  </tbody>\n",
       "</table>\n",
       "</div>"
      ],
      "text/plain": [
       "              dataset           model            params  time  trn_auc_mean  \\\n",
       "0  20180416_datediffs  LGBMClassifier  n_estimators=150  6.70      0.926833   \n",
       "1  20180417_datediffs  LGBMClassifier  n_estimators=150  5.27      0.910540   \n",
       "2  20180418_datediffs  LGBMClassifier  n_estimators=150  4.87      0.909100   \n",
       "3  20180419_datediffs  LGBMClassifier  n_estimators=150  6.27      0.939980   \n",
       "4  20180420_datediffs  LGBMClassifier  n_estimators=150  3.38      0.959137   \n",
       "\n",
       "   val_auc_mean  \n",
       "0      0.869495  \n",
       "1      0.889957  \n",
       "2      0.875706  \n",
       "3      0.881754  \n",
       "4      0.000000  "
      ]
     },
     "execution_count": 92,
     "metadata": {},
     "output_type": "execute_result"
    }
   ],
   "source": [
    "# with all data\n",
    "results"
   ]
  },
  {
   "cell_type": "code",
   "execution_count": 133,
   "metadata": {},
   "outputs": [
    {
     "data": {
      "text/plain": [
       "array([[0.01357491, 0.01017713, 0.01043005, 0.01662145, 0.01284638],\n",
       "       [0.01140843, 0.0058839 , 0.00649024, 0.01097864, 0.00800061],\n",
       "       [0.07190851, 0.00664296, 0.01037058, 0.01469428, 0.00908813],\n",
       "       [0.00712391, 0.00597376, 0.00494475, 0.00411091, 0.00273574],\n",
       "       [0.01074893, 0.00063901, 0.00325018, 0.0095723 , 0.00240637]])"
      ]
     },
     "execution_count": 133,
     "metadata": {},
     "output_type": "execute_result"
    }
   ],
   "source": [
    "# first 5 predictions (2018 data)\n",
    "np.array([x[0] for x in output])[:,:5]"
   ]
  },
  {
   "cell_type": "code",
   "execution_count": 93,
   "metadata": {},
   "outputs": [
    {
     "data": {
      "text/plain": [
       "array([[0.0836018 , 0.00824288, 0.10999873, 0.11227282, 0.1121087 ],\n",
       "       [0.12736906, 0.00593054, 0.11235133, 0.17877195, 0.11556503],\n",
       "       [0.15078699, 0.00591629, 0.1151076 , 0.19216083, 0.16283516],\n",
       "       [0.13264925, 0.0099546 , 0.27889786, 0.32566423, 0.21829754],\n",
       "       [0.16748621, 0.00122203, 0.32202829, 0.1657942 , 0.27001574]])"
      ]
     },
     "execution_count": 93,
     "metadata": {},
     "output_type": "execute_result"
    }
   ],
   "source": [
    "# first 5 predictions (all data)\n",
    "np.array([x[0] for x in output])[:,:5]"
   ]
  },
  {
   "cell_type": "code",
   "execution_count": 134,
   "metadata": {},
   "outputs": [],
   "source": [
    "y_test = np.mean([x[0] for x in output], axis=0)"
   ]
  },
  {
   "cell_type": "code",
   "execution_count": 135,
   "metadata": {},
   "outputs": [
    {
     "data": {
      "text/plain": [
       "array([0.02295294, 0.00586335, 0.00709716, 0.01119552, 0.00701545])"
      ]
     },
     "execution_count": 135,
     "metadata": {},
     "output_type": "execute_result"
    }
   ],
   "source": [
    "y_test[:5]"
   ]
  },
  {
   "cell_type": "code",
   "execution_count": 136,
   "metadata": {},
   "outputs": [],
   "source": [
    "test[target_col] = y_test"
   ]
  },
  {
   "cell_type": "markdown",
   "metadata": {},
   "source": [
    "# Submission"
   ]
  },
  {
   "cell_type": "code",
   "execution_count": 137,
   "metadata": {},
   "outputs": [],
   "source": [
    "submission = pd.read_csv(RAW/'sample_submission.csv', low_memory=False)\n",
    "submission = pd.merge(submission[['PredictionIdx']], test[['PredictionIdx', target_col]], how='left', on='PredictionIdx')"
   ]
  },
  {
   "cell_type": "code",
   "execution_count": 138,
   "metadata": {},
   "outputs": [
    {
     "data": {
      "text/plain": [
       "count    484758.000000\n",
       "mean          0.005740\n",
       "std           0.007380\n",
       "min           0.001169\n",
       "25%           0.001930\n",
       "50%           0.002799\n",
       "75%           0.008413\n",
       "max           0.287018\n",
       "Name: CustomerInterest, dtype: float64"
      ]
     },
     "execution_count": 138,
     "metadata": {},
     "output_type": "execute_result"
    }
   ],
   "source": [
    "submission[target_col].describe()"
   ]
  },
  {
   "cell_type": "code",
   "execution_count": 139,
   "metadata": {},
   "outputs": [
    {
     "data": {
      "text/html": [
       "<div>\n",
       "<style scoped>\n",
       "    .dataframe tbody tr th:only-of-type {\n",
       "        vertical-align: middle;\n",
       "    }\n",
       "\n",
       "    .dataframe tbody tr th {\n",
       "        vertical-align: top;\n",
       "    }\n",
       "\n",
       "    .dataframe thead th {\n",
       "        text-align: right;\n",
       "    }\n",
       "</style>\n",
       "<table border=\"1\" class=\"dataframe\">\n",
       "  <thead>\n",
       "    <tr style=\"text-align: right;\">\n",
       "      <th></th>\n",
       "      <th>PredictionIdx</th>\n",
       "      <th>CustomerInterest</th>\n",
       "    </tr>\n",
       "  </thead>\n",
       "  <tbody>\n",
       "    <tr>\n",
       "      <th>0</th>\n",
       "      <td>a1e0d80784</td>\n",
       "      <td>0.022953</td>\n",
       "    </tr>\n",
       "    <tr>\n",
       "      <th>1</th>\n",
       "      <td>c2cc6cc2a8</td>\n",
       "      <td>0.005863</td>\n",
       "    </tr>\n",
       "    <tr>\n",
       "      <th>2</th>\n",
       "      <td>a8e94f6344</td>\n",
       "      <td>0.007097</td>\n",
       "    </tr>\n",
       "    <tr>\n",
       "      <th>3</th>\n",
       "      <td>758bae1e35</td>\n",
       "      <td>0.011196</td>\n",
       "    </tr>\n",
       "    <tr>\n",
       "      <th>4</th>\n",
       "      <td>02ab378ee8</td>\n",
       "      <td>0.007015</td>\n",
       "    </tr>\n",
       "  </tbody>\n",
       "</table>\n",
       "</div>"
      ],
      "text/plain": [
       "  PredictionIdx  CustomerInterest\n",
       "0    a1e0d80784          0.022953\n",
       "1    c2cc6cc2a8          0.005863\n",
       "2    a8e94f6344          0.007097\n",
       "3    758bae1e35          0.011196\n",
       "4    02ab378ee8          0.007015"
      ]
     },
     "execution_count": 139,
     "metadata": {},
     "output_type": "execute_result"
    }
   ],
   "source": [
    "submission.head()"
   ]
  },
  {
   "cell_type": "code",
   "execution_count": 140,
   "metadata": {},
   "outputs": [],
   "source": [
    "submission.to_csv(SUBMISSIONS/'lgbm_days_datediffs_0416-0420.csv', index=False)"
   ]
  },
  {
   "cell_type": "code",
   "execution_count": null,
   "metadata": {},
   "outputs": [],
   "source": []
  }
 ],
 "metadata": {
  "kernelspec": {
   "display_name": "Python 3",
   "language": "python",
   "name": "python3"
  },
  "language_info": {
   "codemirror_mode": {
    "name": "ipython",
    "version": 3
   },
   "file_extension": ".py",
   "mimetype": "text/x-python",
   "name": "python",
   "nbconvert_exporter": "python",
   "pygments_lexer": "ipython3",
   "version": "3.6.4"
  }
 },
 "nbformat": 4,
 "nbformat_minor": 2
}
