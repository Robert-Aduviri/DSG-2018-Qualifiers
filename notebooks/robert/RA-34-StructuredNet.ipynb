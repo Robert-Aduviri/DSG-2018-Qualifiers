{
 "cells": [
  {
   "cell_type": "code",
   "execution_count": 1,
   "metadata": {},
   "outputs": [],
   "source": [
    "%load_ext autoreload\n",
    "%autoreload 2\n",
    "%matplotlib inline\n",
    "%config InlineBackend.figure_format = 'retina'\n",
    "\n",
    "import os, math\n",
    "import numpy as np, pandas as pd\n",
    "import matplotlib.pyplot as plt, seaborn as sns\n",
    "from tqdm import tqdm, tqdm_notebook\n",
    "from pathlib import Path\n",
    "pd.set_option('display.max_columns', 1000)\n",
    "pd.set_option('display.max_rows', 400)\n",
    "sns.set()\n",
    "\n",
    "os.chdir('../..')\n",
    "from src import utils"
   ]
  },
  {
   "cell_type": "code",
   "execution_count": 2,
   "metadata": {},
   "outputs": [],
   "source": [
    "DATA        = Path('data')\n",
    "RAW         = DATA/'raw'\n",
    "INTERIM     = DATA/'interim'\n",
    "PROCESSED   = DATA/'processed'\n",
    "SUBMISSIONS = DATA/'submissions'"
   ]
  },
  {
   "cell_type": "code",
   "execution_count": 3,
   "metadata": {},
   "outputs": [],
   "source": [
    "from src.utils import get_weeks, week_num\n",
    "week_labels = get_weeks(day_from=20160104, num_weeks=121)[91:]"
   ]
  },
  {
   "cell_type": "code",
   "execution_count": 4,
   "metadata": {},
   "outputs": [
    {
     "name": "stdout",
     "output_type": "stream",
     "text": [
      "[20171002, 20171009, 20171016, 20171023, 20171030, 20171106, 20171113, 20171120, 20171127, 20171204, 20171211, 20171218, 20171225, 20180101, 20180108, 20180115, 20180122, 20180129, 20180205, 20180212, 20180219, 20180226, 20180305, 20180312, 20180319, 20180326, 20180402, 20180409, 20180416, 20180423]\n"
     ]
    }
   ],
   "source": [
    "print(week_labels)"
   ]
  },
  {
   "cell_type": "code",
   "execution_count": 5,
   "metadata": {},
   "outputs": [
    {
     "name": "stdout",
     "output_type": "stream",
     "text": [
      "CPU times: user 1min 26s, sys: 46.6 s, total: 2min 12s\n",
      "Wall time: 2min 23s\n"
     ]
    }
   ],
   "source": [
    "%%time\n",
    "train = pd.DataFrame()\n",
    "for name in week_labels[13:-2]:\n",
    "    train = pd.concat([train, pd.read_feather(PROCESSED/f'SVD_17-18_72f/week_{name}_SVD_diffscount.feather')])"
   ]
  },
  {
   "cell_type": "code",
   "execution_count": 6,
   "metadata": {},
   "outputs": [
    {
     "name": "stdout",
     "output_type": "stream",
     "text": [
      "CPU times: user 572 ms, sys: 380 ms, total: 952 ms\n",
      "Wall time: 951 ms\n"
     ]
    }
   ],
   "source": [
    "%%time\n",
    "val = pd.read_feather(PROCESSED/f'SVD_17-18_72f/week_{week_labels[-2]}_SVD_diffscount.feather')\n",
    "test = pd.read_feather(PROCESSED/f'SVD_17-18_72f/week_{week_labels[-1]}_SVD_diffscount.feather')"
   ]
  },
  {
   "cell_type": "markdown",
   "metadata": {},
   "source": [
    "## End checkpoint"
   ]
  },
  {
   "cell_type": "code",
   "execution_count": 15,
   "metadata": {},
   "outputs": [
    {
     "name": "stdout",
     "output_type": "stream",
     "text": [
      "CPU times: user 4.24 s, sys: 504 ms, total: 4.74 s\n",
      "Wall time: 4.73 s\n"
     ]
    }
   ],
   "source": [
    "%%time\n",
    "train_ids = set([(c,i,b) for c,i,b in zip(pd.concat([train.CustomerIdx, val.CustomerIdx]),\n",
    "                              pd.concat([train.IsinIdx, val.IsinIdx]),\n",
    "                              pd.concat([train.BuySell, val.BuySell]))])\n",
    "test_ids = set([(c,i,b) for c,i,b in zip(test.CustomerIdx, test.IsinIdx, test.BuySell)])"
   ]
  },
  {
   "cell_type": "code",
   "execution_count": 17,
   "metadata": {},
   "outputs": [
    {
     "data": {
      "text/plain": [
       "((8102750, 72), (493590, 72), (484758, 73))"
      ]
     },
     "execution_count": 17,
     "metadata": {},
     "output_type": "execute_result"
    }
   ],
   "source": [
    "train.shape, val.shape, test.shape"
   ]
  },
  {
   "cell_type": "code",
   "execution_count": 16,
   "metadata": {},
   "outputs": [
    {
     "data": {
      "text/plain": [
       "(985972, 484758, 0)"
      ]
     },
     "execution_count": 16,
     "metadata": {},
     "output_type": "execute_result"
    }
   ],
   "source": [
    "len(train_ids), len(test_ids), len(test_ids.difference(train_ids))"
   ]
  },
  {
   "cell_type": "code",
   "execution_count": 17,
   "metadata": {},
   "outputs": [
    {
     "data": {
      "text/plain": [
       "(1314014, 484758, 0)"
      ]
     },
     "execution_count": 17,
     "metadata": {},
     "output_type": "execute_result"
    }
   ],
   "source": [
    "len(train_ids), len(test_ids), len(test_ids.difference(train_ids))"
   ]
  },
  {
   "cell_type": "code",
   "execution_count": 30,
   "metadata": {},
   "outputs": [],
   "source": [
    "def get_seqs(trade, challenge, week_labels, keys, agg='sum'):\n",
    "    trade = trade[trade.TradeDateKey >= week_labels[0]]\n",
    "    if 'Week' not in trade.columns:\n",
    "        trade['Week'] = trade.TradeDateKey.apply(\n",
    "                            lambda x: week_num(week_labels, x))\n",
    "    weeks = trade.groupby(keys + ['Week'], as_index=False) \\\n",
    "                            ['CustomerInterest'].agg(agg)\n",
    "    n_weeks = weeks.Week.nunique()\n",
    "    seq_dict = {}\n",
    "    df = weeks.drop_duplicates(keys)\n",
    "    for tup in zip(*[df[c] for c in keys]):\n",
    "        tup = tup[0] if len(tup)==1 else tup\n",
    "        seq_dict[tup] = [0] * n_weeks\n",
    "    df = challenge.drop_duplicates(keys)\n",
    "    for tup in zip(*[df[c] for c in keys]):\n",
    "        tup = tup[0] if len(tup)==1 else tup\n",
    "        seq_dict[tup] = [0] * n_weeks\n",
    "    for tup in zip(*[weeks[c] for c in keys + ['Week', 'CustomerInterest']]):\n",
    "        tup, week, q = tup[:-2], tup[-2], tup[-1]\n",
    "        tup = tup[0] if len(tup)==1 else tup\n",
    "        seq_dict[tup][week] = q\n",
    "    return seq_dict"
   ]
  },
  {
   "cell_type": "code",
   "execution_count": 18,
   "metadata": {},
   "outputs": [],
   "source": [
    "from src.structurednet import get_seqs"
   ]
  },
  {
   "cell_type": "code",
   "execution_count": 19,
   "metadata": {},
   "outputs": [],
   "source": [
    "trade      = pd.read_csv(RAW/'Trade.csv', low_memory=False)\n",
    "challenge  = pd.read_csv(RAW/'Challenge_20180423.csv', low_memory=False)"
   ]
  },
  {
   "cell_type": "code",
   "execution_count": 21,
   "metadata": {},
   "outputs": [
    {
     "name": "stderr",
     "output_type": "stream",
     "text": [
      "/home/raduviri/Documents/DSG-2018/src/structurednet.py:16: SettingWithCopyWarning: \n",
      "A value is trying to be set on a copy of a slice from a DataFrame.\n",
      "Try using .loc[row_indexer,col_indexer] = value instead\n",
      "\n",
      "See the caveats in the documentation: http://pandas.pydata.org/pandas-docs/stable/indexing.html#indexing-view-versus-copy\n",
      "  lambda x: week_num(week_labels, x))\n"
     ]
    },
    {
     "name": "stdout",
     "output_type": "stream",
     "text": [
      "CPU times: user 15.8 s, sys: 308 ms, total: 16.1 s\n",
      "Wall time: 16.1 s\n"
     ]
    }
   ],
   "source": [
    "%%time\n",
    "transactions = get_seqs(trade, challenge, week_labels, \n",
    "                        ['CustomerIdx', 'IsinIdx', 'BuySell'])\n",
    "buysells = get_seqs(trade, challenge, week_labels, \n",
    "                        ['CustomerIdx', 'IsinIdx'])\n",
    "customers = get_seqs(trade, challenge, week_labels, ['CustomerIdx'])\n",
    "isins = get_seqs(trade, challenge, week_labels, ['IsinIdx'])"
   ]
  },
  {
   "cell_type": "code",
   "execution_count": 50,
   "metadata": {},
   "outputs": [
    {
     "name": "stdout",
     "output_type": "stream",
     "text": [
      "CPU times: user 7.67 s, sys: 260 ms, total: 7.93 s\n",
      "Wall time: 7.93 s\n"
     ]
    }
   ],
   "source": [
    "%%time\n",
    "train['Week'] = train.TradeDateKey.apply(\n",
    "                      lambda x: week_num(week_labels, x))\n",
    "val['Week'] = val.TradeDateKey.apply(\n",
    "                      lambda x: week_num(week_labels, x))\n",
    "test['Week'] = test.TradeDateKey.apply(\n",
    "                      lambda x: week_num(week_labels, x))"
   ]
  },
  {
   "cell_type": "code",
   "execution_count": 51,
   "metadata": {},
   "outputs": [
    {
     "data": {
      "text/plain": [
       "array([ 0,  1,  2,  3,  4,  5,  6,  7,  8,  9, 10, 11, 12, 13, 14, 15, 16,\n",
       "       17, 18, 19, 20, 21, 22, 23, 24, 25, 26, 27])"
      ]
     },
     "execution_count": 51,
     "metadata": {},
     "output_type": "execute_result"
    }
   ],
   "source": [
    "train.Week.unique()"
   ]
  },
  {
   "cell_type": "code",
   "execution_count": 52,
   "metadata": {},
   "outputs": [
    {
     "data": {
      "text/plain": [
       "array([28])"
      ]
     },
     "execution_count": 52,
     "metadata": {},
     "output_type": "execute_result"
    }
   ],
   "source": [
    "val.Week.unique()"
   ]
  },
  {
   "cell_type": "code",
   "execution_count": 48,
   "metadata": {},
   "outputs": [],
   "source": [
    "x = np.roll(isins[19020], 2)\n",
    "x[:2] = 0"
   ]
  },
  {
   "cell_type": "code",
   "execution_count": 54,
   "metadata": {},
   "outputs": [
    {
     "data": {
      "text/plain": [
       "30"
      ]
     },
     "execution_count": 54,
     "metadata": {},
     "output_type": "execute_result"
    }
   ],
   "source": [
    "len(week_labels)"
   ]
  },
  {
   "cell_type": "code",
   "execution_count": 60,
   "metadata": {},
   "outputs": [],
   "source": [
    "def shift_right(seq, week, week_labels):\n",
    "    places = len(week_labels) - week - 1\n",
    "    seq = np.roll(seq, places)\n",
    "    seq[:places] = 0\n",
    "    return seq"
   ]
  },
  {
   "cell_type": "code",
   "execution_count": 63,
   "metadata": {},
   "outputs": [],
   "source": [
    "import pickle\n",
    "with open(INTERIM/'scaler.pkl', 'rb') as f:\n",
    "    scaler = pickle.load(f)"
   ]
  },
  {
   "cell_type": "code",
   "execution_count": null,
   "metadata": {},
   "outputs": [],
   "source": [
    "train.describe().transpose()"
   ]
  },
  {
   "cell_type": "code",
   "execution_count": 62,
   "metadata": {},
   "outputs": [
    {
     "data": {
      "text/plain": [
       "array([0., 0., 0., 1., 0., 0., 1., 0., 0., 0., 1., 0., 2., 0., 0., 1., 0.,\n",
       "       0., 0., 3., 1., 0., 1., 4., 2., 0., 0., 2., 0.])"
      ]
     },
     "execution_count": 62,
     "metadata": {},
     "output_type": "execute_result"
    }
   ],
   "source": [
    "shift_right(isins[19020], 27, week_labels)"
   ]
  },
  {
   "cell_type": "code",
   "execution_count": 56,
   "metadata": {},
   "outputs": [
    {
     "name": "stdout",
     "output_type": "stream",
     "text": [
      "[0, 1.0, 0, 0, 1.0, 0, 0, 0, 1.0, 0, 2.0, 0, 0.0, 1.0, 0, 0, 0, 3.0, 1.0, 0, 1.0, 4.0, 2.0, 0, 0, 2.0, 0.0, 1.0, 0]\n"
     ]
    }
   ],
   "source": [
    "print(isins[19020])"
   ]
  },
  {
   "cell_type": "code",
   "execution_count": 41,
   "metadata": {},
   "outputs": [
    {
     "data": {
      "text/plain": [
       "(15387370, 493590, 484758)"
      ]
     },
     "execution_count": 41,
     "metadata": {},
     "output_type": "execute_result"
    }
   ],
   "source": [
    "len(train), len(val), len(test)"
   ]
  },
  {
   "cell_type": "code",
   "execution_count": null,
   "metadata": {},
   "outputs": [],
   "source": [
    "(9, 7259, 'Buy')\n"
   ]
  },
  {
   "cell_type": "code",
   "execution_count": 53,
   "metadata": {},
   "outputs": [
    {
     "data": {
      "text/plain": [
       "985972"
      ]
     },
     "execution_count": 53,
     "metadata": {},
     "output_type": "execute_result"
    }
   ],
   "source": [
    "len(train_ids)"
   ]
  },
  {
   "cell_type": "code",
   "execution_count": 74,
   "metadata": {},
   "outputs": [
    {
     "data": {
      "text/plain": [
       "True"
      ]
     },
     "execution_count": 74,
     "metadata": {},
     "output_type": "execute_result"
    }
   ],
   "source": [
    "(9,7259, 'Buy') in transactions"
   ]
  },
  {
   "cell_type": "code",
   "execution_count": 65,
   "metadata": {},
   "outputs": [
    {
     "data": {
      "text/plain": [
       "True"
      ]
     },
     "execution_count": 65,
     "metadata": {},
     "output_type": "execute_result"
    }
   ],
   "source": [
    "(9,7259, 'Buy') in train_ids"
   ]
  },
  {
   "cell_type": "code",
   "execution_count": 63,
   "metadata": {},
   "outputs": [
    {
     "data": {
      "text/html": [
       "<div>\n",
       "<style scoped>\n",
       "    .dataframe tbody tr th:only-of-type {\n",
       "        vertical-align: middle;\n",
       "    }\n",
       "\n",
       "    .dataframe tbody tr th {\n",
       "        vertical-align: top;\n",
       "    }\n",
       "\n",
       "    .dataframe thead th {\n",
       "        text-align: right;\n",
       "    }\n",
       "</style>\n",
       "<table border=\"1\" class=\"dataframe\">\n",
       "  <thead>\n",
       "    <tr style=\"text-align: right;\">\n",
       "      <th></th>\n",
       "      <th>TradeDateKey</th>\n",
       "      <th>CustomerIdx</th>\n",
       "      <th>IsinIdx</th>\n",
       "      <th>BuySell</th>\n",
       "      <th>CustomerInterest</th>\n",
       "      <th>DaysSinceBuySell</th>\n",
       "      <th>DaysSinceTransaction</th>\n",
       "      <th>DaysSinceCustomerActivity</th>\n",
       "      <th>DaysSinceBondActivity</th>\n",
       "      <th>DaysCountBuySell</th>\n",
       "      <th>DaysCountTransaction</th>\n",
       "      <th>DaysCountCustomerActivity</th>\n",
       "      <th>DaysCountBondActivity</th>\n",
       "      <th>SVD_CustomerBias</th>\n",
       "      <th>SVD_IsinBuySellBias</th>\n",
       "      <th>SVD_Recommend</th>\n",
       "      <th>SVD_CustomerFactor00</th>\n",
       "      <th>SVD_CustomerFactor01</th>\n",
       "      <th>SVD_CustomerFactor02</th>\n",
       "      <th>SVD_CustomerFactor03</th>\n",
       "      <th>SVD_CustomerFactor04</th>\n",
       "      <th>SVD_CustomerFactor05</th>\n",
       "      <th>SVD_CustomerFactor06</th>\n",
       "      <th>SVD_CustomerFactor07</th>\n",
       "      <th>SVD_CustomerFactor08</th>\n",
       "      <th>SVD_CustomerFactor09</th>\n",
       "      <th>SVD_CustomerFactor10</th>\n",
       "      <th>SVD_CustomerFactor11</th>\n",
       "      <th>SVD_CustomerFactor12</th>\n",
       "      <th>SVD_CustomerFactor13</th>\n",
       "      <th>SVD_CustomerFactor14</th>\n",
       "      <th>SVD_IsinBuySellFactor00</th>\n",
       "      <th>SVD_IsinBuySellFactor01</th>\n",
       "      <th>SVD_IsinBuySellFactor02</th>\n",
       "      <th>SVD_IsinBuySellFactor03</th>\n",
       "      <th>SVD_IsinBuySellFactor04</th>\n",
       "      <th>SVD_IsinBuySellFactor05</th>\n",
       "      <th>SVD_IsinBuySellFactor06</th>\n",
       "      <th>SVD_IsinBuySellFactor07</th>\n",
       "      <th>SVD_IsinBuySellFactor08</th>\n",
       "      <th>SVD_IsinBuySellFactor09</th>\n",
       "      <th>SVD_IsinBuySellFactor10</th>\n",
       "      <th>SVD_IsinBuySellFactor11</th>\n",
       "      <th>SVD_IsinBuySellFactor12</th>\n",
       "      <th>SVD_IsinBuySellFactor13</th>\n",
       "      <th>SVD_IsinBuySellFactor14</th>\n",
       "      <th>Year</th>\n",
       "      <th>Month</th>\n",
       "      <th>Day</th>\n",
       "      <th>Sector</th>\n",
       "      <th>Subsector</th>\n",
       "      <th>Region_x</th>\n",
       "      <th>Country</th>\n",
       "      <th>TickerIdx</th>\n",
       "      <th>ActualMaturityDateKey</th>\n",
       "      <th>IssueDateKey</th>\n",
       "      <th>Seniority</th>\n",
       "      <th>Currency</th>\n",
       "      <th>ActivityGroup</th>\n",
       "      <th>Region_y</th>\n",
       "      <th>Activity</th>\n",
       "      <th>RiskCaptain</th>\n",
       "      <th>Owner</th>\n",
       "      <th>CompositeRating</th>\n",
       "      <th>IndustrySector</th>\n",
       "      <th>IndustrySubgroup</th>\n",
       "      <th>MarketIssue</th>\n",
       "      <th>IssuedAmount</th>\n",
       "      <th>CouponType</th>\n",
       "      <th>BondDuration</th>\n",
       "      <th>BondRemaining</th>\n",
       "      <th>BondLife</th>\n",
       "      <th>CompositeRatingCat</th>\n",
       "      <th>Week</th>\n",
       "      <th>BuySellCat</th>\n",
       "      <th>CustomerIdxCat</th>\n",
       "      <th>IsinIdxCat</th>\n",
       "    </tr>\n",
       "  </thead>\n",
       "  <tbody>\n",
       "    <tr>\n",
       "      <th>136</th>\n",
       "      <td>20180101</td>\n",
       "      <td>9</td>\n",
       "      <td>7259</td>\n",
       "      <td>Buy</td>\n",
       "      <td>0.0</td>\n",
       "      <td>915</td>\n",
       "      <td>915</td>\n",
       "      <td>96</td>\n",
       "      <td>3</td>\n",
       "      <td>0</td>\n",
       "      <td>0</td>\n",
       "      <td>14</td>\n",
       "      <td>123</td>\n",
       "      <td>0.168586</td>\n",
       "      <td>0.113142</td>\n",
       "      <td>0.642453</td>\n",
       "      <td>0.021119</td>\n",
       "      <td>0.045339</td>\n",
       "      <td>-0.075194</td>\n",
       "      <td>0.04243</td>\n",
       "      <td>0.04705</td>\n",
       "      <td>0.168435</td>\n",
       "      <td>0.045051</td>\n",
       "      <td>0.080392</td>\n",
       "      <td>-0.175639</td>\n",
       "      <td>-0.03347</td>\n",
       "      <td>-0.085924</td>\n",
       "      <td>-0.057379</td>\n",
       "      <td>-0.006258</td>\n",
       "      <td>0.001205</td>\n",
       "      <td>0.036391</td>\n",
       "      <td>0.233954</td>\n",
       "      <td>-0.026064</td>\n",
       "      <td>0.028400</td>\n",
       "      <td>0.116740</td>\n",
       "      <td>-0.036194</td>\n",
       "      <td>0.230744</td>\n",
       "      <td>0.001060</td>\n",
       "      <td>0.134995</td>\n",
       "      <td>-0.178426</td>\n",
       "      <td>-0.071588</td>\n",
       "      <td>-0.112515</td>\n",
       "      <td>-0.054956</td>\n",
       "      <td>0.277415</td>\n",
       "      <td>-0.389541</td>\n",
       "      <td>0.005499</td>\n",
       "      <td>2018</td>\n",
       "      <td>18</td>\n",
       "      <td>1</td>\n",
       "      <td>Asset Owners</td>\n",
       "      <td>Insurance</td>\n",
       "      <td>Asia Pacific</td>\n",
       "      <td>TAIWAN</td>\n",
       "      <td>834</td>\n",
       "      <td>20400301</td>\n",
       "      <td>20100301</td>\n",
       "      <td>SEN</td>\n",
       "      <td>USD</td>\n",
       "      <td>FLOW G10</td>\n",
       "      <td>AMERICAS</td>\n",
       "      <td>HG CASH</td>\n",
       "      <td>HG CASH NONFIN</td>\n",
       "      <td>US IG TMT CASH</td>\n",
       "      <td>22</td>\n",
       "      <td>Communications</td>\n",
       "      <td>Cable/Satellite TV</td>\n",
       "      <td>US domestic</td>\n",
       "      <td>1.000000e+09</td>\n",
       "      <td>FIXED</td>\n",
       "      <td>10958</td>\n",
       "      <td>8095</td>\n",
       "      <td>2863</td>\n",
       "      <td>22</td>\n",
       "      <td>13</td>\n",
       "      <td>Buy</td>\n",
       "      <td>9</td>\n",
       "      <td>7259</td>\n",
       "    </tr>\n",
       "    <tr>\n",
       "      <th>137</th>\n",
       "      <td>20180101</td>\n",
       "      <td>9</td>\n",
       "      <td>7259</td>\n",
       "      <td>Sell</td>\n",
       "      <td>1.0</td>\n",
       "      <td>915</td>\n",
       "      <td>915</td>\n",
       "      <td>96</td>\n",
       "      <td>3</td>\n",
       "      <td>0</td>\n",
       "      <td>0</td>\n",
       "      <td>14</td>\n",
       "      <td>123</td>\n",
       "      <td>0.168586</td>\n",
       "      <td>0.046835</td>\n",
       "      <td>0.549887</td>\n",
       "      <td>0.021119</td>\n",
       "      <td>0.045339</td>\n",
       "      <td>-0.075194</td>\n",
       "      <td>0.04243</td>\n",
       "      <td>0.04705</td>\n",
       "      <td>0.168435</td>\n",
       "      <td>0.045051</td>\n",
       "      <td>0.080392</td>\n",
       "      <td>-0.175639</td>\n",
       "      <td>-0.03347</td>\n",
       "      <td>-0.085924</td>\n",
       "      <td>-0.057379</td>\n",
       "      <td>-0.006258</td>\n",
       "      <td>0.001205</td>\n",
       "      <td>0.036391</td>\n",
       "      <td>-0.084943</td>\n",
       "      <td>0.125975</td>\n",
       "      <td>0.029886</td>\n",
       "      <td>0.086831</td>\n",
       "      <td>-0.006835</td>\n",
       "      <td>0.240718</td>\n",
       "      <td>-0.053067</td>\n",
       "      <td>0.076811</td>\n",
       "      <td>-0.083388</td>\n",
       "      <td>-0.039372</td>\n",
       "      <td>-0.042091</td>\n",
       "      <td>-0.135680</td>\n",
       "      <td>0.101862</td>\n",
       "      <td>-0.036478</td>\n",
       "      <td>-0.085612</td>\n",
       "      <td>2018</td>\n",
       "      <td>18</td>\n",
       "      <td>1</td>\n",
       "      <td>Asset Owners</td>\n",
       "      <td>Insurance</td>\n",
       "      <td>Asia Pacific</td>\n",
       "      <td>TAIWAN</td>\n",
       "      <td>834</td>\n",
       "      <td>20400301</td>\n",
       "      <td>20100301</td>\n",
       "      <td>SEN</td>\n",
       "      <td>USD</td>\n",
       "      <td>FLOW G10</td>\n",
       "      <td>AMERICAS</td>\n",
       "      <td>HG CASH</td>\n",
       "      <td>HG CASH NONFIN</td>\n",
       "      <td>US IG TMT CASH</td>\n",
       "      <td>22</td>\n",
       "      <td>Communications</td>\n",
       "      <td>Cable/Satellite TV</td>\n",
       "      <td>US domestic</td>\n",
       "      <td>1.000000e+09</td>\n",
       "      <td>FIXED</td>\n",
       "      <td>10958</td>\n",
       "      <td>8095</td>\n",
       "      <td>2863</td>\n",
       "      <td>22</td>\n",
       "      <td>13</td>\n",
       "      <td>Sell</td>\n",
       "      <td>9</td>\n",
       "      <td>7259</td>\n",
       "    </tr>\n",
       "  </tbody>\n",
       "</table>\n",
       "</div>"
      ],
      "text/plain": [
       "     TradeDateKey  CustomerIdx  IsinIdx BuySell  CustomerInterest  \\\n",
       "136      20180101            9     7259     Buy               0.0   \n",
       "137      20180101            9     7259    Sell               1.0   \n",
       "\n",
       "     DaysSinceBuySell  DaysSinceTransaction  DaysSinceCustomerActivity  \\\n",
       "136               915                   915                         96   \n",
       "137               915                   915                         96   \n",
       "\n",
       "     DaysSinceBondActivity  DaysCountBuySell  DaysCountTransaction  \\\n",
       "136                      3                 0                     0   \n",
       "137                      3                 0                     0   \n",
       "\n",
       "     DaysCountCustomerActivity  DaysCountBondActivity  SVD_CustomerBias  \\\n",
       "136                         14                    123          0.168586   \n",
       "137                         14                    123          0.168586   \n",
       "\n",
       "     SVD_IsinBuySellBias  SVD_Recommend  SVD_CustomerFactor00  \\\n",
       "136             0.113142       0.642453              0.021119   \n",
       "137             0.046835       0.549887              0.021119   \n",
       "\n",
       "     SVD_CustomerFactor01  SVD_CustomerFactor02  SVD_CustomerFactor03  \\\n",
       "136              0.045339             -0.075194               0.04243   \n",
       "137              0.045339             -0.075194               0.04243   \n",
       "\n",
       "     SVD_CustomerFactor04  SVD_CustomerFactor05  SVD_CustomerFactor06  \\\n",
       "136               0.04705              0.168435              0.045051   \n",
       "137               0.04705              0.168435              0.045051   \n",
       "\n",
       "     SVD_CustomerFactor07  SVD_CustomerFactor08  SVD_CustomerFactor09  \\\n",
       "136              0.080392             -0.175639              -0.03347   \n",
       "137              0.080392             -0.175639              -0.03347   \n",
       "\n",
       "     SVD_CustomerFactor10  SVD_CustomerFactor11  SVD_CustomerFactor12  \\\n",
       "136             -0.085924             -0.057379             -0.006258   \n",
       "137             -0.085924             -0.057379             -0.006258   \n",
       "\n",
       "     SVD_CustomerFactor13  SVD_CustomerFactor14  SVD_IsinBuySellFactor00  \\\n",
       "136              0.001205              0.036391                 0.233954   \n",
       "137              0.001205              0.036391                -0.084943   \n",
       "\n",
       "     SVD_IsinBuySellFactor01  SVD_IsinBuySellFactor02  \\\n",
       "136                -0.026064                 0.028400   \n",
       "137                 0.125975                 0.029886   \n",
       "\n",
       "     SVD_IsinBuySellFactor03  SVD_IsinBuySellFactor04  \\\n",
       "136                 0.116740                -0.036194   \n",
       "137                 0.086831                -0.006835   \n",
       "\n",
       "     SVD_IsinBuySellFactor05  SVD_IsinBuySellFactor06  \\\n",
       "136                 0.230744                 0.001060   \n",
       "137                 0.240718                -0.053067   \n",
       "\n",
       "     SVD_IsinBuySellFactor07  SVD_IsinBuySellFactor08  \\\n",
       "136                 0.134995                -0.178426   \n",
       "137                 0.076811                -0.083388   \n",
       "\n",
       "     SVD_IsinBuySellFactor09  SVD_IsinBuySellFactor10  \\\n",
       "136                -0.071588                -0.112515   \n",
       "137                -0.039372                -0.042091   \n",
       "\n",
       "     SVD_IsinBuySellFactor11  SVD_IsinBuySellFactor12  \\\n",
       "136                -0.054956                 0.277415   \n",
       "137                -0.135680                 0.101862   \n",
       "\n",
       "     SVD_IsinBuySellFactor13  SVD_IsinBuySellFactor14  Year  Month  Day  \\\n",
       "136                -0.389541                 0.005499  2018     18    1   \n",
       "137                -0.036478                -0.085612  2018     18    1   \n",
       "\n",
       "           Sector  Subsector      Region_x Country  TickerIdx  \\\n",
       "136  Asset Owners  Insurance  Asia Pacific  TAIWAN        834   \n",
       "137  Asset Owners  Insurance  Asia Pacific  TAIWAN        834   \n",
       "\n",
       "     ActualMaturityDateKey  IssueDateKey Seniority Currency ActivityGroup  \\\n",
       "136               20400301      20100301       SEN      USD      FLOW G10   \n",
       "137               20400301      20100301       SEN      USD      FLOW G10   \n",
       "\n",
       "     Region_y Activity     RiskCaptain           Owner  CompositeRating  \\\n",
       "136  AMERICAS  HG CASH  HG CASH NONFIN  US IG TMT CASH               22   \n",
       "137  AMERICAS  HG CASH  HG CASH NONFIN  US IG TMT CASH               22   \n",
       "\n",
       "     IndustrySector    IndustrySubgroup  MarketIssue  IssuedAmount CouponType  \\\n",
       "136  Communications  Cable/Satellite TV  US domestic  1.000000e+09      FIXED   \n",
       "137  Communications  Cable/Satellite TV  US domestic  1.000000e+09      FIXED   \n",
       "\n",
       "     BondDuration  BondRemaining  BondLife  CompositeRatingCat  Week  \\\n",
       "136         10958           8095      2863                  22    13   \n",
       "137         10958           8095      2863                  22    13   \n",
       "\n",
       "    BuySellCat  CustomerIdxCat  IsinIdxCat  \n",
       "136        Buy               9        7259  \n",
       "137       Sell               9        7259  "
      ]
     },
     "execution_count": 63,
     "metadata": {},
     "output_type": "execute_result"
    }
   ],
   "source": [
    "train[(train.CustomerIdx==9) & (train.IsinIdx==7259)]"
   ]
  },
  {
   "cell_type": "code",
   "execution_count": 64,
   "metadata": {},
   "outputs": [
    {
     "data": {
      "text/html": [
       "<div>\n",
       "<style scoped>\n",
       "    .dataframe tbody tr th:only-of-type {\n",
       "        vertical-align: middle;\n",
       "    }\n",
       "\n",
       "    .dataframe tbody tr th {\n",
       "        vertical-align: top;\n",
       "    }\n",
       "\n",
       "    .dataframe thead th {\n",
       "        text-align: right;\n",
       "    }\n",
       "</style>\n",
       "<table border=\"1\" class=\"dataframe\">\n",
       "  <thead>\n",
       "    <tr style=\"text-align: right;\">\n",
       "      <th></th>\n",
       "      <th>TradeDateKey</th>\n",
       "      <th>CustomerIdx</th>\n",
       "      <th>IsinIdx</th>\n",
       "      <th>BuySell</th>\n",
       "      <th>NotionalEUR</th>\n",
       "      <th>Price</th>\n",
       "      <th>TradeStatus</th>\n",
       "      <th>CustomerInterest</th>\n",
       "    </tr>\n",
       "  </thead>\n",
       "  <tbody>\n",
       "    <tr>\n",
       "      <th>598819</th>\n",
       "      <td>20180104</td>\n",
       "      <td>9</td>\n",
       "      <td>7259</td>\n",
       "      <td>Sell</td>\n",
       "      <td>8321198.0</td>\n",
       "      <td>131.5956</td>\n",
       "      <td>Unknown</td>\n",
       "      <td>1.0</td>\n",
       "    </tr>\n",
       "  </tbody>\n",
       "</table>\n",
       "</div>"
      ],
      "text/plain": [
       "        TradeDateKey  CustomerIdx  IsinIdx BuySell  NotionalEUR     Price  \\\n",
       "598819      20180104            9     7259    Sell    8321198.0  131.5956   \n",
       "\n",
       "       TradeStatus  CustomerInterest  \n",
       "598819     Unknown               1.0  "
      ]
     },
     "execution_count": 64,
     "metadata": {},
     "output_type": "execute_result"
    }
   ],
   "source": [
    "trade[(trade.CustomerIdx==9) & (trade.IsinIdx==7259)]"
   ]
  },
  {
   "cell_type": "markdown",
   "metadata": {},
   "source": [
    "## Checkpoint"
   ]
  },
  {
   "cell_type": "code",
   "execution_count": 7,
   "metadata": {},
   "outputs": [],
   "source": [
    "from src.structurednet import get_seqs, shift_right"
   ]
  },
  {
   "cell_type": "code",
   "execution_count": 8,
   "metadata": {},
   "outputs": [],
   "source": [
    "trade      = pd.read_csv(RAW/'Trade.csv', low_memory=False)\n",
    "challenge  = pd.read_csv(RAW/'Challenge_20180423.csv', low_memory=False)"
   ]
  },
  {
   "cell_type": "code",
   "execution_count": 9,
   "metadata": {},
   "outputs": [
    {
     "name": "stdout",
     "output_type": "stream",
     "text": [
      "CPU times: user 13.2 s, sys: 636 ms, total: 13.8 s\n",
      "Wall time: 13.8 s\n"
     ]
    }
   ],
   "source": [
    "%%time\n",
    "transactions = get_seqs(trade, challenge, week_labels, \n",
    "                        ['CustomerIdx', 'IsinIdx', 'BuySell'])\n",
    "buysells = get_seqs(trade, challenge, week_labels, \n",
    "                        ['CustomerIdx', 'IsinIdx'])\n",
    "customers = get_seqs(trade, challenge, week_labels, ['CustomerIdx'])\n",
    "isins = get_seqs(trade, challenge, week_labels, ['IsinIdx'])"
   ]
  },
  {
   "cell_type": "code",
   "execution_count": 10,
   "metadata": {},
   "outputs": [],
   "source": [
    "for c in ['CustomerIdx', 'IsinIdx', 'BuySell', 'CompositeRating']:\n",
    "    train[f'{c}Cat'] = train[c]\n",
    "    val[f'{c}Cat'] = val[c]\n",
    "    test[f'{c}Cat'] = test[c]"
   ]
  },
  {
   "cell_type": "code",
   "execution_count": 11,
   "metadata": {},
   "outputs": [],
   "source": [
    "train['BuySellCont'] = train.BuySell.apply(lambda x: int(x == 'Buy'))\n",
    "val['BuySellCont'] = val.BuySell.apply(lambda x: int(x == 'Buy'))\n",
    "test['BuySellCont'] = test.BuySell.apply(lambda x: int(x == 'Buy'))"
   ]
  },
  {
   "cell_type": "code",
   "execution_count": 12,
   "metadata": {},
   "outputs": [],
   "source": [
    "train['Week'] = train.TradeDateKey.apply(lambda x: week_num(week_labels, x))\n",
    "val['Week'] = val.TradeDateKey.apply(lambda x: week_num(week_labels, x))\n",
    "test['Week'] = test.TradeDateKey.apply(lambda x: week_num(week_labels, x))"
   ]
  },
  {
   "cell_type": "code",
   "execution_count": 13,
   "metadata": {},
   "outputs": [],
   "source": [
    "cat_cols = ['Sector', 'Subsector', 'Region_x', 'Country', \n",
    "            'TickerIdx', 'Seniority', 'Currency', 'ActivityGroup', \n",
    "            'Region_y', 'Activity', 'RiskCaptain', 'Owner', \n",
    "            'IndustrySector', 'IndustrySubgroup', 'MarketIssue', 'CouponType',\n",
    "            'CompositeRatingCat', 'CustomerIdxCat', 'IsinIdxCat', 'BuySellCat']\n",
    "num_cols = ['ActualMaturityDateKey', 'IssueDateKey', 'IssuedAmount', \n",
    "            'BondDuration', 'BondRemaining', 'BondLife', \n",
    "            'Day', 'CompositeRating', 'BuySellCont',\n",
    "            \n",
    "            'DaysSinceBuySell', 'DaysSinceTransaction', 'DaysSinceCustomerActivity',\n",
    "            'DaysSinceBondActivity', 'DaysCountBuySell', 'DaysCountTransaction',\n",
    "            'DaysCountCustomerActivity', 'DaysCountBondActivity', 'SVD_CustomerBias',\n",
    "            'SVD_IsinBuySellBias', 'SVD_Recommend', 'SVD_CustomerFactor00',\n",
    "            'SVD_CustomerFactor01', 'SVD_CustomerFactor02', 'SVD_CustomerFactor03',\n",
    "            'SVD_CustomerFactor04', 'SVD_CustomerFactor05', 'SVD_CustomerFactor06',\n",
    "            'SVD_CustomerFactor07', 'SVD_CustomerFactor08', 'SVD_CustomerFactor09',\n",
    "            'SVD_CustomerFactor10', 'SVD_CustomerFactor11', 'SVD_CustomerFactor12',\n",
    "            'SVD_CustomerFactor13', 'SVD_CustomerFactor14']\n",
    "id_cols = ['CustomerIdx', 'IsinIdx', 'BuySell']\n",
    "target_col = 'CustomerInterest'"
   ]
  },
  {
   "cell_type": "code",
   "execution_count": 14,
   "metadata": {},
   "outputs": [
    {
     "name": "stdout",
     "output_type": "stream",
     "text": [
      "CPU times: user 10 s, sys: 8.88 s, total: 18.9 s\n",
      "Wall time: 18.9 s\n"
     ]
    }
   ],
   "source": [
    "%%time\n",
    "from sklearn.preprocessing import StandardScaler\n",
    "scaler = StandardScaler().fit(pd.concat([train[num_cols], \n",
    "                            val[num_cols], test[num_cols]]))"
   ]
  },
  {
   "cell_type": "code",
   "execution_count": 15,
   "metadata": {},
   "outputs": [],
   "source": [
    "NEURALNET = INTERIM/'neuralnet'"
   ]
  },
  {
   "cell_type": "code",
   "execution_count": 16,
   "metadata": {},
   "outputs": [],
   "source": [
    "%%time\n",
    "train.reset_index(drop=True).to_feather(NEURALNET/'train.feather')\n",
    "val.reset_index(drop=True).to_feather(NEURALNET/'val.feather')\n",
    "test.reset_index(drop=True).to_feather(NEURALNET/'test.feather')"
   ]
  },
  {
   "cell_type": "code",
   "execution_count": 20,
   "metadata": {},
   "outputs": [
    {
     "data": {
      "application/vnd.jupyter.widget-view+json": {
       "model_id": "a9df308830ad458c9fcee8b14a8defd2",
       "version_major": 2,
       "version_minor": 0
      },
      "text/html": [
       "<p>Failed to display Jupyter Widget of type <code>HBox</code>.</p>\n",
       "<p>\n",
       "  If you're reading this message in the Jupyter Notebook or JupyterLab Notebook, it may mean\n",
       "  that the widgets JavaScript is still loading. If this message persists, it\n",
       "  likely means that the widgets JavaScript library is either not installed or\n",
       "  not enabled. See the <a href=\"https://ipywidgets.readthedocs.io/en/stable/user_install.html\">Jupyter\n",
       "  Widgets Documentation</a> for setup instructions.\n",
       "</p>\n",
       "<p>\n",
       "  If you're reading this message in another frontend (for example, a static\n",
       "  rendering on GitHub or <a href=\"https://nbviewer.jupyter.org/\">NBViewer</a>),\n",
       "  it may mean that your frontend doesn't currently support widgets.\n",
       "</p>\n"
      ],
      "text/plain": [
       "HBox(children=(IntProgress(value=0, max=8102750), HTML(value='')))"
      ]
     },
     "metadata": {},
     "output_type": "display_data"
    },
    {
     "name": "stdout",
     "output_type": "stream",
     "text": [
      "\n",
      "CPU times: user 10min 56s, sys: 2min 44s, total: 13min 40s\n",
      "Wall time: 10min 49s\n"
     ]
    }
   ],
   "source": [
    "%%time\n",
    "from src.structurednet import extract_seqs\n",
    "n_weeks = len(week_labels)\n",
    "train_seqs = extract_seqs(train, transactions, buysells, \n",
    "                              customers, isins, n_weeks)"
   ]
  },
  {
   "cell_type": "code",
   "execution_count": 21,
   "metadata": {},
   "outputs": [
    {
     "data": {
      "application/vnd.jupyter.widget-view+json": {
       "model_id": "b697150e794c4c6887f208adf3983d26",
       "version_major": 2,
       "version_minor": 0
      },
      "text/html": [
       "<p>Failed to display Jupyter Widget of type <code>HBox</code>.</p>\n",
       "<p>\n",
       "  If you're reading this message in the Jupyter Notebook or JupyterLab Notebook, it may mean\n",
       "  that the widgets JavaScript is still loading. If this message persists, it\n",
       "  likely means that the widgets JavaScript library is either not installed or\n",
       "  not enabled. See the <a href=\"https://ipywidgets.readthedocs.io/en/stable/user_install.html\">Jupyter\n",
       "  Widgets Documentation</a> for setup instructions.\n",
       "</p>\n",
       "<p>\n",
       "  If you're reading this message in another frontend (for example, a static\n",
       "  rendering on GitHub or <a href=\"https://nbviewer.jupyter.org/\">NBViewer</a>),\n",
       "  it may mean that your frontend doesn't currently support widgets.\n",
       "</p>\n"
      ],
      "text/plain": [
       "HBox(children=(IntProgress(value=0, max=493590), HTML(value='')))"
      ]
     },
     "metadata": {},
     "output_type": "display_data"
    },
    {
     "name": "stdout",
     "output_type": "stream",
     "text": [
      "\n"
     ]
    },
    {
     "data": {
      "application/vnd.jupyter.widget-view+json": {
       "model_id": "b850a6bc9b5041b08510cbb8a256bb4d",
       "version_major": 2,
       "version_minor": 0
      },
      "text/html": [
       "<p>Failed to display Jupyter Widget of type <code>HBox</code>.</p>\n",
       "<p>\n",
       "  If you're reading this message in the Jupyter Notebook or JupyterLab Notebook, it may mean\n",
       "  that the widgets JavaScript is still loading. If this message persists, it\n",
       "  likely means that the widgets JavaScript library is either not installed or\n",
       "  not enabled. See the <a href=\"https://ipywidgets.readthedocs.io/en/stable/user_install.html\">Jupyter\n",
       "  Widgets Documentation</a> for setup instructions.\n",
       "</p>\n",
       "<p>\n",
       "  If you're reading this message in another frontend (for example, a static\n",
       "  rendering on GitHub or <a href=\"https://nbviewer.jupyter.org/\">NBViewer</a>),\n",
       "  it may mean that your frontend doesn't currently support widgets.\n",
       "</p>\n"
      ],
      "text/plain": [
       "HBox(children=(IntProgress(value=0, max=484758), HTML(value='')))"
      ]
     },
     "metadata": {},
     "output_type": "display_data"
    },
    {
     "name": "stdout",
     "output_type": "stream",
     "text": [
      "\n",
      "CPU times: user 1min 15s, sys: 19 s, total: 1min 34s\n",
      "Wall time: 1min 13s\n"
     ]
    }
   ],
   "source": [
    "%%time\n",
    "val_seqs = extract_seqs(val, transactions, buysells, \n",
    "                              customers, isins, n_weeks)\n",
    "test_seqs = extract_seqs(test, transactions, buysells, \n",
    "                              customers, isins, n_weeks)"
   ]
  },
  {
   "cell_type": "code",
   "execution_count": 22,
   "metadata": {},
   "outputs": [],
   "source": [
    "%%time\n",
    "import pickle\n",
    "with open(NEURALNET/'train_seqs.pkl', 'wb') as f:\n",
    "    pickle.dump(train_seqs, f, pickle.HIGHEST_PROTOCOL)\n",
    "with open(NEURALNET/'val_seqs.pkl', 'wb') as f:\n",
    "    pickle.dump(val_seqs, f, pickle.HIGHEST_PROTOCOL)\n",
    "with open(NEURALNET/'test_seqs.pkl', 'wb') as f:\n",
    "    pickle.dump(test_seqs, f, pickle.HIGHEST_PROTOCOL)"
   ]
  },
  {
   "cell_type": "code",
   "execution_count": 23,
   "metadata": {},
   "outputs": [],
   "source": [
    "with open(NEURALNET/'scaler.pkl', 'wb') as f:\n",
    "    pickle.dump(scaler, f, pickle.HIGHEST_PROTOCOL)"
   ]
  },
  {
   "cell_type": "code",
   "execution_count": 25,
   "metadata": {},
   "outputs": [
    {
     "name": "stdout",
     "output_type": "stream",
     "text": [
      "Encoding cats...\n",
      "Scaling conts...\n",
      "CPU times: user 34.5 s, sys: 964 ms, total: 35.5 s\n",
      "Wall time: 35.6 s\n"
     ]
    }
   ],
   "source": [
    "%%time\n",
    "from src.structurednet import preprocess_catsconts\n",
    "preprocess_catsconts(train, val, test, cat_cols, num_cols, scaler)"
   ]
  },
  {
   "cell_type": "code",
   "execution_count": 27,
   "metadata": {},
   "outputs": [
    {
     "name": "stdout",
     "output_type": "stream",
     "text": [
      "CPU times: user 5.36 s, sys: 6 s, total: 11.4 s\n",
      "Wall time: 9.53 s\n"
     ]
    }
   ],
   "source": [
    "%%time\n",
    "train.reset_index(drop=True).to_feather(NEURALNET/'train_preproc.feather')\n",
    "val.reset_index(drop=True).to_feather(NEURALNET/'val_preproc.feather')\n",
    "test.reset_index(drop=True).to_feather(NEURALNET/'test_preproc.feather')"
   ]
  },
  {
   "cell_type": "markdown",
   "metadata": {},
   "source": [
    "## Model"
   ]
  },
  {
   "cell_type": "code",
   "execution_count": 28,
   "metadata": {},
   "outputs": [],
   "source": [
    "from torch.utils.data import DataLoader\n",
    "from torch import optim\n",
    "import torch.nn as nn\n",
    "from src.structured_lstm import MultimodalDataset, MultimodalNet, train_model"
   ]
  },
  {
   "cell_type": "code",
   "execution_count": 29,
   "metadata": {},
   "outputs": [
    {
     "data": {
      "text/plain": [
       "(8102750, 4, 29)"
      ]
     },
     "execution_count": 29,
     "metadata": {},
     "output_type": "execute_result"
    }
   ],
   "source": [
    "train_seqs.shape"
   ]
  },
  {
   "cell_type": "code",
   "execution_count": 55,
   "metadata": {},
   "outputs": [
    {
     "name": "stdout",
     "output_type": "stream",
     "text": [
      "CPU times: user 3.08 s, sys: 2.93 s, total: 6.01 s\n",
      "Wall time: 6.01 s\n"
     ]
    }
   ],
   "source": [
    "%%time\n",
    "train_dl = DataLoader(MultimodalDataset(\n",
    "                train[cat_cols], train[num_cols],\n",
    "                train_seqs, train[target_col]),\n",
    "                batch_size=128, shuffle=True)\n",
    "val_dl = DataLoader(MultimodalDataset(\n",
    "                val[cat_cols], val[num_cols],\n",
    "                val_seqs, val[target_col]), \n",
    "                batch_size=128)"
   ]
  },
  {
   "cell_type": "code",
   "execution_count": 31,
   "metadata": {},
   "outputs": [],
   "source": [
    "cat_szs = [int(train[col].max() + 1) for col in cat_cols]\n",
    "emb_szs = [(c, min(50, (c+1)//2)) for c in cat_szs]"
   ]
  },
  {
   "cell_type": "code",
   "execution_count": 33,
   "metadata": {},
   "outputs": [
    {
     "data": {
      "text/plain": [
       "[(5, 3),\n",
       " (36, 18),\n",
       " (3, 2),\n",
       " (86, 43),\n",
       " (3240, 50),\n",
       " (9, 5),\n",
       " (21, 11),\n",
       " (3, 2),\n",
       " (8, 4),\n",
       " (15, 8),\n",
       " (37, 19),\n",
       " (101, 50),\n",
       " (14, 7),\n",
       " (330, 50),\n",
       " (15, 8),\n",
       " (6, 3),\n",
       " (29, 15),\n",
       " (2594, 50),\n",
       " (22989, 50),\n",
       " (2, 1)]"
      ]
     },
     "execution_count": 33,
     "metadata": {},
     "output_type": "execute_result"
    }
   ],
   "source": [
    "emb_szs"
   ]
  },
  {
   "cell_type": "code",
   "execution_count": 41,
   "metadata": {},
   "outputs": [],
   "source": [
    "USE_CUDA = True"
   ]
  },
  {
   "cell_type": "code",
   "execution_count": 56,
   "metadata": {},
   "outputs": [],
   "source": [
    "model = MultimodalNet(emb_szs, n_cont=len(num_cols), emb_drop=0.2,\n",
    "                      szs=[1000,500], drops=[0.5, 0.5],\n",
    "                      rnn_hidden_sz=64, rnn_input_sz=4, rnn_n_layers=2,\n",
    "                      rnn_drop=0.5)\n",
    "\n",
    "if USE_CUDA: model = model.cuda()"
   ]
  },
  {
   "cell_type": "code",
   "execution_count": 57,
   "metadata": {},
   "outputs": [],
   "source": [
    "optimizer = optim.Adam(model.parameters(), lr=1e-3)\n",
    "criterion = nn.BCEWithLogitsLoss()"
   ]
  },
  {
   "cell_type": "code",
   "execution_count": null,
   "metadata": {},
   "outputs": [
    {
     "name": "stdout",
     "output_type": "stream",
     "text": [
      "Train Epoch: 1 [25600/8102750 (0%)]\tLoss: 0.174815\n",
      "Train Epoch: 1 [51200/8102750 (1%)]\tLoss: 0.134851\n",
      "Train Epoch: 1 [76800/8102750 (1%)]\tLoss: 0.134749\n",
      "Train Epoch: 1 [102400/8102750 (1%)]\tLoss: 0.134110\n",
      "Train Epoch: 1 [128000/8102750 (2%)]\tLoss: 0.132347\n",
      "Train Epoch: 1 [153600/8102750 (2%)]\tLoss: 0.136552\n",
      "Train Epoch: 1 [179200/8102750 (2%)]\tLoss: 0.130818\n",
      "Train Epoch: 1 [204800/8102750 (3%)]\tLoss: 0.130721\n",
      "Train Epoch: 1 [230400/8102750 (3%)]\tLoss: 0.133113\n",
      "Train Epoch: 1 [256000/8102750 (3%)]\tLoss: 0.134017\n",
      "Train Epoch: 1 [281600/8102750 (3%)]\tLoss: 0.131956\n",
      "Train Epoch: 1 [307200/8102750 (4%)]\tLoss: 0.128131\n",
      "Train Epoch: 1 [332800/8102750 (4%)]\tLoss: 0.129957\n",
      "Train Epoch: 1 [358400/8102750 (4%)]\tLoss: 0.130897\n",
      "Train Epoch: 1 [384000/8102750 (5%)]\tLoss: 0.130943\n",
      "Train Epoch: 1 [409600/8102750 (5%)]\tLoss: 0.132290\n",
      "Train Epoch: 1 [435200/8102750 (5%)]\tLoss: 0.126512\n",
      "Train Epoch: 1 [460800/8102750 (6%)]\tLoss: 0.130431\n",
      "Train Epoch: 1 [486400/8102750 (6%)]\tLoss: 0.131785\n",
      "Train Epoch: 1 [512000/8102750 (6%)]\tLoss: 0.129065\n",
      "[0/493590 (0%)]\n",
      "[153600/493590 (31%)]\n",
      "[307200/493590 (62%)]\n",
      "[460800/493590 (93%)]\n",
      "ROC AUC Score: 0.783245\n",
      "Validation Loss: 0.136874\n",
      "Train Epoch: 1 [537600/8102750 (7%)]\tLoss: 0.132634\n",
      "Train Epoch: 1 [563200/8102750 (7%)]\tLoss: 0.125273\n",
      "Train Epoch: 1 [588800/8102750 (7%)]\tLoss: 0.129507\n",
      "Train Epoch: 1 [614400/8102750 (8%)]\tLoss: 0.126545\n",
      "Train Epoch: 1 [640000/8102750 (8%)]\tLoss: 0.131031\n",
      "Train Epoch: 1 [665600/8102750 (8%)]\tLoss: 0.133344\n",
      "Train Epoch: 1 [691200/8102750 (9%)]\tLoss: 0.130706\n",
      "Train Epoch: 1 [716800/8102750 (9%)]\tLoss: 0.130498\n",
      "Train Epoch: 1 [742400/8102750 (9%)]\tLoss: 0.129456\n",
      "Train Epoch: 1 [768000/8102750 (9%)]\tLoss: 0.129421\n",
      "Train Epoch: 1 [793600/8102750 (10%)]\tLoss: 0.124450\n",
      "Train Epoch: 1 [819200/8102750 (10%)]\tLoss: 0.126263\n",
      "Train Epoch: 1 [844800/8102750 (10%)]\tLoss: 0.122361\n",
      "Train Epoch: 1 [870400/8102750 (11%)]\tLoss: 0.129048\n",
      "Train Epoch: 1 [896000/8102750 (11%)]\tLoss: 0.125200\n",
      "Train Epoch: 1 [921600/8102750 (11%)]\tLoss: 0.121837\n",
      "Train Epoch: 1 [947200/8102750 (12%)]\tLoss: 0.130463\n",
      "Train Epoch: 1 [972800/8102750 (12%)]\tLoss: 0.132185\n",
      "Train Epoch: 1 [998400/8102750 (12%)]\tLoss: 0.128129\n",
      "Train Epoch: 1 [1024000/8102750 (13%)]\tLoss: 0.126702\n",
      "[0/493590 (0%)]\n",
      "[153600/493590 (31%)]\n",
      "[307200/493590 (62%)]\n",
      "[460800/493590 (93%)]\n",
      "ROC AUC Score: 0.836314\n",
      "Validation Loss: 0.129311\n",
      "Train Epoch: 1 [1049600/8102750 (13%)]\tLoss: 0.129190\n",
      "Train Epoch: 1 [1075200/8102750 (13%)]\tLoss: 0.126842\n",
      "Train Epoch: 1 [1100800/8102750 (14%)]\tLoss: 0.123717\n",
      "Train Epoch: 1 [1126400/8102750 (14%)]\tLoss: 0.132464\n",
      "Train Epoch: 1 [1152000/8102750 (14%)]\tLoss: 0.132140\n",
      "Train Epoch: 1 [1177600/8102750 (15%)]\tLoss: 0.127949\n",
      "Train Epoch: 1 [1203200/8102750 (15%)]\tLoss: 0.129533\n",
      "Train Epoch: 1 [1228800/8102750 (15%)]\tLoss: 0.126285\n",
      "Train Epoch: 1 [1254400/8102750 (15%)]\tLoss: 0.127459\n",
      "Train Epoch: 1 [1280000/8102750 (16%)]\tLoss: 0.130813\n",
      "Train Epoch: 1 [1305600/8102750 (16%)]\tLoss: 0.127150\n",
      "Train Epoch: 1 [1331200/8102750 (16%)]\tLoss: 0.125762\n",
      "Train Epoch: 1 [1356800/8102750 (17%)]\tLoss: 0.125213\n",
      "Train Epoch: 1 [1382400/8102750 (17%)]\tLoss: 0.128488\n",
      "Train Epoch: 1 [1408000/8102750 (17%)]\tLoss: 0.126773\n",
      "Train Epoch: 1 [1433600/8102750 (18%)]\tLoss: 0.125686\n",
      "Train Epoch: 1 [1459200/8102750 (18%)]\tLoss: 0.127199\n",
      "Train Epoch: 1 [1484800/8102750 (18%)]\tLoss: 0.129610\n",
      "Train Epoch: 1 [1510400/8102750 (19%)]\tLoss: 0.129423\n",
      "Train Epoch: 1 [1536000/8102750 (19%)]\tLoss: 0.124421\n",
      "[0/493590 (0%)]\n",
      "[153600/493590 (31%)]\n",
      "[307200/493590 (62%)]\n",
      "[460800/493590 (93%)]\n",
      "ROC AUC Score: 0.860724\n",
      "Validation Loss: 0.122721\n",
      "Train Epoch: 1 [1561600/8102750 (19%)]\tLoss: 0.122326\n",
      "Train Epoch: 1 [1587200/8102750 (20%)]\tLoss: 0.120606\n",
      "Train Epoch: 1 [1612800/8102750 (20%)]\tLoss: 0.127089\n",
      "Train Epoch: 1 [1638400/8102750 (20%)]\tLoss: 0.122189\n",
      "Train Epoch: 1 [1664000/8102750 (21%)]\tLoss: 0.121416\n",
      "Train Epoch: 1 [1689600/8102750 (21%)]\tLoss: 0.127935\n",
      "Train Epoch: 1 [1715200/8102750 (21%)]\tLoss: 0.125425\n",
      "Train Epoch: 1 [1740800/8102750 (21%)]\tLoss: 0.120456\n",
      "Train Epoch: 1 [1766400/8102750 (22%)]\tLoss: 0.128630\n",
      "Train Epoch: 1 [1792000/8102750 (22%)]\tLoss: 0.123483\n",
      "Train Epoch: 1 [1817600/8102750 (22%)]\tLoss: 0.124466\n",
      "Train Epoch: 1 [1843200/8102750 (23%)]\tLoss: 0.128858\n",
      "Train Epoch: 1 [1868800/8102750 (23%)]\tLoss: 0.120474\n",
      "Train Epoch: 1 [1894400/8102750 (23%)]\tLoss: 0.124695\n",
      "Train Epoch: 1 [1920000/8102750 (24%)]\tLoss: 0.125583\n",
      "Train Epoch: 1 [1945600/8102750 (24%)]\tLoss: 0.124350\n",
      "Train Epoch: 1 [1971200/8102750 (24%)]\tLoss: 0.124975\n",
      "Train Epoch: 1 [1996800/8102750 (25%)]\tLoss: 0.128761\n",
      "Train Epoch: 1 [2022400/8102750 (25%)]\tLoss: 0.124270\n",
      "Train Epoch: 1 [2048000/8102750 (25%)]\tLoss: 0.120014\n",
      "[0/493590 (0%)]\n",
      "[153600/493590 (31%)]\n",
      "[307200/493590 (62%)]\n",
      "[460800/493590 (93%)]\n",
      "ROC AUC Score: 0.864471\n",
      "Validation Loss: 0.116261\n",
      "Train Epoch: 1 [2073600/8102750 (26%)]\tLoss: 0.118144\n",
      "Train Epoch: 1 [2099200/8102750 (26%)]\tLoss: 0.126406\n",
      "Train Epoch: 1 [2124800/8102750 (26%)]\tLoss: 0.124995\n",
      "Train Epoch: 1 [2150400/8102750 (27%)]\tLoss: 0.126055\n",
      "Train Epoch: 1 [2176000/8102750 (27%)]\tLoss: 0.110896\n",
      "Train Epoch: 1 [2201600/8102750 (27%)]\tLoss: 0.124215\n",
      "Train Epoch: 1 [2227200/8102750 (27%)]\tLoss: 0.128621\n",
      "Train Epoch: 1 [2252800/8102750 (28%)]\tLoss: 0.121759\n",
      "Train Epoch: 1 [2278400/8102750 (28%)]\tLoss: 0.125221\n",
      "Train Epoch: 1 [2304000/8102750 (28%)]\tLoss: 0.123760\n",
      "Train Epoch: 1 [2329600/8102750 (29%)]\tLoss: 0.125596\n",
      "Train Epoch: 1 [2355200/8102750 (29%)]\tLoss: 0.117430\n",
      "Train Epoch: 1 [2380800/8102750 (29%)]\tLoss: 0.119319\n",
      "Train Epoch: 1 [2406400/8102750 (30%)]\tLoss: 0.122752\n",
      "Train Epoch: 1 [2432000/8102750 (30%)]\tLoss: 0.120904\n",
      "Train Epoch: 1 [2457600/8102750 (30%)]\tLoss: 0.126828\n",
      "Train Epoch: 1 [2483200/8102750 (31%)]\tLoss: 0.124699\n",
      "Train Epoch: 1 [2508800/8102750 (31%)]\tLoss: 0.118030\n",
      "Train Epoch: 1 [2534400/8102750 (31%)]\tLoss: 0.121532\n",
      "Train Epoch: 1 [2560000/8102750 (32%)]\tLoss: 0.123107\n",
      "[0/493590 (0%)]\n",
      "[153600/493590 (31%)]\n",
      "[307200/493590 (62%)]\n",
      "[460800/493590 (93%)]\n",
      "ROC AUC Score: 0.871583\n",
      "Validation Loss: 0.120534\n",
      "Train Epoch: 1 [2585600/8102750 (32%)]\tLoss: 0.129149\n",
      "Train Epoch: 1 [2611200/8102750 (32%)]\tLoss: 0.129944\n",
      "Train Epoch: 1 [2636800/8102750 (33%)]\tLoss: 0.120377\n",
      "Train Epoch: 1 [2662400/8102750 (33%)]\tLoss: 0.121721\n",
      "Train Epoch: 1 [2688000/8102750 (33%)]\tLoss: 0.125268\n",
      "Train Epoch: 1 [2713600/8102750 (33%)]\tLoss: 0.120514\n",
      "Train Epoch: 1 [2739200/8102750 (34%)]\tLoss: 0.121923\n",
      "Train Epoch: 1 [2764800/8102750 (34%)]\tLoss: 0.121138\n",
      "Train Epoch: 1 [2790400/8102750 (34%)]\tLoss: 0.121683\n",
      "Train Epoch: 1 [2816000/8102750 (35%)]\tLoss: 0.126862\n",
      "Train Epoch: 1 [2841600/8102750 (35%)]\tLoss: 0.119134\n",
      "Train Epoch: 1 [2867200/8102750 (35%)]\tLoss: 0.120289\n",
      "Train Epoch: 1 [2892800/8102750 (36%)]\tLoss: 0.132519\n",
      "Train Epoch: 1 [2918400/8102750 (36%)]\tLoss: 0.126882\n",
      "Train Epoch: 1 [2944000/8102750 (36%)]\tLoss: 0.122511\n",
      "Train Epoch: 1 [2969600/8102750 (37%)]\tLoss: 0.130088\n",
      "Train Epoch: 1 [2995200/8102750 (37%)]\tLoss: 0.124934\n",
      "Train Epoch: 1 [3020800/8102750 (37%)]\tLoss: 0.123363\n",
      "Train Epoch: 1 [3046400/8102750 (38%)]\tLoss: 0.127476\n",
      "Train Epoch: 1 [3072000/8102750 (38%)]\tLoss: 0.126875\n",
      "[0/493590 (0%)]\n",
      "[153600/493590 (31%)]\n",
      "[307200/493590 (62%)]\n",
      "[460800/493590 (93%)]\n",
      "ROC AUC Score: 0.870721\n",
      "Validation Loss: 0.113148\n",
      "Train Epoch: 1 [3097600/8102750 (38%)]\tLoss: 0.120459\n",
      "Train Epoch: 1 [3123200/8102750 (39%)]\tLoss: 0.127012\n",
      "Train Epoch: 1 [3148800/8102750 (39%)]\tLoss: 0.122816\n",
      "Train Epoch: 1 [3174400/8102750 (39%)]\tLoss: 0.119820\n",
      "Train Epoch: 1 [3200000/8102750 (39%)]\tLoss: 0.122195\n",
      "Train Epoch: 1 [3225600/8102750 (40%)]\tLoss: 0.123142\n",
      "Train Epoch: 1 [3251200/8102750 (40%)]\tLoss: 0.120614\n",
      "Train Epoch: 1 [3276800/8102750 (40%)]\tLoss: 0.119416\n",
      "Train Epoch: 1 [3302400/8102750 (41%)]\tLoss: 0.124041\n",
      "Train Epoch: 1 [3328000/8102750 (41%)]\tLoss: 0.120562\n",
      "Train Epoch: 1 [3353600/8102750 (41%)]\tLoss: 0.120554\n",
      "Train Epoch: 1 [3379200/8102750 (42%)]\tLoss: 0.118733\n",
      "Train Epoch: 1 [3404800/8102750 (42%)]\tLoss: 0.120106\n",
      "Train Epoch: 1 [3430400/8102750 (42%)]\tLoss: 0.125396\n",
      "Train Epoch: 1 [3456000/8102750 (43%)]\tLoss: 0.122414\n",
      "Train Epoch: 1 [3481600/8102750 (43%)]\tLoss: 0.123872\n",
      "Train Epoch: 1 [3507200/8102750 (43%)]\tLoss: 0.126390\n",
      "Train Epoch: 1 [3532800/8102750 (44%)]\tLoss: 0.123790\n",
      "Train Epoch: 1 [3558400/8102750 (44%)]\tLoss: 0.117046\n",
      "Train Epoch: 1 [3584000/8102750 (44%)]\tLoss: 0.121745\n",
      "[0/493590 (0%)]\n",
      "[153600/493590 (31%)]\n",
      "[307200/493590 (62%)]\n",
      "[460800/493590 (93%)]\n",
      "ROC AUC Score: 0.876722\n",
      "Validation Loss: 0.114800\n",
      "Train Epoch: 1 [3609600/8102750 (45%)]\tLoss: 0.128286\n",
      "Train Epoch: 1 [3635200/8102750 (45%)]\tLoss: 0.126695\n",
      "Train Epoch: 1 [3660800/8102750 (45%)]\tLoss: 0.125598\n",
      "Train Epoch: 1 [3686400/8102750 (45%)]\tLoss: 0.122536\n",
      "Train Epoch: 1 [3712000/8102750 (46%)]\tLoss: 0.126621\n",
      "Train Epoch: 1 [3737600/8102750 (46%)]\tLoss: 0.117449\n",
      "Train Epoch: 1 [3763200/8102750 (46%)]\tLoss: 0.125151\n",
      "Train Epoch: 1 [3788800/8102750 (47%)]\tLoss: 0.114824\n",
      "Train Epoch: 1 [3814400/8102750 (47%)]\tLoss: 0.122160\n",
      "Train Epoch: 1 [3840000/8102750 (47%)]\tLoss: 0.115795\n",
      "Train Epoch: 1 [3865600/8102750 (48%)]\tLoss: 0.125296\n",
      "Train Epoch: 1 [3891200/8102750 (48%)]\tLoss: 0.121416\n",
      "Train Epoch: 1 [3916800/8102750 (48%)]\tLoss: 0.122180\n",
      "Train Epoch: 1 [3942400/8102750 (49%)]\tLoss: 0.126055\n",
      "Train Epoch: 1 [3968000/8102750 (49%)]\tLoss: 0.124076\n",
      "Train Epoch: 1 [3993600/8102750 (49%)]\tLoss: 0.117093\n",
      "Train Epoch: 1 [4019200/8102750 (50%)]\tLoss: 0.121352\n",
      "Train Epoch: 1 [4044800/8102750 (50%)]\tLoss: 0.126484\n",
      "Train Epoch: 1 [4070400/8102750 (50%)]\tLoss: 0.120588\n",
      "Train Epoch: 1 [4096000/8102750 (51%)]\tLoss: 0.120979\n",
      "[0/493590 (0%)]\n",
      "[153600/493590 (31%)]\n",
      "[307200/493590 (62%)]\n",
      "[460800/493590 (93%)]\n",
      "ROC AUC Score: 0.878927\n",
      "Validation Loss: 0.111803\n",
      "Train Epoch: 1 [4121600/8102750 (51%)]\tLoss: 0.121274\n",
      "Train Epoch: 1 [4147200/8102750 (51%)]\tLoss: 0.124458\n",
      "Train Epoch: 1 [4172800/8102750 (51%)]\tLoss: 0.118643\n",
      "Train Epoch: 1 [4198400/8102750 (52%)]\tLoss: 0.119561\n",
      "Train Epoch: 1 [4224000/8102750 (52%)]\tLoss: 0.121275\n",
      "Train Epoch: 1 [4249600/8102750 (52%)]\tLoss: 0.132053\n",
      "Train Epoch: 1 [4275200/8102750 (53%)]\tLoss: 0.122575\n",
      "Train Epoch: 1 [4300800/8102750 (53%)]\tLoss: 0.121644\n",
      "Train Epoch: 1 [4326400/8102750 (53%)]\tLoss: 0.127047\n",
      "Train Epoch: 1 [4352000/8102750 (54%)]\tLoss: 0.125339\n",
      "Train Epoch: 1 [4377600/8102750 (54%)]\tLoss: 0.117865\n",
      "Train Epoch: 1 [4403200/8102750 (54%)]\tLoss: 0.125534\n",
      "Train Epoch: 1 [4428800/8102750 (55%)]\tLoss: 0.116588\n",
      "Train Epoch: 1 [4454400/8102750 (55%)]\tLoss: 0.116583\n",
      "Train Epoch: 1 [4480000/8102750 (55%)]\tLoss: 0.123219\n",
      "Train Epoch: 1 [4505600/8102750 (56%)]\tLoss: 0.120876\n",
      "Train Epoch: 1 [4531200/8102750 (56%)]\tLoss: 0.133352\n",
      "Train Epoch: 1 [4556800/8102750 (56%)]\tLoss: 0.116247\n",
      "Train Epoch: 1 [4582400/8102750 (57%)]\tLoss: 0.122591\n",
      "Train Epoch: 1 [4608000/8102750 (57%)]\tLoss: 0.122813\n",
      "[0/493590 (0%)]\n",
      "[153600/493590 (31%)]\n",
      "[307200/493590 (62%)]\n",
      "[460800/493590 (93%)]\n",
      "ROC AUC Score: 0.881537\n",
      "Validation Loss: 0.113562\n",
      "Train Epoch: 1 [4633600/8102750 (57%)]\tLoss: 0.121899\n",
      "Train Epoch: 1 [4659200/8102750 (58%)]\tLoss: 0.125009\n",
      "Train Epoch: 1 [4684800/8102750 (58%)]\tLoss: 0.121059\n",
      "Train Epoch: 1 [4710400/8102750 (58%)]\tLoss: 0.124169\n",
      "Train Epoch: 1 [4736000/8102750 (58%)]\tLoss: 0.126646\n",
      "Train Epoch: 1 [4761600/8102750 (59%)]\tLoss: 0.119783\n",
      "Train Epoch: 1 [4787200/8102750 (59%)]\tLoss: 0.123805\n",
      "Train Epoch: 1 [4812800/8102750 (59%)]\tLoss: 0.125159\n",
      "Train Epoch: 1 [4838400/8102750 (60%)]\tLoss: 0.123682\n",
      "Train Epoch: 1 [4864000/8102750 (60%)]\tLoss: 0.122296\n",
      "Train Epoch: 1 [4889600/8102750 (60%)]\tLoss: 0.123979\n",
      "Train Epoch: 1 [4915200/8102750 (61%)]\tLoss: 0.124693\n",
      "Train Epoch: 1 [4940800/8102750 (61%)]\tLoss: 0.117802\n",
      "Train Epoch: 1 [4966400/8102750 (61%)]\tLoss: 0.122429\n",
      "Train Epoch: 1 [4992000/8102750 (62%)]\tLoss: 0.128649\n",
      "Train Epoch: 1 [5017600/8102750 (62%)]\tLoss: 0.124145\n",
      "Train Epoch: 1 [5043200/8102750 (62%)]\tLoss: 0.119752\n",
      "Train Epoch: 1 [5068800/8102750 (63%)]\tLoss: 0.120281\n",
      "Train Epoch: 1 [5094400/8102750 (63%)]\tLoss: 0.119777\n",
      "Train Epoch: 1 [5120000/8102750 (63%)]\tLoss: 0.124264\n",
      "[0/493590 (0%)]\n",
      "[153600/493590 (31%)]\n",
      "[307200/493590 (62%)]\n",
      "[460800/493590 (93%)]\n",
      "ROC AUC Score: 0.879608\n",
      "Validation Loss: 0.110745\n",
      "Train Epoch: 1 [5145600/8102750 (64%)]\tLoss: 0.122228\n",
      "Train Epoch: 1 [5171200/8102750 (64%)]\tLoss: 0.124541\n",
      "Train Epoch: 1 [5196800/8102750 (64%)]\tLoss: 0.119665\n",
      "Train Epoch: 1 [5222400/8102750 (64%)]\tLoss: 0.122230\n",
      "Train Epoch: 1 [5248000/8102750 (65%)]\tLoss: 0.125863\n",
      "Train Epoch: 1 [5273600/8102750 (65%)]\tLoss: 0.119941\n",
      "Train Epoch: 1 [5299200/8102750 (65%)]\tLoss: 0.124310\n",
      "Train Epoch: 1 [5324800/8102750 (66%)]\tLoss: 0.123510\n",
      "Train Epoch: 1 [5350400/8102750 (66%)]\tLoss: 0.122632\n",
      "Train Epoch: 1 [5376000/8102750 (66%)]\tLoss: 0.118838\n",
      "Train Epoch: 1 [5401600/8102750 (67%)]\tLoss: 0.118686\n",
      "Train Epoch: 1 [5427200/8102750 (67%)]\tLoss: 0.128050\n",
      "Train Epoch: 1 [5452800/8102750 (67%)]\tLoss: 0.124435\n",
      "Train Epoch: 1 [5478400/8102750 (68%)]\tLoss: 0.117728\n",
      "Train Epoch: 1 [5504000/8102750 (68%)]\tLoss: 0.118765\n",
      "Train Epoch: 1 [5529600/8102750 (68%)]\tLoss: 0.129765\n",
      "Train Epoch: 1 [5555200/8102750 (69%)]\tLoss: 0.119503\n",
      "Train Epoch: 1 [5580800/8102750 (69%)]\tLoss: 0.122590\n",
      "Train Epoch: 1 [5606400/8102750 (69%)]\tLoss: 0.117545\n",
      "Train Epoch: 1 [5632000/8102750 (70%)]\tLoss: 0.127454\n",
      "[0/493590 (0%)]\n",
      "[153600/493590 (31%)]\n",
      "[307200/493590 (62%)]\n",
      "[460800/493590 (93%)]\n",
      "ROC AUC Score: 0.883358\n",
      "Validation Loss: 0.106027\n",
      "Train Epoch: 1 [5657600/8102750 (70%)]\tLoss: 0.119438\n",
      "Train Epoch: 1 [5683200/8102750 (70%)]\tLoss: 0.118292\n",
      "Train Epoch: 1 [5708800/8102750 (70%)]\tLoss: 0.123127\n",
      "Train Epoch: 1 [5734400/8102750 (71%)]\tLoss: 0.118431\n",
      "Train Epoch: 1 [5760000/8102750 (71%)]\tLoss: 0.121658\n",
      "Train Epoch: 1 [5785600/8102750 (71%)]\tLoss: 0.124037\n",
      "Train Epoch: 1 [5811200/8102750 (72%)]\tLoss: 0.123518\n",
      "Train Epoch: 1 [5836800/8102750 (72%)]\tLoss: 0.125986\n",
      "Train Epoch: 1 [5862400/8102750 (72%)]\tLoss: 0.122967\n",
      "Train Epoch: 1 [5888000/8102750 (73%)]\tLoss: 0.123003\n",
      "Train Epoch: 1 [5913600/8102750 (73%)]\tLoss: 0.119648\n",
      "Train Epoch: 1 [5939200/8102750 (73%)]\tLoss: 0.121782\n",
      "Train Epoch: 1 [5964800/8102750 (74%)]\tLoss: 0.116400\n",
      "Train Epoch: 1 [5990400/8102750 (74%)]\tLoss: 0.124547\n",
      "Train Epoch: 1 [6016000/8102750 (74%)]\tLoss: 0.122473\n",
      "Train Epoch: 1 [6041600/8102750 (75%)]\tLoss: 0.115838\n",
      "Train Epoch: 1 [6067200/8102750 (75%)]\tLoss: 0.121868\n",
      "Train Epoch: 1 [6092800/8102750 (75%)]\tLoss: 0.116104\n",
      "Train Epoch: 1 [6118400/8102750 (76%)]\tLoss: 0.116087\n",
      "Train Epoch: 1 [6144000/8102750 (76%)]\tLoss: 0.122832\n",
      "[0/493590 (0%)]\n",
      "[153600/493590 (31%)]\n",
      "[307200/493590 (62%)]\n",
      "[460800/493590 (93%)]\n",
      "ROC AUC Score: 0.882786\n",
      "Validation Loss: 0.111879\n",
      "Train Epoch: 1 [6169600/8102750 (76%)]\tLoss: 0.122896\n",
      "Train Epoch: 1 [6195200/8102750 (76%)]\tLoss: 0.125625\n",
      "Train Epoch: 1 [6220800/8102750 (77%)]\tLoss: 0.120324\n",
      "Train Epoch: 1 [6246400/8102750 (77%)]\tLoss: 0.122264\n",
      "Train Epoch: 1 [6272000/8102750 (77%)]\tLoss: 0.121235\n",
      "Train Epoch: 1 [6297600/8102750 (78%)]\tLoss: 0.122703\n",
      "Train Epoch: 1 [6323200/8102750 (78%)]\tLoss: 0.120240\n",
      "Train Epoch: 1 [6348800/8102750 (78%)]\tLoss: 0.122268\n",
      "Train Epoch: 1 [6374400/8102750 (79%)]\tLoss: 0.122438\n",
      "Train Epoch: 1 [6400000/8102750 (79%)]\tLoss: 0.116234\n",
      "Train Epoch: 1 [6425600/8102750 (79%)]\tLoss: 0.123571\n",
      "Train Epoch: 1 [6451200/8102750 (80%)]\tLoss: 0.121485\n",
      "Train Epoch: 1 [6476800/8102750 (80%)]\tLoss: 0.125617\n",
      "Train Epoch: 1 [6502400/8102750 (80%)]\tLoss: 0.123132\n",
      "Train Epoch: 1 [6528000/8102750 (81%)]\tLoss: 0.119281\n",
      "Train Epoch: 1 [6553600/8102750 (81%)]\tLoss: 0.121748\n",
      "Train Epoch: 1 [6579200/8102750 (81%)]\tLoss: 0.116454\n",
      "Train Epoch: 1 [6604800/8102750 (82%)]\tLoss: 0.116951\n",
      "Train Epoch: 1 [6630400/8102750 (82%)]\tLoss: 0.126473\n",
      "Train Epoch: 1 [6656000/8102750 (82%)]\tLoss: 0.120812\n",
      "[0/493590 (0%)]\n",
      "[153600/493590 (31%)]\n",
      "[307200/493590 (62%)]\n",
      "[460800/493590 (93%)]\n",
      "ROC AUC Score: 0.883002\n",
      "Validation Loss: 0.108723\n",
      "Train Epoch: 1 [6681600/8102750 (82%)]\tLoss: 0.123028\n",
      "Train Epoch: 1 [6707200/8102750 (83%)]\tLoss: 0.124173\n",
      "Train Epoch: 1 [6732800/8102750 (83%)]\tLoss: 0.124674\n",
      "Train Epoch: 1 [6758400/8102750 (83%)]\tLoss: 0.114565\n",
      "Train Epoch: 1 [6784000/8102750 (84%)]\tLoss: 0.120859\n",
      "Train Epoch: 1 [6809600/8102750 (84%)]\tLoss: 0.124354\n",
      "Train Epoch: 1 [6835200/8102750 (84%)]\tLoss: 0.117897\n",
      "Train Epoch: 1 [6860800/8102750 (85%)]\tLoss: 0.122458\n",
      "Train Epoch: 1 [6886400/8102750 (85%)]\tLoss: 0.122710\n",
      "Train Epoch: 1 [6912000/8102750 (85%)]\tLoss: 0.123691\n",
      "Train Epoch: 1 [6937600/8102750 (86%)]\tLoss: 0.121266\n",
      "Train Epoch: 1 [6963200/8102750 (86%)]\tLoss: 0.119870\n",
      "Train Epoch: 1 [6988800/8102750 (86%)]\tLoss: 0.114750\n",
      "Train Epoch: 1 [7014400/8102750 (87%)]\tLoss: 0.123122\n",
      "Train Epoch: 1 [7040000/8102750 (87%)]\tLoss: 0.118412\n",
      "Train Epoch: 1 [7065600/8102750 (87%)]\tLoss: 0.117058\n",
      "Train Epoch: 1 [7091200/8102750 (88%)]\tLoss: 0.116523\n",
      "Train Epoch: 1 [7116800/8102750 (88%)]\tLoss: 0.125713\n",
      "Train Epoch: 1 [7142400/8102750 (88%)]\tLoss: 0.122634\n",
      "Train Epoch: 1 [7168000/8102750 (88%)]\tLoss: 0.119166\n",
      "[0/493590 (0%)]\n",
      "[153600/493590 (31%)]\n",
      "[307200/493590 (62%)]\n",
      "[460800/493590 (93%)]\n",
      "ROC AUC Score: 0.885339\n",
      "Validation Loss: 0.109204\n",
      "Train Epoch: 1 [7193600/8102750 (89%)]\tLoss: 0.122042\n",
      "Train Epoch: 1 [7219200/8102750 (89%)]\tLoss: 0.123887\n",
      "Train Epoch: 1 [7244800/8102750 (89%)]\tLoss: 0.115541\n",
      "Train Epoch: 1 [7270400/8102750 (90%)]\tLoss: 0.121332\n",
      "Train Epoch: 1 [7296000/8102750 (90%)]\tLoss: 0.124349\n",
      "Train Epoch: 1 [7321600/8102750 (90%)]\tLoss: 0.119836\n",
      "Train Epoch: 1 [7347200/8102750 (91%)]\tLoss: 0.123381\n",
      "Train Epoch: 1 [7372800/8102750 (91%)]\tLoss: 0.125364\n",
      "Train Epoch: 1 [7398400/8102750 (91%)]\tLoss: 0.115955\n",
      "Train Epoch: 1 [7424000/8102750 (92%)]\tLoss: 0.120440\n",
      "Train Epoch: 1 [7449600/8102750 (92%)]\tLoss: 0.125586\n",
      "Train Epoch: 1 [7475200/8102750 (92%)]\tLoss: 0.123077\n",
      "Train Epoch: 1 [7500800/8102750 (93%)]\tLoss: 0.115663\n",
      "Train Epoch: 1 [7526400/8102750 (93%)]\tLoss: 0.115610\n",
      "Train Epoch: 1 [7552000/8102750 (93%)]\tLoss: 0.120749\n",
      "Train Epoch: 1 [7577600/8102750 (94%)]\tLoss: 0.123956\n",
      "Train Epoch: 1 [7603200/8102750 (94%)]\tLoss: 0.124736\n",
      "Train Epoch: 1 [7628800/8102750 (94%)]\tLoss: 0.120515\n",
      "Train Epoch: 1 [7654400/8102750 (94%)]\tLoss: 0.112988\n",
      "Train Epoch: 1 [7680000/8102750 (95%)]\tLoss: 0.119589\n",
      "[0/493590 (0%)]\n",
      "[153600/493590 (31%)]\n",
      "[307200/493590 (62%)]\n",
      "[460800/493590 (93%)]\n",
      "ROC AUC Score: 0.884779\n",
      "Validation Loss: 0.110941\n",
      "Train Epoch: 1 [7705600/8102750 (95%)]\tLoss: 0.123957\n",
      "Train Epoch: 1 [7731200/8102750 (95%)]\tLoss: 0.124860\n",
      "Train Epoch: 1 [7756800/8102750 (96%)]\tLoss: 0.123754\n",
      "Train Epoch: 1 [7782400/8102750 (96%)]\tLoss: 0.124017\n",
      "Train Epoch: 1 [7808000/8102750 (96%)]\tLoss: 0.116868\n",
      "Train Epoch: 1 [7833600/8102750 (97%)]\tLoss: 0.121740\n",
      "Train Epoch: 1 [7859200/8102750 (97%)]\tLoss: 0.121142\n",
      "Train Epoch: 1 [7884800/8102750 (97%)]\tLoss: 0.120992\n",
      "Train Epoch: 1 [7910400/8102750 (98%)]\tLoss: 0.118129\n",
      "Train Epoch: 1 [7936000/8102750 (98%)]\tLoss: 0.127667\n"
     ]
    }
   ],
   "source": [
    "%%time\n",
    "model, train_losses, val_losses, val_auc_scores = train_model(\n",
    "                model, train_dl, val_dl, optimizer, criterion,\n",
    "                n_epochs=2, USE_CUDA=USE_CUDA, val_every=20)"
   ]
  },
  {
   "cell_type": "code",
   "execution_count": 51,
   "metadata": {},
   "outputs": [],
   "source": [
    "from src.structured_lstm import get_predictions"
   ]
  },
  {
   "cell_type": "code",
   "execution_count": 54,
   "metadata": {},
   "outputs": [
    {
     "data": {
      "text/plain": [
       "(63303, 3857)"
      ]
     },
     "execution_count": 54,
     "metadata": {},
     "output_type": "execute_result"
    }
   ],
   "source": [
    "len(train_dl), len(val_dl)"
   ]
  },
  {
   "cell_type": "code",
   "execution_count": 52,
   "metadata": {},
   "outputs": [
    {
     "name": "stdout",
     "output_type": "stream",
     "text": [
      "[0/493590 (0%)]\n",
      "[153600/493590 (31%)]\n",
      "[307200/493590 (62%)]\n",
      "[460800/493590 (93%)]\n"
     ]
    }
   ],
   "source": [
    "targets, preds = get_predictions(model, val_dl, USE_CUDA=USE_CUDA)"
   ]
  },
  {
   "cell_type": "code",
   "execution_count": 53,
   "metadata": {},
   "outputs": [
    {
     "data": {
      "text/plain": [
       "0.8714340905872601"
      ]
     },
     "execution_count": 53,
     "metadata": {},
     "output_type": "execute_result"
    }
   ],
   "source": [
    "from sklearn.metrics import roc_auc_score\n",
    "roc_auc_score(targets, preds)"
   ]
  },
  {
   "cell_type": "code",
   "execution_count": null,
   "metadata": {},
   "outputs": [],
   "source": [
    "targets, preds = get_predictions(model, train_dl, USE_CUDA=USE_CUDA)"
   ]
  },
  {
   "cell_type": "code",
   "execution_count": null,
   "metadata": {},
   "outputs": [],
   "source": [
    "roc_auc_score(targets, preds)"
   ]
  }
 ],
 "metadata": {
  "kernelspec": {
   "display_name": "Python 3",
   "language": "python",
   "name": "python3"
  },
  "language_info": {
   "codemirror_mode": {
    "name": "ipython",
    "version": 3
   },
   "file_extension": ".py",
   "mimetype": "text/x-python",
   "name": "python",
   "nbconvert_exporter": "python",
   "pygments_lexer": "ipython3",
   "version": "3.6.4"
  }
 },
 "nbformat": 4,
 "nbformat_minor": 2
}
