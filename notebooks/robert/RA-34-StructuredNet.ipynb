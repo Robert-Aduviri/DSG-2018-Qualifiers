{
 "cells": [
  {
   "cell_type": "code",
   "execution_count": 1,
   "metadata": {},
   "outputs": [],
   "source": [
    "%load_ext autoreload\n",
    "%autoreload 2\n",
    "%matplotlib inline\n",
    "%config InlineBackend.figure_format = 'retina'\n",
    "\n",
    "import os, math\n",
    "import numpy as np, pandas as pd\n",
    "import matplotlib.pyplot as plt, seaborn as sns\n",
    "from tqdm import tqdm, tqdm_notebook\n",
    "from pathlib import Path\n",
    "pd.set_option('display.max_columns', 1000)\n",
    "pd.set_option('display.max_rows', 400)\n",
    "sns.set()\n",
    "\n",
    "os.chdir('../..')\n",
    "from src import utils"
   ]
  },
  {
   "cell_type": "code",
   "execution_count": 2,
   "metadata": {},
   "outputs": [],
   "source": [
    "DATA        = Path('data')\n",
    "RAW         = DATA/'raw'\n",
    "INTERIM     = DATA/'interim'\n",
    "PROCESSED   = DATA/'processed'\n",
    "SUBMISSIONS = DATA/'submissions'"
   ]
  },
  {
   "cell_type": "code",
   "execution_count": 3,
   "metadata": {},
   "outputs": [],
   "source": [
    "from src.utils import get_weeks, week_num\n",
    "week_labels = get_weeks(day_from=20160104, num_weeks=121)[91:]"
   ]
  },
  {
   "cell_type": "code",
   "execution_count": 4,
   "metadata": {},
   "outputs": [
    {
     "name": "stdout",
     "output_type": "stream",
     "text": [
      "[20171002, 20171009, 20171016, 20171023, 20171030, 20171106, 20171113, 20171120, 20171127, 20171204, 20171211, 20171218, 20171225, 20180101, 20180108, 20180115, 20180122, 20180129, 20180205, 20180212, 20180219, 20180226, 20180305, 20180312, 20180319, 20180326, 20180402, 20180409, 20180416, 20180423]\n"
     ]
    }
   ],
   "source": [
    "print(week_labels)"
   ]
  },
  {
   "cell_type": "code",
   "execution_count": 5,
   "metadata": {},
   "outputs": [
    {
     "name": "stdout",
     "output_type": "stream",
     "text": [
      "CPU times: user 1min 26s, sys: 46.6 s, total: 2min 12s\n",
      "Wall time: 2min 23s\n"
     ]
    }
   ],
   "source": [
    "%%time\n",
    "train = pd.DataFrame()\n",
    "for name in week_labels[13:-2]:\n",
    "    train = pd.concat([train, pd.read_feather(PROCESSED/f'SVD_17-18_72f/week_{name}_SVD_diffscount.feather')])"
   ]
  },
  {
   "cell_type": "code",
   "execution_count": 6,
   "metadata": {},
   "outputs": [
    {
     "name": "stdout",
     "output_type": "stream",
     "text": [
      "CPU times: user 572 ms, sys: 380 ms, total: 952 ms\n",
      "Wall time: 951 ms\n"
     ]
    }
   ],
   "source": [
    "%%time\n",
    "val = pd.read_feather(PROCESSED/f'SVD_17-18_72f/week_{week_labels[-2]}_SVD_diffscount.feather')\n",
    "test = pd.read_feather(PROCESSED/f'SVD_17-18_72f/week_{week_labels[-1]}_SVD_diffscount.feather')"
   ]
  },
  {
   "cell_type": "markdown",
   "metadata": {},
   "source": [
    "## End checkpoint"
   ]
  },
  {
   "cell_type": "code",
   "execution_count": 15,
   "metadata": {},
   "outputs": [
    {
     "name": "stdout",
     "output_type": "stream",
     "text": [
      "CPU times: user 4.24 s, sys: 504 ms, total: 4.74 s\n",
      "Wall time: 4.73 s\n"
     ]
    }
   ],
   "source": [
    "%%time\n",
    "train_ids = set([(c,i,b) for c,i,b in zip(pd.concat([train.CustomerIdx, val.CustomerIdx]),\n",
    "                              pd.concat([train.IsinIdx, val.IsinIdx]),\n",
    "                              pd.concat([train.BuySell, val.BuySell]))])\n",
    "test_ids = set([(c,i,b) for c,i,b in zip(test.CustomerIdx, test.IsinIdx, test.BuySell)])"
   ]
  },
  {
   "cell_type": "code",
   "execution_count": 17,
   "metadata": {},
   "outputs": [
    {
     "data": {
      "text/plain": [
       "((8102750, 72), (493590, 72), (484758, 73))"
      ]
     },
     "execution_count": 17,
     "metadata": {},
     "output_type": "execute_result"
    }
   ],
   "source": [
    "train.shape, val.shape, test.shape"
   ]
  },
  {
   "cell_type": "code",
   "execution_count": 16,
   "metadata": {},
   "outputs": [
    {
     "data": {
      "text/plain": [
       "(985972, 484758, 0)"
      ]
     },
     "execution_count": 16,
     "metadata": {},
     "output_type": "execute_result"
    }
   ],
   "source": [
    "len(train_ids), len(test_ids), len(test_ids.difference(train_ids))"
   ]
  },
  {
   "cell_type": "code",
   "execution_count": 17,
   "metadata": {},
   "outputs": [
    {
     "data": {
      "text/plain": [
       "(1314014, 484758, 0)"
      ]
     },
     "execution_count": 17,
     "metadata": {},
     "output_type": "execute_result"
    }
   ],
   "source": [
    "len(train_ids), len(test_ids), len(test_ids.difference(train_ids))"
   ]
  },
  {
   "cell_type": "code",
   "execution_count": 30,
   "metadata": {},
   "outputs": [],
   "source": [
    "def get_seqs(trade, challenge, week_labels, keys, agg='sum'):\n",
    "    trade = trade[trade.TradeDateKey >= week_labels[0]]\n",
    "    if 'Week' not in trade.columns:\n",
    "        trade['Week'] = trade.TradeDateKey.apply(\n",
    "                            lambda x: week_num(week_labels, x))\n",
    "    weeks = trade.groupby(keys + ['Week'], as_index=False) \\\n",
    "                            ['CustomerInterest'].agg(agg)\n",
    "    n_weeks = weeks.Week.nunique()\n",
    "    seq_dict = {}\n",
    "    df = weeks.drop_duplicates(keys)\n",
    "    for tup in zip(*[df[c] for c in keys]):\n",
    "        tup = tup[0] if len(tup)==1 else tup\n",
    "        seq_dict[tup] = [0] * n_weeks\n",
    "    df = challenge.drop_duplicates(keys)\n",
    "    for tup in zip(*[df[c] for c in keys]):\n",
    "        tup = tup[0] if len(tup)==1 else tup\n",
    "        seq_dict[tup] = [0] * n_weeks\n",
    "    for tup in zip(*[weeks[c] for c in keys + ['Week', 'CustomerInterest']]):\n",
    "        tup, week, q = tup[:-2], tup[-2], tup[-1]\n",
    "        tup = tup[0] if len(tup)==1 else tup\n",
    "        seq_dict[tup][week] = q\n",
    "    return seq_dict"
   ]
  },
  {
   "cell_type": "code",
   "execution_count": 18,
   "metadata": {},
   "outputs": [],
   "source": [
    "from src.structurednet import get_seqs"
   ]
  },
  {
   "cell_type": "code",
   "execution_count": 19,
   "metadata": {},
   "outputs": [],
   "source": [
    "trade      = pd.read_csv(RAW/'Trade.csv', low_memory=False)\n",
    "challenge  = pd.read_csv(RAW/'Challenge_20180423.csv', low_memory=False)"
   ]
  },
  {
   "cell_type": "code",
   "execution_count": 21,
   "metadata": {},
   "outputs": [
    {
     "name": "stderr",
     "output_type": "stream",
     "text": [
      "/home/raduviri/Documents/DSG-2018/src/structurednet.py:16: SettingWithCopyWarning: \n",
      "A value is trying to be set on a copy of a slice from a DataFrame.\n",
      "Try using .loc[row_indexer,col_indexer] = value instead\n",
      "\n",
      "See the caveats in the documentation: http://pandas.pydata.org/pandas-docs/stable/indexing.html#indexing-view-versus-copy\n",
      "  lambda x: week_num(week_labels, x))\n"
     ]
    },
    {
     "name": "stdout",
     "output_type": "stream",
     "text": [
      "CPU times: user 15.8 s, sys: 308 ms, total: 16.1 s\n",
      "Wall time: 16.1 s\n"
     ]
    }
   ],
   "source": [
    "%%time\n",
    "transactions = get_seqs(trade, challenge, week_labels, \n",
    "                        ['CustomerIdx', 'IsinIdx', 'BuySell'])\n",
    "buysells = get_seqs(trade, challenge, week_labels, \n",
    "                        ['CustomerIdx', 'IsinIdx'])\n",
    "customers = get_seqs(trade, challenge, week_labels, ['CustomerIdx'])\n",
    "isins = get_seqs(trade, challenge, week_labels, ['IsinIdx'])"
   ]
  },
  {
   "cell_type": "code",
   "execution_count": 50,
   "metadata": {},
   "outputs": [
    {
     "name": "stdout",
     "output_type": "stream",
     "text": [
      "CPU times: user 7.67 s, sys: 260 ms, total: 7.93 s\n",
      "Wall time: 7.93 s\n"
     ]
    }
   ],
   "source": [
    "%%time\n",
    "train['Week'] = train.TradeDateKey.apply(\n",
    "                      lambda x: week_num(week_labels, x))\n",
    "val['Week'] = val.TradeDateKey.apply(\n",
    "                      lambda x: week_num(week_labels, x))\n",
    "test['Week'] = test.TradeDateKey.apply(\n",
    "                      lambda x: week_num(week_labels, x))"
   ]
  },
  {
   "cell_type": "code",
   "execution_count": 51,
   "metadata": {},
   "outputs": [
    {
     "data": {
      "text/plain": [
       "array([ 0,  1,  2,  3,  4,  5,  6,  7,  8,  9, 10, 11, 12, 13, 14, 15, 16,\n",
       "       17, 18, 19, 20, 21, 22, 23, 24, 25, 26, 27])"
      ]
     },
     "execution_count": 51,
     "metadata": {},
     "output_type": "execute_result"
    }
   ],
   "source": [
    "train.Week.unique()"
   ]
  },
  {
   "cell_type": "code",
   "execution_count": 52,
   "metadata": {},
   "outputs": [
    {
     "data": {
      "text/plain": [
       "array([28])"
      ]
     },
     "execution_count": 52,
     "metadata": {},
     "output_type": "execute_result"
    }
   ],
   "source": [
    "val.Week.unique()"
   ]
  },
  {
   "cell_type": "code",
   "execution_count": 48,
   "metadata": {},
   "outputs": [],
   "source": [
    "x = np.roll(isins[19020], 2)\n",
    "x[:2] = 0"
   ]
  },
  {
   "cell_type": "code",
   "execution_count": 54,
   "metadata": {},
   "outputs": [
    {
     "data": {
      "text/plain": [
       "30"
      ]
     },
     "execution_count": 54,
     "metadata": {},
     "output_type": "execute_result"
    }
   ],
   "source": [
    "len(week_labels)"
   ]
  },
  {
   "cell_type": "code",
   "execution_count": 60,
   "metadata": {},
   "outputs": [],
   "source": [
    "def shift_right(seq, week, week_labels):\n",
    "    places = len(week_labels) - week - 1\n",
    "    seq = np.roll(seq, places)\n",
    "    seq[:places] = 0\n",
    "    return seq"
   ]
  },
  {
   "cell_type": "code",
   "execution_count": 63,
   "metadata": {},
   "outputs": [],
   "source": [
    "import pickle\n",
    "with open(INTERIM/'scaler.pkl', 'rb') as f:\n",
    "    scaler = pickle.load(f)"
   ]
  },
  {
   "cell_type": "code",
   "execution_count": null,
   "metadata": {},
   "outputs": [],
   "source": [
    "train.describe().transpose()"
   ]
  },
  {
   "cell_type": "code",
   "execution_count": 62,
   "metadata": {},
   "outputs": [
    {
     "data": {
      "text/plain": [
       "array([0., 0., 0., 1., 0., 0., 1., 0., 0., 0., 1., 0., 2., 0., 0., 1., 0.,\n",
       "       0., 0., 3., 1., 0., 1., 4., 2., 0., 0., 2., 0.])"
      ]
     },
     "execution_count": 62,
     "metadata": {},
     "output_type": "execute_result"
    }
   ],
   "source": [
    "shift_right(isins[19020], 27, week_labels)"
   ]
  },
  {
   "cell_type": "code",
   "execution_count": 56,
   "metadata": {},
   "outputs": [
    {
     "name": "stdout",
     "output_type": "stream",
     "text": [
      "[0, 1.0, 0, 0, 1.0, 0, 0, 0, 1.0, 0, 2.0, 0, 0.0, 1.0, 0, 0, 0, 3.0, 1.0, 0, 1.0, 4.0, 2.0, 0, 0, 2.0, 0.0, 1.0, 0]\n"
     ]
    }
   ],
   "source": [
    "print(isins[19020])"
   ]
  },
  {
   "cell_type": "code",
   "execution_count": 41,
   "metadata": {},
   "outputs": [
    {
     "data": {
      "text/plain": [
       "(15387370, 493590, 484758)"
      ]
     },
     "execution_count": 41,
     "metadata": {},
     "output_type": "execute_result"
    }
   ],
   "source": [
    "len(train), len(val), len(test)"
   ]
  },
  {
   "cell_type": "code",
   "execution_count": null,
   "metadata": {},
   "outputs": [],
   "source": [
    "(9, 7259, 'Buy')\n"
   ]
  },
  {
   "cell_type": "code",
   "execution_count": 53,
   "metadata": {},
   "outputs": [
    {
     "data": {
      "text/plain": [
       "985972"
      ]
     },
     "execution_count": 53,
     "metadata": {},
     "output_type": "execute_result"
    }
   ],
   "source": [
    "len(train_ids)"
   ]
  },
  {
   "cell_type": "code",
   "execution_count": 74,
   "metadata": {},
   "outputs": [
    {
     "data": {
      "text/plain": [
       "True"
      ]
     },
     "execution_count": 74,
     "metadata": {},
     "output_type": "execute_result"
    }
   ],
   "source": [
    "(9,7259, 'Buy') in transactions"
   ]
  },
  {
   "cell_type": "code",
   "execution_count": 65,
   "metadata": {},
   "outputs": [
    {
     "data": {
      "text/plain": [
       "True"
      ]
     },
     "execution_count": 65,
     "metadata": {},
     "output_type": "execute_result"
    }
   ],
   "source": [
    "(9,7259, 'Buy') in train_ids"
   ]
  },
  {
   "cell_type": "code",
   "execution_count": 63,
   "metadata": {},
   "outputs": [
    {
     "data": {
      "text/html": [
       "<div>\n",
       "<style scoped>\n",
       "    .dataframe tbody tr th:only-of-type {\n",
       "        vertical-align: middle;\n",
       "    }\n",
       "\n",
       "    .dataframe tbody tr th {\n",
       "        vertical-align: top;\n",
       "    }\n",
       "\n",
       "    .dataframe thead th {\n",
       "        text-align: right;\n",
       "    }\n",
       "</style>\n",
       "<table border=\"1\" class=\"dataframe\">\n",
       "  <thead>\n",
       "    <tr style=\"text-align: right;\">\n",
       "      <th></th>\n",
       "      <th>TradeDateKey</th>\n",
       "      <th>CustomerIdx</th>\n",
       "      <th>IsinIdx</th>\n",
       "      <th>BuySell</th>\n",
       "      <th>CustomerInterest</th>\n",
       "      <th>DaysSinceBuySell</th>\n",
       "      <th>DaysSinceTransaction</th>\n",
       "      <th>DaysSinceCustomerActivity</th>\n",
       "      <th>DaysSinceBondActivity</th>\n",
       "      <th>DaysCountBuySell</th>\n",
       "      <th>DaysCountTransaction</th>\n",
       "      <th>DaysCountCustomerActivity</th>\n",
       "      <th>DaysCountBondActivity</th>\n",
       "      <th>SVD_CustomerBias</th>\n",
       "      <th>SVD_IsinBuySellBias</th>\n",
       "      <th>SVD_Recommend</th>\n",
       "      <th>SVD_CustomerFactor00</th>\n",
       "      <th>SVD_CustomerFactor01</th>\n",
       "      <th>SVD_CustomerFactor02</th>\n",
       "      <th>SVD_CustomerFactor03</th>\n",
       "      <th>SVD_CustomerFactor04</th>\n",
       "      <th>SVD_CustomerFactor05</th>\n",
       "      <th>SVD_CustomerFactor06</th>\n",
       "      <th>SVD_CustomerFactor07</th>\n",
       "      <th>SVD_CustomerFactor08</th>\n",
       "      <th>SVD_CustomerFactor09</th>\n",
       "      <th>SVD_CustomerFactor10</th>\n",
       "      <th>SVD_CustomerFactor11</th>\n",
       "      <th>SVD_CustomerFactor12</th>\n",
       "      <th>SVD_CustomerFactor13</th>\n",
       "      <th>SVD_CustomerFactor14</th>\n",
       "      <th>SVD_IsinBuySellFactor00</th>\n",
       "      <th>SVD_IsinBuySellFactor01</th>\n",
       "      <th>SVD_IsinBuySellFactor02</th>\n",
       "      <th>SVD_IsinBuySellFactor03</th>\n",
       "      <th>SVD_IsinBuySellFactor04</th>\n",
       "      <th>SVD_IsinBuySellFactor05</th>\n",
       "      <th>SVD_IsinBuySellFactor06</th>\n",
       "      <th>SVD_IsinBuySellFactor07</th>\n",
       "      <th>SVD_IsinBuySellFactor08</th>\n",
       "      <th>SVD_IsinBuySellFactor09</th>\n",
       "      <th>SVD_IsinBuySellFactor10</th>\n",
       "      <th>SVD_IsinBuySellFactor11</th>\n",
       "      <th>SVD_IsinBuySellFactor12</th>\n",
       "      <th>SVD_IsinBuySellFactor13</th>\n",
       "      <th>SVD_IsinBuySellFactor14</th>\n",
       "      <th>Year</th>\n",
       "      <th>Month</th>\n",
       "      <th>Day</th>\n",
       "      <th>Sector</th>\n",
       "      <th>Subsector</th>\n",
       "      <th>Region_x</th>\n",
       "      <th>Country</th>\n",
       "      <th>TickerIdx</th>\n",
       "      <th>ActualMaturityDateKey</th>\n",
       "      <th>IssueDateKey</th>\n",
       "      <th>Seniority</th>\n",
       "      <th>Currency</th>\n",
       "      <th>ActivityGroup</th>\n",
       "      <th>Region_y</th>\n",
       "      <th>Activity</th>\n",
       "      <th>RiskCaptain</th>\n",
       "      <th>Owner</th>\n",
       "      <th>CompositeRating</th>\n",
       "      <th>IndustrySector</th>\n",
       "      <th>IndustrySubgroup</th>\n",
       "      <th>MarketIssue</th>\n",
       "      <th>IssuedAmount</th>\n",
       "      <th>CouponType</th>\n",
       "      <th>BondDuration</th>\n",
       "      <th>BondRemaining</th>\n",
       "      <th>BondLife</th>\n",
       "      <th>CompositeRatingCat</th>\n",
       "      <th>Week</th>\n",
       "      <th>BuySellCat</th>\n",
       "      <th>CustomerIdxCat</th>\n",
       "      <th>IsinIdxCat</th>\n",
       "    </tr>\n",
       "  </thead>\n",
       "  <tbody>\n",
       "    <tr>\n",
       "      <th>136</th>\n",
       "      <td>20180101</td>\n",
       "      <td>9</td>\n",
       "      <td>7259</td>\n",
       "      <td>Buy</td>\n",
       "      <td>0.0</td>\n",
       "      <td>915</td>\n",
       "      <td>915</td>\n",
       "      <td>96</td>\n",
       "      <td>3</td>\n",
       "      <td>0</td>\n",
       "      <td>0</td>\n",
       "      <td>14</td>\n",
       "      <td>123</td>\n",
       "      <td>0.168586</td>\n",
       "      <td>0.113142</td>\n",
       "      <td>0.642453</td>\n",
       "      <td>0.021119</td>\n",
       "      <td>0.045339</td>\n",
       "      <td>-0.075194</td>\n",
       "      <td>0.04243</td>\n",
       "      <td>0.04705</td>\n",
       "      <td>0.168435</td>\n",
       "      <td>0.045051</td>\n",
       "      <td>0.080392</td>\n",
       "      <td>-0.175639</td>\n",
       "      <td>-0.03347</td>\n",
       "      <td>-0.085924</td>\n",
       "      <td>-0.057379</td>\n",
       "      <td>-0.006258</td>\n",
       "      <td>0.001205</td>\n",
       "      <td>0.036391</td>\n",
       "      <td>0.233954</td>\n",
       "      <td>-0.026064</td>\n",
       "      <td>0.028400</td>\n",
       "      <td>0.116740</td>\n",
       "      <td>-0.036194</td>\n",
       "      <td>0.230744</td>\n",
       "      <td>0.001060</td>\n",
       "      <td>0.134995</td>\n",
       "      <td>-0.178426</td>\n",
       "      <td>-0.071588</td>\n",
       "      <td>-0.112515</td>\n",
       "      <td>-0.054956</td>\n",
       "      <td>0.277415</td>\n",
       "      <td>-0.389541</td>\n",
       "      <td>0.005499</td>\n",
       "      <td>2018</td>\n",
       "      <td>18</td>\n",
       "      <td>1</td>\n",
       "      <td>Asset Owners</td>\n",
       "      <td>Insurance</td>\n",
       "      <td>Asia Pacific</td>\n",
       "      <td>TAIWAN</td>\n",
       "      <td>834</td>\n",
       "      <td>20400301</td>\n",
       "      <td>20100301</td>\n",
       "      <td>SEN</td>\n",
       "      <td>USD</td>\n",
       "      <td>FLOW G10</td>\n",
       "      <td>AMERICAS</td>\n",
       "      <td>HG CASH</td>\n",
       "      <td>HG CASH NONFIN</td>\n",
       "      <td>US IG TMT CASH</td>\n",
       "      <td>22</td>\n",
       "      <td>Communications</td>\n",
       "      <td>Cable/Satellite TV</td>\n",
       "      <td>US domestic</td>\n",
       "      <td>1.000000e+09</td>\n",
       "      <td>FIXED</td>\n",
       "      <td>10958</td>\n",
       "      <td>8095</td>\n",
       "      <td>2863</td>\n",
       "      <td>22</td>\n",
       "      <td>13</td>\n",
       "      <td>Buy</td>\n",
       "      <td>9</td>\n",
       "      <td>7259</td>\n",
       "    </tr>\n",
       "    <tr>\n",
       "      <th>137</th>\n",
       "      <td>20180101</td>\n",
       "      <td>9</td>\n",
       "      <td>7259</td>\n",
       "      <td>Sell</td>\n",
       "      <td>1.0</td>\n",
       "      <td>915</td>\n",
       "      <td>915</td>\n",
       "      <td>96</td>\n",
       "      <td>3</td>\n",
       "      <td>0</td>\n",
       "      <td>0</td>\n",
       "      <td>14</td>\n",
       "      <td>123</td>\n",
       "      <td>0.168586</td>\n",
       "      <td>0.046835</td>\n",
       "      <td>0.549887</td>\n",
       "      <td>0.021119</td>\n",
       "      <td>0.045339</td>\n",
       "      <td>-0.075194</td>\n",
       "      <td>0.04243</td>\n",
       "      <td>0.04705</td>\n",
       "      <td>0.168435</td>\n",
       "      <td>0.045051</td>\n",
       "      <td>0.080392</td>\n",
       "      <td>-0.175639</td>\n",
       "      <td>-0.03347</td>\n",
       "      <td>-0.085924</td>\n",
       "      <td>-0.057379</td>\n",
       "      <td>-0.006258</td>\n",
       "      <td>0.001205</td>\n",
       "      <td>0.036391</td>\n",
       "      <td>-0.084943</td>\n",
       "      <td>0.125975</td>\n",
       "      <td>0.029886</td>\n",
       "      <td>0.086831</td>\n",
       "      <td>-0.006835</td>\n",
       "      <td>0.240718</td>\n",
       "      <td>-0.053067</td>\n",
       "      <td>0.076811</td>\n",
       "      <td>-0.083388</td>\n",
       "      <td>-0.039372</td>\n",
       "      <td>-0.042091</td>\n",
       "      <td>-0.135680</td>\n",
       "      <td>0.101862</td>\n",
       "      <td>-0.036478</td>\n",
       "      <td>-0.085612</td>\n",
       "      <td>2018</td>\n",
       "      <td>18</td>\n",
       "      <td>1</td>\n",
       "      <td>Asset Owners</td>\n",
       "      <td>Insurance</td>\n",
       "      <td>Asia Pacific</td>\n",
       "      <td>TAIWAN</td>\n",
       "      <td>834</td>\n",
       "      <td>20400301</td>\n",
       "      <td>20100301</td>\n",
       "      <td>SEN</td>\n",
       "      <td>USD</td>\n",
       "      <td>FLOW G10</td>\n",
       "      <td>AMERICAS</td>\n",
       "      <td>HG CASH</td>\n",
       "      <td>HG CASH NONFIN</td>\n",
       "      <td>US IG TMT CASH</td>\n",
       "      <td>22</td>\n",
       "      <td>Communications</td>\n",
       "      <td>Cable/Satellite TV</td>\n",
       "      <td>US domestic</td>\n",
       "      <td>1.000000e+09</td>\n",
       "      <td>FIXED</td>\n",
       "      <td>10958</td>\n",
       "      <td>8095</td>\n",
       "      <td>2863</td>\n",
       "      <td>22</td>\n",
       "      <td>13</td>\n",
       "      <td>Sell</td>\n",
       "      <td>9</td>\n",
       "      <td>7259</td>\n",
       "    </tr>\n",
       "  </tbody>\n",
       "</table>\n",
       "</div>"
      ],
      "text/plain": [
       "     TradeDateKey  CustomerIdx  IsinIdx BuySell  CustomerInterest  \\\n",
       "136      20180101            9     7259     Buy               0.0   \n",
       "137      20180101            9     7259    Sell               1.0   \n",
       "\n",
       "     DaysSinceBuySell  DaysSinceTransaction  DaysSinceCustomerActivity  \\\n",
       "136               915                   915                         96   \n",
       "137               915                   915                         96   \n",
       "\n",
       "     DaysSinceBondActivity  DaysCountBuySell  DaysCountTransaction  \\\n",
       "136                      3                 0                     0   \n",
       "137                      3                 0                     0   \n",
       "\n",
       "     DaysCountCustomerActivity  DaysCountBondActivity  SVD_CustomerBias  \\\n",
       "136                         14                    123          0.168586   \n",
       "137                         14                    123          0.168586   \n",
       "\n",
       "     SVD_IsinBuySellBias  SVD_Recommend  SVD_CustomerFactor00  \\\n",
       "136             0.113142       0.642453              0.021119   \n",
       "137             0.046835       0.549887              0.021119   \n",
       "\n",
       "     SVD_CustomerFactor01  SVD_CustomerFactor02  SVD_CustomerFactor03  \\\n",
       "136              0.045339             -0.075194               0.04243   \n",
       "137              0.045339             -0.075194               0.04243   \n",
       "\n",
       "     SVD_CustomerFactor04  SVD_CustomerFactor05  SVD_CustomerFactor06  \\\n",
       "136               0.04705              0.168435              0.045051   \n",
       "137               0.04705              0.168435              0.045051   \n",
       "\n",
       "     SVD_CustomerFactor07  SVD_CustomerFactor08  SVD_CustomerFactor09  \\\n",
       "136              0.080392             -0.175639              -0.03347   \n",
       "137              0.080392             -0.175639              -0.03347   \n",
       "\n",
       "     SVD_CustomerFactor10  SVD_CustomerFactor11  SVD_CustomerFactor12  \\\n",
       "136             -0.085924             -0.057379             -0.006258   \n",
       "137             -0.085924             -0.057379             -0.006258   \n",
       "\n",
       "     SVD_CustomerFactor13  SVD_CustomerFactor14  SVD_IsinBuySellFactor00  \\\n",
       "136              0.001205              0.036391                 0.233954   \n",
       "137              0.001205              0.036391                -0.084943   \n",
       "\n",
       "     SVD_IsinBuySellFactor01  SVD_IsinBuySellFactor02  \\\n",
       "136                -0.026064                 0.028400   \n",
       "137                 0.125975                 0.029886   \n",
       "\n",
       "     SVD_IsinBuySellFactor03  SVD_IsinBuySellFactor04  \\\n",
       "136                 0.116740                -0.036194   \n",
       "137                 0.086831                -0.006835   \n",
       "\n",
       "     SVD_IsinBuySellFactor05  SVD_IsinBuySellFactor06  \\\n",
       "136                 0.230744                 0.001060   \n",
       "137                 0.240718                -0.053067   \n",
       "\n",
       "     SVD_IsinBuySellFactor07  SVD_IsinBuySellFactor08  \\\n",
       "136                 0.134995                -0.178426   \n",
       "137                 0.076811                -0.083388   \n",
       "\n",
       "     SVD_IsinBuySellFactor09  SVD_IsinBuySellFactor10  \\\n",
       "136                -0.071588                -0.112515   \n",
       "137                -0.039372                -0.042091   \n",
       "\n",
       "     SVD_IsinBuySellFactor11  SVD_IsinBuySellFactor12  \\\n",
       "136                -0.054956                 0.277415   \n",
       "137                -0.135680                 0.101862   \n",
       "\n",
       "     SVD_IsinBuySellFactor13  SVD_IsinBuySellFactor14  Year  Month  Day  \\\n",
       "136                -0.389541                 0.005499  2018     18    1   \n",
       "137                -0.036478                -0.085612  2018     18    1   \n",
       "\n",
       "           Sector  Subsector      Region_x Country  TickerIdx  \\\n",
       "136  Asset Owners  Insurance  Asia Pacific  TAIWAN        834   \n",
       "137  Asset Owners  Insurance  Asia Pacific  TAIWAN        834   \n",
       "\n",
       "     ActualMaturityDateKey  IssueDateKey Seniority Currency ActivityGroup  \\\n",
       "136               20400301      20100301       SEN      USD      FLOW G10   \n",
       "137               20400301      20100301       SEN      USD      FLOW G10   \n",
       "\n",
       "     Region_y Activity     RiskCaptain           Owner  CompositeRating  \\\n",
       "136  AMERICAS  HG CASH  HG CASH NONFIN  US IG TMT CASH               22   \n",
       "137  AMERICAS  HG CASH  HG CASH NONFIN  US IG TMT CASH               22   \n",
       "\n",
       "     IndustrySector    IndustrySubgroup  MarketIssue  IssuedAmount CouponType  \\\n",
       "136  Communications  Cable/Satellite TV  US domestic  1.000000e+09      FIXED   \n",
       "137  Communications  Cable/Satellite TV  US domestic  1.000000e+09      FIXED   \n",
       "\n",
       "     BondDuration  BondRemaining  BondLife  CompositeRatingCat  Week  \\\n",
       "136         10958           8095      2863                  22    13   \n",
       "137         10958           8095      2863                  22    13   \n",
       "\n",
       "    BuySellCat  CustomerIdxCat  IsinIdxCat  \n",
       "136        Buy               9        7259  \n",
       "137       Sell               9        7259  "
      ]
     },
     "execution_count": 63,
     "metadata": {},
     "output_type": "execute_result"
    }
   ],
   "source": [
    "train[(train.CustomerIdx==9) & (train.IsinIdx==7259)]"
   ]
  },
  {
   "cell_type": "code",
   "execution_count": 64,
   "metadata": {},
   "outputs": [
    {
     "data": {
      "text/html": [
       "<div>\n",
       "<style scoped>\n",
       "    .dataframe tbody tr th:only-of-type {\n",
       "        vertical-align: middle;\n",
       "    }\n",
       "\n",
       "    .dataframe tbody tr th {\n",
       "        vertical-align: top;\n",
       "    }\n",
       "\n",
       "    .dataframe thead th {\n",
       "        text-align: right;\n",
       "    }\n",
       "</style>\n",
       "<table border=\"1\" class=\"dataframe\">\n",
       "  <thead>\n",
       "    <tr style=\"text-align: right;\">\n",
       "      <th></th>\n",
       "      <th>TradeDateKey</th>\n",
       "      <th>CustomerIdx</th>\n",
       "      <th>IsinIdx</th>\n",
       "      <th>BuySell</th>\n",
       "      <th>NotionalEUR</th>\n",
       "      <th>Price</th>\n",
       "      <th>TradeStatus</th>\n",
       "      <th>CustomerInterest</th>\n",
       "    </tr>\n",
       "  </thead>\n",
       "  <tbody>\n",
       "    <tr>\n",
       "      <th>598819</th>\n",
       "      <td>20180104</td>\n",
       "      <td>9</td>\n",
       "      <td>7259</td>\n",
       "      <td>Sell</td>\n",
       "      <td>8321198.0</td>\n",
       "      <td>131.5956</td>\n",
       "      <td>Unknown</td>\n",
       "      <td>1.0</td>\n",
       "    </tr>\n",
       "  </tbody>\n",
       "</table>\n",
       "</div>"
      ],
      "text/plain": [
       "        TradeDateKey  CustomerIdx  IsinIdx BuySell  NotionalEUR     Price  \\\n",
       "598819      20180104            9     7259    Sell    8321198.0  131.5956   \n",
       "\n",
       "       TradeStatus  CustomerInterest  \n",
       "598819     Unknown               1.0  "
      ]
     },
     "execution_count": 64,
     "metadata": {},
     "output_type": "execute_result"
    }
   ],
   "source": [
    "trade[(trade.CustomerIdx==9) & (trade.IsinIdx==7259)]"
   ]
  },
  {
   "cell_type": "markdown",
   "metadata": {},
   "source": [
    "## Checkpoint"
   ]
  },
  {
   "cell_type": "code",
   "execution_count": 7,
   "metadata": {},
   "outputs": [],
   "source": [
    "from src.structurednet import get_seqs, shift_right"
   ]
  },
  {
   "cell_type": "code",
   "execution_count": 8,
   "metadata": {},
   "outputs": [],
   "source": [
    "trade      = pd.read_csv(RAW/'Trade.csv', low_memory=False)\n",
    "challenge  = pd.read_csv(RAW/'Challenge_20180423.csv', low_memory=False)"
   ]
  },
  {
   "cell_type": "code",
   "execution_count": 9,
   "metadata": {},
   "outputs": [
    {
     "name": "stdout",
     "output_type": "stream",
     "text": [
      "CPU times: user 13.2 s, sys: 636 ms, total: 13.8 s\n",
      "Wall time: 13.8 s\n"
     ]
    }
   ],
   "source": [
    "%%time\n",
    "transactions = get_seqs(trade, challenge, week_labels, \n",
    "                        ['CustomerIdx', 'IsinIdx', 'BuySell'])\n",
    "buysells = get_seqs(trade, challenge, week_labels, \n",
    "                        ['CustomerIdx', 'IsinIdx'])\n",
    "customers = get_seqs(trade, challenge, week_labels, ['CustomerIdx'])\n",
    "isins = get_seqs(trade, challenge, week_labels, ['IsinIdx'])"
   ]
  },
  {
   "cell_type": "code",
   "execution_count": 10,
   "metadata": {},
   "outputs": [],
   "source": [
    "for c in ['CustomerIdx', 'IsinIdx', 'BuySell', 'CompositeRating']:\n",
    "    train[f'{c}Cat'] = train[c]\n",
    "    val[f'{c}Cat'] = val[c]\n",
    "    test[f'{c}Cat'] = test[c]"
   ]
  },
  {
   "cell_type": "code",
   "execution_count": 11,
   "metadata": {},
   "outputs": [],
   "source": [
    "train['BuySellCont'] = train.BuySell.apply(lambda x: int(x == 'Buy'))\n",
    "val['BuySellCont'] = val.BuySell.apply(lambda x: int(x == 'Buy'))\n",
    "test['BuySellCont'] = test.BuySell.apply(lambda x: int(x == 'Buy'))"
   ]
  },
  {
   "cell_type": "code",
   "execution_count": 12,
   "metadata": {},
   "outputs": [],
   "source": [
    "train['Week'] = train.TradeDateKey.apply(lambda x: week_num(week_labels, x))\n",
    "val['Week'] = val.TradeDateKey.apply(lambda x: week_num(week_labels, x))\n",
    "test['Week'] = test.TradeDateKey.apply(lambda x: week_num(week_labels, x))"
   ]
  },
  {
   "cell_type": "code",
   "execution_count": 13,
   "metadata": {},
   "outputs": [],
   "source": [
    "cat_cols = ['Sector', 'Subsector', 'Region_x', 'Country', \n",
    "            'TickerIdx', 'Seniority', 'Currency', 'ActivityGroup', \n",
    "            'Region_y', 'Activity', 'RiskCaptain', 'Owner', \n",
    "            'IndustrySector', 'IndustrySubgroup', 'MarketIssue', 'CouponType',\n",
    "            'CompositeRatingCat', 'CustomerIdxCat', 'IsinIdxCat', 'BuySellCat']\n",
    "num_cols = ['ActualMaturityDateKey', 'IssueDateKey', 'IssuedAmount', \n",
    "            'BondDuration', 'BondRemaining', 'BondLife', \n",
    "            'Day', 'CompositeRating', 'BuySellCont',\n",
    "            \n",
    "            'DaysSinceBuySell', 'DaysSinceTransaction', 'DaysSinceCustomerActivity',\n",
    "            'DaysSinceBondActivity', 'DaysCountBuySell', 'DaysCountTransaction',\n",
    "            'DaysCountCustomerActivity', 'DaysCountBondActivity', 'SVD_CustomerBias',\n",
    "            'SVD_IsinBuySellBias', 'SVD_Recommend', 'SVD_CustomerFactor00',\n",
    "            'SVD_CustomerFactor01', 'SVD_CustomerFactor02', 'SVD_CustomerFactor03',\n",
    "            'SVD_CustomerFactor04', 'SVD_CustomerFactor05', 'SVD_CustomerFactor06',\n",
    "            'SVD_CustomerFactor07', 'SVD_CustomerFactor08', 'SVD_CustomerFactor09',\n",
    "            'SVD_CustomerFactor10', 'SVD_CustomerFactor11', 'SVD_CustomerFactor12',\n",
    "            'SVD_CustomerFactor13', 'SVD_CustomerFactor14']\n",
    "id_cols = ['CustomerIdx', 'IsinIdx', 'BuySell']\n",
    "target_col = 'CustomerInterest'"
   ]
  },
  {
   "cell_type": "code",
   "execution_count": 14,
   "metadata": {},
   "outputs": [
    {
     "name": "stdout",
     "output_type": "stream",
     "text": [
      "CPU times: user 10 s, sys: 8.88 s, total: 18.9 s\n",
      "Wall time: 18.9 s\n"
     ]
    }
   ],
   "source": [
    "%%time\n",
    "from sklearn.preprocessing import StandardScaler\n",
    "scaler = StandardScaler().fit(pd.concat([train[num_cols], \n",
    "                            val[num_cols], test[num_cols]]))"
   ]
  },
  {
   "cell_type": "code",
   "execution_count": 15,
   "metadata": {},
   "outputs": [],
   "source": [
    "NEURALNET = INTERIM/'neuralnet'"
   ]
  },
  {
   "cell_type": "code",
   "execution_count": 16,
   "metadata": {},
   "outputs": [],
   "source": [
    "%%time\n",
    "train.reset_index(drop=True).to_feather(NEURALNET/'train.feather')\n",
    "val.reset_index(drop=True).to_feather(NEURALNET/'val.feather')\n",
    "test.reset_index(drop=True).to_feather(NEURALNET/'test.feather')"
   ]
  },
  {
   "cell_type": "code",
   "execution_count": 20,
   "metadata": {},
   "outputs": [
    {
     "data": {
      "application/vnd.jupyter.widget-view+json": {
       "model_id": "a9df308830ad458c9fcee8b14a8defd2",
       "version_major": 2,
       "version_minor": 0
      },
      "text/html": [
       "<p>Failed to display Jupyter Widget of type <code>HBox</code>.</p>\n",
       "<p>\n",
       "  If you're reading this message in the Jupyter Notebook or JupyterLab Notebook, it may mean\n",
       "  that the widgets JavaScript is still loading. If this message persists, it\n",
       "  likely means that the widgets JavaScript library is either not installed or\n",
       "  not enabled. See the <a href=\"https://ipywidgets.readthedocs.io/en/stable/user_install.html\">Jupyter\n",
       "  Widgets Documentation</a> for setup instructions.\n",
       "</p>\n",
       "<p>\n",
       "  If you're reading this message in another frontend (for example, a static\n",
       "  rendering on GitHub or <a href=\"https://nbviewer.jupyter.org/\">NBViewer</a>),\n",
       "  it may mean that your frontend doesn't currently support widgets.\n",
       "</p>\n"
      ],
      "text/plain": [
       "HBox(children=(IntProgress(value=0, max=8102750), HTML(value='')))"
      ]
     },
     "metadata": {},
     "output_type": "display_data"
    },
    {
     "name": "stdout",
     "output_type": "stream",
     "text": [
      "\n",
      "CPU times: user 10min 56s, sys: 2min 44s, total: 13min 40s\n",
      "Wall time: 10min 49s\n"
     ]
    }
   ],
   "source": [
    "%%time\n",
    "from src.structurednet import extract_seqs\n",
    "n_weeks = len(week_labels)\n",
    "train_seqs = extract_seqs(train, transactions, buysells, \n",
    "                              customers, isins, n_weeks)"
   ]
  },
  {
   "cell_type": "code",
   "execution_count": 21,
   "metadata": {},
   "outputs": [
    {
     "data": {
      "application/vnd.jupyter.widget-view+json": {
       "model_id": "b697150e794c4c6887f208adf3983d26",
       "version_major": 2,
       "version_minor": 0
      },
      "text/html": [
       "<p>Failed to display Jupyter Widget of type <code>HBox</code>.</p>\n",
       "<p>\n",
       "  If you're reading this message in the Jupyter Notebook or JupyterLab Notebook, it may mean\n",
       "  that the widgets JavaScript is still loading. If this message persists, it\n",
       "  likely means that the widgets JavaScript library is either not installed or\n",
       "  not enabled. See the <a href=\"https://ipywidgets.readthedocs.io/en/stable/user_install.html\">Jupyter\n",
       "  Widgets Documentation</a> for setup instructions.\n",
       "</p>\n",
       "<p>\n",
       "  If you're reading this message in another frontend (for example, a static\n",
       "  rendering on GitHub or <a href=\"https://nbviewer.jupyter.org/\">NBViewer</a>),\n",
       "  it may mean that your frontend doesn't currently support widgets.\n",
       "</p>\n"
      ],
      "text/plain": [
       "HBox(children=(IntProgress(value=0, max=493590), HTML(value='')))"
      ]
     },
     "metadata": {},
     "output_type": "display_data"
    },
    {
     "name": "stdout",
     "output_type": "stream",
     "text": [
      "\n"
     ]
    },
    {
     "data": {
      "application/vnd.jupyter.widget-view+json": {
       "model_id": "b850a6bc9b5041b08510cbb8a256bb4d",
       "version_major": 2,
       "version_minor": 0
      },
      "text/html": [
       "<p>Failed to display Jupyter Widget of type <code>HBox</code>.</p>\n",
       "<p>\n",
       "  If you're reading this message in the Jupyter Notebook or JupyterLab Notebook, it may mean\n",
       "  that the widgets JavaScript is still loading. If this message persists, it\n",
       "  likely means that the widgets JavaScript library is either not installed or\n",
       "  not enabled. See the <a href=\"https://ipywidgets.readthedocs.io/en/stable/user_install.html\">Jupyter\n",
       "  Widgets Documentation</a> for setup instructions.\n",
       "</p>\n",
       "<p>\n",
       "  If you're reading this message in another frontend (for example, a static\n",
       "  rendering on GitHub or <a href=\"https://nbviewer.jupyter.org/\">NBViewer</a>),\n",
       "  it may mean that your frontend doesn't currently support widgets.\n",
       "</p>\n"
      ],
      "text/plain": [
       "HBox(children=(IntProgress(value=0, max=484758), HTML(value='')))"
      ]
     },
     "metadata": {},
     "output_type": "display_data"
    },
    {
     "name": "stdout",
     "output_type": "stream",
     "text": [
      "\n",
      "CPU times: user 1min 15s, sys: 19 s, total: 1min 34s\n",
      "Wall time: 1min 13s\n"
     ]
    }
   ],
   "source": [
    "%%time\n",
    "val_seqs = extract_seqs(val, transactions, buysells, \n",
    "                              customers, isins, n_weeks)\n",
    "test_seqs = extract_seqs(test, transactions, buysells, \n",
    "                              customers, isins, n_weeks)"
   ]
  },
  {
   "cell_type": "code",
   "execution_count": 22,
   "metadata": {},
   "outputs": [],
   "source": [
    "%%time\n",
    "import pickle\n",
    "with open(NEURALNET/'train_seqs.pkl', 'wb') as f:\n",
    "    pickle.dump(train_seqs, f, pickle.HIGHEST_PROTOCOL)\n",
    "with open(NEURALNET/'val_seqs.pkl', 'wb') as f:\n",
    "    pickle.dump(val_seqs, f, pickle.HIGHEST_PROTOCOL)\n",
    "with open(NEURALNET/'test_seqs.pkl', 'wb') as f:\n",
    "    pickle.dump(test_seqs, f, pickle.HIGHEST_PROTOCOL)"
   ]
  },
  {
   "cell_type": "code",
   "execution_count": 23,
   "metadata": {},
   "outputs": [],
   "source": [
    "with open(NEURALNET/'scaler.pkl', 'wb') as f:\n",
    "    pickle.dump(scaler, f, pickle.HIGHEST_PROTOCOL)"
   ]
  },
  {
   "cell_type": "code",
   "execution_count": 25,
   "metadata": {},
   "outputs": [
    {
     "name": "stdout",
     "output_type": "stream",
     "text": [
      "Encoding cats...\n",
      "Scaling conts...\n",
      "CPU times: user 34.5 s, sys: 964 ms, total: 35.5 s\n",
      "Wall time: 35.6 s\n"
     ]
    }
   ],
   "source": [
    "%%time\n",
    "from src.structurednet import preprocess_catsconts\n",
    "preprocess_catsconts(train, val, test, cat_cols, num_cols, scaler)"
   ]
  },
  {
   "cell_type": "code",
   "execution_count": 27,
   "metadata": {},
   "outputs": [
    {
     "name": "stdout",
     "output_type": "stream",
     "text": [
      "CPU times: user 5.36 s, sys: 6 s, total: 11.4 s\n",
      "Wall time: 9.53 s\n"
     ]
    }
   ],
   "source": [
    "%%time\n",
    "train.reset_index(drop=True).to_feather(NEURALNET/'train_preproc.feather')\n",
    "val.reset_index(drop=True).to_feather(NEURALNET/'val_preproc.feather')\n",
    "test.reset_index(drop=True).to_feather(NEURALNET/'test_preproc.feather')"
   ]
  },
  {
   "cell_type": "markdown",
   "metadata": {},
   "source": [
    "## Model"
   ]
  },
  {
   "cell_type": "code",
   "execution_count": 72,
   "metadata": {},
   "outputs": [],
   "source": [
    "from torch.utils.data import DataLoader\n",
    "from torch import optim\n",
    "import torch.nn as nn\n",
    "from src.structured_lstm import MultimodalDataset, MultimodalNet, train_model"
   ]
  },
  {
   "cell_type": "code",
   "execution_count": 29,
   "metadata": {},
   "outputs": [
    {
     "data": {
      "text/plain": [
       "(8102750, 4, 29)"
      ]
     },
     "execution_count": 29,
     "metadata": {},
     "output_type": "execute_result"
    }
   ],
   "source": [
    "train_seqs.shape"
   ]
  },
  {
   "cell_type": "code",
   "execution_count": 90,
   "metadata": {},
   "outputs": [
    {
     "name": "stdout",
     "output_type": "stream",
     "text": [
      "CPU times: user 2.88 s, sys: 3.34 s, total: 6.22 s\n",
      "Wall time: 6.21 s\n"
     ]
    }
   ],
   "source": [
    "%%time\n",
    "train_dl = DataLoader(MultimodalDataset(\n",
    "                train[cat_cols], train[num_cols],\n",
    "                train_seqs, train[target_col]),\n",
    "                batch_size=128, shuffle=True)\n",
    "val_dl = DataLoader(MultimodalDataset(\n",
    "                val[cat_cols], val[num_cols],\n",
    "                val_seqs, val[target_col]), \n",
    "                batch_size=128)"
   ]
  },
  {
   "cell_type": "code",
   "execution_count": 31,
   "metadata": {},
   "outputs": [],
   "source": [
    "cat_szs = [int(train[col].max() + 1) for col in cat_cols]\n",
    "emb_szs = [(c, min(50, (c+1)//2)) for c in cat_szs]"
   ]
  },
  {
   "cell_type": "code",
   "execution_count": 33,
   "metadata": {},
   "outputs": [
    {
     "data": {
      "text/plain": [
       "[(5, 3),\n",
       " (36, 18),\n",
       " (3, 2),\n",
       " (86, 43),\n",
       " (3240, 50),\n",
       " (9, 5),\n",
       " (21, 11),\n",
       " (3, 2),\n",
       " (8, 4),\n",
       " (15, 8),\n",
       " (37, 19),\n",
       " (101, 50),\n",
       " (14, 7),\n",
       " (330, 50),\n",
       " (15, 8),\n",
       " (6, 3),\n",
       " (29, 15),\n",
       " (2594, 50),\n",
       " (22989, 50),\n",
       " (2, 1)]"
      ]
     },
     "execution_count": 33,
     "metadata": {},
     "output_type": "execute_result"
    }
   ],
   "source": [
    "emb_szs"
   ]
  },
  {
   "cell_type": "code",
   "execution_count": 91,
   "metadata": {},
   "outputs": [],
   "source": [
    "USE_CUDA = True"
   ]
  },
  {
   "cell_type": "code",
   "execution_count": 92,
   "metadata": {},
   "outputs": [],
   "source": [
    "model = MultimodalNet(emb_szs, n_cont=len(num_cols), emb_drop=0.1,\n",
    "                      szs=[1000,500], drops=[0.3, 0.3],\n",
    "                      rnn_hidden_sz=128, rnn_input_sz=4, rnn_n_layers=2,\n",
    "                      rnn_drop=0.2)\n",
    "\n",
    "if USE_CUDA: model = model.cuda()"
   ]
  },
  {
   "cell_type": "code",
   "execution_count": 93,
   "metadata": {},
   "outputs": [],
   "source": [
    "optimizer = optim.Adam(model.parameters(), lr=1e-3, weight_decay=1e-5)\n",
    "criterion = nn.BCEWithLogitsLoss()"
   ]
  },
  {
   "cell_type": "code",
   "execution_count": 94,
   "metadata": {},
   "outputs": [
    {
     "name": "stdout",
     "output_type": "stream",
     "text": [
      "Train Epoch: 1 [102400/8102750 (1%)]\tLoss: 0.137438\n",
      "Train Epoch: 1 [204800/8102750 (3%)]\tLoss: 0.129137\n",
      "Train Epoch: 1 [307200/8102750 (4%)]\tLoss: 0.131611\n",
      "Train Epoch: 1 [409600/8102750 (5%)]\tLoss: 0.130324\n",
      "Train Epoch: 1 [512000/8102750 (6%)]\tLoss: 0.129279\n",
      "Train Epoch: 1 [614400/8102750 (8%)]\tLoss: 0.127033\n",
      "Train Epoch: 1 [716800/8102750 (9%)]\tLoss: 0.129476\n",
      "Train Epoch: 1 [819200/8102750 (10%)]\tLoss: 0.129712\n",
      "Train Epoch: 1 [921600/8102750 (11%)]\tLoss: 0.124847\n",
      "Train Epoch: 1 [1024000/8102750 (13%)]\tLoss: 0.128918\n",
      "[0/493590 (0%)]\n",
      "[153600/493590 (31%)]\n",
      "[307200/493590 (62%)]\n",
      "[460800/493590 (93%)]\n",
      "ROC AUC Score: 0.847556\n",
      "Validation Loss: 0.123119\n",
      "Train Epoch: 1 [1126400/8102750 (14%)]\tLoss: 0.127485\n",
      "Train Epoch: 1 [1228800/8102750 (15%)]\tLoss: 0.124727\n",
      "Train Epoch: 1 [1331200/8102750 (16%)]\tLoss: 0.126483\n",
      "Train Epoch: 1 [1433600/8102750 (18%)]\tLoss: 0.126014\n",
      "Train Epoch: 1 [1536000/8102750 (19%)]\tLoss: 0.126821\n",
      "Train Epoch: 1 [1638400/8102750 (20%)]\tLoss: 0.128719\n",
      "Train Epoch: 1 [1740800/8102750 (21%)]\tLoss: 0.127153\n",
      "Train Epoch: 1 [1843200/8102750 (23%)]\tLoss: 0.125949\n",
      "Train Epoch: 1 [1945600/8102750 (24%)]\tLoss: 0.126547\n",
      "Train Epoch: 1 [2048000/8102750 (25%)]\tLoss: 0.126688\n",
      "[0/493590 (0%)]\n",
      "[153600/493590 (31%)]\n",
      "[307200/493590 (62%)]\n",
      "[460800/493590 (93%)]\n",
      "ROC AUC Score: 0.869728\n",
      "Validation Loss: 0.114925\n",
      "Train Epoch: 1 [2150400/8102750 (27%)]\tLoss: 0.125300\n",
      "Train Epoch: 1 [2252800/8102750 (28%)]\tLoss: 0.119132\n",
      "Train Epoch: 1 [2355200/8102750 (29%)]\tLoss: 0.124723\n",
      "Train Epoch: 1 [2457600/8102750 (30%)]\tLoss: 0.123896\n",
      "Train Epoch: 1 [2560000/8102750 (32%)]\tLoss: 0.124530\n",
      "Train Epoch: 1 [2662400/8102750 (33%)]\tLoss: 0.124466\n",
      "Train Epoch: 1 [2764800/8102750 (34%)]\tLoss: 0.125364\n",
      "Train Epoch: 1 [2867200/8102750 (35%)]\tLoss: 0.126845\n",
      "Train Epoch: 1 [2969600/8102750 (37%)]\tLoss: 0.124176\n",
      "Train Epoch: 1 [3072000/8102750 (38%)]\tLoss: 0.125557\n",
      "[0/493590 (0%)]\n",
      "[153600/493590 (31%)]\n",
      "[307200/493590 (62%)]\n",
      "[460800/493590 (93%)]\n",
      "ROC AUC Score: 0.869379\n",
      "Validation Loss: 0.117363\n",
      "Train Epoch: 1 [3174400/8102750 (39%)]\tLoss: 0.123918\n",
      "Train Epoch: 1 [3276800/8102750 (40%)]\tLoss: 0.127935\n",
      "Train Epoch: 1 [3379200/8102750 (42%)]\tLoss: 0.126895\n",
      "Train Epoch: 1 [3481600/8102750 (43%)]\tLoss: 0.123907\n",
      "Train Epoch: 1 [3584000/8102750 (44%)]\tLoss: 0.125181\n",
      "Train Epoch: 1 [3686400/8102750 (45%)]\tLoss: 0.124021\n",
      "Train Epoch: 1 [3788800/8102750 (47%)]\tLoss: 0.125784\n",
      "Train Epoch: 1 [3891200/8102750 (48%)]\tLoss: 0.123636\n",
      "Train Epoch: 1 [3993600/8102750 (49%)]\tLoss: 0.124636\n",
      "Train Epoch: 1 [4096000/8102750 (51%)]\tLoss: 0.123423\n",
      "[0/493590 (0%)]\n",
      "[153600/493590 (31%)]\n",
      "[307200/493590 (62%)]\n",
      "[460800/493590 (93%)]\n",
      "ROC AUC Score: 0.877647\n",
      "Validation Loss: 0.112042\n",
      "Train Epoch: 1 [4198400/8102750 (52%)]\tLoss: 0.122547\n",
      "Train Epoch: 1 [4300800/8102750 (53%)]\tLoss: 0.122305\n",
      "Train Epoch: 1 [4403200/8102750 (54%)]\tLoss: 0.124860\n",
      "Train Epoch: 1 [4505600/8102750 (56%)]\tLoss: 0.128436\n",
      "Train Epoch: 1 [4608000/8102750 (57%)]\tLoss: 0.125369\n",
      "Train Epoch: 1 [4710400/8102750 (58%)]\tLoss: 0.123583\n",
      "Train Epoch: 1 [4812800/8102750 (59%)]\tLoss: 0.124273\n",
      "Train Epoch: 1 [4915200/8102750 (61%)]\tLoss: 0.124867\n",
      "Train Epoch: 1 [5017600/8102750 (62%)]\tLoss: 0.123290\n",
      "Train Epoch: 1 [5120000/8102750 (63%)]\tLoss: 0.123985\n",
      "[0/493590 (0%)]\n",
      "[153600/493590 (31%)]\n",
      "[307200/493590 (62%)]\n",
      "[460800/493590 (93%)]\n",
      "ROC AUC Score: 0.868096\n",
      "Validation Loss: 0.117789\n",
      "Train Epoch: 1 [5222400/8102750 (64%)]\tLoss: 0.125240\n",
      "Train Epoch: 1 [5324800/8102750 (66%)]\tLoss: 0.124086\n",
      "Train Epoch: 1 [5427200/8102750 (67%)]\tLoss: 0.123301\n",
      "Train Epoch: 1 [5529600/8102750 (68%)]\tLoss: 0.124322\n",
      "Train Epoch: 1 [5632000/8102750 (70%)]\tLoss: 0.125207\n",
      "Train Epoch: 1 [5734400/8102750 (71%)]\tLoss: 0.126522\n",
      "Train Epoch: 1 [5836800/8102750 (72%)]\tLoss: 0.126390\n",
      "Train Epoch: 1 [5939200/8102750 (73%)]\tLoss: 0.127248\n",
      "Train Epoch: 1 [6041600/8102750 (75%)]\tLoss: 0.126462\n",
      "Train Epoch: 1 [6144000/8102750 (76%)]\tLoss: 0.124165\n",
      "[0/493590 (0%)]\n",
      "[153600/493590 (31%)]\n",
      "[307200/493590 (62%)]\n",
      "[460800/493590 (93%)]\n",
      "ROC AUC Score: 0.877330\n",
      "Validation Loss: 0.108956\n",
      "Train Epoch: 1 [6246400/8102750 (77%)]\tLoss: 0.122746\n",
      "Train Epoch: 1 [6348800/8102750 (78%)]\tLoss: 0.124279\n",
      "Train Epoch: 1 [6451200/8102750 (80%)]\tLoss: 0.124832\n",
      "Train Epoch: 1 [6553600/8102750 (81%)]\tLoss: 0.123864\n",
      "Train Epoch: 1 [6656000/8102750 (82%)]\tLoss: 0.124730\n",
      "Train Epoch: 1 [6758400/8102750 (83%)]\tLoss: 0.126173\n",
      "Train Epoch: 1 [6860800/8102750 (85%)]\tLoss: 0.124134\n",
      "Train Epoch: 1 [6963200/8102750 (86%)]\tLoss: 0.125748\n",
      "Train Epoch: 1 [7065600/8102750 (87%)]\tLoss: 0.124672\n",
      "Train Epoch: 1 [7168000/8102750 (88%)]\tLoss: 0.125284\n",
      "[0/493590 (0%)]\n",
      "[153600/493590 (31%)]\n",
      "[307200/493590 (62%)]\n",
      "[460800/493590 (93%)]\n",
      "ROC AUC Score: 0.872793\n",
      "Validation Loss: 0.113512\n",
      "Train Epoch: 1 [7270400/8102750 (90%)]\tLoss: 0.124421\n",
      "Train Epoch: 1 [7372800/8102750 (91%)]\tLoss: 0.123095\n",
      "Train Epoch: 1 [7475200/8102750 (92%)]\tLoss: 0.124350\n",
      "Train Epoch: 1 [7577600/8102750 (94%)]\tLoss: 0.124614\n",
      "Train Epoch: 1 [7680000/8102750 (95%)]\tLoss: 0.126125\n",
      "Train Epoch: 1 [7782400/8102750 (96%)]\tLoss: 0.123852\n",
      "Train Epoch: 1 [7884800/8102750 (97%)]\tLoss: 0.124339\n",
      "Train Epoch: 1 [7987200/8102750 (99%)]\tLoss: 0.127126\n",
      "Train Epoch: 1 [8089600/8102750 (100%)]\tLoss: 0.121651\n",
      "Epoch Results:\n",
      "[0/8102750 (0%)]\n",
      "[153600/8102750 (2%)]\n",
      "[307200/8102750 (4%)]\n",
      "[460800/8102750 (6%)]\n",
      "[614400/8102750 (8%)]\n",
      "[768000/8102750 (9%)]\n",
      "[921600/8102750 (11%)]\n",
      "[1075200/8102750 (13%)]\n",
      "[1228800/8102750 (15%)]\n",
      "[1382400/8102750 (17%)]\n",
      "[1536000/8102750 (19%)]\n",
      "[1689600/8102750 (21%)]\n",
      "[1843200/8102750 (23%)]\n",
      "[1996800/8102750 (25%)]\n",
      "[2150400/8102750 (27%)]\n",
      "[2304000/8102750 (28%)]\n",
      "[2457600/8102750 (30%)]\n",
      "[2611200/8102750 (32%)]\n",
      "[2764800/8102750 (34%)]\n",
      "[2918400/8102750 (36%)]\n",
      "[3072000/8102750 (38%)]\n",
      "[3225600/8102750 (40%)]\n",
      "[3379200/8102750 (42%)]\n",
      "[3532800/8102750 (44%)]\n",
      "[3686400/8102750 (45%)]\n",
      "[3840000/8102750 (47%)]\n",
      "[3993600/8102750 (49%)]\n",
      "[4147200/8102750 (51%)]\n",
      "[4300800/8102750 (53%)]\n",
      "[4454400/8102750 (55%)]\n",
      "[4608000/8102750 (57%)]\n",
      "[4761600/8102750 (59%)]\n",
      "[4915200/8102750 (61%)]\n",
      "[5068800/8102750 (63%)]\n",
      "[5222400/8102750 (64%)]\n",
      "[5376000/8102750 (66%)]\n",
      "[5529600/8102750 (68%)]\n",
      "[5683200/8102750 (70%)]\n",
      "[5836800/8102750 (72%)]\n",
      "[5990400/8102750 (74%)]\n",
      "[6144000/8102750 (76%)]\n",
      "[6297600/8102750 (78%)]\n",
      "[6451200/8102750 (80%)]\n",
      "[6604800/8102750 (82%)]\n",
      "[6758400/8102750 (83%)]\n",
      "[6912000/8102750 (85%)]\n",
      "[7065600/8102750 (87%)]\n",
      "[7219200/8102750 (89%)]\n",
      "[7372800/8102750 (91%)]\n",
      "[7526400/8102750 (93%)]\n",
      "[7680000/8102750 (95%)]\n",
      "[7833600/8102750 (97%)]\n",
      "[7987200/8102750 (99%)]\n",
      "Train ROC AUC Score: 0.796762\n",
      "Train Loss: 0.119966\n",
      "[0/493590 (0%)]\n",
      "[153600/493590 (31%)]\n",
      "[307200/493590 (62%)]\n",
      "[460800/493590 (93%)]\n",
      "Validation ROC AUC Score: 0.874341\n",
      "Validation Loss: 0.111939\n",
      "\n",
      "Train Epoch: 2 [102400/8102750 (1%)]\tLoss: 0.120929\n",
      "Train Epoch: 2 [204800/8102750 (3%)]\tLoss: 0.122326\n",
      "Train Epoch: 2 [307200/8102750 (4%)]\tLoss: 0.123413\n",
      "Train Epoch: 2 [409600/8102750 (5%)]\tLoss: 0.124504\n",
      "Train Epoch: 2 [512000/8102750 (6%)]\tLoss: 0.126293\n",
      "Train Epoch: 2 [614400/8102750 (8%)]\tLoss: 0.127248\n",
      "Train Epoch: 2 [716800/8102750 (9%)]\tLoss: 0.125614\n",
      "Train Epoch: 2 [819200/8102750 (10%)]\tLoss: 0.124619\n",
      "Train Epoch: 2 [921600/8102750 (11%)]\tLoss: 0.123063\n",
      "Train Epoch: 2 [1024000/8102750 (13%)]\tLoss: 0.125550\n",
      "[0/493590 (0%)]\n",
      "[153600/493590 (31%)]\n",
      "[307200/493590 (62%)]\n",
      "[460800/493590 (93%)]\n",
      "ROC AUC Score: 0.878944\n",
      "Validation Loss: 0.112050\n",
      "Train Epoch: 2 [1126400/8102750 (14%)]\tLoss: 0.124016\n",
      "Train Epoch: 2 [1228800/8102750 (15%)]\tLoss: 0.121659\n",
      "Train Epoch: 2 [1331200/8102750 (16%)]\tLoss: 0.122474\n",
      "Train Epoch: 2 [1433600/8102750 (18%)]\tLoss: 0.124238\n",
      "Train Epoch: 2 [1536000/8102750 (19%)]\tLoss: 0.126447\n",
      "Train Epoch: 2 [1638400/8102750 (20%)]\tLoss: 0.124108\n",
      "Train Epoch: 2 [1740800/8102750 (21%)]\tLoss: 0.123340\n",
      "Train Epoch: 2 [1843200/8102750 (23%)]\tLoss: 0.123504\n",
      "Train Epoch: 2 [1945600/8102750 (24%)]\tLoss: 0.123100\n",
      "Train Epoch: 2 [2048000/8102750 (25%)]\tLoss: 0.121936\n",
      "[0/493590 (0%)]\n",
      "[153600/493590 (31%)]\n",
      "[307200/493590 (62%)]\n",
      "[460800/493590 (93%)]\n",
      "ROC AUC Score: 0.880066\n",
      "Validation Loss: 0.111375\n",
      "Train Epoch: 2 [2150400/8102750 (27%)]\tLoss: 0.125399\n",
      "Train Epoch: 2 [2252800/8102750 (28%)]\tLoss: 0.118762\n",
      "Train Epoch: 2 [2355200/8102750 (29%)]\tLoss: 0.124127\n",
      "Train Epoch: 2 [2457600/8102750 (30%)]\tLoss: 0.121741\n",
      "Train Epoch: 2 [2560000/8102750 (32%)]\tLoss: 0.125781\n",
      "Train Epoch: 2 [2662400/8102750 (33%)]\tLoss: 0.126050\n",
      "Train Epoch: 2 [2764800/8102750 (34%)]\tLoss: 0.123010\n",
      "Train Epoch: 2 [2867200/8102750 (35%)]\tLoss: 0.122884\n",
      "Train Epoch: 2 [2969600/8102750 (37%)]\tLoss: 0.121561\n",
      "Train Epoch: 2 [3072000/8102750 (38%)]\tLoss: 0.123171\n",
      "[0/493590 (0%)]\n",
      "[153600/493590 (31%)]\n",
      "[307200/493590 (62%)]\n",
      "[460800/493590 (93%)]\n",
      "ROC AUC Score: 0.880753\n",
      "Validation Loss: 0.111838\n",
      "Train Epoch: 2 [3174400/8102750 (39%)]\tLoss: 0.119544\n",
      "Train Epoch: 2 [3276800/8102750 (40%)]\tLoss: 0.122003\n",
      "Train Epoch: 2 [3379200/8102750 (42%)]\tLoss: 0.124452\n",
      "Train Epoch: 2 [3481600/8102750 (43%)]\tLoss: 0.124878\n",
      "Train Epoch: 2 [3584000/8102750 (44%)]\tLoss: 0.125268\n",
      "Train Epoch: 2 [3686400/8102750 (45%)]\tLoss: 0.121386\n",
      "Train Epoch: 2 [3788800/8102750 (47%)]\tLoss: 0.124084\n",
      "Train Epoch: 2 [3891200/8102750 (48%)]\tLoss: 0.121888\n",
      "Train Epoch: 2 [3993600/8102750 (49%)]\tLoss: 0.122672\n",
      "Train Epoch: 2 [4096000/8102750 (51%)]\tLoss: 0.122011\n",
      "[0/493590 (0%)]\n",
      "[153600/493590 (31%)]\n",
      "[307200/493590 (62%)]\n",
      "[460800/493590 (93%)]\n",
      "ROC AUC Score: 0.875051\n",
      "Validation Loss: 0.112225\n",
      "Train Epoch: 2 [4198400/8102750 (52%)]\tLoss: 0.125843\n",
      "Train Epoch: 2 [4300800/8102750 (53%)]\tLoss: 0.121293\n",
      "Train Epoch: 2 [4403200/8102750 (54%)]\tLoss: 0.122974\n",
      "Train Epoch: 2 [4505600/8102750 (56%)]\tLoss: 0.122030\n",
      "Train Epoch: 2 [4608000/8102750 (57%)]\tLoss: 0.123135\n",
      "Train Epoch: 2 [4710400/8102750 (58%)]\tLoss: 0.124962\n",
      "Train Epoch: 2 [4812800/8102750 (59%)]\tLoss: 0.126484\n",
      "Train Epoch: 2 [4915200/8102750 (61%)]\tLoss: 0.126094\n",
      "Train Epoch: 2 [5017600/8102750 (62%)]\tLoss: 0.124541\n",
      "Train Epoch: 2 [5120000/8102750 (63%)]\tLoss: 0.123674\n",
      "[0/493590 (0%)]\n",
      "[153600/493590 (31%)]\n",
      "[307200/493590 (62%)]\n",
      "[460800/493590 (93%)]\n",
      "ROC AUC Score: 0.879212\n",
      "Validation Loss: 0.110495\n",
      "Train Epoch: 2 [5222400/8102750 (64%)]\tLoss: 0.127182\n",
      "Train Epoch: 2 [5324800/8102750 (66%)]\tLoss: 0.122935\n",
      "Train Epoch: 2 [5427200/8102750 (67%)]\tLoss: 0.123810\n",
      "Train Epoch: 2 [5529600/8102750 (68%)]\tLoss: 0.128925\n",
      "Train Epoch: 2 [5632000/8102750 (70%)]\tLoss: 0.124399\n",
      "Train Epoch: 2 [5734400/8102750 (71%)]\tLoss: 0.127159\n",
      "Train Epoch: 2 [5836800/8102750 (72%)]\tLoss: 0.127536\n",
      "Train Epoch: 2 [5939200/8102750 (73%)]\tLoss: 0.123051\n",
      "Train Epoch: 2 [6041600/8102750 (75%)]\tLoss: 0.122639\n",
      "Train Epoch: 2 [6144000/8102750 (76%)]\tLoss: 0.124034\n",
      "[0/493590 (0%)]\n",
      "[153600/493590 (31%)]\n",
      "[307200/493590 (62%)]\n",
      "[460800/493590 (93%)]\n",
      "ROC AUC Score: 0.881696\n",
      "Validation Loss: 0.109654\n",
      "Train Epoch: 2 [6246400/8102750 (77%)]\tLoss: 0.124536\n",
      "Train Epoch: 2 [6348800/8102750 (78%)]\tLoss: 0.122663\n",
      "Train Epoch: 2 [6451200/8102750 (80%)]\tLoss: 0.123850\n",
      "Train Epoch: 2 [6553600/8102750 (81%)]\tLoss: 0.122522\n",
      "Train Epoch: 2 [6656000/8102750 (82%)]\tLoss: 0.125178\n",
      "Train Epoch: 2 [6758400/8102750 (83%)]\tLoss: 0.122646\n",
      "Train Epoch: 2 [6860800/8102750 (85%)]\tLoss: 0.126121\n",
      "Train Epoch: 2 [6963200/8102750 (86%)]\tLoss: 0.124063\n",
      "Train Epoch: 2 [7065600/8102750 (87%)]\tLoss: 0.122756\n",
      "Train Epoch: 2 [7168000/8102750 (88%)]\tLoss: 0.124727\n",
      "[0/493590 (0%)]\n",
      "[153600/493590 (31%)]\n",
      "[307200/493590 (62%)]\n",
      "[460800/493590 (93%)]\n",
      "ROC AUC Score: 0.878944\n",
      "Validation Loss: 0.111334\n",
      "Train Epoch: 2 [7270400/8102750 (90%)]\tLoss: 0.122609\n",
      "Train Epoch: 2 [7372800/8102750 (91%)]\tLoss: 0.125411\n",
      "Train Epoch: 2 [7475200/8102750 (92%)]\tLoss: 0.122025\n",
      "Train Epoch: 2 [7577600/8102750 (94%)]\tLoss: 0.125372\n",
      "Train Epoch: 2 [7680000/8102750 (95%)]\tLoss: 0.123218\n",
      "Train Epoch: 2 [7782400/8102750 (96%)]\tLoss: 0.123948\n",
      "Train Epoch: 2 [7884800/8102750 (97%)]\tLoss: 0.120632\n",
      "Train Epoch: 2 [7987200/8102750 (99%)]\tLoss: 0.124798\n",
      "Train Epoch: 2 [8089600/8102750 (100%)]\tLoss: 0.126336\n",
      "Epoch Results:\n",
      "[0/8102750 (0%)]\n",
      "[153600/8102750 (2%)]\n",
      "[307200/8102750 (4%)]\n",
      "[460800/8102750 (6%)]\n",
      "[614400/8102750 (8%)]\n",
      "[768000/8102750 (9%)]\n",
      "[921600/8102750 (11%)]\n",
      "[1075200/8102750 (13%)]\n",
      "[1228800/8102750 (15%)]\n",
      "[1382400/8102750 (17%)]\n",
      "[1536000/8102750 (19%)]\n",
      "[1689600/8102750 (21%)]\n",
      "[1843200/8102750 (23%)]\n",
      "[1996800/8102750 (25%)]\n",
      "[2150400/8102750 (27%)]\n",
      "[2304000/8102750 (28%)]\n",
      "[2457600/8102750 (30%)]\n",
      "[2611200/8102750 (32%)]\n",
      "[2764800/8102750 (34%)]\n",
      "[2918400/8102750 (36%)]\n",
      "[3072000/8102750 (38%)]\n",
      "[3225600/8102750 (40%)]\n",
      "[3379200/8102750 (42%)]\n",
      "[3532800/8102750 (44%)]\n",
      "[3686400/8102750 (45%)]\n",
      "[3840000/8102750 (47%)]\n",
      "[3993600/8102750 (49%)]\n",
      "[4147200/8102750 (51%)]\n",
      "[4300800/8102750 (53%)]\n",
      "[4454400/8102750 (55%)]\n",
      "[4608000/8102750 (57%)]\n",
      "[4761600/8102750 (59%)]\n",
      "[4915200/8102750 (61%)]\n",
      "[5068800/8102750 (63%)]\n",
      "[5222400/8102750 (64%)]\n",
      "[5376000/8102750 (66%)]\n",
      "[5529600/8102750 (68%)]\n",
      "[5683200/8102750 (70%)]\n",
      "[5836800/8102750 (72%)]\n",
      "[5990400/8102750 (74%)]\n",
      "[6144000/8102750 (76%)]\n",
      "[6297600/8102750 (78%)]\n",
      "[6451200/8102750 (80%)]\n",
      "[6604800/8102750 (82%)]\n",
      "[6758400/8102750 (83%)]\n",
      "[6912000/8102750 (85%)]\n",
      "[7065600/8102750 (87%)]\n",
      "[7219200/8102750 (89%)]\n",
      "[7372800/8102750 (91%)]\n",
      "[7526400/8102750 (93%)]\n",
      "[7680000/8102750 (95%)]\n",
      "[7833600/8102750 (97%)]\n",
      "[7987200/8102750 (99%)]\n",
      "Train ROC AUC Score: 0.796169\n",
      "Train Loss: 0.119166\n",
      "[0/493590 (0%)]\n",
      "[153600/493590 (31%)]\n",
      "[307200/493590 (62%)]\n",
      "[460800/493590 (93%)]\n",
      "Validation ROC AUC Score: 0.875377\n",
      "Validation Loss: 0.111252\n",
      "\n",
      "CPU times: user 34min 52s, sys: 36.1 s, total: 35min 28s\n",
      "Wall time: 35min 25s\n"
     ]
    }
   ],
   "source": [
    "%%time\n",
    "model, train_losses, val_losses, val_auc_scores = train_model(\n",
    "                model, train_dl, val_dl, optimizer, criterion,\n",
    "                n_epochs=2, USE_CUDA=USE_CUDA, print_every=800, \n",
    "                val_every=10)"
   ]
  },
  {
   "cell_type": "code",
   "execution_count": 58,
   "metadata": {},
   "outputs": [
    {
     "name": "stdout",
     "output_type": "stream",
     "text": [
      "Train Epoch: 1 [25600/8102750 (0%)]\tLoss: 0.174815\n",
      "Train Epoch: 1 [51200/8102750 (1%)]\tLoss: 0.134851\n",
      "Train Epoch: 1 [76800/8102750 (1%)]\tLoss: 0.134749\n",
      "Train Epoch: 1 [102400/8102750 (1%)]\tLoss: 0.134110\n",
      "Train Epoch: 1 [128000/8102750 (2%)]\tLoss: 0.132347\n",
      "Train Epoch: 1 [153600/8102750 (2%)]\tLoss: 0.136552\n",
      "Train Epoch: 1 [179200/8102750 (2%)]\tLoss: 0.130818\n",
      "Train Epoch: 1 [204800/8102750 (3%)]\tLoss: 0.130721\n",
      "Train Epoch: 1 [230400/8102750 (3%)]\tLoss: 0.133113\n",
      "Train Epoch: 1 [256000/8102750 (3%)]\tLoss: 0.134017\n",
      "Train Epoch: 1 [281600/8102750 (3%)]\tLoss: 0.131956\n",
      "Train Epoch: 1 [307200/8102750 (4%)]\tLoss: 0.128131\n",
      "Train Epoch: 1 [332800/8102750 (4%)]\tLoss: 0.129957\n",
      "Train Epoch: 1 [358400/8102750 (4%)]\tLoss: 0.130897\n",
      "Train Epoch: 1 [384000/8102750 (5%)]\tLoss: 0.130943\n",
      "Train Epoch: 1 [409600/8102750 (5%)]\tLoss: 0.132290\n",
      "Train Epoch: 1 [435200/8102750 (5%)]\tLoss: 0.126512\n",
      "Train Epoch: 1 [460800/8102750 (6%)]\tLoss: 0.130431\n",
      "Train Epoch: 1 [486400/8102750 (6%)]\tLoss: 0.131785\n",
      "Train Epoch: 1 [512000/8102750 (6%)]\tLoss: 0.129065\n",
      "[0/493590 (0%)]\n",
      "[153600/493590 (31%)]\n",
      "[307200/493590 (62%)]\n",
      "[460800/493590 (93%)]\n",
      "ROC AUC Score: 0.783245\n",
      "Validation Loss: 0.136874\n",
      "Train Epoch: 1 [537600/8102750 (7%)]\tLoss: 0.132634\n",
      "Train Epoch: 1 [563200/8102750 (7%)]\tLoss: 0.125273\n",
      "Train Epoch: 1 [588800/8102750 (7%)]\tLoss: 0.129507\n",
      "Train Epoch: 1 [614400/8102750 (8%)]\tLoss: 0.126545\n",
      "Train Epoch: 1 [640000/8102750 (8%)]\tLoss: 0.131031\n",
      "Train Epoch: 1 [665600/8102750 (8%)]\tLoss: 0.133344\n",
      "Train Epoch: 1 [691200/8102750 (9%)]\tLoss: 0.130706\n",
      "Train Epoch: 1 [716800/8102750 (9%)]\tLoss: 0.130498\n",
      "Train Epoch: 1 [742400/8102750 (9%)]\tLoss: 0.129456\n",
      "Train Epoch: 1 [768000/8102750 (9%)]\tLoss: 0.129421\n",
      "Train Epoch: 1 [793600/8102750 (10%)]\tLoss: 0.124450\n",
      "Train Epoch: 1 [819200/8102750 (10%)]\tLoss: 0.126263\n",
      "Train Epoch: 1 [844800/8102750 (10%)]\tLoss: 0.122361\n",
      "Train Epoch: 1 [870400/8102750 (11%)]\tLoss: 0.129048\n",
      "Train Epoch: 1 [896000/8102750 (11%)]\tLoss: 0.125200\n",
      "Train Epoch: 1 [921600/8102750 (11%)]\tLoss: 0.121837\n",
      "Train Epoch: 1 [947200/8102750 (12%)]\tLoss: 0.130463\n",
      "Train Epoch: 1 [972800/8102750 (12%)]\tLoss: 0.132185\n",
      "Train Epoch: 1 [998400/8102750 (12%)]\tLoss: 0.128129\n",
      "Train Epoch: 1 [1024000/8102750 (13%)]\tLoss: 0.126702\n",
      "[0/493590 (0%)]\n",
      "[153600/493590 (31%)]\n",
      "[307200/493590 (62%)]\n",
      "[460800/493590 (93%)]\n",
      "ROC AUC Score: 0.836314\n",
      "Validation Loss: 0.129311\n",
      "Train Epoch: 1 [1049600/8102750 (13%)]\tLoss: 0.129190\n",
      "Train Epoch: 1 [1075200/8102750 (13%)]\tLoss: 0.126842\n",
      "Train Epoch: 1 [1100800/8102750 (14%)]\tLoss: 0.123717\n",
      "Train Epoch: 1 [1126400/8102750 (14%)]\tLoss: 0.132464\n",
      "Train Epoch: 1 [1152000/8102750 (14%)]\tLoss: 0.132140\n",
      "Train Epoch: 1 [1177600/8102750 (15%)]\tLoss: 0.127949\n",
      "Train Epoch: 1 [1203200/8102750 (15%)]\tLoss: 0.129533\n",
      "Train Epoch: 1 [1228800/8102750 (15%)]\tLoss: 0.126285\n",
      "Train Epoch: 1 [1254400/8102750 (15%)]\tLoss: 0.127459\n",
      "Train Epoch: 1 [1280000/8102750 (16%)]\tLoss: 0.130813\n",
      "Train Epoch: 1 [1305600/8102750 (16%)]\tLoss: 0.127150\n",
      "Train Epoch: 1 [1331200/8102750 (16%)]\tLoss: 0.125762\n",
      "Train Epoch: 1 [1356800/8102750 (17%)]\tLoss: 0.125213\n",
      "Train Epoch: 1 [1382400/8102750 (17%)]\tLoss: 0.128488\n",
      "Train Epoch: 1 [1408000/8102750 (17%)]\tLoss: 0.126773\n",
      "Train Epoch: 1 [1433600/8102750 (18%)]\tLoss: 0.125686\n",
      "Train Epoch: 1 [1459200/8102750 (18%)]\tLoss: 0.127199\n",
      "Train Epoch: 1 [1484800/8102750 (18%)]\tLoss: 0.129610\n",
      "Train Epoch: 1 [1510400/8102750 (19%)]\tLoss: 0.129423\n",
      "Train Epoch: 1 [1536000/8102750 (19%)]\tLoss: 0.124421\n",
      "[0/493590 (0%)]\n",
      "[153600/493590 (31%)]\n",
      "[307200/493590 (62%)]\n",
      "[460800/493590 (93%)]\n",
      "ROC AUC Score: 0.860724\n",
      "Validation Loss: 0.122721\n",
      "Train Epoch: 1 [1561600/8102750 (19%)]\tLoss: 0.122326\n",
      "Train Epoch: 1 [1587200/8102750 (20%)]\tLoss: 0.120606\n",
      "Train Epoch: 1 [1612800/8102750 (20%)]\tLoss: 0.127089\n",
      "Train Epoch: 1 [1638400/8102750 (20%)]\tLoss: 0.122189\n",
      "Train Epoch: 1 [1664000/8102750 (21%)]\tLoss: 0.121416\n",
      "Train Epoch: 1 [1689600/8102750 (21%)]\tLoss: 0.127935\n",
      "Train Epoch: 1 [1715200/8102750 (21%)]\tLoss: 0.125425\n",
      "Train Epoch: 1 [1740800/8102750 (21%)]\tLoss: 0.120456\n",
      "Train Epoch: 1 [1766400/8102750 (22%)]\tLoss: 0.128630\n",
      "Train Epoch: 1 [1792000/8102750 (22%)]\tLoss: 0.123483\n",
      "Train Epoch: 1 [1817600/8102750 (22%)]\tLoss: 0.124466\n",
      "Train Epoch: 1 [1843200/8102750 (23%)]\tLoss: 0.128858\n",
      "Train Epoch: 1 [1868800/8102750 (23%)]\tLoss: 0.120474\n",
      "Train Epoch: 1 [1894400/8102750 (23%)]\tLoss: 0.124695\n",
      "Train Epoch: 1 [1920000/8102750 (24%)]\tLoss: 0.125583\n",
      "Train Epoch: 1 [1945600/8102750 (24%)]\tLoss: 0.124350\n",
      "Train Epoch: 1 [1971200/8102750 (24%)]\tLoss: 0.124975\n",
      "Train Epoch: 1 [1996800/8102750 (25%)]\tLoss: 0.128761\n",
      "Train Epoch: 1 [2022400/8102750 (25%)]\tLoss: 0.124270\n",
      "Train Epoch: 1 [2048000/8102750 (25%)]\tLoss: 0.120014\n",
      "[0/493590 (0%)]\n",
      "[153600/493590 (31%)]\n",
      "[307200/493590 (62%)]\n",
      "[460800/493590 (93%)]\n",
      "ROC AUC Score: 0.864471\n",
      "Validation Loss: 0.116261\n",
      "Train Epoch: 1 [2073600/8102750 (26%)]\tLoss: 0.118144\n",
      "Train Epoch: 1 [2099200/8102750 (26%)]\tLoss: 0.126406\n",
      "Train Epoch: 1 [2124800/8102750 (26%)]\tLoss: 0.124995\n",
      "Train Epoch: 1 [2150400/8102750 (27%)]\tLoss: 0.126055\n",
      "Train Epoch: 1 [2176000/8102750 (27%)]\tLoss: 0.110896\n",
      "Train Epoch: 1 [2201600/8102750 (27%)]\tLoss: 0.124215\n",
      "Train Epoch: 1 [2227200/8102750 (27%)]\tLoss: 0.128621\n",
      "Train Epoch: 1 [2252800/8102750 (28%)]\tLoss: 0.121759\n",
      "Train Epoch: 1 [2278400/8102750 (28%)]\tLoss: 0.125221\n",
      "Train Epoch: 1 [2304000/8102750 (28%)]\tLoss: 0.123760\n",
      "Train Epoch: 1 [2329600/8102750 (29%)]\tLoss: 0.125596\n",
      "Train Epoch: 1 [2355200/8102750 (29%)]\tLoss: 0.117430\n",
      "Train Epoch: 1 [2380800/8102750 (29%)]\tLoss: 0.119319\n",
      "Train Epoch: 1 [2406400/8102750 (30%)]\tLoss: 0.122752\n",
      "Train Epoch: 1 [2432000/8102750 (30%)]\tLoss: 0.120904\n",
      "Train Epoch: 1 [2457600/8102750 (30%)]\tLoss: 0.126828\n",
      "Train Epoch: 1 [2483200/8102750 (31%)]\tLoss: 0.124699\n",
      "Train Epoch: 1 [2508800/8102750 (31%)]\tLoss: 0.118030\n",
      "Train Epoch: 1 [2534400/8102750 (31%)]\tLoss: 0.121532\n",
      "Train Epoch: 1 [2560000/8102750 (32%)]\tLoss: 0.123107\n",
      "[0/493590 (0%)]\n",
      "[153600/493590 (31%)]\n",
      "[307200/493590 (62%)]\n",
      "[460800/493590 (93%)]\n",
      "ROC AUC Score: 0.871583\n",
      "Validation Loss: 0.120534\n",
      "Train Epoch: 1 [2585600/8102750 (32%)]\tLoss: 0.129149\n",
      "Train Epoch: 1 [2611200/8102750 (32%)]\tLoss: 0.129944\n",
      "Train Epoch: 1 [2636800/8102750 (33%)]\tLoss: 0.120377\n",
      "Train Epoch: 1 [2662400/8102750 (33%)]\tLoss: 0.121721\n",
      "Train Epoch: 1 [2688000/8102750 (33%)]\tLoss: 0.125268\n",
      "Train Epoch: 1 [2713600/8102750 (33%)]\tLoss: 0.120514\n",
      "Train Epoch: 1 [2739200/8102750 (34%)]\tLoss: 0.121923\n",
      "Train Epoch: 1 [2764800/8102750 (34%)]\tLoss: 0.121138\n",
      "Train Epoch: 1 [2790400/8102750 (34%)]\tLoss: 0.121683\n",
      "Train Epoch: 1 [2816000/8102750 (35%)]\tLoss: 0.126862\n",
      "Train Epoch: 1 [2841600/8102750 (35%)]\tLoss: 0.119134\n",
      "Train Epoch: 1 [2867200/8102750 (35%)]\tLoss: 0.120289\n",
      "Train Epoch: 1 [2892800/8102750 (36%)]\tLoss: 0.132519\n",
      "Train Epoch: 1 [2918400/8102750 (36%)]\tLoss: 0.126882\n",
      "Train Epoch: 1 [2944000/8102750 (36%)]\tLoss: 0.122511\n",
      "Train Epoch: 1 [2969600/8102750 (37%)]\tLoss: 0.130088\n",
      "Train Epoch: 1 [2995200/8102750 (37%)]\tLoss: 0.124934\n",
      "Train Epoch: 1 [3020800/8102750 (37%)]\tLoss: 0.123363\n",
      "Train Epoch: 1 [3046400/8102750 (38%)]\tLoss: 0.127476\n",
      "Train Epoch: 1 [3072000/8102750 (38%)]\tLoss: 0.126875\n",
      "[0/493590 (0%)]\n",
      "[153600/493590 (31%)]\n",
      "[307200/493590 (62%)]\n",
      "[460800/493590 (93%)]\n",
      "ROC AUC Score: 0.870721\n",
      "Validation Loss: 0.113148\n",
      "Train Epoch: 1 [3097600/8102750 (38%)]\tLoss: 0.120459\n",
      "Train Epoch: 1 [3123200/8102750 (39%)]\tLoss: 0.127012\n",
      "Train Epoch: 1 [3148800/8102750 (39%)]\tLoss: 0.122816\n",
      "Train Epoch: 1 [3174400/8102750 (39%)]\tLoss: 0.119820\n",
      "Train Epoch: 1 [3200000/8102750 (39%)]\tLoss: 0.122195\n",
      "Train Epoch: 1 [3225600/8102750 (40%)]\tLoss: 0.123142\n",
      "Train Epoch: 1 [3251200/8102750 (40%)]\tLoss: 0.120614\n",
      "Train Epoch: 1 [3276800/8102750 (40%)]\tLoss: 0.119416\n",
      "Train Epoch: 1 [3302400/8102750 (41%)]\tLoss: 0.124041\n",
      "Train Epoch: 1 [3328000/8102750 (41%)]\tLoss: 0.120562\n",
      "Train Epoch: 1 [3353600/8102750 (41%)]\tLoss: 0.120554\n",
      "Train Epoch: 1 [3379200/8102750 (42%)]\tLoss: 0.118733\n",
      "Train Epoch: 1 [3404800/8102750 (42%)]\tLoss: 0.120106\n",
      "Train Epoch: 1 [3430400/8102750 (42%)]\tLoss: 0.125396\n",
      "Train Epoch: 1 [3456000/8102750 (43%)]\tLoss: 0.122414\n",
      "Train Epoch: 1 [3481600/8102750 (43%)]\tLoss: 0.123872\n",
      "Train Epoch: 1 [3507200/8102750 (43%)]\tLoss: 0.126390\n",
      "Train Epoch: 1 [3532800/8102750 (44%)]\tLoss: 0.123790\n",
      "Train Epoch: 1 [3558400/8102750 (44%)]\tLoss: 0.117046\n",
      "Train Epoch: 1 [3584000/8102750 (44%)]\tLoss: 0.121745\n",
      "[0/493590 (0%)]\n",
      "[153600/493590 (31%)]\n",
      "[307200/493590 (62%)]\n",
      "[460800/493590 (93%)]\n",
      "ROC AUC Score: 0.876722\n",
      "Validation Loss: 0.114800\n",
      "Train Epoch: 1 [3609600/8102750 (45%)]\tLoss: 0.128286\n",
      "Train Epoch: 1 [3635200/8102750 (45%)]\tLoss: 0.126695\n",
      "Train Epoch: 1 [3660800/8102750 (45%)]\tLoss: 0.125598\n",
      "Train Epoch: 1 [3686400/8102750 (45%)]\tLoss: 0.122536\n",
      "Train Epoch: 1 [3712000/8102750 (46%)]\tLoss: 0.126621\n",
      "Train Epoch: 1 [3737600/8102750 (46%)]\tLoss: 0.117449\n",
      "Train Epoch: 1 [3763200/8102750 (46%)]\tLoss: 0.125151\n",
      "Train Epoch: 1 [3788800/8102750 (47%)]\tLoss: 0.114824\n",
      "Train Epoch: 1 [3814400/8102750 (47%)]\tLoss: 0.122160\n",
      "Train Epoch: 1 [3840000/8102750 (47%)]\tLoss: 0.115795\n",
      "Train Epoch: 1 [3865600/8102750 (48%)]\tLoss: 0.125296\n",
      "Train Epoch: 1 [3891200/8102750 (48%)]\tLoss: 0.121416\n",
      "Train Epoch: 1 [3916800/8102750 (48%)]\tLoss: 0.122180\n",
      "Train Epoch: 1 [3942400/8102750 (49%)]\tLoss: 0.126055\n",
      "Train Epoch: 1 [3968000/8102750 (49%)]\tLoss: 0.124076\n",
      "Train Epoch: 1 [3993600/8102750 (49%)]\tLoss: 0.117093\n",
      "Train Epoch: 1 [4019200/8102750 (50%)]\tLoss: 0.121352\n",
      "Train Epoch: 1 [4044800/8102750 (50%)]\tLoss: 0.126484\n",
      "Train Epoch: 1 [4070400/8102750 (50%)]\tLoss: 0.120588\n",
      "Train Epoch: 1 [4096000/8102750 (51%)]\tLoss: 0.120979\n",
      "[0/493590 (0%)]\n",
      "[153600/493590 (31%)]\n",
      "[307200/493590 (62%)]\n",
      "[460800/493590 (93%)]\n",
      "ROC AUC Score: 0.878927\n",
      "Validation Loss: 0.111803\n",
      "Train Epoch: 1 [4121600/8102750 (51%)]\tLoss: 0.121274\n",
      "Train Epoch: 1 [4147200/8102750 (51%)]\tLoss: 0.124458\n",
      "Train Epoch: 1 [4172800/8102750 (51%)]\tLoss: 0.118643\n",
      "Train Epoch: 1 [4198400/8102750 (52%)]\tLoss: 0.119561\n",
      "Train Epoch: 1 [4224000/8102750 (52%)]\tLoss: 0.121275\n",
      "Train Epoch: 1 [4249600/8102750 (52%)]\tLoss: 0.132053\n",
      "Train Epoch: 1 [4275200/8102750 (53%)]\tLoss: 0.122575\n",
      "Train Epoch: 1 [4300800/8102750 (53%)]\tLoss: 0.121644\n",
      "Train Epoch: 1 [4326400/8102750 (53%)]\tLoss: 0.127047\n",
      "Train Epoch: 1 [4352000/8102750 (54%)]\tLoss: 0.125339\n",
      "Train Epoch: 1 [4377600/8102750 (54%)]\tLoss: 0.117865\n",
      "Train Epoch: 1 [4403200/8102750 (54%)]\tLoss: 0.125534\n",
      "Train Epoch: 1 [4428800/8102750 (55%)]\tLoss: 0.116588\n",
      "Train Epoch: 1 [4454400/8102750 (55%)]\tLoss: 0.116583\n",
      "Train Epoch: 1 [4480000/8102750 (55%)]\tLoss: 0.123219\n",
      "Train Epoch: 1 [4505600/8102750 (56%)]\tLoss: 0.120876\n",
      "Train Epoch: 1 [4531200/8102750 (56%)]\tLoss: 0.133352\n",
      "Train Epoch: 1 [4556800/8102750 (56%)]\tLoss: 0.116247\n",
      "Train Epoch: 1 [4582400/8102750 (57%)]\tLoss: 0.122591\n",
      "Train Epoch: 1 [4608000/8102750 (57%)]\tLoss: 0.122813\n",
      "[0/493590 (0%)]\n",
      "[153600/493590 (31%)]\n",
      "[307200/493590 (62%)]\n",
      "[460800/493590 (93%)]\n",
      "ROC AUC Score: 0.881537\n",
      "Validation Loss: 0.113562\n",
      "Train Epoch: 1 [4633600/8102750 (57%)]\tLoss: 0.121899\n",
      "Train Epoch: 1 [4659200/8102750 (58%)]\tLoss: 0.125009\n",
      "Train Epoch: 1 [4684800/8102750 (58%)]\tLoss: 0.121059\n",
      "Train Epoch: 1 [4710400/8102750 (58%)]\tLoss: 0.124169\n",
      "Train Epoch: 1 [4736000/8102750 (58%)]\tLoss: 0.126646\n",
      "Train Epoch: 1 [4761600/8102750 (59%)]\tLoss: 0.119783\n",
      "Train Epoch: 1 [4787200/8102750 (59%)]\tLoss: 0.123805\n",
      "Train Epoch: 1 [4812800/8102750 (59%)]\tLoss: 0.125159\n",
      "Train Epoch: 1 [4838400/8102750 (60%)]\tLoss: 0.123682\n",
      "Train Epoch: 1 [4864000/8102750 (60%)]\tLoss: 0.122296\n",
      "Train Epoch: 1 [4889600/8102750 (60%)]\tLoss: 0.123979\n",
      "Train Epoch: 1 [4915200/8102750 (61%)]\tLoss: 0.124693\n",
      "Train Epoch: 1 [4940800/8102750 (61%)]\tLoss: 0.117802\n",
      "Train Epoch: 1 [4966400/8102750 (61%)]\tLoss: 0.122429\n",
      "Train Epoch: 1 [4992000/8102750 (62%)]\tLoss: 0.128649\n",
      "Train Epoch: 1 [5017600/8102750 (62%)]\tLoss: 0.124145\n",
      "Train Epoch: 1 [5043200/8102750 (62%)]\tLoss: 0.119752\n",
      "Train Epoch: 1 [5068800/8102750 (63%)]\tLoss: 0.120281\n",
      "Train Epoch: 1 [5094400/8102750 (63%)]\tLoss: 0.119777\n",
      "Train Epoch: 1 [5120000/8102750 (63%)]\tLoss: 0.124264\n",
      "[0/493590 (0%)]\n",
      "[153600/493590 (31%)]\n",
      "[307200/493590 (62%)]\n",
      "[460800/493590 (93%)]\n",
      "ROC AUC Score: 0.879608\n",
      "Validation Loss: 0.110745\n",
      "Train Epoch: 1 [5145600/8102750 (64%)]\tLoss: 0.122228\n",
      "Train Epoch: 1 [5171200/8102750 (64%)]\tLoss: 0.124541\n",
      "Train Epoch: 1 [5196800/8102750 (64%)]\tLoss: 0.119665\n",
      "Train Epoch: 1 [5222400/8102750 (64%)]\tLoss: 0.122230\n",
      "Train Epoch: 1 [5248000/8102750 (65%)]\tLoss: 0.125863\n",
      "Train Epoch: 1 [5273600/8102750 (65%)]\tLoss: 0.119941\n",
      "Train Epoch: 1 [5299200/8102750 (65%)]\tLoss: 0.124310\n",
      "Train Epoch: 1 [5324800/8102750 (66%)]\tLoss: 0.123510\n",
      "Train Epoch: 1 [5350400/8102750 (66%)]\tLoss: 0.122632\n",
      "Train Epoch: 1 [5376000/8102750 (66%)]\tLoss: 0.118838\n",
      "Train Epoch: 1 [5401600/8102750 (67%)]\tLoss: 0.118686\n",
      "Train Epoch: 1 [5427200/8102750 (67%)]\tLoss: 0.128050\n",
      "Train Epoch: 1 [5452800/8102750 (67%)]\tLoss: 0.124435\n",
      "Train Epoch: 1 [5478400/8102750 (68%)]\tLoss: 0.117728\n",
      "Train Epoch: 1 [5504000/8102750 (68%)]\tLoss: 0.118765\n",
      "Train Epoch: 1 [5529600/8102750 (68%)]\tLoss: 0.129765\n",
      "Train Epoch: 1 [5555200/8102750 (69%)]\tLoss: 0.119503\n",
      "Train Epoch: 1 [5580800/8102750 (69%)]\tLoss: 0.122590\n",
      "Train Epoch: 1 [5606400/8102750 (69%)]\tLoss: 0.117545\n",
      "Train Epoch: 1 [5632000/8102750 (70%)]\tLoss: 0.127454\n",
      "[0/493590 (0%)]\n",
      "[153600/493590 (31%)]\n",
      "[307200/493590 (62%)]\n",
      "[460800/493590 (93%)]\n",
      "ROC AUC Score: 0.883358\n",
      "Validation Loss: 0.106027\n",
      "Train Epoch: 1 [5657600/8102750 (70%)]\tLoss: 0.119438\n",
      "Train Epoch: 1 [5683200/8102750 (70%)]\tLoss: 0.118292\n",
      "Train Epoch: 1 [5708800/8102750 (70%)]\tLoss: 0.123127\n",
      "Train Epoch: 1 [5734400/8102750 (71%)]\tLoss: 0.118431\n",
      "Train Epoch: 1 [5760000/8102750 (71%)]\tLoss: 0.121658\n",
      "Train Epoch: 1 [5785600/8102750 (71%)]\tLoss: 0.124037\n",
      "Train Epoch: 1 [5811200/8102750 (72%)]\tLoss: 0.123518\n",
      "Train Epoch: 1 [5836800/8102750 (72%)]\tLoss: 0.125986\n",
      "Train Epoch: 1 [5862400/8102750 (72%)]\tLoss: 0.122967\n",
      "Train Epoch: 1 [5888000/8102750 (73%)]\tLoss: 0.123003\n",
      "Train Epoch: 1 [5913600/8102750 (73%)]\tLoss: 0.119648\n",
      "Train Epoch: 1 [5939200/8102750 (73%)]\tLoss: 0.121782\n",
      "Train Epoch: 1 [5964800/8102750 (74%)]\tLoss: 0.116400\n",
      "Train Epoch: 1 [5990400/8102750 (74%)]\tLoss: 0.124547\n",
      "Train Epoch: 1 [6016000/8102750 (74%)]\tLoss: 0.122473\n",
      "Train Epoch: 1 [6041600/8102750 (75%)]\tLoss: 0.115838\n",
      "Train Epoch: 1 [6067200/8102750 (75%)]\tLoss: 0.121868\n",
      "Train Epoch: 1 [6092800/8102750 (75%)]\tLoss: 0.116104\n",
      "Train Epoch: 1 [6118400/8102750 (76%)]\tLoss: 0.116087\n",
      "Train Epoch: 1 [6144000/8102750 (76%)]\tLoss: 0.122832\n",
      "[0/493590 (0%)]\n",
      "[153600/493590 (31%)]\n",
      "[307200/493590 (62%)]\n",
      "[460800/493590 (93%)]\n",
      "ROC AUC Score: 0.882786\n",
      "Validation Loss: 0.111879\n",
      "Train Epoch: 1 [6169600/8102750 (76%)]\tLoss: 0.122896\n",
      "Train Epoch: 1 [6195200/8102750 (76%)]\tLoss: 0.125625\n",
      "Train Epoch: 1 [6220800/8102750 (77%)]\tLoss: 0.120324\n",
      "Train Epoch: 1 [6246400/8102750 (77%)]\tLoss: 0.122264\n",
      "Train Epoch: 1 [6272000/8102750 (77%)]\tLoss: 0.121235\n",
      "Train Epoch: 1 [6297600/8102750 (78%)]\tLoss: 0.122703\n",
      "Train Epoch: 1 [6323200/8102750 (78%)]\tLoss: 0.120240\n",
      "Train Epoch: 1 [6348800/8102750 (78%)]\tLoss: 0.122268\n",
      "Train Epoch: 1 [6374400/8102750 (79%)]\tLoss: 0.122438\n",
      "Train Epoch: 1 [6400000/8102750 (79%)]\tLoss: 0.116234\n",
      "Train Epoch: 1 [6425600/8102750 (79%)]\tLoss: 0.123571\n",
      "Train Epoch: 1 [6451200/8102750 (80%)]\tLoss: 0.121485\n",
      "Train Epoch: 1 [6476800/8102750 (80%)]\tLoss: 0.125617\n",
      "Train Epoch: 1 [6502400/8102750 (80%)]\tLoss: 0.123132\n",
      "Train Epoch: 1 [6528000/8102750 (81%)]\tLoss: 0.119281\n",
      "Train Epoch: 1 [6553600/8102750 (81%)]\tLoss: 0.121748\n",
      "Train Epoch: 1 [6579200/8102750 (81%)]\tLoss: 0.116454\n",
      "Train Epoch: 1 [6604800/8102750 (82%)]\tLoss: 0.116951\n",
      "Train Epoch: 1 [6630400/8102750 (82%)]\tLoss: 0.126473\n",
      "Train Epoch: 1 [6656000/8102750 (82%)]\tLoss: 0.120812\n",
      "[0/493590 (0%)]\n",
      "[153600/493590 (31%)]\n",
      "[307200/493590 (62%)]\n",
      "[460800/493590 (93%)]\n",
      "ROC AUC Score: 0.883002\n",
      "Validation Loss: 0.108723\n",
      "Train Epoch: 1 [6681600/8102750 (82%)]\tLoss: 0.123028\n",
      "Train Epoch: 1 [6707200/8102750 (83%)]\tLoss: 0.124173\n",
      "Train Epoch: 1 [6732800/8102750 (83%)]\tLoss: 0.124674\n",
      "Train Epoch: 1 [6758400/8102750 (83%)]\tLoss: 0.114565\n",
      "Train Epoch: 1 [6784000/8102750 (84%)]\tLoss: 0.120859\n",
      "Train Epoch: 1 [6809600/8102750 (84%)]\tLoss: 0.124354\n",
      "Train Epoch: 1 [6835200/8102750 (84%)]\tLoss: 0.117897\n",
      "Train Epoch: 1 [6860800/8102750 (85%)]\tLoss: 0.122458\n",
      "Train Epoch: 1 [6886400/8102750 (85%)]\tLoss: 0.122710\n",
      "Train Epoch: 1 [6912000/8102750 (85%)]\tLoss: 0.123691\n",
      "Train Epoch: 1 [6937600/8102750 (86%)]\tLoss: 0.121266\n",
      "Train Epoch: 1 [6963200/8102750 (86%)]\tLoss: 0.119870\n",
      "Train Epoch: 1 [6988800/8102750 (86%)]\tLoss: 0.114750\n",
      "Train Epoch: 1 [7014400/8102750 (87%)]\tLoss: 0.123122\n",
      "Train Epoch: 1 [7040000/8102750 (87%)]\tLoss: 0.118412\n",
      "Train Epoch: 1 [7065600/8102750 (87%)]\tLoss: 0.117058\n",
      "Train Epoch: 1 [7091200/8102750 (88%)]\tLoss: 0.116523\n",
      "Train Epoch: 1 [7116800/8102750 (88%)]\tLoss: 0.125713\n",
      "Train Epoch: 1 [7142400/8102750 (88%)]\tLoss: 0.122634\n",
      "Train Epoch: 1 [7168000/8102750 (88%)]\tLoss: 0.119166\n",
      "[0/493590 (0%)]\n",
      "[153600/493590 (31%)]\n",
      "[307200/493590 (62%)]\n",
      "[460800/493590 (93%)]\n",
      "ROC AUC Score: 0.885339\n",
      "Validation Loss: 0.109204\n",
      "Train Epoch: 1 [7193600/8102750 (89%)]\tLoss: 0.122042\n",
      "Train Epoch: 1 [7219200/8102750 (89%)]\tLoss: 0.123887\n",
      "Train Epoch: 1 [7244800/8102750 (89%)]\tLoss: 0.115541\n",
      "Train Epoch: 1 [7270400/8102750 (90%)]\tLoss: 0.121332\n",
      "Train Epoch: 1 [7296000/8102750 (90%)]\tLoss: 0.124349\n",
      "Train Epoch: 1 [7321600/8102750 (90%)]\tLoss: 0.119836\n",
      "Train Epoch: 1 [7347200/8102750 (91%)]\tLoss: 0.123381\n",
      "Train Epoch: 1 [7372800/8102750 (91%)]\tLoss: 0.125364\n",
      "Train Epoch: 1 [7398400/8102750 (91%)]\tLoss: 0.115955\n",
      "Train Epoch: 1 [7424000/8102750 (92%)]\tLoss: 0.120440\n",
      "Train Epoch: 1 [7449600/8102750 (92%)]\tLoss: 0.125586\n",
      "Train Epoch: 1 [7475200/8102750 (92%)]\tLoss: 0.123077\n",
      "Train Epoch: 1 [7500800/8102750 (93%)]\tLoss: 0.115663\n",
      "Train Epoch: 1 [7526400/8102750 (93%)]\tLoss: 0.115610\n",
      "Train Epoch: 1 [7552000/8102750 (93%)]\tLoss: 0.120749\n",
      "Train Epoch: 1 [7577600/8102750 (94%)]\tLoss: 0.123956\n",
      "Train Epoch: 1 [7603200/8102750 (94%)]\tLoss: 0.124736\n",
      "Train Epoch: 1 [7628800/8102750 (94%)]\tLoss: 0.120515\n",
      "Train Epoch: 1 [7654400/8102750 (94%)]\tLoss: 0.112988\n",
      "Train Epoch: 1 [7680000/8102750 (95%)]\tLoss: 0.119589\n",
      "[0/493590 (0%)]\n",
      "[153600/493590 (31%)]\n",
      "[307200/493590 (62%)]\n",
      "[460800/493590 (93%)]\n",
      "ROC AUC Score: 0.884779\n",
      "Validation Loss: 0.110941\n",
      "Train Epoch: 1 [7705600/8102750 (95%)]\tLoss: 0.123957\n",
      "Train Epoch: 1 [7731200/8102750 (95%)]\tLoss: 0.124860\n",
      "Train Epoch: 1 [7756800/8102750 (96%)]\tLoss: 0.123754\n",
      "Train Epoch: 1 [7782400/8102750 (96%)]\tLoss: 0.124017\n",
      "Train Epoch: 1 [7808000/8102750 (96%)]\tLoss: 0.116868\n",
      "Train Epoch: 1 [7833600/8102750 (97%)]\tLoss: 0.121740\n",
      "Train Epoch: 1 [7859200/8102750 (97%)]\tLoss: 0.121142\n",
      "Train Epoch: 1 [7884800/8102750 (97%)]\tLoss: 0.120992\n",
      "Train Epoch: 1 [7910400/8102750 (98%)]\tLoss: 0.118129\n",
      "Train Epoch: 1 [7936000/8102750 (98%)]\tLoss: 0.127667\n",
      "Train Epoch: 1 [7961600/8102750 (98%)]\tLoss: 0.121052\n",
      "Train Epoch: 1 [7987200/8102750 (99%)]\tLoss: 0.125003\n",
      "Train Epoch: 1 [8012800/8102750 (99%)]\tLoss: 0.115403\n",
      "Train Epoch: 1 [8038400/8102750 (99%)]\tLoss: 0.120395\n",
      "Train Epoch: 1 [8064000/8102750 (100%)]\tLoss: 0.113328\n",
      "Train Epoch: 1 [8089600/8102750 (100%)]\tLoss: 0.115368\n",
      "Epoch Results:\n",
      "[0/8102750 (0%)]\n",
      "[153600/8102750 (2%)]\n",
      "[307200/8102750 (4%)]\n",
      "[460800/8102750 (6%)]\n",
      "[614400/8102750 (8%)]\n",
      "[768000/8102750 (9%)]\n",
      "[921600/8102750 (11%)]\n",
      "[1075200/8102750 (13%)]\n",
      "[1228800/8102750 (15%)]\n",
      "[1382400/8102750 (17%)]\n",
      "[1536000/8102750 (19%)]\n",
      "[1689600/8102750 (21%)]\n",
      "[1843200/8102750 (23%)]\n",
      "[1996800/8102750 (25%)]\n",
      "[2150400/8102750 (27%)]\n",
      "[2304000/8102750 (28%)]\n",
      "[2457600/8102750 (30%)]\n",
      "[2611200/8102750 (32%)]\n",
      "[2764800/8102750 (34%)]\n",
      "[2918400/8102750 (36%)]\n",
      "[3072000/8102750 (38%)]\n",
      "[3225600/8102750 (40%)]\n",
      "[3379200/8102750 (42%)]\n",
      "[3532800/8102750 (44%)]\n",
      "[3686400/8102750 (45%)]\n",
      "[3840000/8102750 (47%)]\n",
      "[3993600/8102750 (49%)]\n",
      "[4147200/8102750 (51%)]\n",
      "[4300800/8102750 (53%)]\n",
      "[4454400/8102750 (55%)]\n",
      "[4608000/8102750 (57%)]\n",
      "[4761600/8102750 (59%)]\n",
      "[4915200/8102750 (61%)]\n",
      "[5068800/8102750 (63%)]\n",
      "[5222400/8102750 (64%)]\n",
      "[5376000/8102750 (66%)]\n",
      "[5529600/8102750 (68%)]\n",
      "[5683200/8102750 (70%)]\n",
      "[5836800/8102750 (72%)]\n",
      "[5990400/8102750 (74%)]\n",
      "[6144000/8102750 (76%)]\n",
      "[6297600/8102750 (78%)]\n",
      "[6451200/8102750 (80%)]\n",
      "[6604800/8102750 (82%)]\n",
      "[6758400/8102750 (83%)]\n",
      "[6912000/8102750 (85%)]\n",
      "[7065600/8102750 (87%)]\n",
      "[7219200/8102750 (89%)]\n",
      "[7372800/8102750 (91%)]\n",
      "[7526400/8102750 (93%)]\n",
      "[7680000/8102750 (95%)]\n",
      "[7833600/8102750 (97%)]\n",
      "[7987200/8102750 (99%)]\n",
      "Train ROC AUC Score: 0.821242\n",
      "Train Loss: 0.117414\n",
      "[0/493590 (0%)]\n",
      "[153600/493590 (31%)]\n",
      "[307200/493590 (62%)]\n",
      "[460800/493590 (93%)]\n",
      "Validation ROC AUC Score: 0.888768\n",
      "Validation Loss: 0.107100\n",
      "\n",
      "Train Epoch: 2 [25600/8102750 (0%)]\tLoss: 0.118638\n",
      "Train Epoch: 2 [51200/8102750 (1%)]\tLoss: 0.114832\n",
      "Train Epoch: 2 [76800/8102750 (1%)]\tLoss: 0.116362\n",
      "Train Epoch: 2 [102400/8102750 (1%)]\tLoss: 0.121611\n",
      "Train Epoch: 2 [128000/8102750 (2%)]\tLoss: 0.111484\n",
      "Train Epoch: 2 [153600/8102750 (2%)]\tLoss: 0.122885\n",
      "Train Epoch: 2 [179200/8102750 (2%)]\tLoss: 0.120491\n",
      "Train Epoch: 2 [204800/8102750 (3%)]\tLoss: 0.114281\n",
      "Train Epoch: 2 [230400/8102750 (3%)]\tLoss: 0.118828\n",
      "Train Epoch: 2 [256000/8102750 (3%)]\tLoss: 0.122506\n",
      "Train Epoch: 2 [281600/8102750 (3%)]\tLoss: 0.116114\n",
      "Train Epoch: 2 [307200/8102750 (4%)]\tLoss: 0.118251\n",
      "Train Epoch: 2 [332800/8102750 (4%)]\tLoss: 0.117307\n",
      "Train Epoch: 2 [358400/8102750 (4%)]\tLoss: 0.116612\n",
      "Train Epoch: 2 [384000/8102750 (5%)]\tLoss: 0.114917\n",
      "Train Epoch: 2 [409600/8102750 (5%)]\tLoss: 0.119745\n",
      "Train Epoch: 2 [435200/8102750 (5%)]\tLoss: 0.117158\n",
      "Train Epoch: 2 [460800/8102750 (6%)]\tLoss: 0.118412\n",
      "Train Epoch: 2 [486400/8102750 (6%)]\tLoss: 0.124033\n",
      "Train Epoch: 2 [512000/8102750 (6%)]\tLoss: 0.120145\n",
      "[0/493590 (0%)]\n",
      "[153600/493590 (31%)]\n",
      "[307200/493590 (62%)]\n",
      "[460800/493590 (93%)]\n",
      "ROC AUC Score: 0.880249\n",
      "Validation Loss: 0.109823\n",
      "Train Epoch: 2 [537600/8102750 (7%)]\tLoss: 0.122888\n",
      "Train Epoch: 2 [563200/8102750 (7%)]\tLoss: 0.118196\n",
      "Train Epoch: 2 [588800/8102750 (7%)]\tLoss: 0.118850\n",
      "Train Epoch: 2 [614400/8102750 (8%)]\tLoss: 0.118591\n",
      "Train Epoch: 2 [640000/8102750 (8%)]\tLoss: 0.118376\n",
      "Train Epoch: 2 [665600/8102750 (8%)]\tLoss: 0.116544\n",
      "Train Epoch: 2 [691200/8102750 (9%)]\tLoss: 0.124684\n",
      "Train Epoch: 2 [716800/8102750 (9%)]\tLoss: 0.116756\n",
      "Train Epoch: 2 [742400/8102750 (9%)]\tLoss: 0.116131\n",
      "Train Epoch: 2 [768000/8102750 (9%)]\tLoss: 0.127747\n",
      "Train Epoch: 2 [793600/8102750 (10%)]\tLoss: 0.122370\n",
      "Train Epoch: 2 [819200/8102750 (10%)]\tLoss: 0.118050\n",
      "Train Epoch: 2 [844800/8102750 (10%)]\tLoss: 0.120128\n",
      "Train Epoch: 2 [870400/8102750 (11%)]\tLoss: 0.117082\n",
      "Train Epoch: 2 [896000/8102750 (11%)]\tLoss: 0.123351\n",
      "Train Epoch: 2 [921600/8102750 (11%)]\tLoss: 0.121436\n",
      "Train Epoch: 2 [947200/8102750 (12%)]\tLoss: 0.119208\n",
      "Train Epoch: 2 [972800/8102750 (12%)]\tLoss: 0.118080\n",
      "Train Epoch: 2 [998400/8102750 (12%)]\tLoss: 0.119915\n",
      "Train Epoch: 2 [1024000/8102750 (13%)]\tLoss: 0.120296\n",
      "[0/493590 (0%)]\n",
      "[153600/493590 (31%)]\n",
      "[307200/493590 (62%)]\n",
      "[460800/493590 (93%)]\n",
      "ROC AUC Score: 0.884677\n",
      "Validation Loss: 0.106299\n",
      "Train Epoch: 2 [1049600/8102750 (13%)]\tLoss: 0.117167\n",
      "Train Epoch: 2 [1075200/8102750 (13%)]\tLoss: 0.115585\n",
      "Train Epoch: 2 [1100800/8102750 (14%)]\tLoss: 0.117045\n",
      "Train Epoch: 2 [1126400/8102750 (14%)]\tLoss: 0.123338\n",
      "Train Epoch: 2 [1152000/8102750 (14%)]\tLoss: 0.119417\n",
      "Train Epoch: 2 [1177600/8102750 (15%)]\tLoss: 0.123494\n",
      "Train Epoch: 2 [1203200/8102750 (15%)]\tLoss: 0.115632\n",
      "Train Epoch: 2 [1228800/8102750 (15%)]\tLoss: 0.120411\n",
      "Train Epoch: 2 [1254400/8102750 (15%)]\tLoss: 0.123083\n",
      "Train Epoch: 2 [1280000/8102750 (16%)]\tLoss: 0.121453\n",
      "Train Epoch: 2 [1305600/8102750 (16%)]\tLoss: 0.116296\n",
      "Train Epoch: 2 [1331200/8102750 (16%)]\tLoss: 0.116359\n",
      "Train Epoch: 2 [1356800/8102750 (17%)]\tLoss: 0.121958\n",
      "Train Epoch: 2 [1382400/8102750 (17%)]\tLoss: 0.120751\n",
      "Train Epoch: 2 [1408000/8102750 (17%)]\tLoss: 0.117598\n",
      "Train Epoch: 2 [1433600/8102750 (18%)]\tLoss: 0.113011\n",
      "Train Epoch: 2 [1459200/8102750 (18%)]\tLoss: 0.118763\n",
      "Train Epoch: 2 [1484800/8102750 (18%)]\tLoss: 0.119114\n",
      "Train Epoch: 2 [1510400/8102750 (19%)]\tLoss: 0.117845\n",
      "Train Epoch: 2 [1536000/8102750 (19%)]\tLoss: 0.120261\n",
      "[0/493590 (0%)]\n",
      "[153600/493590 (31%)]\n",
      "[307200/493590 (62%)]\n",
      "[460800/493590 (93%)]\n",
      "ROC AUC Score: 0.883560\n",
      "Validation Loss: 0.109076\n",
      "Train Epoch: 2 [1561600/8102750 (19%)]\tLoss: 0.120328\n",
      "Train Epoch: 2 [1587200/8102750 (20%)]\tLoss: 0.116655\n",
      "Train Epoch: 2 [1612800/8102750 (20%)]\tLoss: 0.119643\n",
      "Train Epoch: 2 [1638400/8102750 (20%)]\tLoss: 0.115306\n",
      "Train Epoch: 2 [1664000/8102750 (21%)]\tLoss: 0.116435\n",
      "Train Epoch: 2 [1689600/8102750 (21%)]\tLoss: 0.113347\n",
      "Train Epoch: 2 [1715200/8102750 (21%)]\tLoss: 0.123581\n",
      "Train Epoch: 2 [1740800/8102750 (21%)]\tLoss: 0.124979\n",
      "Train Epoch: 2 [1766400/8102750 (22%)]\tLoss: 0.117128\n",
      "Train Epoch: 2 [1792000/8102750 (22%)]\tLoss: 0.118198\n",
      "Train Epoch: 2 [1817600/8102750 (22%)]\tLoss: 0.120267\n",
      "Train Epoch: 2 [1843200/8102750 (23%)]\tLoss: 0.120076\n",
      "Train Epoch: 2 [1868800/8102750 (23%)]\tLoss: 0.119070\n",
      "Train Epoch: 2 [1894400/8102750 (23%)]\tLoss: 0.128083\n",
      "Train Epoch: 2 [1920000/8102750 (24%)]\tLoss: 0.119373\n",
      "Train Epoch: 2 [1945600/8102750 (24%)]\tLoss: 0.119683\n",
      "Train Epoch: 2 [1971200/8102750 (24%)]\tLoss: 0.115915\n",
      "Train Epoch: 2 [1996800/8102750 (25%)]\tLoss: 0.122889\n",
      "Train Epoch: 2 [2022400/8102750 (25%)]\tLoss: 0.117933\n",
      "Train Epoch: 2 [2048000/8102750 (25%)]\tLoss: 0.121505\n",
      "[0/493590 (0%)]\n",
      "[153600/493590 (31%)]\n",
      "[307200/493590 (62%)]\n",
      "[460800/493590 (93%)]\n",
      "ROC AUC Score: 0.880694\n",
      "Validation Loss: 0.110426\n",
      "Train Epoch: 2 [2073600/8102750 (26%)]\tLoss: 0.123044\n",
      "Train Epoch: 2 [2099200/8102750 (26%)]\tLoss: 0.120734\n",
      "Train Epoch: 2 [2124800/8102750 (26%)]\tLoss: 0.118291\n",
      "Train Epoch: 2 [2150400/8102750 (27%)]\tLoss: 0.115539\n",
      "Train Epoch: 2 [2176000/8102750 (27%)]\tLoss: 0.116906\n",
      "Train Epoch: 2 [2201600/8102750 (27%)]\tLoss: 0.119951\n",
      "Train Epoch: 2 [2227200/8102750 (27%)]\tLoss: 0.117806\n",
      "Train Epoch: 2 [2252800/8102750 (28%)]\tLoss: 0.118684\n",
      "Train Epoch: 2 [2278400/8102750 (28%)]\tLoss: 0.117568\n",
      "Train Epoch: 2 [2304000/8102750 (28%)]\tLoss: 0.119711\n",
      "Train Epoch: 2 [2329600/8102750 (29%)]\tLoss: 0.118183\n",
      "Train Epoch: 2 [2355200/8102750 (29%)]\tLoss: 0.117294\n",
      "Train Epoch: 2 [2380800/8102750 (29%)]\tLoss: 0.119272\n",
      "Train Epoch: 2 [2406400/8102750 (30%)]\tLoss: 0.118307\n",
      "Train Epoch: 2 [2432000/8102750 (30%)]\tLoss: 0.118114\n",
      "Train Epoch: 2 [2457600/8102750 (30%)]\tLoss: 0.127459\n",
      "Train Epoch: 2 [2483200/8102750 (31%)]\tLoss: 0.126081\n",
      "Train Epoch: 2 [2508800/8102750 (31%)]\tLoss: 0.121074\n",
      "Train Epoch: 2 [2534400/8102750 (31%)]\tLoss: 0.117902\n",
      "Train Epoch: 2 [2560000/8102750 (32%)]\tLoss: 0.116443\n",
      "[0/493590 (0%)]\n",
      "[153600/493590 (31%)]\n",
      "[307200/493590 (62%)]\n",
      "[460800/493590 (93%)]\n",
      "ROC AUC Score: 0.884061\n",
      "Validation Loss: 0.108335\n",
      "Train Epoch: 2 [2585600/8102750 (32%)]\tLoss: 0.123655\n",
      "Train Epoch: 2 [2611200/8102750 (32%)]\tLoss: 0.119068\n",
      "Train Epoch: 2 [2636800/8102750 (33%)]\tLoss: 0.113279\n",
      "Train Epoch: 2 [2662400/8102750 (33%)]\tLoss: 0.115628\n",
      "Train Epoch: 2 [2688000/8102750 (33%)]\tLoss: 0.117245\n",
      "Train Epoch: 2 [2713600/8102750 (33%)]\tLoss: 0.120054\n",
      "Train Epoch: 2 [2739200/8102750 (34%)]\tLoss: 0.117805\n",
      "Train Epoch: 2 [2764800/8102750 (34%)]\tLoss: 0.118247\n",
      "Train Epoch: 2 [2790400/8102750 (34%)]\tLoss: 0.121185\n",
      "Train Epoch: 2 [2816000/8102750 (35%)]\tLoss: 0.123194\n",
      "Train Epoch: 2 [2841600/8102750 (35%)]\tLoss: 0.117794\n",
      "Train Epoch: 2 [2867200/8102750 (35%)]\tLoss: 0.118006\n",
      "Train Epoch: 2 [2892800/8102750 (36%)]\tLoss: 0.118820\n",
      "Train Epoch: 2 [2918400/8102750 (36%)]\tLoss: 0.117889\n",
      "Train Epoch: 2 [2944000/8102750 (36%)]\tLoss: 0.120616\n",
      "Train Epoch: 2 [2969600/8102750 (37%)]\tLoss: 0.126763\n",
      "Train Epoch: 2 [2995200/8102750 (37%)]\tLoss: 0.122091\n",
      "Train Epoch: 2 [3020800/8102750 (37%)]\tLoss: 0.118727\n",
      "Train Epoch: 2 [3046400/8102750 (38%)]\tLoss: 0.120061\n",
      "Train Epoch: 2 [3072000/8102750 (38%)]\tLoss: 0.114850\n",
      "[0/493590 (0%)]\n",
      "[153600/493590 (31%)]\n",
      "[307200/493590 (62%)]\n",
      "[460800/493590 (93%)]\n",
      "ROC AUC Score: 0.884543\n",
      "Validation Loss: 0.110990\n",
      "Train Epoch: 2 [3097600/8102750 (38%)]\tLoss: 0.123140\n",
      "Train Epoch: 2 [3123200/8102750 (39%)]\tLoss: 0.114045\n",
      "Train Epoch: 2 [3148800/8102750 (39%)]\tLoss: 0.121183\n",
      "Train Epoch: 2 [3174400/8102750 (39%)]\tLoss: 0.121822\n",
      "Train Epoch: 2 [3200000/8102750 (39%)]\tLoss: 0.124054\n",
      "Train Epoch: 2 [3225600/8102750 (40%)]\tLoss: 0.119623\n",
      "Train Epoch: 2 [3251200/8102750 (40%)]\tLoss: 0.121238\n",
      "Train Epoch: 2 [3276800/8102750 (40%)]\tLoss: 0.116560\n",
      "Train Epoch: 2 [3302400/8102750 (41%)]\tLoss: 0.120212\n",
      "Train Epoch: 2 [3328000/8102750 (41%)]\tLoss: 0.116909\n",
      "Train Epoch: 2 [3353600/8102750 (41%)]\tLoss: 0.126369\n",
      "Train Epoch: 2 [3379200/8102750 (42%)]\tLoss: 0.113302\n",
      "Train Epoch: 2 [3404800/8102750 (42%)]\tLoss: 0.121324\n",
      "Train Epoch: 2 [3430400/8102750 (42%)]\tLoss: 0.126017\n",
      "Train Epoch: 2 [3456000/8102750 (43%)]\tLoss: 0.115748\n",
      "Train Epoch: 2 [3481600/8102750 (43%)]\tLoss: 0.126040\n",
      "Train Epoch: 2 [3507200/8102750 (43%)]\tLoss: 0.122608\n",
      "Train Epoch: 2 [3532800/8102750 (44%)]\tLoss: 0.122044\n",
      "Train Epoch: 2 [3558400/8102750 (44%)]\tLoss: 0.125523\n",
      "Train Epoch: 2 [3584000/8102750 (44%)]\tLoss: 0.120307\n",
      "[0/493590 (0%)]\n",
      "[153600/493590 (31%)]\n",
      "[307200/493590 (62%)]\n",
      "[460800/493590 (93%)]\n",
      "ROC AUC Score: 0.882781\n",
      "Validation Loss: 0.112237\n",
      "Train Epoch: 2 [3609600/8102750 (45%)]\tLoss: 0.121271\n",
      "Train Epoch: 2 [3635200/8102750 (45%)]\tLoss: 0.118083\n",
      "Train Epoch: 2 [3660800/8102750 (45%)]\tLoss: 0.123543\n",
      "Train Epoch: 2 [3686400/8102750 (45%)]\tLoss: 0.117995\n",
      "Train Epoch: 2 [3712000/8102750 (46%)]\tLoss: 0.123686\n",
      "Train Epoch: 2 [3737600/8102750 (46%)]\tLoss: 0.118061\n",
      "Train Epoch: 2 [3763200/8102750 (46%)]\tLoss: 0.112774\n",
      "Train Epoch: 2 [3788800/8102750 (47%)]\tLoss: 0.118846\n",
      "Train Epoch: 2 [3814400/8102750 (47%)]\tLoss: 0.119196\n",
      "Train Epoch: 2 [3840000/8102750 (47%)]\tLoss: 0.121070\n",
      "Train Epoch: 2 [3865600/8102750 (48%)]\tLoss: 0.117987\n",
      "Train Epoch: 2 [3891200/8102750 (48%)]\tLoss: 0.122925\n",
      "Train Epoch: 2 [3916800/8102750 (48%)]\tLoss: 0.122304\n",
      "Train Epoch: 2 [3942400/8102750 (49%)]\tLoss: 0.120390\n",
      "Train Epoch: 2 [3968000/8102750 (49%)]\tLoss: 0.119454\n",
      "Train Epoch: 2 [3993600/8102750 (49%)]\tLoss: 0.118472\n",
      "Train Epoch: 2 [4019200/8102750 (50%)]\tLoss: 0.115045\n",
      "Train Epoch: 2 [4044800/8102750 (50%)]\tLoss: 0.116533\n",
      "Train Epoch: 2 [4070400/8102750 (50%)]\tLoss: 0.120541\n",
      "Train Epoch: 2 [4096000/8102750 (51%)]\tLoss: 0.118710\n",
      "[0/493590 (0%)]\n",
      "[153600/493590 (31%)]\n",
      "[307200/493590 (62%)]\n",
      "[460800/493590 (93%)]\n",
      "ROC AUC Score: 0.889465\n",
      "Validation Loss: 0.108970\n",
      "Train Epoch: 2 [4121600/8102750 (51%)]\tLoss: 0.114750\n",
      "Train Epoch: 2 [4147200/8102750 (51%)]\tLoss: 0.120235\n",
      "Train Epoch: 2 [4172800/8102750 (51%)]\tLoss: 0.123601\n",
      "Train Epoch: 2 [4198400/8102750 (52%)]\tLoss: 0.114681\n",
      "Train Epoch: 2 [4224000/8102750 (52%)]\tLoss: 0.115787\n",
      "Train Epoch: 2 [4249600/8102750 (52%)]\tLoss: 0.112225\n",
      "Train Epoch: 2 [4275200/8102750 (53%)]\tLoss: 0.120952\n",
      "Train Epoch: 2 [4300800/8102750 (53%)]\tLoss: 0.123243\n",
      "Train Epoch: 2 [4326400/8102750 (53%)]\tLoss: 0.118602\n",
      "Train Epoch: 2 [4352000/8102750 (54%)]\tLoss: 0.116834\n",
      "Train Epoch: 2 [4377600/8102750 (54%)]\tLoss: 0.120729\n",
      "Train Epoch: 2 [4403200/8102750 (54%)]\tLoss: 0.116145\n",
      "Train Epoch: 2 [4428800/8102750 (55%)]\tLoss: 0.118463\n",
      "Train Epoch: 2 [4454400/8102750 (55%)]\tLoss: 0.116727\n",
      "Train Epoch: 2 [4480000/8102750 (55%)]\tLoss: 0.117143\n",
      "Train Epoch: 2 [4505600/8102750 (56%)]\tLoss: 0.118150\n",
      "Train Epoch: 2 [4531200/8102750 (56%)]\tLoss: 0.123669\n",
      "Train Epoch: 2 [4556800/8102750 (56%)]\tLoss: 0.117040\n",
      "Train Epoch: 2 [4582400/8102750 (57%)]\tLoss: 0.119646\n",
      "Train Epoch: 2 [4608000/8102750 (57%)]\tLoss: 0.123153\n",
      "[0/493590 (0%)]\n",
      "[153600/493590 (31%)]\n",
      "[307200/493590 (62%)]\n",
      "[460800/493590 (93%)]\n",
      "ROC AUC Score: 0.886663\n",
      "Validation Loss: 0.109409\n",
      "Train Epoch: 2 [4633600/8102750 (57%)]\tLoss: 0.120379\n",
      "Train Epoch: 2 [4659200/8102750 (58%)]\tLoss: 0.114251\n",
      "Train Epoch: 2 [4684800/8102750 (58%)]\tLoss: 0.119873\n",
      "Train Epoch: 2 [4710400/8102750 (58%)]\tLoss: 0.116074\n",
      "Train Epoch: 2 [4736000/8102750 (58%)]\tLoss: 0.117705\n",
      "Train Epoch: 2 [4761600/8102750 (59%)]\tLoss: 0.118673\n",
      "Train Epoch: 2 [4787200/8102750 (59%)]\tLoss: 0.118505\n",
      "Train Epoch: 2 [4812800/8102750 (59%)]\tLoss: 0.120487\n",
      "Train Epoch: 2 [4838400/8102750 (60%)]\tLoss: 0.119626\n",
      "Train Epoch: 2 [4864000/8102750 (60%)]\tLoss: 0.119945\n",
      "Train Epoch: 2 [4889600/8102750 (60%)]\tLoss: 0.119824\n",
      "Train Epoch: 2 [4915200/8102750 (61%)]\tLoss: 0.120541\n",
      "Train Epoch: 2 [4940800/8102750 (61%)]\tLoss: 0.120135\n",
      "Train Epoch: 2 [4966400/8102750 (61%)]\tLoss: 0.121190\n",
      "Train Epoch: 2 [4992000/8102750 (62%)]\tLoss: 0.125622\n",
      "Train Epoch: 2 [5017600/8102750 (62%)]\tLoss: 0.118767\n",
      "Train Epoch: 2 [5043200/8102750 (62%)]\tLoss: 0.119754\n",
      "Train Epoch: 2 [5068800/8102750 (63%)]\tLoss: 0.114058\n",
      "Train Epoch: 2 [5094400/8102750 (63%)]\tLoss: 0.117357\n",
      "Train Epoch: 2 [5120000/8102750 (63%)]\tLoss: 0.114466\n",
      "[0/493590 (0%)]\n",
      "[153600/493590 (31%)]\n",
      "[307200/493590 (62%)]\n",
      "[460800/493590 (93%)]\n",
      "ROC AUC Score: 0.875677\n",
      "Validation Loss: 0.108963\n",
      "Train Epoch: 2 [5145600/8102750 (64%)]\tLoss: 0.117519\n",
      "Train Epoch: 2 [5171200/8102750 (64%)]\tLoss: 0.121215\n",
      "Train Epoch: 2 [5196800/8102750 (64%)]\tLoss: 0.116921\n",
      "Train Epoch: 2 [5222400/8102750 (64%)]\tLoss: 0.125134\n",
      "Train Epoch: 2 [5248000/8102750 (65%)]\tLoss: 0.118455\n",
      "Train Epoch: 2 [5273600/8102750 (65%)]\tLoss: 0.118768\n",
      "Train Epoch: 2 [5299200/8102750 (65%)]\tLoss: 0.116358\n",
      "Train Epoch: 2 [5324800/8102750 (66%)]\tLoss: 0.120054\n",
      "Train Epoch: 2 [5350400/8102750 (66%)]\tLoss: 0.122044\n",
      "Train Epoch: 2 [5376000/8102750 (66%)]\tLoss: 0.116344\n",
      "Train Epoch: 2 [5401600/8102750 (67%)]\tLoss: 0.122518\n",
      "Train Epoch: 2 [5427200/8102750 (67%)]\tLoss: 0.122644\n",
      "Train Epoch: 2 [5452800/8102750 (67%)]\tLoss: 0.115442\n",
      "Train Epoch: 2 [5478400/8102750 (68%)]\tLoss: 0.125243\n",
      "Train Epoch: 2 [5504000/8102750 (68%)]\tLoss: 0.118515\n",
      "Train Epoch: 2 [5529600/8102750 (68%)]\tLoss: 0.115298\n",
      "Train Epoch: 2 [5555200/8102750 (69%)]\tLoss: 0.118855\n",
      "Train Epoch: 2 [5580800/8102750 (69%)]\tLoss: 0.115335\n",
      "Train Epoch: 2 [5606400/8102750 (69%)]\tLoss: 0.116839\n",
      "Train Epoch: 2 [5632000/8102750 (70%)]\tLoss: 0.119977\n",
      "[0/493590 (0%)]\n",
      "[153600/493590 (31%)]\n",
      "[307200/493590 (62%)]\n",
      "[460800/493590 (93%)]\n",
      "ROC AUC Score: 0.882447\n",
      "Validation Loss: 0.109746\n",
      "Train Epoch: 2 [5657600/8102750 (70%)]\tLoss: 0.122097\n",
      "Train Epoch: 2 [5683200/8102750 (70%)]\tLoss: 0.110349\n",
      "Train Epoch: 2 [5708800/8102750 (70%)]\tLoss: 0.113689\n",
      "Train Epoch: 2 [5734400/8102750 (71%)]\tLoss: 0.126009\n",
      "Train Epoch: 2 [5760000/8102750 (71%)]\tLoss: 0.120962\n",
      "Train Epoch: 2 [5785600/8102750 (71%)]\tLoss: 0.121112\n",
      "Train Epoch: 2 [5811200/8102750 (72%)]\tLoss: 0.118607\n",
      "Train Epoch: 2 [5836800/8102750 (72%)]\tLoss: 0.121288\n",
      "Train Epoch: 2 [5862400/8102750 (72%)]\tLoss: 0.117813\n",
      "Train Epoch: 2 [5888000/8102750 (73%)]\tLoss: 0.114486\n",
      "Train Epoch: 2 [5913600/8102750 (73%)]\tLoss: 0.116123\n",
      "Train Epoch: 2 [5939200/8102750 (73%)]\tLoss: 0.120593\n",
      "Train Epoch: 2 [5964800/8102750 (74%)]\tLoss: 0.122485\n",
      "Train Epoch: 2 [5990400/8102750 (74%)]\tLoss: 0.120666\n",
      "Train Epoch: 2 [6016000/8102750 (74%)]\tLoss: 0.117461\n",
      "Train Epoch: 2 [6041600/8102750 (75%)]\tLoss: 0.118696\n",
      "Train Epoch: 2 [6067200/8102750 (75%)]\tLoss: 0.122021\n",
      "Train Epoch: 2 [6092800/8102750 (75%)]\tLoss: 0.121982\n",
      "Train Epoch: 2 [6118400/8102750 (76%)]\tLoss: 0.121075\n",
      "Train Epoch: 2 [6144000/8102750 (76%)]\tLoss: 0.114871\n",
      "[0/493590 (0%)]\n",
      "[153600/493590 (31%)]\n",
      "[307200/493590 (62%)]\n",
      "[460800/493590 (93%)]\n",
      "ROC AUC Score: 0.889800\n",
      "Validation Loss: 0.104461\n",
      "Train Epoch: 2 [6169600/8102750 (76%)]\tLoss: 0.121337\n",
      "Train Epoch: 2 [6195200/8102750 (76%)]\tLoss: 0.120712\n",
      "Train Epoch: 2 [6220800/8102750 (77%)]\tLoss: 0.115111\n",
      "Train Epoch: 2 [6246400/8102750 (77%)]\tLoss: 0.113986\n",
      "Train Epoch: 2 [6272000/8102750 (77%)]\tLoss: 0.119304\n",
      "Train Epoch: 2 [6297600/8102750 (78%)]\tLoss: 0.121787\n",
      "Train Epoch: 2 [6323200/8102750 (78%)]\tLoss: 0.118349\n",
      "Train Epoch: 2 [6348800/8102750 (78%)]\tLoss: 0.120420\n",
      "Train Epoch: 2 [6374400/8102750 (79%)]\tLoss: 0.116601\n",
      "Train Epoch: 2 [6400000/8102750 (79%)]\tLoss: 0.115722\n",
      "Train Epoch: 2 [6425600/8102750 (79%)]\tLoss: 0.117054\n",
      "Train Epoch: 2 [6451200/8102750 (80%)]\tLoss: 0.118278\n",
      "Train Epoch: 2 [6476800/8102750 (80%)]\tLoss: 0.116100\n",
      "Train Epoch: 2 [6502400/8102750 (80%)]\tLoss: 0.114738\n",
      "Train Epoch: 2 [6528000/8102750 (81%)]\tLoss: 0.115267\n",
      "Train Epoch: 2 [6553600/8102750 (81%)]\tLoss: 0.117348\n",
      "Train Epoch: 2 [6579200/8102750 (81%)]\tLoss: 0.119853\n",
      "Train Epoch: 2 [6604800/8102750 (82%)]\tLoss: 0.120515\n",
      "Train Epoch: 2 [6630400/8102750 (82%)]\tLoss: 0.120397\n",
      "Train Epoch: 2 [6656000/8102750 (82%)]\tLoss: 0.112294\n",
      "[0/493590 (0%)]\n",
      "[153600/493590 (31%)]\n",
      "[307200/493590 (62%)]\n",
      "[460800/493590 (93%)]\n",
      "ROC AUC Score: 0.882857\n",
      "Validation Loss: 0.112996\n",
      "Train Epoch: 2 [6681600/8102750 (82%)]\tLoss: 0.126699\n",
      "Train Epoch: 2 [6707200/8102750 (83%)]\tLoss: 0.116625\n",
      "Train Epoch: 2 [6732800/8102750 (83%)]\tLoss: 0.117440\n",
      "Train Epoch: 2 [6758400/8102750 (83%)]\tLoss: 0.118881\n",
      "Train Epoch: 2 [6784000/8102750 (84%)]\tLoss: 0.114846\n",
      "Train Epoch: 2 [6809600/8102750 (84%)]\tLoss: 0.120151\n",
      "Train Epoch: 2 [6835200/8102750 (84%)]\tLoss: 0.121714\n",
      "Train Epoch: 2 [6860800/8102750 (85%)]\tLoss: 0.121244\n",
      "Train Epoch: 2 [6886400/8102750 (85%)]\tLoss: 0.117905\n",
      "Train Epoch: 2 [6912000/8102750 (85%)]\tLoss: 0.119527\n",
      "Train Epoch: 2 [6937600/8102750 (86%)]\tLoss: 0.116143\n",
      "Train Epoch: 2 [6963200/8102750 (86%)]\tLoss: 0.115553\n",
      "Train Epoch: 2 [6988800/8102750 (86%)]\tLoss: 0.116499\n",
      "Train Epoch: 2 [7014400/8102750 (87%)]\tLoss: 0.118527\n",
      "Train Epoch: 2 [7040000/8102750 (87%)]\tLoss: 0.121729\n",
      "Train Epoch: 2 [7065600/8102750 (87%)]\tLoss: 0.116005\n",
      "Train Epoch: 2 [7091200/8102750 (88%)]\tLoss: 0.119359\n",
      "Train Epoch: 2 [7116800/8102750 (88%)]\tLoss: 0.118012\n",
      "Train Epoch: 2 [7142400/8102750 (88%)]\tLoss: 0.119758\n",
      "Train Epoch: 2 [7168000/8102750 (88%)]\tLoss: 0.121423\n",
      "[0/493590 (0%)]\n",
      "[153600/493590 (31%)]\n",
      "[307200/493590 (62%)]\n",
      "[460800/493590 (93%)]\n",
      "ROC AUC Score: 0.887968\n",
      "Validation Loss: 0.107745\n",
      "Train Epoch: 2 [7193600/8102750 (89%)]\tLoss: 0.118050\n",
      "Train Epoch: 2 [7219200/8102750 (89%)]\tLoss: 0.115237\n",
      "Train Epoch: 2 [7244800/8102750 (89%)]\tLoss: 0.117098\n",
      "Train Epoch: 2 [7270400/8102750 (90%)]\tLoss: 0.122914\n",
      "Train Epoch: 2 [7296000/8102750 (90%)]\tLoss: 0.116936\n",
      "Train Epoch: 2 [7321600/8102750 (90%)]\tLoss: 0.121901\n",
      "Train Epoch: 2 [7347200/8102750 (91%)]\tLoss: 0.118014\n",
      "Train Epoch: 2 [7372800/8102750 (91%)]\tLoss: 0.116503\n",
      "Train Epoch: 2 [7398400/8102750 (91%)]\tLoss: 0.121619\n",
      "Train Epoch: 2 [7424000/8102750 (92%)]\tLoss: 0.113990\n",
      "Train Epoch: 2 [7449600/8102750 (92%)]\tLoss: 0.120708\n",
      "Train Epoch: 2 [7475200/8102750 (92%)]\tLoss: 0.114912\n",
      "Train Epoch: 2 [7500800/8102750 (93%)]\tLoss: 0.118630\n",
      "Train Epoch: 2 [7526400/8102750 (93%)]\tLoss: 0.122836\n",
      "Train Epoch: 2 [7552000/8102750 (93%)]\tLoss: 0.118707\n",
      "Train Epoch: 2 [7577600/8102750 (94%)]\tLoss: 0.119181\n",
      "Train Epoch: 2 [7603200/8102750 (94%)]\tLoss: 0.120866\n",
      "Train Epoch: 2 [7628800/8102750 (94%)]\tLoss: 0.122970\n",
      "Train Epoch: 2 [7654400/8102750 (94%)]\tLoss: 0.121816\n",
      "Train Epoch: 2 [7680000/8102750 (95%)]\tLoss: 0.116495\n",
      "[0/493590 (0%)]\n",
      "[153600/493590 (31%)]\n",
      "[307200/493590 (62%)]\n",
      "[460800/493590 (93%)]\n",
      "ROC AUC Score: 0.885756\n",
      "Validation Loss: 0.108759\n",
      "Train Epoch: 2 [7705600/8102750 (95%)]\tLoss: 0.116703\n",
      "Train Epoch: 2 [7731200/8102750 (95%)]\tLoss: 0.116846\n",
      "Train Epoch: 2 [7756800/8102750 (96%)]\tLoss: 0.116189\n",
      "Train Epoch: 2 [7782400/8102750 (96%)]\tLoss: 0.117225\n",
      "Train Epoch: 2 [7808000/8102750 (96%)]\tLoss: 0.121469\n",
      "Train Epoch: 2 [7833600/8102750 (97%)]\tLoss: 0.116441\n",
      "Train Epoch: 2 [7859200/8102750 (97%)]\tLoss: 0.119474\n",
      "Train Epoch: 2 [7884800/8102750 (97%)]\tLoss: 0.111368\n",
      "Train Epoch: 2 [7910400/8102750 (98%)]\tLoss: 0.121022\n",
      "Train Epoch: 2 [7936000/8102750 (98%)]\tLoss: 0.118884\n",
      "Train Epoch: 2 [7961600/8102750 (98%)]\tLoss: 0.126017\n",
      "Train Epoch: 2 [7987200/8102750 (99%)]\tLoss: 0.115284\n",
      "Train Epoch: 2 [8012800/8102750 (99%)]\tLoss: 0.118197\n",
      "Train Epoch: 2 [8038400/8102750 (99%)]\tLoss: 0.117213\n",
      "Train Epoch: 2 [8064000/8102750 (100%)]\tLoss: 0.118292\n",
      "Train Epoch: 2 [8089600/8102750 (100%)]\tLoss: 0.118948\n",
      "Epoch Results:\n",
      "[0/8102750 (0%)]\n",
      "[153600/8102750 (2%)]\n",
      "[307200/8102750 (4%)]\n",
      "[460800/8102750 (6%)]\n",
      "[614400/8102750 (8%)]\n",
      "[768000/8102750 (9%)]\n",
      "[921600/8102750 (11%)]\n",
      "[1075200/8102750 (13%)]\n",
      "[1228800/8102750 (15%)]\n",
      "[1382400/8102750 (17%)]\n",
      "[1536000/8102750 (19%)]\n",
      "[1689600/8102750 (21%)]\n",
      "[1843200/8102750 (23%)]\n",
      "[1996800/8102750 (25%)]\n",
      "[2150400/8102750 (27%)]\n",
      "[2304000/8102750 (28%)]\n",
      "[2457600/8102750 (30%)]\n",
      "[2611200/8102750 (32%)]\n",
      "[2764800/8102750 (34%)]\n",
      "[2918400/8102750 (36%)]\n",
      "[3072000/8102750 (38%)]\n",
      "[3225600/8102750 (40%)]\n",
      "[3379200/8102750 (42%)]\n",
      "[3532800/8102750 (44%)]\n",
      "[3686400/8102750 (45%)]\n",
      "[3840000/8102750 (47%)]\n",
      "[3993600/8102750 (49%)]\n",
      "[4147200/8102750 (51%)]\n",
      "[4300800/8102750 (53%)]\n",
      "[4454400/8102750 (55%)]\n",
      "[4608000/8102750 (57%)]\n",
      "[4761600/8102750 (59%)]\n",
      "[4915200/8102750 (61%)]\n",
      "[5068800/8102750 (63%)]\n",
      "[5222400/8102750 (64%)]\n",
      "[5376000/8102750 (66%)]\n",
      "[5529600/8102750 (68%)]\n",
      "[5683200/8102750 (70%)]\n",
      "[5836800/8102750 (72%)]\n",
      "[5990400/8102750 (74%)]\n",
      "[6144000/8102750 (76%)]\n",
      "[6297600/8102750 (78%)]\n",
      "[6451200/8102750 (80%)]\n",
      "[6604800/8102750 (82%)]\n",
      "[6758400/8102750 (83%)]\n",
      "[6912000/8102750 (85%)]\n",
      "[7065600/8102750 (87%)]\n",
      "[7219200/8102750 (89%)]\n",
      "[7372800/8102750 (91%)]\n",
      "[7526400/8102750 (93%)]\n",
      "[7680000/8102750 (95%)]\n",
      "[7833600/8102750 (97%)]\n",
      "[7987200/8102750 (99%)]\n",
      "Train ROC AUC Score: 0.826491\n",
      "Train Loss: 0.116814\n",
      "[0/493590 (0%)]\n",
      "[153600/493590 (31%)]\n",
      "[307200/493590 (62%)]\n",
      "[460800/493590 (93%)]\n",
      "Validation ROC AUC Score: 0.881994\n",
      "Validation Loss: 0.109986\n",
      "\n",
      "CPU times: user 37min 59s, sys: 40 s, total: 38min 39s\n",
      "Wall time: 38min 36s\n"
     ]
    }
   ],
   "source": [
    "%%time\n",
    "model, train_losses, val_losses, val_auc_scores = train_model(\n",
    "                model, train_dl, val_dl, optimizer, criterion,\n",
    "                n_epochs=2, USE_CUDA=USE_CUDA, val_every=20)"
   ]
  },
  {
   "cell_type": "code",
   "execution_count": 60,
   "metadata": {},
   "outputs": [],
   "source": [
    "train_losses = pd.Series(train_losses)\n",
    "val_losses = pd.Series(val_losses)\n",
    "val_auc_scores = pd.Series(val_auc_scores)"
   ]
  },
  {
   "cell_type": "code",
   "execution_count": 61,
   "metadata": {},
   "outputs": [
    {
     "data": {
      "text/plain": [
       "<matplotlib.axes._subplots.AxesSubplot at 0x7f94f25ee6d8>"
      ]
     },
     "execution_count": 61,
     "metadata": {},
     "output_type": "execute_result"
    },
    {
     "data": {
      "image/png": "[encoded data removed]",
      "text/plain": [
       "<matplotlib.figure.Figure at 0x7f95289d26a0>"
      ]
     },
     "metadata": {
      "image/png": {
       "height": 248,
       "width": 378
      }
     },
     "output_type": "display_data"
    }
   ],
   "source": [
    "train_losses.plot()"
   ]
  },
  {
   "cell_type": "code",
   "execution_count": 62,
   "metadata": {},
   "outputs": [
    {
     "data": {
      "text/plain": [
       "<matplotlib.axes._subplots.AxesSubplot at 0x7f93ecc16278>"
      ]
     },
     "execution_count": 62,
     "metadata": {},
     "output_type": "execute_result"
    },
    {
     "data": {
      "image/png": "[encoded data removed]",
      "text/plain": [
       "<matplotlib.figure.Figure at 0x7f95289d2588>"
      ]
     },
     "metadata": {
      "image/png": {
       "height": 248,
       "width": 386
      }
     },
     "output_type": "display_data"
    }
   ],
   "source": [
    "val_losses.plot()"
   ]
  },
  {
   "cell_type": "code",
   "execution_count": 63,
   "metadata": {},
   "outputs": [
    {
     "data": {
      "text/plain": [
       "<matplotlib.axes._subplots.AxesSubplot at 0x7f92fa87dd30>"
      ]
     },
     "execution_count": 63,
     "metadata": {},
     "output_type": "execute_result"
    },
    {
     "data": {
      "image/png": "[encoded data removed]",
      "text/plain": [
       "<matplotlib.figure.Figure at 0x7f94157e64a8>"
      ]
     },
     "metadata": {
      "image/png": {
       "height": 248,
       "width": 380
      }
     },
     "output_type": "display_data"
    }
   ],
   "source": [
    "val_auc_scores.plot()"
   ]
  },
  {
   "cell_type": "code",
   "execution_count": 101,
   "metadata": {},
   "outputs": [
    {
     "data": {
      "text/plain": [
       "<matplotlib.axes._subplots.AxesSubplot at 0x7f94319ee358>"
      ]
     },
     "execution_count": 101,
     "metadata": {},
     "output_type": "execute_result"
    },
    {
     "data": {
      "image/png": "[encoded data removed]",
      "text/plain": [
       "<matplotlib.figure.Figure at 0x7f94c69429e8>"
      ]
     },
     "metadata": {
      "image/png": {
       "height": 248,
       "width": 391
      }
     },
     "output_type": "display_data"
    }
   ],
   "source": [
    "pd.Series(train_losses).plot()"
   ]
  },
  {
   "cell_type": "code",
   "execution_count": 102,
   "metadata": {},
   "outputs": [
    {
     "data": {
      "text/plain": [
       "<matplotlib.axes._subplots.AxesSubplot at 0x7f94ade787f0>"
      ]
     },
     "execution_count": 102,
     "metadata": {},
     "output_type": "execute_result"
    },
    {
     "data": {
      "image/png": "[encoded data removed]",
      "text/plain": [
       "<matplotlib.figure.Figure at 0x7f94a5beb8d0>"
      ]
     },
     "metadata": {
      "image/png": {
       "height": 248,
       "width": 384
      }
     },
     "output_type": "display_data"
    }
   ],
   "source": [
    "pd.Series(val_losses).plot()"
   ]
  },
  {
   "cell_type": "code",
   "execution_count": 103,
   "metadata": {},
   "outputs": [
    {
     "data": {
      "text/plain": [
       "<matplotlib.axes._subplots.AxesSubplot at 0x7f927f4208d0>"
      ]
     },
     "execution_count": 103,
     "metadata": {},
     "output_type": "execute_result"
    },
    {
     "data": {
      "image/png": "[encoded data removed]",
      "text/plain": [
       "<matplotlib.figure.Figure at 0x7f9046f46550>"
      ]
     },
     "metadata": {
      "image/png": {
       "height": 248,
       "width": 384
      }
     },
     "output_type": "display_data"
    }
   ],
   "source": [
    "pd.Series(val_auc_scores).plot()"
   ]
  },
  {
   "cell_type": "code",
   "execution_count": 65,
   "metadata": {},
   "outputs": [],
   "source": [
    "import torch\n",
    "torch.save(model.state_dict(), NEURALNET/'StructuredNet.pkl')"
   ]
  },
  {
   "cell_type": "code",
   "execution_count": null,
   "metadata": {},
   "outputs": [],
   "source": [
    "# Train ROC AUC Score: 0.821242\n",
    "# Train Loss: 0.117414\n",
    "# Validation ROC AUC Score: 0.888768\n",
    "# Validation Loss: 0.107100\n",
    "    \n",
    "# Train ROC AUC Score: 0.826491\n",
    "# Train Loss: 0.116814\n",
    "# Validation ROC AUC Score: 0.881994\n",
    "# Validation Loss: 0.109986"
   ]
  },
  {
   "cell_type": "code",
   "execution_count": null,
   "metadata": {},
   "outputs": [],
   "source": [
    "# Train ROC AUC Score: 0.796762\n",
    "# Train Loss: 0.119966\n",
    "# Validation ROC AUC Score: 0.874341\n",
    "# Validation Loss: 0.111939\n",
    "\n",
    "# Train ROC AUC Score: 0.796169\n",
    "# Train Loss: 0.119166\n",
    "# Validation ROC AUC Score: 0.875377\n",
    "# Validation Loss: 0.111252"
   ]
  },
  {
   "cell_type": "code",
   "execution_count": null,
   "metadata": {},
   "outputs": [],
   "source": [
    "# Train ROC AUC Score: 0.792860\n",
    "# Train Loss: 0.121061\n",
    "# Validation ROC AUC Score: 0.872865\n",
    "# Validation Loss: 0.117293\n",
    "    \n",
    "# Train ROC AUC Score: 0.794502\n",
    "# Train Loss: 0.119734\n",
    "# Validation ROC AUC Score: 0.875042\n",
    "# Validation Loss: 0.112174"
   ]
  },
  {
   "cell_type": "code",
   "execution_count": null,
   "metadata": {},
   "outputs": [],
   "source": []
  },
  {
   "cell_type": "code",
   "execution_count": 51,
   "metadata": {},
   "outputs": [],
   "source": [
    "from src.structured_lstm import get_predictions"
   ]
  },
  {
   "cell_type": "code",
   "execution_count": 54,
   "metadata": {},
   "outputs": [
    {
     "data": {
      "text/plain": [
       "(63303, 3857)"
      ]
     },
     "execution_count": 54,
     "metadata": {},
     "output_type": "execute_result"
    }
   ],
   "source": [
    "len(train_dl), len(val_dl)"
   ]
  },
  {
   "cell_type": "code",
   "execution_count": 52,
   "metadata": {},
   "outputs": [
    {
     "name": "stdout",
     "output_type": "stream",
     "text": [
      "[0/493590 (0%)]\n",
      "[153600/493590 (31%)]\n",
      "[307200/493590 (62%)]\n",
      "[460800/493590 (93%)]\n"
     ]
    }
   ],
   "source": [
    "targets, preds = get_predictions(model, val_dl, USE_CUDA=USE_CUDA)"
   ]
  },
  {
   "cell_type": "code",
   "execution_count": 53,
   "metadata": {},
   "outputs": [
    {
     "data": {
      "text/plain": [
       "0.8714340905872601"
      ]
     },
     "execution_count": 53,
     "metadata": {},
     "output_type": "execute_result"
    }
   ],
   "source": [
    "from sklearn.metrics import roc_auc_score\n",
    "roc_auc_score(targets, preds)"
   ]
  },
  {
   "cell_type": "code",
   "execution_count": null,
   "metadata": {},
   "outputs": [],
   "source": [
    "targets, preds = get_predictions(model, train_dl, USE_CUDA=USE_CUDA)"
   ]
  },
  {
   "cell_type": "code",
   "execution_count": null,
   "metadata": {},
   "outputs": [],
   "source": [
    "roc_auc_score(targets, preds)"
   ]
  },
  {
   "cell_type": "markdown",
   "metadata": {},
   "source": [
    "## All datasets"
   ]
  },
  {
   "cell_type": "code",
   "execution_count": 95,
   "metadata": {},
   "outputs": [
    {
     "name": "stdout",
     "output_type": "stream",
     "text": [
      "CPU times: user 3.33 s, sys: 4.24 s, total: 7.57 s\n",
      "Wall time: 7.57 s\n"
     ]
    }
   ],
   "source": [
    "%%time\n",
    "train_ds = MultimodalDataset(train[cat_cols], train[num_cols],\n",
    "                             train_seqs, train[target_col])\n",
    "val_ds = MultimodalDataset(val[cat_cols], val[num_cols],\n",
    "                             val_seqs, val[target_col])\n",
    "test_ds = MultimodalDataset(test[cat_cols], test[num_cols],\n",
    "                             test_seqs, test[target_col])"
   ]
  },
  {
   "cell_type": "code",
   "execution_count": 96,
   "metadata": {},
   "outputs": [],
   "source": [
    "all_train_ds = torch.utils.data.ConcatDataset([train_ds, val_ds])"
   ]
  },
  {
   "cell_type": "code",
   "execution_count": 97,
   "metadata": {},
   "outputs": [
    {
     "name": "stdout",
     "output_type": "stream",
     "text": [
      "CPU times: user 0 ns, sys: 212 ms, total: 212 ms\n",
      "Wall time: 209 ms\n"
     ]
    }
   ],
   "source": [
    "%%time\n",
    "all_train_dl = DataLoader(all_train_ds, batch_size=128, shuffle=True)\n",
    "test_dl = DataLoader(test_ds, batch_size=128)"
   ]
  },
  {
   "cell_type": "code",
   "execution_count": 98,
   "metadata": {},
   "outputs": [],
   "source": [
    "USE_CUDA = True"
   ]
  },
  {
   "cell_type": "code",
   "execution_count": 99,
   "metadata": {},
   "outputs": [],
   "source": [
    "model = MultimodalNet(emb_szs, n_cont=len(num_cols), emb_drop=0.2,\n",
    "                      szs=[1000,500], drops=[0.5, 0.5],\n",
    "                      rnn_hidden_sz=64, rnn_input_sz=4, rnn_n_layers=2,\n",
    "                      rnn_drop=0.5)\n",
    "\n",
    "if USE_CUDA: model = model.cuda()"
   ]
  },
  {
   "cell_type": "code",
   "execution_count": 104,
   "metadata": {},
   "outputs": [],
   "source": [
    "optimizer = optim.Adam(model.parameters(), lr=1e-3)\n",
    "criterion = nn.BCEWithLogitsLoss()"
   ]
  },
  {
   "cell_type": "code",
   "execution_count": 105,
   "metadata": {},
   "outputs": [
    {
     "name": "stdout",
     "output_type": "stream",
     "text": [
      "Train Epoch: 1 [102400/8596340 (1%)]\tLoss: 0.149132\n",
      "Train Epoch: 1 [204800/8596340 (2%)]\tLoss: 0.134040\n",
      "Train Epoch: 1 [307200/8596340 (4%)]\tLoss: 0.132966\n",
      "Train Epoch: 1 [409600/8596340 (5%)]\tLoss: 0.131704\n",
      "Train Epoch: 1 [512000/8596340 (6%)]\tLoss: 0.132058\n",
      "Train Epoch: 1 [614400/8596340 (7%)]\tLoss: 0.126562\n",
      "Train Epoch: 1 [716800/8596340 (8%)]\tLoss: 0.128623\n",
      "Train Epoch: 1 [819200/8596340 (10%)]\tLoss: 0.129845\n",
      "Train Epoch: 1 [921600/8596340 (11%)]\tLoss: 0.126468\n",
      "Train Epoch: 1 [1024000/8596340 (12%)]\tLoss: 0.124746\n",
      "Train Epoch: 1 [1126400/8596340 (13%)]\tLoss: 0.124627\n",
      "Train Epoch: 1 [1228800/8596340 (14%)]\tLoss: 0.129204\n",
      "Train Epoch: 1 [1331200/8596340 (15%)]\tLoss: 0.127434\n",
      "Train Epoch: 1 [1433600/8596340 (17%)]\tLoss: 0.127579\n",
      "Train Epoch: 1 [1536000/8596340 (18%)]\tLoss: 0.126889\n",
      "Train Epoch: 1 [1638400/8596340 (19%)]\tLoss: 0.125576\n",
      "Train Epoch: 1 [1740800/8596340 (20%)]\tLoss: 0.122636\n",
      "Train Epoch: 1 [1843200/8596340 (21%)]\tLoss: 0.127469\n",
      "Train Epoch: 1 [1945600/8596340 (23%)]\tLoss: 0.125134\n",
      "Train Epoch: 1 [2048000/8596340 (24%)]\tLoss: 0.121632\n",
      "Train Epoch: 1 [2150400/8596340 (25%)]\tLoss: 0.123163\n",
      "Train Epoch: 1 [2252800/8596340 (26%)]\tLoss: 0.125961\n",
      "Train Epoch: 1 [2355200/8596340 (27%)]\tLoss: 0.124013\n",
      "Train Epoch: 1 [2457600/8596340 (29%)]\tLoss: 0.120329\n",
      "Train Epoch: 1 [2560000/8596340 (30%)]\tLoss: 0.122045\n",
      "Train Epoch: 1 [2662400/8596340 (31%)]\tLoss: 0.121621\n",
      "Train Epoch: 1 [2764800/8596340 (32%)]\tLoss: 0.125073\n",
      "Train Epoch: 1 [2867200/8596340 (33%)]\tLoss: 0.120274\n",
      "Train Epoch: 1 [2969600/8596340 (35%)]\tLoss: 0.124053\n",
      "Train Epoch: 1 [3072000/8596340 (36%)]\tLoss: 0.118208\n",
      "Train Epoch: 1 [3174400/8596340 (37%)]\tLoss: 0.122635\n",
      "Train Epoch: 1 [3276800/8596340 (38%)]\tLoss: 0.120520\n",
      "Train Epoch: 1 [3379200/8596340 (39%)]\tLoss: 0.118946\n",
      "Train Epoch: 1 [3481600/8596340 (41%)]\tLoss: 0.123538\n",
      "Train Epoch: 1 [3584000/8596340 (42%)]\tLoss: 0.120521\n",
      "Train Epoch: 1 [3686400/8596340 (43%)]\tLoss: 0.118852\n",
      "Train Epoch: 1 [3788800/8596340 (44%)]\tLoss: 0.122017\n",
      "Train Epoch: 1 [3891200/8596340 (45%)]\tLoss: 0.118164\n",
      "Train Epoch: 1 [3993600/8596340 (46%)]\tLoss: 0.122027\n",
      "Train Epoch: 1 [4096000/8596340 (48%)]\tLoss: 0.119367\n",
      "Train Epoch: 1 [4198400/8596340 (49%)]\tLoss: 0.122418\n",
      "Train Epoch: 1 [4300800/8596340 (50%)]\tLoss: 0.121570\n",
      "Train Epoch: 1 [4403200/8596340 (51%)]\tLoss: 0.119988\n",
      "Train Epoch: 1 [4505600/8596340 (52%)]\tLoss: 0.118801\n",
      "Train Epoch: 1 [4608000/8596340 (54%)]\tLoss: 0.122447\n",
      "Train Epoch: 1 [4710400/8596340 (55%)]\tLoss: 0.121273\n",
      "Train Epoch: 1 [4812800/8596340 (56%)]\tLoss: 0.118621\n",
      "Train Epoch: 1 [4915200/8596340 (57%)]\tLoss: 0.120148\n",
      "Train Epoch: 1 [5017600/8596340 (58%)]\tLoss: 0.120638\n",
      "Train Epoch: 1 [5120000/8596340 (60%)]\tLoss: 0.121636\n",
      "Train Epoch: 1 [5222400/8596340 (61%)]\tLoss: 0.118763\n",
      "Train Epoch: 1 [5324800/8596340 (62%)]\tLoss: 0.120610\n",
      "Train Epoch: 1 [5427200/8596340 (63%)]\tLoss: 0.119828\n",
      "Train Epoch: 1 [5529600/8596340 (64%)]\tLoss: 0.121560\n",
      "Train Epoch: 1 [5632000/8596340 (66%)]\tLoss: 0.119658\n",
      "Train Epoch: 1 [5734400/8596340 (67%)]\tLoss: 0.120504\n",
      "Train Epoch: 1 [5836800/8596340 (68%)]\tLoss: 0.120300\n",
      "Train Epoch: 1 [5939200/8596340 (69%)]\tLoss: 0.119966\n",
      "Train Epoch: 1 [6041600/8596340 (70%)]\tLoss: 0.123047\n",
      "Train Epoch: 1 [6144000/8596340 (71%)]\tLoss: 0.121759\n",
      "Train Epoch: 1 [6246400/8596340 (73%)]\tLoss: 0.119495\n",
      "Train Epoch: 1 [6348800/8596340 (74%)]\tLoss: 0.119986\n",
      "Train Epoch: 1 [6451200/8596340 (75%)]\tLoss: 0.118547\n",
      "Train Epoch: 1 [6553600/8596340 (76%)]\tLoss: 0.119556\n",
      "Train Epoch: 1 [6656000/8596340 (77%)]\tLoss: 0.119380\n",
      "Train Epoch: 1 [6758400/8596340 (79%)]\tLoss: 0.120025\n",
      "Train Epoch: 1 [6860800/8596340 (80%)]\tLoss: 0.117529\n",
      "Train Epoch: 1 [6963200/8596340 (81%)]\tLoss: 0.118589\n",
      "Train Epoch: 1 [7065600/8596340 (82%)]\tLoss: 0.121156\n",
      "Train Epoch: 1 [7168000/8596340 (83%)]\tLoss: 0.119696\n",
      "Train Epoch: 1 [7270400/8596340 (85%)]\tLoss: 0.119020\n",
      "Train Epoch: 1 [7372800/8596340 (86%)]\tLoss: 0.122775\n",
      "Train Epoch: 1 [7475200/8596340 (87%)]\tLoss: 0.118536\n",
      "Train Epoch: 1 [7577600/8596340 (88%)]\tLoss: 0.119508\n",
      "Train Epoch: 1 [7680000/8596340 (89%)]\tLoss: 0.119446\n",
      "Train Epoch: 1 [7782400/8596340 (91%)]\tLoss: 0.119280\n",
      "Train Epoch: 1 [7884800/8596340 (92%)]\tLoss: 0.121878\n",
      "Train Epoch: 1 [7987200/8596340 (93%)]\tLoss: 0.120622\n",
      "Train Epoch: 1 [8089600/8596340 (94%)]\tLoss: 0.118374\n",
      "Train Epoch: 1 [8192000/8596340 (95%)]\tLoss: 0.117068\n",
      "Train Epoch: 1 [8294400/8596340 (96%)]\tLoss: 0.118445\n",
      "Train Epoch: 1 [8396800/8596340 (98%)]\tLoss: 0.115964\n",
      "Train Epoch: 1 [8499200/8596340 (99%)]\tLoss: 0.116872\n",
      "\n",
      "Train Epoch: 2 [102400/8596340 (1%)]\tLoss: 0.118696\n",
      "Train Epoch: 2 [204800/8596340 (2%)]\tLoss: 0.117187\n",
      "Train Epoch: 2 [307200/8596340 (4%)]\tLoss: 0.118328\n",
      "Train Epoch: 2 [409600/8596340 (5%)]\tLoss: 0.117818\n",
      "Train Epoch: 2 [512000/8596340 (6%)]\tLoss: 0.115721\n",
      "Train Epoch: 2 [614400/8596340 (7%)]\tLoss: 0.117568\n",
      "Train Epoch: 2 [716800/8596340 (8%)]\tLoss: 0.120027\n",
      "Train Epoch: 2 [819200/8596340 (10%)]\tLoss: 0.117554\n",
      "Train Epoch: 2 [921600/8596340 (11%)]\tLoss: 0.119933\n",
      "Train Epoch: 2 [1024000/8596340 (12%)]\tLoss: 0.118340\n",
      "Train Epoch: 2 [1126400/8596340 (13%)]\tLoss: 0.115878\n",
      "Train Epoch: 2 [1228800/8596340 (14%)]\tLoss: 0.117145\n",
      "Train Epoch: 2 [1331200/8596340 (15%)]\tLoss: 0.119307\n",
      "Train Epoch: 2 [1433600/8596340 (17%)]\tLoss: 0.116264\n",
      "Train Epoch: 2 [1536000/8596340 (18%)]\tLoss: 0.117631\n",
      "Train Epoch: 2 [1638400/8596340 (19%)]\tLoss: 0.120069\n",
      "Train Epoch: 2 [1740800/8596340 (20%)]\tLoss: 0.117237\n",
      "Train Epoch: 2 [1843200/8596340 (21%)]\tLoss: 0.119176\n",
      "Train Epoch: 2 [1945600/8596340 (23%)]\tLoss: 0.116574\n",
      "Train Epoch: 2 [2048000/8596340 (24%)]\tLoss: 0.117662\n",
      "Train Epoch: 2 [2150400/8596340 (25%)]\tLoss: 0.117574\n",
      "Train Epoch: 2 [2252800/8596340 (26%)]\tLoss: 0.117723\n",
      "Train Epoch: 2 [2355200/8596340 (27%)]\tLoss: 0.120139\n",
      "Train Epoch: 2 [2457600/8596340 (29%)]\tLoss: 0.117232\n",
      "Train Epoch: 2 [2560000/8596340 (30%)]\tLoss: 0.118696\n",
      "Train Epoch: 2 [2662400/8596340 (31%)]\tLoss: 0.119460\n",
      "Train Epoch: 2 [2764800/8596340 (32%)]\tLoss: 0.118764\n",
      "Train Epoch: 2 [2867200/8596340 (33%)]\tLoss: 0.118347\n",
      "Train Epoch: 2 [2969600/8596340 (35%)]\tLoss: 0.114699\n",
      "Train Epoch: 2 [3072000/8596340 (36%)]\tLoss: 0.114886\n",
      "Train Epoch: 2 [3174400/8596340 (37%)]\tLoss: 0.118578\n",
      "Train Epoch: 2 [3276800/8596340 (38%)]\tLoss: 0.117293\n",
      "Train Epoch: 2 [3379200/8596340 (39%)]\tLoss: 0.115949\n",
      "Train Epoch: 2 [3481600/8596340 (41%)]\tLoss: 0.118026\n",
      "Train Epoch: 2 [3584000/8596340 (42%)]\tLoss: 0.117231\n",
      "Train Epoch: 2 [3686400/8596340 (43%)]\tLoss: 0.117622\n",
      "Train Epoch: 2 [3788800/8596340 (44%)]\tLoss: 0.117448\n",
      "Train Epoch: 2 [3891200/8596340 (45%)]\tLoss: 0.117537\n",
      "Train Epoch: 2 [3993600/8596340 (46%)]\tLoss: 0.117994\n",
      "Train Epoch: 2 [4096000/8596340 (48%)]\tLoss: 0.118258\n",
      "Train Epoch: 2 [4198400/8596340 (49%)]\tLoss: 0.117009\n",
      "Train Epoch: 2 [4300800/8596340 (50%)]\tLoss: 0.117790\n",
      "Train Epoch: 2 [4403200/8596340 (51%)]\tLoss: 0.117101\n",
      "Train Epoch: 2 [4505600/8596340 (52%)]\tLoss: 0.117600\n",
      "Train Epoch: 2 [4608000/8596340 (54%)]\tLoss: 0.118898\n",
      "Train Epoch: 2 [4710400/8596340 (55%)]\tLoss: 0.117122\n",
      "Train Epoch: 2 [4812800/8596340 (56%)]\tLoss: 0.119246\n",
      "Train Epoch: 2 [4915200/8596340 (57%)]\tLoss: 0.119033\n",
      "Train Epoch: 2 [5017600/8596340 (58%)]\tLoss: 0.119404\n",
      "Train Epoch: 2 [5120000/8596340 (60%)]\tLoss: 0.116889\n",
      "Train Epoch: 2 [5222400/8596340 (61%)]\tLoss: 0.117682\n",
      "Train Epoch: 2 [5324800/8596340 (62%)]\tLoss: 0.117972\n",
      "Train Epoch: 2 [5427200/8596340 (63%)]\tLoss: 0.118734\n",
      "Train Epoch: 2 [5529600/8596340 (64%)]\tLoss: 0.116317\n",
      "Train Epoch: 2 [5632000/8596340 (66%)]\tLoss: 0.119567\n",
      "Train Epoch: 2 [5734400/8596340 (67%)]\tLoss: 0.119973\n",
      "Train Epoch: 2 [5836800/8596340 (68%)]\tLoss: 0.117650\n",
      "Train Epoch: 2 [5939200/8596340 (69%)]\tLoss: 0.115900\n",
      "Train Epoch: 2 [6041600/8596340 (70%)]\tLoss: 0.121978\n",
      "Train Epoch: 2 [6144000/8596340 (71%)]\tLoss: 0.119729\n",
      "Train Epoch: 2 [6246400/8596340 (73%)]\tLoss: 0.117885\n",
      "Train Epoch: 2 [6348800/8596340 (74%)]\tLoss: 0.117638\n",
      "Train Epoch: 2 [6451200/8596340 (75%)]\tLoss: 0.116361\n",
      "Train Epoch: 2 [6553600/8596340 (76%)]\tLoss: 0.115053\n",
      "Train Epoch: 2 [6656000/8596340 (77%)]\tLoss: 0.118269\n",
      "Train Epoch: 2 [6758400/8596340 (79%)]\tLoss: 0.116295\n",
      "Train Epoch: 2 [6860800/8596340 (80%)]\tLoss: 0.116747\n",
      "Train Epoch: 2 [6963200/8596340 (81%)]\tLoss: 0.120496\n",
      "Train Epoch: 2 [7065600/8596340 (82%)]\tLoss: 0.119277\n",
      "Train Epoch: 2 [7168000/8596340 (83%)]\tLoss: 0.118056\n",
      "Train Epoch: 2 [7270400/8596340 (85%)]\tLoss: 0.118975\n",
      "Train Epoch: 2 [7372800/8596340 (86%)]\tLoss: 0.118211\n",
      "Train Epoch: 2 [7475200/8596340 (87%)]\tLoss: 0.118269\n",
      "Train Epoch: 2 [7577600/8596340 (88%)]\tLoss: 0.118494\n",
      "Train Epoch: 2 [7680000/8596340 (89%)]\tLoss: 0.117224\n",
      "Train Epoch: 2 [7782400/8596340 (91%)]\tLoss: 0.116209\n",
      "Train Epoch: 2 [7884800/8596340 (92%)]\tLoss: 0.118234\n",
      "Train Epoch: 2 [7987200/8596340 (93%)]\tLoss: 0.117177\n",
      "Train Epoch: 2 [8089600/8596340 (94%)]\tLoss: 0.115676\n",
      "Train Epoch: 2 [8192000/8596340 (95%)]\tLoss: 0.115017\n",
      "Train Epoch: 2 [8294400/8596340 (96%)]\tLoss: 0.116130\n",
      "Train Epoch: 2 [8396800/8596340 (98%)]\tLoss: 0.116575\n",
      "Train Epoch: 2 [8499200/8596340 (99%)]\tLoss: 0.117381\n",
      "\n",
      "CPU times: user 21min 50s, sys: 17.3 s, total: 22min 7s\n",
      "Wall time: 22min 5s\n"
     ]
    }
   ],
   "source": [
    "%%time\n",
    "model, train_losses, _, _ = train_model(\n",
    "                model, all_train_dl, None, optimizer, criterion,\n",
    "                n_epochs=2, USE_CUDA=USE_CUDA, print_every=800)"
   ]
  },
  {
   "cell_type": "code",
   "execution_count": 116,
   "metadata": {},
   "outputs": [
    {
     "name": "stdout",
     "output_type": "stream",
     "text": [
      "Train Epoch: 1 [102400/8596340 (1%)]\tLoss: 0.117061\n",
      "Train Epoch: 1 [204800/8596340 (2%)]\tLoss: 0.114934\n",
      "Train Epoch: 1 [307200/8596340 (4%)]\tLoss: 0.114511\n",
      "Train Epoch: 1 [409600/8596340 (5%)]\tLoss: 0.113955\n",
      "Train Epoch: 1 [512000/8596340 (6%)]\tLoss: 0.120114\n",
      "Train Epoch: 1 [614400/8596340 (7%)]\tLoss: 0.115972\n",
      "Train Epoch: 1 [716800/8596340 (8%)]\tLoss: 0.117178\n",
      "Train Epoch: 1 [819200/8596340 (10%)]\tLoss: 0.115625\n",
      "Train Epoch: 1 [921600/8596340 (11%)]\tLoss: 0.114849\n",
      "Train Epoch: 1 [1024000/8596340 (12%)]\tLoss: 0.116056\n",
      "Train Epoch: 1 [1126400/8596340 (13%)]\tLoss: 0.115640\n",
      "Train Epoch: 1 [1228800/8596340 (14%)]\tLoss: 0.117489\n",
      "Train Epoch: 1 [1331200/8596340 (15%)]\tLoss: 0.116842\n",
      "Train Epoch: 1 [1433600/8596340 (17%)]\tLoss: 0.116462\n",
      "Train Epoch: 1 [1536000/8596340 (18%)]\tLoss: 0.116334\n",
      "Train Epoch: 1 [1638400/8596340 (19%)]\tLoss: 0.115166\n",
      "Train Epoch: 1 [1740800/8596340 (20%)]\tLoss: 0.116613\n",
      "Train Epoch: 1 [1843200/8596340 (21%)]\tLoss: 0.115511\n",
      "Train Epoch: 1 [1945600/8596340 (23%)]\tLoss: 0.116588\n",
      "Train Epoch: 1 [2048000/8596340 (24%)]\tLoss: 0.117330\n",
      "Train Epoch: 1 [2150400/8596340 (25%)]\tLoss: 0.115987\n",
      "Train Epoch: 1 [2252800/8596340 (26%)]\tLoss: 0.117769\n",
      "Train Epoch: 1 [2355200/8596340 (27%)]\tLoss: 0.114365\n",
      "Train Epoch: 1 [2457600/8596340 (29%)]\tLoss: 0.116845\n",
      "Train Epoch: 1 [2560000/8596340 (30%)]\tLoss: 0.115369\n",
      "Train Epoch: 1 [2662400/8596340 (31%)]\tLoss: 0.118439\n",
      "Train Epoch: 1 [2764800/8596340 (32%)]\tLoss: 0.117029\n",
      "Train Epoch: 1 [2867200/8596340 (33%)]\tLoss: 0.117795\n",
      "Train Epoch: 1 [2969600/8596340 (35%)]\tLoss: 0.114358\n",
      "Train Epoch: 1 [3072000/8596340 (36%)]\tLoss: 0.115816\n",
      "Train Epoch: 1 [3174400/8596340 (37%)]\tLoss: 0.114847\n",
      "Train Epoch: 1 [3276800/8596340 (38%)]\tLoss: 0.116939\n",
      "Train Epoch: 1 [3379200/8596340 (39%)]\tLoss: 0.117200\n",
      "Train Epoch: 1 [3481600/8596340 (41%)]\tLoss: 0.117244\n",
      "Train Epoch: 1 [3584000/8596340 (42%)]\tLoss: 0.118517\n",
      "Train Epoch: 1 [3686400/8596340 (43%)]\tLoss: 0.114623\n",
      "Train Epoch: 1 [3788800/8596340 (44%)]\tLoss: 0.115583\n",
      "Train Epoch: 1 [3891200/8596340 (45%)]\tLoss: 0.114949\n",
      "Train Epoch: 1 [3993600/8596340 (46%)]\tLoss: 0.115532\n",
      "Train Epoch: 1 [4096000/8596340 (48%)]\tLoss: 0.116527\n",
      "Train Epoch: 1 [4198400/8596340 (49%)]\tLoss: 0.116087\n",
      "Train Epoch: 1 [4300800/8596340 (50%)]\tLoss: 0.115157\n",
      "Train Epoch: 1 [4403200/8596340 (51%)]\tLoss: 0.117471\n",
      "Train Epoch: 1 [4505600/8596340 (52%)]\tLoss: 0.115306\n",
      "Train Epoch: 1 [4608000/8596340 (54%)]\tLoss: 0.114302\n",
      "Train Epoch: 1 [4710400/8596340 (55%)]\tLoss: 0.117443\n",
      "Train Epoch: 1 [4812800/8596340 (56%)]\tLoss: 0.117016\n",
      "Train Epoch: 1 [4915200/8596340 (57%)]\tLoss: 0.114967\n",
      "Train Epoch: 1 [5017600/8596340 (58%)]\tLoss: 0.118291\n",
      "Train Epoch: 1 [5120000/8596340 (60%)]\tLoss: 0.116873\n",
      "Train Epoch: 1 [5222400/8596340 (61%)]\tLoss: 0.115416\n",
      "Train Epoch: 1 [5324800/8596340 (62%)]\tLoss: 0.115836\n",
      "Train Epoch: 1 [5427200/8596340 (63%)]\tLoss: 0.117933\n",
      "Train Epoch: 1 [5529600/8596340 (64%)]\tLoss: 0.115165\n",
      "Train Epoch: 1 [5632000/8596340 (66%)]\tLoss: 0.115220\n",
      "Train Epoch: 1 [5734400/8596340 (67%)]\tLoss: 0.115545\n",
      "Train Epoch: 1 [5836800/8596340 (68%)]\tLoss: 0.115903\n",
      "Train Epoch: 1 [5939200/8596340 (69%)]\tLoss: 0.115906\n",
      "Train Epoch: 1 [6041600/8596340 (70%)]\tLoss: 0.114831\n",
      "Train Epoch: 1 [6144000/8596340 (71%)]\tLoss: 0.117952\n",
      "Train Epoch: 1 [6246400/8596340 (73%)]\tLoss: 0.116693\n",
      "Train Epoch: 1 [6348800/8596340 (74%)]\tLoss: 0.117112\n",
      "Train Epoch: 1 [6451200/8596340 (75%)]\tLoss: 0.116131\n"
     ]
    },
    {
     "ename": "KeyboardInterrupt",
     "evalue": "",
     "output_type": "error",
     "traceback": [
      "\u001b[0;31m---------------------------------------------------------------------------\u001b[0m",
      "\u001b[0;31mKeyboardInterrupt\u001b[0m                         Traceback (most recent call last)",
      "\u001b[0;32m<timed exec>\u001b[0m in \u001b[0;36m<module>\u001b[0;34m()\u001b[0m\n",
      "\u001b[0;32m~/Documents/DSG-2018/src/structured_lstm.py\u001b[0m in \u001b[0;36mtrain_model\u001b[0;34m(model, train_loader, val_loader, optimizer, criterion, n_epochs, print_every, val_every, USE_CUDA)\u001b[0m\n\u001b[1;32m    172\u001b[0m                                     \u001b[0mseqs\u001b[0m\u001b[0;34m.\u001b[0m\u001b[0mcuda\u001b[0m\u001b[0;34m(\u001b[0m\u001b[0;34m)\u001b[0m\u001b[0;34m,\u001b[0m \u001b[0mtarget\u001b[0m\u001b[0;34m.\u001b[0m\u001b[0mcuda\u001b[0m\u001b[0;34m(\u001b[0m\u001b[0;34m)\u001b[0m\u001b[0;34m,\u001b[0m \u001b[0mhidden\u001b[0m\u001b[0;34m.\u001b[0m\u001b[0mcuda\u001b[0m\u001b[0;34m(\u001b[0m\u001b[0;34m)\u001b[0m\u001b[0;34m\u001b[0m\u001b[0m\n\u001b[1;32m    173\u001b[0m             train_loss += train_step(model, cats, conts, seqs, hidden, \n\u001b[0;32m--> 174\u001b[0;31m                                      target, optimizer, criterion)\n\u001b[0m\u001b[1;32m    175\u001b[0m \u001b[0;34m\u001b[0m\u001b[0m\n\u001b[1;32m    176\u001b[0m             \u001b[0;32mif\u001b[0m \u001b[0mbatch_idx\u001b[0m \u001b[0;34m>\u001b[0m \u001b[0;36m0\u001b[0m \u001b[0;32mand\u001b[0m \u001b[0mbatch_idx\u001b[0m \u001b[0;34m%\u001b[0m \u001b[0mprint_every\u001b[0m \u001b[0;34m==\u001b[0m \u001b[0;36m0\u001b[0m\u001b[0;34m:\u001b[0m\u001b[0;34m\u001b[0m\u001b[0m\n",
      "\u001b[0;32m~/Documents/DSG-2018/src/structured_lstm.py\u001b[0m in \u001b[0;36mtrain_step\u001b[0;34m(model, cats, conts, seqs, hidden, targets, optimizer, criterion)\u001b[0m\n\u001b[1;32m    124\u001b[0m     \u001b[0mmodel\u001b[0m\u001b[0;34m.\u001b[0m\u001b[0mtrain\u001b[0m\u001b[0;34m(\u001b[0m\u001b[0;34m)\u001b[0m\u001b[0;34m\u001b[0m\u001b[0m\n\u001b[1;32m    125\u001b[0m     \u001b[0moptimizer\u001b[0m\u001b[0;34m.\u001b[0m\u001b[0mzero_grad\u001b[0m\u001b[0;34m(\u001b[0m\u001b[0;34m)\u001b[0m\u001b[0;34m\u001b[0m\u001b[0m\n\u001b[0;32m--> 126\u001b[0;31m     \u001b[0mpreds\u001b[0m \u001b[0;34m=\u001b[0m \u001b[0mmodel\u001b[0m\u001b[0;34m(\u001b[0m\u001b[0mcats\u001b[0m\u001b[0;34m,\u001b[0m \u001b[0mconts\u001b[0m\u001b[0;34m,\u001b[0m \u001b[0mseqs\u001b[0m\u001b[0;34m,\u001b[0m \u001b[0mhidden\u001b[0m\u001b[0;34m)\u001b[0m\u001b[0;34m\u001b[0m\u001b[0m\n\u001b[0m\u001b[1;32m    127\u001b[0m     \u001b[0mloss\u001b[0m \u001b[0;34m=\u001b[0m \u001b[0mcriterion\u001b[0m\u001b[0;34m(\u001b[0m\u001b[0mpreds\u001b[0m\u001b[0;34m.\u001b[0m\u001b[0mview\u001b[0m\u001b[0;34m(\u001b[0m\u001b[0;34m-\u001b[0m\u001b[0;36m1\u001b[0m\u001b[0;34m)\u001b[0m\u001b[0;34m,\u001b[0m \u001b[0mtargets\u001b[0m\u001b[0;34m)\u001b[0m\u001b[0;34m\u001b[0m\u001b[0m\n\u001b[1;32m    128\u001b[0m     \u001b[0mloss\u001b[0m\u001b[0;34m.\u001b[0m\u001b[0mbackward\u001b[0m\u001b[0;34m(\u001b[0m\u001b[0;34m)\u001b[0m\u001b[0;34m\u001b[0m\u001b[0m\n",
      "\u001b[0;32m~/anaconda3/envs/chana/lib/python3.6/site-packages/torch/nn/modules/module.py\u001b[0m in \u001b[0;36m__call__\u001b[0;34m(self, *input, **kwargs)\u001b[0m\n\u001b[1;32m    489\u001b[0m             \u001b[0mresult\u001b[0m \u001b[0;34m=\u001b[0m \u001b[0mself\u001b[0m\u001b[0;34m.\u001b[0m\u001b[0m_slow_forward\u001b[0m\u001b[0;34m(\u001b[0m\u001b[0;34m*\u001b[0m\u001b[0minput\u001b[0m\u001b[0;34m,\u001b[0m \u001b[0;34m**\u001b[0m\u001b[0mkwargs\u001b[0m\u001b[0;34m)\u001b[0m\u001b[0;34m\u001b[0m\u001b[0m\n\u001b[1;32m    490\u001b[0m         \u001b[0;32melse\u001b[0m\u001b[0;34m:\u001b[0m\u001b[0;34m\u001b[0m\u001b[0m\n\u001b[0;32m--> 491\u001b[0;31m             \u001b[0mresult\u001b[0m \u001b[0;34m=\u001b[0m \u001b[0mself\u001b[0m\u001b[0;34m.\u001b[0m\u001b[0mforward\u001b[0m\u001b[0;34m(\u001b[0m\u001b[0;34m*\u001b[0m\u001b[0minput\u001b[0m\u001b[0;34m,\u001b[0m \u001b[0;34m**\u001b[0m\u001b[0mkwargs\u001b[0m\u001b[0;34m)\u001b[0m\u001b[0;34m\u001b[0m\u001b[0m\n\u001b[0m\u001b[1;32m    492\u001b[0m         \u001b[0;32mfor\u001b[0m \u001b[0mhook\u001b[0m \u001b[0;32min\u001b[0m \u001b[0mself\u001b[0m\u001b[0;34m.\u001b[0m\u001b[0m_forward_hooks\u001b[0m\u001b[0;34m.\u001b[0m\u001b[0mvalues\u001b[0m\u001b[0;34m(\u001b[0m\u001b[0;34m)\u001b[0m\u001b[0;34m:\u001b[0m\u001b[0;34m\u001b[0m\u001b[0m\n\u001b[1;32m    493\u001b[0m             \u001b[0mhook_result\u001b[0m \u001b[0;34m=\u001b[0m \u001b[0mhook\u001b[0m\u001b[0;34m(\u001b[0m\u001b[0mself\u001b[0m\u001b[0;34m,\u001b[0m \u001b[0minput\u001b[0m\u001b[0;34m,\u001b[0m \u001b[0mresult\u001b[0m\u001b[0;34m)\u001b[0m\u001b[0;34m\u001b[0m\u001b[0m\n",
      "\u001b[0;32m~/Documents/DSG-2018/src/structured_lstm.py\u001b[0m in \u001b[0;36mforward\u001b[0;34m(self, cats, conts, seqs, hidden)\u001b[0m\n\u001b[1;32m    108\u001b[0m     \u001b[0;32mdef\u001b[0m \u001b[0mforward\u001b[0m\u001b[0;34m(\u001b[0m\u001b[0mself\u001b[0m\u001b[0;34m,\u001b[0m \u001b[0mcats\u001b[0m\u001b[0;34m,\u001b[0m \u001b[0mconts\u001b[0m\u001b[0;34m,\u001b[0m \u001b[0mseqs\u001b[0m\u001b[0;34m,\u001b[0m \u001b[0mhidden\u001b[0m\u001b[0;34m)\u001b[0m\u001b[0;34m:\u001b[0m\u001b[0;34m\u001b[0m\u001b[0m\n\u001b[1;32m    109\u001b[0m         \u001b[0;31m# seqs: [bs, inp, seq]\u001b[0m\u001b[0;34m\u001b[0m\u001b[0;34m\u001b[0m\u001b[0m\n\u001b[0;32m--> 110\u001b[0;31m         \u001b[0mx\u001b[0m \u001b[0;34m=\u001b[0m \u001b[0mself\u001b[0m\u001b[0;34m.\u001b[0m\u001b[0mstructured_net\u001b[0m\u001b[0;34m(\u001b[0m\u001b[0mcats\u001b[0m\u001b[0;34m,\u001b[0m \u001b[0mconts\u001b[0m\u001b[0;34m)\u001b[0m \u001b[0;31m# [bs, hs]\u001b[0m\u001b[0;34m\u001b[0m\u001b[0m\n\u001b[0m\u001b[1;32m    111\u001b[0m         \u001b[0;31m# cell = x.unsqueeze(0).repeat(self.rnn_n_layers, 1, 1) # [nlay, bs, hs]\u001b[0m\u001b[0;34m\u001b[0m\u001b[0;34m\u001b[0m\u001b[0m\n\u001b[1;32m    112\u001b[0m         \u001b[0mcell\u001b[0m \u001b[0;34m=\u001b[0m \u001b[0mx\u001b[0m\u001b[0;34m.\u001b[0m\u001b[0munsqueeze\u001b[0m\u001b[0;34m(\u001b[0m\u001b[0;36m0\u001b[0m\u001b[0;34m)\u001b[0m\u001b[0;34m.\u001b[0m\u001b[0mexpand\u001b[0m\u001b[0;34m(\u001b[0m\u001b[0mself\u001b[0m\u001b[0;34m.\u001b[0m\u001b[0mrnn_n_layers\u001b[0m\u001b[0;34m,\u001b[0m \u001b[0;34m-\u001b[0m\u001b[0;36m1\u001b[0m\u001b[0;34m,\u001b[0m \u001b[0;34m-\u001b[0m\u001b[0;36m1\u001b[0m\u001b[0;34m)\u001b[0m\u001b[0;34m.\u001b[0m\u001b[0mcontiguous\u001b[0m\u001b[0;34m(\u001b[0m\u001b[0;34m)\u001b[0m\u001b[0;34m\u001b[0m\u001b[0m\n",
      "\u001b[0;32m~/anaconda3/envs/chana/lib/python3.6/site-packages/torch/nn/modules/module.py\u001b[0m in \u001b[0;36m__call__\u001b[0;34m(self, *input, **kwargs)\u001b[0m\n\u001b[1;32m    489\u001b[0m             \u001b[0mresult\u001b[0m \u001b[0;34m=\u001b[0m \u001b[0mself\u001b[0m\u001b[0;34m.\u001b[0m\u001b[0m_slow_forward\u001b[0m\u001b[0;34m(\u001b[0m\u001b[0;34m*\u001b[0m\u001b[0minput\u001b[0m\u001b[0;34m,\u001b[0m \u001b[0;34m**\u001b[0m\u001b[0mkwargs\u001b[0m\u001b[0;34m)\u001b[0m\u001b[0;34m\u001b[0m\u001b[0m\n\u001b[1;32m    490\u001b[0m         \u001b[0;32melse\u001b[0m\u001b[0;34m:\u001b[0m\u001b[0;34m\u001b[0m\u001b[0m\n\u001b[0;32m--> 491\u001b[0;31m             \u001b[0mresult\u001b[0m \u001b[0;34m=\u001b[0m \u001b[0mself\u001b[0m\u001b[0;34m.\u001b[0m\u001b[0mforward\u001b[0m\u001b[0;34m(\u001b[0m\u001b[0;34m*\u001b[0m\u001b[0minput\u001b[0m\u001b[0;34m,\u001b[0m \u001b[0;34m**\u001b[0m\u001b[0mkwargs\u001b[0m\u001b[0;34m)\u001b[0m\u001b[0;34m\u001b[0m\u001b[0m\n\u001b[0m\u001b[1;32m    492\u001b[0m         \u001b[0;32mfor\u001b[0m \u001b[0mhook\u001b[0m \u001b[0;32min\u001b[0m \u001b[0mself\u001b[0m\u001b[0;34m.\u001b[0m\u001b[0m_forward_hooks\u001b[0m\u001b[0;34m.\u001b[0m\u001b[0mvalues\u001b[0m\u001b[0;34m(\u001b[0m\u001b[0;34m)\u001b[0m\u001b[0;34m:\u001b[0m\u001b[0;34m\u001b[0m\u001b[0m\n\u001b[1;32m    493\u001b[0m             \u001b[0mhook_result\u001b[0m \u001b[0;34m=\u001b[0m \u001b[0mhook\u001b[0m\u001b[0;34m(\u001b[0m\u001b[0mself\u001b[0m\u001b[0;34m,\u001b[0m \u001b[0minput\u001b[0m\u001b[0;34m,\u001b[0m \u001b[0mresult\u001b[0m\u001b[0;34m)\u001b[0m\u001b[0;34m\u001b[0m\u001b[0m\n",
      "\u001b[0;32m~/Documents/DSG-2018/src/neuralnet.py\u001b[0m in \u001b[0;36mforward\u001b[0;34m(self, x_cat, x_cont)\u001b[0m\n\u001b[1;32m     66\u001b[0m             \u001b[0mx\u001b[0m \u001b[0;34m=\u001b[0m \u001b[0mtorch\u001b[0m\u001b[0;34m.\u001b[0m\u001b[0mcat\u001b[0m\u001b[0;34m(\u001b[0m\u001b[0;34m[\u001b[0m\u001b[0mx\u001b[0m\u001b[0;34m,\u001b[0m \u001b[0mx2\u001b[0m\u001b[0;34m]\u001b[0m\u001b[0;34m,\u001b[0m \u001b[0;36m1\u001b[0m\u001b[0;34m)\u001b[0m \u001b[0;32mif\u001b[0m \u001b[0mself\u001b[0m\u001b[0;34m.\u001b[0m\u001b[0mn_emb\u001b[0m \u001b[0;34m!=\u001b[0m \u001b[0;36m0\u001b[0m \u001b[0;32melse\u001b[0m \u001b[0mx2\u001b[0m\u001b[0;34m\u001b[0m\u001b[0m\n\u001b[1;32m     67\u001b[0m         \u001b[0;32mfor\u001b[0m \u001b[0mlin\u001b[0m\u001b[0;34m,\u001b[0m \u001b[0mdrop\u001b[0m\u001b[0;34m,\u001b[0m \u001b[0mbn\u001b[0m \u001b[0;32min\u001b[0m \u001b[0mzip\u001b[0m\u001b[0;34m(\u001b[0m\u001b[0mself\u001b[0m\u001b[0;34m.\u001b[0m\u001b[0mlins\u001b[0m\u001b[0;34m,\u001b[0m \u001b[0mself\u001b[0m\u001b[0;34m.\u001b[0m\u001b[0mdrops\u001b[0m\u001b[0;34m,\u001b[0m \u001b[0mself\u001b[0m\u001b[0;34m.\u001b[0m\u001b[0mbns\u001b[0m\u001b[0;34m)\u001b[0m\u001b[0;34m:\u001b[0m\u001b[0;34m\u001b[0m\u001b[0m\n\u001b[0;32m---> 68\u001b[0;31m             \u001b[0mx\u001b[0m \u001b[0;34m=\u001b[0m \u001b[0mF\u001b[0m\u001b[0;34m.\u001b[0m\u001b[0mrelu\u001b[0m\u001b[0;34m(\u001b[0m\u001b[0mlin\u001b[0m\u001b[0;34m(\u001b[0m\u001b[0mx\u001b[0m\u001b[0;34m)\u001b[0m\u001b[0;34m)\u001b[0m\u001b[0;34m\u001b[0m\u001b[0m\n\u001b[0m\u001b[1;32m     69\u001b[0m             \u001b[0;32mif\u001b[0m \u001b[0mself\u001b[0m\u001b[0;34m.\u001b[0m\u001b[0muse_bn\u001b[0m\u001b[0;34m:\u001b[0m\u001b[0;34m\u001b[0m\u001b[0m\n\u001b[1;32m     70\u001b[0m                 \u001b[0mx\u001b[0m \u001b[0;34m=\u001b[0m \u001b[0mbn\u001b[0m\u001b[0;34m(\u001b[0m\u001b[0mx\u001b[0m\u001b[0;34m)\u001b[0m\u001b[0;34m\u001b[0m\u001b[0m\n",
      "\u001b[0;32m~/anaconda3/envs/chana/lib/python3.6/site-packages/torch/nn/modules/module.py\u001b[0m in \u001b[0;36m__call__\u001b[0;34m(self, *input, **kwargs)\u001b[0m\n\u001b[1;32m    489\u001b[0m             \u001b[0mresult\u001b[0m \u001b[0;34m=\u001b[0m \u001b[0mself\u001b[0m\u001b[0;34m.\u001b[0m\u001b[0m_slow_forward\u001b[0m\u001b[0;34m(\u001b[0m\u001b[0;34m*\u001b[0m\u001b[0minput\u001b[0m\u001b[0;34m,\u001b[0m \u001b[0;34m**\u001b[0m\u001b[0mkwargs\u001b[0m\u001b[0;34m)\u001b[0m\u001b[0;34m\u001b[0m\u001b[0m\n\u001b[1;32m    490\u001b[0m         \u001b[0;32melse\u001b[0m\u001b[0;34m:\u001b[0m\u001b[0;34m\u001b[0m\u001b[0m\n\u001b[0;32m--> 491\u001b[0;31m             \u001b[0mresult\u001b[0m \u001b[0;34m=\u001b[0m \u001b[0mself\u001b[0m\u001b[0;34m.\u001b[0m\u001b[0mforward\u001b[0m\u001b[0;34m(\u001b[0m\u001b[0;34m*\u001b[0m\u001b[0minput\u001b[0m\u001b[0;34m,\u001b[0m \u001b[0;34m**\u001b[0m\u001b[0mkwargs\u001b[0m\u001b[0;34m)\u001b[0m\u001b[0;34m\u001b[0m\u001b[0m\n\u001b[0m\u001b[1;32m    492\u001b[0m         \u001b[0;32mfor\u001b[0m \u001b[0mhook\u001b[0m \u001b[0;32min\u001b[0m \u001b[0mself\u001b[0m\u001b[0;34m.\u001b[0m\u001b[0m_forward_hooks\u001b[0m\u001b[0;34m.\u001b[0m\u001b[0mvalues\u001b[0m\u001b[0;34m(\u001b[0m\u001b[0;34m)\u001b[0m\u001b[0;34m:\u001b[0m\u001b[0;34m\u001b[0m\u001b[0m\n\u001b[1;32m    493\u001b[0m             \u001b[0mhook_result\u001b[0m \u001b[0;34m=\u001b[0m \u001b[0mhook\u001b[0m\u001b[0;34m(\u001b[0m\u001b[0mself\u001b[0m\u001b[0;34m,\u001b[0m \u001b[0minput\u001b[0m\u001b[0;34m,\u001b[0m \u001b[0mresult\u001b[0m\u001b[0;34m)\u001b[0m\u001b[0;34m\u001b[0m\u001b[0m\n",
      "\u001b[0;32m~/anaconda3/envs/chana/lib/python3.6/site-packages/torch/nn/modules/linear.py\u001b[0m in \u001b[0;36mforward\u001b[0;34m(self, input)\u001b[0m\n\u001b[1;32m     53\u001b[0m \u001b[0;34m\u001b[0m\u001b[0m\n\u001b[1;32m     54\u001b[0m     \u001b[0;32mdef\u001b[0m \u001b[0mforward\u001b[0m\u001b[0;34m(\u001b[0m\u001b[0mself\u001b[0m\u001b[0;34m,\u001b[0m \u001b[0minput\u001b[0m\u001b[0;34m)\u001b[0m\u001b[0;34m:\u001b[0m\u001b[0;34m\u001b[0m\u001b[0m\n\u001b[0;32m---> 55\u001b[0;31m         \u001b[0;32mreturn\u001b[0m \u001b[0mF\u001b[0m\u001b[0;34m.\u001b[0m\u001b[0mlinear\u001b[0m\u001b[0;34m(\u001b[0m\u001b[0minput\u001b[0m\u001b[0;34m,\u001b[0m \u001b[0mself\u001b[0m\u001b[0;34m.\u001b[0m\u001b[0mweight\u001b[0m\u001b[0;34m,\u001b[0m \u001b[0mself\u001b[0m\u001b[0;34m.\u001b[0m\u001b[0mbias\u001b[0m\u001b[0;34m)\u001b[0m\u001b[0;34m\u001b[0m\u001b[0m\n\u001b[0m\u001b[1;32m     56\u001b[0m \u001b[0;34m\u001b[0m\u001b[0m\n\u001b[1;32m     57\u001b[0m     \u001b[0;32mdef\u001b[0m \u001b[0mextra_repr\u001b[0m\u001b[0;34m(\u001b[0m\u001b[0mself\u001b[0m\u001b[0;34m)\u001b[0m\u001b[0;34m:\u001b[0m\u001b[0;34m\u001b[0m\u001b[0m\n",
      "\u001b[0;32m~/anaconda3/envs/chana/lib/python3.6/site-packages/torch/nn/functional.py\u001b[0m in \u001b[0;36mlinear\u001b[0;34m(input, weight, bias)\u001b[0m\n\u001b[1;32m    990\u001b[0m     \u001b[0;32mif\u001b[0m \u001b[0minput\u001b[0m\u001b[0;34m.\u001b[0m\u001b[0mdim\u001b[0m\u001b[0;34m(\u001b[0m\u001b[0;34m)\u001b[0m \u001b[0;34m==\u001b[0m \u001b[0;36m2\u001b[0m \u001b[0;32mand\u001b[0m \u001b[0mbias\u001b[0m \u001b[0;32mis\u001b[0m \u001b[0;32mnot\u001b[0m \u001b[0;32mNone\u001b[0m\u001b[0;34m:\u001b[0m\u001b[0;34m\u001b[0m\u001b[0m\n\u001b[1;32m    991\u001b[0m         \u001b[0;31m# fused op is marginally faster\u001b[0m\u001b[0;34m\u001b[0m\u001b[0;34m\u001b[0m\u001b[0m\n\u001b[0;32m--> 992\u001b[0;31m         \u001b[0;32mreturn\u001b[0m \u001b[0mtorch\u001b[0m\u001b[0;34m.\u001b[0m\u001b[0maddmm\u001b[0m\u001b[0;34m(\u001b[0m\u001b[0mbias\u001b[0m\u001b[0;34m,\u001b[0m \u001b[0minput\u001b[0m\u001b[0;34m,\u001b[0m \u001b[0mweight\u001b[0m\u001b[0;34m.\u001b[0m\u001b[0mt\u001b[0m\u001b[0;34m(\u001b[0m\u001b[0;34m)\u001b[0m\u001b[0;34m)\u001b[0m\u001b[0;34m\u001b[0m\u001b[0m\n\u001b[0m\u001b[1;32m    993\u001b[0m \u001b[0;34m\u001b[0m\u001b[0m\n\u001b[1;32m    994\u001b[0m     \u001b[0moutput\u001b[0m \u001b[0;34m=\u001b[0m \u001b[0minput\u001b[0m\u001b[0;34m.\u001b[0m\u001b[0mmatmul\u001b[0m\u001b[0;34m(\u001b[0m\u001b[0mweight\u001b[0m\u001b[0;34m.\u001b[0m\u001b[0mt\u001b[0m\u001b[0;34m(\u001b[0m\u001b[0;34m)\u001b[0m\u001b[0;34m)\u001b[0m\u001b[0;34m\u001b[0m\u001b[0m\n",
      "\u001b[0;31mKeyboardInterrupt\u001b[0m: "
     ]
    }
   ],
   "source": [
    "%%time\n",
    "model, train_losses, _, _ = train_model(\n",
    "                model, all_train_dl, None, optimizer, criterion,\n",
    "                n_epochs=1, USE_CUDA=USE_CUDA, print_every=800)"
   ]
  },
  {
   "cell_type": "markdown",
   "metadata": {},
   "source": [
    "## Additional epoch"
   ]
  },
  {
   "cell_type": "code",
   "execution_count": 117,
   "metadata": {},
   "outputs": [
    {
     "data": {
      "text/plain": [
       "<matplotlib.axes._subplots.AxesSubplot at 0x7f94c6938438>"
      ]
     },
     "execution_count": 117,
     "metadata": {},
     "output_type": "execute_result"
    },
    {
     "data": {
      "image/png": "[encoded data removed]",
      "text/plain": [
       "<matplotlib.figure.Figure at 0x7f94b2477908>"
      ]
     },
     "metadata": {
      "image/png": {
       "height": 248,
       "width": 384
      }
     },
     "output_type": "display_data"
    }
   ],
   "source": [
    "train_losses = pd.Series(train_losses)\n",
    "train_losses.plot()"
   ]
  },
  {
   "cell_type": "code",
   "execution_count": 118,
   "metadata": {},
   "outputs": [
    {
     "name": "stdout",
     "output_type": "stream",
     "text": [
      "[0/484758 (0%)]\n",
      "[153600/484758 (32%)]\n",
      "[307200/484758 (63%)]\n",
      "[460800/484758 (95%)]\n"
     ]
    }
   ],
   "source": [
    "targets, preds = get_predictions(model, test_dl, USE_CUDA=True)"
   ]
  },
  {
   "cell_type": "code",
   "execution_count": 119,
   "metadata": {},
   "outputs": [],
   "source": [
    "test[target_col] = preds"
   ]
  },
  {
   "cell_type": "code",
   "execution_count": 120,
   "metadata": {},
   "outputs": [],
   "source": [
    "submission = pd.read_csv(RAW/'sample_submission.csv', low_memory=False)\n",
    "submission = pd.merge(submission[['PredictionIdx']], test[['PredictionIdx', target_col]], \n",
    "                      how='left', on='PredictionIdx')"
   ]
  },
  {
   "cell_type": "code",
   "execution_count": 121,
   "metadata": {},
   "outputs": [],
   "source": [
    "submission.to_csv(SUBMISSIONS/'RA08-29-3_epochs_FinalStructuredLSTM_2018.csv', index=False)"
   ]
  },
  {
   "cell_type": "markdown",
   "metadata": {},
   "source": [
    "## Final submission"
   ]
  },
  {
   "cell_type": "code",
   "execution_count": 106,
   "metadata": {},
   "outputs": [
    {
     "data": {
      "text/plain": [
       "<matplotlib.axes._subplots.AxesSubplot at 0x7f9357c99f28>"
      ]
     },
     "execution_count": 106,
     "metadata": {},
     "output_type": "execute_result"
    },
    {
     "data": {
      "image/png": "[encoded data removed]",
      "text/plain": [
       "<matplotlib.figure.Figure at 0x7f92f94f1eb8>"
      ]
     },
     "metadata": {
      "image/png": {
       "height": 248,
       "width": 384
      }
     },
     "output_type": "display_data"
    }
   ],
   "source": [
    "train_losses = pd.Series(train_losses)\n",
    "train_losses.plot()"
   ]
  },
  {
   "cell_type": "code",
   "execution_count": 107,
   "metadata": {},
   "outputs": [],
   "source": [
    "torch.save(model.state_dict(), NEURALNET/'AllTrain_FinalNet.pkl')"
   ]
  },
  {
   "cell_type": "code",
   "execution_count": 108,
   "metadata": {},
   "outputs": [],
   "source": [
    "from src.structured_lstm import get_predictions"
   ]
  },
  {
   "cell_type": "code",
   "execution_count": 109,
   "metadata": {},
   "outputs": [
    {
     "name": "stdout",
     "output_type": "stream",
     "text": [
      "[0/484758 (0%)]\n",
      "[153600/484758 (32%)]\n",
      "[307200/484758 (63%)]\n",
      "[460800/484758 (95%)]\n"
     ]
    }
   ],
   "source": [
    "targets, preds = get_predictions(model, test_dl, USE_CUDA=True)"
   ]
  },
  {
   "cell_type": "code",
   "execution_count": 110,
   "metadata": {},
   "outputs": [],
   "source": [
    "test[target_col] = preds"
   ]
  },
  {
   "cell_type": "code",
   "execution_count": 115,
   "metadata": {},
   "outputs": [
    {
     "data": {
      "text/plain": [
       "(484758, 484758, 484758)"
      ]
     },
     "execution_count": 115,
     "metadata": {},
     "output_type": "execute_result"
    }
   ],
   "source": [
    "len(test), len(preds), len(targets)"
   ]
  },
  {
   "cell_type": "code",
   "execution_count": 113,
   "metadata": {},
   "outputs": [
    {
     "data": {
      "text/html": [
       "<div>\n",
       "<style scoped>\n",
       "    .dataframe tbody tr th:only-of-type {\n",
       "        vertical-align: middle;\n",
       "    }\n",
       "\n",
       "    .dataframe tbody tr th {\n",
       "        vertical-align: top;\n",
       "    }\n",
       "\n",
       "    .dataframe thead th {\n",
       "        text-align: right;\n",
       "    }\n",
       "</style>\n",
       "<table border=\"1\" class=\"dataframe\">\n",
       "  <thead>\n",
       "    <tr style=\"text-align: right;\">\n",
       "      <th></th>\n",
       "      <th>PredictionIdx</th>\n",
       "      <th>CustomerInterest</th>\n",
       "    </tr>\n",
       "  </thead>\n",
       "  <tbody>\n",
       "    <tr>\n",
       "      <th>0</th>\n",
       "      <td>a1e0d80784</td>\n",
       "      <td>0.041435</td>\n",
       "    </tr>\n",
       "    <tr>\n",
       "      <th>1</th>\n",
       "      <td>c2cc6cc2a8</td>\n",
       "      <td>0.046257</td>\n",
       "    </tr>\n",
       "    <tr>\n",
       "      <th>2</th>\n",
       "      <td>a8e94f6344</td>\n",
       "      <td>0.002685</td>\n",
       "    </tr>\n",
       "    <tr>\n",
       "      <th>3</th>\n",
       "      <td>758bae1e35</td>\n",
       "      <td>0.000578</td>\n",
       "    </tr>\n",
       "    <tr>\n",
       "      <th>4</th>\n",
       "      <td>02ab378ee8</td>\n",
       "      <td>0.001583</td>\n",
       "    </tr>\n",
       "  </tbody>\n",
       "</table>\n",
       "</div>"
      ],
      "text/plain": [
       "  PredictionIdx  CustomerInterest\n",
       "0    a1e0d80784          0.041435\n",
       "1    c2cc6cc2a8          0.046257\n",
       "2    a8e94f6344          0.002685\n",
       "3    758bae1e35          0.000578\n",
       "4    02ab378ee8          0.001583"
      ]
     },
     "execution_count": 113,
     "metadata": {},
     "output_type": "execute_result"
    }
   ],
   "source": [
    "submission.head()"
   ]
  },
  {
   "cell_type": "code",
   "execution_count": 111,
   "metadata": {},
   "outputs": [],
   "source": [
    "submission = pd.read_csv(RAW/'sample_submission.csv', low_memory=False)\n",
    "submission = pd.merge(submission[['PredictionIdx']], test[['PredictionIdx', target_col]], \n",
    "                      how='left', on='PredictionIdx')"
   ]
  },
  {
   "cell_type": "code",
   "execution_count": 112,
   "metadata": {},
   "outputs": [
    {
     "data": {
      "text/plain": [
       "<matplotlib.axes._subplots.AxesSubplot at 0x7f94a1eff860>"
      ]
     },
     "execution_count": 112,
     "metadata": {},
     "output_type": "execute_result"
    },
    {
     "data": {
      "image/png": "[encoded data removed]",
      "text/plain": [
       "<matplotlib.figure.Figure at 0x7f931add2198>"
      ]
     },
     "metadata": {
      "image/png": {
       "height": 251,
       "width": 394
      }
     },
     "output_type": "display_data"
    }
   ],
   "source": [
    "submission[target_col].hist(bins=50)"
   ]
  },
  {
   "cell_type": "code",
   "execution_count": 114,
   "metadata": {},
   "outputs": [],
   "source": [
    "submission.to_csv(SUBMISSIONS/'RA07-30-FinalStructuredLSTM_2018.csv', index=False)"
   ]
  },
  {
   "cell_type": "markdown",
   "metadata": {},
   "source": [
    "## Checkpoint"
   ]
  },
  {
   "cell_type": "code",
   "execution_count": 73,
   "metadata": {},
   "outputs": [
    {
     "name": "stdout",
     "output_type": "stream",
     "text": [
      "Train Epoch: 1 [25600/8596340 (0%)]\tLoss: 0.174241\n",
      "Train Epoch: 1 [51200/8596340 (1%)]\tLoss: 0.138858\n",
      "Train Epoch: 1 [76800/8596340 (1%)]\tLoss: 0.135397\n",
      "Train Epoch: 1 [102400/8596340 (1%)]\tLoss: 0.136882\n",
      "Train Epoch: 1 [128000/8596340 (1%)]\tLoss: 0.126548\n",
      "Train Epoch: 1 [153600/8596340 (2%)]\tLoss: 0.130697\n",
      "Train Epoch: 1 [179200/8596340 (2%)]\tLoss: 0.133879\n",
      "Train Epoch: 1 [204800/8596340 (2%)]\tLoss: 0.125986\n",
      "Train Epoch: 1 [230400/8596340 (3%)]\tLoss: 0.134231\n",
      "Train Epoch: 1 [256000/8596340 (3%)]\tLoss: 0.131977\n",
      "Train Epoch: 1 [281600/8596340 (3%)]\tLoss: 0.126725\n",
      "Train Epoch: 1 [307200/8596340 (4%)]\tLoss: 0.131182\n",
      "Train Epoch: 1 [332800/8596340 (4%)]\tLoss: 0.132204\n",
      "Train Epoch: 1 [358400/8596340 (4%)]\tLoss: 0.126656\n",
      "Train Epoch: 1 [384000/8596340 (4%)]\tLoss: 0.127485\n",
      "Train Epoch: 1 [409600/8596340 (5%)]\tLoss: 0.124951\n",
      "Train Epoch: 1 [435200/8596340 (5%)]\tLoss: 0.135411\n",
      "Train Epoch: 1 [460800/8596340 (5%)]\tLoss: 0.132066\n",
      "Train Epoch: 1 [486400/8596340 (6%)]\tLoss: 0.135259\n",
      "Train Epoch: 1 [512000/8596340 (6%)]\tLoss: 0.124877\n",
      "Train Epoch: 1 [537600/8596340 (6%)]\tLoss: 0.123481\n",
      "Train Epoch: 1 [563200/8596340 (7%)]\tLoss: 0.135018\n",
      "Train Epoch: 1 [588800/8596340 (7%)]\tLoss: 0.126236\n",
      "Train Epoch: 1 [614400/8596340 (7%)]\tLoss: 0.130345\n",
      "Train Epoch: 1 [640000/8596340 (7%)]\tLoss: 0.128177\n",
      "Train Epoch: 1 [665600/8596340 (8%)]\tLoss: 0.130134\n",
      "Train Epoch: 1 [691200/8596340 (8%)]\tLoss: 0.128674\n",
      "Train Epoch: 1 [716800/8596340 (8%)]\tLoss: 0.125879\n",
      "Train Epoch: 1 [742400/8596340 (9%)]\tLoss: 0.130839\n",
      "Train Epoch: 1 [768000/8596340 (9%)]\tLoss: 0.123616\n",
      "Train Epoch: 1 [793600/8596340 (9%)]\tLoss: 0.126122\n",
      "Train Epoch: 1 [819200/8596340 (10%)]\tLoss: 0.123429\n",
      "Train Epoch: 1 [844800/8596340 (10%)]\tLoss: 0.129050\n",
      "Train Epoch: 1 [870400/8596340 (10%)]\tLoss: 0.126062\n",
      "Train Epoch: 1 [896000/8596340 (10%)]\tLoss: 0.123360\n",
      "Train Epoch: 1 [921600/8596340 (11%)]\tLoss: 0.131171\n",
      "Train Epoch: 1 [947200/8596340 (11%)]\tLoss: 0.120921\n",
      "Train Epoch: 1 [972800/8596340 (11%)]\tLoss: 0.127464\n",
      "Train Epoch: 1 [998400/8596340 (12%)]\tLoss: 0.127410\n",
      "Train Epoch: 1 [1024000/8596340 (12%)]\tLoss: 0.129948\n",
      "Train Epoch: 1 [1049600/8596340 (12%)]\tLoss: 0.133237\n",
      "Train Epoch: 1 [1075200/8596340 (13%)]\tLoss: 0.128892\n",
      "Train Epoch: 1 [1100800/8596340 (13%)]\tLoss: 0.131536\n",
      "Train Epoch: 1 [1126400/8596340 (13%)]\tLoss: 0.126017\n",
      "Train Epoch: 1 [1152000/8596340 (13%)]\tLoss: 0.127275\n",
      "Train Epoch: 1 [1177600/8596340 (14%)]\tLoss: 0.128394\n",
      "Train Epoch: 1 [1203200/8596340 (14%)]\tLoss: 0.123793\n",
      "Train Epoch: 1 [1228800/8596340 (14%)]\tLoss: 0.132595\n",
      "Train Epoch: 1 [1254400/8596340 (15%)]\tLoss: 0.129080\n",
      "Train Epoch: 1 [1280000/8596340 (15%)]\tLoss: 0.126725\n",
      "Train Epoch: 1 [1305600/8596340 (15%)]\tLoss: 0.134975\n",
      "Train Epoch: 1 [1331200/8596340 (15%)]\tLoss: 0.129222\n",
      "Train Epoch: 1 [1356800/8596340 (16%)]\tLoss: 0.124156\n",
      "Train Epoch: 1 [1382400/8596340 (16%)]\tLoss: 0.121469\n",
      "Train Epoch: 1 [1408000/8596340 (16%)]\tLoss: 0.130901\n",
      "Train Epoch: 1 [1433600/8596340 (17%)]\tLoss: 0.120993\n",
      "Train Epoch: 1 [1459200/8596340 (17%)]\tLoss: 0.126680\n",
      "Train Epoch: 1 [1484800/8596340 (17%)]\tLoss: 0.127621\n",
      "Train Epoch: 1 [1510400/8596340 (18%)]\tLoss: 0.130932\n",
      "Train Epoch: 1 [1536000/8596340 (18%)]\tLoss: 0.122198\n",
      "Train Epoch: 1 [1561600/8596340 (18%)]\tLoss: 0.121855\n",
      "Train Epoch: 1 [1587200/8596340 (18%)]\tLoss: 0.125532\n",
      "Train Epoch: 1 [1612800/8596340 (19%)]\tLoss: 0.127455\n",
      "Train Epoch: 1 [1638400/8596340 (19%)]\tLoss: 0.125194\n",
      "Train Epoch: 1 [1664000/8596340 (19%)]\tLoss: 0.119960\n",
      "Train Epoch: 1 [1689600/8596340 (20%)]\tLoss: 0.125971\n",
      "Train Epoch: 1 [1715200/8596340 (20%)]\tLoss: 0.122110\n",
      "Train Epoch: 1 [1740800/8596340 (20%)]\tLoss: 0.123557\n",
      "Train Epoch: 1 [1766400/8596340 (21%)]\tLoss: 0.123643\n",
      "Train Epoch: 1 [1792000/8596340 (21%)]\tLoss: 0.127482\n",
      "Train Epoch: 1 [1817600/8596340 (21%)]\tLoss: 0.122127\n",
      "Train Epoch: 1 [1843200/8596340 (21%)]\tLoss: 0.120627\n",
      "Train Epoch: 1 [1868800/8596340 (22%)]\tLoss: 0.123550\n",
      "Train Epoch: 1 [1894400/8596340 (22%)]\tLoss: 0.125286\n",
      "Train Epoch: 1 [1920000/8596340 (22%)]\tLoss: 0.121334\n",
      "Train Epoch: 1 [1945600/8596340 (23%)]\tLoss: 0.126504\n",
      "Train Epoch: 1 [1971200/8596340 (23%)]\tLoss: 0.127099\n",
      "Train Epoch: 1 [1996800/8596340 (23%)]\tLoss: 0.127414\n",
      "Train Epoch: 1 [2022400/8596340 (24%)]\tLoss: 0.123673\n",
      "Train Epoch: 1 [2048000/8596340 (24%)]\tLoss: 0.118664\n",
      "Train Epoch: 1 [2073600/8596340 (24%)]\tLoss: 0.125007\n",
      "Train Epoch: 1 [2099200/8596340 (24%)]\tLoss: 0.124588\n",
      "Train Epoch: 1 [2124800/8596340 (25%)]\tLoss: 0.128750\n",
      "Train Epoch: 1 [2150400/8596340 (25%)]\tLoss: 0.122455\n",
      "Train Epoch: 1 [2176000/8596340 (25%)]\tLoss: 0.118376\n",
      "Train Epoch: 1 [2201600/8596340 (26%)]\tLoss: 0.125944\n",
      "Train Epoch: 1 [2227200/8596340 (26%)]\tLoss: 0.126354\n",
      "Train Epoch: 1 [2252800/8596340 (26%)]\tLoss: 0.121687\n",
      "Train Epoch: 1 [2278400/8596340 (27%)]\tLoss: 0.124332\n",
      "Train Epoch: 1 [2304000/8596340 (27%)]\tLoss: 0.126340\n",
      "Train Epoch: 1 [2329600/8596340 (27%)]\tLoss: 0.125621\n",
      "Train Epoch: 1 [2355200/8596340 (27%)]\tLoss: 0.127662\n",
      "Train Epoch: 1 [2380800/8596340 (28%)]\tLoss: 0.121904\n",
      "Train Epoch: 1 [2406400/8596340 (28%)]\tLoss: 0.130555\n",
      "Train Epoch: 1 [2432000/8596340 (28%)]\tLoss: 0.129769\n",
      "Train Epoch: 1 [2457600/8596340 (29%)]\tLoss: 0.124558\n",
      "Train Epoch: 1 [2483200/8596340 (29%)]\tLoss: 0.124229\n",
      "Train Epoch: 1 [2508800/8596340 (29%)]\tLoss: 0.125488\n",
      "Train Epoch: 1 [2534400/8596340 (29%)]\tLoss: 0.123729\n",
      "Train Epoch: 1 [2560000/8596340 (30%)]\tLoss: 0.128929\n",
      "Train Epoch: 1 [2585600/8596340 (30%)]\tLoss: 0.128591\n",
      "Train Epoch: 1 [2611200/8596340 (30%)]\tLoss: 0.121042\n",
      "Train Epoch: 1 [2636800/8596340 (31%)]\tLoss: 0.123893\n",
      "Train Epoch: 1 [2662400/8596340 (31%)]\tLoss: 0.124201\n",
      "Train Epoch: 1 [2688000/8596340 (31%)]\tLoss: 0.125178\n",
      "Train Epoch: 1 [2713600/8596340 (32%)]\tLoss: 0.126380\n",
      "Train Epoch: 1 [2739200/8596340 (32%)]\tLoss: 0.117197\n",
      "Train Epoch: 1 [2764800/8596340 (32%)]\tLoss: 0.127620\n",
      "Train Epoch: 1 [2790400/8596340 (32%)]\tLoss: 0.120476\n",
      "Train Epoch: 1 [2816000/8596340 (33%)]\tLoss: 0.127809\n",
      "Train Epoch: 1 [2841600/8596340 (33%)]\tLoss: 0.121405\n",
      "Train Epoch: 1 [2867200/8596340 (33%)]\tLoss: 0.122781\n",
      "Train Epoch: 1 [2892800/8596340 (34%)]\tLoss: 0.123339\n",
      "Train Epoch: 1 [2918400/8596340 (34%)]\tLoss: 0.126065\n",
      "Train Epoch: 1 [2944000/8596340 (34%)]\tLoss: 0.120211\n",
      "Train Epoch: 1 [2969600/8596340 (35%)]\tLoss: 0.127832\n",
      "Train Epoch: 1 [2995200/8596340 (35%)]\tLoss: 0.126347\n",
      "Train Epoch: 1 [3020800/8596340 (35%)]\tLoss: 0.129774\n",
      "Train Epoch: 1 [3046400/8596340 (35%)]\tLoss: 0.124487\n",
      "Train Epoch: 1 [3072000/8596340 (36%)]\tLoss: 0.127674\n",
      "Train Epoch: 1 [3097600/8596340 (36%)]\tLoss: 0.126934\n",
      "Train Epoch: 1 [3123200/8596340 (36%)]\tLoss: 0.129701\n",
      "Train Epoch: 1 [3148800/8596340 (37%)]\tLoss: 0.121269\n",
      "Train Epoch: 1 [3174400/8596340 (37%)]\tLoss: 0.120484\n",
      "Train Epoch: 1 [3200000/8596340 (37%)]\tLoss: 0.123210\n",
      "Train Epoch: 1 [3225600/8596340 (38%)]\tLoss: 0.121155\n",
      "Train Epoch: 1 [3251200/8596340 (38%)]\tLoss: 0.129096\n",
      "Train Epoch: 1 [3276800/8596340 (38%)]\tLoss: 0.124649\n",
      "Train Epoch: 1 [3302400/8596340 (38%)]\tLoss: 0.118913\n",
      "Train Epoch: 1 [3328000/8596340 (39%)]\tLoss: 0.122556\n",
      "Train Epoch: 1 [3353600/8596340 (39%)]\tLoss: 0.129676\n",
      "Train Epoch: 1 [3379200/8596340 (39%)]\tLoss: 0.120940\n",
      "Train Epoch: 1 [3404800/8596340 (40%)]\tLoss: 0.123976\n",
      "Train Epoch: 1 [3430400/8596340 (40%)]\tLoss: 0.124714\n",
      "Train Epoch: 1 [3456000/8596340 (40%)]\tLoss: 0.123344\n",
      "Train Epoch: 1 [3481600/8596340 (41%)]\tLoss: 0.124643\n",
      "Train Epoch: 1 [3507200/8596340 (41%)]\tLoss: 0.123886\n",
      "Train Epoch: 1 [3532800/8596340 (41%)]\tLoss: 0.127462\n",
      "Train Epoch: 1 [3558400/8596340 (41%)]\tLoss: 0.124737\n",
      "Train Epoch: 1 [3584000/8596340 (42%)]\tLoss: 0.123537\n",
      "Train Epoch: 1 [3609600/8596340 (42%)]\tLoss: 0.121664\n",
      "Train Epoch: 1 [3635200/8596340 (42%)]\tLoss: 0.118868\n",
      "Train Epoch: 1 [3660800/8596340 (43%)]\tLoss: 0.130727\n",
      "Train Epoch: 1 [3686400/8596340 (43%)]\tLoss: 0.126550\n",
      "Train Epoch: 1 [3712000/8596340 (43%)]\tLoss: 0.121898\n",
      "Train Epoch: 1 [3737600/8596340 (43%)]\tLoss: 0.125614\n",
      "Train Epoch: 1 [3763200/8596340 (44%)]\tLoss: 0.131260\n",
      "Train Epoch: 1 [3788800/8596340 (44%)]\tLoss: 0.118902\n",
      "Train Epoch: 1 [3814400/8596340 (44%)]\tLoss: 0.125423\n",
      "Train Epoch: 1 [3840000/8596340 (45%)]\tLoss: 0.127155\n",
      "Train Epoch: 1 [3865600/8596340 (45%)]\tLoss: 0.121014\n",
      "Train Epoch: 1 [3891200/8596340 (45%)]\tLoss: 0.129324\n",
      "Train Epoch: 1 [3916800/8596340 (46%)]\tLoss: 0.123901\n",
      "Train Epoch: 1 [3942400/8596340 (46%)]\tLoss: 0.128280\n",
      "Train Epoch: 1 [3968000/8596340 (46%)]\tLoss: 0.127274\n",
      "Train Epoch: 1 [3993600/8596340 (46%)]\tLoss: 0.125664\n",
      "Train Epoch: 1 [4019200/8596340 (47%)]\tLoss: 0.120947\n",
      "Train Epoch: 1 [4044800/8596340 (47%)]\tLoss: 0.123777\n",
      "Train Epoch: 1 [4070400/8596340 (47%)]\tLoss: 0.123249\n",
      "Train Epoch: 1 [4096000/8596340 (48%)]\tLoss: 0.122632\n",
      "Train Epoch: 1 [4121600/8596340 (48%)]\tLoss: 0.125574\n",
      "Train Epoch: 1 [4147200/8596340 (48%)]\tLoss: 0.127252\n",
      "Train Epoch: 1 [4172800/8596340 (49%)]\tLoss: 0.127382\n",
      "Train Epoch: 1 [4198400/8596340 (49%)]\tLoss: 0.127665\n",
      "Train Epoch: 1 [4224000/8596340 (49%)]\tLoss: 0.128818\n",
      "Train Epoch: 1 [4249600/8596340 (49%)]\tLoss: 0.124745\n",
      "Train Epoch: 1 [4275200/8596340 (50%)]\tLoss: 0.124580\n",
      "Train Epoch: 1 [4300800/8596340 (50%)]\tLoss: 0.124857\n",
      "Train Epoch: 1 [4326400/8596340 (50%)]\tLoss: 0.126608\n",
      "Train Epoch: 1 [4352000/8596340 (51%)]\tLoss: 0.117640\n",
      "Train Epoch: 1 [4377600/8596340 (51%)]\tLoss: 0.125544\n",
      "Train Epoch: 1 [4403200/8596340 (51%)]\tLoss: 0.125122\n",
      "Train Epoch: 1 [4428800/8596340 (52%)]\tLoss: 0.122487\n",
      "Train Epoch: 1 [4454400/8596340 (52%)]\tLoss: 0.123012\n",
      "Train Epoch: 1 [4480000/8596340 (52%)]\tLoss: 0.123451\n",
      "Train Epoch: 1 [4505600/8596340 (52%)]\tLoss: 0.126466\n",
      "Train Epoch: 1 [4531200/8596340 (53%)]\tLoss: 0.124722\n",
      "Train Epoch: 1 [4556800/8596340 (53%)]\tLoss: 0.126683\n",
      "Train Epoch: 1 [4582400/8596340 (53%)]\tLoss: 0.129563\n",
      "Train Epoch: 1 [4608000/8596340 (54%)]\tLoss: 0.123430\n",
      "Train Epoch: 1 [4633600/8596340 (54%)]\tLoss: 0.125063\n",
      "Train Epoch: 1 [4659200/8596340 (54%)]\tLoss: 0.125870\n",
      "Train Epoch: 1 [4684800/8596340 (54%)]\tLoss: 0.125099\n",
      "Train Epoch: 1 [4710400/8596340 (55%)]\tLoss: 0.123376\n",
      "Train Epoch: 1 [4736000/8596340 (55%)]\tLoss: 0.130479\n",
      "Train Epoch: 1 [4761600/8596340 (55%)]\tLoss: 0.127601\n",
      "Train Epoch: 1 [4787200/8596340 (56%)]\tLoss: 0.120857\n",
      "Train Epoch: 1 [4812800/8596340 (56%)]\tLoss: 0.121323\n",
      "Train Epoch: 1 [4838400/8596340 (56%)]\tLoss: 0.125310\n",
      "Train Epoch: 1 [4864000/8596340 (57%)]\tLoss: 0.119898\n",
      "Train Epoch: 1 [4889600/8596340 (57%)]\tLoss: 0.121491\n",
      "Train Epoch: 1 [4915200/8596340 (57%)]\tLoss: 0.121774\n",
      "Train Epoch: 1 [4940800/8596340 (57%)]\tLoss: 0.130879\n",
      "Train Epoch: 1 [4966400/8596340 (58%)]\tLoss: 0.123663\n",
      "Train Epoch: 1 [4992000/8596340 (58%)]\tLoss: 0.125370\n",
      "Train Epoch: 1 [5017600/8596340 (58%)]\tLoss: 0.125435\n",
      "Train Epoch: 1 [5043200/8596340 (59%)]\tLoss: 0.127989\n",
      "Train Epoch: 1 [5068800/8596340 (59%)]\tLoss: 0.133775\n",
      "Train Epoch: 1 [5094400/8596340 (59%)]\tLoss: 0.126628\n",
      "Train Epoch: 1 [5120000/8596340 (60%)]\tLoss: 0.117678\n",
      "Train Epoch: 1 [5145600/8596340 (60%)]\tLoss: 0.121119\n",
      "Train Epoch: 1 [5171200/8596340 (60%)]\tLoss: 0.126237\n",
      "Train Epoch: 1 [5196800/8596340 (60%)]\tLoss: 0.127223\n",
      "Train Epoch: 1 [5222400/8596340 (61%)]\tLoss: 0.124980\n",
      "Train Epoch: 1 [5248000/8596340 (61%)]\tLoss: 0.125080\n",
      "Train Epoch: 1 [5273600/8596340 (61%)]\tLoss: 0.124435\n",
      "Train Epoch: 1 [5299200/8596340 (62%)]\tLoss: 0.121730\n",
      "Train Epoch: 1 [5324800/8596340 (62%)]\tLoss: 0.119598\n",
      "Train Epoch: 1 [5350400/8596340 (62%)]\tLoss: 0.124267\n",
      "Train Epoch: 1 [5376000/8596340 (63%)]\tLoss: 0.121257\n",
      "Train Epoch: 1 [5401600/8596340 (63%)]\tLoss: 0.123398\n",
      "Train Epoch: 1 [5427200/8596340 (63%)]\tLoss: 0.117737\n",
      "Train Epoch: 1 [5452800/8596340 (63%)]\tLoss: 0.124498\n",
      "Train Epoch: 1 [5478400/8596340 (64%)]\tLoss: 0.122269\n",
      "Train Epoch: 1 [5504000/8596340 (64%)]\tLoss: 0.129557\n",
      "Train Epoch: 1 [5529600/8596340 (64%)]\tLoss: 0.122070\n",
      "Train Epoch: 1 [5555200/8596340 (65%)]\tLoss: 0.120891\n",
      "Train Epoch: 1 [5580800/8596340 (65%)]\tLoss: 0.125222\n",
      "Train Epoch: 1 [5606400/8596340 (65%)]\tLoss: 0.131622\n",
      "Train Epoch: 1 [5632000/8596340 (66%)]\tLoss: 0.125661\n",
      "Train Epoch: 1 [5657600/8596340 (66%)]\tLoss: 0.131841\n",
      "Train Epoch: 1 [5683200/8596340 (66%)]\tLoss: 0.127706\n",
      "Train Epoch: 1 [5708800/8596340 (66%)]\tLoss: 0.130710\n",
      "Train Epoch: 1 [5734400/8596340 (67%)]\tLoss: 0.131406\n",
      "Train Epoch: 1 [5760000/8596340 (67%)]\tLoss: 0.123641\n",
      "Train Epoch: 1 [5785600/8596340 (67%)]\tLoss: 0.124182\n",
      "Train Epoch: 1 [5811200/8596340 (68%)]\tLoss: 0.126065\n",
      "Train Epoch: 1 [5836800/8596340 (68%)]\tLoss: 0.124294\n",
      "Train Epoch: 1 [5862400/8596340 (68%)]\tLoss: 0.121722\n",
      "Train Epoch: 1 [5888000/8596340 (68%)]\tLoss: 0.124582\n",
      "Train Epoch: 1 [5913600/8596340 (69%)]\tLoss: 0.127981\n",
      "Train Epoch: 1 [5939200/8596340 (69%)]\tLoss: 0.128258\n",
      "Train Epoch: 1 [5964800/8596340 (69%)]\tLoss: 0.123479\n",
      "Train Epoch: 1 [5990400/8596340 (70%)]\tLoss: 0.123365\n",
      "Train Epoch: 1 [6016000/8596340 (70%)]\tLoss: 0.128889\n",
      "Train Epoch: 1 [6041600/8596340 (70%)]\tLoss: 0.134153\n",
      "Train Epoch: 1 [6067200/8596340 (71%)]\tLoss: 0.127940\n",
      "Train Epoch: 1 [6092800/8596340 (71%)]\tLoss: 0.123237\n",
      "Train Epoch: 1 [6118400/8596340 (71%)]\tLoss: 0.128544\n",
      "Train Epoch: 1 [6144000/8596340 (71%)]\tLoss: 0.126546\n",
      "Train Epoch: 1 [6169600/8596340 (72%)]\tLoss: 0.121328\n",
      "Train Epoch: 1 [6195200/8596340 (72%)]\tLoss: 0.115880\n",
      "Train Epoch: 1 [6220800/8596340 (72%)]\tLoss: 0.127902\n",
      "Train Epoch: 1 [6246400/8596340 (73%)]\tLoss: 0.123129\n",
      "Train Epoch: 1 [6272000/8596340 (73%)]\tLoss: 0.124895\n",
      "Train Epoch: 1 [6297600/8596340 (73%)]\tLoss: 0.125861\n",
      "Train Epoch: 1 [6323200/8596340 (74%)]\tLoss: 0.124926\n",
      "Train Epoch: 1 [6348800/8596340 (74%)]\tLoss: 0.131387\n",
      "Train Epoch: 1 [6374400/8596340 (74%)]\tLoss: 0.124623\n",
      "Train Epoch: 1 [6400000/8596340 (74%)]\tLoss: 0.122224\n",
      "Train Epoch: 1 [6425600/8596340 (75%)]\tLoss: 0.121107\n",
      "Train Epoch: 1 [6451200/8596340 (75%)]\tLoss: 0.120713\n",
      "Train Epoch: 1 [6476800/8596340 (75%)]\tLoss: 0.126580\n",
      "Train Epoch: 1 [6502400/8596340 (76%)]\tLoss: 0.126433\n",
      "Train Epoch: 1 [6528000/8596340 (76%)]\tLoss: 0.126724\n",
      "Train Epoch: 1 [6553600/8596340 (76%)]\tLoss: 0.126295\n",
      "Train Epoch: 1 [6579200/8596340 (77%)]\tLoss: 0.119475\n",
      "Train Epoch: 1 [6604800/8596340 (77%)]\tLoss: 0.126917\n",
      "Train Epoch: 1 [6630400/8596340 (77%)]\tLoss: 0.126907\n",
      "Train Epoch: 1 [6656000/8596340 (77%)]\tLoss: 0.127306\n",
      "Train Epoch: 1 [6681600/8596340 (78%)]\tLoss: 0.114914\n",
      "Train Epoch: 1 [6707200/8596340 (78%)]\tLoss: 0.122118\n",
      "Train Epoch: 1 [6732800/8596340 (78%)]\tLoss: 0.126068\n",
      "Train Epoch: 1 [6758400/8596340 (79%)]\tLoss: 0.127103\n",
      "Train Epoch: 1 [6784000/8596340 (79%)]\tLoss: 0.126813\n",
      "Train Epoch: 1 [6809600/8596340 (79%)]\tLoss: 0.123304\n",
      "Train Epoch: 1 [6835200/8596340 (80%)]\tLoss: 0.125018\n",
      "Train Epoch: 1 [6860800/8596340 (80%)]\tLoss: 0.122605\n",
      "Train Epoch: 1 [6886400/8596340 (80%)]\tLoss: 0.121235\n",
      "Train Epoch: 1 [6912000/8596340 (80%)]\tLoss: 0.123889\n",
      "Train Epoch: 1 [6937600/8596340 (81%)]\tLoss: 0.131999\n",
      "Train Epoch: 1 [6963200/8596340 (81%)]\tLoss: 0.124644\n",
      "Train Epoch: 1 [6988800/8596340 (81%)]\tLoss: 0.119460\n",
      "Train Epoch: 1 [7014400/8596340 (82%)]\tLoss: 0.121956\n",
      "Train Epoch: 1 [7040000/8596340 (82%)]\tLoss: 0.126330\n",
      "Train Epoch: 1 [7065600/8596340 (82%)]\tLoss: 0.123960\n",
      "Train Epoch: 1 [7091200/8596340 (82%)]\tLoss: 0.126676\n",
      "Train Epoch: 1 [7116800/8596340 (83%)]\tLoss: 0.118730\n",
      "Train Epoch: 1 [7142400/8596340 (83%)]\tLoss: 0.128740\n",
      "Train Epoch: 1 [7168000/8596340 (83%)]\tLoss: 0.121996\n",
      "Train Epoch: 1 [7193600/8596340 (84%)]\tLoss: 0.121925\n",
      "Train Epoch: 1 [7219200/8596340 (84%)]\tLoss: 0.122716\n",
      "Train Epoch: 1 [7244800/8596340 (84%)]\tLoss: 0.125437\n",
      "Train Epoch: 1 [7270400/8596340 (85%)]\tLoss: 0.124546\n",
      "Train Epoch: 1 [7296000/8596340 (85%)]\tLoss: 0.118939\n",
      "Train Epoch: 1 [7321600/8596340 (85%)]\tLoss: 0.120493\n",
      "Train Epoch: 1 [7347200/8596340 (85%)]\tLoss: 0.121348\n",
      "Train Epoch: 1 [7372800/8596340 (86%)]\tLoss: 0.123349\n",
      "Train Epoch: 1 [7398400/8596340 (86%)]\tLoss: 0.120140\n",
      "Train Epoch: 1 [7424000/8596340 (86%)]\tLoss: 0.123507\n",
      "Train Epoch: 1 [7449600/8596340 (87%)]\tLoss: 0.126711\n",
      "Train Epoch: 1 [7475200/8596340 (87%)]\tLoss: 0.120954\n",
      "Train Epoch: 1 [7500800/8596340 (87%)]\tLoss: 0.126401\n",
      "Train Epoch: 1 [7526400/8596340 (88%)]\tLoss: 0.130281\n",
      "Train Epoch: 1 [7552000/8596340 (88%)]\tLoss: 0.132472\n",
      "Train Epoch: 1 [7577600/8596340 (88%)]\tLoss: 0.123525\n",
      "Train Epoch: 1 [7603200/8596340 (88%)]\tLoss: 0.126229\n",
      "Train Epoch: 1 [7628800/8596340 (89%)]\tLoss: 0.123124\n",
      "Train Epoch: 1 [7654400/8596340 (89%)]\tLoss: 0.126760\n",
      "Train Epoch: 1 [7680000/8596340 (89%)]\tLoss: 0.123408\n",
      "Train Epoch: 1 [7705600/8596340 (90%)]\tLoss: 0.125443\n",
      "Train Epoch: 1 [7731200/8596340 (90%)]\tLoss: 0.127479\n",
      "Train Epoch: 1 [7756800/8596340 (90%)]\tLoss: 0.123188\n",
      "Train Epoch: 1 [7782400/8596340 (91%)]\tLoss: 0.117610\n",
      "Train Epoch: 1 [7808000/8596340 (91%)]\tLoss: 0.128662\n",
      "Train Epoch: 1 [7833600/8596340 (91%)]\tLoss: 0.123553\n",
      "Train Epoch: 1 [7859200/8596340 (91%)]\tLoss: 0.128458\n",
      "Train Epoch: 1 [7884800/8596340 (92%)]\tLoss: 0.123497\n",
      "Train Epoch: 1 [7910400/8596340 (92%)]\tLoss: 0.128531\n",
      "Train Epoch: 1 [7936000/8596340 (92%)]\tLoss: 0.123309\n",
      "Train Epoch: 1 [7961600/8596340 (93%)]\tLoss: 0.125276\n",
      "Train Epoch: 1 [7987200/8596340 (93%)]\tLoss: 0.123251\n",
      "Train Epoch: 1 [8012800/8596340 (93%)]\tLoss: 0.122093\n",
      "Train Epoch: 1 [8038400/8596340 (94%)]\tLoss: 0.123065\n",
      "Train Epoch: 1 [8064000/8596340 (94%)]\tLoss: 0.121558\n",
      "Train Epoch: 1 [8089600/8596340 (94%)]\tLoss: 0.125780\n",
      "Train Epoch: 1 [8115200/8596340 (94%)]\tLoss: 0.124171\n",
      "Train Epoch: 1 [8140800/8596340 (95%)]\tLoss: 0.124846\n",
      "Train Epoch: 1 [8166400/8596340 (95%)]\tLoss: 0.117307\n",
      "Train Epoch: 1 [8192000/8596340 (95%)]\tLoss: 0.122341\n",
      "Train Epoch: 1 [8217600/8596340 (96%)]\tLoss: 0.128662\n",
      "Train Epoch: 1 [8243200/8596340 (96%)]\tLoss: 0.121063\n",
      "Train Epoch: 1 [8268800/8596340 (96%)]\tLoss: 0.122144\n",
      "Train Epoch: 1 [8294400/8596340 (96%)]\tLoss: 0.127190\n",
      "Train Epoch: 1 [8320000/8596340 (97%)]\tLoss: 0.123011\n",
      "Train Epoch: 1 [8345600/8596340 (97%)]\tLoss: 0.130311\n",
      "Train Epoch: 1 [8371200/8596340 (97%)]\tLoss: 0.128012\n",
      "Train Epoch: 1 [8396800/8596340 (98%)]\tLoss: 0.123572\n",
      "Train Epoch: 1 [8422400/8596340 (98%)]\tLoss: 0.121248\n",
      "Train Epoch: 1 [8448000/8596340 (98%)]\tLoss: 0.124382\n",
      "Train Epoch: 1 [8473600/8596340 (99%)]\tLoss: 0.124007\n",
      "Train Epoch: 1 [8499200/8596340 (99%)]\tLoss: 0.124394\n",
      "Train Epoch: 1 [8524800/8596340 (99%)]\tLoss: 0.121580\n",
      "Train Epoch: 1 [8550400/8596340 (99%)]\tLoss: 0.121631\n",
      "Train Epoch: 1 [8576000/8596340 (100%)]\tLoss: 0.122952\n",
      "\n",
      "Train Epoch: 2 [25600/8596340 (0%)]\tLoss: 0.116941\n",
      "Train Epoch: 2 [51200/8596340 (1%)]\tLoss: 0.121256\n",
      "Train Epoch: 2 [76800/8596340 (1%)]\tLoss: 0.119956\n",
      "Train Epoch: 2 [102400/8596340 (1%)]\tLoss: 0.125538\n",
      "Train Epoch: 2 [128000/8596340 (1%)]\tLoss: 0.124830\n",
      "Train Epoch: 2 [153600/8596340 (2%)]\tLoss: 0.126649\n",
      "Train Epoch: 2 [179200/8596340 (2%)]\tLoss: 0.125483\n",
      "Train Epoch: 2 [204800/8596340 (2%)]\tLoss: 0.125378\n",
      "Train Epoch: 2 [230400/8596340 (3%)]\tLoss: 0.128981\n",
      "Train Epoch: 2 [256000/8596340 (3%)]\tLoss: 0.120630\n",
      "Train Epoch: 2 [281600/8596340 (3%)]\tLoss: 0.121210\n",
      "Train Epoch: 2 [307200/8596340 (4%)]\tLoss: 0.125773\n",
      "Train Epoch: 2 [332800/8596340 (4%)]\tLoss: 0.121231\n",
      "Train Epoch: 2 [358400/8596340 (4%)]\tLoss: 0.122174\n",
      "Train Epoch: 2 [384000/8596340 (4%)]\tLoss: 0.121717\n",
      "Train Epoch: 2 [409600/8596340 (5%)]\tLoss: 0.123621\n",
      "Train Epoch: 2 [435200/8596340 (5%)]\tLoss: 0.128597\n",
      "Train Epoch: 2 [460800/8596340 (5%)]\tLoss: 0.122303\n",
      "Train Epoch: 2 [486400/8596340 (6%)]\tLoss: 0.124899\n",
      "Train Epoch: 2 [512000/8596340 (6%)]\tLoss: 0.122097\n",
      "Train Epoch: 2 [537600/8596340 (6%)]\tLoss: 0.121569\n",
      "Train Epoch: 2 [563200/8596340 (7%)]\tLoss: 0.124091\n",
      "Train Epoch: 2 [588800/8596340 (7%)]\tLoss: 0.129397\n",
      "Train Epoch: 2 [614400/8596340 (7%)]\tLoss: 0.123145\n",
      "Train Epoch: 2 [640000/8596340 (7%)]\tLoss: 0.123742\n",
      "Train Epoch: 2 [665600/8596340 (8%)]\tLoss: 0.125374\n",
      "Train Epoch: 2 [691200/8596340 (8%)]\tLoss: 0.119302\n",
      "Train Epoch: 2 [716800/8596340 (8%)]\tLoss: 0.123034\n",
      "Train Epoch: 2 [742400/8596340 (9%)]\tLoss: 0.130776\n",
      "Train Epoch: 2 [768000/8596340 (9%)]\tLoss: 0.124224\n",
      "Train Epoch: 2 [793600/8596340 (9%)]\tLoss: 0.125032\n",
      "Train Epoch: 2 [819200/8596340 (10%)]\tLoss: 0.121494\n",
      "Train Epoch: 2 [844800/8596340 (10%)]\tLoss: 0.125192\n",
      "Train Epoch: 2 [870400/8596340 (10%)]\tLoss: 0.121845\n",
      "Train Epoch: 2 [896000/8596340 (10%)]\tLoss: 0.124816\n",
      "Train Epoch: 2 [921600/8596340 (11%)]\tLoss: 0.125102\n",
      "Train Epoch: 2 [947200/8596340 (11%)]\tLoss: 0.118891\n",
      "Train Epoch: 2 [972800/8596340 (11%)]\tLoss: 0.123724\n",
      "Train Epoch: 2 [998400/8596340 (12%)]\tLoss: 0.125836\n",
      "Train Epoch: 2 [1024000/8596340 (12%)]\tLoss: 0.122463\n",
      "Train Epoch: 2 [1049600/8596340 (12%)]\tLoss: 0.119937\n",
      "Train Epoch: 2 [1075200/8596340 (13%)]\tLoss: 0.124470\n",
      "Train Epoch: 2 [1100800/8596340 (13%)]\tLoss: 0.121082\n",
      "Train Epoch: 2 [1126400/8596340 (13%)]\tLoss: 0.125737\n",
      "Train Epoch: 2 [1152000/8596340 (13%)]\tLoss: 0.118538\n",
      "Train Epoch: 2 [1177600/8596340 (14%)]\tLoss: 0.122516\n",
      "Train Epoch: 2 [1203200/8596340 (14%)]\tLoss: 0.126447\n",
      "Train Epoch: 2 [1228800/8596340 (14%)]\tLoss: 0.123740\n",
      "Train Epoch: 2 [1254400/8596340 (15%)]\tLoss: 0.126140\n",
      "Train Epoch: 2 [1280000/8596340 (15%)]\tLoss: 0.126470\n",
      "Train Epoch: 2 [1305600/8596340 (15%)]\tLoss: 0.123139\n",
      "Train Epoch: 2 [1331200/8596340 (15%)]\tLoss: 0.123214\n",
      "Train Epoch: 2 [1356800/8596340 (16%)]\tLoss: 0.123539\n",
      "Train Epoch: 2 [1382400/8596340 (16%)]\tLoss: 0.128324\n",
      "Train Epoch: 2 [1408000/8596340 (16%)]\tLoss: 0.125647\n",
      "Train Epoch: 2 [1433600/8596340 (17%)]\tLoss: 0.124929\n",
      "Train Epoch: 2 [1459200/8596340 (17%)]\tLoss: 0.126003\n",
      "Train Epoch: 2 [1484800/8596340 (17%)]\tLoss: 0.130638\n",
      "Train Epoch: 2 [1510400/8596340 (18%)]\tLoss: 0.129406\n",
      "Train Epoch: 2 [1536000/8596340 (18%)]\tLoss: 0.124983\n",
      "Train Epoch: 2 [1561600/8596340 (18%)]\tLoss: 0.131804\n",
      "Train Epoch: 2 [1587200/8596340 (18%)]\tLoss: 0.119907\n",
      "Train Epoch: 2 [1612800/8596340 (19%)]\tLoss: 0.127218\n",
      "Train Epoch: 2 [1638400/8596340 (19%)]\tLoss: 0.123889\n",
      "Train Epoch: 2 [1664000/8596340 (19%)]\tLoss: 0.116558\n",
      "Train Epoch: 2 [1689600/8596340 (20%)]\tLoss: 0.128460\n",
      "Train Epoch: 2 [1715200/8596340 (20%)]\tLoss: 0.132177\n",
      "Train Epoch: 2 [1740800/8596340 (20%)]\tLoss: 0.121661\n",
      "Train Epoch: 2 [1766400/8596340 (21%)]\tLoss: 0.122894\n",
      "Train Epoch: 2 [1792000/8596340 (21%)]\tLoss: 0.121910\n",
      "Train Epoch: 2 [1817600/8596340 (21%)]\tLoss: 0.119155\n",
      "Train Epoch: 2 [1843200/8596340 (21%)]\tLoss: 0.123083\n",
      "Train Epoch: 2 [1868800/8596340 (22%)]\tLoss: 0.125446\n",
      "Train Epoch: 2 [1894400/8596340 (22%)]\tLoss: 0.124748\n",
      "Train Epoch: 2 [1920000/8596340 (22%)]\tLoss: 0.120963\n",
      "Train Epoch: 2 [1945600/8596340 (23%)]\tLoss: 0.116971\n",
      "Train Epoch: 2 [1971200/8596340 (23%)]\tLoss: 0.121954\n",
      "Train Epoch: 2 [1996800/8596340 (23%)]\tLoss: 0.127275\n",
      "Train Epoch: 2 [2022400/8596340 (24%)]\tLoss: 0.125643\n",
      "Train Epoch: 2 [2048000/8596340 (24%)]\tLoss: 0.127091\n",
      "Train Epoch: 2 [2073600/8596340 (24%)]\tLoss: 0.128809\n",
      "Train Epoch: 2 [2099200/8596340 (24%)]\tLoss: 0.124849\n",
      "Train Epoch: 2 [2124800/8596340 (25%)]\tLoss: 0.128307\n",
      "Train Epoch: 2 [2150400/8596340 (25%)]\tLoss: 0.122240\n",
      "Train Epoch: 2 [2176000/8596340 (25%)]\tLoss: 0.127133\n",
      "Train Epoch: 2 [2201600/8596340 (26%)]\tLoss: 0.125397\n",
      "Train Epoch: 2 [2227200/8596340 (26%)]\tLoss: 0.124939\n",
      "Train Epoch: 2 [2252800/8596340 (26%)]\tLoss: 0.123128\n",
      "Train Epoch: 2 [2278400/8596340 (27%)]\tLoss: 0.117109\n",
      "Train Epoch: 2 [2304000/8596340 (27%)]\tLoss: 0.121875\n",
      "Train Epoch: 2 [2329600/8596340 (27%)]\tLoss: 0.128598\n",
      "Train Epoch: 2 [2355200/8596340 (27%)]\tLoss: 0.123600\n",
      "Train Epoch: 2 [2380800/8596340 (28%)]\tLoss: 0.120667\n",
      "Train Epoch: 2 [2406400/8596340 (28%)]\tLoss: 0.122554\n",
      "Train Epoch: 2 [2432000/8596340 (28%)]\tLoss: 0.132092\n",
      "Train Epoch: 2 [2457600/8596340 (29%)]\tLoss: 0.121731\n",
      "Train Epoch: 2 [2483200/8596340 (29%)]\tLoss: 0.129130\n",
      "Train Epoch: 2 [2508800/8596340 (29%)]\tLoss: 0.125380\n",
      "Train Epoch: 2 [2534400/8596340 (29%)]\tLoss: 0.122777\n",
      "Train Epoch: 2 [2560000/8596340 (30%)]\tLoss: 0.123746\n",
      "Train Epoch: 2 [2585600/8596340 (30%)]\tLoss: 0.124678\n",
      "Train Epoch: 2 [2611200/8596340 (30%)]\tLoss: 0.122045\n",
      "Train Epoch: 2 [2636800/8596340 (31%)]\tLoss: 0.124024\n",
      "Train Epoch: 2 [2662400/8596340 (31%)]\tLoss: 0.125323\n",
      "Train Epoch: 2 [2688000/8596340 (31%)]\tLoss: 0.125941\n",
      "Train Epoch: 2 [2713600/8596340 (32%)]\tLoss: 0.121780\n",
      "Train Epoch: 2 [2739200/8596340 (32%)]\tLoss: 0.121463\n",
      "Train Epoch: 2 [2764800/8596340 (32%)]\tLoss: 0.128421\n",
      "Train Epoch: 2 [2790400/8596340 (32%)]\tLoss: 0.123010\n",
      "Train Epoch: 2 [2816000/8596340 (33%)]\tLoss: 0.124784\n",
      "Train Epoch: 2 [2841600/8596340 (33%)]\tLoss: 0.121713\n",
      "Train Epoch: 2 [2867200/8596340 (33%)]\tLoss: 0.127709\n",
      "Train Epoch: 2 [2892800/8596340 (34%)]\tLoss: 0.122758\n",
      "Train Epoch: 2 [2918400/8596340 (34%)]\tLoss: 0.121752\n",
      "Train Epoch: 2 [2944000/8596340 (34%)]\tLoss: 0.126653\n",
      "Train Epoch: 2 [2969600/8596340 (35%)]\tLoss: 0.128079\n",
      "Train Epoch: 2 [2995200/8596340 (35%)]\tLoss: 0.127316\n",
      "Train Epoch: 2 [3020800/8596340 (35%)]\tLoss: 0.130842\n",
      "Train Epoch: 2 [3046400/8596340 (35%)]\tLoss: 0.120578\n",
      "Train Epoch: 2 [3072000/8596340 (36%)]\tLoss: 0.123320\n",
      "Train Epoch: 2 [3097600/8596340 (36%)]\tLoss: 0.121886\n",
      "Train Epoch: 2 [3123200/8596340 (36%)]\tLoss: 0.129219\n",
      "Train Epoch: 2 [3148800/8596340 (37%)]\tLoss: 0.122594\n",
      "Train Epoch: 2 [3174400/8596340 (37%)]\tLoss: 0.123121\n",
      "Train Epoch: 2 [3200000/8596340 (37%)]\tLoss: 0.126191\n",
      "Train Epoch: 2 [3225600/8596340 (38%)]\tLoss: 0.125658\n",
      "Train Epoch: 2 [3251200/8596340 (38%)]\tLoss: 0.129129\n",
      "Train Epoch: 2 [3276800/8596340 (38%)]\tLoss: 0.121284\n",
      "Train Epoch: 2 [3302400/8596340 (38%)]\tLoss: 0.129467\n",
      "Train Epoch: 2 [3328000/8596340 (39%)]\tLoss: 0.130635\n",
      "Train Epoch: 2 [3353600/8596340 (39%)]\tLoss: 0.129779\n",
      "Train Epoch: 2 [3379200/8596340 (39%)]\tLoss: 0.121670\n",
      "Train Epoch: 2 [3404800/8596340 (40%)]\tLoss: 0.118909\n",
      "Train Epoch: 2 [3430400/8596340 (40%)]\tLoss: 0.123692\n",
      "Train Epoch: 2 [3456000/8596340 (40%)]\tLoss: 0.123913\n",
      "Train Epoch: 2 [3481600/8596340 (41%)]\tLoss: 0.122178\n",
      "Train Epoch: 2 [3507200/8596340 (41%)]\tLoss: 0.126351\n",
      "Train Epoch: 2 [3532800/8596340 (41%)]\tLoss: 0.122628\n",
      "Train Epoch: 2 [3558400/8596340 (41%)]\tLoss: 0.121112\n",
      "Train Epoch: 2 [3584000/8596340 (42%)]\tLoss: 0.121004\n",
      "Train Epoch: 2 [3609600/8596340 (42%)]\tLoss: 0.121513\n",
      "Train Epoch: 2 [3635200/8596340 (42%)]\tLoss: 0.122506\n",
      "Train Epoch: 2 [3660800/8596340 (43%)]\tLoss: 0.121403\n",
      "Train Epoch: 2 [3686400/8596340 (43%)]\tLoss: 0.123097\n",
      "Train Epoch: 2 [3712000/8596340 (43%)]\tLoss: 0.124828\n",
      "Train Epoch: 2 [3737600/8596340 (43%)]\tLoss: 0.125810\n",
      "Train Epoch: 2 [3763200/8596340 (44%)]\tLoss: 0.128099\n",
      "Train Epoch: 2 [3788800/8596340 (44%)]\tLoss: 0.128664\n",
      "Train Epoch: 2 [3814400/8596340 (44%)]\tLoss: 0.127897\n",
      "Train Epoch: 2 [3840000/8596340 (45%)]\tLoss: 0.123681\n",
      "Train Epoch: 2 [3865600/8596340 (45%)]\tLoss: 0.121619\n",
      "Train Epoch: 2 [3891200/8596340 (45%)]\tLoss: 0.129198\n",
      "Train Epoch: 2 [3916800/8596340 (46%)]\tLoss: 0.122397\n",
      "Train Epoch: 2 [3942400/8596340 (46%)]\tLoss: 0.122691\n",
      "Train Epoch: 2 [3968000/8596340 (46%)]\tLoss: 0.124280\n",
      "Train Epoch: 2 [3993600/8596340 (46%)]\tLoss: 0.127522\n",
      "Train Epoch: 2 [4019200/8596340 (47%)]\tLoss: 0.124309\n",
      "Train Epoch: 2 [4044800/8596340 (47%)]\tLoss: 0.129380\n",
      "Train Epoch: 2 [4070400/8596340 (47%)]\tLoss: 0.121428\n",
      "Train Epoch: 2 [4096000/8596340 (48%)]\tLoss: 0.124772\n",
      "Train Epoch: 2 [4121600/8596340 (48%)]\tLoss: 0.126630\n",
      "Train Epoch: 2 [4147200/8596340 (48%)]\tLoss: 0.121129\n",
      "Train Epoch: 2 [4172800/8596340 (49%)]\tLoss: 0.119059\n",
      "Train Epoch: 2 [4198400/8596340 (49%)]\tLoss: 0.120981\n",
      "Train Epoch: 2 [4224000/8596340 (49%)]\tLoss: 0.123633\n",
      "Train Epoch: 2 [4249600/8596340 (49%)]\tLoss: 0.128500\n",
      "Train Epoch: 2 [4275200/8596340 (50%)]\tLoss: 0.119391\n",
      "Train Epoch: 2 [4300800/8596340 (50%)]\tLoss: 0.125159\n",
      "Train Epoch: 2 [4326400/8596340 (50%)]\tLoss: 0.124138\n",
      "Train Epoch: 2 [4352000/8596340 (51%)]\tLoss: 0.123601\n",
      "Train Epoch: 2 [4377600/8596340 (51%)]\tLoss: 0.123396\n",
      "Train Epoch: 2 [4403200/8596340 (51%)]\tLoss: 0.125586\n",
      "Train Epoch: 2 [4428800/8596340 (52%)]\tLoss: 0.124572\n",
      "Train Epoch: 2 [4454400/8596340 (52%)]\tLoss: 0.132719\n",
      "Train Epoch: 2 [4480000/8596340 (52%)]\tLoss: 0.126916\n",
      "Train Epoch: 2 [4505600/8596340 (52%)]\tLoss: 0.119299\n",
      "Train Epoch: 2 [4531200/8596340 (53%)]\tLoss: 0.120515\n",
      "Train Epoch: 2 [4556800/8596340 (53%)]\tLoss: 0.126480\n",
      "Train Epoch: 2 [4582400/8596340 (53%)]\tLoss: 0.123963\n",
      "Train Epoch: 2 [4608000/8596340 (54%)]\tLoss: 0.124514\n",
      "Train Epoch: 2 [4633600/8596340 (54%)]\tLoss: 0.122371\n",
      "Train Epoch: 2 [4659200/8596340 (54%)]\tLoss: 0.120574\n",
      "Train Epoch: 2 [4684800/8596340 (54%)]\tLoss: 0.123846\n",
      "Train Epoch: 2 [4710400/8596340 (55%)]\tLoss: 0.120663\n",
      "Train Epoch: 2 [4736000/8596340 (55%)]\tLoss: 0.123705\n",
      "Train Epoch: 2 [4761600/8596340 (55%)]\tLoss: 0.121188\n",
      "Train Epoch: 2 [4787200/8596340 (56%)]\tLoss: 0.130001\n",
      "Train Epoch: 2 [4812800/8596340 (56%)]\tLoss: 0.119769\n",
      "Train Epoch: 2 [4838400/8596340 (56%)]\tLoss: 0.124064\n",
      "Train Epoch: 2 [4864000/8596340 (57%)]\tLoss: 0.124701\n",
      "Train Epoch: 2 [4889600/8596340 (57%)]\tLoss: 0.121200\n",
      "Train Epoch: 2 [4915200/8596340 (57%)]\tLoss: 0.125342\n",
      "Train Epoch: 2 [4940800/8596340 (57%)]\tLoss: 0.126890\n",
      "Train Epoch: 2 [4966400/8596340 (58%)]\tLoss: 0.124398\n",
      "Train Epoch: 2 [4992000/8596340 (58%)]\tLoss: 0.121971\n",
      "Train Epoch: 2 [5017600/8596340 (58%)]\tLoss: 0.120492\n",
      "Train Epoch: 2 [5043200/8596340 (59%)]\tLoss: 0.122372\n",
      "Train Epoch: 2 [5068800/8596340 (59%)]\tLoss: 0.121270\n",
      "Train Epoch: 2 [5094400/8596340 (59%)]\tLoss: 0.124047\n",
      "Train Epoch: 2 [5120000/8596340 (60%)]\tLoss: 0.128302\n",
      "Train Epoch: 2 [5145600/8596340 (60%)]\tLoss: 0.123997\n",
      "Train Epoch: 2 [5171200/8596340 (60%)]\tLoss: 0.127381\n",
      "Train Epoch: 2 [5196800/8596340 (60%)]\tLoss: 0.127116\n",
      "Train Epoch: 2 [5222400/8596340 (61%)]\tLoss: 0.121834\n",
      "Train Epoch: 2 [5248000/8596340 (61%)]\tLoss: 0.120365\n",
      "Train Epoch: 2 [5273600/8596340 (61%)]\tLoss: 0.121909\n",
      "Train Epoch: 2 [5299200/8596340 (62%)]\tLoss: 0.129624\n",
      "Train Epoch: 2 [5324800/8596340 (62%)]\tLoss: 0.129132\n",
      "Train Epoch: 2 [5350400/8596340 (62%)]\tLoss: 0.123616\n",
      "Train Epoch: 2 [5376000/8596340 (63%)]\tLoss: 0.129274\n",
      "Train Epoch: 2 [5401600/8596340 (63%)]\tLoss: 0.124848\n",
      "Train Epoch: 2 [5427200/8596340 (63%)]\tLoss: 0.120665\n",
      "Train Epoch: 2 [5452800/8596340 (63%)]\tLoss: 0.129877\n",
      "Train Epoch: 2 [5478400/8596340 (64%)]\tLoss: 0.124412\n",
      "Train Epoch: 2 [5504000/8596340 (64%)]\tLoss: 0.119750\n",
      "Train Epoch: 2 [5529600/8596340 (64%)]\tLoss: 0.129814\n",
      "Train Epoch: 2 [5555200/8596340 (65%)]\tLoss: 0.127890\n",
      "Train Epoch: 2 [5580800/8596340 (65%)]\tLoss: 0.122873\n",
      "Train Epoch: 2 [5606400/8596340 (65%)]\tLoss: 0.118404\n",
      "Train Epoch: 2 [5632000/8596340 (66%)]\tLoss: 0.125829\n",
      "Train Epoch: 2 [5657600/8596340 (66%)]\tLoss: 0.126909\n",
      "Train Epoch: 2 [5683200/8596340 (66%)]\tLoss: 0.119689\n",
      "Train Epoch: 2 [5708800/8596340 (66%)]\tLoss: 0.121897\n",
      "Train Epoch: 2 [5734400/8596340 (67%)]\tLoss: 0.119727\n",
      "Train Epoch: 2 [5760000/8596340 (67%)]\tLoss: 0.126519\n",
      "Train Epoch: 2 [5785600/8596340 (67%)]\tLoss: 0.122531\n",
      "Train Epoch: 2 [5811200/8596340 (68%)]\tLoss: 0.126676\n",
      "Train Epoch: 2 [5836800/8596340 (68%)]\tLoss: 0.125869\n",
      "Train Epoch: 2 [5862400/8596340 (68%)]\tLoss: 0.122141\n",
      "Train Epoch: 2 [5888000/8596340 (68%)]\tLoss: 0.124776\n",
      "Train Epoch: 2 [5913600/8596340 (69%)]\tLoss: 0.126128\n",
      "Train Epoch: 2 [5939200/8596340 (69%)]\tLoss: 0.122477\n",
      "Train Epoch: 2 [5964800/8596340 (69%)]\tLoss: 0.122167\n",
      "Train Epoch: 2 [5990400/8596340 (70%)]\tLoss: 0.123553\n",
      "Train Epoch: 2 [6016000/8596340 (70%)]\tLoss: 0.123691\n",
      "Train Epoch: 2 [6041600/8596340 (70%)]\tLoss: 0.122683\n",
      "Train Epoch: 2 [6067200/8596340 (71%)]\tLoss: 0.126536\n",
      "Train Epoch: 2 [6092800/8596340 (71%)]\tLoss: 0.121870\n",
      "Train Epoch: 2 [6118400/8596340 (71%)]\tLoss: 0.124581\n",
      "Train Epoch: 2 [6144000/8596340 (71%)]\tLoss: 0.124505\n",
      "Train Epoch: 2 [6169600/8596340 (72%)]\tLoss: 0.123999\n",
      "Train Epoch: 2 [6195200/8596340 (72%)]\tLoss: 0.125272\n",
      "Train Epoch: 2 [6220800/8596340 (72%)]\tLoss: 0.123145\n",
      "Train Epoch: 2 [6246400/8596340 (73%)]\tLoss: 0.125220\n",
      "Train Epoch: 2 [6272000/8596340 (73%)]\tLoss: 0.125033\n",
      "Train Epoch: 2 [6297600/8596340 (73%)]\tLoss: 0.120655\n",
      "Train Epoch: 2 [6323200/8596340 (74%)]\tLoss: 0.121013\n",
      "Train Epoch: 2 [6348800/8596340 (74%)]\tLoss: 0.125964\n",
      "Train Epoch: 2 [6374400/8596340 (74%)]\tLoss: 0.123242\n",
      "Train Epoch: 2 [6400000/8596340 (74%)]\tLoss: 0.127157\n",
      "Train Epoch: 2 [6425600/8596340 (75%)]\tLoss: 0.127491\n",
      "Train Epoch: 2 [6451200/8596340 (75%)]\tLoss: 0.125557\n",
      "Train Epoch: 2 [6476800/8596340 (75%)]\tLoss: 0.126693\n",
      "Train Epoch: 2 [6502400/8596340 (76%)]\tLoss: 0.120344\n",
      "Train Epoch: 2 [6528000/8596340 (76%)]\tLoss: 0.122414\n",
      "Train Epoch: 2 [6553600/8596340 (76%)]\tLoss: 0.125072\n",
      "Train Epoch: 2 [6579200/8596340 (77%)]\tLoss: 0.121421\n",
      "Train Epoch: 2 [6604800/8596340 (77%)]\tLoss: 0.123992\n",
      "Train Epoch: 2 [6630400/8596340 (77%)]\tLoss: 0.121845\n",
      "Train Epoch: 2 [6656000/8596340 (77%)]\tLoss: 0.117118\n",
      "Train Epoch: 2 [6681600/8596340 (78%)]\tLoss: 0.119584\n",
      "Train Epoch: 2 [6707200/8596340 (78%)]\tLoss: 0.120933\n",
      "Train Epoch: 2 [6732800/8596340 (78%)]\tLoss: 0.122220\n",
      "Train Epoch: 2 [6758400/8596340 (79%)]\tLoss: 0.126477\n",
      "Train Epoch: 2 [6784000/8596340 (79%)]\tLoss: 0.124960\n",
      "Train Epoch: 2 [6809600/8596340 (79%)]\tLoss: 0.126624\n",
      "Train Epoch: 2 [6835200/8596340 (80%)]\tLoss: 0.126342\n",
      "Train Epoch: 2 [6860800/8596340 (80%)]\tLoss: 0.121989\n",
      "Train Epoch: 2 [6886400/8596340 (80%)]\tLoss: 0.121872\n",
      "Train Epoch: 2 [6912000/8596340 (80%)]\tLoss: 0.118649\n",
      "Train Epoch: 2 [6937600/8596340 (81%)]\tLoss: 0.120486\n",
      "Train Epoch: 2 [6963200/8596340 (81%)]\tLoss: 0.123060\n",
      "Train Epoch: 2 [6988800/8596340 (81%)]\tLoss: 0.126333\n",
      "Train Epoch: 2 [7014400/8596340 (82%)]\tLoss: 0.120917\n",
      "Train Epoch: 2 [7040000/8596340 (82%)]\tLoss: 0.126805\n",
      "Train Epoch: 2 [7065600/8596340 (82%)]\tLoss: 0.121439\n",
      "Train Epoch: 2 [7091200/8596340 (82%)]\tLoss: 0.123446\n",
      "Train Epoch: 2 [7116800/8596340 (83%)]\tLoss: 0.125563\n",
      "Train Epoch: 2 [7142400/8596340 (83%)]\tLoss: 0.120111\n",
      "Train Epoch: 2 [7168000/8596340 (83%)]\tLoss: 0.125250\n",
      "Train Epoch: 2 [7193600/8596340 (84%)]\tLoss: 0.124794\n",
      "Train Epoch: 2 [7219200/8596340 (84%)]\tLoss: 0.116373\n",
      "Train Epoch: 2 [7244800/8596340 (84%)]\tLoss: 0.121309\n",
      "Train Epoch: 2 [7270400/8596340 (85%)]\tLoss: 0.118397\n",
      "Train Epoch: 2 [7296000/8596340 (85%)]\tLoss: 0.124006\n",
      "Train Epoch: 2 [7321600/8596340 (85%)]\tLoss: 0.121083\n",
      "Train Epoch: 2 [7347200/8596340 (85%)]\tLoss: 0.123079\n",
      "Train Epoch: 2 [7372800/8596340 (86%)]\tLoss: 0.125903\n",
      "Train Epoch: 2 [7398400/8596340 (86%)]\tLoss: 0.122472\n",
      "Train Epoch: 2 [7424000/8596340 (86%)]\tLoss: 0.125933\n",
      "Train Epoch: 2 [7449600/8596340 (87%)]\tLoss: 0.124216\n",
      "Train Epoch: 2 [7475200/8596340 (87%)]\tLoss: 0.120108\n",
      "Train Epoch: 2 [7500800/8596340 (87%)]\tLoss: 0.123980\n",
      "Train Epoch: 2 [7526400/8596340 (88%)]\tLoss: 0.122496\n",
      "Train Epoch: 2 [7552000/8596340 (88%)]\tLoss: 0.126140\n",
      "Train Epoch: 2 [7577600/8596340 (88%)]\tLoss: 0.124394\n",
      "Train Epoch: 2 [7603200/8596340 (88%)]\tLoss: 0.125175\n",
      "Train Epoch: 2 [7628800/8596340 (89%)]\tLoss: 0.122704\n",
      "Train Epoch: 2 [7654400/8596340 (89%)]\tLoss: 0.127594\n",
      "Train Epoch: 2 [7680000/8596340 (89%)]\tLoss: 0.126173\n",
      "Train Epoch: 2 [7705600/8596340 (90%)]\tLoss: 0.127660\n",
      "Train Epoch: 2 [7731200/8596340 (90%)]\tLoss: 0.126014\n",
      "Train Epoch: 2 [7756800/8596340 (90%)]\tLoss: 0.122861\n",
      "Train Epoch: 2 [7782400/8596340 (91%)]\tLoss: 0.123282\n",
      "Train Epoch: 2 [7808000/8596340 (91%)]\tLoss: 0.126697\n",
      "Train Epoch: 2 [7833600/8596340 (91%)]\tLoss: 0.122791\n",
      "Train Epoch: 2 [7859200/8596340 (91%)]\tLoss: 0.119010\n",
      "Train Epoch: 2 [7884800/8596340 (92%)]\tLoss: 0.118506\n",
      "Train Epoch: 2 [7910400/8596340 (92%)]\tLoss: 0.128579\n",
      "Train Epoch: 2 [7936000/8596340 (92%)]\tLoss: 0.128000\n",
      "Train Epoch: 2 [7961600/8596340 (93%)]\tLoss: 0.125833\n",
      "Train Epoch: 2 [7987200/8596340 (93%)]\tLoss: 0.120471\n",
      "Train Epoch: 2 [8012800/8596340 (93%)]\tLoss: 0.119417\n",
      "Train Epoch: 2 [8038400/8596340 (94%)]\tLoss: 0.122193\n",
      "Train Epoch: 2 [8064000/8596340 (94%)]\tLoss: 0.124921\n",
      "Train Epoch: 2 [8089600/8596340 (94%)]\tLoss: 0.125327\n",
      "Train Epoch: 2 [8115200/8596340 (94%)]\tLoss: 0.123695\n",
      "Train Epoch: 2 [8140800/8596340 (95%)]\tLoss: 0.119965\n",
      "Train Epoch: 2 [8166400/8596340 (95%)]\tLoss: 0.122762\n",
      "Train Epoch: 2 [8192000/8596340 (95%)]\tLoss: 0.123343\n",
      "Train Epoch: 2 [8217600/8596340 (96%)]\tLoss: 0.118889\n",
      "Train Epoch: 2 [8243200/8596340 (96%)]\tLoss: 0.121778\n",
      "Train Epoch: 2 [8268800/8596340 (96%)]\tLoss: 0.121949\n",
      "Train Epoch: 2 [8294400/8596340 (96%)]\tLoss: 0.121627\n",
      "Train Epoch: 2 [8320000/8596340 (97%)]\tLoss: 0.127442\n",
      "Train Epoch: 2 [8345600/8596340 (97%)]\tLoss: 0.123252\n",
      "Train Epoch: 2 [8371200/8596340 (97%)]\tLoss: 0.126786\n",
      "Train Epoch: 2 [8396800/8596340 (98%)]\tLoss: 0.124357\n",
      "Train Epoch: 2 [8422400/8596340 (98%)]\tLoss: 0.121896\n",
      "Train Epoch: 2 [8448000/8596340 (98%)]\tLoss: 0.126951\n",
      "Train Epoch: 2 [8473600/8596340 (99%)]\tLoss: 0.123908\n",
      "Train Epoch: 2 [8499200/8596340 (99%)]\tLoss: 0.123517\n",
      "Train Epoch: 2 [8524800/8596340 (99%)]\tLoss: 0.129006\n",
      "Train Epoch: 2 [8550400/8596340 (99%)]\tLoss: 0.127851\n",
      "Train Epoch: 2 [8576000/8596340 (100%)]\tLoss: 0.120992\n",
      "\n",
      "CPU times: user 23min 13s, sys: 17.3 s, total: 23min 30s\n",
      "Wall time: 23min 27s\n"
     ]
    }
   ],
   "source": [
    "%%time\n",
    "model, train_losses, _, _ = train_model(\n",
    "                model, all_train_dl, None, optimizer, criterion,\n",
    "                n_epochs=2, USE_CUDA=USE_CUDA, print_every=800)"
   ]
  },
  {
   "cell_type": "code",
   "execution_count": 74,
   "metadata": {},
   "outputs": [
    {
     "data": {
      "text/plain": [
       "<matplotlib.axes._subplots.AxesSubplot at 0x7f94b3cb0b00>"
      ]
     },
     "execution_count": 74,
     "metadata": {},
     "output_type": "execute_result"
    },
    {
     "data": {
      "image/png": "[encoded data removed]",
      "text/plain": [
       "<matplotlib.figure.Figure at 0x7f94b3cb0470>"
      ]
     },
     "metadata": {
      "image/png": {
       "height": 248,
       "width": 387
      }
     },
     "output_type": "display_data"
    }
   ],
   "source": [
    "train_losses = pd.Series(train_losses)\n",
    "train_losses.plot()"
   ]
  },
  {
   "cell_type": "code",
   "execution_count": 75,
   "metadata": {},
   "outputs": [],
   "source": [
    "torch.save(model.state_dict(), NEURALNET/'AllTrain_StructuredNet.pkl')"
   ]
  },
  {
   "cell_type": "code",
   "execution_count": 78,
   "metadata": {},
   "outputs": [],
   "source": [
    "from src.structured_lstm import get_predictions"
   ]
  },
  {
   "cell_type": "code",
   "execution_count": 79,
   "metadata": {},
   "outputs": [
    {
     "name": "stdout",
     "output_type": "stream",
     "text": [
      "[0/484758 (0%)]\n",
      "[153600/484758 (32%)]\n",
      "[307200/484758 (63%)]\n",
      "[460800/484758 (95%)]\n"
     ]
    }
   ],
   "source": [
    "targets, preds = get_predictions(model, test_dl, USE_CUDA=True)"
   ]
  },
  {
   "cell_type": "code",
   "execution_count": 80,
   "metadata": {},
   "outputs": [],
   "source": [
    "test[target_col] = preds"
   ]
  },
  {
   "cell_type": "markdown",
   "metadata": {},
   "source": [
    "## Submission"
   ]
  },
  {
   "cell_type": "code",
   "execution_count": 81,
   "metadata": {},
   "outputs": [],
   "source": [
    "submission = pd.read_csv(RAW/'sample_submission.csv', low_memory=False)\n",
    "submission = pd.merge(submission[['PredictionIdx']], test[['PredictionIdx', target_col]], \n",
    "                      how='left', on='PredictionIdx')"
   ]
  },
  {
   "cell_type": "code",
   "execution_count": 82,
   "metadata": {},
   "outputs": [
    {
     "data": {
      "text/plain": [
       "count    4.847580e+05\n",
       "mean     1.851676e-02\n",
       "std      3.054075e-02\n",
       "min      8.888772e-09\n",
       "25%      5.456142e-03\n",
       "50%      9.974612e-03\n",
       "75%      2.006161e-02\n",
       "max      9.997458e-01\n",
       "Name: CustomerInterest, dtype: float64"
      ]
     },
     "execution_count": 82,
     "metadata": {},
     "output_type": "execute_result"
    }
   ],
   "source": [
    "submission[target_col].describe()"
   ]
  },
  {
   "cell_type": "code",
   "execution_count": 83,
   "metadata": {},
   "outputs": [
    {
     "data": {
      "text/html": [
       "<div>\n",
       "<style scoped>\n",
       "    .dataframe tbody tr th:only-of-type {\n",
       "        vertical-align: middle;\n",
       "    }\n",
       "\n",
       "    .dataframe tbody tr th {\n",
       "        vertical-align: top;\n",
       "    }\n",
       "\n",
       "    .dataframe thead th {\n",
       "        text-align: right;\n",
       "    }\n",
       "</style>\n",
       "<table border=\"1\" class=\"dataframe\">\n",
       "  <thead>\n",
       "    <tr style=\"text-align: right;\">\n",
       "      <th></th>\n",
       "      <th>PredictionIdx</th>\n",
       "      <th>CustomerInterest</th>\n",
       "    </tr>\n",
       "  </thead>\n",
       "  <tbody>\n",
       "    <tr>\n",
       "      <th>0</th>\n",
       "      <td>a1e0d80784</td>\n",
       "      <td>0.007760</td>\n",
       "    </tr>\n",
       "    <tr>\n",
       "      <th>1</th>\n",
       "      <td>c2cc6cc2a8</td>\n",
       "      <td>0.028238</td>\n",
       "    </tr>\n",
       "    <tr>\n",
       "      <th>2</th>\n",
       "      <td>a8e94f6344</td>\n",
       "      <td>0.005077</td>\n",
       "    </tr>\n",
       "    <tr>\n",
       "      <th>3</th>\n",
       "      <td>758bae1e35</td>\n",
       "      <td>0.001098</td>\n",
       "    </tr>\n",
       "    <tr>\n",
       "      <th>4</th>\n",
       "      <td>02ab378ee8</td>\n",
       "      <td>0.002522</td>\n",
       "    </tr>\n",
       "  </tbody>\n",
       "</table>\n",
       "</div>"
      ],
      "text/plain": [
       "  PredictionIdx  CustomerInterest\n",
       "0    a1e0d80784          0.007760\n",
       "1    c2cc6cc2a8          0.028238\n",
       "2    a8e94f6344          0.005077\n",
       "3    758bae1e35          0.001098\n",
       "4    02ab378ee8          0.002522"
      ]
     },
     "execution_count": 83,
     "metadata": {},
     "output_type": "execute_result"
    }
   ],
   "source": [
    "submission.head()"
   ]
  },
  {
   "cell_type": "code",
   "execution_count": 84,
   "metadata": {},
   "outputs": [
    {
     "data": {
      "text/plain": [
       "<matplotlib.axes._subplots.AxesSubplot at 0x7f94f0c833c8>"
      ]
     },
     "execution_count": 84,
     "metadata": {},
     "output_type": "execute_result"
    },
    {
     "data": {
      "image/png": "[encoded data removed]",
      "text/plain": [
       "<matplotlib.figure.Figure at 0x7f94b2477da0>"
      ]
     },
     "metadata": {
      "image/png": {
       "height": 248,
       "width": 394
      }
     },
     "output_type": "display_data"
    }
   ],
   "source": [
    "submission[target_col].hist(bins=50)"
   ]
  },
  {
   "cell_type": "code",
   "execution_count": 85,
   "metadata": {},
   "outputs": [],
   "source": [
    "submission.to_csv(SUBMISSIONS/'RA06-29-StructuredLSTM_2018.csv', index=False)"
   ]
  },
  {
   "cell_type": "code",
   "execution_count": null,
   "metadata": {},
   "outputs": [],
   "source": []
  }
 ],
 "metadata": {
  "kernelspec": {
   "display_name": "Python 3",
   "language": "python",
   "name": "python3"
  },
  "language_info": {
   "codemirror_mode": {
    "name": "ipython",
    "version": 3
   },
   "file_extension": ".py",
   "mimetype": "text/x-python",
   "name": "python",
   "nbconvert_exporter": "python",
   "pygments_lexer": "ipython3",
   "version": "3.6.4"
  }
 },
 "nbformat": 4,
 "nbformat_minor": 2
}
